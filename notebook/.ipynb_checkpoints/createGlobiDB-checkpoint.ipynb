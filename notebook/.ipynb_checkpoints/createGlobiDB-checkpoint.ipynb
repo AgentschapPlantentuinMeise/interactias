{
 "cells": [
  {
   "cell_type": "raw",
   "metadata": {},
   "source": [
    "# Create the file globi.db\n",
    "\n",
    "To speed up the processing of data from GLOBI it is better to use it as a SQLITE database"
   ]
  },
  {
   "cell_type": "code",
   "execution_count": 1,
   "metadata": {},
   "outputs": [
    {
     "name": "stdout",
     "output_type": "stream",
     "text": [
      "3.7.3 (default, Mar 27 2019, 17:13:21) [MSC v.1915 64 bit (AMD64)]\n"
     ]
    }
   ],
   "source": [
    "import pandas as pd\n",
    "import sys\n",
    "print(sys.version)\n",
    "\n",
    "#Python 3.7.4 (default, Aug 9 2019, 18:34:13) [MSC v.1915 64 bit (AMD64)]\n",
    "#pygbif 0.3.0"
   ]
  },
  {
   "cell_type": "markdown",
   "metadata": {},
   "source": [
    "## Create a SQLite database with APSW"
   ]
  },
  {
   "cell_type": "code",
   "execution_count": 2,
   "metadata": {},
   "outputs": [],
   "source": [
    "import sqlite3\n",
    "from sqlite3 import Error"
   ]
  },
  {
   "cell_type": "code",
   "execution_count": 3,
   "metadata": {},
   "outputs": [],
   "source": [
    "database = r\"..\\data\\globi.db\"\n",
    "try:\n",
    "    conn = sqlite3.connect(database)\n",
    "except Error as e:\n",
    "    print(e)"
   ]
  },
  {
   "cell_type": "code",
   "execution_count": 4,
   "metadata": {},
   "outputs": [],
   "source": [
    "\n",
    " \n",
    "sql_create_globi_table = \"\"\" CREATE TABLE IF NOT EXISTS globi (\n",
    "                                                            sourceTaxonId,\n",
    "                                                            sourceTaxonIds,\n",
    "                                                            sourceTaxonName,\n",
    "                                                            sourceTaxonRank,\n",
    "                                                            sourceTaxonPathNames,\n",
    "                                                            sourceTaxonPathIds,\n",
    "                                                            sourceTaxonPathRankNames,\n",
    "                                                            sourceTaxonSpeciesName,\n",
    "                                                            sourceTaxonSpeciesId,\n",
    "                                                            sourceTaxonGenusName,\n",
    "                                                            sourceTaxonGenusId,\n",
    "                                                            sourceTaxonFamilyName,\n",
    "                                                            sourceTaxonFamilyId,\n",
    "                                                            sourceTaxonOrderName,\n",
    "                                                            sourceTaxonOrderId,\n",
    "                                                            sourceTaxonClassName,\n",
    "                                                            sourceTaxonClassId,\n",
    "                                                            sourceTaxonPhylumName,\n",
    "                                                            sourceTaxonPhylumId,\n",
    "                                                            sourceTaxonKingdomName,\n",
    "                                                            sourceTaxonKingdomId,\n",
    "                                                            sourceId,\n",
    "                                                            sourceOccurrenceId,\n",
    "                                                            sourceCatalogNumber,\n",
    "                                                            sourceBasisOfRecordId,\n",
    "                                                            sourceBasisOfRecordName,\n",
    "                                                            sourceLifeStageId,\n",
    "                                                            sourceLifeStageName,\n",
    "                                                            sourceBodyPartId,\n",
    "                                                            sourceBodyPartName,\n",
    "                                                            sourcePhysiologicalStateId,\n",
    "                                                            sourcePhysiologicalStateName,\n",
    "                                                            sourceSexId,\n",
    "                                                            sourceSexName,\n",
    "                                                            interactionTypeName,\n",
    "                                                            interactionTypeId,\n",
    "                                                            targetTaxonId,\n",
    "                                                            targetTaxonIds,\n",
    "                                                            targetTaxonName,\n",
    "                                                            targetTaxonRank,\n",
    "                                                            targetTaxonPathNames,\n",
    "                                                            targetTaxonPathIds,\n",
    "                                                            targetTaxonPathRankNames,\n",
    "                                                            targetTaxonSpeciesName,\n",
    "                                                            targetTaxonSpeciesId,\n",
    "                                                            targetTaxonGenusName,\n",
    "                                                            targetTaxonGenusId,\n",
    "                                                            targetTaxonFamilyName,\n",
    "                                                            targetTaxonFamilyId,\n",
    "                                                            targetTaxonOrderName,\n",
    "                                                            targetTaxonOrderId,\n",
    "                                                            targetTaxonClassName,\n",
    "                                                            targetTaxonClassId,\n",
    "                                                            targetTaxonPhylumName,\n",
    "                                                            targetTaxonPhylumId,\n",
    "                                                            targetTaxonKingdomName,\n",
    "                                                            targetTaxonKingdomId,\n",
    "                                                            targetId,\n",
    "                                                            targetOccurrenceId,\n",
    "                                                            targetCatalogNumber,\n",
    "                                                            targetBasisOfRecordId,\n",
    "                                                            targetBasisOfRecordName,\n",
    "                                                            targetLifeStageId,\n",
    "                                                            targetLifeStageName,\n",
    "                                                            targetBodyPartId,\n",
    "                                                            targetBodyPartName,\n",
    "                                                            targetPhysiologicalStateId,\n",
    "                                                            targetPhysiologicalStateName,\n",
    "                                                            targetSexId,\n",
    "                                                            targetSexName,\n",
    "                                                            decimalLatitude,\n",
    "                                                            decimalLongitude,\n",
    "                                                            localityId,\n",
    "                                                            localityName,\n",
    "                                                            eventDateUnixEpoch,\n",
    "                                                            argumentTypeId,\n",
    "                                                            referenceCitation,\n",
    "                                                            referenceDoi,\n",
    "                                                            referenceUrl,\n",
    "                                                            sourceCitation,\n",
    "                                                            sourceNamespace,\n",
    "                                                            sourceArchiveURI,\n",
    "                                                            sourceDOI,\n",
    "                                                            sourceLastSeenAtUnixEpoch\n",
    "                                                        ); \"\"\""
   ]
  },
  {
   "cell_type": "code",
   "execution_count": 5,
   "metadata": {},
   "outputs": [],
   "source": [
    "# create table\n",
    "try:\n",
    "    conn.execute(sql_create_globi_table)\n",
    "except Error as e:\n",
    "    print(e)"
   ]
  },
  {
   "cell_type": "markdown",
   "metadata": {},
   "source": [
    "## Clear down the table before filling it up again"
   ]
  },
  {
   "cell_type": "code",
   "execution_count": 6,
   "metadata": {
    "scrolled": true
   },
   "outputs": [
    {
     "data": {
      "text/plain": [
       "<sqlite3.Cursor at 0x227e45fc960>"
      ]
     },
     "execution_count": 6,
     "metadata": {},
     "output_type": "execute_result"
    }
   ],
   "source": [
    "conn.execute('DELETE FROM globi')"
   ]
  },
  {
   "cell_type": "markdown",
   "metadata": {},
   "source": [
    "## Load the table"
   ]
  },
  {
   "cell_type": "code",
   "execution_count": 7,
   "metadata": {
    "scrolled": true
   },
   "outputs": [
    {
     "ename": "KeyboardInterrupt",
     "evalue": "",
     "output_type": "error",
     "traceback": [
      "\u001b[1;31m---------------------------------------------------------------------------\u001b[0m",
      "\u001b[1;31mKeyboardInterrupt\u001b[0m                         Traceback (most recent call last)",
      "\u001b[1;32m<ipython-input-7-8daf03bac44c>\u001b[0m in \u001b[0;36m<module>\u001b[1;34m\u001b[0m\n\u001b[0;32m      1\u001b[0m \u001b[1;32mwith\u001b[0m \u001b[0mopen\u001b[0m\u001b[1;33m(\u001b[0m\u001b[1;34mr\"D:\\Documents\\notebooks\\interactias\\data\\interactions.tsv\"\u001b[0m\u001b[1;33m,\u001b[0m \u001b[1;34m\"r\"\u001b[0m\u001b[1;33m,\u001b[0m \u001b[0mencoding\u001b[0m\u001b[1;33m=\u001b[0m\u001b[1;34m'utf-8'\u001b[0m\u001b[1;33m)\u001b[0m \u001b[1;32mas\u001b[0m \u001b[0mf\u001b[0m\u001b[1;33m:\u001b[0m\u001b[1;33m\u001b[0m\u001b[1;33m\u001b[0m\u001b[0m\n\u001b[1;32m----> 2\u001b[1;33m     \u001b[0mrows\u001b[0m \u001b[1;33m=\u001b[0m \u001b[0mf\u001b[0m\u001b[1;33m.\u001b[0m\u001b[0mreadlines\u001b[0m\u001b[1;33m(\u001b[0m\u001b[1;33m)\u001b[0m\u001b[1;33m\u001b[0m\u001b[1;33m\u001b[0m\u001b[0m\n\u001b[0m\u001b[0;32m      3\u001b[0m     \u001b[1;32mfor\u001b[0m \u001b[0mrow\u001b[0m \u001b[1;32min\u001b[0m \u001b[0mrows\u001b[0m\u001b[1;33m:\u001b[0m\u001b[1;33m\u001b[0m\u001b[1;33m\u001b[0m\u001b[0m\n\u001b[0;32m      4\u001b[0m         \u001b[0mfields\u001b[0m \u001b[1;33m=\u001b[0m \u001b[0mrow\u001b[0m\u001b[1;33m.\u001b[0m\u001b[0msplit\u001b[0m\u001b[1;33m(\u001b[0m\u001b[1;34m'\\t'\u001b[0m\u001b[1;33m)\u001b[0m\u001b[1;33m\u001b[0m\u001b[1;33m\u001b[0m\u001b[0m\n\u001b[0;32m      5\u001b[0m         conn.execute(\"\"\"INSERT INTO globi (sourceTaxonId, sourceTaxonIds, sourceTaxonName, sourceTaxonRank, \\\n",
      "\u001b[1;32mD:\\Documents\\Anaconda3\\lib\\codecs.py\u001b[0m in \u001b[0;36mdecode\u001b[1;34m(self, input, final)\u001b[0m\n\u001b[0;32m    317\u001b[0m         \u001b[1;32mraise\u001b[0m \u001b[0mNotImplementedError\u001b[0m\u001b[1;33m\u001b[0m\u001b[1;33m\u001b[0m\u001b[0m\n\u001b[0;32m    318\u001b[0m \u001b[1;33m\u001b[0m\u001b[0m\n\u001b[1;32m--> 319\u001b[1;33m     \u001b[1;32mdef\u001b[0m \u001b[0mdecode\u001b[0m\u001b[1;33m(\u001b[0m\u001b[0mself\u001b[0m\u001b[1;33m,\u001b[0m \u001b[0minput\u001b[0m\u001b[1;33m,\u001b[0m \u001b[0mfinal\u001b[0m\u001b[1;33m=\u001b[0m\u001b[1;32mFalse\u001b[0m\u001b[1;33m)\u001b[0m\u001b[1;33m:\u001b[0m\u001b[1;33m\u001b[0m\u001b[1;33m\u001b[0m\u001b[0m\n\u001b[0m\u001b[0;32m    320\u001b[0m         \u001b[1;31m# decode input (taking the buffer into account)\u001b[0m\u001b[1;33m\u001b[0m\u001b[1;33m\u001b[0m\u001b[1;33m\u001b[0m\u001b[0m\n\u001b[0;32m    321\u001b[0m         \u001b[0mdata\u001b[0m \u001b[1;33m=\u001b[0m \u001b[0mself\u001b[0m\u001b[1;33m.\u001b[0m\u001b[0mbuffer\u001b[0m \u001b[1;33m+\u001b[0m \u001b[0minput\u001b[0m\u001b[1;33m\u001b[0m\u001b[1;33m\u001b[0m\u001b[0m\n",
      "\u001b[1;31mKeyboardInterrupt\u001b[0m: "
     ]
    }
   ],
   "source": [
    "with open(r\"D:\\Documents\\notebooks\\interactias\\data\\interactions.tsv\", \"r\", encoding='utf-8') as f:        \n",
    "    rows = f.readlines()\n",
    "    for row in rows:\n",
    "        fields = row.split('\\t')\n",
    "        conn.execute(\"\"\"INSERT INTO globi (sourceTaxonId, sourceTaxonIds, sourceTaxonName, sourceTaxonRank, \\\n",
    "                                sourceTaxonPathNames, sourceTaxonPathIds, sourceTaxonPathRankNames, sourceTaxonSpeciesName, \\\n",
    "                                sourceTaxonSpeciesId, sourceTaxonGenusName, sourceTaxonGenusId, sourceTaxonFamilyName, \\\n",
    "                                sourceTaxonFamilyId, sourceTaxonOrderName, sourceTaxonOrderId, sourceTaxonClassName, \\\n",
    "                                sourceTaxonClassId, sourceTaxonPhylumName, sourceTaxonPhylumId, sourceTaxonKingdomName, \\\n",
    "                                sourceTaxonKingdomId, sourceId, sourceOccurrenceId, sourceCatalogNumber, sourceBasisOfRecordId, \\\n",
    "                                sourceBasisOfRecordName, sourceLifeStageId, sourceLifeStageName, sourceBodyPartId, \\\n",
    "                                sourceBodyPartName, sourcePhysiologicalStateId, sourcePhysiologicalStateName, \\\n",
    "                                sourceSexId, sourceSexName, \\\n",
    "                                interactionTypeName, interactionTypeId, targetTaxonId, targetTaxonIds, targetTaxonName, \\\n",
    "                                targetTaxonRank, targetTaxonPathNames, targetTaxonPathIds, targetTaxonPathRankNames, \\\n",
    "                                targetTaxonSpeciesName, targetTaxonSpeciesId, targetTaxonGenusName, targetTaxonGenusId, \\\n",
    "                                targetTaxonFamilyName, targetTaxonFamilyId, targetTaxonOrderName, targetTaxonOrderId, \\\n",
    "                                targetTaxonClassName, targetTaxonClassId, targetTaxonPhylumName, targetTaxonPhylumId, \\\n",
    "                                targetTaxonKingdomName, targetTaxonKingdomId, targetId, targetOccurrenceId, targetCatalogNumber, \\\n",
    "                                targetBasisOfRecordId, targetBasisOfRecordName, targetLifeStageId, targetLifeStageName, \\\n",
    "                                targetBodyPartId, targetBodyPartName, targetPhysiologicalStateId, targetPhysiologicalStateName, \\\n",
    "                                targetSexId, targetSexName, \\\n",
    "                                decimalLatitude, decimalLongitude, localityId, localityName, eventDateUnixEpoch, argumentTypeId, \\\n",
    "                                referenceCitation, referenceDoi, referenceUrl, sourceCitation, sourceNamespace, \\\n",
    "                                sourceArchiveURI, sourceDOI, sourceLastSeenAtUnixEpoch) \\\n",
    "                                VALUES(?,?,?,?,?,?,?,?,?,?,?,?,?,?,?,?,?,?,?,?,?,?,?,?,?,?,?,?,?,?,?,?,?,?,?,?,?,?,?,?,?,?,?,?,?,?,?,?,?,?,?,?,?,?,?,?,?,?,?,?,?,?,?,?,?,?,?,?,?,?,?,?,?,?,?,?,?,?,?,?,?,?,?,?)\"\"\", \\\n",
    "                                (fields[0],fields[1],fields[2],fields[3],fields[4], \\\n",
    "                                 fields[5],fields[6],fields[7],fields[8],fields[9], \\\n",
    "                                 fields[10],fields[11],fields[12],fields[13],fields[14], \\\n",
    "                                 fields[15],fields[16],fields[17],fields[18],fields[19], \\\n",
    "                                 fields[20],fields[21],fields[22],fields[23],fields[24], \\\n",
    "                                 fields[25],fields[26],fields[27],fields[28],fields[29], \\\n",
    "                                 fields[30],fields[31],fields[32],fields[33],fields[34], \\\n",
    "                                 fields[35],fields[36],fields[37],fields[38],fields[39], \\\n",
    "                                 fields[40],fields[41],fields[42],fields[43],fields[44], \\\n",
    "                                 fields[45],fields[46],fields[47],fields[48],fields[49], \\\n",
    "                                 fields[50],fields[51],fields[52],fields[53],fields[54], \\\n",
    "                                 fields[55],fields[56],fields[57],fields[58],fields[59], \\\n",
    "                                 fields[60],fields[61],fields[62],fields[63],fields[64], \\\n",
    "                                 fields[65],fields[66],fields[67],fields[68],fields[69], \\\n",
    "                                 fields[70],fields[71],fields[72],fields[73],fields[74], \\\n",
    "                                 fields[75],fields[76],fields[77],fields[78],fields[79], \\\n",
    "                                 fields[80],fields[81],fields[82],fields[83]))"
   ]
  },
  {
   "cell_type": "code",
   "execution_count": null,
   "metadata": {},
   "outputs": [],
   "source": [
    "conn.commit()"
   ]
  },
  {
   "cell_type": "markdown",
   "metadata": {},
   "source": [
    "## Build some indexes to make queries faster"
   ]
  },
  {
   "cell_type": "code",
   "execution_count": 9,
   "metadata": {},
   "outputs": [],
   "source": [
    "#conn.execute('DROP INDEX sourceTaxonNameIndex')\n",
    "#conn.execute('DROP INDEX targetTaxonNameIndex')\n",
    "#conn.execute('DROP INDEX sourceAndInteractionTypeIndex')\n",
    "#conn.execute('DROP INDEX targetAndInteractionTypeIndex')\n",
    "#conn.execute('DROP INDEX sourceTaxonRankIndex')"
   ]
  },
  {
   "cell_type": "code",
   "execution_count": 10,
   "metadata": {},
   "outputs": [
    {
     "data": {
      "text/plain": [
       "<sqlite3.Cursor at 0x22ee1eddce0>"
      ]
     },
     "execution_count": 10,
     "metadata": {},
     "output_type": "execute_result"
    }
   ],
   "source": [
    "conn.execute('CREATE INDEX IF NOT EXISTS sourceTaxonNameIndex ON globi(sourceTaxonName)')"
   ]
  },
  {
   "cell_type": "code",
   "execution_count": 11,
   "metadata": {},
   "outputs": [
    {
     "data": {
      "text/plain": [
       "<sqlite3.Cursor at 0x22ee1eddb90>"
      ]
     },
     "execution_count": 11,
     "metadata": {},
     "output_type": "execute_result"
    }
   ],
   "source": [
    "conn.execute('CREATE INDEX IF NOT EXISTS targetTaxonNameIndex ON globi(targetTaxonName)')"
   ]
  },
  {
   "cell_type": "code",
   "execution_count": 12,
   "metadata": {},
   "outputs": [
    {
     "data": {
      "text/plain": [
       "<sqlite3.Cursor at 0x22ee1f1f0a0>"
      ]
     },
     "execution_count": 12,
     "metadata": {},
     "output_type": "execute_result"
    }
   ],
   "source": [
    "conn.execute('CREATE INDEX IF NOT EXISTS sourceAndInteractionTypeIndex ON globi(sourceTaxonName, interactionTypeName)')"
   ]
  },
  {
   "cell_type": "code",
   "execution_count": 13,
   "metadata": {},
   "outputs": [
    {
     "data": {
      "text/plain": [
       "<sqlite3.Cursor at 0x22ee1f1f110>"
      ]
     },
     "execution_count": 13,
     "metadata": {},
     "output_type": "execute_result"
    }
   ],
   "source": [
    "conn.execute('CREATE INDEX IF NOT EXISTS targetAndInteractionTypeIndex ON globi(targetTaxonName, interactionTypeName)')"
   ]
  },
  {
   "cell_type": "code",
   "execution_count": 14,
   "metadata": {},
   "outputs": [
    {
     "data": {
      "text/plain": [
       "<sqlite3.Cursor at 0x22ee1f1f260>"
      ]
     },
     "execution_count": 14,
     "metadata": {},
     "output_type": "execute_result"
    }
   ],
   "source": [
    "conn.execute('CREATE INDEX IF NOT EXISTS sourceTaxonRankIndex ON globi(sourceTaxonRank)')"
   ]
  },
  {
   "cell_type": "markdown",
   "metadata": {},
   "source": [
    "## Run a quick check to make sure the indexes work as expected."
   ]
  },
  {
   "cell_type": "code",
   "execution_count": 16,
   "metadata": {},
   "outputs": [
    {
     "data": {
      "text/html": [
       "<div>\n",
       "<style scoped>\n",
       "    .dataframe tbody tr th:only-of-type {\n",
       "        vertical-align: middle;\n",
       "    }\n",
       "\n",
       "    .dataframe tbody tr th {\n",
       "        vertical-align: top;\n",
       "    }\n",
       "\n",
       "    .dataframe thead th {\n",
       "        text-align: right;\n",
       "    }\n",
       "</style>\n",
       "<table border=\"1\" class=\"dataframe\">\n",
       "  <thead>\n",
       "    <tr style=\"text-align: right;\">\n",
       "      <th></th>\n",
       "      <th>id</th>\n",
       "      <th>parent</th>\n",
       "      <th>notused</th>\n",
       "      <th>detail</th>\n",
       "    </tr>\n",
       "  </thead>\n",
       "  <tbody>\n",
       "    <tr>\n",
       "      <th>0</th>\n",
       "      <td>2</td>\n",
       "      <td>0</td>\n",
       "      <td>0</td>\n",
       "      <td>SCAN TABLE globi USING COVERING INDEX sourceAn...</td>\n",
       "    </tr>\n",
       "  </tbody>\n",
       "</table>\n",
       "</div>"
      ],
      "text/plain": [
       "   id  parent  notused                                             detail\n",
       "0   2       0        0  SCAN TABLE globi USING COVERING INDEX sourceAn..."
      ]
     },
     "execution_count": 16,
     "metadata": {},
     "output_type": "execute_result"
    }
   ],
   "source": [
    "pd.read_sql_query('EXPLAIN QUERY PLAN SELECT sourceTaxonName FROM globi WHERE interactionTypeName = \"visitsFlowersOf\"', conn)"
   ]
  },
  {
   "cell_type": "markdown",
   "metadata": {},
   "source": [
    "## Check if something is in the database"
   ]
  },
  {
   "cell_type": "code",
   "execution_count": 20,
   "metadata": {
    "scrolled": true
   },
   "outputs": [
    {
     "data": {
      "text/html": [
       "<div>\n",
       "<style scoped>\n",
       "    .dataframe tbody tr th:only-of-type {\n",
       "        vertical-align: middle;\n",
       "    }\n",
       "\n",
       "    .dataframe tbody tr th {\n",
       "        vertical-align: top;\n",
       "    }\n",
       "\n",
       "    .dataframe thead th {\n",
       "        text-align: right;\n",
       "    }\n",
       "</style>\n",
       "<table border=\"1\" class=\"dataframe\">\n",
       "  <thead>\n",
       "    <tr style=\"text-align: right;\">\n",
       "      <th></th>\n",
       "      <th>sourceTaxonId</th>\n",
       "      <th>sourceTaxonIds</th>\n",
       "      <th>sourceTaxonName</th>\n",
       "      <th>sourceTaxonRank</th>\n",
       "      <th>sourceTaxonPathNames</th>\n",
       "      <th>sourceTaxonPathIds</th>\n",
       "      <th>sourceTaxonPathRankNames</th>\n",
       "      <th>sourceTaxonSpeciesName</th>\n",
       "      <th>sourceTaxonSpeciesId</th>\n",
       "      <th>sourceTaxonGenusName</th>\n",
       "      <th>...</th>\n",
       "      <th>eventDateUnixEpoch</th>\n",
       "      <th>argumentTypeId</th>\n",
       "      <th>referenceCitation</th>\n",
       "      <th>referenceDoi</th>\n",
       "      <th>referenceUrl</th>\n",
       "      <th>sourceCitation</th>\n",
       "      <th>sourceNamespace</th>\n",
       "      <th>sourceArchiveURI</th>\n",
       "      <th>sourceDOI</th>\n",
       "      <th>sourceLastSeenAtUnixEpoch</th>\n",
       "    </tr>\n",
       "  </thead>\n",
       "  <tbody>\n",
       "    <tr>\n",
       "      <th>0</th>\n",
       "      <td>sourceTaxonId</td>\n",
       "      <td>sourceTaxonIds</td>\n",
       "      <td>sourceTaxonName</td>\n",
       "      <td>sourceTaxonRank</td>\n",
       "      <td>sourceTaxonPathNames</td>\n",
       "      <td>sourceTaxonPathIds</td>\n",
       "      <td>sourceTaxonPathRankNames</td>\n",
       "      <td>sourceTaxonSpeciesName</td>\n",
       "      <td>sourceTaxonSpeciesId</td>\n",
       "      <td>sourceTaxonGenusName</td>\n",
       "      <td>...</td>\n",
       "      <td>decimalLatitude</td>\n",
       "      <td>decimalLongitude</td>\n",
       "      <td>localityId</td>\n",
       "      <td>localityName</td>\n",
       "      <td>eventDateUnixEpoch</td>\n",
       "      <td>argumentTypeId</td>\n",
       "      <td>referenceCitation</td>\n",
       "      <td>referenceDoi</td>\n",
       "      <td>referenceUrl</td>\n",
       "      <td>sourceCitation</td>\n",
       "    </tr>\n",
       "    <tr>\n",
       "      <th>1</th>\n",
       "      <td>EOL_V2:584620</td>\n",
       "      <td>EOL_V2:584620 | FBC:FB:SpecCode:1073 | GBIF:23...</td>\n",
       "      <td>Atractosteus spatula</td>\n",
       "      <td>species</td>\n",
       "      <td>Animalia | Chordata | Actinopterygii | Lepisos...</td>\n",
       "      <td>EOL:1 | EOL:694 | EOL:1905 | EOL:5467 | EOL:54...</td>\n",
       "      <td>kingdom | phylum | class | order | family | ge...</td>\n",
       "      <td>Atractosteus spatula</td>\n",
       "      <td>EOL_V2:584620</td>\n",
       "      <td>Atractosteus</td>\n",
       "      <td>...</td>\n",
       "      <td>28.645202</td>\n",
       "      <td>-96.099923</td>\n",
       "      <td></td>\n",
       "      <td></td>\n",
       "      <td>929145600000</td>\n",
       "      <td>https://en.wiktionary.org/wiki/support</td>\n",
       "      <td>Senol Akin. 2006. S. Akin, K. O. Winemiller, S...</td>\n",
       "      <td>10.1007/bf02784282</td>\n",
       "      <td></td>\n",
       "      <td>Akin, S., &amp; Winemiller, K. O. (2006). Seasonal...</td>\n",
       "    </tr>\n",
       "    <tr>\n",
       "      <th>2</th>\n",
       "      <td>EOL_V2:206857</td>\n",
       "      <td>EOL_V2:206857 | FBC:FB:SpecCode:785 | GBIF:818...</td>\n",
       "      <td>Mugil cephalus</td>\n",
       "      <td>species</td>\n",
       "      <td>Animalia | Chordata | Actinopterygii | Mugilif...</td>\n",
       "      <td>EOL:1 | EOL:694 | EOL:1905 | EOL:2807794 | EOL...</td>\n",
       "      <td>kingdom | phylum | class | order | family | ge...</td>\n",
       "      <td>Mugil cephalus</td>\n",
       "      <td>EOL_V2:206857</td>\n",
       "      <td>Mugil</td>\n",
       "      <td>...</td>\n",
       "      <td>28.645202</td>\n",
       "      <td>-96.099923</td>\n",
       "      <td></td>\n",
       "      <td></td>\n",
       "      <td>934070400000</td>\n",
       "      <td>https://en.wiktionary.org/wiki/support</td>\n",
       "      <td>Senol Akin. 2006. S. Akin, K. O. Winemiller, S...</td>\n",
       "      <td>10.1007/bf02784282</td>\n",
       "      <td></td>\n",
       "      <td>Akin, S., &amp; Winemiller, K. O. (2006). Seasonal...</td>\n",
       "    </tr>\n",
       "    <tr>\n",
       "      <th>3</th>\n",
       "      <td>EOL_V2:206857</td>\n",
       "      <td>EOL_V2:206857 | FBC:FB:SpecCode:785 | GBIF:818...</td>\n",
       "      <td>Mugil cephalus</td>\n",
       "      <td>species</td>\n",
       "      <td>Animalia | Chordata | Actinopterygii | Mugilif...</td>\n",
       "      <td>EOL:1 | EOL:694 | EOL:1905 | EOL:2807794 | EOL...</td>\n",
       "      <td>kingdom | phylum | class | order | family | ge...</td>\n",
       "      <td>Mugil cephalus</td>\n",
       "      <td>EOL_V2:206857</td>\n",
       "      <td>Mugil</td>\n",
       "      <td>...</td>\n",
       "      <td>28.645202</td>\n",
       "      <td>-96.099923</td>\n",
       "      <td></td>\n",
       "      <td></td>\n",
       "      <td>934070400000</td>\n",
       "      <td>https://en.wiktionary.org/wiki/support</td>\n",
       "      <td>Senol Akin. 2006. S. Akin, K. O. Winemiller, S...</td>\n",
       "      <td>10.1007/bf02784282</td>\n",
       "      <td></td>\n",
       "      <td>Akin, S., &amp; Winemiller, K. O. (2006). Seasonal...</td>\n",
       "    </tr>\n",
       "    <tr>\n",
       "      <th>4</th>\n",
       "      <td>EOL_V2:206857</td>\n",
       "      <td>EOL_V2:206857 | FBC:FB:SpecCode:785 | GBIF:818...</td>\n",
       "      <td>Mugil cephalus</td>\n",
       "      <td>species</td>\n",
       "      <td>Animalia | Chordata | Actinopterygii | Mugilif...</td>\n",
       "      <td>EOL:1 | EOL:694 | EOL:1905 | EOL:2807794 | EOL...</td>\n",
       "      <td>kingdom | phylum | class | order | family | ge...</td>\n",
       "      <td>Mugil cephalus</td>\n",
       "      <td>EOL_V2:206857</td>\n",
       "      <td>Mugil</td>\n",
       "      <td>...</td>\n",
       "      <td>28.645202</td>\n",
       "      <td>-96.099923</td>\n",
       "      <td></td>\n",
       "      <td></td>\n",
       "      <td>934070400000</td>\n",
       "      <td>https://en.wiktionary.org/wiki/support</td>\n",
       "      <td>Senol Akin. 2006. S. Akin, K. O. Winemiller, S...</td>\n",
       "      <td>10.1007/bf02784282</td>\n",
       "      <td></td>\n",
       "      <td>Akin, S., &amp; Winemiller, K. O. (2006). Seasonal...</td>\n",
       "    </tr>\n",
       "  </tbody>\n",
       "</table>\n",
       "<p>5 rows × 80 columns</p>\n",
       "</div>"
      ],
      "text/plain": [
       "   sourceTaxonId                                     sourceTaxonIds  \\\n",
       "0  sourceTaxonId                                     sourceTaxonIds   \n",
       "1  EOL_V2:584620  EOL_V2:584620 | FBC:FB:SpecCode:1073 | GBIF:23...   \n",
       "2  EOL_V2:206857  EOL_V2:206857 | FBC:FB:SpecCode:785 | GBIF:818...   \n",
       "3  EOL_V2:206857  EOL_V2:206857 | FBC:FB:SpecCode:785 | GBIF:818...   \n",
       "4  EOL_V2:206857  EOL_V2:206857 | FBC:FB:SpecCode:785 | GBIF:818...   \n",
       "\n",
       "        sourceTaxonName  sourceTaxonRank  \\\n",
       "0       sourceTaxonName  sourceTaxonRank   \n",
       "1  Atractosteus spatula          species   \n",
       "2        Mugil cephalus          species   \n",
       "3        Mugil cephalus          species   \n",
       "4        Mugil cephalus          species   \n",
       "\n",
       "                                sourceTaxonPathNames  \\\n",
       "0                               sourceTaxonPathNames   \n",
       "1  Animalia | Chordata | Actinopterygii | Lepisos...   \n",
       "2  Animalia | Chordata | Actinopterygii | Mugilif...   \n",
       "3  Animalia | Chordata | Actinopterygii | Mugilif...   \n",
       "4  Animalia | Chordata | Actinopterygii | Mugilif...   \n",
       "\n",
       "                                  sourceTaxonPathIds  \\\n",
       "0                                 sourceTaxonPathIds   \n",
       "1  EOL:1 | EOL:694 | EOL:1905 | EOL:5467 | EOL:54...   \n",
       "2  EOL:1 | EOL:694 | EOL:1905 | EOL:2807794 | EOL...   \n",
       "3  EOL:1 | EOL:694 | EOL:1905 | EOL:2807794 | EOL...   \n",
       "4  EOL:1 | EOL:694 | EOL:1905 | EOL:2807794 | EOL...   \n",
       "\n",
       "                            sourceTaxonPathRankNames  sourceTaxonSpeciesName  \\\n",
       "0                           sourceTaxonPathRankNames  sourceTaxonSpeciesName   \n",
       "1  kingdom | phylum | class | order | family | ge...    Atractosteus spatula   \n",
       "2  kingdom | phylum | class | order | family | ge...          Mugil cephalus   \n",
       "3  kingdom | phylum | class | order | family | ge...          Mugil cephalus   \n",
       "4  kingdom | phylum | class | order | family | ge...          Mugil cephalus   \n",
       "\n",
       "   sourceTaxonSpeciesId  sourceTaxonGenusName  ... eventDateUnixEpoch  \\\n",
       "0  sourceTaxonSpeciesId  sourceTaxonGenusName  ...    decimalLatitude   \n",
       "1         EOL_V2:584620          Atractosteus  ...          28.645202   \n",
       "2         EOL_V2:206857                 Mugil  ...          28.645202   \n",
       "3         EOL_V2:206857                 Mugil  ...          28.645202   \n",
       "4         EOL_V2:206857                 Mugil  ...          28.645202   \n",
       "\n",
       "     argumentTypeId referenceCitation  referenceDoi        referenceUrl  \\\n",
       "0  decimalLongitude        localityId  localityName  eventDateUnixEpoch   \n",
       "1        -96.099923                                        929145600000   \n",
       "2        -96.099923                                        934070400000   \n",
       "3        -96.099923                                        934070400000   \n",
       "4        -96.099923                                        934070400000   \n",
       "\n",
       "                           sourceCitation  \\\n",
       "0                          argumentTypeId   \n",
       "1  https://en.wiktionary.org/wiki/support   \n",
       "2  https://en.wiktionary.org/wiki/support   \n",
       "3  https://en.wiktionary.org/wiki/support   \n",
       "4  https://en.wiktionary.org/wiki/support   \n",
       "\n",
       "                                     sourceNamespace    sourceArchiveURI  \\\n",
       "0                                  referenceCitation        referenceDoi   \n",
       "1  Senol Akin. 2006. S. Akin, K. O. Winemiller, S...  10.1007/bf02784282   \n",
       "2  Senol Akin. 2006. S. Akin, K. O. Winemiller, S...  10.1007/bf02784282   \n",
       "3  Senol Akin. 2006. S. Akin, K. O. Winemiller, S...  10.1007/bf02784282   \n",
       "4  Senol Akin. 2006. S. Akin, K. O. Winemiller, S...  10.1007/bf02784282   \n",
       "\n",
       "      sourceDOI                          sourceLastSeenAtUnixEpoch  \n",
       "0  referenceUrl                                     sourceCitation  \n",
       "1                Akin, S., & Winemiller, K. O. (2006). Seasonal...  \n",
       "2                Akin, S., & Winemiller, K. O. (2006). Seasonal...  \n",
       "3                Akin, S., & Winemiller, K. O. (2006). Seasonal...  \n",
       "4                Akin, S., & Winemiller, K. O. (2006). Seasonal...  \n",
       "\n",
       "[5 rows x 80 columns]"
      ]
     },
     "execution_count": 20,
     "metadata": {},
     "output_type": "execute_result"
    }
   ],
   "source": [
    "#dups = pd.read_sql_query('SELECT sourceTaxonRank FROM globi GROUP BY sourceTaxonRank', conn)\n",
    "select = pd.read_sql_query('SELECT * FROM globi LIMIT 5', conn)\n",
    "select"
   ]
  },
  {
   "cell_type": "code",
   "execution_count": 29,
   "metadata": {},
   "outputs": [],
   "source": [
    "select = pd.read_sql_query('SELECT interactionTypeName from globi GROUP BY interactionTypeName', conn)"
   ]
  },
  {
   "cell_type": "code",
   "execution_count": 30,
   "metadata": {},
   "outputs": [
    {
     "data": {
      "text/html": [
       "<div>\n",
       "<style scoped>\n",
       "    .dataframe tbody tr th:only-of-type {\n",
       "        vertical-align: middle;\n",
       "    }\n",
       "\n",
       "    .dataframe tbody tr th {\n",
       "        vertical-align: top;\n",
       "    }\n",
       "\n",
       "    .dataframe thead th {\n",
       "        text-align: right;\n",
       "    }\n",
       "</style>\n",
       "<table border=\"1\" class=\"dataframe\">\n",
       "  <thead>\n",
       "    <tr style=\"text-align: right;\">\n",
       "      <th></th>\n",
       "      <th>interactionTypeName</th>\n",
       "    </tr>\n",
       "  </thead>\n",
       "  <tbody>\n",
       "    <tr>\n",
       "      <th>0</th>\n",
       "      <td></td>\n",
       "    </tr>\n",
       "    <tr>\n",
       "      <th>1</th>\n",
       "      <td>sourceSexId</td>\n",
       "    </tr>\n",
       "  </tbody>\n",
       "</table>\n",
       "</div>"
      ],
      "text/plain": [
       "  interactionTypeName\n",
       "0                    \n",
       "1         sourceSexId"
      ]
     },
     "execution_count": 30,
     "metadata": {},
     "output_type": "execute_result"
    }
   ],
   "source": [
    "select"
   ]
  },
  {
   "cell_type": "code",
   "execution_count": 18,
   "metadata": {},
   "outputs": [],
   "source": [
    "conn.close()"
   ]
  },
  {
   "cell_type": "code",
   "execution_count": null,
   "metadata": {},
   "outputs": [],
   "source": []
  }
 ],
 "metadata": {
  "kernelspec": {
   "display_name": "Python 3",
   "language": "python",
   "name": "python3"
  },
  "language_info": {
   "codemirror_mode": {
    "name": "ipython",
    "version": 3
   },
   "file_extension": ".py",
   "mimetype": "text/x-python",
   "name": "python",
   "nbconvert_exporter": "python",
   "pygments_lexer": "ipython3",
   "version": "3.7.3"
  }
 },
 "nbformat": 4,
 "nbformat_minor": 2
}
