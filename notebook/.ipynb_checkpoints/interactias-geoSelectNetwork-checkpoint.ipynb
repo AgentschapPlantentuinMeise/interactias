{
 "cells": [
  {
   "cell_type": "markdown",
   "metadata": {},
   "source": [
    "# Interactias Geo Selected Network\n",
    "\n",
    "One way of examining the impact of invasive species is to look at all their interactions and the interations those organisms have with each other. This full interaction network gives you a good idea whether a species might be a \"keystone\" species \n",
    "\n",
    "The networks create from all interacting species globally can be misleading, because not all members of the network live in one place. The next step is to filter the species in the network geographically, just to find the interactions that might occur in an area.\n",
    "\n",
    "I will harvest species interactions data from GLOBI (https://www.globalbioticinteractions.org/) to discover the species that interact with an invasive species.\n",
    "I will then harvest all the interactions for those species to create two tiers of interactions.\n",
    "I will then count all the occurences of these in species in GBIF for an area.\n",
    "I will then create a network diagram to visualize this.\n",
    "\n",
    "This notebook takes considerable insperation and code from Yikang Li's project on GLoBI (https://curiositydata.org/part1_globi_access/)."
   ]
  },
  {
   "cell_type": "code",
   "execution_count": 1,
   "metadata": {},
   "outputs": [
    {
     "name": "stdout",
     "output_type": "stream",
     "text": [
      "3.7.4 (default, Aug  9 2019, 18:34:13) [MSC v.1915 64 bit (AMD64)]\n"
     ]
    }
   ],
   "source": [
    "import sys\n",
    "print(sys.version)\n",
    "\n",
    "#Python 3.7.4 (default, Aug 9 2019, 18:34:13) [MSC v.1915 64 bit (AMD64)]\n",
    "#pygbif 0.3.0"
   ]
  },
  {
   "cell_type": "code",
   "execution_count": 2,
   "metadata": {},
   "outputs": [],
   "source": [
    "import pandas as pd\n",
    "import re\n",
    "import matplotlib.pyplot as plt\n",
    "from pygbif import species\n",
    "from pygbif import occurrences as occ"
   ]
  },
  {
   "cell_type": "markdown",
   "metadata": {},
   "source": [
    "### Setting up some parameters"
   ]
  },
  {
   "cell_type": "code",
   "execution_count": 59,
   "metadata": {},
   "outputs": [],
   "source": [
    "# There is no point accepting all the species that have more than one record.\n",
    "# There are too many casual records of plants and biirds\n",
    "thresholdForOccNum = 30"
   ]
  },
  {
   "cell_type": "code",
   "execution_count": 4,
   "metadata": {},
   "outputs": [],
   "source": [
    "## Define the country of interest\n",
    "country  = 'BE'"
   ]
  },
  {
   "cell_type": "markdown",
   "metadata": {},
   "source": [
    "### Define the key taxon for the notebook for which to find all interactions\n"
   ]
  },
  {
   "cell_type": "code",
   "execution_count": 5,
   "metadata": {},
   "outputs": [],
   "source": [
    "taxon = \"Oxalis corniculata\"\n",
    "#taxon = \"Oxalis pes-caprae\"\n",
    "#taxon = \"Abramis brama\"\n",
    "#taxon = \"Dikerogammarus villosus\" # killer shrimp\n",
    "#taxon = \"Lantanophaga pusillidactyla\"\n",
    "#taxon = \"Lantana camara\"\n",
    "#taxon = \"Cirsium vulgare\"\n",
    "#taxon = \"Procyon lotor\" # raccoon\n",
    "#taxon = \"Carpobrotus edulis\"\n",
    "#taxon = \"not exist\"\n",
    "#taxon = \"Sciurus carolinensis\" # Eastern grey squirrel"
   ]
  },
  {
   "cell_type": "markdown",
   "metadata": {},
   "source": [
    "## Load the GLoBI data\n",
    "\n",
    "The current snapshot of GLoBI was taken on 2019-11-05 from https://depot.globalbioticinteractions.org/snapshot/target/data/tsv/interactions.tsv.gz\n"
   ]
  },
  {
   "cell_type": "code",
   "execution_count": 6,
   "metadata": {},
   "outputs": [
    {
     "data": {
      "text/plain": [
       "3878740"
      ]
     },
     "execution_count": 6,
     "metadata": {},
     "output_type": "execute_result"
    }
   ],
   "source": [
    "# This takes a few minutes to load in.\n",
    "# the low_memory=False property will get rid of a warning, but will not help if there is really no memory left\n",
    "data = pd.read_csv('C://Users//quentin//Documents//interactias//interactias//data//interactions.tsv', delimiter='\\t', encoding='utf-8', low_memory=False)\n",
    "len(data)"
   ]
  },
  {
   "cell_type": "code",
   "execution_count": 7,
   "metadata": {},
   "outputs": [
    {
     "data": {
      "text/html": [
       "<div>\n",
       "<style scoped>\n",
       "    .dataframe tbody tr th:only-of-type {\n",
       "        vertical-align: middle;\n",
       "    }\n",
       "\n",
       "    .dataframe tbody tr th {\n",
       "        vertical-align: top;\n",
       "    }\n",
       "\n",
       "    .dataframe thead th {\n",
       "        text-align: right;\n",
       "    }\n",
       "</style>\n",
       "<table border=\"1\" class=\"dataframe\">\n",
       "  <thead>\n",
       "    <tr style=\"text-align: right;\">\n",
       "      <th></th>\n",
       "      <th>sourceTaxonId</th>\n",
       "      <th>sourceTaxonIds</th>\n",
       "      <th>sourceTaxonName</th>\n",
       "      <th>sourceTaxonRank</th>\n",
       "      <th>sourceTaxonPathNames</th>\n",
       "      <th>sourceTaxonPathIds</th>\n",
       "      <th>sourceTaxonPathRankNames</th>\n",
       "      <th>sourceTaxonSpeciesName</th>\n",
       "      <th>sourceTaxonSpeciesId</th>\n",
       "      <th>sourceTaxonGenusName</th>\n",
       "      <th>...</th>\n",
       "      <th>eventDateUnixEpoch</th>\n",
       "      <th>argumentTypeId</th>\n",
       "      <th>referenceCitation</th>\n",
       "      <th>referenceDoi</th>\n",
       "      <th>referenceUrl</th>\n",
       "      <th>sourceCitation</th>\n",
       "      <th>sourceNamespace</th>\n",
       "      <th>sourceArchiveURI</th>\n",
       "      <th>sourceDOI</th>\n",
       "      <th>sourceLastSeenAtUnixEpoch</th>\n",
       "    </tr>\n",
       "  </thead>\n",
       "  <tbody>\n",
       "    <tr>\n",
       "      <td>0</td>\n",
       "      <td>EOL:12001247</td>\n",
       "      <td>EOL:12001247 | OTT:133330 | IRMNG:11733708 | N...</td>\n",
       "      <td>Leptoconchus massini</td>\n",
       "      <td>species</td>\n",
       "      <td>Animalia | Mollusca | Gastropoda | Neogastropo...</td>\n",
       "      <td>EOL:1 | EOL:2195 | EOL:2366 | EOL:2447 | EOL:4...</td>\n",
       "      <td>kingdom | phylum | class | order | superfamily...</td>\n",
       "      <td>Leptoconchus massini</td>\n",
       "      <td>EOL:12001247</td>\n",
       "      <td>Leptoconchus</td>\n",
       "      <td>...</td>\n",
       "      <td>NaN</td>\n",
       "      <td>https://en.wiktionary.org/wiki/support</td>\n",
       "      <td>Gittenberger, A., Gittenberger, E. (2011). Cry...</td>\n",
       "      <td>10.1007/s13127-011-0039-1</td>\n",
       "      <td>NaN</td>\n",
       "      <td>Jorrit H. Poelen. 2014. Species associations m...</td>\n",
       "      <td>FloraVincent/template-dataset</td>\n",
       "      <td>https://github.com/FloraVincent/template-datas...</td>\n",
       "      <td>NaN</td>\n",
       "      <td>2019-03-30T23:08:44.205Z</td>\n",
       "    </tr>\n",
       "    <tr>\n",
       "      <td>1</td>\n",
       "      <td>EOL:12001247</td>\n",
       "      <td>EOL:12001247 | OTT:133330 | IRMNG:11733708 | N...</td>\n",
       "      <td>Leptoconchus massini</td>\n",
       "      <td>species</td>\n",
       "      <td>Animalia | Mollusca | Gastropoda | Neogastropo...</td>\n",
       "      <td>EOL:1 | EOL:2195 | EOL:2366 | EOL:2447 | EOL:4...</td>\n",
       "      <td>kingdom | phylum | class | order | superfamily...</td>\n",
       "      <td>Leptoconchus massini</td>\n",
       "      <td>EOL:12001247</td>\n",
       "      <td>Leptoconchus</td>\n",
       "      <td>...</td>\n",
       "      <td>NaN</td>\n",
       "      <td>https://en.wiktionary.org/wiki/support</td>\n",
       "      <td>Gittenberger, A., Gittenberger, E. (2011). Cry...</td>\n",
       "      <td>10.1007/s13127-011-0039-1</td>\n",
       "      <td>NaN</td>\n",
       "      <td>Jorrit H. Poelen. 2014. Species associations m...</td>\n",
       "      <td>FloraVincent/template-dataset</td>\n",
       "      <td>https://github.com/FloraVincent/template-datas...</td>\n",
       "      <td>NaN</td>\n",
       "      <td>2019-03-30T23:08:44.205Z</td>\n",
       "    </tr>\n",
       "    <tr>\n",
       "      <td>2</td>\n",
       "      <td>EOL:12001243</td>\n",
       "      <td>EOL:12001243 | WD:Q13393577 | OTT:550603 | WOR...</td>\n",
       "      <td>Leptoconchus inpleuractis</td>\n",
       "      <td>species</td>\n",
       "      <td>Animalia | Mollusca | Gastropoda | Neogastropo...</td>\n",
       "      <td>EOL:1 | EOL:2195 | EOL:2366 | EOL:2447 | EOL:4...</td>\n",
       "      <td>kingdom | phylum | class | order | superfamily...</td>\n",
       "      <td>Leptoconchus inpleuractis</td>\n",
       "      <td>EOL:12001243</td>\n",
       "      <td>Leptoconchus</td>\n",
       "      <td>...</td>\n",
       "      <td>NaN</td>\n",
       "      <td>https://en.wiktionary.org/wiki/support</td>\n",
       "      <td>Gittenberger, A., Gittenberger, E. (2011). Cry...</td>\n",
       "      <td>10.1007/s13127-011-0039-1</td>\n",
       "      <td>NaN</td>\n",
       "      <td>Jorrit H. Poelen. 2014. Species associations m...</td>\n",
       "      <td>FloraVincent/template-dataset</td>\n",
       "      <td>https://github.com/FloraVincent/template-datas...</td>\n",
       "      <td>NaN</td>\n",
       "      <td>2019-03-30T23:08:44.205Z</td>\n",
       "    </tr>\n",
       "    <tr>\n",
       "      <td>3</td>\n",
       "      <td>EOL:12001243</td>\n",
       "      <td>EOL:12001243 | WD:Q13393577 | OTT:550603 | WOR...</td>\n",
       "      <td>Leptoconchus inpleuractis</td>\n",
       "      <td>species</td>\n",
       "      <td>Animalia | Mollusca | Gastropoda | Neogastropo...</td>\n",
       "      <td>EOL:1 | EOL:2195 | EOL:2366 | EOL:2447 | EOL:4...</td>\n",
       "      <td>kingdom | phylum | class | order | superfamily...</td>\n",
       "      <td>Leptoconchus inpleuractis</td>\n",
       "      <td>EOL:12001243</td>\n",
       "      <td>Leptoconchus</td>\n",
       "      <td>...</td>\n",
       "      <td>NaN</td>\n",
       "      <td>https://en.wiktionary.org/wiki/support</td>\n",
       "      <td>Gittenberger, A., Gittenberger, E. (2011). Cry...</td>\n",
       "      <td>10.1007/s13127-011-0039-1</td>\n",
       "      <td>NaN</td>\n",
       "      <td>Jorrit H. Poelen. 2014. Species associations m...</td>\n",
       "      <td>FloraVincent/template-dataset</td>\n",
       "      <td>https://github.com/FloraVincent/template-datas...</td>\n",
       "      <td>NaN</td>\n",
       "      <td>2019-03-30T23:08:44.205Z</td>\n",
       "    </tr>\n",
       "    <tr>\n",
       "      <td>4</td>\n",
       "      <td>EOL:12001243</td>\n",
       "      <td>EOL:12001243 | WD:Q13393577 | OTT:550603 | WOR...</td>\n",
       "      <td>Leptoconchus inpleuractis</td>\n",
       "      <td>species</td>\n",
       "      <td>Animalia | Mollusca | Gastropoda | Neogastropo...</td>\n",
       "      <td>EOL:1 | EOL:2195 | EOL:2366 | EOL:2447 | EOL:4...</td>\n",
       "      <td>kingdom | phylum | class | order | superfamily...</td>\n",
       "      <td>Leptoconchus inpleuractis</td>\n",
       "      <td>EOL:12001243</td>\n",
       "      <td>Leptoconchus</td>\n",
       "      <td>...</td>\n",
       "      <td>NaN</td>\n",
       "      <td>https://en.wiktionary.org/wiki/support</td>\n",
       "      <td>Gittenberger, A., Gittenberger, E. (2011). Cry...</td>\n",
       "      <td>10.1007/s13127-011-0039-1</td>\n",
       "      <td>NaN</td>\n",
       "      <td>Jorrit H. Poelen. 2014. Species associations m...</td>\n",
       "      <td>FloraVincent/template-dataset</td>\n",
       "      <td>https://github.com/FloraVincent/template-datas...</td>\n",
       "      <td>NaN</td>\n",
       "      <td>2019-03-30T23:08:44.205Z</td>\n",
       "    </tr>\n",
       "  </tbody>\n",
       "</table>\n",
       "<p>5 rows × 80 columns</p>\n",
       "</div>"
      ],
      "text/plain": [
       "  sourceTaxonId                                     sourceTaxonIds  \\\n",
       "0  EOL:12001247  EOL:12001247 | OTT:133330 | IRMNG:11733708 | N...   \n",
       "1  EOL:12001247  EOL:12001247 | OTT:133330 | IRMNG:11733708 | N...   \n",
       "2  EOL:12001243  EOL:12001243 | WD:Q13393577 | OTT:550603 | WOR...   \n",
       "3  EOL:12001243  EOL:12001243 | WD:Q13393577 | OTT:550603 | WOR...   \n",
       "4  EOL:12001243  EOL:12001243 | WD:Q13393577 | OTT:550603 | WOR...   \n",
       "\n",
       "             sourceTaxonName sourceTaxonRank  \\\n",
       "0       Leptoconchus massini         species   \n",
       "1       Leptoconchus massini         species   \n",
       "2  Leptoconchus inpleuractis         species   \n",
       "3  Leptoconchus inpleuractis         species   \n",
       "4  Leptoconchus inpleuractis         species   \n",
       "\n",
       "                                sourceTaxonPathNames  \\\n",
       "0  Animalia | Mollusca | Gastropoda | Neogastropo...   \n",
       "1  Animalia | Mollusca | Gastropoda | Neogastropo...   \n",
       "2  Animalia | Mollusca | Gastropoda | Neogastropo...   \n",
       "3  Animalia | Mollusca | Gastropoda | Neogastropo...   \n",
       "4  Animalia | Mollusca | Gastropoda | Neogastropo...   \n",
       "\n",
       "                                  sourceTaxonPathIds  \\\n",
       "0  EOL:1 | EOL:2195 | EOL:2366 | EOL:2447 | EOL:4...   \n",
       "1  EOL:1 | EOL:2195 | EOL:2366 | EOL:2447 | EOL:4...   \n",
       "2  EOL:1 | EOL:2195 | EOL:2366 | EOL:2447 | EOL:4...   \n",
       "3  EOL:1 | EOL:2195 | EOL:2366 | EOL:2447 | EOL:4...   \n",
       "4  EOL:1 | EOL:2195 | EOL:2366 | EOL:2447 | EOL:4...   \n",
       "\n",
       "                            sourceTaxonPathRankNames  \\\n",
       "0  kingdom | phylum | class | order | superfamily...   \n",
       "1  kingdom | phylum | class | order | superfamily...   \n",
       "2  kingdom | phylum | class | order | superfamily...   \n",
       "3  kingdom | phylum | class | order | superfamily...   \n",
       "4  kingdom | phylum | class | order | superfamily...   \n",
       "\n",
       "      sourceTaxonSpeciesName sourceTaxonSpeciesId sourceTaxonGenusName  ...  \\\n",
       "0       Leptoconchus massini         EOL:12001247         Leptoconchus  ...   \n",
       "1       Leptoconchus massini         EOL:12001247         Leptoconchus  ...   \n",
       "2  Leptoconchus inpleuractis         EOL:12001243         Leptoconchus  ...   \n",
       "3  Leptoconchus inpleuractis         EOL:12001243         Leptoconchus  ...   \n",
       "4  Leptoconchus inpleuractis         EOL:12001243         Leptoconchus  ...   \n",
       "\n",
       "  eventDateUnixEpoch                          argumentTypeId  \\\n",
       "0                NaN  https://en.wiktionary.org/wiki/support   \n",
       "1                NaN  https://en.wiktionary.org/wiki/support   \n",
       "2                NaN  https://en.wiktionary.org/wiki/support   \n",
       "3                NaN  https://en.wiktionary.org/wiki/support   \n",
       "4                NaN  https://en.wiktionary.org/wiki/support   \n",
       "\n",
       "                                   referenceCitation  \\\n",
       "0  Gittenberger, A., Gittenberger, E. (2011). Cry...   \n",
       "1  Gittenberger, A., Gittenberger, E. (2011). Cry...   \n",
       "2  Gittenberger, A., Gittenberger, E. (2011). Cry...   \n",
       "3  Gittenberger, A., Gittenberger, E. (2011). Cry...   \n",
       "4  Gittenberger, A., Gittenberger, E. (2011). Cry...   \n",
       "\n",
       "                referenceDoi referenceUrl  \\\n",
       "0  10.1007/s13127-011-0039-1          NaN   \n",
       "1  10.1007/s13127-011-0039-1          NaN   \n",
       "2  10.1007/s13127-011-0039-1          NaN   \n",
       "3  10.1007/s13127-011-0039-1          NaN   \n",
       "4  10.1007/s13127-011-0039-1          NaN   \n",
       "\n",
       "                                      sourceCitation  \\\n",
       "0  Jorrit H. Poelen. 2014. Species associations m...   \n",
       "1  Jorrit H. Poelen. 2014. Species associations m...   \n",
       "2  Jorrit H. Poelen. 2014. Species associations m...   \n",
       "3  Jorrit H. Poelen. 2014. Species associations m...   \n",
       "4  Jorrit H. Poelen. 2014. Species associations m...   \n",
       "\n",
       "                 sourceNamespace  \\\n",
       "0  FloraVincent/template-dataset   \n",
       "1  FloraVincent/template-dataset   \n",
       "2  FloraVincent/template-dataset   \n",
       "3  FloraVincent/template-dataset   \n",
       "4  FloraVincent/template-dataset   \n",
       "\n",
       "                                    sourceArchiveURI sourceDOI  \\\n",
       "0  https://github.com/FloraVincent/template-datas...       NaN   \n",
       "1  https://github.com/FloraVincent/template-datas...       NaN   \n",
       "2  https://github.com/FloraVincent/template-datas...       NaN   \n",
       "3  https://github.com/FloraVincent/template-datas...       NaN   \n",
       "4  https://github.com/FloraVincent/template-datas...       NaN   \n",
       "\n",
       "  sourceLastSeenAtUnixEpoch  \n",
       "0  2019-03-30T23:08:44.205Z  \n",
       "1  2019-03-30T23:08:44.205Z  \n",
       "2  2019-03-30T23:08:44.205Z  \n",
       "3  2019-03-30T23:08:44.205Z  \n",
       "4  2019-03-30T23:08:44.205Z  \n",
       "\n",
       "[5 rows x 80 columns]"
      ]
     },
     "execution_count": 7,
     "metadata": {},
     "output_type": "execute_result"
    }
   ],
   "source": [
    "# Take a little look at the data to make sure it makes sense\n",
    "data.head()"
   ]
  },
  {
   "cell_type": "markdown",
   "metadata": {},
   "source": [
    "## Drop duplicates\n",
    "\n",
    "This line gets rid of duplicate interations. I currently can't see a reason to keep them, but this perhaps should be checked. \n",
    "Some more common interactions might have more support in the literature and therefore more records. Deduplicating them tends to equal out rare interactions with common ones."
   ]
  },
  {
   "cell_type": "code",
   "execution_count": 8,
   "metadata": {},
   "outputs": [],
   "source": [
    "data.drop_duplicates(['sourceTaxonName', 'interactionTypeName', 'targetTaxonName'], inplace = True)"
   ]
  },
  {
   "cell_type": "code",
   "execution_count": 9,
   "metadata": {},
   "outputs": [
    {
     "data": {
      "text/plain": [
       "1103723"
      ]
     },
     "execution_count": 9,
     "metadata": {},
     "output_type": "execute_result"
    }
   ],
   "source": [
    "## Check how many rows are left\n",
    "len(data)"
   ]
  },
  {
   "cell_type": "markdown",
   "metadata": {},
   "source": [
    "## Remove ranks that are not species\n",
    "Many entries in GLoBI are non-specific interations at a high taxonomic level. For example, roses are visited by bees.\n",
    "I have chossen to remove these interactions from the study, at least preliminarly"
   ]
  },
  {
   "cell_type": "code",
   "execution_count": 10,
   "metadata": {},
   "outputs": [],
   "source": [
    "data.drop(data[data['sourceTaxonRank'] != 'species'].index, inplace = True)\n",
    "data.drop(data[data['targetTaxonRank'] != 'species'].index, inplace = True)"
   ]
  },
  {
   "cell_type": "code",
   "execution_count": 11,
   "metadata": {},
   "outputs": [
    {
     "data": {
      "text/plain": [
       "536018"
      ]
     },
     "execution_count": 11,
     "metadata": {},
     "output_type": "execute_result"
    }
   ],
   "source": [
    "## Check how many rows are left\n",
    "len(data)"
   ]
  },
  {
   "cell_type": "markdown",
   "metadata": {},
   "source": [
    "## Remove \"interactsWith\"\n",
    "There are many vague interactions with the term interactsWith. These aren't really that useful, because it could be any kind of interaction, positive or negative, direct or indirect."
   ]
  },
  {
   "cell_type": "code",
   "execution_count": 12,
   "metadata": {},
   "outputs": [
    {
     "data": {
      "text/plain": [
       "368895"
      ]
     },
     "execution_count": 12,
     "metadata": {},
     "output_type": "execute_result"
    }
   ],
   "source": [
    "data = data[data.interactionTypeName != 'interactsWith']\n",
    "\n",
    "data = data[data.interactionTypeName != 'visitsFlowersOf']\n",
    "\n",
    "data = data[data.interactionTypeName != 'pollinates']\n",
    "\n",
    "len(data)"
   ]
  },
  {
   "cell_type": "markdown",
   "metadata": {},
   "source": [
    "## Check to see if the taxon exits in GBIF"
   ]
  },
  {
   "cell_type": "code",
   "execution_count": 13,
   "metadata": {},
   "outputs": [],
   "source": [
    "try:\n",
    "    #NOTE: The function method name_suggest has a different behavior with regards to the gender of Latin names to name_backbone\n",
    "    # If name_backbone is given a name in one gender it can still return the best match from the GBIF backbone if that\n",
    "    # name is spelled as if it was another gender.\n",
    "    #key = species.name_suggest(q=taxon, limit = 1)\n",
    "    match = species.name_backbone(name=taxon, limit = 1)\n",
    "    #print(key)\n",
    "    \n",
    "    # if there is no match this is returned form .name_backbone {'confidence': 100, 'matchType': 'NONE', 'synonym': False}\n",
    "    if match['matchType'] == 'NONE':\n",
    "        raise ValueError(\"TAXON NOT FOUND ON GBIF!\")\n",
    "    else:\n",
    "        key = match['usageKey']\n",
    "except ValueError as ve:\n",
    "    print(ve)\n",
    "    exit(1)\n",
    "\n",
    "\n"
   ]
  },
  {
   "cell_type": "code",
   "execution_count": 14,
   "metadata": {},
   "outputs": [
    {
     "name": "stdout",
     "output_type": "stream",
     "text": [
      "The taxon to be studied is Oxalis corniculata L.\n"
     ]
    }
   ],
   "source": [
    "\n",
    "print('The taxon to be studied is ' + match['scientificName'])"
   ]
  },
  {
   "cell_type": "code",
   "execution_count": 15,
   "metadata": {},
   "outputs": [
    {
     "data": {
      "text/plain": [
       "array([], dtype=object)"
      ]
     },
     "execution_count": 15,
     "metadata": {},
     "output_type": "execute_result"
    }
   ],
   "source": [
    "# What are all the types of interactions involving taxon as source taxon?\n",
    "data[data['sourceTaxonName'] == taxon]['interactionTypeName'].unique()"
   ]
  },
  {
   "cell_type": "code",
   "execution_count": 16,
   "metadata": {},
   "outputs": [
    {
     "data": {
      "text/plain": [
       "array(['eats', 'parasiteOf', 'hasHost', 'mutualistOf', 'pathogenOf'],\n",
       "      dtype=object)"
      ]
     },
     "execution_count": 16,
     "metadata": {},
     "output_type": "execute_result"
    }
   ],
   "source": [
    "# What are all the types of interactions involving taxon as target taxon?\n",
    "data[data['targetTaxonName'] == taxon]['interactionTypeName'].unique()"
   ]
  },
  {
   "cell_type": "markdown",
   "metadata": {},
   "source": [
    "How many taxon sources do I have?"
   ]
  },
  {
   "cell_type": "code",
   "execution_count": 17,
   "metadata": {},
   "outputs": [
    {
     "data": {
      "text/plain": [
       "0"
      ]
     },
     "execution_count": 17,
     "metadata": {},
     "output_type": "execute_result"
    }
   ],
   "source": [
    "len(data[data['sourceTaxonName'] == taxon])"
   ]
  },
  {
   "cell_type": "markdown",
   "metadata": {},
   "source": [
    "How many taxon targets do I have?"
   ]
  },
  {
   "cell_type": "code",
   "execution_count": 18,
   "metadata": {},
   "outputs": [
    {
     "data": {
      "text/plain": [
       "29"
      ]
     },
     "execution_count": 18,
     "metadata": {},
     "output_type": "execute_result"
    }
   ],
   "source": [
    "len(data[data['targetTaxonName'] == taxon])"
   ]
  },
  {
   "cell_type": "markdown",
   "metadata": {},
   "source": [
    "Gather together all the data where the target is the taxon in question."
   ]
  },
  {
   "cell_type": "code",
   "execution_count": 19,
   "metadata": {},
   "outputs": [
    {
     "data": {
      "text/plain": [
       "Index(['sourceTaxonId', 'sourceTaxonIds', 'sourceTaxonName', 'sourceTaxonRank',\n",
       "       'sourceTaxonPathNames', 'sourceTaxonPathIds',\n",
       "       'sourceTaxonPathRankNames', 'sourceTaxonSpeciesName',\n",
       "       'sourceTaxonSpeciesId', 'sourceTaxonGenusName', 'sourceTaxonGenusId',\n",
       "       'sourceTaxonFamilyName', 'sourceTaxonFamilyId', 'sourceTaxonOrderName',\n",
       "       'sourceTaxonOrderId', 'sourceTaxonClassName', 'sourceTaxonClassId',\n",
       "       'sourceTaxonPhylumName', 'sourceTaxonPhylumId',\n",
       "       'sourceTaxonKingdomName', 'sourceTaxonKingdomId', 'sourceId',\n",
       "       'sourceOccurrenceId', 'sourceCatalogNumber', 'sourceBasisOfRecordId',\n",
       "       'sourceBasisOfRecordName', 'sourceLifeStageId', 'sourceLifeStageName',\n",
       "       'sourceBodyPartId', 'sourceBodyPartName', 'sourcePhysiologicalStateId',\n",
       "       'sourcePhysiologicalStateName', 'interactionTypeName',\n",
       "       'interactionTypeId', 'targetTaxonId', 'targetTaxonIds',\n",
       "       'targetTaxonName', 'targetTaxonRank', 'targetTaxonPathNames',\n",
       "       'targetTaxonPathIds', 'targetTaxonPathRankNames',\n",
       "       'targetTaxonSpeciesName', 'targetTaxonSpeciesId',\n",
       "       'targetTaxonGenusName', 'targetTaxonGenusId', 'targetTaxonFamilyName',\n",
       "       'targetTaxonFamilyId', 'targetTaxonOrderName', 'targetTaxonOrderId',\n",
       "       'targetTaxonClassName', 'targetTaxonClassId', 'targetTaxonPhylumName',\n",
       "       'targetTaxonPhylumId', 'targetTaxonKingdomName', 'targetTaxonKingdomId',\n",
       "       'targetId', 'targetOccurrenceId', 'targetCatalogNumber',\n",
       "       'targetBasisOfRecordId', 'targetBasisOfRecordName', 'targetLifeStageId',\n",
       "       'targetLifeStageName', 'targetBodyPartId', 'targetBodyPartName',\n",
       "       'targetPhysiologicalStateId', 'targetPhysiologicalStateName',\n",
       "       'decimalLatitude', 'decimalLongitude', 'localityId', 'localityName',\n",
       "       'eventDateUnixEpoch', 'argumentTypeId', 'referenceCitation',\n",
       "       'referenceDoi', 'referenceUrl', 'sourceCitation', 'sourceNamespace',\n",
       "       'sourceArchiveURI', 'sourceDOI', 'sourceLastSeenAtUnixEpoch'],\n",
       "      dtype='object')"
      ]
     },
     "execution_count": 19,
     "metadata": {},
     "output_type": "execute_result"
    }
   ],
   "source": [
    "# What are the columns of this dataset?\n",
    "data.columns"
   ]
  },
  {
   "cell_type": "markdown",
   "metadata": {},
   "source": [
    "## Get the primary interation data for the species in question"
   ]
  },
  {
   "cell_type": "code",
   "execution_count": 20,
   "metadata": {},
   "outputs": [],
   "source": [
    "    interactDataTaxon = data[data['targetTaxonName'] == taxon]\n",
    "    interactDataTaxon = interactDataTaxon.append(data[data['sourceTaxonName'] == taxon])"
   ]
  },
  {
   "cell_type": "code",
   "execution_count": 21,
   "metadata": {},
   "outputs": [
    {
     "data": {
      "text/plain": [
       "sourceTaxonId                29\n",
       "sourceTaxonIds               29\n",
       "sourceTaxonName              29\n",
       "sourceTaxonRank              29\n",
       "sourceTaxonPathNames         29\n",
       "                             ..\n",
       "sourceCitation               29\n",
       "sourceNamespace              29\n",
       "sourceArchiveURI             29\n",
       "sourceDOI                     9\n",
       "sourceLastSeenAtUnixEpoch    29\n",
       "Length: 80, dtype: int64"
      ]
     },
     "execution_count": 21,
     "metadata": {},
     "output_type": "execute_result"
    }
   ],
   "source": [
    "interactDataTaxon.count()"
   ]
  },
  {
   "cell_type": "markdown",
   "metadata": {},
   "source": [
    "## Get a list of all the primary interacting species"
   ]
  },
  {
   "cell_type": "code",
   "execution_count": 22,
   "metadata": {},
   "outputs": [],
   "source": [
    "interactingTaxa = pd.DataFrame(interactDataTaxon['sourceTaxonName'].append(interactDataTaxon['targetTaxonName']).unique())"
   ]
  },
  {
   "cell_type": "code",
   "execution_count": 23,
   "metadata": {},
   "outputs": [
    {
     "data": {
      "text/html": [
       "<div>\n",
       "<style scoped>\n",
       "    .dataframe tbody tr th:only-of-type {\n",
       "        vertical-align: middle;\n",
       "    }\n",
       "\n",
       "    .dataframe tbody tr th {\n",
       "        vertical-align: top;\n",
       "    }\n",
       "\n",
       "    .dataframe thead th {\n",
       "        text-align: right;\n",
       "    }\n",
       "</style>\n",
       "<table border=\"1\" class=\"dataframe\">\n",
       "  <thead>\n",
       "    <tr style=\"text-align: right;\">\n",
       "      <th></th>\n",
       "      <th>0</th>\n",
       "    </tr>\n",
       "  </thead>\n",
       "  <tbody>\n",
       "    <tr>\n",
       "      <td>0</td>\n",
       "      <td>Anas aucklandica</td>\n",
       "    </tr>\n",
       "    <tr>\n",
       "      <td>1</td>\n",
       "      <td>Callipepla californica</td>\n",
       "    </tr>\n",
       "    <tr>\n",
       "      <td>2</td>\n",
       "      <td>Melozone crissalis</td>\n",
       "    </tr>\n",
       "    <tr>\n",
       "      <td>3</td>\n",
       "      <td>Haemorhous mexicanus</td>\n",
       "    </tr>\n",
       "    <tr>\n",
       "      <td>4</td>\n",
       "      <td>Puccinia sorghi</td>\n",
       "    </tr>\n",
       "    <tr>\n",
       "      <td>5</td>\n",
       "      <td>Erysiphe russellii</td>\n",
       "    </tr>\n",
       "    <tr>\n",
       "      <td>6</td>\n",
       "      <td>Zizula hylax</td>\n",
       "    </tr>\n",
       "    <tr>\n",
       "      <td>7</td>\n",
       "      <td>Pseudozizeeria maha</td>\n",
       "    </tr>\n",
       "    <tr>\n",
       "      <td>8</td>\n",
       "      <td>Lucia limbaria</td>\n",
       "    </tr>\n",
       "    <tr>\n",
       "      <td>9</td>\n",
       "      <td>Zizeeria knysna</td>\n",
       "    </tr>\n",
       "    <tr>\n",
       "      <td>10</td>\n",
       "      <td>Actizera stellata</td>\n",
       "    </tr>\n",
       "    <tr>\n",
       "      <td>11</td>\n",
       "      <td>Actizera lucida</td>\n",
       "    </tr>\n",
       "    <tr>\n",
       "      <td>12</td>\n",
       "      <td>Ichneumon ambulatorius</td>\n",
       "    </tr>\n",
       "    <tr>\n",
       "      <td>13</td>\n",
       "      <td>Bibio albipennis</td>\n",
       "    </tr>\n",
       "    <tr>\n",
       "      <td>14</td>\n",
       "      <td>Cylindromyia rufipes</td>\n",
       "    </tr>\n",
       "    <tr>\n",
       "      <td>15</td>\n",
       "      <td>Leptometopa latipes</td>\n",
       "    </tr>\n",
       "    <tr>\n",
       "      <td>16</td>\n",
       "      <td>Thorybes bathyllus</td>\n",
       "    </tr>\n",
       "    <tr>\n",
       "      <td>17</td>\n",
       "      <td>Epeolus pusillus</td>\n",
       "    </tr>\n",
       "    <tr>\n",
       "      <td>18</td>\n",
       "      <td>Photinus pyralis</td>\n",
       "    </tr>\n",
       "    <tr>\n",
       "      <td>19</td>\n",
       "      <td>Trichiotinus affinis</td>\n",
       "    </tr>\n",
       "    <tr>\n",
       "      <td>20</td>\n",
       "      <td>Mordellistena aspersa</td>\n",
       "    </tr>\n",
       "    <tr>\n",
       "      <td>21</td>\n",
       "      <td>Asclera puncticollis</td>\n",
       "    </tr>\n",
       "    <tr>\n",
       "      <td>22</td>\n",
       "      <td>Andrena pruni</td>\n",
       "    </tr>\n",
       "    <tr>\n",
       "      <td>23</td>\n",
       "      <td>Sapyga centrata</td>\n",
       "    </tr>\n",
       "    <tr>\n",
       "      <td>24</td>\n",
       "      <td>Ceratina dupla</td>\n",
       "    </tr>\n",
       "    <tr>\n",
       "      <td>25</td>\n",
       "      <td>Tomato leaf curl China virus - OX2</td>\n",
       "    </tr>\n",
       "    <tr>\n",
       "      <td>26</td>\n",
       "      <td>Ageratum Yellow vein China virus - OX1</td>\n",
       "    </tr>\n",
       "    <tr>\n",
       "      <td>27</td>\n",
       "      <td>Petrobia harti</td>\n",
       "    </tr>\n",
       "    <tr>\n",
       "      <td>28</td>\n",
       "      <td>Oxalis corniculata</td>\n",
       "    </tr>\n",
       "  </tbody>\n",
       "</table>\n",
       "</div>"
      ],
      "text/plain": [
       "                                         0\n",
       "0                         Anas aucklandica\n",
       "1                   Callipepla californica\n",
       "2                       Melozone crissalis\n",
       "3                     Haemorhous mexicanus\n",
       "4                          Puccinia sorghi\n",
       "5                       Erysiphe russellii\n",
       "6                             Zizula hylax\n",
       "7                      Pseudozizeeria maha\n",
       "8                           Lucia limbaria\n",
       "9                          Zizeeria knysna\n",
       "10                       Actizera stellata\n",
       "11                         Actizera lucida\n",
       "12                  Ichneumon ambulatorius\n",
       "13                        Bibio albipennis\n",
       "14                    Cylindromyia rufipes\n",
       "15                     Leptometopa latipes\n",
       "16                      Thorybes bathyllus\n",
       "17                        Epeolus pusillus\n",
       "18                        Photinus pyralis\n",
       "19                    Trichiotinus affinis\n",
       "20                   Mordellistena aspersa\n",
       "21                    Asclera puncticollis\n",
       "22                           Andrena pruni\n",
       "23                         Sapyga centrata\n",
       "24                          Ceratina dupla\n",
       "25      Tomato leaf curl China virus - OX2\n",
       "26  Ageratum Yellow vein China virus - OX1\n",
       "27                          Petrobia harti\n",
       "28                      Oxalis corniculata"
      ]
     },
     "execution_count": 23,
     "metadata": {},
     "output_type": "execute_result"
    }
   ],
   "source": [
    "interactingTaxa"
   ]
  },
  {
   "cell_type": "markdown",
   "metadata": {},
   "source": [
    "## Get all the secondary interactions"
   ]
  },
  {
   "cell_type": "code",
   "execution_count": 24,
   "metadata": {},
   "outputs": [],
   "source": [
    "for name in interactingTaxa[0]:\n",
    "    interactDataTaxon = interactDataTaxon.append(data[data['targetTaxonName'] == name])\n",
    "    interactDataTaxon = interactDataTaxon.append(data[data['sourceTaxonName'] == name])"
   ]
  },
  {
   "cell_type": "code",
   "execution_count": 25,
   "metadata": {},
   "outputs": [
    {
     "data": {
      "text/html": [
       "<div>\n",
       "<style scoped>\n",
       "    .dataframe tbody tr th:only-of-type {\n",
       "        vertical-align: middle;\n",
       "    }\n",
       "\n",
       "    .dataframe tbody tr th {\n",
       "        vertical-align: top;\n",
       "    }\n",
       "\n",
       "    .dataframe thead th {\n",
       "        text-align: right;\n",
       "    }\n",
       "</style>\n",
       "<table border=\"1\" class=\"dataframe\">\n",
       "  <thead>\n",
       "    <tr style=\"text-align: right;\">\n",
       "      <th></th>\n",
       "      <th>sourceTaxonId</th>\n",
       "      <th>sourceTaxonIds</th>\n",
       "      <th>sourceTaxonName</th>\n",
       "      <th>sourceTaxonRank</th>\n",
       "      <th>sourceTaxonPathNames</th>\n",
       "      <th>sourceTaxonPathIds</th>\n",
       "      <th>sourceTaxonPathRankNames</th>\n",
       "      <th>sourceTaxonSpeciesName</th>\n",
       "      <th>sourceTaxonSpeciesId</th>\n",
       "      <th>sourceTaxonGenusName</th>\n",
       "      <th>...</th>\n",
       "      <th>eventDateUnixEpoch</th>\n",
       "      <th>argumentTypeId</th>\n",
       "      <th>referenceCitation</th>\n",
       "      <th>referenceDoi</th>\n",
       "      <th>referenceUrl</th>\n",
       "      <th>sourceCitation</th>\n",
       "      <th>sourceNamespace</th>\n",
       "      <th>sourceArchiveURI</th>\n",
       "      <th>sourceDOI</th>\n",
       "      <th>sourceLastSeenAtUnixEpoch</th>\n",
       "    </tr>\n",
       "  </thead>\n",
       "  <tbody>\n",
       "    <tr>\n",
       "      <td>193783</td>\n",
       "      <td>EOL:1048468</td>\n",
       "      <td>EOL:1048468 | WD:Q262071 | EOL:1048468</td>\n",
       "      <td>Anas aucklandica</td>\n",
       "      <td>species</td>\n",
       "      <td>Anas aucklandica</td>\n",
       "      <td>EOL:1048468</td>\n",
       "      <td>species</td>\n",
       "      <td>Anas aucklandica</td>\n",
       "      <td>EOL:1048468</td>\n",
       "      <td>NaN</td>\n",
       "      <td>...</td>\n",
       "      <td>1.136074e+12</td>\n",
       "      <td>https://en.wiktionary.org/wiki/support</td>\n",
       "      <td>Moore, S.J., P.F. Battley, I.M. Henderson, and...</td>\n",
       "      <td>NaN</td>\n",
       "      <td>NaN</td>\n",
       "      <td>Allen Hurlbert. 2017. Avian Diet Database.</td>\n",
       "      <td>Dryu0003/dietdatabase</td>\n",
       "      <td>https://github.com/Dryu0003/dietdatabase/archi...</td>\n",
       "      <td>NaN</td>\n",
       "      <td>2019-11-03T00:06:25.837Z</td>\n",
       "    </tr>\n",
       "    <tr>\n",
       "      <td>212212</td>\n",
       "      <td>EOL_V2:1049189</td>\n",
       "      <td>EOL_V2:1049189 | OTT:340882 | WD:Q830385 | NCB...</td>\n",
       "      <td>Callipepla californica</td>\n",
       "      <td>species</td>\n",
       "      <td>Animalia | Chordata | Aves | Galliformes | Odo...</td>\n",
       "      <td>EOL:1 | EOL:694 | EOL:695 | EOL:7589 | EOL:759...</td>\n",
       "      <td>kingdom | phylum | class | order | family | ge...</td>\n",
       "      <td>Callipepla californica</td>\n",
       "      <td>EOL_V2:1049189</td>\n",
       "      <td>Callipepla</td>\n",
       "      <td>...</td>\n",
       "      <td>-1.864598e+12</td>\n",
       "      <td>https://en.wiktionary.org/wiki/support</td>\n",
       "      <td>Beal, F. E. L. 1910. Birds of California in re...</td>\n",
       "      <td>NaN</td>\n",
       "      <td>NaN</td>\n",
       "      <td>Allen Hurlbert. 2017. Avian Diet Database.</td>\n",
       "      <td>Dryu0003/dietdatabase</td>\n",
       "      <td>https://github.com/Dryu0003/dietdatabase/archi...</td>\n",
       "      <td>NaN</td>\n",
       "      <td>2019-11-03T00:06:25.837Z</td>\n",
       "    </tr>\n",
       "    <tr>\n",
       "      <td>212652</td>\n",
       "      <td>GBIF:7341600</td>\n",
       "      <td>GBIF:7341600 | OTT:3597248 | INAT_TAXON:73044 ...</td>\n",
       "      <td>Melozone crissalis</td>\n",
       "      <td>species</td>\n",
       "      <td>Animalia | Chordata | Aves | Passeriformes | E...</td>\n",
       "      <td>GBIF:1 | GBIF:44 | GBIF:212 | GBIF:729 | GBIF:...</td>\n",
       "      <td>kingdom | phylum | class | order | family | ge...</td>\n",
       "      <td>Melozone crissalis</td>\n",
       "      <td>GBIF:7341600</td>\n",
       "      <td>Melozone</td>\n",
       "      <td>...</td>\n",
       "      <td>-1.864598e+12</td>\n",
       "      <td>https://en.wiktionary.org/wiki/support</td>\n",
       "      <td>Beal, F. E. L. 1910. Birds of California in re...</td>\n",
       "      <td>NaN</td>\n",
       "      <td>NaN</td>\n",
       "      <td>Allen Hurlbert. 2017. Avian Diet Database.</td>\n",
       "      <td>Dryu0003/dietdatabase</td>\n",
       "      <td>https://github.com/Dryu0003/dietdatabase/archi...</td>\n",
       "      <td>NaN</td>\n",
       "      <td>2019-11-03T00:06:25.837Z</td>\n",
       "    </tr>\n",
       "    <tr>\n",
       "      <td>213107</td>\n",
       "      <td>ITIS:997805</td>\n",
       "      <td>ITIS:997805 | OTT:711865 | GBIF:8323485 | WD:Q...</td>\n",
       "      <td>Haemorhous mexicanus</td>\n",
       "      <td>species</td>\n",
       "      <td>Animalia | Bilateria | Deuterostomia | Chordat...</td>\n",
       "      <td>ITIS:202423 | ITIS:914154 | ITIS:914156 | ITIS...</td>\n",
       "      <td>kingdom | subkingdom | infrakingdom | phylum |...</td>\n",
       "      <td>Haemorhous mexicanus</td>\n",
       "      <td>ITIS:997805</td>\n",
       "      <td>Haemorhous</td>\n",
       "      <td>...</td>\n",
       "      <td>-2.177453e+12</td>\n",
       "      <td>https://en.wiktionary.org/wiki/support</td>\n",
       "      <td>Beal, F. E. L. 1907. Birds of California in re...</td>\n",
       "      <td>NaN</td>\n",
       "      <td>NaN</td>\n",
       "      <td>Allen Hurlbert. 2017. Avian Diet Database.</td>\n",
       "      <td>Dryu0003/dietdatabase</td>\n",
       "      <td>https://github.com/Dryu0003/dietdatabase/archi...</td>\n",
       "      <td>NaN</td>\n",
       "      <td>2019-11-03T00:06:25.837Z</td>\n",
       "    </tr>\n",
       "    <tr>\n",
       "      <td>1131090</td>\n",
       "      <td>GBIF:2514966</td>\n",
       "      <td>GBIF:2514966 | OTT:42566 | EOL:1017401 | GBIF:...</td>\n",
       "      <td>Puccinia sorghi</td>\n",
       "      <td>species</td>\n",
       "      <td>Fungi | Basidiomycota | Pucciniomycetes | Pucc...</td>\n",
       "      <td>GBIF:5 | GBIF:34 | GBIF:270 | GBIF:1126 | GBIF...</td>\n",
       "      <td>kingdom | phylum | class | order | family | ge...</td>\n",
       "      <td>Puccinia sorghi</td>\n",
       "      <td>GBIF:2514966</td>\n",
       "      <td>Puccinia</td>\n",
       "      <td>...</td>\n",
       "      <td>NaN</td>\n",
       "      <td>https://en.wiktionary.org/wiki/support</td>\n",
       "      <td>Laundon, G.F. &amp; Waterston, J.M.. 1964. Puccini...</td>\n",
       "      <td>NaN</td>\n",
       "      <td>NaN</td>\n",
       "      <td>Food Webs and Species Interactions in the Biod...</td>\n",
       "      <td>globalbioticinteractions/bioinfo</td>\n",
       "      <td>https://zenodo.org/record/1419646/files/global...</td>\n",
       "      <td>10.5281/zenodo.1419646</td>\n",
       "      <td>2019-11-02T23:26:01.682Z</td>\n",
       "    </tr>\n",
       "  </tbody>\n",
       "</table>\n",
       "<p>5 rows × 80 columns</p>\n",
       "</div>"
      ],
      "text/plain": [
       "          sourceTaxonId                                     sourceTaxonIds  \\\n",
       "193783      EOL:1048468             EOL:1048468 | WD:Q262071 | EOL:1048468   \n",
       "212212   EOL_V2:1049189  EOL_V2:1049189 | OTT:340882 | WD:Q830385 | NCB...   \n",
       "212652     GBIF:7341600  GBIF:7341600 | OTT:3597248 | INAT_TAXON:73044 ...   \n",
       "213107      ITIS:997805  ITIS:997805 | OTT:711865 | GBIF:8323485 | WD:Q...   \n",
       "1131090    GBIF:2514966  GBIF:2514966 | OTT:42566 | EOL:1017401 | GBIF:...   \n",
       "\n",
       "                sourceTaxonName sourceTaxonRank  \\\n",
       "193783         Anas aucklandica         species   \n",
       "212212   Callipepla californica         species   \n",
       "212652       Melozone crissalis         species   \n",
       "213107     Haemorhous mexicanus         species   \n",
       "1131090         Puccinia sorghi         species   \n",
       "\n",
       "                                      sourceTaxonPathNames  \\\n",
       "193783                                    Anas aucklandica   \n",
       "212212   Animalia | Chordata | Aves | Galliformes | Odo...   \n",
       "212652   Animalia | Chordata | Aves | Passeriformes | E...   \n",
       "213107   Animalia | Bilateria | Deuterostomia | Chordat...   \n",
       "1131090  Fungi | Basidiomycota | Pucciniomycetes | Pucc...   \n",
       "\n",
       "                                        sourceTaxonPathIds  \\\n",
       "193783                                         EOL:1048468   \n",
       "212212   EOL:1 | EOL:694 | EOL:695 | EOL:7589 | EOL:759...   \n",
       "212652   GBIF:1 | GBIF:44 | GBIF:212 | GBIF:729 | GBIF:...   \n",
       "213107   ITIS:202423 | ITIS:914154 | ITIS:914156 | ITIS...   \n",
       "1131090  GBIF:5 | GBIF:34 | GBIF:270 | GBIF:1126 | GBIF...   \n",
       "\n",
       "                                  sourceTaxonPathRankNames  \\\n",
       "193783                                             species   \n",
       "212212   kingdom | phylum | class | order | family | ge...   \n",
       "212652   kingdom | phylum | class | order | family | ge...   \n",
       "213107   kingdom | subkingdom | infrakingdom | phylum |...   \n",
       "1131090  kingdom | phylum | class | order | family | ge...   \n",
       "\n",
       "         sourceTaxonSpeciesName sourceTaxonSpeciesId sourceTaxonGenusName  \\\n",
       "193783         Anas aucklandica          EOL:1048468                  NaN   \n",
       "212212   Callipepla californica       EOL_V2:1049189           Callipepla   \n",
       "212652       Melozone crissalis         GBIF:7341600             Melozone   \n",
       "213107     Haemorhous mexicanus          ITIS:997805           Haemorhous   \n",
       "1131090         Puccinia sorghi         GBIF:2514966             Puccinia   \n",
       "\n",
       "         ... eventDateUnixEpoch                          argumentTypeId  \\\n",
       "193783   ...       1.136074e+12  https://en.wiktionary.org/wiki/support   \n",
       "212212   ...      -1.864598e+12  https://en.wiktionary.org/wiki/support   \n",
       "212652   ...      -1.864598e+12  https://en.wiktionary.org/wiki/support   \n",
       "213107   ...      -2.177453e+12  https://en.wiktionary.org/wiki/support   \n",
       "1131090  ...                NaN  https://en.wiktionary.org/wiki/support   \n",
       "\n",
       "                                         referenceCitation referenceDoi  \\\n",
       "193783   Moore, S.J., P.F. Battley, I.M. Henderson, and...          NaN   \n",
       "212212   Beal, F. E. L. 1910. Birds of California in re...          NaN   \n",
       "212652   Beal, F. E. L. 1910. Birds of California in re...          NaN   \n",
       "213107   Beal, F. E. L. 1907. Birds of California in re...          NaN   \n",
       "1131090  Laundon, G.F. & Waterston, J.M.. 1964. Puccini...          NaN   \n",
       "\n",
       "        referenceUrl                                     sourceCitation  \\\n",
       "193783           NaN         Allen Hurlbert. 2017. Avian Diet Database.   \n",
       "212212           NaN         Allen Hurlbert. 2017. Avian Diet Database.   \n",
       "212652           NaN         Allen Hurlbert. 2017. Avian Diet Database.   \n",
       "213107           NaN         Allen Hurlbert. 2017. Avian Diet Database.   \n",
       "1131090          NaN  Food Webs and Species Interactions in the Biod...   \n",
       "\n",
       "                          sourceNamespace  \\\n",
       "193783              Dryu0003/dietdatabase   \n",
       "212212              Dryu0003/dietdatabase   \n",
       "212652              Dryu0003/dietdatabase   \n",
       "213107              Dryu0003/dietdatabase   \n",
       "1131090  globalbioticinteractions/bioinfo   \n",
       "\n",
       "                                          sourceArchiveURI  \\\n",
       "193783   https://github.com/Dryu0003/dietdatabase/archi...   \n",
       "212212   https://github.com/Dryu0003/dietdatabase/archi...   \n",
       "212652   https://github.com/Dryu0003/dietdatabase/archi...   \n",
       "213107   https://github.com/Dryu0003/dietdatabase/archi...   \n",
       "1131090  https://zenodo.org/record/1419646/files/global...   \n",
       "\n",
       "                      sourceDOI sourceLastSeenAtUnixEpoch  \n",
       "193783                      NaN  2019-11-03T00:06:25.837Z  \n",
       "212212                      NaN  2019-11-03T00:06:25.837Z  \n",
       "212652                      NaN  2019-11-03T00:06:25.837Z  \n",
       "213107                      NaN  2019-11-03T00:06:25.837Z  \n",
       "1131090  10.5281/zenodo.1419646  2019-11-02T23:26:01.682Z  \n",
       "\n",
       "[5 rows x 80 columns]"
      ]
     },
     "execution_count": 25,
     "metadata": {},
     "output_type": "execute_result"
    }
   ],
   "source": [
    "interactDataTaxon.head()"
   ]
  },
  {
   "cell_type": "code",
   "execution_count": 26,
   "metadata": {},
   "outputs": [],
   "source": [
    "interactingTaxa = pd.DataFrame(interactDataTaxon['sourceTaxonName'].append(interactDataTaxon['targetTaxonName']).unique())"
   ]
  },
  {
   "cell_type": "code",
   "execution_count": 27,
   "metadata": {},
   "outputs": [
    {
     "data": {
      "text/html": [
       "<div>\n",
       "<style scoped>\n",
       "    .dataframe tbody tr th:only-of-type {\n",
       "        vertical-align: middle;\n",
       "    }\n",
       "\n",
       "    .dataframe tbody tr th {\n",
       "        vertical-align: top;\n",
       "    }\n",
       "\n",
       "    .dataframe thead th {\n",
       "        text-align: right;\n",
       "    }\n",
       "</style>\n",
       "<table border=\"1\" class=\"dataframe\">\n",
       "  <thead>\n",
       "    <tr style=\"text-align: right;\">\n",
       "      <th></th>\n",
       "      <th>0</th>\n",
       "    </tr>\n",
       "  </thead>\n",
       "  <tbody>\n",
       "    <tr>\n",
       "      <td>0</td>\n",
       "      <td>Anas aucklandica</td>\n",
       "    </tr>\n",
       "    <tr>\n",
       "      <td>1</td>\n",
       "      <td>Callipepla californica</td>\n",
       "    </tr>\n",
       "    <tr>\n",
       "      <td>2</td>\n",
       "      <td>Melozone crissalis</td>\n",
       "    </tr>\n",
       "    <tr>\n",
       "      <td>3</td>\n",
       "      <td>Haemorhous mexicanus</td>\n",
       "    </tr>\n",
       "    <tr>\n",
       "      <td>4</td>\n",
       "      <td>Puccinia sorghi</td>\n",
       "    </tr>\n",
       "    <tr>\n",
       "      <td>...</td>\n",
       "      <td>...</td>\n",
       "    </tr>\n",
       "    <tr>\n",
       "      <td>365</td>\n",
       "      <td>Lactuca canadensis</td>\n",
       "    </tr>\n",
       "    <tr>\n",
       "      <td>366</td>\n",
       "      <td>Krigia biflora</td>\n",
       "    </tr>\n",
       "    <tr>\n",
       "      <td>367</td>\n",
       "      <td>Parthenium integrifolium</td>\n",
       "    </tr>\n",
       "    <tr>\n",
       "      <td>368</td>\n",
       "      <td>Leonurus cardiaca</td>\n",
       "    </tr>\n",
       "    <tr>\n",
       "      <td>369</td>\n",
       "      <td>Symphyotrichum turbinellum</td>\n",
       "    </tr>\n",
       "  </tbody>\n",
       "</table>\n",
       "<p>370 rows × 1 columns</p>\n",
       "</div>"
      ],
      "text/plain": [
       "                              0\n",
       "0              Anas aucklandica\n",
       "1        Callipepla californica\n",
       "2            Melozone crissalis\n",
       "3          Haemorhous mexicanus\n",
       "4               Puccinia sorghi\n",
       "..                          ...\n",
       "365          Lactuca canadensis\n",
       "366              Krigia biflora\n",
       "367    Parthenium integrifolium\n",
       "368           Leonurus cardiaca\n",
       "369  Symphyotrichum turbinellum\n",
       "\n",
       "[370 rows x 1 columns]"
      ]
     },
     "execution_count": 27,
     "metadata": {},
     "output_type": "execute_result"
    }
   ],
   "source": [
    "interactingTaxa"
   ]
  },
  {
   "cell_type": "code",
   "execution_count": 28,
   "metadata": {},
   "outputs": [],
   "source": [
    "    cleanInteractDataTaxon = interactDataTaxon[['sourceTaxonId', 'sourceTaxonName', 'sourceTaxonRank',\n",
    "       'sourceTaxonFamilyName', 'interactionTypeName',\n",
    "       'targetTaxonName','targetTaxonRank',\n",
    "        ]].dropna(subset=['targetTaxonName','sourceTaxonName'])"
   ]
  },
  {
   "cell_type": "code",
   "execution_count": 29,
   "metadata": {},
   "outputs": [
    {
     "data": {
      "text/html": [
       "<div>\n",
       "<style scoped>\n",
       "    .dataframe tbody tr th:only-of-type {\n",
       "        vertical-align: middle;\n",
       "    }\n",
       "\n",
       "    .dataframe tbody tr th {\n",
       "        vertical-align: top;\n",
       "    }\n",
       "\n",
       "    .dataframe thead th {\n",
       "        text-align: right;\n",
       "    }\n",
       "</style>\n",
       "<table border=\"1\" class=\"dataframe\">\n",
       "  <thead>\n",
       "    <tr style=\"text-align: right;\">\n",
       "      <th></th>\n",
       "      <th>sourceTaxonId</th>\n",
       "      <th>sourceTaxonName</th>\n",
       "      <th>sourceTaxonRank</th>\n",
       "      <th>sourceTaxonFamilyName</th>\n",
       "      <th>interactionTypeName</th>\n",
       "      <th>targetTaxonName</th>\n",
       "      <th>targetTaxonRank</th>\n",
       "    </tr>\n",
       "  </thead>\n",
       "  <tbody>\n",
       "    <tr>\n",
       "      <td>193783</td>\n",
       "      <td>EOL:1048468</td>\n",
       "      <td>Anas aucklandica</td>\n",
       "      <td>species</td>\n",
       "      <td>NaN</td>\n",
       "      <td>eats</td>\n",
       "      <td>Oxalis corniculata</td>\n",
       "      <td>species</td>\n",
       "    </tr>\n",
       "    <tr>\n",
       "      <td>212212</td>\n",
       "      <td>EOL_V2:1049189</td>\n",
       "      <td>Callipepla californica</td>\n",
       "      <td>species</td>\n",
       "      <td>Odontophoridae</td>\n",
       "      <td>eats</td>\n",
       "      <td>Oxalis corniculata</td>\n",
       "      <td>species</td>\n",
       "    </tr>\n",
       "    <tr>\n",
       "      <td>212652</td>\n",
       "      <td>GBIF:7341600</td>\n",
       "      <td>Melozone crissalis</td>\n",
       "      <td>species</td>\n",
       "      <td>Emberizidae</td>\n",
       "      <td>eats</td>\n",
       "      <td>Oxalis corniculata</td>\n",
       "      <td>species</td>\n",
       "    </tr>\n",
       "    <tr>\n",
       "      <td>213107</td>\n",
       "      <td>ITIS:997805</td>\n",
       "      <td>Haemorhous mexicanus</td>\n",
       "      <td>species</td>\n",
       "      <td>Fringillidae</td>\n",
       "      <td>eats</td>\n",
       "      <td>Oxalis corniculata</td>\n",
       "      <td>species</td>\n",
       "    </tr>\n",
       "    <tr>\n",
       "      <td>1131090</td>\n",
       "      <td>GBIF:2514966</td>\n",
       "      <td>Puccinia sorghi</td>\n",
       "      <td>species</td>\n",
       "      <td>Pucciniaceae</td>\n",
       "      <td>parasiteOf</td>\n",
       "      <td>Oxalis corniculata</td>\n",
       "      <td>species</td>\n",
       "    </tr>\n",
       "  </tbody>\n",
       "</table>\n",
       "</div>"
      ],
      "text/plain": [
       "          sourceTaxonId         sourceTaxonName sourceTaxonRank  \\\n",
       "193783      EOL:1048468        Anas aucklandica         species   \n",
       "212212   EOL_V2:1049189  Callipepla californica         species   \n",
       "212652     GBIF:7341600      Melozone crissalis         species   \n",
       "213107      ITIS:997805    Haemorhous mexicanus         species   \n",
       "1131090    GBIF:2514966         Puccinia sorghi         species   \n",
       "\n",
       "        sourceTaxonFamilyName interactionTypeName     targetTaxonName  \\\n",
       "193783                    NaN                eats  Oxalis corniculata   \n",
       "212212         Odontophoridae                eats  Oxalis corniculata   \n",
       "212652            Emberizidae                eats  Oxalis corniculata   \n",
       "213107           Fringillidae                eats  Oxalis corniculata   \n",
       "1131090          Pucciniaceae          parasiteOf  Oxalis corniculata   \n",
       "\n",
       "        targetTaxonRank  \n",
       "193783          species  \n",
       "212212          species  \n",
       "212652          species  \n",
       "213107          species  \n",
       "1131090         species  "
      ]
     },
     "execution_count": 29,
     "metadata": {},
     "output_type": "execute_result"
    }
   ],
   "source": [
    "cleanInteractDataTaxon.head()"
   ]
  },
  {
   "cell_type": "code",
   "execution_count": 30,
   "metadata": {},
   "outputs": [
    {
     "data": {
      "text/plain": [
       "array(['eats', 'parasiteOf', 'hasHost', 'mutualistOf', 'pathogenOf',\n",
       "       'ectoParasiteOf', 'endoparasiteOf'], dtype=object)"
      ]
     },
     "execution_count": 30,
     "metadata": {},
     "output_type": "execute_result"
    }
   ],
   "source": [
    "# How many different sort of interaction do I have left?\n",
    "# Checking out all the interaction types\n",
    "cleanInteractDataTaxon['interactionTypeName'].unique()"
   ]
  },
  {
   "cell_type": "code",
   "execution_count": 31,
   "metadata": {},
   "outputs": [
    {
     "data": {
      "text/plain": [
       "interactionTypeName\n",
       "mutualistOf       322\n",
       "eats              230\n",
       "parasiteOf         23\n",
       "hasHost            22\n",
       "pathogenOf          9\n",
       "ectoParasiteOf      7\n",
       "endoparasiteOf      2\n",
       "dtype: int64"
      ]
     },
     "execution_count": 31,
     "metadata": {},
     "output_type": "execute_result"
    }
   ],
   "source": [
    "cleanInteractDataTaxon.groupby(cleanInteractDataTaxon['interactionTypeName']).size().sort_values(ascending = False)"
   ]
  },
  {
   "cell_type": "code",
   "execution_count": 32,
   "metadata": {},
   "outputs": [
    {
     "data": {
      "text/plain": [
       "615"
      ]
     },
     "execution_count": 32,
     "metadata": {},
     "output_type": "execute_result"
    }
   ],
   "source": [
    "len(cleanInteractDataTaxon)"
   ]
  },
  {
   "cell_type": "code",
   "execution_count": 33,
   "metadata": {},
   "outputs": [
    {
     "data": {
      "text/html": [
       "<div>\n",
       "<style scoped>\n",
       "    .dataframe tbody tr th:only-of-type {\n",
       "        vertical-align: middle;\n",
       "    }\n",
       "\n",
       "    .dataframe tbody tr th {\n",
       "        vertical-align: top;\n",
       "    }\n",
       "\n",
       "    .dataframe thead th {\n",
       "        text-align: right;\n",
       "    }\n",
       "</style>\n",
       "<table border=\"1\" class=\"dataframe\">\n",
       "  <thead>\n",
       "    <tr style=\"text-align: right;\">\n",
       "      <th></th>\n",
       "      <th>sourceTaxonId</th>\n",
       "      <th>sourceTaxonName</th>\n",
       "      <th>sourceTaxonRank</th>\n",
       "      <th>sourceTaxonFamilyName</th>\n",
       "      <th>interactionTypeName</th>\n",
       "      <th>targetTaxonName</th>\n",
       "      <th>targetTaxonRank</th>\n",
       "    </tr>\n",
       "  </thead>\n",
       "  <tbody>\n",
       "    <tr>\n",
       "      <td>193783</td>\n",
       "      <td>EOL:1048468</td>\n",
       "      <td>Anas aucklandica</td>\n",
       "      <td>species</td>\n",
       "      <td>NaN</td>\n",
       "      <td>eats</td>\n",
       "      <td>Oxalis corniculata</td>\n",
       "      <td>species</td>\n",
       "    </tr>\n",
       "    <tr>\n",
       "      <td>212212</td>\n",
       "      <td>EOL_V2:1049189</td>\n",
       "      <td>Callipepla californica</td>\n",
       "      <td>species</td>\n",
       "      <td>Odontophoridae</td>\n",
       "      <td>eats</td>\n",
       "      <td>Oxalis corniculata</td>\n",
       "      <td>species</td>\n",
       "    </tr>\n",
       "    <tr>\n",
       "      <td>212652</td>\n",
       "      <td>GBIF:7341600</td>\n",
       "      <td>Melozone crissalis</td>\n",
       "      <td>species</td>\n",
       "      <td>Emberizidae</td>\n",
       "      <td>eats</td>\n",
       "      <td>Oxalis corniculata</td>\n",
       "      <td>species</td>\n",
       "    </tr>\n",
       "    <tr>\n",
       "      <td>213107</td>\n",
       "      <td>ITIS:997805</td>\n",
       "      <td>Haemorhous mexicanus</td>\n",
       "      <td>species</td>\n",
       "      <td>Fringillidae</td>\n",
       "      <td>eats</td>\n",
       "      <td>Oxalis corniculata</td>\n",
       "      <td>species</td>\n",
       "    </tr>\n",
       "    <tr>\n",
       "      <td>1131090</td>\n",
       "      <td>GBIF:2514966</td>\n",
       "      <td>Puccinia sorghi</td>\n",
       "      <td>species</td>\n",
       "      <td>Pucciniaceae</td>\n",
       "      <td>parasiteOf</td>\n",
       "      <td>Oxalis corniculata</td>\n",
       "      <td>species</td>\n",
       "    </tr>\n",
       "  </tbody>\n",
       "</table>\n",
       "</div>"
      ],
      "text/plain": [
       "          sourceTaxonId         sourceTaxonName sourceTaxonRank  \\\n",
       "193783      EOL:1048468        Anas aucklandica         species   \n",
       "212212   EOL_V2:1049189  Callipepla californica         species   \n",
       "212652     GBIF:7341600      Melozone crissalis         species   \n",
       "213107      ITIS:997805    Haemorhous mexicanus         species   \n",
       "1131090    GBIF:2514966         Puccinia sorghi         species   \n",
       "\n",
       "        sourceTaxonFamilyName interactionTypeName     targetTaxonName  \\\n",
       "193783                    NaN                eats  Oxalis corniculata   \n",
       "212212         Odontophoridae                eats  Oxalis corniculata   \n",
       "212652            Emberizidae                eats  Oxalis corniculata   \n",
       "213107           Fringillidae                eats  Oxalis corniculata   \n",
       "1131090          Pucciniaceae          parasiteOf  Oxalis corniculata   \n",
       "\n",
       "        targetTaxonRank  \n",
       "193783          species  \n",
       "212212          species  \n",
       "212652          species  \n",
       "213107          species  \n",
       "1131090         species  "
      ]
     },
     "execution_count": 33,
     "metadata": {},
     "output_type": "execute_result"
    }
   ],
   "source": [
    "cleanInteractDataTaxon.head()"
   ]
  },
  {
   "cell_type": "markdown",
   "metadata": {},
   "source": [
    "## Create a file with all the nodes and their attributes"
   ]
  },
  {
   "cell_type": "code",
   "execution_count": 34,
   "metadata": {},
   "outputs": [],
   "source": [
    "# Get the source nodes\n",
    "nodes = cleanInteractDataTaxon.drop_duplicates(subset=['sourceTaxonName'])"
   ]
  },
  {
   "cell_type": "code",
   "execution_count": 35,
   "metadata": {},
   "outputs": [],
   "source": [
    "# Get the target nodes\n",
    "nodes = nodes.append(cleanInteractDataTaxon.drop_duplicates(subset=['targetTaxonName']))"
   ]
  },
  {
   "cell_type": "code",
   "execution_count": 36,
   "metadata": {},
   "outputs": [
    {
     "data": {
      "text/html": [
       "<div>\n",
       "<style scoped>\n",
       "    .dataframe tbody tr th:only-of-type {\n",
       "        vertical-align: middle;\n",
       "    }\n",
       "\n",
       "    .dataframe tbody tr th {\n",
       "        vertical-align: top;\n",
       "    }\n",
       "\n",
       "    .dataframe thead th {\n",
       "        text-align: right;\n",
       "    }\n",
       "</style>\n",
       "<table border=\"1\" class=\"dataframe\">\n",
       "  <thead>\n",
       "    <tr style=\"text-align: right;\">\n",
       "      <th></th>\n",
       "      <th>sourceTaxonId</th>\n",
       "      <th>sourceTaxonName</th>\n",
       "      <th>sourceTaxonRank</th>\n",
       "      <th>sourceTaxonFamilyName</th>\n",
       "      <th>interactionTypeName</th>\n",
       "      <th>targetTaxonName</th>\n",
       "      <th>targetTaxonRank</th>\n",
       "    </tr>\n",
       "  </thead>\n",
       "  <tbody>\n",
       "    <tr>\n",
       "      <td>193783</td>\n",
       "      <td>EOL:1048468</td>\n",
       "      <td>Anas aucklandica</td>\n",
       "      <td>species</td>\n",
       "      <td>NaN</td>\n",
       "      <td>eats</td>\n",
       "      <td>Oxalis corniculata</td>\n",
       "      <td>species</td>\n",
       "    </tr>\n",
       "    <tr>\n",
       "      <td>212212</td>\n",
       "      <td>EOL_V2:1049189</td>\n",
       "      <td>Callipepla californica</td>\n",
       "      <td>species</td>\n",
       "      <td>Odontophoridae</td>\n",
       "      <td>eats</td>\n",
       "      <td>Oxalis corniculata</td>\n",
       "      <td>species</td>\n",
       "    </tr>\n",
       "    <tr>\n",
       "      <td>212652</td>\n",
       "      <td>GBIF:7341600</td>\n",
       "      <td>Melozone crissalis</td>\n",
       "      <td>species</td>\n",
       "      <td>Emberizidae</td>\n",
       "      <td>eats</td>\n",
       "      <td>Oxalis corniculata</td>\n",
       "      <td>species</td>\n",
       "    </tr>\n",
       "    <tr>\n",
       "      <td>213107</td>\n",
       "      <td>ITIS:997805</td>\n",
       "      <td>Haemorhous mexicanus</td>\n",
       "      <td>species</td>\n",
       "      <td>Fringillidae</td>\n",
       "      <td>eats</td>\n",
       "      <td>Oxalis corniculata</td>\n",
       "      <td>species</td>\n",
       "    </tr>\n",
       "    <tr>\n",
       "      <td>1131090</td>\n",
       "      <td>GBIF:2514966</td>\n",
       "      <td>Puccinia sorghi</td>\n",
       "      <td>species</td>\n",
       "      <td>Pucciniaceae</td>\n",
       "      <td>parasiteOf</td>\n",
       "      <td>Oxalis corniculata</td>\n",
       "      <td>species</td>\n",
       "    </tr>\n",
       "  </tbody>\n",
       "</table>\n",
       "</div>"
      ],
      "text/plain": [
       "          sourceTaxonId         sourceTaxonName sourceTaxonRank  \\\n",
       "193783      EOL:1048468        Anas aucklandica         species   \n",
       "212212   EOL_V2:1049189  Callipepla californica         species   \n",
       "212652     GBIF:7341600      Melozone crissalis         species   \n",
       "213107      ITIS:997805    Haemorhous mexicanus         species   \n",
       "1131090    GBIF:2514966         Puccinia sorghi         species   \n",
       "\n",
       "        sourceTaxonFamilyName interactionTypeName     targetTaxonName  \\\n",
       "193783                    NaN                eats  Oxalis corniculata   \n",
       "212212         Odontophoridae                eats  Oxalis corniculata   \n",
       "212652            Emberizidae                eats  Oxalis corniculata   \n",
       "213107           Fringillidae                eats  Oxalis corniculata   \n",
       "1131090          Pucciniaceae          parasiteOf  Oxalis corniculata   \n",
       "\n",
       "        targetTaxonRank  \n",
       "193783          species  \n",
       "212212          species  \n",
       "212652          species  \n",
       "213107          species  \n",
       "1131090         species  "
      ]
     },
     "execution_count": 36,
     "metadata": {},
     "output_type": "execute_result"
    }
   ],
   "source": [
    "nodes.head()"
   ]
  },
  {
   "cell_type": "raw",
   "metadata": {},
   "source": [
    "# make sure the list of taxa is unique.\n",
    "interactingTaxa = interactingTaxa.unique()\n",
    "\n",
    "interactingTaxa.rename(columns={'O':'interactingTaxon'}, inplace=True)"
   ]
  },
  {
   "cell_type": "code",
   "execution_count": 37,
   "metadata": {},
   "outputs": [
    {
     "data": {
      "text/plain": [
       "0    370\n",
       "dtype: int64"
      ]
     },
     "execution_count": 37,
     "metadata": {},
     "output_type": "execute_result"
    }
   ],
   "source": [
    "interactingTaxa.count()\n"
   ]
  },
  {
   "cell_type": "markdown",
   "metadata": {},
   "source": [
    "### This function takes a name string and checks on GBIF to see if the name exists there."
   ]
  },
  {
   "cell_type": "code",
   "execution_count": 38,
   "metadata": {},
   "outputs": [],
   "source": [
    "def speciesExistsInGBIF(name, rank):\n",
    "    try:\n",
    "        # Uses the dataset key for the GBIF backbone taxonomy\n",
    "        #key = species.name_suggest(q=name, rank=rank, datasetKey = \"d7dddbf4-2cf0-4f39-9b2a-bb099caae36c\", limit = 1)\n",
    "        match = species.name_backbone(name=name, rank=rank, limit = 1)\n",
    "        #print(key)\n",
    "\n",
    "        # if there is no match this is returned from .name_backbone {'confidence': 100, 'matchType': 'NONE', 'synonym': False}\n",
    "        if match['matchType'] == 'NONE':\n",
    "            return False\n",
    "        else:\n",
    "            return match\n",
    "    except ValueError as ve:\n",
    "        print(ve)\n",
    "        exit(1)"
   ]
  },
  {
   "cell_type": "markdown",
   "metadata": {},
   "source": [
    "### Check that the species in question is actually found on GBIF"
   ]
  },
  {
   "cell_type": "code",
   "execution_count": 39,
   "metadata": {},
   "outputs": [],
   "source": [
    "if(speciesExistsInGBIF(taxon, \"species\") == False):\n",
    "    print(\"##### {0} has not been found on GBIF #####\".format(taxon))"
   ]
  },
  {
   "cell_type": "markdown",
   "metadata": {},
   "source": [
    "### Check to see which taxa in the interaction network are found in GBIF and list those ones that are not"
   ]
  },
  {
   "cell_type": "code",
   "execution_count": 40,
   "metadata": {},
   "outputs": [
    {
     "name": "stdout",
     "output_type": "stream",
     "text": [
      "Taxa from GLoBI, but not found in GBIF\n",
      "Tomato leaf curl China virus - OX2\n",
      "Ageratum Yellow vein China virus - OX1\n",
      "Alphavirus\n",
      "Ficus carica\n",
      "Sida spinosa\n",
      "Salix longifolia\n"
     ]
    }
   ],
   "source": [
    "taxaNotFound = []\n",
    "taxaFound = []\n",
    "\n",
    "print('Taxa from GLoBI, but not found in GBIF')\n",
    "for name in interactingTaxa.iterrows():\n",
    "    GBIFName = speciesExistsInGBIF(name[1], \"species\")\n",
    "    if GBIFName == False:\n",
    "        print(name[1][0])\n",
    "        taxaNotFound.append({'name': name[1][0]})\n",
    "    else:\n",
    "        taxaFound.append(GBIFName)\n",
    "    \n",
    "    #print(name[1])\n",
    "\n",
    "# Convert to a Pandas dataframe\n",
    "taxaFound = pd.DataFrame(taxaFound)"
   ]
  },
  {
   "cell_type": "code",
   "execution_count": 41,
   "metadata": {},
   "outputs": [
    {
     "data": {
      "text/plain": [
       "364"
      ]
     },
     "execution_count": 41,
     "metadata": {},
     "output_type": "execute_result"
    }
   ],
   "source": [
    "len(taxaFound)"
   ]
  },
  {
   "cell_type": "code",
   "execution_count": 42,
   "metadata": {},
   "outputs": [
    {
     "data": {
      "text/html": [
       "<div>\n",
       "<style scoped>\n",
       "    .dataframe tbody tr th:only-of-type {\n",
       "        vertical-align: middle;\n",
       "    }\n",
       "\n",
       "    .dataframe tbody tr th {\n",
       "        vertical-align: top;\n",
       "    }\n",
       "\n",
       "    .dataframe thead th {\n",
       "        text-align: right;\n",
       "    }\n",
       "</style>\n",
       "<table border=\"1\" class=\"dataframe\">\n",
       "  <thead>\n",
       "    <tr style=\"text-align: right;\">\n",
       "      <th></th>\n",
       "      <th>usageKey</th>\n",
       "      <th>scientificName</th>\n",
       "      <th>canonicalName</th>\n",
       "      <th>rank</th>\n",
       "      <th>status</th>\n",
       "      <th>confidence</th>\n",
       "      <th>matchType</th>\n",
       "      <th>kingdom</th>\n",
       "      <th>phylum</th>\n",
       "      <th>order</th>\n",
       "      <th>...</th>\n",
       "      <th>phylumKey</th>\n",
       "      <th>classKey</th>\n",
       "      <th>orderKey</th>\n",
       "      <th>familyKey</th>\n",
       "      <th>genusKey</th>\n",
       "      <th>speciesKey</th>\n",
       "      <th>synonym</th>\n",
       "      <th>class</th>\n",
       "      <th>acceptedUsageKey</th>\n",
       "      <th>note</th>\n",
       "    </tr>\n",
       "  </thead>\n",
       "  <tbody>\n",
       "    <tr>\n",
       "      <td>0</td>\n",
       "      <td>2498078</td>\n",
       "      <td>Anas aucklandica (G.R.Gray, 1844)</td>\n",
       "      <td>Anas aucklandica</td>\n",
       "      <td>SPECIES</td>\n",
       "      <td>ACCEPTED</td>\n",
       "      <td>98</td>\n",
       "      <td>EXACT</td>\n",
       "      <td>Animalia</td>\n",
       "      <td>Chordata</td>\n",
       "      <td>Anseriformes</td>\n",
       "      <td>...</td>\n",
       "      <td>44.0</td>\n",
       "      <td>212.0</td>\n",
       "      <td>1108.0</td>\n",
       "      <td>2986</td>\n",
       "      <td>2498056</td>\n",
       "      <td>2498078.0</td>\n",
       "      <td>False</td>\n",
       "      <td>Aves</td>\n",
       "      <td>NaN</td>\n",
       "      <td>NaN</td>\n",
       "    </tr>\n",
       "    <tr>\n",
       "      <td>1</td>\n",
       "      <td>5228080</td>\n",
       "      <td>Callipepla californica (Shaw, 1798)</td>\n",
       "      <td>Callipepla californica</td>\n",
       "      <td>SPECIES</td>\n",
       "      <td>ACCEPTED</td>\n",
       "      <td>98</td>\n",
       "      <td>EXACT</td>\n",
       "      <td>Animalia</td>\n",
       "      <td>Chordata</td>\n",
       "      <td>Galliformes</td>\n",
       "      <td>...</td>\n",
       "      <td>44.0</td>\n",
       "      <td>212.0</td>\n",
       "      <td>723.0</td>\n",
       "      <td>9325</td>\n",
       "      <td>2474205</td>\n",
       "      <td>5228080.0</td>\n",
       "      <td>False</td>\n",
       "      <td>Aves</td>\n",
       "      <td>NaN</td>\n",
       "      <td>NaN</td>\n",
       "    </tr>\n",
       "  </tbody>\n",
       "</table>\n",
       "<p>2 rows × 24 columns</p>\n",
       "</div>"
      ],
      "text/plain": [
       "   usageKey                       scientificName           canonicalName  \\\n",
       "0   2498078    Anas aucklandica (G.R.Gray, 1844)        Anas aucklandica   \n",
       "1   5228080  Callipepla californica (Shaw, 1798)  Callipepla californica   \n",
       "\n",
       "      rank    status  confidence matchType   kingdom    phylum         order  \\\n",
       "0  SPECIES  ACCEPTED          98     EXACT  Animalia  Chordata  Anseriformes   \n",
       "1  SPECIES  ACCEPTED          98     EXACT  Animalia  Chordata   Galliformes   \n",
       "\n",
       "   ... phylumKey classKey orderKey  familyKey  genusKey  speciesKey  synonym  \\\n",
       "0  ...      44.0    212.0   1108.0       2986   2498056   2498078.0    False   \n",
       "1  ...      44.0    212.0    723.0       9325   2474205   5228080.0    False   \n",
       "\n",
       "   class  acceptedUsageKey  note  \n",
       "0   Aves               NaN   NaN  \n",
       "1   Aves               NaN   NaN  \n",
       "\n",
       "[2 rows x 24 columns]"
      ]
     },
     "execution_count": 42,
     "metadata": {},
     "output_type": "execute_result"
    }
   ],
   "source": [
    "taxaFound.head(2)"
   ]
  },
  {
   "cell_type": "markdown",
   "metadata": {},
   "source": [
    "### This function takes a GBIF species key and counts how many occurences exist."
   ]
  },
  {
   "cell_type": "code",
   "execution_count": 73,
   "metadata": {},
   "outputs": [],
   "source": [
    "def speciesCountInGBIF(key, country):\n",
    "    count = 0\n",
    "    try:\n",
    "        #return occ.count(taxonKey=key, country = country)\n",
    "        count = occ.count(taxonKey=key, country = country, basisOfRecord = \"HUMAN_OBSERVATION\")\n",
    "        count += occ.count(taxonKey=key, country = country, basisOfRecord = \"OBSERVATION\")\n",
    "        return count\n",
    "    except ValueError as ve:\n",
    "        print(ve)\n",
    "        exit(1)"
   ]
  },
  {
   "cell_type": "markdown",
   "metadata": {},
   "source": [
    "### Loop over all the taxa that are in the interaction network and are in GBIF to find the ones that have been found in the country"
   ]
  },
  {
   "cell_type": "code",
   "execution_count": null,
   "metadata": {},
   "outputs": [],
   "source": [
    "taxaFoundInCountry = []\n",
    "\n",
    "for GBIFtaxon in taxaFound.iterrows():\n",
    "    #print(GBIFtaxon[1]['usageKey'])\n",
    "    #print('{0} found {1} time in Belgium.'.format(GBIFtaxon,speciesCountInGBIF(GBIFtaxon,country)))\n",
    "    GBIFOccCount = speciesCountInGBIF(GBIFtaxon[1]['usageKey'],country)\n",
    "    if GBIFOccCount > thresholdForOccNum: # The threshold for observations is not greater than one, due to all the casual records\n",
    "        taxaFoundInCountry.append({'key': GBIFtaxon[1]['usageKey'], 'species': GBIFtaxon[1]['canonicalName'], 'count': GBIFOccCount})\n",
    "        "
   ]
  },
  {
   "cell_type": "code",
   "execution_count": null,
   "metadata": {},
   "outputs": [],
   "source": [
    "# Convert to a Pandas dataframe\n",
    "taxaFoundInCountry = pd.DataFrame(taxaFoundInCountry)    "
   ]
  },
  {
   "cell_type": "code",
   "execution_count": 62,
   "metadata": {},
   "outputs": [
    {
     "name": "stdout",
     "output_type": "stream",
     "text": [
      "The number of species left in the network is 96\n"
     ]
    }
   ],
   "source": [
    "print(\"The number of species left in the network is {0}\".format(len(taxaFoundInCountry)))"
   ]
  },
  {
   "cell_type": "code",
   "execution_count": 63,
   "metadata": {},
   "outputs": [
    {
     "data": {
      "text/html": [
       "<div>\n",
       "<style scoped>\n",
       "    .dataframe tbody tr th:only-of-type {\n",
       "        vertical-align: middle;\n",
       "    }\n",
       "\n",
       "    .dataframe tbody tr th {\n",
       "        vertical-align: top;\n",
       "    }\n",
       "\n",
       "    .dataframe thead th {\n",
       "        text-align: right;\n",
       "    }\n",
       "</style>\n",
       "<table border=\"1\" class=\"dataframe\">\n",
       "  <thead>\n",
       "    <tr style=\"text-align: right;\">\n",
       "      <th></th>\n",
       "      <th>key</th>\n",
       "      <th>species</th>\n",
       "      <th>count</th>\n",
       "    </tr>\n",
       "  </thead>\n",
       "  <tbody>\n",
       "    <tr>\n",
       "      <td>0</td>\n",
       "      <td>9813242</td>\n",
       "      <td>Falco columbarius</td>\n",
       "      <td>12948</td>\n",
       "    </tr>\n",
       "    <tr>\n",
       "      <td>1</td>\n",
       "      <td>8427624</td>\n",
       "      <td>Oxalis corniculata</td>\n",
       "      <td>5683</td>\n",
       "    </tr>\n",
       "    <tr>\n",
       "      <td>2</td>\n",
       "      <td>5192470</td>\n",
       "      <td>Potamopyrgus antipodarum</td>\n",
       "      <td>546</td>\n",
       "    </tr>\n",
       "    <tr>\n",
       "      <td>3</td>\n",
       "      <td>5358748</td>\n",
       "      <td>Trifolium repens</td>\n",
       "      <td>46235</td>\n",
       "    </tr>\n",
       "    <tr>\n",
       "      <td>4</td>\n",
       "      <td>2930262</td>\n",
       "      <td>Solanum tuberosum</td>\n",
       "      <td>331</td>\n",
       "    </tr>\n",
       "    <tr>\n",
       "      <td>...</td>\n",
       "      <td>...</td>\n",
       "      <td>...</td>\n",
       "      <td>...</td>\n",
       "    </tr>\n",
       "    <tr>\n",
       "      <td>91</td>\n",
       "      <td>3085360</td>\n",
       "      <td>Saponaria officinalis</td>\n",
       "      <td>5619</td>\n",
       "    </tr>\n",
       "    <tr>\n",
       "      <td>92</td>\n",
       "      <td>3114229</td>\n",
       "      <td>Rudbeckia laciniata</td>\n",
       "      <td>119</td>\n",
       "    </tr>\n",
       "    <tr>\n",
       "      <td>93</td>\n",
       "      <td>2926557</td>\n",
       "      <td>Glechoma hederacea</td>\n",
       "      <td>45808</td>\n",
       "    </tr>\n",
       "    <tr>\n",
       "      <td>94</td>\n",
       "      <td>6369819</td>\n",
       "      <td>Sambucus canadensis</td>\n",
       "      <td>60</td>\n",
       "    </tr>\n",
       "    <tr>\n",
       "      <td>95</td>\n",
       "      <td>5341389</td>\n",
       "      <td>Leonurus cardiaca</td>\n",
       "      <td>721</td>\n",
       "    </tr>\n",
       "  </tbody>\n",
       "</table>\n",
       "<p>96 rows × 3 columns</p>\n",
       "</div>"
      ],
      "text/plain": [
       "        key                   species  count\n",
       "0   9813242         Falco columbarius  12948\n",
       "1   8427624        Oxalis corniculata   5683\n",
       "2   5192470  Potamopyrgus antipodarum    546\n",
       "3   5358748          Trifolium repens  46235\n",
       "4   2930262         Solanum tuberosum    331\n",
       "..      ...                       ...    ...\n",
       "91  3085360     Saponaria officinalis   5619\n",
       "92  3114229       Rudbeckia laciniata    119\n",
       "93  2926557        Glechoma hederacea  45808\n",
       "94  6369819       Sambucus canadensis     60\n",
       "95  5341389         Leonurus cardiaca    721\n",
       "\n",
       "[96 rows x 3 columns]"
      ]
     },
     "execution_count": 63,
     "metadata": {},
     "output_type": "execute_result"
    }
   ],
   "source": [
    "taxaFoundInCountry"
   ]
  },
  {
   "cell_type": "markdown",
   "metadata": {},
   "source": [
    "## Drawing a network of the interactions\n",
    "\n",
    "Now that I have a list of all the species in the country I can use this as my nodes list for the network diagram."
   ]
  },
  {
   "cell_type": "code",
   "execution_count": 64,
   "metadata": {},
   "outputs": [],
   "source": [
    "#networkx seems to be a leading network tool in Python\n",
    "import networkx as nx\n",
    "import matplotlib.pyplot as plt"
   ]
  },
  {
   "cell_type": "code",
   "execution_count": 65,
   "metadata": {},
   "outputs": [],
   "source": [
    "# Create graphic object\n",
    "G = nx.DiGraph()"
   ]
  },
  {
   "cell_type": "code",
   "execution_count": 66,
   "metadata": {},
   "outputs": [
    {
     "data": {
      "text/plain": [
       "0"
      ]
     },
     "execution_count": 66,
     "metadata": {},
     "output_type": "execute_result"
    }
   ],
   "source": [
    "# Match colours to interactions to distinguish them on the graph\n",
    "colorInteractions = {'interaction':['pollinates', 'mutualistOf', 'eats', 'visitsFlowersOf', 'hasHost', 'parasiteOf', 'pathogenOf'],\n",
    "        'colour':['r', 'g', 'b', 'y', 'm', 'w', 'c']}  \n",
    "\n",
    "colorInteractionsDf = pd.DataFrame(colorInteractions)\n",
    "\n",
    "len(list(G.nodes))"
   ]
  },
  {
   "cell_type": "code",
   "execution_count": 67,
   "metadata": {},
   "outputs": [
    {
     "data": {
      "text/html": [
       "<div>\n",
       "<style scoped>\n",
       "    .dataframe tbody tr th:only-of-type {\n",
       "        vertical-align: middle;\n",
       "    }\n",
       "\n",
       "    .dataframe tbody tr th {\n",
       "        vertical-align: top;\n",
       "    }\n",
       "\n",
       "    .dataframe thead th {\n",
       "        text-align: right;\n",
       "    }\n",
       "</style>\n",
       "<table border=\"1\" class=\"dataframe\">\n",
       "  <thead>\n",
       "    <tr style=\"text-align: right;\">\n",
       "      <th></th>\n",
       "      <th>sourceTaxonId</th>\n",
       "      <th>sourceTaxonName</th>\n",
       "      <th>sourceTaxonRank</th>\n",
       "      <th>sourceTaxonFamilyName</th>\n",
       "      <th>interactionTypeName</th>\n",
       "      <th>targetTaxonName</th>\n",
       "      <th>targetTaxonRank</th>\n",
       "    </tr>\n",
       "  </thead>\n",
       "  <tbody>\n",
       "    <tr>\n",
       "      <td>193783</td>\n",
       "      <td>EOL:1048468</td>\n",
       "      <td>Anas aucklandica</td>\n",
       "      <td>species</td>\n",
       "      <td>NaN</td>\n",
       "      <td>eats</td>\n",
       "      <td>Oxalis corniculata</td>\n",
       "      <td>species</td>\n",
       "    </tr>\n",
       "    <tr>\n",
       "      <td>212212</td>\n",
       "      <td>EOL_V2:1049189</td>\n",
       "      <td>Callipepla californica</td>\n",
       "      <td>species</td>\n",
       "      <td>Odontophoridae</td>\n",
       "      <td>eats</td>\n",
       "      <td>Oxalis corniculata</td>\n",
       "      <td>species</td>\n",
       "    </tr>\n",
       "    <tr>\n",
       "      <td>212652</td>\n",
       "      <td>GBIF:7341600</td>\n",
       "      <td>Melozone crissalis</td>\n",
       "      <td>species</td>\n",
       "      <td>Emberizidae</td>\n",
       "      <td>eats</td>\n",
       "      <td>Oxalis corniculata</td>\n",
       "      <td>species</td>\n",
       "    </tr>\n",
       "    <tr>\n",
       "      <td>213107</td>\n",
       "      <td>ITIS:997805</td>\n",
       "      <td>Haemorhous mexicanus</td>\n",
       "      <td>species</td>\n",
       "      <td>Fringillidae</td>\n",
       "      <td>eats</td>\n",
       "      <td>Oxalis corniculata</td>\n",
       "      <td>species</td>\n",
       "    </tr>\n",
       "    <tr>\n",
       "      <td>1131090</td>\n",
       "      <td>GBIF:2514966</td>\n",
       "      <td>Puccinia sorghi</td>\n",
       "      <td>species</td>\n",
       "      <td>Pucciniaceae</td>\n",
       "      <td>parasiteOf</td>\n",
       "      <td>Oxalis corniculata</td>\n",
       "      <td>species</td>\n",
       "    </tr>\n",
       "    <tr>\n",
       "      <td>...</td>\n",
       "      <td>...</td>\n",
       "      <td>...</td>\n",
       "      <td>...</td>\n",
       "      <td>...</td>\n",
       "      <td>...</td>\n",
       "      <td>...</td>\n",
       "      <td>...</td>\n",
       "    </tr>\n",
       "    <tr>\n",
       "      <td>2247883</td>\n",
       "      <td>EOL_V2:3816701</td>\n",
       "      <td>Sapyga centrata</td>\n",
       "      <td>species</td>\n",
       "      <td>Sapygidae</td>\n",
       "      <td>mutualistOf</td>\n",
       "      <td>Oxalis corniculata</td>\n",
       "      <td>species</td>\n",
       "    </tr>\n",
       "    <tr>\n",
       "      <td>2247887</td>\n",
       "      <td>EOL:1045322</td>\n",
       "      <td>Ceratina dupla</td>\n",
       "      <td>species</td>\n",
       "      <td>Apidae</td>\n",
       "      <td>mutualistOf</td>\n",
       "      <td>Oxalis corniculata</td>\n",
       "      <td>species</td>\n",
       "    </tr>\n",
       "    <tr>\n",
       "      <td>2686796</td>\n",
       "      <td>NCBI:1329381</td>\n",
       "      <td>Tomato leaf curl China virus - OX2</td>\n",
       "      <td>species</td>\n",
       "      <td>Geminiviridae</td>\n",
       "      <td>pathogenOf</td>\n",
       "      <td>Oxalis corniculata</td>\n",
       "      <td>species</td>\n",
       "    </tr>\n",
       "    <tr>\n",
       "      <td>2699814</td>\n",
       "      <td>NCBI:1329380</td>\n",
       "      <td>Ageratum Yellow vein China virus - OX1</td>\n",
       "      <td>species</td>\n",
       "      <td>Geminiviridae</td>\n",
       "      <td>pathogenOf</td>\n",
       "      <td>Oxalis corniculata</td>\n",
       "      <td>species</td>\n",
       "    </tr>\n",
       "    <tr>\n",
       "      <td>3609409</td>\n",
       "      <td>EOL:3199170</td>\n",
       "      <td>Petrobia harti</td>\n",
       "      <td>species</td>\n",
       "      <td>Tetranychidae</td>\n",
       "      <td>hasHost</td>\n",
       "      <td>Oxalis corniculata</td>\n",
       "      <td>species</td>\n",
       "    </tr>\n",
       "  </tbody>\n",
       "</table>\n",
       "<p>615 rows × 7 columns</p>\n",
       "</div>"
      ],
      "text/plain": [
       "          sourceTaxonId                         sourceTaxonName  \\\n",
       "193783      EOL:1048468                        Anas aucklandica   \n",
       "212212   EOL_V2:1049189                  Callipepla californica   \n",
       "212652     GBIF:7341600                      Melozone crissalis   \n",
       "213107      ITIS:997805                    Haemorhous mexicanus   \n",
       "1131090    GBIF:2514966                         Puccinia sorghi   \n",
       "...                 ...                                     ...   \n",
       "2247883  EOL_V2:3816701                         Sapyga centrata   \n",
       "2247887     EOL:1045322                          Ceratina dupla   \n",
       "2686796    NCBI:1329381      Tomato leaf curl China virus - OX2   \n",
       "2699814    NCBI:1329380  Ageratum Yellow vein China virus - OX1   \n",
       "3609409     EOL:3199170                          Petrobia harti   \n",
       "\n",
       "        sourceTaxonRank sourceTaxonFamilyName interactionTypeName  \\\n",
       "193783          species                   NaN                eats   \n",
       "212212          species        Odontophoridae                eats   \n",
       "212652          species           Emberizidae                eats   \n",
       "213107          species          Fringillidae                eats   \n",
       "1131090         species          Pucciniaceae          parasiteOf   \n",
       "...                 ...                   ...                 ...   \n",
       "2247883         species             Sapygidae         mutualistOf   \n",
       "2247887         species                Apidae         mutualistOf   \n",
       "2686796         species         Geminiviridae          pathogenOf   \n",
       "2699814         species         Geminiviridae          pathogenOf   \n",
       "3609409         species         Tetranychidae             hasHost   \n",
       "\n",
       "            targetTaxonName targetTaxonRank  \n",
       "193783   Oxalis corniculata         species  \n",
       "212212   Oxalis corniculata         species  \n",
       "212652   Oxalis corniculata         species  \n",
       "213107   Oxalis corniculata         species  \n",
       "1131090  Oxalis corniculata         species  \n",
       "...                     ...             ...  \n",
       "2247883  Oxalis corniculata         species  \n",
       "2247887  Oxalis corniculata         species  \n",
       "2686796  Oxalis corniculata         species  \n",
       "2699814  Oxalis corniculata         species  \n",
       "3609409  Oxalis corniculata         species  \n",
       "\n",
       "[615 rows x 7 columns]"
      ]
     },
     "execution_count": 67,
     "metadata": {},
     "output_type": "execute_result"
    }
   ],
   "source": [
    "cleanInteractDataTaxon"
   ]
  },
  {
   "cell_type": "code",
   "execution_count": 68,
   "metadata": {},
   "outputs": [
    {
     "name": "stdout",
     "output_type": "stream",
     "text": [
      "Falco columbarius 12948 9813242\n",
      "Oxalis corniculata 5683 8427624\n",
      "Potamopyrgus antipodarum 546 5192470\n",
      "Trifolium repens 46235 5358748\n",
      "Solanum tuberosum 331 2930262\n",
      "Polygonum aviculare 28488 7821030\n",
      "Panicum capillare 339 2705162\n",
      "Convolvulus arvensis 15142 2928390\n",
      "Chenopodium album 23152 3083838\n",
      "Brassica rapa 1478 7903057\n",
      "Echium vulgare 5725 2925892\n",
      "Zea mays 235 5290052\n",
      "Avena sativa 309 2705290\n",
      "Amaranthus retroflexus 2492 6109534\n",
      "Raphanus sativus 559 7678610\n",
      "Medicago polymorpha 219 2965531\n",
      "Vicia sativa 22683 2975014\n",
      "Bromus hordeaceus 21330 2703777\n",
      "Sisymbrium altissimum 2432 3046736\n",
      "Erodium cicutarium 12456 9485490\n",
      "Triticum aestivum 493 7795888\n",
      "Holosteum umbellatum 284 3085349\n",
      "Lactuca serriola 12837 3140490\n",
      "Helianthus annuus 628 9206251\n",
      "Pisum sativum 181 5347845\n",
      "Echinochloa crus-galli 13545 2702808\n",
      "Phleum pratense 16569 9014945\n",
      "Poa annua 34332 2704179\n",
      "Bromus secalinus 726 2703717\n",
      "Lolium perenne 38420 2706241\n",
      "Rumex acetosella 21932 2888995\n",
      "Rumex crispus 26753 8195144\n",
      "Persicaria lapathifolia 15375 2889262\n",
      "Fallopia convolvulus 13456 6391461\n",
      "Cerastium arvense 4984 3085433\n",
      "Stellaria media 33878 5384604\n",
      "Spergula arvensis 9609 3085810\n",
      "Claytonia perfoliata 3461 7736011\n",
      "Eschscholzia californica 331 2888380\n",
      "Brassica nigra 1934 3042658\n",
      "Malva pusilla 235 3152372\n",
      "Melilotus albus 11736 2971095\n",
      "Daucus carota 28328 3034742\n",
      "Plantago major 47767 3189767\n",
      "Plantago lanceolata 48995 8208358\n",
      "Sonchus oleraceus 21582 8228544\n",
      "Sonchus asper 23542 3105782\n",
      "Silybum marianum 597 3145214\n",
      "Anthemis cotula 281 8035698\n",
      "Malus pumila 1328 3001093\n",
      "Vicia villosa 2400 9182154\n",
      "Cirsium arvense 58948 3113414\n",
      "Capsella bursa-pastoris 28899 5375388\n",
      "Solanum nigrum 16230 9150405\n",
      "Avena fatua 1672 2705297\n",
      "Bromus tectorum 2340 2703746\n",
      "Cytisus scoparius 24071 5354656\n",
      "Digitaria sanguinalis 5439 5289972\n",
      "Geranium dissectum 13562 2890040\n",
      "Senecio vulgaris 27244 3108983\n",
      "Ambrosia psilostachya 55 3110686\n",
      "Hirschfeldia incana 1368 3050595\n",
      "Medicago sativa 6717 9151957\n",
      "Amaranthus viridis 69 5384334\n",
      "Foeniculum vulgare 1430 3034922\n",
      "Ipomoea hederacea 53 2928538\n",
      "Circaea lutetiana 10637 3188794\n",
      "Pyrus 748 2986532\n",
      "Helianthus laetiflorus 129 3119181\n",
      "Helianthus tuberosus 728 3119175\n",
      "Mentha arvensis 4501 2927192\n",
      "Rubus 61281 2988638\n",
      "Lindernia dubia 367 3171888\n",
      "Parthenocissus quinquefolia 173 3039194\n",
      "Myosurus minimus 1597 3033605\n",
      "Oxalis stricta 1433 9823072\n",
      "Ipomoea 147 2928509\n",
      "Marrubium vulgare 104 2927069\n",
      "Persicaria hydropiper 17027 8323622\n",
      "Gnaphalium 14394 7655428\n",
      "Robinia pseudoacacia 15169 5352251\n",
      "Trifolium pratense 37739 8324121\n",
      "Trifolium hybridum 6930 6109535\n",
      "Pastinaca sativa 7977 8262702\n",
      "Nepeta cataria 163 5341499\n",
      "Persicaria amphibia 20112 6391648\n",
      "Arctium minus 12080 5393103\n",
      "Veronica peregrina 1904 3172104\n",
      "Veronica arvensis 14937 3172048\n",
      "Samolus valerandi 3076 3169313\n",
      "Tradescantia virginiana 107 2765272\n",
      "Saponaria officinalis 5619 3085360\n",
      "Rudbeckia laciniata 119 3114229\n",
      "Glechoma hederacea 45808 2926557\n",
      "Sambucus canadensis 60 6369819\n",
      "Leonurus cardiaca 721 5341389\n"
     ]
    }
   ],
   "source": [
    "# iterate over rows with iterrows()\n",
    "for index, row in taxaFoundInCountry.iterrows():\n",
    "     # access data using column names\n",
    "    print('A: ', row['species'], row['count'], row['key'])\n",
    "    G.add_node(row['species'])\n",
    "    #G.add_node(row['targetTaxonName'])\n",
    "    #print(colorInteractionsDf[colorInteractionsDf.interaction == row['interactionTypeName']].iloc[:,1])\n",
    "    #G.add_edge(row['targetTaxonName'], row['sourceTaxonName'], label = row['interactionTypeName'])\n",
    "    for edge in cleanInteractDataTaxon.iterrows():\n",
    "        if row['species'] == edge[1]['sourceTaxonName']:\n",
    "            print('B: ', edge[1]['sourceTaxonName'], edge[1]['targetTaxonName'],row['species'])\n",
    "            for index2, row2 in taxaFoundInCountry.iterrows():\n",
    "                #print(row2['species'])\n",
    "                if row2['species'] == edge[1]['targetTaxonName']: \n",
    "                    print('C: ', edge[1]['sourceTaxonName'],row2['species'])\n",
    "                    G.add_edge(edge[1]['sourceTaxonName'], row2['species'], label = edge[1]['interactionTypeName'])\n",
    "            #if row['species'] == edge[1]['sourceTaxonName']:\n",
    "            #    #print(edge[1]['sourceTaxonName'],row['species'])\n",
    "            #    G.add_edge(edge[1]['targetTaxonName'], edge[1]['sourceTaxonName'], label = edge[1]['interactionTypeName'])"
   ]
  },
  {
   "cell_type": "code",
   "execution_count": 69,
   "metadata": {},
   "outputs": [],
   "source": [
    "# iterate over rows with iterrows()\n",
    "for index, row in taxaFoundInCountry.iterrows():\n",
    "    for edge in cleanInteractDataTaxon.iterrows():\n",
    "        if row['species'] == edge[1]['targetTaxonName']:\n",
    "            #print(edge[1]['sourceTaxonName'], edge[1]['targetTaxonName'],row['species'])\n",
    "            for index2, row2 in taxaFoundInCountry.iterrows():\n",
    "                #print(row2['species'])\n",
    "                if row2['species'] == edge[1]['sourceTaxonName']: \n",
    "                    print(edge[1]['targetTaxonName'],row2['species'])\n",
    "                    G.add_edge(row2['species'], edge[1]['targetTaxonName'], label = edge[1]['interactionTypeName'])"
   ]
  },
  {
   "cell_type": "code",
   "execution_count": 70,
   "metadata": {},
   "outputs": [
    {
     "name": "stdout",
     "output_type": "stream",
     "text": [
      "Number of nodes = 96\n",
      "Number of edges = 0\n"
     ]
    }
   ],
   "source": [
    "print(\"Number of nodes = {0}\".format(G.number_of_nodes()))\n",
    "print(\"Number of edges = {0}\".format(G.number_of_edges()))"
   ]
  },
  {
   "cell_type": "code",
   "execution_count": 71,
   "metadata": {},
   "outputs": [
    {
     "data": {
      "text/plain": [
       "['Falco columbarius',\n",
       " 'Oxalis corniculata',\n",
       " 'Potamopyrgus antipodarum',\n",
       " 'Trifolium repens',\n",
       " 'Solanum tuberosum',\n",
       " 'Polygonum aviculare',\n",
       " 'Panicum capillare',\n",
       " 'Convolvulus arvensis',\n",
       " 'Chenopodium album',\n",
       " 'Brassica rapa',\n",
       " 'Echium vulgare',\n",
       " 'Zea mays',\n",
       " 'Avena sativa',\n",
       " 'Amaranthus retroflexus',\n",
       " 'Raphanus sativus',\n",
       " 'Medicago polymorpha',\n",
       " 'Vicia sativa',\n",
       " 'Bromus hordeaceus',\n",
       " 'Sisymbrium altissimum',\n",
       " 'Erodium cicutarium',\n",
       " 'Triticum aestivum',\n",
       " 'Holosteum umbellatum',\n",
       " 'Lactuca serriola',\n",
       " 'Helianthus annuus',\n",
       " 'Pisum sativum',\n",
       " 'Echinochloa crus-galli',\n",
       " 'Phleum pratense',\n",
       " 'Poa annua',\n",
       " 'Bromus secalinus',\n",
       " 'Lolium perenne',\n",
       " 'Rumex acetosella',\n",
       " 'Rumex crispus',\n",
       " 'Persicaria lapathifolia',\n",
       " 'Fallopia convolvulus',\n",
       " 'Cerastium arvense',\n",
       " 'Stellaria media',\n",
       " 'Spergula arvensis',\n",
       " 'Claytonia perfoliata',\n",
       " 'Eschscholzia californica',\n",
       " 'Brassica nigra',\n",
       " 'Malva pusilla',\n",
       " 'Melilotus albus',\n",
       " 'Daucus carota',\n",
       " 'Plantago major',\n",
       " 'Plantago lanceolata',\n",
       " 'Sonchus oleraceus',\n",
       " 'Sonchus asper',\n",
       " 'Silybum marianum',\n",
       " 'Anthemis cotula',\n",
       " 'Malus pumila',\n",
       " 'Vicia villosa',\n",
       " 'Cirsium arvense',\n",
       " 'Capsella bursa-pastoris',\n",
       " 'Solanum nigrum',\n",
       " 'Avena fatua',\n",
       " 'Bromus tectorum',\n",
       " 'Cytisus scoparius',\n",
       " 'Digitaria sanguinalis',\n",
       " 'Geranium dissectum',\n",
       " 'Senecio vulgaris',\n",
       " 'Ambrosia psilostachya',\n",
       " 'Hirschfeldia incana',\n",
       " 'Medicago sativa',\n",
       " 'Amaranthus viridis',\n",
       " 'Foeniculum vulgare',\n",
       " 'Ipomoea hederacea',\n",
       " 'Circaea lutetiana',\n",
       " 'Pyrus',\n",
       " 'Helianthus laetiflorus',\n",
       " 'Helianthus tuberosus',\n",
       " 'Mentha arvensis',\n",
       " 'Rubus',\n",
       " 'Lindernia dubia',\n",
       " 'Parthenocissus quinquefolia',\n",
       " 'Myosurus minimus',\n",
       " 'Oxalis stricta',\n",
       " 'Ipomoea',\n",
       " 'Marrubium vulgare',\n",
       " 'Persicaria hydropiper',\n",
       " 'Gnaphalium',\n",
       " 'Robinia pseudoacacia',\n",
       " 'Trifolium pratense',\n",
       " 'Trifolium hybridum',\n",
       " 'Pastinaca sativa',\n",
       " 'Nepeta cataria',\n",
       " 'Persicaria amphibia',\n",
       " 'Arctium minus',\n",
       " 'Veronica peregrina',\n",
       " 'Veronica arvensis',\n",
       " 'Samolus valerandi',\n",
       " 'Tradescantia virginiana',\n",
       " 'Saponaria officinalis',\n",
       " 'Rudbeckia laciniata',\n",
       " 'Glechoma hederacea',\n",
       " 'Sambucus canadensis',\n",
       " 'Leonurus cardiaca']"
      ]
     },
     "execution_count": 71,
     "metadata": {},
     "output_type": "execute_result"
    }
   ],
   "source": [
    "list(G.nodes)"
   ]
  },
  {
   "cell_type": "code",
   "execution_count": 72,
   "metadata": {},
   "outputs": [
    {
     "data": {
      "text/plain": [
       "[]"
      ]
     },
     "execution_count": 72,
     "metadata": {},
     "output_type": "execute_result"
    }
   ],
   "source": [
    "list(G.edges)"
   ]
  },
  {
   "cell_type": "markdown",
   "metadata": {},
   "source": [
    "## A network of all the interacting taxa"
   ]
  },
  {
   "cell_type": "code",
   "execution_count": 57,
   "metadata": {},
   "outputs": [
    {
     "data": {
      "image/png": "[encoded data removed]",
      "text/plain": [
       "<Figure size 1080x1440 with 1 Axes>"
      ]
     },
     "metadata": {},
     "output_type": "display_data"
    }
   ],
   "source": [
    "plt.figure(figsize=(15,20))\n",
    "edge_labels = nx.get_edge_attributes(G,'label')\n",
    "\n",
    "pos = nx.spring_layout(G, iterations=5, k=50) \n",
    "#pos = nx.random_layout(G)\n",
    "#pos = nx.circular_layout(G)\n",
    "#pos = nx.spectral_layout(G)\n",
    "#pos = nx.shell_layout(G, scale=1)\n",
    "\n",
    "#nodeColors = nx.get_node_attributes(G,'color')\n",
    "\n",
    "nx.draw_networkx_edge_labels(G,pos, edge_labels = edge_labels, font_size=10, font_color='blue')\n",
    "\n",
    "#nx.draw_networkx_nodes(G, pos, node_color=nodeColors.values())\n",
    "\n",
    "nx.draw_networkx(G, pos, with_labels=True, node_size=100, node_color='c', alpha= 1, arrows=True, \n",
    "                    linewidths=1, font_color=\"black\", font_size=10, style = 'dashed')\n",
    "\n",
    "plt.axis('off')\n",
    "plt.tight_layout()\n",
    "plt.show()"
   ]
  },
  {
   "cell_type": "code",
   "execution_count": 58,
   "metadata": {},
   "outputs": [
    {
     "ename": "KeyError",
     "evalue": "0",
     "output_type": "error",
     "traceback": [
      "\u001b[1;31m---------------------------------------------------------------------------\u001b[0m",
      "\u001b[1;31mKeyError\u001b[0m                                  Traceback (most recent call last)",
      "\u001b[1;32m<ipython-input-58-60e7fb1b92f2>\u001b[0m in \u001b[0;36m<module>\u001b[1;34m\u001b[0m\n\u001b[1;32m----> 1\u001b[1;33m \u001b[0mG\u001b[0m\u001b[1;33m.\u001b[0m\u001b[0madj\u001b[0m\u001b[1;33m[\u001b[0m\u001b[1;36m0\u001b[0m\u001b[1;33m]\u001b[0m\u001b[1;33m\u001b[0m\u001b[1;33m\u001b[0m\u001b[0m\n\u001b[0m",
      "\u001b[1;32m~\\Anaconda3\\lib\\site-packages\\networkx\\classes\\coreviews.py\u001b[0m in \u001b[0;36m__getitem__\u001b[1;34m(self, name)\u001b[0m\n\u001b[0;32m     79\u001b[0m \u001b[1;33m\u001b[0m\u001b[0m\n\u001b[0;32m     80\u001b[0m     \u001b[1;32mdef\u001b[0m \u001b[0m__getitem__\u001b[0m\u001b[1;33m(\u001b[0m\u001b[0mself\u001b[0m\u001b[1;33m,\u001b[0m \u001b[0mname\u001b[0m\u001b[1;33m)\u001b[0m\u001b[1;33m:\u001b[0m\u001b[1;33m\u001b[0m\u001b[1;33m\u001b[0m\u001b[0m\n\u001b[1;32m---> 81\u001b[1;33m         \u001b[1;32mreturn\u001b[0m \u001b[0mAtlasView\u001b[0m\u001b[1;33m(\u001b[0m\u001b[0mself\u001b[0m\u001b[1;33m.\u001b[0m\u001b[0m_atlas\u001b[0m\u001b[1;33m[\u001b[0m\u001b[0mname\u001b[0m\u001b[1;33m]\u001b[0m\u001b[1;33m)\u001b[0m\u001b[1;33m\u001b[0m\u001b[1;33m\u001b[0m\u001b[0m\n\u001b[0m\u001b[0;32m     82\u001b[0m \u001b[1;33m\u001b[0m\u001b[0m\n\u001b[0;32m     83\u001b[0m     \u001b[1;32mdef\u001b[0m \u001b[0mcopy\u001b[0m\u001b[1;33m(\u001b[0m\u001b[0mself\u001b[0m\u001b[1;33m)\u001b[0m\u001b[1;33m:\u001b[0m\u001b[1;33m\u001b[0m\u001b[1;33m\u001b[0m\u001b[0m\n",
      "\u001b[1;31mKeyError\u001b[0m: 0"
     ]
    }
   ],
   "source": [
    "G.adj[0]"
   ]
  },
  {
   "cell_type": "code",
   "execution_count": null,
   "metadata": {},
   "outputs": [],
   "source": [
    "nx.degree(G)"
   ]
  },
  {
   "cell_type": "code",
   "execution_count": null,
   "metadata": {},
   "outputs": [],
   "source": [
    "taxaFoundInCountry"
   ]
  },
  {
   "cell_type": "code",
   "execution_count": null,
   "metadata": {},
   "outputs": [],
   "source": [
    "taxaFoundInCountry"
   ]
  },
  {
   "cell_type": "code",
   "execution_count": null,
   "metadata": {},
   "outputs": [],
   "source": [
    "filename = \"waste.csv\"\n",
    "cleanInteractDataTaxon.to_csv (filename, index = True, header=True) "
   ]
  },
  {
   "cell_type": "code",
   "execution_count": null,
   "metadata": {},
   "outputs": [],
   "source": [
    "nx.path_graph(10)"
   ]
  },
  {
   "cell_type": "code",
   "execution_count": null,
   "metadata": {},
   "outputs": [],
   "source": [
    "list(H.nodes)"
   ]
  },
  {
   "cell_type": "code",
   "execution_count": null,
   "metadata": {},
   "outputs": [],
   "source": []
  }
 ],
 "metadata": {
  "kernelspec": {
   "display_name": "Python 3",
   "language": "python",
   "name": "python3"
  },
  "language_info": {
   "codemirror_mode": {
    "name": "ipython",
    "version": 3
   },
   "file_extension": ".py",
   "mimetype": "text/x-python",
   "name": "python",
   "nbconvert_exporter": "python",
   "pygments_lexer": "ipython3",
   "version": "3.7.4"
  }
 },
 "nbformat": 4,
 "nbformat_minor": 2
}
