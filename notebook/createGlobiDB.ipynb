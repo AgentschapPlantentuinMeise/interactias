{
 "cells": [
  {
   "cell_type": "raw",
   "metadata": {},
   "source": [
    "# Create the file globi.db\n",
    "\n",
    "To speed up the processing of data from GLOBI it is better to use it as a SQLITE database"
   ]
  },
  {
   "cell_type": "code",
   "execution_count": 2,
   "metadata": {},
   "outputs": [
    {
     "name": "stdout",
     "output_type": "stream",
     "text": [
      "3.7.3 (default, Mar 27 2019, 17:13:21) [MSC v.1915 64 bit (AMD64)]\n"
     ]
    }
   ],
   "source": [
    "import pandas as pd\n",
    "import sys\n",
    "print(sys.version)\n",
    "\n",
    "#Python 3.7.4 (default, Aug 9 2019, 18:34:13) [MSC v.1915 64 bit (AMD64)]\n",
    "#pygbif 0.3.0"
   ]
  },
  {
   "cell_type": "markdown",
   "metadata": {},
   "source": [
    "## Create a SQLite database with APSW"
   ]
  },
  {
   "cell_type": "code",
   "execution_count": 3,
   "metadata": {},
   "outputs": [],
   "source": [
    "import sqlite3\n",
    "from sqlite3 import Error"
   ]
  },
  {
   "cell_type": "code",
   "execution_count": 4,
   "metadata": {},
   "outputs": [],
   "source": [
    "database = r\"..\\data\\globi.db\"\n",
    "try:\n",
    "    conn = sqlite3.connect(database)\n",
    "except Error as e:\n",
    "    print(e)"
   ]
  },
  {
   "cell_type": "code",
   "execution_count": 4,
   "metadata": {},
   "outputs": [],
   "source": [
    "\n",
    " \n",
    "sql_create_globi_table = \"\"\" CREATE TABLE IF NOT EXISTS globi (\n",
    "                                                            sourceTaxonId,\n",
    "                                                            sourceTaxonIds,\n",
    "                                                            sourceTaxonName,\n",
    "                                                            sourceTaxonRank,\n",
    "                                                            sourceTaxonPathNames,\n",
    "                                                            sourceTaxonPathIds,\n",
    "                                                            sourceTaxonPathRankNames,\n",
    "                                                            sourceTaxonSpeciesName,\n",
    "                                                            sourceTaxonSpeciesId,\n",
    "                                                            sourceTaxonGenusName,\n",
    "                                                            sourceTaxonGenusId,\n",
    "                                                            sourceTaxonFamilyName,\n",
    "                                                            sourceTaxonFamilyId,\n",
    "                                                            sourceTaxonOrderName,\n",
    "                                                            sourceTaxonOrderId,\n",
    "                                                            sourceTaxonClassName,\n",
    "                                                            sourceTaxonClassId,\n",
    "                                                            sourceTaxonPhylumName,\n",
    "                                                            sourceTaxonPhylumId,\n",
    "                                                            sourceTaxonKingdomName,\n",
    "                                                            sourceTaxonKingdomId,\n",
    "                                                            sourceId,\n",
    "                                                            sourceOccurrenceId,\n",
    "                                                            sourceCatalogNumber,\n",
    "                                                            sourceBasisOfRecordId,\n",
    "                                                            sourceBasisOfRecordName,\n",
    "                                                            sourceLifeStageId,\n",
    "                                                            sourceLifeStageName,\n",
    "                                                            sourceBodyPartId,\n",
    "                                                            sourceBodyPartName,\n",
    "                                                            sourcePhysiologicalStateId,\n",
    "                                                            sourcePhysiologicalStateName,\n",
    "                                                            sourceSexId,\n",
    "                                                            sourceSexName,\n",
    "                                                            interactionTypeName,\n",
    "                                                            interactionTypeId,\n",
    "                                                            targetTaxonId,\n",
    "                                                            targetTaxonIds,\n",
    "                                                            targetTaxonName,\n",
    "                                                            targetTaxonRank,\n",
    "                                                            targetTaxonPathNames,\n",
    "                                                            targetTaxonPathIds,\n",
    "                                                            targetTaxonPathRankNames,\n",
    "                                                            targetTaxonSpeciesName,\n",
    "                                                            targetTaxonSpeciesId,\n",
    "                                                            targetTaxonGenusName,\n",
    "                                                            targetTaxonGenusId,\n",
    "                                                            targetTaxonFamilyName,\n",
    "                                                            targetTaxonFamilyId,\n",
    "                                                            targetTaxonOrderName,\n",
    "                                                            targetTaxonOrderId,\n",
    "                                                            targetTaxonClassName,\n",
    "                                                            targetTaxonClassId,\n",
    "                                                            targetTaxonPhylumName,\n",
    "                                                            targetTaxonPhylumId,\n",
    "                                                            targetTaxonKingdomName,\n",
    "                                                            targetTaxonKingdomId,\n",
    "                                                            targetId,\n",
    "                                                            targetOccurrenceId,\n",
    "                                                            targetCatalogNumber,\n",
    "                                                            targetBasisOfRecordId,\n",
    "                                                            targetBasisOfRecordName,\n",
    "                                                            targetLifeStageId,\n",
    "                                                            targetLifeStageName,\n",
    "                                                            targetBodyPartId,\n",
    "                                                            targetBodyPartName,\n",
    "                                                            targetPhysiologicalStateId,\n",
    "                                                            targetPhysiologicalStateName,\n",
    "                                                            targetSexId,\n",
    "                                                            targetSexName,\n",
    "                                                            decimalLatitude,\n",
    "                                                            decimalLongitude,\n",
    "                                                            localityId,\n",
    "                                                            localityName,\n",
    "                                                            eventDateUnixEpoch,\n",
    "                                                            argumentTypeId,\n",
    "                                                            referenceCitation,\n",
    "                                                            referenceDoi,\n",
    "                                                            referenceUrl,\n",
    "                                                            sourceCitation,\n",
    "                                                            sourceNamespace,\n",
    "                                                            sourceArchiveURI,\n",
    "                                                            sourceDOI,\n",
    "                                                            sourceLastSeenAtUnixEpoch\n",
    "                                                        ); \"\"\""
   ]
  },
  {
   "cell_type": "code",
   "execution_count": 5,
   "metadata": {},
   "outputs": [],
   "source": [
    "# create table\n",
    "try:\n",
    "    conn.execute(sql_create_globi_table)\n",
    "except Error as e:\n",
    "    print(e)"
   ]
  },
  {
   "cell_type": "markdown",
   "metadata": {},
   "source": [
    "## Clear down the table before filling it up again"
   ]
  },
  {
   "cell_type": "code",
   "execution_count": 6,
   "metadata": {
    "scrolled": true
   },
   "outputs": [
    {
     "data": {
      "text/plain": [
       "<sqlite3.Cursor at 0x2581457c7a0>"
      ]
     },
     "execution_count": 6,
     "metadata": {},
     "output_type": "execute_result"
    }
   ],
   "source": [
    "conn.execute('DELETE FROM globi')"
   ]
  },
  {
   "cell_type": "markdown",
   "metadata": {},
   "source": [
    "## Load the table"
   ]
  },
  {
   "cell_type": "code",
   "execution_count": 7,
   "metadata": {
    "scrolled": true
   },
   "outputs": [],
   "source": [
    "with open(r\"D:\\Documents\\notebooks\\batty\\data\\interactions.tsv\", \"r\", encoding='utf-8') as f:        \n",
    "    rows = f.readlines()\n",
    "    for row in rows:\n",
    "        fields = row.split('\\t')\n",
    "        conn.execute(\"\"\"INSERT INTO globi (sourceTaxonId, sourceTaxonIds, sourceTaxonName, sourceTaxonRank, \\\n",
    "                                sourceTaxonPathNames, sourceTaxonPathIds, sourceTaxonPathRankNames, sourceTaxonSpeciesName, \\\n",
    "                                sourceTaxonSpeciesId, sourceTaxonGenusName, sourceTaxonGenusId, sourceTaxonFamilyName, \\\n",
    "                                sourceTaxonFamilyId, sourceTaxonOrderName, sourceTaxonOrderId, sourceTaxonClassName, \\\n",
    "                                sourceTaxonClassId, sourceTaxonPhylumName, sourceTaxonPhylumId, sourceTaxonKingdomName, \\\n",
    "                                sourceTaxonKingdomId, sourceId, sourceOccurrenceId, sourceCatalogNumber, sourceBasisOfRecordId, \\\n",
    "                                sourceBasisOfRecordName, sourceLifeStageId, sourceLifeStageName, sourceBodyPartId, \\\n",
    "                                sourceBodyPartName, sourcePhysiologicalStateId, sourcePhysiologicalStateName, \\\n",
    "                                sourceSexId, sourceSexName, \\\n",
    "                                interactionTypeName, interactionTypeId, targetTaxonId, targetTaxonIds, targetTaxonName, \\\n",
    "                                targetTaxonRank, targetTaxonPathNames, targetTaxonPathIds, targetTaxonPathRankNames, \\\n",
    "                                targetTaxonSpeciesName, targetTaxonSpeciesId, targetTaxonGenusName, targetTaxonGenusId, \\\n",
    "                                targetTaxonFamilyName, targetTaxonFamilyId, targetTaxonOrderName, targetTaxonOrderId, \\\n",
    "                                targetTaxonClassName, targetTaxonClassId, targetTaxonPhylumName, targetTaxonPhylumId, \\\n",
    "                                targetTaxonKingdomName, targetTaxonKingdomId, targetId, targetOccurrenceId, targetCatalogNumber, \\\n",
    "                                targetBasisOfRecordId, targetBasisOfRecordName, targetLifeStageId, targetLifeStageName, \\\n",
    "                                targetBodyPartId, targetBodyPartName, targetPhysiologicalStateId, targetPhysiologicalStateName, \\\n",
    "                                targetSexId, targetSexName, \\\n",
    "                                decimalLatitude, decimalLongitude, localityId, localityName, eventDateUnixEpoch, argumentTypeId, \\\n",
    "                                referenceCitation, referenceDoi, referenceUrl, sourceCitation, sourceNamespace, \\\n",
    "                                sourceArchiveURI, sourceDOI, sourceLastSeenAtUnixEpoch) \\\n",
    "                                VALUES(?,?,?,?,?,?,?,?,?,?,?,?,?,?,?,?,?,?,?,?,?,?,?,?,?,?,?,?,?,?,?,?,?,?,?,?,?,?,?,?,?,?,?,?,?,?,?,?,?,?,?,?,?,?,?,?,?,?,?,?,?,?,?,?,?,?,?,?,?,?,?,?,?,?,?,?,?,?,?,?,?,?,?,?)\"\"\", \\\n",
    "                                (fields[0],fields[1],fields[2],fields[3],fields[4], \\\n",
    "                                 fields[5],fields[6],fields[7],fields[8],fields[9], \\\n",
    "                                 fields[10],fields[11],fields[12],fields[13],fields[14], \\\n",
    "                                 fields[15],fields[16],fields[17],fields[18],fields[19], \\\n",
    "                                 fields[20],fields[21],fields[22],fields[23],fields[24], \\\n",
    "                                 fields[25],fields[26],fields[27],fields[28],fields[29], \\\n",
    "                                 fields[30],fields[31],fields[32],fields[33],fields[34], \\\n",
    "                                 fields[35],fields[36],fields[37],fields[38],fields[39], \\\n",
    "                                 fields[40],fields[41],fields[42],fields[43],fields[44], \\\n",
    "                                 fields[45],fields[46],fields[47],fields[48],fields[49], \\\n",
    "                                 fields[50],fields[51],fields[52],fields[53],fields[54], \\\n",
    "                                 fields[55],fields[56],fields[57],fields[58],fields[59], \\\n",
    "                                 fields[60],fields[61],fields[62],fields[63],fields[64], \\\n",
    "                                 fields[65],fields[66],fields[67],fields[68],fields[69], \\\n",
    "                                 fields[70],fields[71],fields[72],fields[73],fields[74], \\\n",
    "                                 fields[75],fields[76],fields[77],fields[78],fields[79], \\\n",
    "                                 fields[80],fields[81],fields[82],fields[83]))"
   ]
  },
  {
   "cell_type": "code",
   "execution_count": 8,
   "metadata": {},
   "outputs": [],
   "source": [
    "conn.commit()"
   ]
  },
  {
   "cell_type": "markdown",
   "metadata": {},
   "source": [
    "## Build some indexes to make queries faster"
   ]
  },
  {
   "cell_type": "code",
   "execution_count": 9,
   "metadata": {},
   "outputs": [],
   "source": [
    "#conn.execute('DROP INDEX sourceTaxonNameIndex')\n",
    "#conn.execute('DROP INDEX targetTaxonNameIndex')\n",
    "#conn.execute('DROP INDEX sourceAndInteractionTypeIndex')\n",
    "#conn.execute('DROP INDEX targetAndInteractionTypeIndex')\n",
    "#conn.execute('DROP INDEX sourceTaxonRankIndex')"
   ]
  },
  {
   "cell_type": "code",
   "execution_count": 10,
   "metadata": {},
   "outputs": [
    {
     "data": {
      "text/plain": [
       "<sqlite3.Cursor at 0x2581457ca40>"
      ]
     },
     "execution_count": 10,
     "metadata": {},
     "output_type": "execute_result"
    }
   ],
   "source": [
    "conn.execute('CREATE INDEX IF NOT EXISTS sourceTaxonNameIndex ON globi(sourceTaxonName)')"
   ]
  },
  {
   "cell_type": "code",
   "execution_count": 11,
   "metadata": {},
   "outputs": [
    {
     "data": {
      "text/plain": [
       "<sqlite3.Cursor at 0x2581457cf10>"
      ]
     },
     "execution_count": 11,
     "metadata": {},
     "output_type": "execute_result"
    }
   ],
   "source": [
    "conn.execute('CREATE INDEX IF NOT EXISTS targetTaxonNameIndex ON globi(targetTaxonName)')"
   ]
  },
  {
   "cell_type": "code",
   "execution_count": 12,
   "metadata": {},
   "outputs": [
    {
     "data": {
      "text/plain": [
       "<sqlite3.Cursor at 0x258145ca030>"
      ]
     },
     "execution_count": 12,
     "metadata": {},
     "output_type": "execute_result"
    }
   ],
   "source": [
    "conn.execute('CREATE INDEX IF NOT EXISTS sourceAndInteractionTypeIndex ON globi(sourceTaxonName, interactionTypeName)')"
   ]
  },
  {
   "cell_type": "code",
   "execution_count": 8,
   "metadata": {},
   "outputs": [
    {
     "data": {
      "text/plain": [
       "<sqlite3.Cursor at 0x203651ec340>"
      ]
     },
     "execution_count": 8,
     "metadata": {},
     "output_type": "execute_result"
    }
   ],
   "source": [
    "conn.execute('CREATE INDEX IF NOT EXISTS targetAndInteractionTypeIndex ON globi(targetTaxonName, interactionTypeName)')"
   ]
  },
  {
   "cell_type": "code",
   "execution_count": 9,
   "metadata": {},
   "outputs": [
    {
     "data": {
      "text/plain": [
       "<sqlite3.Cursor at 0x203651ec3b0>"
      ]
     },
     "execution_count": 9,
     "metadata": {},
     "output_type": "execute_result"
    }
   ],
   "source": [
    "conn.execute('CREATE INDEX IF NOT EXISTS targetAndInteractionTypeRankIndex ON globi(targetTaxonName, interactionTypeName, targetTaxonRank, sourceTaxonRank)')"
   ]
  },
  {
   "cell_type": "code",
   "execution_count": 10,
   "metadata": {},
   "outputs": [
    {
     "data": {
      "text/plain": [
       "<sqlite3.Cursor at 0x203651ec650>"
      ]
     },
     "execution_count": 10,
     "metadata": {},
     "output_type": "execute_result"
    }
   ],
   "source": [
    "conn.execute('CREATE INDEX IF NOT EXISTS sourceAndInteractionTypeRankIndex ON globi(sourceTaxonName, interactionTypeName, targetTaxonRank, sourceTaxonRank)')"
   ]
  },
  {
   "cell_type": "code",
   "execution_count": 15,
   "metadata": {},
   "outputs": [
    {
     "data": {
      "text/plain": [
       "<sqlite3.Cursor at 0x203651ecf80>"
      ]
     },
     "execution_count": 15,
     "metadata": {},
     "output_type": "execute_result"
    }
   ],
   "source": [
    "conn.execute('CREATE INDEX IF NOT EXISTS sourceTargetAndInteractionTypeRankIndex ON globi(targetTaxonName, sourceTaxonName, interactionTypeName, targetTaxonRank, sourceTaxonRank)')"
   ]
  },
  {
   "cell_type": "code",
   "execution_count": 16,
   "metadata": {},
   "outputs": [
    {
     "data": {
      "text/plain": [
       "<sqlite3.Cursor at 0x20365221110>"
      ]
     },
     "execution_count": 16,
     "metadata": {},
     "output_type": "execute_result"
    }
   ],
   "source": [
    "conn.execute('CREATE INDEX IF NOT EXISTS sourceTaxonRankIndex ON globi(sourceTaxonRank)')"
   ]
  },
  {
   "cell_type": "markdown",
   "metadata": {},
   "source": [
    "## Run a quick check to make sure the indexes work as expected."
   ]
  },
  {
   "cell_type": "code",
   "execution_count": 17,
   "metadata": {},
   "outputs": [
    {
     "data": {
      "text/html": [
       "<div>\n",
       "<style scoped>\n",
       "    .dataframe tbody tr th:only-of-type {\n",
       "        vertical-align: middle;\n",
       "    }\n",
       "\n",
       "    .dataframe tbody tr th {\n",
       "        vertical-align: top;\n",
       "    }\n",
       "\n",
       "    .dataframe thead th {\n",
       "        text-align: right;\n",
       "    }\n",
       "</style>\n",
       "<table border=\"1\" class=\"dataframe\">\n",
       "  <thead>\n",
       "    <tr style=\"text-align: right;\">\n",
       "      <th></th>\n",
       "      <th>id</th>\n",
       "      <th>parent</th>\n",
       "      <th>notused</th>\n",
       "      <th>detail</th>\n",
       "    </tr>\n",
       "  </thead>\n",
       "  <tbody>\n",
       "    <tr>\n",
       "      <th>0</th>\n",
       "      <td>2</td>\n",
       "      <td>0</td>\n",
       "      <td>0</td>\n",
       "      <td>SCAN TABLE globi USING COVERING INDEX sourceAn...</td>\n",
       "    </tr>\n",
       "  </tbody>\n",
       "</table>\n",
       "</div>"
      ],
      "text/plain": [
       "   id  parent  notused                                             detail\n",
       "0   2       0        0  SCAN TABLE globi USING COVERING INDEX sourceAn..."
      ]
     },
     "execution_count": 17,
     "metadata": {},
     "output_type": "execute_result"
    }
   ],
   "source": [
    "pd.read_sql_query('EXPLAIN QUERY PLAN SELECT sourceTaxonName FROM globi WHERE interactionTypeName = \"visitsFlowersOf\"', conn)"
   ]
  },
  {
   "cell_type": "markdown",
   "metadata": {},
   "source": [
    "## Check if something is in the database"
   ]
  },
  {
   "cell_type": "code",
   "execution_count": 16,
   "metadata": {
    "scrolled": true
   },
   "outputs": [
    {
     "data": {
      "text/html": [
       "<div>\n",
       "<style scoped>\n",
       "    .dataframe tbody tr th:only-of-type {\n",
       "        vertical-align: middle;\n",
       "    }\n",
       "\n",
       "    .dataframe tbody tr th {\n",
       "        vertical-align: top;\n",
       "    }\n",
       "\n",
       "    .dataframe thead th {\n",
       "        text-align: right;\n",
       "    }\n",
       "</style>\n",
       "<table border=\"1\" class=\"dataframe\">\n",
       "  <thead>\n",
       "    <tr style=\"text-align: right;\">\n",
       "      <th></th>\n",
       "      <th>sourceTaxonId</th>\n",
       "      <th>sourceTaxonIds</th>\n",
       "      <th>sourceTaxonName</th>\n",
       "      <th>sourceTaxonRank</th>\n",
       "      <th>sourceTaxonPathNames</th>\n",
       "      <th>sourceTaxonPathIds</th>\n",
       "      <th>sourceTaxonPathRankNames</th>\n",
       "      <th>sourceTaxonSpeciesName</th>\n",
       "      <th>sourceTaxonSpeciesId</th>\n",
       "      <th>sourceTaxonGenusName</th>\n",
       "      <th>...</th>\n",
       "      <th>eventDateUnixEpoch</th>\n",
       "      <th>argumentTypeId</th>\n",
       "      <th>referenceCitation</th>\n",
       "      <th>referenceDoi</th>\n",
       "      <th>referenceUrl</th>\n",
       "      <th>sourceCitation</th>\n",
       "      <th>sourceNamespace</th>\n",
       "      <th>sourceArchiveURI</th>\n",
       "      <th>sourceDOI</th>\n",
       "      <th>sourceLastSeenAtUnixEpoch</th>\n",
       "    </tr>\n",
       "  </thead>\n",
       "  <tbody>\n",
       "    <tr>\n",
       "      <th>0</th>\n",
       "      <td>sourceTaxonId</td>\n",
       "      <td>sourceTaxonIds</td>\n",
       "      <td>sourceTaxonName</td>\n",
       "      <td>sourceTaxonRank</td>\n",
       "      <td>sourceTaxonPathNames</td>\n",
       "      <td>sourceTaxonPathIds</td>\n",
       "      <td>sourceTaxonPathRankNames</td>\n",
       "      <td>sourceTaxonSpeciesName</td>\n",
       "      <td>sourceTaxonSpeciesId</td>\n",
       "      <td>sourceTaxonGenusName</td>\n",
       "      <td>...</td>\n",
       "      <td>eventDateUnixEpoch</td>\n",
       "      <td>argumentTypeId</td>\n",
       "      <td>referenceCitation</td>\n",
       "      <td>referenceDoi</td>\n",
       "      <td>referenceUrl</td>\n",
       "      <td>sourceCitation</td>\n",
       "      <td>sourceNamespace</td>\n",
       "      <td>sourceArchiveURI</td>\n",
       "      <td>sourceDOI</td>\n",
       "      <td>sourceLastSeenAtUnixEpoch\\n</td>\n",
       "    </tr>\n",
       "    <tr>\n",
       "      <th>1</th>\n",
       "      <td>EOL_V2:2804347</td>\n",
       "      <td>EOL_V2:2804347 | FBC:FB:SpecCode:126 | GBIF:23...</td>\n",
       "      <td>Scomberomorus maculatus</td>\n",
       "      <td>species</td>\n",
       "      <td>Animalia | Chordata | Actinopterygii | Percifo...</td>\n",
       "      <td>EOL:1 | EOL:694 | EOL:1905 | EOL:5184 | EOL:52...</td>\n",
       "      <td>kingdom | phylum | class | order | family | ge...</td>\n",
       "      <td>Scomberomorus maculatus</td>\n",
       "      <td>EOL_V2:2804347</td>\n",
       "      <td>Scomberomorus</td>\n",
       "      <td>...</td>\n",
       "      <td>368175600000</td>\n",
       "      <td>https://en.wiktionary.org/wiki/support</td>\n",
       "      <td>Carl Saloman, Steven Naughton. 1983. Food of S...</td>\n",
       "      <td></td>\n",
       "      <td></td>\n",
       "      <td>http://gomexsi.tamucc.edu</td>\n",
       "      <td>GoMexSI/abascal</td>\n",
       "      <td>https://github.com/GoMexSI/abascal/archive/d2b...</td>\n",
       "      <td></td>\n",
       "      <td>2020-05-07T23:09:42.192Z\\n</td>\n",
       "    </tr>\n",
       "    <tr>\n",
       "      <th>2</th>\n",
       "      <td>EOL_V2:2804347</td>\n",
       "      <td>EOL_V2:2804347 | FBC:FB:SpecCode:126 | GBIF:23...</td>\n",
       "      <td>Scomberomorus maculatus</td>\n",
       "      <td>species</td>\n",
       "      <td>Animalia | Chordata | Actinopterygii | Percifo...</td>\n",
       "      <td>EOL:1 | EOL:694 | EOL:1905 | EOL:5184 | EOL:52...</td>\n",
       "      <td>kingdom | phylum | class | order | family | ge...</td>\n",
       "      <td>Scomberomorus maculatus</td>\n",
       "      <td>EOL_V2:2804347</td>\n",
       "      <td>Scomberomorus</td>\n",
       "      <td>...</td>\n",
       "      <td>368175600000</td>\n",
       "      <td>https://en.wiktionary.org/wiki/support</td>\n",
       "      <td>Carl Saloman, Steven Naughton. 1983. Food of S...</td>\n",
       "      <td></td>\n",
       "      <td></td>\n",
       "      <td>http://gomexsi.tamucc.edu</td>\n",
       "      <td>GoMexSI/abascal</td>\n",
       "      <td>https://github.com/GoMexSI/abascal/archive/d2b...</td>\n",
       "      <td></td>\n",
       "      <td>2020-05-07T23:09:42.192Z\\n</td>\n",
       "    </tr>\n",
       "    <tr>\n",
       "      <th>3</th>\n",
       "      <td>EOL_V2:2804347</td>\n",
       "      <td>EOL_V2:2804347 | FBC:FB:SpecCode:126 | GBIF:23...</td>\n",
       "      <td>Scomberomorus maculatus</td>\n",
       "      <td>species</td>\n",
       "      <td>Animalia | Chordata | Actinopterygii | Percifo...</td>\n",
       "      <td>EOL:1 | EOL:694 | EOL:1905 | EOL:5184 | EOL:52...</td>\n",
       "      <td>kingdom | phylum | class | order | family | ge...</td>\n",
       "      <td>Scomberomorus maculatus</td>\n",
       "      <td>EOL_V2:2804347</td>\n",
       "      <td>Scomberomorus</td>\n",
       "      <td>...</td>\n",
       "      <td>368175600000</td>\n",
       "      <td>https://en.wiktionary.org/wiki/support</td>\n",
       "      <td>Carl Saloman, Steven Naughton. 1983. Food of S...</td>\n",
       "      <td></td>\n",
       "      <td></td>\n",
       "      <td>http://gomexsi.tamucc.edu</td>\n",
       "      <td>GoMexSI/abascal</td>\n",
       "      <td>https://github.com/GoMexSI/abascal/archive/d2b...</td>\n",
       "      <td></td>\n",
       "      <td>2020-05-07T23:09:42.192Z\\n</td>\n",
       "    </tr>\n",
       "    <tr>\n",
       "      <th>4</th>\n",
       "      <td>EOL_V2:2804347</td>\n",
       "      <td>EOL_V2:2804347 | FBC:FB:SpecCode:126 | GBIF:23...</td>\n",
       "      <td>Scomberomorus maculatus</td>\n",
       "      <td>species</td>\n",
       "      <td>Animalia | Chordata | Actinopterygii | Percifo...</td>\n",
       "      <td>EOL:1 | EOL:694 | EOL:1905 | EOL:5184 | EOL:52...</td>\n",
       "      <td>kingdom | phylum | class | order | family | ge...</td>\n",
       "      <td>Scomberomorus maculatus</td>\n",
       "      <td>EOL_V2:2804347</td>\n",
       "      <td>Scomberomorus</td>\n",
       "      <td>...</td>\n",
       "      <td>368175600000</td>\n",
       "      <td>https://en.wiktionary.org/wiki/support</td>\n",
       "      <td>Carl Saloman, Steven Naughton. 1983. Food of S...</td>\n",
       "      <td></td>\n",
       "      <td></td>\n",
       "      <td>http://gomexsi.tamucc.edu</td>\n",
       "      <td>GoMexSI/abascal</td>\n",
       "      <td>https://github.com/GoMexSI/abascal/archive/d2b...</td>\n",
       "      <td></td>\n",
       "      <td>2020-05-07T23:09:42.192Z\\n</td>\n",
       "    </tr>\n",
       "  </tbody>\n",
       "</table>\n",
       "<p>5 rows × 84 columns</p>\n",
       "</div>"
      ],
      "text/plain": [
       "    sourceTaxonId                                     sourceTaxonIds  \\\n",
       "0   sourceTaxonId                                     sourceTaxonIds   \n",
       "1  EOL_V2:2804347  EOL_V2:2804347 | FBC:FB:SpecCode:126 | GBIF:23...   \n",
       "2  EOL_V2:2804347  EOL_V2:2804347 | FBC:FB:SpecCode:126 | GBIF:23...   \n",
       "3  EOL_V2:2804347  EOL_V2:2804347 | FBC:FB:SpecCode:126 | GBIF:23...   \n",
       "4  EOL_V2:2804347  EOL_V2:2804347 | FBC:FB:SpecCode:126 | GBIF:23...   \n",
       "\n",
       "           sourceTaxonName  sourceTaxonRank  \\\n",
       "0          sourceTaxonName  sourceTaxonRank   \n",
       "1  Scomberomorus maculatus          species   \n",
       "2  Scomberomorus maculatus          species   \n",
       "3  Scomberomorus maculatus          species   \n",
       "4  Scomberomorus maculatus          species   \n",
       "\n",
       "                                sourceTaxonPathNames  \\\n",
       "0                               sourceTaxonPathNames   \n",
       "1  Animalia | Chordata | Actinopterygii | Percifo...   \n",
       "2  Animalia | Chordata | Actinopterygii | Percifo...   \n",
       "3  Animalia | Chordata | Actinopterygii | Percifo...   \n",
       "4  Animalia | Chordata | Actinopterygii | Percifo...   \n",
       "\n",
       "                                  sourceTaxonPathIds  \\\n",
       "0                                 sourceTaxonPathIds   \n",
       "1  EOL:1 | EOL:694 | EOL:1905 | EOL:5184 | EOL:52...   \n",
       "2  EOL:1 | EOL:694 | EOL:1905 | EOL:5184 | EOL:52...   \n",
       "3  EOL:1 | EOL:694 | EOL:1905 | EOL:5184 | EOL:52...   \n",
       "4  EOL:1 | EOL:694 | EOL:1905 | EOL:5184 | EOL:52...   \n",
       "\n",
       "                            sourceTaxonPathRankNames   sourceTaxonSpeciesName  \\\n",
       "0                           sourceTaxonPathRankNames   sourceTaxonSpeciesName   \n",
       "1  kingdom | phylum | class | order | family | ge...  Scomberomorus maculatus   \n",
       "2  kingdom | phylum | class | order | family | ge...  Scomberomorus maculatus   \n",
       "3  kingdom | phylum | class | order | family | ge...  Scomberomorus maculatus   \n",
       "4  kingdom | phylum | class | order | family | ge...  Scomberomorus maculatus   \n",
       "\n",
       "   sourceTaxonSpeciesId  sourceTaxonGenusName  ...  eventDateUnixEpoch  \\\n",
       "0  sourceTaxonSpeciesId  sourceTaxonGenusName  ...  eventDateUnixEpoch   \n",
       "1        EOL_V2:2804347         Scomberomorus  ...        368175600000   \n",
       "2        EOL_V2:2804347         Scomberomorus  ...        368175600000   \n",
       "3        EOL_V2:2804347         Scomberomorus  ...        368175600000   \n",
       "4        EOL_V2:2804347         Scomberomorus  ...        368175600000   \n",
       "\n",
       "                           argumentTypeId  \\\n",
       "0                          argumentTypeId   \n",
       "1  https://en.wiktionary.org/wiki/support   \n",
       "2  https://en.wiktionary.org/wiki/support   \n",
       "3  https://en.wiktionary.org/wiki/support   \n",
       "4  https://en.wiktionary.org/wiki/support   \n",
       "\n",
       "                                   referenceCitation  referenceDoi  \\\n",
       "0                                  referenceCitation  referenceDoi   \n",
       "1  Carl Saloman, Steven Naughton. 1983. Food of S...                 \n",
       "2  Carl Saloman, Steven Naughton. 1983. Food of S...                 \n",
       "3  Carl Saloman, Steven Naughton. 1983. Food of S...                 \n",
       "4  Carl Saloman, Steven Naughton. 1983. Food of S...                 \n",
       "\n",
       "   referenceUrl             sourceCitation  sourceNamespace  \\\n",
       "0  referenceUrl             sourceCitation  sourceNamespace   \n",
       "1                http://gomexsi.tamucc.edu  GoMexSI/abascal   \n",
       "2                http://gomexsi.tamucc.edu  GoMexSI/abascal   \n",
       "3                http://gomexsi.tamucc.edu  GoMexSI/abascal   \n",
       "4                http://gomexsi.tamucc.edu  GoMexSI/abascal   \n",
       "\n",
       "                                    sourceArchiveURI  sourceDOI  \\\n",
       "0                                   sourceArchiveURI  sourceDOI   \n",
       "1  https://github.com/GoMexSI/abascal/archive/d2b...              \n",
       "2  https://github.com/GoMexSI/abascal/archive/d2b...              \n",
       "3  https://github.com/GoMexSI/abascal/archive/d2b...              \n",
       "4  https://github.com/GoMexSI/abascal/archive/d2b...              \n",
       "\n",
       "     sourceLastSeenAtUnixEpoch  \n",
       "0  sourceLastSeenAtUnixEpoch\\n  \n",
       "1   2020-05-07T23:09:42.192Z\\n  \n",
       "2   2020-05-07T23:09:42.192Z\\n  \n",
       "3   2020-05-07T23:09:42.192Z\\n  \n",
       "4   2020-05-07T23:09:42.192Z\\n  \n",
       "\n",
       "[5 rows x 84 columns]"
      ]
     },
     "execution_count": 16,
     "metadata": {},
     "output_type": "execute_result"
    }
   ],
   "source": [
    "#dups = pd.read_sql_query('SELECT sourceTaxonRank FROM globi GROUP BY sourceTaxonRank', conn)\n",
    "select = pd.read_sql_query('SELECT * FROM globi LIMIT 5', conn)\n",
    "select"
   ]
  },
  {
   "cell_type": "code",
   "execution_count": 17,
   "metadata": {},
   "outputs": [],
   "source": [
    "select = pd.read_sql_query('SELECT sourceTaxonName from globi where targetTaxonName = \"Prunus serotina\"', conn)"
   ]
  },
  {
   "cell_type": "code",
   "execution_count": 18,
   "metadata": {},
   "outputs": [
    {
     "data": {
      "text/html": [
       "<div>\n",
       "<style scoped>\n",
       "    .dataframe tbody tr th:only-of-type {\n",
       "        vertical-align: middle;\n",
       "    }\n",
       "\n",
       "    .dataframe tbody tr th {\n",
       "        vertical-align: top;\n",
       "    }\n",
       "\n",
       "    .dataframe thead th {\n",
       "        text-align: right;\n",
       "    }\n",
       "</style>\n",
       "<table border=\"1\" class=\"dataframe\">\n",
       "  <thead>\n",
       "    <tr style=\"text-align: right;\">\n",
       "      <th></th>\n",
       "      <th>sourceTaxonName</th>\n",
       "    </tr>\n",
       "  </thead>\n",
       "  <tbody>\n",
       "    <tr>\n",
       "      <th>0</th>\n",
       "      <td>Acer negundo</td>\n",
       "    </tr>\n",
       "    <tr>\n",
       "      <th>1</th>\n",
       "      <td>Tilia americana heterophylla</td>\n",
       "    </tr>\n",
       "    <tr>\n",
       "      <th>2</th>\n",
       "      <td>Halictus confusus</td>\n",
       "    </tr>\n",
       "    <tr>\n",
       "      <th>3</th>\n",
       "      <td>Augochlorella aurata</td>\n",
       "    </tr>\n",
       "    <tr>\n",
       "      <th>4</th>\n",
       "      <td>Vanessa virginiensis</td>\n",
       "    </tr>\n",
       "    <tr>\n",
       "      <th>5</th>\n",
       "      <td>Magnolia acuminata</td>\n",
       "    </tr>\n",
       "    <tr>\n",
       "      <th>6</th>\n",
       "      <td>Magnolia fraseri</td>\n",
       "    </tr>\n",
       "    <tr>\n",
       "      <th>7</th>\n",
       "      <td>Quercus laevis</td>\n",
       "    </tr>\n",
       "    <tr>\n",
       "      <th>8</th>\n",
       "      <td>Quercus montana</td>\n",
       "    </tr>\n",
       "    <tr>\n",
       "      <th>9</th>\n",
       "      <td>Colletes inaequalis</td>\n",
       "    </tr>\n",
       "    <tr>\n",
       "      <th>10</th>\n",
       "      <td>Bombus griseocollis</td>\n",
       "    </tr>\n",
       "    <tr>\n",
       "      <th>11</th>\n",
       "      <td>Bombus impatiens</td>\n",
       "    </tr>\n",
       "    <tr>\n",
       "      <th>12</th>\n",
       "      <td>Andrena hippotes</td>\n",
       "    </tr>\n",
       "    <tr>\n",
       "      <th>13</th>\n",
       "      <td>Andrena crataegi</td>\n",
       "    </tr>\n",
       "    <tr>\n",
       "      <th>14</th>\n",
       "      <td>Andrena erythrogaster</td>\n",
       "    </tr>\n",
       "    <tr>\n",
       "      <th>15</th>\n",
       "      <td>Andrena cressonii</td>\n",
       "    </tr>\n",
       "    <tr>\n",
       "      <th>16</th>\n",
       "      <td>Andrena forbesii</td>\n",
       "    </tr>\n",
       "    <tr>\n",
       "      <th>17</th>\n",
       "      <td>Andrena tridens</td>\n",
       "    </tr>\n",
       "    <tr>\n",
       "      <th>18</th>\n",
       "      <td>Ceratina calcarata</td>\n",
       "    </tr>\n",
       "    <tr>\n",
       "      <th>19</th>\n",
       "      <td>Andrena ceanothi</td>\n",
       "    </tr>\n",
       "    <tr>\n",
       "      <th>20</th>\n",
       "      <td>Andrena rugosa</td>\n",
       "    </tr>\n",
       "    <tr>\n",
       "      <th>21</th>\n",
       "      <td>Andrena nuda</td>\n",
       "    </tr>\n",
       "    <tr>\n",
       "      <th>22</th>\n",
       "      <td>Andrena illinoiensis</td>\n",
       "    </tr>\n",
       "    <tr>\n",
       "      <th>23</th>\n",
       "      <td>Dermea cerasi</td>\n",
       "    </tr>\n",
       "    <tr>\n",
       "      <th>24</th>\n",
       "      <td>Lucilia illustris</td>\n",
       "    </tr>\n",
       "    <tr>\n",
       "      <th>25</th>\n",
       "      <td>Syritta pipiens</td>\n",
       "    </tr>\n",
       "    <tr>\n",
       "      <th>26</th>\n",
       "      <td>Neomyia cornicina</td>\n",
       "    </tr>\n",
       "    <tr>\n",
       "      <th>27</th>\n",
       "      <td>Scathophaga furcata</td>\n",
       "    </tr>\n",
       "    <tr>\n",
       "      <th>28</th>\n",
       "      <td>Delia platura</td>\n",
       "    </tr>\n",
       "    <tr>\n",
       "      <th>29</th>\n",
       "      <td>Fannia manicata</td>\n",
       "    </tr>\n",
       "    <tr>\n",
       "      <th>...</th>\n",
       "      <td>...</td>\n",
       "    </tr>\n",
       "    <tr>\n",
       "      <th>1253</th>\n",
       "      <td>Dicerca divaricata</td>\n",
       "    </tr>\n",
       "    <tr>\n",
       "      <th>1254</th>\n",
       "      <td>Dicerca divaricata</td>\n",
       "    </tr>\n",
       "    <tr>\n",
       "      <th>1255</th>\n",
       "      <td>Dicerca divaricata</td>\n",
       "    </tr>\n",
       "    <tr>\n",
       "      <th>1256</th>\n",
       "      <td>Dicerca divaricata</td>\n",
       "    </tr>\n",
       "    <tr>\n",
       "      <th>1257</th>\n",
       "      <td>Dicerca divaricata</td>\n",
       "    </tr>\n",
       "    <tr>\n",
       "      <th>1258</th>\n",
       "      <td>Dicerca divaricata</td>\n",
       "    </tr>\n",
       "    <tr>\n",
       "      <th>1259</th>\n",
       "      <td>Dicerca divaricata</td>\n",
       "    </tr>\n",
       "    <tr>\n",
       "      <th>1260</th>\n",
       "      <td>Dicerca divaricata</td>\n",
       "    </tr>\n",
       "    <tr>\n",
       "      <th>1261</th>\n",
       "      <td>Dicerca divaricata</td>\n",
       "    </tr>\n",
       "    <tr>\n",
       "      <th>1262</th>\n",
       "      <td>Dicerca divaricata</td>\n",
       "    </tr>\n",
       "    <tr>\n",
       "      <th>1263</th>\n",
       "      <td>Dicerca divaricata</td>\n",
       "    </tr>\n",
       "    <tr>\n",
       "      <th>1264</th>\n",
       "      <td>Dicerca divaricata</td>\n",
       "    </tr>\n",
       "    <tr>\n",
       "      <th>1265</th>\n",
       "      <td>Dicerca divaricata</td>\n",
       "    </tr>\n",
       "    <tr>\n",
       "      <th>1266</th>\n",
       "      <td>Dicerca divaricata</td>\n",
       "    </tr>\n",
       "    <tr>\n",
       "      <th>1267</th>\n",
       "      <td>Dicerca divaricata</td>\n",
       "    </tr>\n",
       "    <tr>\n",
       "      <th>1268</th>\n",
       "      <td>Rheumaptera prunivorata</td>\n",
       "    </tr>\n",
       "    <tr>\n",
       "      <th>1269</th>\n",
       "      <td>Dolerus</td>\n",
       "    </tr>\n",
       "    <tr>\n",
       "      <th>1270</th>\n",
       "      <td>Formica fusca</td>\n",
       "    </tr>\n",
       "    <tr>\n",
       "      <th>1271</th>\n",
       "      <td>Crematogaster</td>\n",
       "    </tr>\n",
       "    <tr>\n",
       "      <th>1272</th>\n",
       "      <td>Stratiomys normula</td>\n",
       "    </tr>\n",
       "    <tr>\n",
       "      <th>1273</th>\n",
       "      <td>Brachyopa vacua</td>\n",
       "    </tr>\n",
       "    <tr>\n",
       "      <th>1274</th>\n",
       "      <td>Cnephia pecuarum</td>\n",
       "    </tr>\n",
       "    <tr>\n",
       "      <th>1275</th>\n",
       "      <td>Rhamphomyia sordida</td>\n",
       "    </tr>\n",
       "    <tr>\n",
       "      <th>1276</th>\n",
       "      <td>Myolepta strigilata</td>\n",
       "    </tr>\n",
       "    <tr>\n",
       "      <th>1277</th>\n",
       "      <td>Blera umbratilis</td>\n",
       "    </tr>\n",
       "    <tr>\n",
       "      <th>1278</th>\n",
       "      <td>Andrena</td>\n",
       "    </tr>\n",
       "    <tr>\n",
       "      <th>1279</th>\n",
       "      <td>Turdus merula</td>\n",
       "    </tr>\n",
       "    <tr>\n",
       "      <th>1280</th>\n",
       "      <td>Turdus philomelos</td>\n",
       "    </tr>\n",
       "    <tr>\n",
       "      <th>1281</th>\n",
       "      <td>Sylvia borin</td>\n",
       "    </tr>\n",
       "    <tr>\n",
       "      <th>1282</th>\n",
       "      <td>Sylvia atricapilla</td>\n",
       "    </tr>\n",
       "  </tbody>\n",
       "</table>\n",
       "<p>1283 rows × 1 columns</p>\n",
       "</div>"
      ],
      "text/plain": [
       "                   sourceTaxonName\n",
       "0                     Acer negundo\n",
       "1     Tilia americana heterophylla\n",
       "2                Halictus confusus\n",
       "3             Augochlorella aurata\n",
       "4             Vanessa virginiensis\n",
       "5               Magnolia acuminata\n",
       "6                 Magnolia fraseri\n",
       "7                   Quercus laevis\n",
       "8                  Quercus montana\n",
       "9              Colletes inaequalis\n",
       "10             Bombus griseocollis\n",
       "11                Bombus impatiens\n",
       "12                Andrena hippotes\n",
       "13                Andrena crataegi\n",
       "14           Andrena erythrogaster\n",
       "15               Andrena cressonii\n",
       "16                Andrena forbesii\n",
       "17                 Andrena tridens\n",
       "18              Ceratina calcarata\n",
       "19                Andrena ceanothi\n",
       "20                  Andrena rugosa\n",
       "21                    Andrena nuda\n",
       "22            Andrena illinoiensis\n",
       "23                   Dermea cerasi\n",
       "24               Lucilia illustris\n",
       "25                 Syritta pipiens\n",
       "26               Neomyia cornicina\n",
       "27             Scathophaga furcata\n",
       "28                   Delia platura\n",
       "29                 Fannia manicata\n",
       "...                            ...\n",
       "1253            Dicerca divaricata\n",
       "1254            Dicerca divaricata\n",
       "1255            Dicerca divaricata\n",
       "1256            Dicerca divaricata\n",
       "1257            Dicerca divaricata\n",
       "1258            Dicerca divaricata\n",
       "1259            Dicerca divaricata\n",
       "1260            Dicerca divaricata\n",
       "1261            Dicerca divaricata\n",
       "1262            Dicerca divaricata\n",
       "1263            Dicerca divaricata\n",
       "1264            Dicerca divaricata\n",
       "1265            Dicerca divaricata\n",
       "1266            Dicerca divaricata\n",
       "1267            Dicerca divaricata\n",
       "1268       Rheumaptera prunivorata\n",
       "1269                       Dolerus\n",
       "1270                 Formica fusca\n",
       "1271                 Crematogaster\n",
       "1272            Stratiomys normula\n",
       "1273               Brachyopa vacua\n",
       "1274              Cnephia pecuarum\n",
       "1275           Rhamphomyia sordida\n",
       "1276           Myolepta strigilata\n",
       "1277              Blera umbratilis\n",
       "1278                       Andrena\n",
       "1279                 Turdus merula\n",
       "1280             Turdus philomelos\n",
       "1281                  Sylvia borin\n",
       "1282            Sylvia atricapilla\n",
       "\n",
       "[1283 rows x 1 columns]"
      ]
     },
     "execution_count": 18,
     "metadata": {},
     "output_type": "execute_result"
    }
   ],
   "source": [
    "select"
   ]
  },
  {
   "cell_type": "code",
   "execution_count": 19,
   "metadata": {},
   "outputs": [],
   "source": [
    "conn.close()"
   ]
  },
  {
   "cell_type": "code",
   "execution_count": null,
   "metadata": {},
   "outputs": [],
   "source": []
  }
 ],
 "metadata": {
  "kernelspec": {
   "display_name": "Python 3",
   "language": "python",
   "name": "python3"
  },
  "language_info": {
   "codemirror_mode": {
    "name": "ipython",
    "version": 3
   },
   "file_extension": ".py",
   "mimetype": "text/x-python",
   "name": "python",
   "nbconvert_exporter": "python",
   "pygments_lexer": "ipython3",
   "version": "3.7.3"
  }
 },
 "nbformat": 4,
 "nbformat_minor": 2
}
