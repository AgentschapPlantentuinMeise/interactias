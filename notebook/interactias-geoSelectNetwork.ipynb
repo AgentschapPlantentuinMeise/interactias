{
 "cells": [
  {
   "cell_type": "markdown",
   "metadata": {},
   "source": [
    "# Interactias Geo Selected Network\n",
    "\n",
    "One way of examining the impact of invasive species is to look at all their interactions and the interations those organisms have with each other. This full interaction network gives you a good idea whether a species might be a \"keystone\" species \n",
    "\n",
    "The networks create from all interacting species globally can be misleading, because not all members of the network live in one place. The next step is to filter the species in the network geographically, just to find the interactions that might occur in an area.\n",
    "\n",
    "I will harvest species interactions data from GLOBI (https://www.globalbioticinteractions.org/) to discover the species that interact with an invasive species.\n",
    "I will then harvest all the interactions for those species to create two tiers of interactions.\n",
    "I will then count all the occurences of these in species in GBIF for an area.\n",
    "I will then create a network diagram to visualize this.\n",
    "\n",
    "This notebook takes considerable insperation and code from Yikang Li's project on GLoBI (https://curiositydata.org/part1_globi_access/)."
   ]
  },
  {
   "cell_type": "code",
   "execution_count": 1,
   "metadata": {},
   "outputs": [
    {
     "name": "stdout",
     "output_type": "stream",
     "text": [
      "3.7.4 (default, Aug  9 2019, 18:34:13) [MSC v.1915 64 bit (AMD64)]\n"
     ]
    }
   ],
   "source": [
    "import sys\n",
    "print(sys.version)\n",
    "\n",
    "#Python 3.7.4 (default, Aug 9 2019, 18:34:13) [MSC v.1915 64 bit (AMD64)]\n",
    "#pygbif 0.3.0"
   ]
  },
  {
   "cell_type": "code",
   "execution_count": 2,
   "metadata": {},
   "outputs": [],
   "source": [
    "import pandas as pd\n",
    "import re\n",
    "import matplotlib.pyplot as plt\n",
    "from pygbif import species\n",
    "from pygbif import occurrences as occ"
   ]
  },
  {
   "cell_type": "markdown",
   "metadata": {},
   "source": [
    "### Setting up some parameters"
   ]
  },
  {
   "cell_type": "code",
   "execution_count": 3,
   "metadata": {},
   "outputs": [],
   "source": [
    "# There is no point accepting all the species that have more than one record.\n",
    "# There are too many casual records of plants and biirds\n",
    "thresholdForOccNum = 100"
   ]
  },
  {
   "cell_type": "code",
   "execution_count": 4,
   "metadata": {},
   "outputs": [],
   "source": [
    "## Define the country of interest\n",
    "country  = 'BE'"
   ]
  },
  {
   "cell_type": "markdown",
   "metadata": {},
   "source": [
    "### Define the key taxon for the notebook for which to find all interactions\n"
   ]
  },
  {
   "cell_type": "code",
   "execution_count": 5,
   "metadata": {},
   "outputs": [],
   "source": [
    "#taxon = \"Oxalis corniculata\"\n",
    "#taxon = \"Oxalis pes-caprae\"\n",
    "#taxon = \"Abramis brama\"\n",
    "#taxon = \"Dikerogammarus villosus\" # killer shrimp\n",
    "#taxon = \"Lantanophaga pusillidactyla\"\n",
    "#taxon = \"Lantana camara\"\n",
    "#taxon = \"Cirsium vulgare\"\n",
    "taxon = \"Procyon lotor\" # raccoon\n",
    "#taxon = \"Carpobrotus edulis\"\n",
    "#taxon = \"not exist\"\n",
    "#taxon = \"Sciurus carolinensis\" # Eastern grey squirrel"
   ]
  },
  {
   "cell_type": "markdown",
   "metadata": {},
   "source": [
    "## Load the GLoBI data\n",
    "\n",
    "The current snapshot of GLoBI was taken on 2019-11-05 from https://depot.globalbioticinteractions.org/snapshot/target/data/tsv/interactions.tsv.gz\n"
   ]
  },
  {
   "cell_type": "code",
   "execution_count": 6,
   "metadata": {},
   "outputs": [
    {
     "data": {
      "text/plain": [
       "3878740"
      ]
     },
     "execution_count": 6,
     "metadata": {},
     "output_type": "execute_result"
    }
   ],
   "source": [
    "# This takes a few minutes to load in.\n",
    "# the low_memory=False property will get rid of a warning, but will not help if there is really no memory left\n",
    "data = pd.read_csv('C://Users//quentin//Documents//interactias//interactias//data//interactions.tsv', delimiter='\\t', encoding='utf-8', low_memory=False)\n",
    "len(data)"
   ]
  },
  {
   "cell_type": "code",
   "execution_count": 7,
   "metadata": {},
   "outputs": [
    {
     "data": {
      "text/html": [
       "<div>\n",
       "<style scoped>\n",
       "    .dataframe tbody tr th:only-of-type {\n",
       "        vertical-align: middle;\n",
       "    }\n",
       "\n",
       "    .dataframe tbody tr th {\n",
       "        vertical-align: top;\n",
       "    }\n",
       "\n",
       "    .dataframe thead th {\n",
       "        text-align: right;\n",
       "    }\n",
       "</style>\n",
       "<table border=\"1\" class=\"dataframe\">\n",
       "  <thead>\n",
       "    <tr style=\"text-align: right;\">\n",
       "      <th></th>\n",
       "      <th>sourceTaxonId</th>\n",
       "      <th>sourceTaxonIds</th>\n",
       "      <th>sourceTaxonName</th>\n",
       "      <th>sourceTaxonRank</th>\n",
       "      <th>sourceTaxonPathNames</th>\n",
       "      <th>sourceTaxonPathIds</th>\n",
       "      <th>sourceTaxonPathRankNames</th>\n",
       "      <th>sourceTaxonSpeciesName</th>\n",
       "      <th>sourceTaxonSpeciesId</th>\n",
       "      <th>sourceTaxonGenusName</th>\n",
       "      <th>...</th>\n",
       "      <th>eventDateUnixEpoch</th>\n",
       "      <th>argumentTypeId</th>\n",
       "      <th>referenceCitation</th>\n",
       "      <th>referenceDoi</th>\n",
       "      <th>referenceUrl</th>\n",
       "      <th>sourceCitation</th>\n",
       "      <th>sourceNamespace</th>\n",
       "      <th>sourceArchiveURI</th>\n",
       "      <th>sourceDOI</th>\n",
       "      <th>sourceLastSeenAtUnixEpoch</th>\n",
       "    </tr>\n",
       "  </thead>\n",
       "  <tbody>\n",
       "    <tr>\n",
       "      <td>0</td>\n",
       "      <td>EOL:12001247</td>\n",
       "      <td>EOL:12001247 | OTT:133330 | IRMNG:11733708 | N...</td>\n",
       "      <td>Leptoconchus massini</td>\n",
       "      <td>species</td>\n",
       "      <td>Animalia | Mollusca | Gastropoda | Neogastropo...</td>\n",
       "      <td>EOL:1 | EOL:2195 | EOL:2366 | EOL:2447 | EOL:4...</td>\n",
       "      <td>kingdom | phylum | class | order | superfamily...</td>\n",
       "      <td>Leptoconchus massini</td>\n",
       "      <td>EOL:12001247</td>\n",
       "      <td>Leptoconchus</td>\n",
       "      <td>...</td>\n",
       "      <td>NaN</td>\n",
       "      <td>https://en.wiktionary.org/wiki/support</td>\n",
       "      <td>Gittenberger, A., Gittenberger, E. (2011). Cry...</td>\n",
       "      <td>10.1007/s13127-011-0039-1</td>\n",
       "      <td>NaN</td>\n",
       "      <td>Jorrit H. Poelen. 2014. Species associations m...</td>\n",
       "      <td>FloraVincent/template-dataset</td>\n",
       "      <td>https://github.com/FloraVincent/template-datas...</td>\n",
       "      <td>NaN</td>\n",
       "      <td>2019-03-30T23:08:44.205Z</td>\n",
       "    </tr>\n",
       "    <tr>\n",
       "      <td>1</td>\n",
       "      <td>EOL:12001247</td>\n",
       "      <td>EOL:12001247 | OTT:133330 | IRMNG:11733708 | N...</td>\n",
       "      <td>Leptoconchus massini</td>\n",
       "      <td>species</td>\n",
       "      <td>Animalia | Mollusca | Gastropoda | Neogastropo...</td>\n",
       "      <td>EOL:1 | EOL:2195 | EOL:2366 | EOL:2447 | EOL:4...</td>\n",
       "      <td>kingdom | phylum | class | order | superfamily...</td>\n",
       "      <td>Leptoconchus massini</td>\n",
       "      <td>EOL:12001247</td>\n",
       "      <td>Leptoconchus</td>\n",
       "      <td>...</td>\n",
       "      <td>NaN</td>\n",
       "      <td>https://en.wiktionary.org/wiki/support</td>\n",
       "      <td>Gittenberger, A., Gittenberger, E. (2011). Cry...</td>\n",
       "      <td>10.1007/s13127-011-0039-1</td>\n",
       "      <td>NaN</td>\n",
       "      <td>Jorrit H. Poelen. 2014. Species associations m...</td>\n",
       "      <td>FloraVincent/template-dataset</td>\n",
       "      <td>https://github.com/FloraVincent/template-datas...</td>\n",
       "      <td>NaN</td>\n",
       "      <td>2019-03-30T23:08:44.205Z</td>\n",
       "    </tr>\n",
       "    <tr>\n",
       "      <td>2</td>\n",
       "      <td>EOL:12001243</td>\n",
       "      <td>EOL:12001243 | WD:Q13393577 | OTT:550603 | WOR...</td>\n",
       "      <td>Leptoconchus inpleuractis</td>\n",
       "      <td>species</td>\n",
       "      <td>Animalia | Mollusca | Gastropoda | Neogastropo...</td>\n",
       "      <td>EOL:1 | EOL:2195 | EOL:2366 | EOL:2447 | EOL:4...</td>\n",
       "      <td>kingdom | phylum | class | order | superfamily...</td>\n",
       "      <td>Leptoconchus inpleuractis</td>\n",
       "      <td>EOL:12001243</td>\n",
       "      <td>Leptoconchus</td>\n",
       "      <td>...</td>\n",
       "      <td>NaN</td>\n",
       "      <td>https://en.wiktionary.org/wiki/support</td>\n",
       "      <td>Gittenberger, A., Gittenberger, E. (2011). Cry...</td>\n",
       "      <td>10.1007/s13127-011-0039-1</td>\n",
       "      <td>NaN</td>\n",
       "      <td>Jorrit H. Poelen. 2014. Species associations m...</td>\n",
       "      <td>FloraVincent/template-dataset</td>\n",
       "      <td>https://github.com/FloraVincent/template-datas...</td>\n",
       "      <td>NaN</td>\n",
       "      <td>2019-03-30T23:08:44.205Z</td>\n",
       "    </tr>\n",
       "    <tr>\n",
       "      <td>3</td>\n",
       "      <td>EOL:12001243</td>\n",
       "      <td>EOL:12001243 | WD:Q13393577 | OTT:550603 | WOR...</td>\n",
       "      <td>Leptoconchus inpleuractis</td>\n",
       "      <td>species</td>\n",
       "      <td>Animalia | Mollusca | Gastropoda | Neogastropo...</td>\n",
       "      <td>EOL:1 | EOL:2195 | EOL:2366 | EOL:2447 | EOL:4...</td>\n",
       "      <td>kingdom | phylum | class | order | superfamily...</td>\n",
       "      <td>Leptoconchus inpleuractis</td>\n",
       "      <td>EOL:12001243</td>\n",
       "      <td>Leptoconchus</td>\n",
       "      <td>...</td>\n",
       "      <td>NaN</td>\n",
       "      <td>https://en.wiktionary.org/wiki/support</td>\n",
       "      <td>Gittenberger, A., Gittenberger, E. (2011). Cry...</td>\n",
       "      <td>10.1007/s13127-011-0039-1</td>\n",
       "      <td>NaN</td>\n",
       "      <td>Jorrit H. Poelen. 2014. Species associations m...</td>\n",
       "      <td>FloraVincent/template-dataset</td>\n",
       "      <td>https://github.com/FloraVincent/template-datas...</td>\n",
       "      <td>NaN</td>\n",
       "      <td>2019-03-30T23:08:44.205Z</td>\n",
       "    </tr>\n",
       "    <tr>\n",
       "      <td>4</td>\n",
       "      <td>EOL:12001243</td>\n",
       "      <td>EOL:12001243 | WD:Q13393577 | OTT:550603 | WOR...</td>\n",
       "      <td>Leptoconchus inpleuractis</td>\n",
       "      <td>species</td>\n",
       "      <td>Animalia | Mollusca | Gastropoda | Neogastropo...</td>\n",
       "      <td>EOL:1 | EOL:2195 | EOL:2366 | EOL:2447 | EOL:4...</td>\n",
       "      <td>kingdom | phylum | class | order | superfamily...</td>\n",
       "      <td>Leptoconchus inpleuractis</td>\n",
       "      <td>EOL:12001243</td>\n",
       "      <td>Leptoconchus</td>\n",
       "      <td>...</td>\n",
       "      <td>NaN</td>\n",
       "      <td>https://en.wiktionary.org/wiki/support</td>\n",
       "      <td>Gittenberger, A., Gittenberger, E. (2011). Cry...</td>\n",
       "      <td>10.1007/s13127-011-0039-1</td>\n",
       "      <td>NaN</td>\n",
       "      <td>Jorrit H. Poelen. 2014. Species associations m...</td>\n",
       "      <td>FloraVincent/template-dataset</td>\n",
       "      <td>https://github.com/FloraVincent/template-datas...</td>\n",
       "      <td>NaN</td>\n",
       "      <td>2019-03-30T23:08:44.205Z</td>\n",
       "    </tr>\n",
       "  </tbody>\n",
       "</table>\n",
       "<p>5 rows × 80 columns</p>\n",
       "</div>"
      ],
      "text/plain": [
       "  sourceTaxonId                                     sourceTaxonIds  \\\n",
       "0  EOL:12001247  EOL:12001247 | OTT:133330 | IRMNG:11733708 | N...   \n",
       "1  EOL:12001247  EOL:12001247 | OTT:133330 | IRMNG:11733708 | N...   \n",
       "2  EOL:12001243  EOL:12001243 | WD:Q13393577 | OTT:550603 | WOR...   \n",
       "3  EOL:12001243  EOL:12001243 | WD:Q13393577 | OTT:550603 | WOR...   \n",
       "4  EOL:12001243  EOL:12001243 | WD:Q13393577 | OTT:550603 | WOR...   \n",
       "\n",
       "             sourceTaxonName sourceTaxonRank  \\\n",
       "0       Leptoconchus massini         species   \n",
       "1       Leptoconchus massini         species   \n",
       "2  Leptoconchus inpleuractis         species   \n",
       "3  Leptoconchus inpleuractis         species   \n",
       "4  Leptoconchus inpleuractis         species   \n",
       "\n",
       "                                sourceTaxonPathNames  \\\n",
       "0  Animalia | Mollusca | Gastropoda | Neogastropo...   \n",
       "1  Animalia | Mollusca | Gastropoda | Neogastropo...   \n",
       "2  Animalia | Mollusca | Gastropoda | Neogastropo...   \n",
       "3  Animalia | Mollusca | Gastropoda | Neogastropo...   \n",
       "4  Animalia | Mollusca | Gastropoda | Neogastropo...   \n",
       "\n",
       "                                  sourceTaxonPathIds  \\\n",
       "0  EOL:1 | EOL:2195 | EOL:2366 | EOL:2447 | EOL:4...   \n",
       "1  EOL:1 | EOL:2195 | EOL:2366 | EOL:2447 | EOL:4...   \n",
       "2  EOL:1 | EOL:2195 | EOL:2366 | EOL:2447 | EOL:4...   \n",
       "3  EOL:1 | EOL:2195 | EOL:2366 | EOL:2447 | EOL:4...   \n",
       "4  EOL:1 | EOL:2195 | EOL:2366 | EOL:2447 | EOL:4...   \n",
       "\n",
       "                            sourceTaxonPathRankNames  \\\n",
       "0  kingdom | phylum | class | order | superfamily...   \n",
       "1  kingdom | phylum | class | order | superfamily...   \n",
       "2  kingdom | phylum | class | order | superfamily...   \n",
       "3  kingdom | phylum | class | order | superfamily...   \n",
       "4  kingdom | phylum | class | order | superfamily...   \n",
       "\n",
       "      sourceTaxonSpeciesName sourceTaxonSpeciesId sourceTaxonGenusName  ...  \\\n",
       "0       Leptoconchus massini         EOL:12001247         Leptoconchus  ...   \n",
       "1       Leptoconchus massini         EOL:12001247         Leptoconchus  ...   \n",
       "2  Leptoconchus inpleuractis         EOL:12001243         Leptoconchus  ...   \n",
       "3  Leptoconchus inpleuractis         EOL:12001243         Leptoconchus  ...   \n",
       "4  Leptoconchus inpleuractis         EOL:12001243         Leptoconchus  ...   \n",
       "\n",
       "  eventDateUnixEpoch                          argumentTypeId  \\\n",
       "0                NaN  https://en.wiktionary.org/wiki/support   \n",
       "1                NaN  https://en.wiktionary.org/wiki/support   \n",
       "2                NaN  https://en.wiktionary.org/wiki/support   \n",
       "3                NaN  https://en.wiktionary.org/wiki/support   \n",
       "4                NaN  https://en.wiktionary.org/wiki/support   \n",
       "\n",
       "                                   referenceCitation  \\\n",
       "0  Gittenberger, A., Gittenberger, E. (2011). Cry...   \n",
       "1  Gittenberger, A., Gittenberger, E. (2011). Cry...   \n",
       "2  Gittenberger, A., Gittenberger, E. (2011). Cry...   \n",
       "3  Gittenberger, A., Gittenberger, E. (2011). Cry...   \n",
       "4  Gittenberger, A., Gittenberger, E. (2011). Cry...   \n",
       "\n",
       "                referenceDoi referenceUrl  \\\n",
       "0  10.1007/s13127-011-0039-1          NaN   \n",
       "1  10.1007/s13127-011-0039-1          NaN   \n",
       "2  10.1007/s13127-011-0039-1          NaN   \n",
       "3  10.1007/s13127-011-0039-1          NaN   \n",
       "4  10.1007/s13127-011-0039-1          NaN   \n",
       "\n",
       "                                      sourceCitation  \\\n",
       "0  Jorrit H. Poelen. 2014. Species associations m...   \n",
       "1  Jorrit H. Poelen. 2014. Species associations m...   \n",
       "2  Jorrit H. Poelen. 2014. Species associations m...   \n",
       "3  Jorrit H. Poelen. 2014. Species associations m...   \n",
       "4  Jorrit H. Poelen. 2014. Species associations m...   \n",
       "\n",
       "                 sourceNamespace  \\\n",
       "0  FloraVincent/template-dataset   \n",
       "1  FloraVincent/template-dataset   \n",
       "2  FloraVincent/template-dataset   \n",
       "3  FloraVincent/template-dataset   \n",
       "4  FloraVincent/template-dataset   \n",
       "\n",
       "                                    sourceArchiveURI sourceDOI  \\\n",
       "0  https://github.com/FloraVincent/template-datas...       NaN   \n",
       "1  https://github.com/FloraVincent/template-datas...       NaN   \n",
       "2  https://github.com/FloraVincent/template-datas...       NaN   \n",
       "3  https://github.com/FloraVincent/template-datas...       NaN   \n",
       "4  https://github.com/FloraVincent/template-datas...       NaN   \n",
       "\n",
       "  sourceLastSeenAtUnixEpoch  \n",
       "0  2019-03-30T23:08:44.205Z  \n",
       "1  2019-03-30T23:08:44.205Z  \n",
       "2  2019-03-30T23:08:44.205Z  \n",
       "3  2019-03-30T23:08:44.205Z  \n",
       "4  2019-03-30T23:08:44.205Z  \n",
       "\n",
       "[5 rows x 80 columns]"
      ]
     },
     "execution_count": 7,
     "metadata": {},
     "output_type": "execute_result"
    }
   ],
   "source": [
    "# Take a little look at the data to make sure it makes sense\n",
    "data.head()"
   ]
  },
  {
   "cell_type": "markdown",
   "metadata": {},
   "source": [
    "## Drop duplicates\n",
    "\n",
    "This line gets rid of duplicate interations. I currently can't see a reason to keep them, but this perhaps should be checked. \n",
    "Some more common interactions might have more support in the literature and therefore more records. Deduplicating them tends to equal out rare interactions with common ones."
   ]
  },
  {
   "cell_type": "code",
   "execution_count": 8,
   "metadata": {},
   "outputs": [],
   "source": [
    "data.drop_duplicates(['sourceTaxonName', 'interactionTypeName', 'targetTaxonName'], inplace = True)"
   ]
  },
  {
   "cell_type": "code",
   "execution_count": 9,
   "metadata": {},
   "outputs": [
    {
     "data": {
      "text/plain": [
       "1103723"
      ]
     },
     "execution_count": 9,
     "metadata": {},
     "output_type": "execute_result"
    }
   ],
   "source": [
    "## Check how many rows are left\n",
    "len(data)"
   ]
  },
  {
   "cell_type": "markdown",
   "metadata": {},
   "source": [
    "## Remove ranks that are not species\n",
    "Many entries in GLoBI are non-specific interations at a high taxonomic level. For example, roses are visited by bees.\n",
    "I have chossen to remove these interactions from the study, at least preliminarly"
   ]
  },
  {
   "cell_type": "code",
   "execution_count": 10,
   "metadata": {},
   "outputs": [],
   "source": [
    "data.drop(data[data['sourceTaxonRank'] != 'species'].index, inplace = True)\n",
    "data.drop(data[data['targetTaxonRank'] != 'species'].index, inplace = True)"
   ]
  },
  {
   "cell_type": "code",
   "execution_count": 11,
   "metadata": {},
   "outputs": [
    {
     "data": {
      "text/plain": [
       "536018"
      ]
     },
     "execution_count": 11,
     "metadata": {},
     "output_type": "execute_result"
    }
   ],
   "source": [
    "## Check how many rows are left\n",
    "len(data)"
   ]
  },
  {
   "cell_type": "markdown",
   "metadata": {},
   "source": [
    "## Remove \"interactsWith\"\n",
    "There are many vague interactions with the term interactsWith. These aren't really that useful, because it could be any kind of interaction, positive or negative, direct or indirect."
   ]
  },
  {
   "cell_type": "code",
   "execution_count": 12,
   "metadata": {},
   "outputs": [
    {
     "data": {
      "text/plain": [
       "368895"
      ]
     },
     "execution_count": 12,
     "metadata": {},
     "output_type": "execute_result"
    }
   ],
   "source": [
    "data = data[data.interactionTypeName != 'interactsWith']\n",
    "\n",
    "data = data[data.interactionTypeName != 'visitsFlowersOf']\n",
    "\n",
    "data = data[data.interactionTypeName != 'pollinates']\n",
    "\n",
    "len(data)"
   ]
  },
  {
   "cell_type": "markdown",
   "metadata": {},
   "source": [
    "## Check to see if the taxon exits in GBIF"
   ]
  },
  {
   "cell_type": "code",
   "execution_count": 13,
   "metadata": {},
   "outputs": [],
   "source": [
    "try:\n",
    "    #NOTE: The function method name_suggest has a different behavior with regards to the gender of Latin names to name_backbone\n",
    "    # If name_backbone is given a name in one gender it can still return the best match from the GBIF backbone if that\n",
    "    # name is spelled as if it was another gender.\n",
    "    #key = species.name_suggest(q=taxon, limit = 1)\n",
    "    match = species.name_backbone(name=taxon, limit = 1)\n",
    "    #print(key)\n",
    "    \n",
    "    # if there is no match this is returned form .name_backbone {'confidence': 100, 'matchType': 'NONE', 'synonym': False}\n",
    "    if match['matchType'] == 'NONE':\n",
    "        raise ValueError(\"TAXON NOT FOUND ON GBIF!\")\n",
    "    else:\n",
    "        key = match['usageKey']\n",
    "except ValueError as ve:\n",
    "    print(ve)\n",
    "    exit(1)\n",
    "\n",
    "\n"
   ]
  },
  {
   "cell_type": "code",
   "execution_count": 14,
   "metadata": {},
   "outputs": [
    {
     "name": "stdout",
     "output_type": "stream",
     "text": [
      "The taxon to be studied is Procyon lotor (Linnaeus, 1758)\n"
     ]
    }
   ],
   "source": [
    "\n",
    "print('The taxon to be studied is ' + match['scientificName'])"
   ]
  },
  {
   "cell_type": "code",
   "execution_count": 15,
   "metadata": {},
   "outputs": [
    {
     "data": {
      "text/plain": [
       "array(['eats', 'preysOn'], dtype=object)"
      ]
     },
     "execution_count": 15,
     "metadata": {},
     "output_type": "execute_result"
    }
   ],
   "source": [
    "# What are all the types of interactions involving taxon as source taxon?\n",
    "data[data['sourceTaxonName'] == taxon]['interactionTypeName'].unique()"
   ]
  },
  {
   "cell_type": "code",
   "execution_count": 16,
   "metadata": {},
   "outputs": [
    {
     "data": {
      "text/plain": [
       "array(['eats', 'parasiteOf', 'pathogenOf', 'ectoParasiteOf', 'hasHost',\n",
       "       'endoparasiteOf', 'preysOn'], dtype=object)"
      ]
     },
     "execution_count": 16,
     "metadata": {},
     "output_type": "execute_result"
    }
   ],
   "source": [
    "# What are all the types of interactions involving taxon as target taxon?\n",
    "data[data['targetTaxonName'] == taxon]['interactionTypeName'].unique()"
   ]
  },
  {
   "cell_type": "markdown",
   "metadata": {},
   "source": [
    "How many taxon sources do I have?"
   ]
  },
  {
   "cell_type": "code",
   "execution_count": 17,
   "metadata": {},
   "outputs": [
    {
     "data": {
      "text/plain": [
       "88"
      ]
     },
     "execution_count": 17,
     "metadata": {},
     "output_type": "execute_result"
    }
   ],
   "source": [
    "len(data[data['sourceTaxonName'] == taxon])"
   ]
  },
  {
   "cell_type": "markdown",
   "metadata": {},
   "source": [
    "How many taxon targets do I have?"
   ]
  },
  {
   "cell_type": "code",
   "execution_count": 18,
   "metadata": {},
   "outputs": [
    {
     "data": {
      "text/plain": [
       "245"
      ]
     },
     "execution_count": 18,
     "metadata": {},
     "output_type": "execute_result"
    }
   ],
   "source": [
    "len(data[data['targetTaxonName'] == taxon])"
   ]
  },
  {
   "cell_type": "markdown",
   "metadata": {},
   "source": [
    "Gather together all the data where the target is the taxon in question."
   ]
  },
  {
   "cell_type": "code",
   "execution_count": 19,
   "metadata": {},
   "outputs": [
    {
     "data": {
      "text/plain": [
       "Index(['sourceTaxonId', 'sourceTaxonIds', 'sourceTaxonName', 'sourceTaxonRank',\n",
       "       'sourceTaxonPathNames', 'sourceTaxonPathIds',\n",
       "       'sourceTaxonPathRankNames', 'sourceTaxonSpeciesName',\n",
       "       'sourceTaxonSpeciesId', 'sourceTaxonGenusName', 'sourceTaxonGenusId',\n",
       "       'sourceTaxonFamilyName', 'sourceTaxonFamilyId', 'sourceTaxonOrderName',\n",
       "       'sourceTaxonOrderId', 'sourceTaxonClassName', 'sourceTaxonClassId',\n",
       "       'sourceTaxonPhylumName', 'sourceTaxonPhylumId',\n",
       "       'sourceTaxonKingdomName', 'sourceTaxonKingdomId', 'sourceId',\n",
       "       'sourceOccurrenceId', 'sourceCatalogNumber', 'sourceBasisOfRecordId',\n",
       "       'sourceBasisOfRecordName', 'sourceLifeStageId', 'sourceLifeStageName',\n",
       "       'sourceBodyPartId', 'sourceBodyPartName', 'sourcePhysiologicalStateId',\n",
       "       'sourcePhysiologicalStateName', 'interactionTypeName',\n",
       "       'interactionTypeId', 'targetTaxonId', 'targetTaxonIds',\n",
       "       'targetTaxonName', 'targetTaxonRank', 'targetTaxonPathNames',\n",
       "       'targetTaxonPathIds', 'targetTaxonPathRankNames',\n",
       "       'targetTaxonSpeciesName', 'targetTaxonSpeciesId',\n",
       "       'targetTaxonGenusName', 'targetTaxonGenusId', 'targetTaxonFamilyName',\n",
       "       'targetTaxonFamilyId', 'targetTaxonOrderName', 'targetTaxonOrderId',\n",
       "       'targetTaxonClassName', 'targetTaxonClassId', 'targetTaxonPhylumName',\n",
       "       'targetTaxonPhylumId', 'targetTaxonKingdomName', 'targetTaxonKingdomId',\n",
       "       'targetId', 'targetOccurrenceId', 'targetCatalogNumber',\n",
       "       'targetBasisOfRecordId', 'targetBasisOfRecordName', 'targetLifeStageId',\n",
       "       'targetLifeStageName', 'targetBodyPartId', 'targetBodyPartName',\n",
       "       'targetPhysiologicalStateId', 'targetPhysiologicalStateName',\n",
       "       'decimalLatitude', 'decimalLongitude', 'localityId', 'localityName',\n",
       "       'eventDateUnixEpoch', 'argumentTypeId', 'referenceCitation',\n",
       "       'referenceDoi', 'referenceUrl', 'sourceCitation', 'sourceNamespace',\n",
       "       'sourceArchiveURI', 'sourceDOI', 'sourceLastSeenAtUnixEpoch'],\n",
       "      dtype='object')"
      ]
     },
     "execution_count": 19,
     "metadata": {},
     "output_type": "execute_result"
    }
   ],
   "source": [
    "# What are the columns of this dataset?\n",
    "data.columns"
   ]
  },
  {
   "cell_type": "markdown",
   "metadata": {},
   "source": [
    "## Get the primary interation data for the species in question"
   ]
  },
  {
   "cell_type": "code",
   "execution_count": 20,
   "metadata": {},
   "outputs": [],
   "source": [
    "    interactDataTaxon = data[data['targetTaxonName'] == taxon]\n",
    "    interactDataTaxon = interactDataTaxon.append(data[data['sourceTaxonName'] == taxon])"
   ]
  },
  {
   "cell_type": "code",
   "execution_count": 21,
   "metadata": {},
   "outputs": [
    {
     "data": {
      "text/plain": [
       "sourceTaxonId                333\n",
       "sourceTaxonIds               333\n",
       "sourceTaxonName              333\n",
       "sourceTaxonRank              333\n",
       "sourceTaxonPathNames         333\n",
       "                            ... \n",
       "sourceCitation               333\n",
       "sourceNamespace              333\n",
       "sourceArchiveURI             333\n",
       "sourceDOI                     55\n",
       "sourceLastSeenAtUnixEpoch    333\n",
       "Length: 80, dtype: int64"
      ]
     },
     "execution_count": 21,
     "metadata": {},
     "output_type": "execute_result"
    }
   ],
   "source": [
    "interactDataTaxon.count()"
   ]
  },
  {
   "cell_type": "markdown",
   "metadata": {},
   "source": [
    "## Get a list of all the primary interacting species"
   ]
  },
  {
   "cell_type": "code",
   "execution_count": 22,
   "metadata": {},
   "outputs": [],
   "source": [
    "interactingTaxa = pd.DataFrame(interactDataTaxon['sourceTaxonName'].append(interactDataTaxon['targetTaxonName']).unique())"
   ]
  },
  {
   "cell_type": "code",
   "execution_count": 23,
   "metadata": {},
   "outputs": [
    {
     "data": {
      "text/html": [
       "<div>\n",
       "<style scoped>\n",
       "    .dataframe tbody tr th:only-of-type {\n",
       "        vertical-align: middle;\n",
       "    }\n",
       "\n",
       "    .dataframe tbody tr th {\n",
       "        vertical-align: top;\n",
       "    }\n",
       "\n",
       "    .dataframe thead th {\n",
       "        text-align: right;\n",
       "    }\n",
       "</style>\n",
       "<table border=\"1\" class=\"dataframe\">\n",
       "  <thead>\n",
       "    <tr style=\"text-align: right;\">\n",
       "      <th></th>\n",
       "      <th>0</th>\n",
       "    </tr>\n",
       "  </thead>\n",
       "  <tbody>\n",
       "    <tr>\n",
       "      <td>0</td>\n",
       "      <td>Bubo virginianus</td>\n",
       "    </tr>\n",
       "    <tr>\n",
       "      <td>1</td>\n",
       "      <td>Cathartes aura</td>\n",
       "    </tr>\n",
       "    <tr>\n",
       "      <td>2</td>\n",
       "      <td>Coragyps atratus</td>\n",
       "    </tr>\n",
       "    <tr>\n",
       "      <td>3</td>\n",
       "      <td>Aquila chrysaetos</td>\n",
       "    </tr>\n",
       "    <tr>\n",
       "      <td>4</td>\n",
       "      <td>Haliaeetus leucocephalus</td>\n",
       "    </tr>\n",
       "    <tr>\n",
       "      <td>...</td>\n",
       "      <td>...</td>\n",
       "    </tr>\n",
       "    <tr>\n",
       "      <td>289</td>\n",
       "      <td>Cloacitrema michiganense</td>\n",
       "    </tr>\n",
       "    <tr>\n",
       "      <td>290</td>\n",
       "      <td>Himasthla rhigedana</td>\n",
       "    </tr>\n",
       "    <tr>\n",
       "      <td>291</td>\n",
       "      <td>Parorchis acanthus</td>\n",
       "    </tr>\n",
       "    <tr>\n",
       "      <td>292</td>\n",
       "      <td>Pygidiopsoides spindalis</td>\n",
       "    </tr>\n",
       "    <tr>\n",
       "      <td>293</td>\n",
       "      <td>Phocitremoides ovale</td>\n",
       "    </tr>\n",
       "  </tbody>\n",
       "</table>\n",
       "<p>294 rows × 1 columns</p>\n",
       "</div>"
      ],
      "text/plain": [
       "                            0\n",
       "0            Bubo virginianus\n",
       "1              Cathartes aura\n",
       "2            Coragyps atratus\n",
       "3           Aquila chrysaetos\n",
       "4    Haliaeetus leucocephalus\n",
       "..                        ...\n",
       "289  Cloacitrema michiganense\n",
       "290       Himasthla rhigedana\n",
       "291        Parorchis acanthus\n",
       "292  Pygidiopsoides spindalis\n",
       "293      Phocitremoides ovale\n",
       "\n",
       "[294 rows x 1 columns]"
      ]
     },
     "execution_count": 23,
     "metadata": {},
     "output_type": "execute_result"
    }
   ],
   "source": [
    "interactingTaxa"
   ]
  },
  {
   "cell_type": "markdown",
   "metadata": {},
   "source": [
    "## Get all the secondary interactions"
   ]
  },
  {
   "cell_type": "code",
   "execution_count": 24,
   "metadata": {},
   "outputs": [],
   "source": [
    "for name in interactingTaxa[0]:\n",
    "    interactDataTaxon = interactDataTaxon.append(data[data['targetTaxonName'] == name])\n",
    "    interactDataTaxon = interactDataTaxon.append(data[data['sourceTaxonName'] == name])"
   ]
  },
  {
   "cell_type": "code",
   "execution_count": 25,
   "metadata": {},
   "outputs": [
    {
     "data": {
      "text/html": [
       "<div>\n",
       "<style scoped>\n",
       "    .dataframe tbody tr th:only-of-type {\n",
       "        vertical-align: middle;\n",
       "    }\n",
       "\n",
       "    .dataframe tbody tr th {\n",
       "        vertical-align: top;\n",
       "    }\n",
       "\n",
       "    .dataframe thead th {\n",
       "        text-align: right;\n",
       "    }\n",
       "</style>\n",
       "<table border=\"1\" class=\"dataframe\">\n",
       "  <thead>\n",
       "    <tr style=\"text-align: right;\">\n",
       "      <th></th>\n",
       "      <th>sourceTaxonId</th>\n",
       "      <th>sourceTaxonIds</th>\n",
       "      <th>sourceTaxonName</th>\n",
       "      <th>sourceTaxonRank</th>\n",
       "      <th>sourceTaxonPathNames</th>\n",
       "      <th>sourceTaxonPathIds</th>\n",
       "      <th>sourceTaxonPathRankNames</th>\n",
       "      <th>sourceTaxonSpeciesName</th>\n",
       "      <th>sourceTaxonSpeciesId</th>\n",
       "      <th>sourceTaxonGenusName</th>\n",
       "      <th>...</th>\n",
       "      <th>eventDateUnixEpoch</th>\n",
       "      <th>argumentTypeId</th>\n",
       "      <th>referenceCitation</th>\n",
       "      <th>referenceDoi</th>\n",
       "      <th>referenceUrl</th>\n",
       "      <th>sourceCitation</th>\n",
       "      <th>sourceNamespace</th>\n",
       "      <th>sourceArchiveURI</th>\n",
       "      <th>sourceDOI</th>\n",
       "      <th>sourceLastSeenAtUnixEpoch</th>\n",
       "    </tr>\n",
       "  </thead>\n",
       "  <tbody>\n",
       "    <tr>\n",
       "      <td>198115</td>\n",
       "      <td>EOL_V2:914958</td>\n",
       "      <td>EOL_V2:914958 | OTT:509853 | ITIS:177884 | IRM...</td>\n",
       "      <td>Bubo virginianus</td>\n",
       "      <td>species</td>\n",
       "      <td>Animalia | Chordata | Aves | Strigiformes | St...</td>\n",
       "      <td>EOL:1 | EOL:694 | EOL:695 | EOL:696 | EOL:8660...</td>\n",
       "      <td>kingdom | phylum | class | order | family | ge...</td>\n",
       "      <td>Bubo virginianus</td>\n",
       "      <td>EOL_V2:914958</td>\n",
       "      <td>Bubo</td>\n",
       "      <td>...</td>\n",
       "      <td>2.209248e+11</td>\n",
       "      <td>https://en.wiktionary.org/wiki/support</td>\n",
       "      <td>Bosakowski, T., R. Speiser, and D. G. Smith. 1...</td>\n",
       "      <td>NaN</td>\n",
       "      <td>NaN</td>\n",
       "      <td>Allen Hurlbert. 2017. Avian Diet Database.</td>\n",
       "      <td>Dryu0003/dietdatabase</td>\n",
       "      <td>https://github.com/Dryu0003/dietdatabase/archi...</td>\n",
       "      <td>NaN</td>\n",
       "      <td>2019-11-03T00:06:25.837Z</td>\n",
       "    </tr>\n",
       "    <tr>\n",
       "      <td>209176</td>\n",
       "      <td>EOL_V2:1049010</td>\n",
       "      <td>EOL_V2:1049010 | OTT:9106 | NCBI:43455 | EOL_V...</td>\n",
       "      <td>Cathartes aura</td>\n",
       "      <td>species</td>\n",
       "      <td>Animalia | Chordata | Aves | Accipitriformes |...</td>\n",
       "      <td>EOL:1 | EOL:694 | EOL:695 | EOL:2942901 | EOL:...</td>\n",
       "      <td>kingdom | phylum | class | order | family | ge...</td>\n",
       "      <td>Cathartes aura</td>\n",
       "      <td>EOL_V2:1049010</td>\n",
       "      <td>Cathartes</td>\n",
       "      <td>...</td>\n",
       "      <td>1.681344e+11</td>\n",
       "      <td>https://en.wiktionary.org/wiki/support</td>\n",
       "      <td>Thiel, R. P. 1976. Activity patterns and food ...</td>\n",
       "      <td>NaN</td>\n",
       "      <td>NaN</td>\n",
       "      <td>Allen Hurlbert. 2017. Avian Diet Database.</td>\n",
       "      <td>Dryu0003/dietdatabase</td>\n",
       "      <td>https://github.com/Dryu0003/dietdatabase/archi...</td>\n",
       "      <td>NaN</td>\n",
       "      <td>2019-11-03T00:06:25.837Z</td>\n",
       "    </tr>\n",
       "    <tr>\n",
       "      <td>209291</td>\n",
       "      <td>ITIS:175272</td>\n",
       "      <td>ITIS:175272 | OTT:316995 | INAT_TAXON:4765 | I...</td>\n",
       "      <td>Coragyps atratus</td>\n",
       "      <td>species</td>\n",
       "      <td>Animalia | Bilateria | Deuterostomia | Chordat...</td>\n",
       "      <td>ITIS:202423 | ITIS:914154 | ITIS:914156 | ITIS...</td>\n",
       "      <td>kingdom | subkingdom | infrakingdom | phylum |...</td>\n",
       "      <td>Coragyps atratus</td>\n",
       "      <td>ITIS:175272</td>\n",
       "      <td>Coragyps</td>\n",
       "      <td>...</td>\n",
       "      <td>4.232736e+11</td>\n",
       "      <td>https://en.wiktionary.org/wiki/support</td>\n",
       "      <td>Coleman, J. S. and J. D. Fraser. 1987. Food ha...</td>\n",
       "      <td>NaN</td>\n",
       "      <td>NaN</td>\n",
       "      <td>Allen Hurlbert. 2017. Avian Diet Database.</td>\n",
       "      <td>Dryu0003/dietdatabase</td>\n",
       "      <td>https://github.com/Dryu0003/dietdatabase/archi...</td>\n",
       "      <td>NaN</td>\n",
       "      <td>2019-11-03T00:06:25.837Z</td>\n",
       "    </tr>\n",
       "    <tr>\n",
       "      <td>214225</td>\n",
       "      <td>EOL_V2:1049119</td>\n",
       "      <td>EOL_V2:1049119 | OTT:263127 | NCBI:8962 | OTT:...</td>\n",
       "      <td>Aquila chrysaetos</td>\n",
       "      <td>species</td>\n",
       "      <td>Animalia | Chordata | Aves | Accipitriformes |...</td>\n",
       "      <td>EOL:1 | EOL:694 | EOL:695 | EOL:2942901 | EOL:...</td>\n",
       "      <td>kingdom | phylum | class | order | family | ge...</td>\n",
       "      <td>Aquila chrysaetos</td>\n",
       "      <td>EOL_V2:1049119</td>\n",
       "      <td>Aquila</td>\n",
       "      <td>...</td>\n",
       "      <td>-6.315840e+10</td>\n",
       "      <td>https://en.wiktionary.org/wiki/support</td>\n",
       "      <td>Mollhagen, T. R., R. W. Wiley, and R. L. Packa...</td>\n",
       "      <td>10.2307/3799431</td>\n",
       "      <td>NaN</td>\n",
       "      <td>Allen Hurlbert. 2017. Avian Diet Database.</td>\n",
       "      <td>Dryu0003/dietdatabase</td>\n",
       "      <td>https://github.com/Dryu0003/dietdatabase/archi...</td>\n",
       "      <td>NaN</td>\n",
       "      <td>2019-11-03T00:06:25.837Z</td>\n",
       "    </tr>\n",
       "    <tr>\n",
       "      <td>216493</td>\n",
       "      <td>EOL_V2:1049121</td>\n",
       "      <td>EOL_V2:1049121 | OTT:1012350 | GBIF:2480446 | ...</td>\n",
       "      <td>Haliaeetus leucocephalus</td>\n",
       "      <td>species</td>\n",
       "      <td>Animalia | Chordata | Aves | Accipitriformes |...</td>\n",
       "      <td>EOL:1 | EOL:694 | EOL:695 | EOL:2942901 | EOL:...</td>\n",
       "      <td>kingdom | phylum | class | order | family | ge...</td>\n",
       "      <td>Haliaeetus leucocephalus</td>\n",
       "      <td>EOL_V2:1049121</td>\n",
       "      <td>Haliaeetus</td>\n",
       "      <td>...</td>\n",
       "      <td>1.577664e+11</td>\n",
       "      <td>https://en.wiktionary.org/wiki/support</td>\n",
       "      <td>McEwan, L. C. and D. H. Hirth. 1980. Food habi...</td>\n",
       "      <td>10.2307/1367485</td>\n",
       "      <td>NaN</td>\n",
       "      <td>Allen Hurlbert. 2017. Avian Diet Database.</td>\n",
       "      <td>Dryu0003/dietdatabase</td>\n",
       "      <td>https://github.com/Dryu0003/dietdatabase/archi...</td>\n",
       "      <td>NaN</td>\n",
       "      <td>2019-11-03T00:06:25.837Z</td>\n",
       "    </tr>\n",
       "  </tbody>\n",
       "</table>\n",
       "<p>5 rows × 80 columns</p>\n",
       "</div>"
      ],
      "text/plain": [
       "         sourceTaxonId                                     sourceTaxonIds  \\\n",
       "198115   EOL_V2:914958  EOL_V2:914958 | OTT:509853 | ITIS:177884 | IRM...   \n",
       "209176  EOL_V2:1049010  EOL_V2:1049010 | OTT:9106 | NCBI:43455 | EOL_V...   \n",
       "209291     ITIS:175272  ITIS:175272 | OTT:316995 | INAT_TAXON:4765 | I...   \n",
       "214225  EOL_V2:1049119  EOL_V2:1049119 | OTT:263127 | NCBI:8962 | OTT:...   \n",
       "216493  EOL_V2:1049121  EOL_V2:1049121 | OTT:1012350 | GBIF:2480446 | ...   \n",
       "\n",
       "                 sourceTaxonName sourceTaxonRank  \\\n",
       "198115          Bubo virginianus         species   \n",
       "209176            Cathartes aura         species   \n",
       "209291          Coragyps atratus         species   \n",
       "214225         Aquila chrysaetos         species   \n",
       "216493  Haliaeetus leucocephalus         species   \n",
       "\n",
       "                                     sourceTaxonPathNames  \\\n",
       "198115  Animalia | Chordata | Aves | Strigiformes | St...   \n",
       "209176  Animalia | Chordata | Aves | Accipitriformes |...   \n",
       "209291  Animalia | Bilateria | Deuterostomia | Chordat...   \n",
       "214225  Animalia | Chordata | Aves | Accipitriformes |...   \n",
       "216493  Animalia | Chordata | Aves | Accipitriformes |...   \n",
       "\n",
       "                                       sourceTaxonPathIds  \\\n",
       "198115  EOL:1 | EOL:694 | EOL:695 | EOL:696 | EOL:8660...   \n",
       "209176  EOL:1 | EOL:694 | EOL:695 | EOL:2942901 | EOL:...   \n",
       "209291  ITIS:202423 | ITIS:914154 | ITIS:914156 | ITIS...   \n",
       "214225  EOL:1 | EOL:694 | EOL:695 | EOL:2942901 | EOL:...   \n",
       "216493  EOL:1 | EOL:694 | EOL:695 | EOL:2942901 | EOL:...   \n",
       "\n",
       "                                 sourceTaxonPathRankNames  \\\n",
       "198115  kingdom | phylum | class | order | family | ge...   \n",
       "209176  kingdom | phylum | class | order | family | ge...   \n",
       "209291  kingdom | subkingdom | infrakingdom | phylum |...   \n",
       "214225  kingdom | phylum | class | order | family | ge...   \n",
       "216493  kingdom | phylum | class | order | family | ge...   \n",
       "\n",
       "          sourceTaxonSpeciesName sourceTaxonSpeciesId sourceTaxonGenusName  \\\n",
       "198115          Bubo virginianus        EOL_V2:914958                 Bubo   \n",
       "209176            Cathartes aura       EOL_V2:1049010            Cathartes   \n",
       "209291          Coragyps atratus          ITIS:175272             Coragyps   \n",
       "214225         Aquila chrysaetos       EOL_V2:1049119               Aquila   \n",
       "216493  Haliaeetus leucocephalus       EOL_V2:1049121           Haliaeetus   \n",
       "\n",
       "        ... eventDateUnixEpoch                          argumentTypeId  \\\n",
       "198115  ...       2.209248e+11  https://en.wiktionary.org/wiki/support   \n",
       "209176  ...       1.681344e+11  https://en.wiktionary.org/wiki/support   \n",
       "209291  ...       4.232736e+11  https://en.wiktionary.org/wiki/support   \n",
       "214225  ...      -6.315840e+10  https://en.wiktionary.org/wiki/support   \n",
       "216493  ...       1.577664e+11  https://en.wiktionary.org/wiki/support   \n",
       "\n",
       "                                        referenceCitation     referenceDoi  \\\n",
       "198115  Bosakowski, T., R. Speiser, and D. G. Smith. 1...              NaN   \n",
       "209176  Thiel, R. P. 1976. Activity patterns and food ...              NaN   \n",
       "209291  Coleman, J. S. and J. D. Fraser. 1987. Food ha...              NaN   \n",
       "214225  Mollhagen, T. R., R. W. Wiley, and R. L. Packa...  10.2307/3799431   \n",
       "216493  McEwan, L. C. and D. H. Hirth. 1980. Food habi...  10.2307/1367485   \n",
       "\n",
       "       referenceUrl                              sourceCitation  \\\n",
       "198115          NaN  Allen Hurlbert. 2017. Avian Diet Database.   \n",
       "209176          NaN  Allen Hurlbert. 2017. Avian Diet Database.   \n",
       "209291          NaN  Allen Hurlbert. 2017. Avian Diet Database.   \n",
       "214225          NaN  Allen Hurlbert. 2017. Avian Diet Database.   \n",
       "216493          NaN  Allen Hurlbert. 2017. Avian Diet Database.   \n",
       "\n",
       "              sourceNamespace  \\\n",
       "198115  Dryu0003/dietdatabase   \n",
       "209176  Dryu0003/dietdatabase   \n",
       "209291  Dryu0003/dietdatabase   \n",
       "214225  Dryu0003/dietdatabase   \n",
       "216493  Dryu0003/dietdatabase   \n",
       "\n",
       "                                         sourceArchiveURI sourceDOI  \\\n",
       "198115  https://github.com/Dryu0003/dietdatabase/archi...       NaN   \n",
       "209176  https://github.com/Dryu0003/dietdatabase/archi...       NaN   \n",
       "209291  https://github.com/Dryu0003/dietdatabase/archi...       NaN   \n",
       "214225  https://github.com/Dryu0003/dietdatabase/archi...       NaN   \n",
       "216493  https://github.com/Dryu0003/dietdatabase/archi...       NaN   \n",
       "\n",
       "       sourceLastSeenAtUnixEpoch  \n",
       "198115  2019-11-03T00:06:25.837Z  \n",
       "209176  2019-11-03T00:06:25.837Z  \n",
       "209291  2019-11-03T00:06:25.837Z  \n",
       "214225  2019-11-03T00:06:25.837Z  \n",
       "216493  2019-11-03T00:06:25.837Z  \n",
       "\n",
       "[5 rows x 80 columns]"
      ]
     },
     "execution_count": 25,
     "metadata": {},
     "output_type": "execute_result"
    }
   ],
   "source": [
    "interactDataTaxon.head()"
   ]
  },
  {
   "cell_type": "code",
   "execution_count": 26,
   "metadata": {},
   "outputs": [],
   "source": [
    "interactingTaxa = pd.DataFrame(interactDataTaxon['sourceTaxonName'].append(interactDataTaxon['targetTaxonName']).unique())"
   ]
  },
  {
   "cell_type": "code",
   "execution_count": 27,
   "metadata": {},
   "outputs": [
    {
     "data": {
      "text/html": [
       "<div>\n",
       "<style scoped>\n",
       "    .dataframe tbody tr th:only-of-type {\n",
       "        vertical-align: middle;\n",
       "    }\n",
       "\n",
       "    .dataframe tbody tr th {\n",
       "        vertical-align: top;\n",
       "    }\n",
       "\n",
       "    .dataframe thead th {\n",
       "        text-align: right;\n",
       "    }\n",
       "</style>\n",
       "<table border=\"1\" class=\"dataframe\">\n",
       "  <thead>\n",
       "    <tr style=\"text-align: right;\">\n",
       "      <th></th>\n",
       "      <th>0</th>\n",
       "    </tr>\n",
       "  </thead>\n",
       "  <tbody>\n",
       "    <tr>\n",
       "      <td>0</td>\n",
       "      <td>Bubo virginianus</td>\n",
       "    </tr>\n",
       "    <tr>\n",
       "      <td>1</td>\n",
       "      <td>Cathartes aura</td>\n",
       "    </tr>\n",
       "    <tr>\n",
       "      <td>2</td>\n",
       "      <td>Coragyps atratus</td>\n",
       "    </tr>\n",
       "    <tr>\n",
       "      <td>3</td>\n",
       "      <td>Aquila chrysaetos</td>\n",
       "    </tr>\n",
       "    <tr>\n",
       "      <td>4</td>\n",
       "      <td>Haliaeetus leucocephalus</td>\n",
       "    </tr>\n",
       "    <tr>\n",
       "      <td>...</td>\n",
       "      <td>...</td>\n",
       "    </tr>\n",
       "    <tr>\n",
       "      <td>4240</td>\n",
       "      <td>Nucella lamellosa</td>\n",
       "    </tr>\n",
       "    <tr>\n",
       "      <td>4241</td>\n",
       "      <td>Limnodromus scolopaceus</td>\n",
       "    </tr>\n",
       "    <tr>\n",
       "      <td>4242</td>\n",
       "      <td>Fundulus persimilis</td>\n",
       "    </tr>\n",
       "    <tr>\n",
       "      <td>4243</td>\n",
       "      <td>Fundulus grandissimus</td>\n",
       "    </tr>\n",
       "    <tr>\n",
       "      <td>4244</td>\n",
       "      <td>Floridichthys polyommus</td>\n",
       "    </tr>\n",
       "  </tbody>\n",
       "</table>\n",
       "<p>4245 rows × 1 columns</p>\n",
       "</div>"
      ],
      "text/plain": [
       "                             0\n",
       "0             Bubo virginianus\n",
       "1               Cathartes aura\n",
       "2             Coragyps atratus\n",
       "3            Aquila chrysaetos\n",
       "4     Haliaeetus leucocephalus\n",
       "...                        ...\n",
       "4240         Nucella lamellosa\n",
       "4241   Limnodromus scolopaceus\n",
       "4242       Fundulus persimilis\n",
       "4243     Fundulus grandissimus\n",
       "4244   Floridichthys polyommus\n",
       "\n",
       "[4245 rows x 1 columns]"
      ]
     },
     "execution_count": 27,
     "metadata": {},
     "output_type": "execute_result"
    }
   ],
   "source": [
    "interactingTaxa"
   ]
  },
  {
   "cell_type": "code",
   "execution_count": 28,
   "metadata": {},
   "outputs": [],
   "source": [
    "    cleanInteractDataTaxon = interactDataTaxon[['sourceTaxonId', 'sourceTaxonName', 'sourceTaxonRank',\n",
    "       'sourceTaxonFamilyName', 'interactionTypeName',\n",
    "       'targetTaxonName','targetTaxonRank',\n",
    "        ]].dropna(subset=['targetTaxonName','sourceTaxonName'])"
   ]
  },
  {
   "cell_type": "code",
   "execution_count": 29,
   "metadata": {},
   "outputs": [
    {
     "data": {
      "text/html": [
       "<div>\n",
       "<style scoped>\n",
       "    .dataframe tbody tr th:only-of-type {\n",
       "        vertical-align: middle;\n",
       "    }\n",
       "\n",
       "    .dataframe tbody tr th {\n",
       "        vertical-align: top;\n",
       "    }\n",
       "\n",
       "    .dataframe thead th {\n",
       "        text-align: right;\n",
       "    }\n",
       "</style>\n",
       "<table border=\"1\" class=\"dataframe\">\n",
       "  <thead>\n",
       "    <tr style=\"text-align: right;\">\n",
       "      <th></th>\n",
       "      <th>sourceTaxonId</th>\n",
       "      <th>sourceTaxonName</th>\n",
       "      <th>sourceTaxonRank</th>\n",
       "      <th>sourceTaxonFamilyName</th>\n",
       "      <th>interactionTypeName</th>\n",
       "      <th>targetTaxonName</th>\n",
       "      <th>targetTaxonRank</th>\n",
       "    </tr>\n",
       "  </thead>\n",
       "  <tbody>\n",
       "    <tr>\n",
       "      <td>198115</td>\n",
       "      <td>EOL_V2:914958</td>\n",
       "      <td>Bubo virginianus</td>\n",
       "      <td>species</td>\n",
       "      <td>Strigidae</td>\n",
       "      <td>eats</td>\n",
       "      <td>Procyon lotor</td>\n",
       "      <td>species</td>\n",
       "    </tr>\n",
       "    <tr>\n",
       "      <td>209176</td>\n",
       "      <td>EOL_V2:1049010</td>\n",
       "      <td>Cathartes aura</td>\n",
       "      <td>species</td>\n",
       "      <td>Cathartidae</td>\n",
       "      <td>eats</td>\n",
       "      <td>Procyon lotor</td>\n",
       "      <td>species</td>\n",
       "    </tr>\n",
       "    <tr>\n",
       "      <td>209291</td>\n",
       "      <td>ITIS:175272</td>\n",
       "      <td>Coragyps atratus</td>\n",
       "      <td>species</td>\n",
       "      <td>Cathartidae</td>\n",
       "      <td>eats</td>\n",
       "      <td>Procyon lotor</td>\n",
       "      <td>species</td>\n",
       "    </tr>\n",
       "    <tr>\n",
       "      <td>214225</td>\n",
       "      <td>EOL_V2:1049119</td>\n",
       "      <td>Aquila chrysaetos</td>\n",
       "      <td>species</td>\n",
       "      <td>Accipitridae</td>\n",
       "      <td>eats</td>\n",
       "      <td>Procyon lotor</td>\n",
       "      <td>species</td>\n",
       "    </tr>\n",
       "    <tr>\n",
       "      <td>216493</td>\n",
       "      <td>EOL_V2:1049121</td>\n",
       "      <td>Haliaeetus leucocephalus</td>\n",
       "      <td>species</td>\n",
       "      <td>Accipitridae</td>\n",
       "      <td>eats</td>\n",
       "      <td>Procyon lotor</td>\n",
       "      <td>species</td>\n",
       "    </tr>\n",
       "  </tbody>\n",
       "</table>\n",
       "</div>"
      ],
      "text/plain": [
       "         sourceTaxonId           sourceTaxonName sourceTaxonRank  \\\n",
       "198115   EOL_V2:914958          Bubo virginianus         species   \n",
       "209176  EOL_V2:1049010            Cathartes aura         species   \n",
       "209291     ITIS:175272          Coragyps atratus         species   \n",
       "214225  EOL_V2:1049119         Aquila chrysaetos         species   \n",
       "216493  EOL_V2:1049121  Haliaeetus leucocephalus         species   \n",
       "\n",
       "       sourceTaxonFamilyName interactionTypeName targetTaxonName  \\\n",
       "198115             Strigidae                eats   Procyon lotor   \n",
       "209176           Cathartidae                eats   Procyon lotor   \n",
       "209291           Cathartidae                eats   Procyon lotor   \n",
       "214225          Accipitridae                eats   Procyon lotor   \n",
       "216493          Accipitridae                eats   Procyon lotor   \n",
       "\n",
       "       targetTaxonRank  \n",
       "198115         species  \n",
       "209176         species  \n",
       "209291         species  \n",
       "214225         species  \n",
       "216493         species  "
      ]
     },
     "execution_count": 29,
     "metadata": {},
     "output_type": "execute_result"
    }
   ],
   "source": [
    "cleanInteractDataTaxon.head()"
   ]
  },
  {
   "cell_type": "code",
   "execution_count": 30,
   "metadata": {},
   "outputs": [
    {
     "data": {
      "text/plain": [
       "array(['eats', 'parasiteOf', 'pathogenOf', 'ectoParasiteOf', 'hasHost',\n",
       "       'endoparasiteOf', 'preysOn', 'symbiontOf', 'hasVector',\n",
       "       'mutualistOf', 'livesInsideOf', 'visits', 'commensalistOf',\n",
       "       'hasDispersalVector'], dtype=object)"
      ]
     },
     "execution_count": 30,
     "metadata": {},
     "output_type": "execute_result"
    }
   ],
   "source": [
    "# How many different sort of interaction do I have left?\n",
    "# Checking out all the interaction types\n",
    "cleanInteractDataTaxon['interactionTypeName'].unique()"
   ]
  },
  {
   "cell_type": "code",
   "execution_count": 31,
   "metadata": {},
   "outputs": [
    {
     "data": {
      "text/plain": [
       "interactionTypeName\n",
       "parasiteOf            4348\n",
       "eats                  2657\n",
       "hasHost               2165\n",
       "preysOn               1181\n",
       "endoparasiteOf         724\n",
       "pathogenOf             663\n",
       "ectoParasiteOf         189\n",
       "symbiontOf              59\n",
       "mutualistOf              9\n",
       "hasVector                3\n",
       "livesInsideOf            2\n",
       "visits                   1\n",
       "hasDispersalVector       1\n",
       "commensalistOf           1\n",
       "dtype: int64"
      ]
     },
     "execution_count": 31,
     "metadata": {},
     "output_type": "execute_result"
    }
   ],
   "source": [
    "cleanInteractDataTaxon.groupby(cleanInteractDataTaxon['interactionTypeName']).size().sort_values(ascending = False)"
   ]
  },
  {
   "cell_type": "code",
   "execution_count": 32,
   "metadata": {},
   "outputs": [
    {
     "data": {
      "text/plain": [
       "12003"
      ]
     },
     "execution_count": 32,
     "metadata": {},
     "output_type": "execute_result"
    }
   ],
   "source": [
    "len(cleanInteractDataTaxon)"
   ]
  },
  {
   "cell_type": "code",
   "execution_count": 33,
   "metadata": {},
   "outputs": [
    {
     "data": {
      "text/html": [
       "<div>\n",
       "<style scoped>\n",
       "    .dataframe tbody tr th:only-of-type {\n",
       "        vertical-align: middle;\n",
       "    }\n",
       "\n",
       "    .dataframe tbody tr th {\n",
       "        vertical-align: top;\n",
       "    }\n",
       "\n",
       "    .dataframe thead th {\n",
       "        text-align: right;\n",
       "    }\n",
       "</style>\n",
       "<table border=\"1\" class=\"dataframe\">\n",
       "  <thead>\n",
       "    <tr style=\"text-align: right;\">\n",
       "      <th></th>\n",
       "      <th>sourceTaxonId</th>\n",
       "      <th>sourceTaxonName</th>\n",
       "      <th>sourceTaxonRank</th>\n",
       "      <th>sourceTaxonFamilyName</th>\n",
       "      <th>interactionTypeName</th>\n",
       "      <th>targetTaxonName</th>\n",
       "      <th>targetTaxonRank</th>\n",
       "    </tr>\n",
       "  </thead>\n",
       "  <tbody>\n",
       "    <tr>\n",
       "      <td>198115</td>\n",
       "      <td>EOL_V2:914958</td>\n",
       "      <td>Bubo virginianus</td>\n",
       "      <td>species</td>\n",
       "      <td>Strigidae</td>\n",
       "      <td>eats</td>\n",
       "      <td>Procyon lotor</td>\n",
       "      <td>species</td>\n",
       "    </tr>\n",
       "    <tr>\n",
       "      <td>209176</td>\n",
       "      <td>EOL_V2:1049010</td>\n",
       "      <td>Cathartes aura</td>\n",
       "      <td>species</td>\n",
       "      <td>Cathartidae</td>\n",
       "      <td>eats</td>\n",
       "      <td>Procyon lotor</td>\n",
       "      <td>species</td>\n",
       "    </tr>\n",
       "    <tr>\n",
       "      <td>209291</td>\n",
       "      <td>ITIS:175272</td>\n",
       "      <td>Coragyps atratus</td>\n",
       "      <td>species</td>\n",
       "      <td>Cathartidae</td>\n",
       "      <td>eats</td>\n",
       "      <td>Procyon lotor</td>\n",
       "      <td>species</td>\n",
       "    </tr>\n",
       "    <tr>\n",
       "      <td>214225</td>\n",
       "      <td>EOL_V2:1049119</td>\n",
       "      <td>Aquila chrysaetos</td>\n",
       "      <td>species</td>\n",
       "      <td>Accipitridae</td>\n",
       "      <td>eats</td>\n",
       "      <td>Procyon lotor</td>\n",
       "      <td>species</td>\n",
       "    </tr>\n",
       "    <tr>\n",
       "      <td>216493</td>\n",
       "      <td>EOL_V2:1049121</td>\n",
       "      <td>Haliaeetus leucocephalus</td>\n",
       "      <td>species</td>\n",
       "      <td>Accipitridae</td>\n",
       "      <td>eats</td>\n",
       "      <td>Procyon lotor</td>\n",
       "      <td>species</td>\n",
       "    </tr>\n",
       "  </tbody>\n",
       "</table>\n",
       "</div>"
      ],
      "text/plain": [
       "         sourceTaxonId           sourceTaxonName sourceTaxonRank  \\\n",
       "198115   EOL_V2:914958          Bubo virginianus         species   \n",
       "209176  EOL_V2:1049010            Cathartes aura         species   \n",
       "209291     ITIS:175272          Coragyps atratus         species   \n",
       "214225  EOL_V2:1049119         Aquila chrysaetos         species   \n",
       "216493  EOL_V2:1049121  Haliaeetus leucocephalus         species   \n",
       "\n",
       "       sourceTaxonFamilyName interactionTypeName targetTaxonName  \\\n",
       "198115             Strigidae                eats   Procyon lotor   \n",
       "209176           Cathartidae                eats   Procyon lotor   \n",
       "209291           Cathartidae                eats   Procyon lotor   \n",
       "214225          Accipitridae                eats   Procyon lotor   \n",
       "216493          Accipitridae                eats   Procyon lotor   \n",
       "\n",
       "       targetTaxonRank  \n",
       "198115         species  \n",
       "209176         species  \n",
       "209291         species  \n",
       "214225         species  \n",
       "216493         species  "
      ]
     },
     "execution_count": 33,
     "metadata": {},
     "output_type": "execute_result"
    }
   ],
   "source": [
    "cleanInteractDataTaxon.head()"
   ]
  },
  {
   "cell_type": "markdown",
   "metadata": {},
   "source": [
    "## Create a file with all the nodes and their attributes"
   ]
  },
  {
   "cell_type": "code",
   "execution_count": 34,
   "metadata": {},
   "outputs": [],
   "source": [
    "# Get the source nodes\n",
    "nodes = cleanInteractDataTaxon.drop_duplicates(subset=['sourceTaxonName'])"
   ]
  },
  {
   "cell_type": "code",
   "execution_count": 35,
   "metadata": {},
   "outputs": [],
   "source": [
    "# Get the target nodes\n",
    "nodes = nodes.append(cleanInteractDataTaxon.drop_duplicates(subset=['targetTaxonName']))"
   ]
  },
  {
   "cell_type": "code",
   "execution_count": 36,
   "metadata": {},
   "outputs": [
    {
     "data": {
      "text/html": [
       "<div>\n",
       "<style scoped>\n",
       "    .dataframe tbody tr th:only-of-type {\n",
       "        vertical-align: middle;\n",
       "    }\n",
       "\n",
       "    .dataframe tbody tr th {\n",
       "        vertical-align: top;\n",
       "    }\n",
       "\n",
       "    .dataframe thead th {\n",
       "        text-align: right;\n",
       "    }\n",
       "</style>\n",
       "<table border=\"1\" class=\"dataframe\">\n",
       "  <thead>\n",
       "    <tr style=\"text-align: right;\">\n",
       "      <th></th>\n",
       "      <th>sourceTaxonId</th>\n",
       "      <th>sourceTaxonName</th>\n",
       "      <th>sourceTaxonRank</th>\n",
       "      <th>sourceTaxonFamilyName</th>\n",
       "      <th>interactionTypeName</th>\n",
       "      <th>targetTaxonName</th>\n",
       "      <th>targetTaxonRank</th>\n",
       "    </tr>\n",
       "  </thead>\n",
       "  <tbody>\n",
       "    <tr>\n",
       "      <td>198115</td>\n",
       "      <td>EOL_V2:914958</td>\n",
       "      <td>Bubo virginianus</td>\n",
       "      <td>species</td>\n",
       "      <td>Strigidae</td>\n",
       "      <td>eats</td>\n",
       "      <td>Procyon lotor</td>\n",
       "      <td>species</td>\n",
       "    </tr>\n",
       "    <tr>\n",
       "      <td>209176</td>\n",
       "      <td>EOL_V2:1049010</td>\n",
       "      <td>Cathartes aura</td>\n",
       "      <td>species</td>\n",
       "      <td>Cathartidae</td>\n",
       "      <td>eats</td>\n",
       "      <td>Procyon lotor</td>\n",
       "      <td>species</td>\n",
       "    </tr>\n",
       "    <tr>\n",
       "      <td>209291</td>\n",
       "      <td>ITIS:175272</td>\n",
       "      <td>Coragyps atratus</td>\n",
       "      <td>species</td>\n",
       "      <td>Cathartidae</td>\n",
       "      <td>eats</td>\n",
       "      <td>Procyon lotor</td>\n",
       "      <td>species</td>\n",
       "    </tr>\n",
       "    <tr>\n",
       "      <td>214225</td>\n",
       "      <td>EOL_V2:1049119</td>\n",
       "      <td>Aquila chrysaetos</td>\n",
       "      <td>species</td>\n",
       "      <td>Accipitridae</td>\n",
       "      <td>eats</td>\n",
       "      <td>Procyon lotor</td>\n",
       "      <td>species</td>\n",
       "    </tr>\n",
       "    <tr>\n",
       "      <td>216493</td>\n",
       "      <td>EOL_V2:1049121</td>\n",
       "      <td>Haliaeetus leucocephalus</td>\n",
       "      <td>species</td>\n",
       "      <td>Accipitridae</td>\n",
       "      <td>eats</td>\n",
       "      <td>Procyon lotor</td>\n",
       "      <td>species</td>\n",
       "    </tr>\n",
       "  </tbody>\n",
       "</table>\n",
       "</div>"
      ],
      "text/plain": [
       "         sourceTaxonId           sourceTaxonName sourceTaxonRank  \\\n",
       "198115   EOL_V2:914958          Bubo virginianus         species   \n",
       "209176  EOL_V2:1049010            Cathartes aura         species   \n",
       "209291     ITIS:175272          Coragyps atratus         species   \n",
       "214225  EOL_V2:1049119         Aquila chrysaetos         species   \n",
       "216493  EOL_V2:1049121  Haliaeetus leucocephalus         species   \n",
       "\n",
       "       sourceTaxonFamilyName interactionTypeName targetTaxonName  \\\n",
       "198115             Strigidae                eats   Procyon lotor   \n",
       "209176           Cathartidae                eats   Procyon lotor   \n",
       "209291           Cathartidae                eats   Procyon lotor   \n",
       "214225          Accipitridae                eats   Procyon lotor   \n",
       "216493          Accipitridae                eats   Procyon lotor   \n",
       "\n",
       "       targetTaxonRank  \n",
       "198115         species  \n",
       "209176         species  \n",
       "209291         species  \n",
       "214225         species  \n",
       "216493         species  "
      ]
     },
     "execution_count": 36,
     "metadata": {},
     "output_type": "execute_result"
    }
   ],
   "source": [
    "nodes.head()"
   ]
  },
  {
   "cell_type": "raw",
   "metadata": {},
   "source": [
    "# make sure the list of taxa is unique.\n",
    "interactingTaxa = interactingTaxa.unique()\n",
    "\n",
    "interactingTaxa.rename(columns={'O':'interactingTaxon'}, inplace=True)"
   ]
  },
  {
   "cell_type": "code",
   "execution_count": 37,
   "metadata": {},
   "outputs": [
    {
     "data": {
      "text/plain": [
       "0    4244\n",
       "dtype: int64"
      ]
     },
     "execution_count": 37,
     "metadata": {},
     "output_type": "execute_result"
    }
   ],
   "source": [
    "interactingTaxa.count()\n"
   ]
  },
  {
   "cell_type": "markdown",
   "metadata": {},
   "source": [
    "### This function takes a name string and checks on GBIF to see if the name exists there."
   ]
  },
  {
   "cell_type": "code",
   "execution_count": 38,
   "metadata": {},
   "outputs": [],
   "source": [
    "def speciesExistsInGBIF(name, rank):\n",
    "    try:\n",
    "        # Uses the dataset key for the GBIF backbone taxonomy\n",
    "        #key = species.name_suggest(q=name, rank=rank, datasetKey = \"d7dddbf4-2cf0-4f39-9b2a-bb099caae36c\", limit = 1)\n",
    "        match = species.name_backbone(name=name, rank=rank, limit = 1)\n",
    "        #print(key)\n",
    "\n",
    "        # if there is no match this is returned from .name_backbone {'confidence': 100, 'matchType': 'NONE', 'synonym': False}\n",
    "        if match['matchType'] == 'NONE':\n",
    "            return False\n",
    "        else:\n",
    "            return match\n",
    "    except ValueError as ve:\n",
    "        print(ve)\n",
    "        exit(1)"
   ]
  },
  {
   "cell_type": "markdown",
   "metadata": {},
   "source": [
    "### Check that the species in question is actually found on GBIF"
   ]
  },
  {
   "cell_type": "code",
   "execution_count": 39,
   "metadata": {},
   "outputs": [],
   "source": [
    "if(speciesExistsInGBIF(taxon, \"species\") == False):\n",
    "    print(\"##### {0} has not been found on GBIF #####\".format(taxon))"
   ]
  },
  {
   "cell_type": "markdown",
   "metadata": {},
   "source": [
    "### Check to see which taxa in the interaction network are found in GBIF and list those ones that are not"
   ]
  },
  {
   "cell_type": "code",
   "execution_count": 40,
   "metadata": {},
   "outputs": [
    {
     "name": "stdout",
     "output_type": "stream",
     "text": [
      "Taxa from GLoBI, but not found in GBIF\n",
      "Trypanosoma cruzi\n",
      "Capillaria putorii\n",
      "Alaria taxideae\n",
      "Orthopoxvirus\n",
      "Raccoon-associated polyomavirus 2\n",
      "Parvovirus\n",
      "Rabies virus\n",
      "Canine distemper virus\n",
      "Feline panleukopenia virus\n",
      "West virus\n",
      "Newcastle disease virus\n",
      "Influenza virus\n",
      "Salmonella phage Vi II-E1\n",
      "Salmonella phage ST160\n",
      "Salmonella phage SEN5\n",
      "Salmonella phage SEN4\n",
      "Salmonella phage SEN22\n",
      "Salmonella phage SEN1\n",
      "Salmonella phage SE1 (in:P22virus)\n",
      "Salmonella phage MA12\n",
      "Salmonella phage BP63\n",
      "Salmonella phage BP12C\n",
      "Salmonella phage BP12B\n",
      "Salmonella phage BP12A\n",
      "Salmonella phage 64795_sal3\n",
      "Salmonella phage 118970_sal4\n",
      "Salmonella phage 118970_sal3\n",
      "Salmonella phage 118970_sal1\n",
      "Salmonella phage 103203_sal5\n",
      "Salmonella phage\n",
      "Enterobacteria phage\n",
      "Suffolk virus\n",
      "Flavivirus\n",
      "Avian-like circovirus\n",
      "Staphylococcus phage YMC/09/04/R1988\n",
      "Staphylococcus phage vB_SauS_phi2\n",
      "Staphylococcus phage tp310-3\n",
      "Staphylococcus phage tp310-2\n",
      "Staphylococcus phage tp310-1\n",
      "Staphylococcus phage TEM123\n",
      "Staphylococcus phage StauST398-5\n",
      "Staphylococcus phage StauST398-4\n",
      "Staphylococcus phage StauST398-3\n",
      "Staphylococcus phage StauST398-2\n",
      "Staphylococcus phage StauST398-1\n",
      "Staphylococcus phage SP6\n",
      "Staphylococcus phage SP5\n",
      "Staphylococcus phage SMSAP5\n",
      "Staphylococcus phage SLPW\n",
      "Staphylococcus phage Sb-1\n",
      "Staphylococcus phage SAP-2\n",
      "Staphylococcus phage SA97\n",
      "Staphylococcus phage SA13\n",
      "Staphylococcus phage SA12\n",
      "Staphylococcus phage SA1\n",
      "Staphylococcus phage S24-1\n",
      "Staphylococcus phage S13'\n",
      "Staphylococcus phage ROSA\n",
      "Staphylococcus phage PVL\n",
      "Staphylococcus phage PT1028\n",
      "Staphylococcus phage phiSa119\n",
      "Staphylococcus phage phiPVL-CN125\n",
      "Staphylococcus phage phiNM3\n",
      "Staphylococcus phage phiJB\n",
      "Staphylococcus phage phiBU01\n",
      "Staphylococcus phage phi7401PVL\n",
      "Staphylococcus phage phi5967PVL\n",
      "Staphylococcus phage phi2958PVL\n",
      "Staphylococcus phage P954\n",
      "Staphylococcus phage P68\n",
      "Staphylococcus phage LH1\n",
      "Staphylococcus phage JS01\n",
      "Staphylococcus phage GRCS\n",
      "Staphylococcus phage DW2\n",
      "Staphylococcus phage BP39\n",
      "Staphylococcus phage B236\n",
      "Staphylococcus phage B166\n",
      "Staphylococcus phage 66\n",
      "Staphylococcus phage 3MRA\n",
      "Staphylococcus phage 2638A\n",
      "Staphylococcus phage 23MRA\n",
      "Staphylococcus phage\n",
      "Pseudomonas phage YMC11/02/R656\n",
      "Pseudomonas phage YMC/01/01/P52_PAE_BP\n",
      "Pseudomonas phage YH6\n",
      "Pseudomonas phage YH30\n",
      "Pseudomonas phage vB_Pae_PS44\n",
      "Pseudomonas phage vB_PaeS_PM105\n",
      "Pseudomonas phage vB_PaeS_PAO1_Ab30\n",
      "Pseudomonas phage vB_PaeP_Tr60_Ab31\n",
      "Pseudomonas phage vB_PaeP_PPA-ABTNL\n",
      "Pseudomonas phage vB_PaeP_PAO1_Ab05\n",
      "Pseudomonas phage vB_PaeP_MAG4\n",
      "Pseudomonas phage vB_PaeM_PS24\n",
      "Pseudomonas phage vB_PaeM_PAO1_Ab27\n",
      "Pseudomonas phage vB_PaeM_MAG1\n",
      "Pseudomonas phage vB_Pae-TbilisiM32\n",
      "Pseudomonas phage PT2\n",
      "Pseudomonas phage PP7\n",
      "Pseudomonas phage PhiPA3\n",
      "Pseudomonas phage phiMK\n",
      "Pseudomonas phage phikF77\n",
      "Pseudomonas phage phi3\n",
      "Pseudomonas phage phi297\n",
      "Pseudomonas phage phi2\n",
      "Pseudomonas phage PaP2\n",
      "Pseudomonas phage PaoP5\n",
      "Pseudomonas phage PaMx42\n",
      "Pseudomonas phage PAK_P2\n",
      "Pseudomonas phage PAJU2\n",
      "Pseudomonas phage PaBG\n",
      "Pseudomonas phage Pa2\n",
      "Pseudomonas phage PA11\n",
      "Pseudomonas phage O4\n",
      "Pseudomonas phage NH-4\n",
      "Pseudomonas phage MR299-2\n",
      "Pseudomonas phage MPK7\n",
      "Pseudomonas phage MPK6\n",
      "Pseudomonas phage MP48\n",
      "Pseudomonas phage MP42\n",
      "Pseudomonas phage MD8\n",
      "Pseudomonas phage MBL\n",
      "Pseudomonas phage LUZ19\n",
      "Pseudomonas phage LKD16\n",
      "Pseudomonas phage K8\n",
      "Pseudomonas phage K5\n",
      "Pseudomonas phage JD024\n",
      "Pseudomonas phage JBD93\n",
      "Pseudomonas phage JBD88a\n",
      "Pseudomonas phage JBD69\n",
      "Pseudomonas phage JBD5\n",
      "Pseudomonas phage JBD44\n",
      "Pseudomonas phage JBD30\n",
      "Pseudomonas phage JBD25\n",
      "Pseudomonas phage JBD24\n",
      "Pseudomonas phage JBD18\n",
      "Pseudomonas phage H70\n",
      "Pseudomonas phage F10\n",
      "Pseudomonas phage DL64\n",
      "Pseudomonas phage DL62\n",
      "Pseudomonas phage DL54\n",
      "Pseudomonas phage C11\n",
      "Pseudomonas phage B3\n",
      "Pseudomonas phage\n",
      "Stx2-converting phage 86\n",
      "Stx2-converting phage 1717\n",
      "Escherichia Stx1-converting recombinant phage HUN/2013\n",
      "Escherichia Stx1 converting phage\n",
      "Escherichia phage wV7\n",
      "Escherichia phage WG01\n",
      "Escherichia phage VB_EcoS-Golestan\n",
      "Escherichia phage vB_EcoP_GA2A\n",
      "Escherichia phage vB_EcoM_PhAPEC2\n",
      "Escherichia phage vB_EcoM_Alf5\n",
      "Escherichia phage vB_EcoM-UFV13\n",
      "Escherichia phage UFV-AREG1\n",
      "Escherichia phage TL-2011b\n",
      "Escherichia phage slur16\n",
      "Escherichia phage slur05\n",
      "Escherichia phage slur02\n",
      "Escherichia phage slur01\n",
      "Escherichia phage pro483\n",
      "Escherichia phage pro147\n",
      "Escherichia phage Pollock\n",
      "Escherichia phage phAPEC8\n",
      "Escherichia phage PE3-1\n",
      "Escherichia phage PBECO 4\n",
      "Escherichia phage P694\n",
      "Escherichia phage P483\n",
      "Escherichia phage P13374\n",
      "Escherichia phage MX01\n",
      "Enterobacteria phage mEpX2\n",
      "Enterobacteria phage mEpX1\n",
      "Enterobacterial phage mEp234\n",
      "Escherichia phage Lw1\n",
      "Escherichia phage LM33_P1\n",
      "Escherichia phage K1-ind(3)\n",
      "Escherichia phage HY03\n",
      "Escherichia phage HK75\n",
      "Escherichia phage HK639\n",
      "Enterobacteria phage HK633\n",
      "Enterobacteria phage HK630\n",
      "Enterobacteria phage HK629\n",
      "Enterobacteria phage HK544\n",
      "Enterobacteria phage HK542\n",
      "Enterobacteria phage HK446\n",
      "Escherichia phage Gluttony\n",
      "Escherichia phage Envy\n",
      "Escherichia phage ECML-117\n",
      "Escherichia phage ECBP5\n",
      "Escherichia phage D108\n",
      "Escherichia phage CICC 80001\n",
      "Escherichia phage Av-05\n",
      "Escherichia phage APCEc02\n",
      "Escherichia phage APCEc01\n",
      "Escherichia phage 64795_ec1\n",
      "Escherichia phage 1720a-02\n",
      "Escherichia phage 121Q\n",
      "Escherichia coli O157 typing phage 6\n",
      "Escherichia coli O157 typing phage 5\n",
      "Escherichia coli O157 typing phage 3\n",
      "Escherichia coli O157 typing phage 12\n",
      "Escherichia coli O157 typing phage 11\n",
      "Escherichia coli O157 typing phage 10\n",
      "Enterobacterial phage mEp390\n",
      "Enterobacterial phage mEp213\n",
      "Enterobacteria phage YYZ-2008\n",
      "Enterobacteria phage WA13 sensu lato\n",
      "Enterobacteria phage VT2phi_272\n",
      "Enterobacteria phage VT2-Sakai\n",
      "Enterobacteria phage vB_EcoS_NBD2\n",
      "Enterobacteria phage vB_EcoP_ACG-C91\n",
      "Enterobacteria phage T7M\n",
      "Enterobacteria phage T3\n",
      "Enterobacteria phage RB51\n",
      "Enterobacteria phage RB33\n",
      "Enterobacteria phage RB27\n",
      "Enterobacteria phage phiP27\n",
      "Enterobacteria phage phiEcoM-GJ1\n",
      "Enterobacteria phage phi92\n",
      "Enterobacteria phage phi80\n",
      "Enterobacteria phage P88\n",
      "Enterobacteria phage mEp460\n",
      "Enterobacteria phage mEp237\n",
      "Enterobacteria phage mEp235\n",
      "Enterobacteria phage mEp043 c-1\n",
      "Enterobacteria phage M\n",
      "Enterobacteria phage K1F\n",
      "Enterobacteria phage J8-65\n",
      "Enterobacteria phage IME_EC2\n",
      "Enterobacteria phage IME10\n",
      "Enterobacteria phage HK225\n",
      "Enterobacteria phage HK140\n",
      "Enterobacteria phage HK106\n",
      "Enterobacteria phage GEC-3S\n",
      "Enterobacteria phage fiAA91-ss\n",
      "Enterobacteria phage EcoDS1\n",
      "Enterobacteria phage DT571/2\n",
      "Enterobacteria phage CUS-3\n",
      "Enterobacteria phage cdtI\n",
      "Enterobacteria phage BP-4795\n",
      "Enterobacteria phage BA14\n",
      "Enterobacteria phage 285P\n",
      "Enterobacteria phage 2851\n",
      "Enterobacteria phage 13a\n",
      "Escherichia phage\n",
      "Plasmid F\n",
      "Plasmid ColVBtrp\n",
      "Enterobacteria phage lambda\n",
      "Hepatitis virus\n",
      "Enterococcus phage vB_EfaS_IME198\n",
      "Enterococcus phage vB_EfaS_IME197\n",
      "Enterococcus phage vB_EfaS_IME196\n",
      "Ecterococcus phage vB_EfaS_AL3\n",
      "Enterococcus phage vB_EfaP_IME195\n",
      "Enterococcus phage SANTOR1\n",
      "Enterococcus phage phiFL4A\n",
      "Enterococcus phage phiEf11\n",
      "Enterococcus phage IME_EF3\n",
      "Enterococcus phage EFRM31\n",
      "Enterococcus phage EFLK1\n",
      "Enterococcus phage EFDG1\n",
      "Enterococcus phage EFC-1\n",
      "Enterococcus phage EFAP-1\n",
      "Enterococcus phage EfaCPT1\n",
      "Enterococcus phage EF62phi\n",
      "Enterococcus phage ECP3\n",
      "Long Island tick rhabdovirus\n",
      "Lonestar tick chuvirus 1\n",
      "Lone Star virus\n",
      "Listeria phage WIL-1\n",
      "Listeria phage vB_LmoS_293\n",
      "Listeria phage vB_LmoS_188\n",
      "Listeria phage vB_LmoM_AG20\n",
      "Listeria phage P35\n",
      "Listeria phage LP-101\n",
      "Listeria phage LP-048\n",
      "Listeria phage LMTA-94\n",
      "Listeria phage LMTA-57\n",
      "Listeria phage LMTA-34\n",
      "Listeria phage LMTA-148\n",
      "Listeria phage LMSP-25\n",
      "Listeria phage List-36\n",
      "Listeria phage B054\n",
      "Listeria phage B025\n",
      "Listeria phage A500\n",
      "Listeria phage A118\n",
      "Listeria phage A006\n",
      "Eimeria canis\n",
      "Sarcocystis fusiformis\n",
      "Canine parvovirus\n",
      "Leucocytozoon toddi\n",
      "Highlands virus\n",
      "Lupine bocavirus\n",
      "Alphacoronavirus\n",
      "Rotavirus\n",
      "Human herpesvirus\n",
      "Trypanosoma evansi\n",
      "Parainfluenza virus\n",
      "Canine minute virus\n",
      "Betacoronavirus\n",
      "Canid herpesvirus\n",
      "Trichomonas canistomae\n",
      "Sarcocystis miescheriana\n",
      "Torque\n",
      "Lagos bat virus\n",
      "Sarcocystis cruzi\n",
      "Fox fecal rhabdovirus\n",
      "Alphavirus\n",
      "Cypovirus\n",
      "NPV\n",
      "Bunyamwera virus\n",
      "Invertebrate iridescent virus\n",
      "Rift fever virus\n",
      "California encephalitis virus\n",
      "Kairi virus\n",
      "Phlebovirus\n",
      "Influenzavirus\n",
      "Goose paramyxovirus SF02\n",
      "Duck megrivirus\n",
      "Duck infectious anemia virus\n",
      "Duck faeces associated circular DNA virus 3\n"
     ]
    },
    {
     "name": "stdout",
     "output_type": "stream",
     "text": [
      "Duck faeces associated circular DNA virus 2\n",
      "Duck faeces associated circular DNA virus 1\n",
      "Duck astrovirus\n",
      "Duck associated cyclovirus 1\n",
      "Duck hepatitis virus\n",
      "Avian paramyxovirus\n",
      "Duck parvovirus\n",
      "Chicken astrovirus\n",
      "Duck adenovirus\n",
      "Goose parvovirus\n",
      "Turkey astrovirus\n",
      "Eimeria paludosa\n",
      "Trichomonas batrachorum\n",
      "Karotomorpha bufonis\n",
      "Entamoeba ranarum\n",
      "Bufonid herpesvirus 1\n",
      "Plasmodium relictum\n",
      "Sparrow coronavirus HKU17\n",
      "Plasmodium circumflexum\n",
      "Fort virus\n",
      "Leucocytozoon gentili\n",
      "Trypanosoma bufophlebotomi\n",
      "Leucocytozoon dubreuili\n",
      "Capillaria michiganensis\n",
      "Eptesipox virus\n",
      "Eptesicus fuscus gammaherpesvirus\n",
      "Capillaria palmata\n",
      "Parastrongylus schmidti\n",
      "Parastrongylus siamensis\n",
      "Cardiovirus\n",
      "Black virus\n",
      "Tamiami virus\n",
      "Chelonid herpesvirus 5\n",
      "Rabbit coronavirus HKU14\n",
      "Mouse\n",
      "Ficus carica\n",
      "nan\n"
     ]
    }
   ],
   "source": [
    "taxaNotFound = []\n",
    "taxaFound = []\n",
    "\n",
    "print('Taxa from GLoBI, but not found in GBIF')\n",
    "for name in interactingTaxa.iterrows():\n",
    "    GBIFName = speciesExistsInGBIF(name[1], \"species\")\n",
    "    if GBIFName == False:\n",
    "        print(name[1][0])\n",
    "        taxaNotFound.append({'name': name[1][0]})\n",
    "    else:\n",
    "        taxaFound.append(GBIFName)\n",
    "    \n",
    "    #print(name[1])\n",
    "\n",
    "# Convert to a Pandas dataframe\n",
    "taxaFound = pd.DataFrame(taxaFound)"
   ]
  },
  {
   "cell_type": "code",
   "execution_count": 41,
   "metadata": {},
   "outputs": [
    {
     "data": {
      "text/plain": [
       "3886"
      ]
     },
     "execution_count": 41,
     "metadata": {},
     "output_type": "execute_result"
    }
   ],
   "source": [
    "len(taxaFound)"
   ]
  },
  {
   "cell_type": "code",
   "execution_count": 42,
   "metadata": {},
   "outputs": [
    {
     "data": {
      "text/html": [
       "<div>\n",
       "<style scoped>\n",
       "    .dataframe tbody tr th:only-of-type {\n",
       "        vertical-align: middle;\n",
       "    }\n",
       "\n",
       "    .dataframe tbody tr th {\n",
       "        vertical-align: top;\n",
       "    }\n",
       "\n",
       "    .dataframe thead th {\n",
       "        text-align: right;\n",
       "    }\n",
       "</style>\n",
       "<table border=\"1\" class=\"dataframe\">\n",
       "  <thead>\n",
       "    <tr style=\"text-align: right;\">\n",
       "      <th></th>\n",
       "      <th>usageKey</th>\n",
       "      <th>scientificName</th>\n",
       "      <th>canonicalName</th>\n",
       "      <th>rank</th>\n",
       "      <th>status</th>\n",
       "      <th>confidence</th>\n",
       "      <th>matchType</th>\n",
       "      <th>kingdom</th>\n",
       "      <th>phylum</th>\n",
       "      <th>order</th>\n",
       "      <th>...</th>\n",
       "      <th>phylumKey</th>\n",
       "      <th>classKey</th>\n",
       "      <th>orderKey</th>\n",
       "      <th>familyKey</th>\n",
       "      <th>genusKey</th>\n",
       "      <th>speciesKey</th>\n",
       "      <th>synonym</th>\n",
       "      <th>class</th>\n",
       "      <th>acceptedUsageKey</th>\n",
       "      <th>note</th>\n",
       "    </tr>\n",
       "  </thead>\n",
       "  <tbody>\n",
       "    <tr>\n",
       "      <td>0</td>\n",
       "      <td>5959118</td>\n",
       "      <td>Bubo virginianus (Gmelin, 1788)</td>\n",
       "      <td>Bubo virginianus</td>\n",
       "      <td>SPECIES</td>\n",
       "      <td>ACCEPTED</td>\n",
       "      <td>98</td>\n",
       "      <td>EXACT</td>\n",
       "      <td>Animalia</td>\n",
       "      <td>Chordata</td>\n",
       "      <td>Strigiformes</td>\n",
       "      <td>...</td>\n",
       "      <td>44.0</td>\n",
       "      <td>212.0</td>\n",
       "      <td>1450.0</td>\n",
       "      <td>9348.0</td>\n",
       "      <td>5959091.0</td>\n",
       "      <td>5959118.0</td>\n",
       "      <td>False</td>\n",
       "      <td>Aves</td>\n",
       "      <td>NaN</td>\n",
       "      <td>NaN</td>\n",
       "    </tr>\n",
       "    <tr>\n",
       "      <td>1</td>\n",
       "      <td>2481930</td>\n",
       "      <td>Cathartes aura (Linnaeus, 1758)</td>\n",
       "      <td>Cathartes aura</td>\n",
       "      <td>SPECIES</td>\n",
       "      <td>ACCEPTED</td>\n",
       "      <td>98</td>\n",
       "      <td>EXACT</td>\n",
       "      <td>Animalia</td>\n",
       "      <td>Chordata</td>\n",
       "      <td>Accipitriformes</td>\n",
       "      <td>...</td>\n",
       "      <td>44.0</td>\n",
       "      <td>212.0</td>\n",
       "      <td>7191147.0</td>\n",
       "      <td>3242141.0</td>\n",
       "      <td>2481927.0</td>\n",
       "      <td>2481930.0</td>\n",
       "      <td>False</td>\n",
       "      <td>Aves</td>\n",
       "      <td>NaN</td>\n",
       "      <td>NaN</td>\n",
       "    </tr>\n",
       "  </tbody>\n",
       "</table>\n",
       "<p>2 rows × 24 columns</p>\n",
       "</div>"
      ],
      "text/plain": [
       "   usageKey                   scientificName     canonicalName     rank  \\\n",
       "0   5959118  Bubo virginianus (Gmelin, 1788)  Bubo virginianus  SPECIES   \n",
       "1   2481930  Cathartes aura (Linnaeus, 1758)    Cathartes aura  SPECIES   \n",
       "\n",
       "     status  confidence matchType   kingdom    phylum            order  ...  \\\n",
       "0  ACCEPTED          98     EXACT  Animalia  Chordata     Strigiformes  ...   \n",
       "1  ACCEPTED          98     EXACT  Animalia  Chordata  Accipitriformes  ...   \n",
       "\n",
       "  phylumKey classKey   orderKey  familyKey   genusKey  speciesKey  synonym  \\\n",
       "0      44.0    212.0     1450.0     9348.0  5959091.0   5959118.0    False   \n",
       "1      44.0    212.0  7191147.0  3242141.0  2481927.0   2481930.0    False   \n",
       "\n",
       "   class  acceptedUsageKey  note  \n",
       "0   Aves               NaN   NaN  \n",
       "1   Aves               NaN   NaN  \n",
       "\n",
       "[2 rows x 24 columns]"
      ]
     },
     "execution_count": 42,
     "metadata": {},
     "output_type": "execute_result"
    }
   ],
   "source": [
    "taxaFound.head(2)"
   ]
  },
  {
   "cell_type": "markdown",
   "metadata": {},
   "source": [
    "### This function takes a GBIF species key and counts how many occurences exist."
   ]
  },
  {
   "cell_type": "code",
   "execution_count": 46,
   "metadata": {},
   "outputs": [],
   "source": [
    "def speciesCountInGBIF(key, country):\n",
    "    count = 0\n",
    "    try:\n",
    "        #return occ.count(taxonKey=key, country = country)\n",
    "        count = occ.count(taxonKey=key, country = country, basisOfRecord = \"HUMAN_OBSERVATION\")\n",
    "        #count += occ.count(taxonKey=key, country = country, basisOfRecord = \"OBSERVATION\")\n",
    "        return count\n",
    "    except ValueError as ve:\n",
    "        print(ve)\n",
    "        exit(1)"
   ]
  },
  {
   "cell_type": "markdown",
   "metadata": {},
   "source": [
    "### Loop over all the taxa that are in the interaction network and are in GBIF to find the ones that have been found in the country"
   ]
  },
  {
   "cell_type": "code",
   "execution_count": 47,
   "metadata": {},
   "outputs": [
    {
     "ename": "ConnectionError",
     "evalue": "('Connection aborted.', RemoteDisconnected('Remote end closed connection without response'))",
     "output_type": "error",
     "traceback": [
      "\u001b[1;31m---------------------------------------------------------------------------\u001b[0m",
      "\u001b[1;31mRemoteDisconnected\u001b[0m                        Traceback (most recent call last)",
      "\u001b[1;32m~\\Anaconda3\\lib\\site-packages\\urllib3\\connectionpool.py\u001b[0m in \u001b[0;36murlopen\u001b[1;34m(self, method, url, body, headers, retries, redirect, assert_same_host, timeout, pool_timeout, release_conn, chunked, body_pos, **response_kw)\u001b[0m\n\u001b[0;32m    599\u001b[0m                                                   \u001b[0mbody\u001b[0m\u001b[1;33m=\u001b[0m\u001b[0mbody\u001b[0m\u001b[1;33m,\u001b[0m \u001b[0mheaders\u001b[0m\u001b[1;33m=\u001b[0m\u001b[0mheaders\u001b[0m\u001b[1;33m,\u001b[0m\u001b[1;33m\u001b[0m\u001b[1;33m\u001b[0m\u001b[0m\n\u001b[1;32m--> 600\u001b[1;33m                                                   chunked=chunked)\n\u001b[0m\u001b[0;32m    601\u001b[0m \u001b[1;33m\u001b[0m\u001b[0m\n",
      "\u001b[1;32m~\\Anaconda3\\lib\\site-packages\\urllib3\\connectionpool.py\u001b[0m in \u001b[0;36m_make_request\u001b[1;34m(self, conn, method, url, timeout, chunked, **httplib_request_kw)\u001b[0m\n\u001b[0;32m    383\u001b[0m                     \u001b[1;31m# otherwise it looks like a programming error was the cause.\u001b[0m\u001b[1;33m\u001b[0m\u001b[1;33m\u001b[0m\u001b[1;33m\u001b[0m\u001b[0m\n\u001b[1;32m--> 384\u001b[1;33m                     \u001b[0msix\u001b[0m\u001b[1;33m.\u001b[0m\u001b[0mraise_from\u001b[0m\u001b[1;33m(\u001b[0m\u001b[0me\u001b[0m\u001b[1;33m,\u001b[0m \u001b[1;32mNone\u001b[0m\u001b[1;33m)\u001b[0m\u001b[1;33m\u001b[0m\u001b[1;33m\u001b[0m\u001b[0m\n\u001b[0m\u001b[0;32m    385\u001b[0m         \u001b[1;32mexcept\u001b[0m \u001b[1;33m(\u001b[0m\u001b[0mSocketTimeout\u001b[0m\u001b[1;33m,\u001b[0m \u001b[0mBaseSSLError\u001b[0m\u001b[1;33m,\u001b[0m \u001b[0mSocketError\u001b[0m\u001b[1;33m)\u001b[0m \u001b[1;32mas\u001b[0m \u001b[0me\u001b[0m\u001b[1;33m:\u001b[0m\u001b[1;33m\u001b[0m\u001b[1;33m\u001b[0m\u001b[0m\n",
      "\u001b[1;32m~\\Anaconda3\\lib\\site-packages\\urllib3\\packages\\six.py\u001b[0m in \u001b[0;36mraise_from\u001b[1;34m(value, from_value)\u001b[0m\n",
      "\u001b[1;32m~\\Anaconda3\\lib\\site-packages\\urllib3\\connectionpool.py\u001b[0m in \u001b[0;36m_make_request\u001b[1;34m(self, conn, method, url, timeout, chunked, **httplib_request_kw)\u001b[0m\n\u001b[0;32m    379\u001b[0m                 \u001b[1;32mtry\u001b[0m\u001b[1;33m:\u001b[0m\u001b[1;33m\u001b[0m\u001b[1;33m\u001b[0m\u001b[0m\n\u001b[1;32m--> 380\u001b[1;33m                     \u001b[0mhttplib_response\u001b[0m \u001b[1;33m=\u001b[0m \u001b[0mconn\u001b[0m\u001b[1;33m.\u001b[0m\u001b[0mgetresponse\u001b[0m\u001b[1;33m(\u001b[0m\u001b[1;33m)\u001b[0m\u001b[1;33m\u001b[0m\u001b[1;33m\u001b[0m\u001b[0m\n\u001b[0m\u001b[0;32m    381\u001b[0m                 \u001b[1;32mexcept\u001b[0m \u001b[0mException\u001b[0m \u001b[1;32mas\u001b[0m \u001b[0me\u001b[0m\u001b[1;33m:\u001b[0m\u001b[1;33m\u001b[0m\u001b[1;33m\u001b[0m\u001b[0m\n",
      "\u001b[1;32m~\\Anaconda3\\lib\\http\\client.py\u001b[0m in \u001b[0;36mgetresponse\u001b[1;34m(self)\u001b[0m\n\u001b[0;32m   1335\u001b[0m             \u001b[1;32mtry\u001b[0m\u001b[1;33m:\u001b[0m\u001b[1;33m\u001b[0m\u001b[1;33m\u001b[0m\u001b[0m\n\u001b[1;32m-> 1336\u001b[1;33m                 \u001b[0mresponse\u001b[0m\u001b[1;33m.\u001b[0m\u001b[0mbegin\u001b[0m\u001b[1;33m(\u001b[0m\u001b[1;33m)\u001b[0m\u001b[1;33m\u001b[0m\u001b[1;33m\u001b[0m\u001b[0m\n\u001b[0m\u001b[0;32m   1337\u001b[0m             \u001b[1;32mexcept\u001b[0m \u001b[0mConnectionError\u001b[0m\u001b[1;33m:\u001b[0m\u001b[1;33m\u001b[0m\u001b[1;33m\u001b[0m\u001b[0m\n",
      "\u001b[1;32m~\\Anaconda3\\lib\\http\\client.py\u001b[0m in \u001b[0;36mbegin\u001b[1;34m(self)\u001b[0m\n\u001b[0;32m    305\u001b[0m         \u001b[1;32mwhile\u001b[0m \u001b[1;32mTrue\u001b[0m\u001b[1;33m:\u001b[0m\u001b[1;33m\u001b[0m\u001b[1;33m\u001b[0m\u001b[0m\n\u001b[1;32m--> 306\u001b[1;33m             \u001b[0mversion\u001b[0m\u001b[1;33m,\u001b[0m \u001b[0mstatus\u001b[0m\u001b[1;33m,\u001b[0m \u001b[0mreason\u001b[0m \u001b[1;33m=\u001b[0m \u001b[0mself\u001b[0m\u001b[1;33m.\u001b[0m\u001b[0m_read_status\u001b[0m\u001b[1;33m(\u001b[0m\u001b[1;33m)\u001b[0m\u001b[1;33m\u001b[0m\u001b[1;33m\u001b[0m\u001b[0m\n\u001b[0m\u001b[0;32m    307\u001b[0m             \u001b[1;32mif\u001b[0m \u001b[0mstatus\u001b[0m \u001b[1;33m!=\u001b[0m \u001b[0mCONTINUE\u001b[0m\u001b[1;33m:\u001b[0m\u001b[1;33m\u001b[0m\u001b[1;33m\u001b[0m\u001b[0m\n",
      "\u001b[1;32m~\\Anaconda3\\lib\\http\\client.py\u001b[0m in \u001b[0;36m_read_status\u001b[1;34m(self)\u001b[0m\n\u001b[0;32m    274\u001b[0m             \u001b[1;31m# sending a valid response.\u001b[0m\u001b[1;33m\u001b[0m\u001b[1;33m\u001b[0m\u001b[1;33m\u001b[0m\u001b[0m\n\u001b[1;32m--> 275\u001b[1;33m             raise RemoteDisconnected(\"Remote end closed connection without\"\n\u001b[0m\u001b[0;32m    276\u001b[0m                                      \" response\")\n",
      "\u001b[1;31mRemoteDisconnected\u001b[0m: Remote end closed connection without response",
      "\nDuring handling of the above exception, another exception occurred:\n",
      "\u001b[1;31mProtocolError\u001b[0m                             Traceback (most recent call last)",
      "\u001b[1;32m~\\Anaconda3\\lib\\site-packages\\requests\\adapters.py\u001b[0m in \u001b[0;36msend\u001b[1;34m(self, request, stream, timeout, verify, cert, proxies)\u001b[0m\n\u001b[0;32m    448\u001b[0m                     \u001b[0mretries\u001b[0m\u001b[1;33m=\u001b[0m\u001b[0mself\u001b[0m\u001b[1;33m.\u001b[0m\u001b[0mmax_retries\u001b[0m\u001b[1;33m,\u001b[0m\u001b[1;33m\u001b[0m\u001b[1;33m\u001b[0m\u001b[0m\n\u001b[1;32m--> 449\u001b[1;33m                     \u001b[0mtimeout\u001b[0m\u001b[1;33m=\u001b[0m\u001b[0mtimeout\u001b[0m\u001b[1;33m\u001b[0m\u001b[1;33m\u001b[0m\u001b[0m\n\u001b[0m\u001b[0;32m    450\u001b[0m                 )\n",
      "\u001b[1;32m~\\Anaconda3\\lib\\site-packages\\urllib3\\connectionpool.py\u001b[0m in \u001b[0;36murlopen\u001b[1;34m(self, method, url, body, headers, retries, redirect, assert_same_host, timeout, pool_timeout, release_conn, chunked, body_pos, **response_kw)\u001b[0m\n\u001b[0;32m    637\u001b[0m             retries = retries.increment(method, url, error=e, _pool=self,\n\u001b[1;32m--> 638\u001b[1;33m                                         _stacktrace=sys.exc_info()[2])\n\u001b[0m\u001b[0;32m    639\u001b[0m             \u001b[0mretries\u001b[0m\u001b[1;33m.\u001b[0m\u001b[0msleep\u001b[0m\u001b[1;33m(\u001b[0m\u001b[1;33m)\u001b[0m\u001b[1;33m\u001b[0m\u001b[1;33m\u001b[0m\u001b[0m\n",
      "\u001b[1;32m~\\Anaconda3\\lib\\site-packages\\urllib3\\util\\retry.py\u001b[0m in \u001b[0;36mincrement\u001b[1;34m(self, method, url, response, error, _pool, _stacktrace)\u001b[0m\n\u001b[0;32m    367\u001b[0m             \u001b[1;32mif\u001b[0m \u001b[0mread\u001b[0m \u001b[1;32mis\u001b[0m \u001b[1;32mFalse\u001b[0m \u001b[1;32mor\u001b[0m \u001b[1;32mnot\u001b[0m \u001b[0mself\u001b[0m\u001b[1;33m.\u001b[0m\u001b[0m_is_method_retryable\u001b[0m\u001b[1;33m(\u001b[0m\u001b[0mmethod\u001b[0m\u001b[1;33m)\u001b[0m\u001b[1;33m:\u001b[0m\u001b[1;33m\u001b[0m\u001b[1;33m\u001b[0m\u001b[0m\n\u001b[1;32m--> 368\u001b[1;33m                 \u001b[1;32mraise\u001b[0m \u001b[0msix\u001b[0m\u001b[1;33m.\u001b[0m\u001b[0mreraise\u001b[0m\u001b[1;33m(\u001b[0m\u001b[0mtype\u001b[0m\u001b[1;33m(\u001b[0m\u001b[0merror\u001b[0m\u001b[1;33m)\u001b[0m\u001b[1;33m,\u001b[0m \u001b[0merror\u001b[0m\u001b[1;33m,\u001b[0m \u001b[0m_stacktrace\u001b[0m\u001b[1;33m)\u001b[0m\u001b[1;33m\u001b[0m\u001b[1;33m\u001b[0m\u001b[0m\n\u001b[0m\u001b[0;32m    369\u001b[0m             \u001b[1;32melif\u001b[0m \u001b[0mread\u001b[0m \u001b[1;32mis\u001b[0m \u001b[1;32mnot\u001b[0m \u001b[1;32mNone\u001b[0m\u001b[1;33m:\u001b[0m\u001b[1;33m\u001b[0m\u001b[1;33m\u001b[0m\u001b[0m\n",
      "\u001b[1;32m~\\Anaconda3\\lib\\site-packages\\urllib3\\packages\\six.py\u001b[0m in \u001b[0;36mreraise\u001b[1;34m(tp, value, tb)\u001b[0m\n\u001b[0;32m    684\u001b[0m         \u001b[1;32mif\u001b[0m \u001b[0mvalue\u001b[0m\u001b[1;33m.\u001b[0m\u001b[0m__traceback__\u001b[0m \u001b[1;32mis\u001b[0m \u001b[1;32mnot\u001b[0m \u001b[0mtb\u001b[0m\u001b[1;33m:\u001b[0m\u001b[1;33m\u001b[0m\u001b[1;33m\u001b[0m\u001b[0m\n\u001b[1;32m--> 685\u001b[1;33m             \u001b[1;32mraise\u001b[0m \u001b[0mvalue\u001b[0m\u001b[1;33m.\u001b[0m\u001b[0mwith_traceback\u001b[0m\u001b[1;33m(\u001b[0m\u001b[0mtb\u001b[0m\u001b[1;33m)\u001b[0m\u001b[1;33m\u001b[0m\u001b[1;33m\u001b[0m\u001b[0m\n\u001b[0m\u001b[0;32m    686\u001b[0m         \u001b[1;32mraise\u001b[0m \u001b[0mvalue\u001b[0m\u001b[1;33m\u001b[0m\u001b[1;33m\u001b[0m\u001b[0m\n",
      "\u001b[1;32m~\\Anaconda3\\lib\\site-packages\\urllib3\\connectionpool.py\u001b[0m in \u001b[0;36murlopen\u001b[1;34m(self, method, url, body, headers, retries, redirect, assert_same_host, timeout, pool_timeout, release_conn, chunked, body_pos, **response_kw)\u001b[0m\n\u001b[0;32m    599\u001b[0m                                                   \u001b[0mbody\u001b[0m\u001b[1;33m=\u001b[0m\u001b[0mbody\u001b[0m\u001b[1;33m,\u001b[0m \u001b[0mheaders\u001b[0m\u001b[1;33m=\u001b[0m\u001b[0mheaders\u001b[0m\u001b[1;33m,\u001b[0m\u001b[1;33m\u001b[0m\u001b[1;33m\u001b[0m\u001b[0m\n\u001b[1;32m--> 600\u001b[1;33m                                                   chunked=chunked)\n\u001b[0m\u001b[0;32m    601\u001b[0m \u001b[1;33m\u001b[0m\u001b[0m\n",
      "\u001b[1;32m~\\Anaconda3\\lib\\site-packages\\urllib3\\connectionpool.py\u001b[0m in \u001b[0;36m_make_request\u001b[1;34m(self, conn, method, url, timeout, chunked, **httplib_request_kw)\u001b[0m\n\u001b[0;32m    383\u001b[0m                     \u001b[1;31m# otherwise it looks like a programming error was the cause.\u001b[0m\u001b[1;33m\u001b[0m\u001b[1;33m\u001b[0m\u001b[1;33m\u001b[0m\u001b[0m\n\u001b[1;32m--> 384\u001b[1;33m                     \u001b[0msix\u001b[0m\u001b[1;33m.\u001b[0m\u001b[0mraise_from\u001b[0m\u001b[1;33m(\u001b[0m\u001b[0me\u001b[0m\u001b[1;33m,\u001b[0m \u001b[1;32mNone\u001b[0m\u001b[1;33m)\u001b[0m\u001b[1;33m\u001b[0m\u001b[1;33m\u001b[0m\u001b[0m\n\u001b[0m\u001b[0;32m    385\u001b[0m         \u001b[1;32mexcept\u001b[0m \u001b[1;33m(\u001b[0m\u001b[0mSocketTimeout\u001b[0m\u001b[1;33m,\u001b[0m \u001b[0mBaseSSLError\u001b[0m\u001b[1;33m,\u001b[0m \u001b[0mSocketError\u001b[0m\u001b[1;33m)\u001b[0m \u001b[1;32mas\u001b[0m \u001b[0me\u001b[0m\u001b[1;33m:\u001b[0m\u001b[1;33m\u001b[0m\u001b[1;33m\u001b[0m\u001b[0m\n",
      "\u001b[1;32m~\\Anaconda3\\lib\\site-packages\\urllib3\\packages\\six.py\u001b[0m in \u001b[0;36mraise_from\u001b[1;34m(value, from_value)\u001b[0m\n",
      "\u001b[1;32m~\\Anaconda3\\lib\\site-packages\\urllib3\\connectionpool.py\u001b[0m in \u001b[0;36m_make_request\u001b[1;34m(self, conn, method, url, timeout, chunked, **httplib_request_kw)\u001b[0m\n\u001b[0;32m    379\u001b[0m                 \u001b[1;32mtry\u001b[0m\u001b[1;33m:\u001b[0m\u001b[1;33m\u001b[0m\u001b[1;33m\u001b[0m\u001b[0m\n\u001b[1;32m--> 380\u001b[1;33m                     \u001b[0mhttplib_response\u001b[0m \u001b[1;33m=\u001b[0m \u001b[0mconn\u001b[0m\u001b[1;33m.\u001b[0m\u001b[0mgetresponse\u001b[0m\u001b[1;33m(\u001b[0m\u001b[1;33m)\u001b[0m\u001b[1;33m\u001b[0m\u001b[1;33m\u001b[0m\u001b[0m\n\u001b[0m\u001b[0;32m    381\u001b[0m                 \u001b[1;32mexcept\u001b[0m \u001b[0mException\u001b[0m \u001b[1;32mas\u001b[0m \u001b[0me\u001b[0m\u001b[1;33m:\u001b[0m\u001b[1;33m\u001b[0m\u001b[1;33m\u001b[0m\u001b[0m\n",
      "\u001b[1;32m~\\Anaconda3\\lib\\http\\client.py\u001b[0m in \u001b[0;36mgetresponse\u001b[1;34m(self)\u001b[0m\n\u001b[0;32m   1335\u001b[0m             \u001b[1;32mtry\u001b[0m\u001b[1;33m:\u001b[0m\u001b[1;33m\u001b[0m\u001b[1;33m\u001b[0m\u001b[0m\n\u001b[1;32m-> 1336\u001b[1;33m                 \u001b[0mresponse\u001b[0m\u001b[1;33m.\u001b[0m\u001b[0mbegin\u001b[0m\u001b[1;33m(\u001b[0m\u001b[1;33m)\u001b[0m\u001b[1;33m\u001b[0m\u001b[1;33m\u001b[0m\u001b[0m\n\u001b[0m\u001b[0;32m   1337\u001b[0m             \u001b[1;32mexcept\u001b[0m \u001b[0mConnectionError\u001b[0m\u001b[1;33m:\u001b[0m\u001b[1;33m\u001b[0m\u001b[1;33m\u001b[0m\u001b[0m\n",
      "\u001b[1;32m~\\Anaconda3\\lib\\http\\client.py\u001b[0m in \u001b[0;36mbegin\u001b[1;34m(self)\u001b[0m\n\u001b[0;32m    305\u001b[0m         \u001b[1;32mwhile\u001b[0m \u001b[1;32mTrue\u001b[0m\u001b[1;33m:\u001b[0m\u001b[1;33m\u001b[0m\u001b[1;33m\u001b[0m\u001b[0m\n\u001b[1;32m--> 306\u001b[1;33m             \u001b[0mversion\u001b[0m\u001b[1;33m,\u001b[0m \u001b[0mstatus\u001b[0m\u001b[1;33m,\u001b[0m \u001b[0mreason\u001b[0m \u001b[1;33m=\u001b[0m \u001b[0mself\u001b[0m\u001b[1;33m.\u001b[0m\u001b[0m_read_status\u001b[0m\u001b[1;33m(\u001b[0m\u001b[1;33m)\u001b[0m\u001b[1;33m\u001b[0m\u001b[1;33m\u001b[0m\u001b[0m\n\u001b[0m\u001b[0;32m    307\u001b[0m             \u001b[1;32mif\u001b[0m \u001b[0mstatus\u001b[0m \u001b[1;33m!=\u001b[0m \u001b[0mCONTINUE\u001b[0m\u001b[1;33m:\u001b[0m\u001b[1;33m\u001b[0m\u001b[1;33m\u001b[0m\u001b[0m\n",
      "\u001b[1;32m~\\Anaconda3\\lib\\http\\client.py\u001b[0m in \u001b[0;36m_read_status\u001b[1;34m(self)\u001b[0m\n\u001b[0;32m    274\u001b[0m             \u001b[1;31m# sending a valid response.\u001b[0m\u001b[1;33m\u001b[0m\u001b[1;33m\u001b[0m\u001b[1;33m\u001b[0m\u001b[0m\n\u001b[1;32m--> 275\u001b[1;33m             raise RemoteDisconnected(\"Remote end closed connection without\"\n\u001b[0m\u001b[0;32m    276\u001b[0m                                      \" response\")\n",
      "\u001b[1;31mProtocolError\u001b[0m: ('Connection aborted.', RemoteDisconnected('Remote end closed connection without response'))",
      "\nDuring handling of the above exception, another exception occurred:\n",
      "\u001b[1;31mConnectionError\u001b[0m                           Traceback (most recent call last)",
      "\u001b[1;32m<ipython-input-47-2801a87c2b9f>\u001b[0m in \u001b[0;36m<module>\u001b[1;34m\u001b[0m\n\u001b[0;32m      4\u001b[0m     \u001b[1;31m#print(GBIFtaxon[1]['usageKey'])\u001b[0m\u001b[1;33m\u001b[0m\u001b[1;33m\u001b[0m\u001b[1;33m\u001b[0m\u001b[0m\n\u001b[0;32m      5\u001b[0m     \u001b[1;31m#print('{0} found {1} time in Belgium.'.format(GBIFtaxon,speciesCountInGBIF(GBIFtaxon,country)))\u001b[0m\u001b[1;33m\u001b[0m\u001b[1;33m\u001b[0m\u001b[1;33m\u001b[0m\u001b[0m\n\u001b[1;32m----> 6\u001b[1;33m     \u001b[0mGBIFOccCount\u001b[0m \u001b[1;33m=\u001b[0m \u001b[0mspeciesCountInGBIF\u001b[0m\u001b[1;33m(\u001b[0m\u001b[0mGBIFtaxon\u001b[0m\u001b[1;33m[\u001b[0m\u001b[1;36m1\u001b[0m\u001b[1;33m]\u001b[0m\u001b[1;33m[\u001b[0m\u001b[1;34m'usageKey'\u001b[0m\u001b[1;33m]\u001b[0m\u001b[1;33m,\u001b[0m\u001b[0mcountry\u001b[0m\u001b[1;33m)\u001b[0m\u001b[1;33m\u001b[0m\u001b[1;33m\u001b[0m\u001b[0m\n\u001b[0m\u001b[0;32m      7\u001b[0m     \u001b[1;32mif\u001b[0m \u001b[0mGBIFOccCount\u001b[0m \u001b[1;33m>\u001b[0m \u001b[0mthresholdForOccNum\u001b[0m\u001b[1;33m:\u001b[0m \u001b[1;31m# The threshold for observations is not greater than one, due to all the casual records\u001b[0m\u001b[1;33m\u001b[0m\u001b[1;33m\u001b[0m\u001b[0m\n\u001b[0;32m      8\u001b[0m         \u001b[0mtaxaFoundInCountry\u001b[0m\u001b[1;33m.\u001b[0m\u001b[0mappend\u001b[0m\u001b[1;33m(\u001b[0m\u001b[1;33m{\u001b[0m\u001b[1;34m'key'\u001b[0m\u001b[1;33m:\u001b[0m \u001b[0mGBIFtaxon\u001b[0m\u001b[1;33m[\u001b[0m\u001b[1;36m1\u001b[0m\u001b[1;33m]\u001b[0m\u001b[1;33m[\u001b[0m\u001b[1;34m'usageKey'\u001b[0m\u001b[1;33m]\u001b[0m\u001b[1;33m,\u001b[0m \u001b[1;34m'species'\u001b[0m\u001b[1;33m:\u001b[0m \u001b[0mGBIFtaxon\u001b[0m\u001b[1;33m[\u001b[0m\u001b[1;36m1\u001b[0m\u001b[1;33m]\u001b[0m\u001b[1;33m[\u001b[0m\u001b[1;34m'canonicalName'\u001b[0m\u001b[1;33m]\u001b[0m\u001b[1;33m,\u001b[0m \u001b[1;34m'count'\u001b[0m\u001b[1;33m:\u001b[0m \u001b[0mGBIFOccCount\u001b[0m\u001b[1;33m}\u001b[0m\u001b[1;33m)\u001b[0m\u001b[1;33m\u001b[0m\u001b[1;33m\u001b[0m\u001b[0m\n",
      "\u001b[1;32m<ipython-input-46-557f862779a0>\u001b[0m in \u001b[0;36mspeciesCountInGBIF\u001b[1;34m(key, country)\u001b[0m\n\u001b[0;32m      3\u001b[0m     \u001b[1;32mtry\u001b[0m\u001b[1;33m:\u001b[0m\u001b[1;33m\u001b[0m\u001b[1;33m\u001b[0m\u001b[0m\n\u001b[0;32m      4\u001b[0m         \u001b[1;31m#return occ.count(taxonKey=key, country = country)\u001b[0m\u001b[1;33m\u001b[0m\u001b[1;33m\u001b[0m\u001b[1;33m\u001b[0m\u001b[0m\n\u001b[1;32m----> 5\u001b[1;33m         \u001b[0mcount\u001b[0m \u001b[1;33m=\u001b[0m \u001b[0mocc\u001b[0m\u001b[1;33m.\u001b[0m\u001b[0mcount\u001b[0m\u001b[1;33m(\u001b[0m\u001b[0mtaxonKey\u001b[0m\u001b[1;33m=\u001b[0m\u001b[0mkey\u001b[0m\u001b[1;33m,\u001b[0m \u001b[0mcountry\u001b[0m \u001b[1;33m=\u001b[0m \u001b[0mcountry\u001b[0m\u001b[1;33m,\u001b[0m \u001b[0mbasisOfRecord\u001b[0m \u001b[1;33m=\u001b[0m \u001b[1;34m\"HUMAN_OBSERVATION\"\u001b[0m\u001b[1;33m)\u001b[0m\u001b[1;33m\u001b[0m\u001b[1;33m\u001b[0m\u001b[0m\n\u001b[0m\u001b[0;32m      6\u001b[0m         \u001b[1;31m#count += occ.count(taxonKey=key, country = country, basisOfRecord = \"OBSERVATION\")\u001b[0m\u001b[1;33m\u001b[0m\u001b[1;33m\u001b[0m\u001b[1;33m\u001b[0m\u001b[0m\n\u001b[0;32m      7\u001b[0m         \u001b[1;32mreturn\u001b[0m \u001b[0mcount\u001b[0m\u001b[1;33m\u001b[0m\u001b[1;33m\u001b[0m\u001b[0m\n",
      "\u001b[1;32m~\\Anaconda3\\lib\\site-packages\\pygbif\\occurrences\\count.py\u001b[0m in \u001b[0;36mcount\u001b[1;34m(taxonKey, basisOfRecord, country, isGeoreferenced, datasetKey, publishingCountry, typeStatus, issue, year, **kwargs)\u001b[0m\n\u001b[0;32m     31\u001b[0m         \u001b[1;34m'isGeoreferenced'\u001b[0m\u001b[1;33m:\u001b[0m \u001b[0misGeoreferenced\u001b[0m\u001b[1;33m,\u001b[0m \u001b[1;34m'datasetKey'\u001b[0m\u001b[1;33m:\u001b[0m \u001b[0mdatasetKey\u001b[0m\u001b[1;33m,\u001b[0m\u001b[1;33m\u001b[0m\u001b[1;33m\u001b[0m\u001b[0m\n\u001b[0;32m     32\u001b[0m         \u001b[1;34m'publishingCountry'\u001b[0m\u001b[1;33m:\u001b[0m \u001b[0mpublishingCountry\u001b[0m\u001b[1;33m,\u001b[0m \u001b[1;34m'typeStatus'\u001b[0m\u001b[1;33m:\u001b[0m \u001b[0mtypeStatus\u001b[0m\u001b[1;33m,\u001b[0m\u001b[1;33m\u001b[0m\u001b[1;33m\u001b[0m\u001b[0m\n\u001b[1;32m---> 33\u001b[1;33m         'issue': issue, 'year': year}, **kwargs)\n\u001b[0m\u001b[0;32m     34\u001b[0m     \u001b[1;32mreturn\u001b[0m \u001b[0mout\u001b[0m\u001b[1;33m\u001b[0m\u001b[1;33m\u001b[0m\u001b[0m\n\u001b[0;32m     35\u001b[0m \u001b[1;33m\u001b[0m\u001b[0m\n",
      "\u001b[1;32m~\\Anaconda3\\lib\\site-packages\\pygbif\\gbifutils.py\u001b[0m in \u001b[0;36mgbif_GET\u001b[1;34m(url, args, **kwargs)\u001b[0m\n\u001b[0;32m     17\u001b[0m \u001b[1;33m\u001b[0m\u001b[0m\n\u001b[0;32m     18\u001b[0m \u001b[1;32mdef\u001b[0m \u001b[0mgbif_GET\u001b[0m\u001b[1;33m(\u001b[0m\u001b[0murl\u001b[0m\u001b[1;33m,\u001b[0m \u001b[0margs\u001b[0m\u001b[1;33m,\u001b[0m \u001b[1;33m**\u001b[0m\u001b[0mkwargs\u001b[0m\u001b[1;33m)\u001b[0m\u001b[1;33m:\u001b[0m\u001b[1;33m\u001b[0m\u001b[1;33m\u001b[0m\u001b[0m\n\u001b[1;32m---> 19\u001b[1;33m   \u001b[0mout\u001b[0m \u001b[1;33m=\u001b[0m \u001b[0mrequests\u001b[0m\u001b[1;33m.\u001b[0m\u001b[0mget\u001b[0m\u001b[1;33m(\u001b[0m\u001b[0murl\u001b[0m\u001b[1;33m,\u001b[0m \u001b[0mparams\u001b[0m\u001b[1;33m=\u001b[0m\u001b[0margs\u001b[0m\u001b[1;33m,\u001b[0m \u001b[0mheaders\u001b[0m\u001b[1;33m=\u001b[0m\u001b[0mmake_ua\u001b[0m\u001b[1;33m(\u001b[0m\u001b[1;33m)\u001b[0m\u001b[1;33m,\u001b[0m \u001b[1;33m**\u001b[0m\u001b[0mkwargs\u001b[0m\u001b[1;33m)\u001b[0m\u001b[1;33m\u001b[0m\u001b[1;33m\u001b[0m\u001b[0m\n\u001b[0m\u001b[0;32m     20\u001b[0m   \u001b[0mout\u001b[0m\u001b[1;33m.\u001b[0m\u001b[0mraise_for_status\u001b[0m\u001b[1;33m(\u001b[0m\u001b[1;33m)\u001b[0m\u001b[1;33m\u001b[0m\u001b[1;33m\u001b[0m\u001b[0m\n\u001b[0;32m     21\u001b[0m   \u001b[0mstopifnot\u001b[0m\u001b[1;33m(\u001b[0m\u001b[0mout\u001b[0m\u001b[1;33m.\u001b[0m\u001b[0mheaders\u001b[0m\u001b[1;33m[\u001b[0m\u001b[1;34m'content-type'\u001b[0m\u001b[1;33m]\u001b[0m\u001b[1;33m)\u001b[0m\u001b[1;33m\u001b[0m\u001b[1;33m\u001b[0m\u001b[0m\n",
      "\u001b[1;32m~\\Anaconda3\\lib\\site-packages\\requests\\api.py\u001b[0m in \u001b[0;36mget\u001b[1;34m(url, params, **kwargs)\u001b[0m\n\u001b[0;32m     73\u001b[0m \u001b[1;33m\u001b[0m\u001b[0m\n\u001b[0;32m     74\u001b[0m     \u001b[0mkwargs\u001b[0m\u001b[1;33m.\u001b[0m\u001b[0msetdefault\u001b[0m\u001b[1;33m(\u001b[0m\u001b[1;34m'allow_redirects'\u001b[0m\u001b[1;33m,\u001b[0m \u001b[1;32mTrue\u001b[0m\u001b[1;33m)\u001b[0m\u001b[1;33m\u001b[0m\u001b[1;33m\u001b[0m\u001b[0m\n\u001b[1;32m---> 75\u001b[1;33m     \u001b[1;32mreturn\u001b[0m \u001b[0mrequest\u001b[0m\u001b[1;33m(\u001b[0m\u001b[1;34m'get'\u001b[0m\u001b[1;33m,\u001b[0m \u001b[0murl\u001b[0m\u001b[1;33m,\u001b[0m \u001b[0mparams\u001b[0m\u001b[1;33m=\u001b[0m\u001b[0mparams\u001b[0m\u001b[1;33m,\u001b[0m \u001b[1;33m**\u001b[0m\u001b[0mkwargs\u001b[0m\u001b[1;33m)\u001b[0m\u001b[1;33m\u001b[0m\u001b[1;33m\u001b[0m\u001b[0m\n\u001b[0m\u001b[0;32m     76\u001b[0m \u001b[1;33m\u001b[0m\u001b[0m\n\u001b[0;32m     77\u001b[0m \u001b[1;33m\u001b[0m\u001b[0m\n",
      "\u001b[1;32m~\\Anaconda3\\lib\\site-packages\\requests\\api.py\u001b[0m in \u001b[0;36mrequest\u001b[1;34m(method, url, **kwargs)\u001b[0m\n\u001b[0;32m     58\u001b[0m     \u001b[1;31m# cases, and look like a memory leak in others.\u001b[0m\u001b[1;33m\u001b[0m\u001b[1;33m\u001b[0m\u001b[1;33m\u001b[0m\u001b[0m\n\u001b[0;32m     59\u001b[0m     \u001b[1;32mwith\u001b[0m \u001b[0msessions\u001b[0m\u001b[1;33m.\u001b[0m\u001b[0mSession\u001b[0m\u001b[1;33m(\u001b[0m\u001b[1;33m)\u001b[0m \u001b[1;32mas\u001b[0m \u001b[0msession\u001b[0m\u001b[1;33m:\u001b[0m\u001b[1;33m\u001b[0m\u001b[1;33m\u001b[0m\u001b[0m\n\u001b[1;32m---> 60\u001b[1;33m         \u001b[1;32mreturn\u001b[0m \u001b[0msession\u001b[0m\u001b[1;33m.\u001b[0m\u001b[0mrequest\u001b[0m\u001b[1;33m(\u001b[0m\u001b[0mmethod\u001b[0m\u001b[1;33m=\u001b[0m\u001b[0mmethod\u001b[0m\u001b[1;33m,\u001b[0m \u001b[0murl\u001b[0m\u001b[1;33m=\u001b[0m\u001b[0murl\u001b[0m\u001b[1;33m,\u001b[0m \u001b[1;33m**\u001b[0m\u001b[0mkwargs\u001b[0m\u001b[1;33m)\u001b[0m\u001b[1;33m\u001b[0m\u001b[1;33m\u001b[0m\u001b[0m\n\u001b[0m\u001b[0;32m     61\u001b[0m \u001b[1;33m\u001b[0m\u001b[0m\n\u001b[0;32m     62\u001b[0m \u001b[1;33m\u001b[0m\u001b[0m\n",
      "\u001b[1;32m~\\Anaconda3\\lib\\site-packages\\requests\\sessions.py\u001b[0m in \u001b[0;36mrequest\u001b[1;34m(self, method, url, params, data, headers, cookies, files, auth, timeout, allow_redirects, proxies, hooks, stream, verify, cert, json)\u001b[0m\n\u001b[0;32m    531\u001b[0m         }\n\u001b[0;32m    532\u001b[0m         \u001b[0msend_kwargs\u001b[0m\u001b[1;33m.\u001b[0m\u001b[0mupdate\u001b[0m\u001b[1;33m(\u001b[0m\u001b[0msettings\u001b[0m\u001b[1;33m)\u001b[0m\u001b[1;33m\u001b[0m\u001b[1;33m\u001b[0m\u001b[0m\n\u001b[1;32m--> 533\u001b[1;33m         \u001b[0mresp\u001b[0m \u001b[1;33m=\u001b[0m \u001b[0mself\u001b[0m\u001b[1;33m.\u001b[0m\u001b[0msend\u001b[0m\u001b[1;33m(\u001b[0m\u001b[0mprep\u001b[0m\u001b[1;33m,\u001b[0m \u001b[1;33m**\u001b[0m\u001b[0msend_kwargs\u001b[0m\u001b[1;33m)\u001b[0m\u001b[1;33m\u001b[0m\u001b[1;33m\u001b[0m\u001b[0m\n\u001b[0m\u001b[0;32m    534\u001b[0m \u001b[1;33m\u001b[0m\u001b[0m\n\u001b[0;32m    535\u001b[0m         \u001b[1;32mreturn\u001b[0m \u001b[0mresp\u001b[0m\u001b[1;33m\u001b[0m\u001b[1;33m\u001b[0m\u001b[0m\n",
      "\u001b[1;32m~\\Anaconda3\\lib\\site-packages\\requests\\sessions.py\u001b[0m in \u001b[0;36msend\u001b[1;34m(self, request, **kwargs)\u001b[0m\n\u001b[0;32m    644\u001b[0m \u001b[1;33m\u001b[0m\u001b[0m\n\u001b[0;32m    645\u001b[0m         \u001b[1;31m# Send the request\u001b[0m\u001b[1;33m\u001b[0m\u001b[1;33m\u001b[0m\u001b[1;33m\u001b[0m\u001b[0m\n\u001b[1;32m--> 646\u001b[1;33m         \u001b[0mr\u001b[0m \u001b[1;33m=\u001b[0m \u001b[0madapter\u001b[0m\u001b[1;33m.\u001b[0m\u001b[0msend\u001b[0m\u001b[1;33m(\u001b[0m\u001b[0mrequest\u001b[0m\u001b[1;33m,\u001b[0m \u001b[1;33m**\u001b[0m\u001b[0mkwargs\u001b[0m\u001b[1;33m)\u001b[0m\u001b[1;33m\u001b[0m\u001b[1;33m\u001b[0m\u001b[0m\n\u001b[0m\u001b[0;32m    647\u001b[0m \u001b[1;33m\u001b[0m\u001b[0m\n\u001b[0;32m    648\u001b[0m         \u001b[1;31m# Total elapsed time of the request (approximately)\u001b[0m\u001b[1;33m\u001b[0m\u001b[1;33m\u001b[0m\u001b[1;33m\u001b[0m\u001b[0m\n",
      "\u001b[1;32m~\\Anaconda3\\lib\\site-packages\\requests\\adapters.py\u001b[0m in \u001b[0;36msend\u001b[1;34m(self, request, stream, timeout, verify, cert, proxies)\u001b[0m\n\u001b[0;32m    496\u001b[0m \u001b[1;33m\u001b[0m\u001b[0m\n\u001b[0;32m    497\u001b[0m         \u001b[1;32mexcept\u001b[0m \u001b[1;33m(\u001b[0m\u001b[0mProtocolError\u001b[0m\u001b[1;33m,\u001b[0m \u001b[0msocket\u001b[0m\u001b[1;33m.\u001b[0m\u001b[0merror\u001b[0m\u001b[1;33m)\u001b[0m \u001b[1;32mas\u001b[0m \u001b[0merr\u001b[0m\u001b[1;33m:\u001b[0m\u001b[1;33m\u001b[0m\u001b[1;33m\u001b[0m\u001b[0m\n\u001b[1;32m--> 498\u001b[1;33m             \u001b[1;32mraise\u001b[0m \u001b[0mConnectionError\u001b[0m\u001b[1;33m(\u001b[0m\u001b[0merr\u001b[0m\u001b[1;33m,\u001b[0m \u001b[0mrequest\u001b[0m\u001b[1;33m=\u001b[0m\u001b[0mrequest\u001b[0m\u001b[1;33m)\u001b[0m\u001b[1;33m\u001b[0m\u001b[1;33m\u001b[0m\u001b[0m\n\u001b[0m\u001b[0;32m    499\u001b[0m \u001b[1;33m\u001b[0m\u001b[0m\n\u001b[0;32m    500\u001b[0m         \u001b[1;32mexcept\u001b[0m \u001b[0mMaxRetryError\u001b[0m \u001b[1;32mas\u001b[0m \u001b[0me\u001b[0m\u001b[1;33m:\u001b[0m\u001b[1;33m\u001b[0m\u001b[1;33m\u001b[0m\u001b[0m\n",
      "\u001b[1;31mConnectionError\u001b[0m: ('Connection aborted.', RemoteDisconnected('Remote end closed connection without response'))"
     ]
    }
   ],
   "source": [
    "taxaFoundInCountry = []\n",
    "\n",
    "for GBIFtaxon in taxaFound.iterrows():\n",
    "    #print(GBIFtaxon[1]['usageKey'])\n",
    "    #print('{0} found {1} time in Belgium.'.format(GBIFtaxon,speciesCountInGBIF(GBIFtaxon,country)))\n",
    "    GBIFOccCount = speciesCountInGBIF(GBIFtaxon[1]['usageKey'],country)\n",
    "    if GBIFOccCount > thresholdForOccNum: # The threshold for observations is not greater than one, due to all the casual records\n",
    "        taxaFoundInCountry.append({'key': GBIFtaxon[1]['usageKey'], 'species': GBIFtaxon[1]['canonicalName'], 'count': GBIFOccCount})\n",
    "        "
   ]
  },
  {
   "cell_type": "code",
   "execution_count": null,
   "metadata": {},
   "outputs": [],
   "source": [
    "# Convert to a Pandas dataframe\n",
    "taxaFoundInCountry = pd.DataFrame(taxaFoundInCountry)    "
   ]
  },
  {
   "cell_type": "code",
   "execution_count": null,
   "metadata": {},
   "outputs": [],
   "source": [
    "print(\"The number of species left in the network is {0}\".format(len(taxaFoundInCountry)))"
   ]
  },
  {
   "cell_type": "code",
   "execution_count": null,
   "metadata": {},
   "outputs": [],
   "source": [
    "taxaFoundInCountry"
   ]
  },
  {
   "cell_type": "markdown",
   "metadata": {},
   "source": [
    "## Drawing a network of the interactions\n",
    "\n",
    "Now that I have a list of all the species in the country I can use this as my nodes list for the network diagram."
   ]
  },
  {
   "cell_type": "code",
   "execution_count": null,
   "metadata": {},
   "outputs": [],
   "source": [
    "#networkx seems to be a leading network tool in Python\n",
    "import networkx as nx\n",
    "import matplotlib.pyplot as plt"
   ]
  },
  {
   "cell_type": "code",
   "execution_count": null,
   "metadata": {},
   "outputs": [],
   "source": [
    "# Create graphic object\n",
    "G = nx.DiGraph()"
   ]
  },
  {
   "cell_type": "code",
   "execution_count": null,
   "metadata": {},
   "outputs": [],
   "source": [
    "# Match colours to interactions to distinguish them on the graph\n",
    "colorInteractions = {'interaction':['pollinates', 'mutualistOf', 'eats', 'visitsFlowersOf', 'hasHost', 'parasiteOf', 'pathogenOf'],\n",
    "        'colour':['r', 'g', 'b', 'y', 'm', 'w', 'c']}  \n",
    "\n",
    "colorInteractionsDf = pd.DataFrame(colorInteractions)\n",
    "\n",
    "len(list(G.nodes))"
   ]
  },
  {
   "cell_type": "code",
   "execution_count": null,
   "metadata": {},
   "outputs": [],
   "source": [
    "cleanInteractDataTaxon"
   ]
  },
  {
   "cell_type": "code",
   "execution_count": null,
   "metadata": {},
   "outputs": [],
   "source": [
    "# iterate over rows with iterrows()\n",
    "for index, row in taxaFoundInCountry.iterrows():\n",
    "     # access data using column names\n",
    "    print(row['species'], row['count'], row['key'])\n",
    "    G.add_node(row['species'])\n",
    "    #G.add_node(row['targetTaxonName'])\n",
    "    #print(colorInteractionsDf[colorInteractionsDf.interaction == row['interactionTypeName']].iloc[:,1])\n",
    "    #G.add_edge(row['targetTaxonName'], row['sourceTaxonName'], label = row['interactionTypeName'])\n",
    "    for edge in cleanInteractDataTaxon.iterrows():\n",
    "        if row['species'] == edge[1]['sourceTaxonName']:\n",
    "            #print(edge[1]['sourceTaxonName'], edge[1]['targetTaxonName'],row['species'])\n",
    "            for index2, row2 in taxaFoundInCountry.iterrows():\n",
    "                #print(row2['species'])\n",
    "                if row2['species'] == edge[1]['targetTaxonName']: \n",
    "                    print(edge[1]['sourceTaxonName'],row2['species'])\n",
    "                    G.add_edge(edge[1]['sourceTaxonName'], row2['species'], label = edge[1]['interactionTypeName'])\n",
    "            #if row['species'] == edge[1]['sourceTaxonName']:\n",
    "            #    #print(edge[1]['sourceTaxonName'],row['species'])\n",
    "            #    G.add_edge(edge[1]['targetTaxonName'], edge[1]['sourceTaxonName'], label = edge[1]['interactionTypeName'])"
   ]
  },
  {
   "cell_type": "code",
   "execution_count": null,
   "metadata": {},
   "outputs": [],
   "source": [
    "# iterate over rows with iterrows()\n",
    "for index, row in taxaFoundInCountry.iterrows():\n",
    "    for edge in cleanInteractDataTaxon.iterrows():\n",
    "        if row['species'] == edge[1]['targetTaxonName']:\n",
    "            #print(edge[1]['sourceTaxonName'], edge[1]['targetTaxonName'],row['species'])\n",
    "            for index2, row2 in taxaFoundInCountry.iterrows():\n",
    "                #print(row2['species'])\n",
    "                if row2['species'] == edge[1]['sourceTaxonName']: \n",
    "                    print(edge[1]['targetTaxonName'],row2['species'])\n",
    "                    G.add_edge(row2['species'], edge[1]['targetTaxonName'], label = edge[1]['interactionTypeName'])"
   ]
  },
  {
   "cell_type": "code",
   "execution_count": null,
   "metadata": {},
   "outputs": [],
   "source": [
    "print(\"Number of nodes = {0}\".format(G.number_of_nodes()))\n",
    "print(\"Number of edges = {0}\".format(G.number_of_edges()))"
   ]
  },
  {
   "cell_type": "code",
   "execution_count": null,
   "metadata": {},
   "outputs": [],
   "source": [
    "list(G.nodes)"
   ]
  },
  {
   "cell_type": "code",
   "execution_count": null,
   "metadata": {},
   "outputs": [],
   "source": [
    "list(G.edges)"
   ]
  },
  {
   "cell_type": "markdown",
   "metadata": {},
   "source": [
    "## A network of all the interacting taxa"
   ]
  },
  {
   "cell_type": "code",
   "execution_count": null,
   "metadata": {},
   "outputs": [],
   "source": [
    "plt.figure(figsize=(15,20))\n",
    "edge_labels = nx.get_edge_attributes(G,'label')\n",
    "\n",
    "pos = nx.spring_layout(G, iterations=5, k=50) \n",
    "#pos = nx.random_layout(G)\n",
    "#pos = nx.circular_layout(G)\n",
    "#pos = nx.spectral_layout(G)\n",
    "#pos = nx.shell_layout(G, scale=1)\n",
    "\n",
    "#nodeColors = nx.get_node_attributes(G,'color')\n",
    "\n",
    "nx.draw_networkx_edge_labels(G,pos, edge_labels = edge_labels, font_size=10, font_color='blue')\n",
    "\n",
    "#nx.draw_networkx_nodes(G, pos, node_color=nodeColors.values())\n",
    "\n",
    "nx.draw_networkx(G, pos, with_labels=True, node_size=100, node_color='c', alpha= 1, arrows=True, \n",
    "                    linewidths=1, font_color=\"black\", font_size=10, style = 'dashed')\n",
    "\n",
    "plt.axis('off')\n",
    "plt.tight_layout()\n",
    "plt.show()"
   ]
  },
  {
   "cell_type": "code",
   "execution_count": null,
   "metadata": {},
   "outputs": [],
   "source": [
    "G.adj[0]"
   ]
  },
  {
   "cell_type": "code",
   "execution_count": null,
   "metadata": {},
   "outputs": [],
   "source": [
    "nx.degree(G)"
   ]
  },
  {
   "cell_type": "code",
   "execution_count": null,
   "metadata": {},
   "outputs": [],
   "source": [
    "taxaFoundInCountry"
   ]
  },
  {
   "cell_type": "code",
   "execution_count": null,
   "metadata": {},
   "outputs": [],
   "source": [
    "taxaFoundInCountry"
   ]
  },
  {
   "cell_type": "code",
   "execution_count": null,
   "metadata": {},
   "outputs": [],
   "source": [
    "filename = \"waste.csv\"\n",
    "cleanInteractDataTaxon.to_csv (filename, index = True, header=True) "
   ]
  },
  {
   "cell_type": "code",
   "execution_count": null,
   "metadata": {},
   "outputs": [],
   "source": [
    "nx.path_graph(10)"
   ]
  },
  {
   "cell_type": "code",
   "execution_count": null,
   "metadata": {},
   "outputs": [],
   "source": [
    "list(H.nodes)"
   ]
  },
  {
   "cell_type": "code",
   "execution_count": null,
   "metadata": {},
   "outputs": [],
   "source": []
  }
 ],
 "metadata": {
  "kernelspec": {
   "display_name": "Python 3",
   "language": "python",
   "name": "python3"
  },
  "language_info": {
   "codemirror_mode": {
    "name": "ipython",
    "version": 3
   },
   "file_extension": ".py",
   "mimetype": "text/x-python",
   "name": "python",
   "nbconvert_exporter": "python",
   "pygments_lexer": "ipython3",
   "version": "3.7.4"
  }
 },
 "nbformat": 4,
 "nbformat_minor": 2
}
