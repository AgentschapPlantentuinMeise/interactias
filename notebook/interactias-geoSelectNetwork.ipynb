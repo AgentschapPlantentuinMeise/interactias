{
 "cells": [
  {
   "cell_type": "markdown",
   "metadata": {},
   "source": [
    "# Interactias Geo Selected Network\n",
    "\n",
    "One way of examining the impact of invasive species is to look at all their interactions and the interations those organisms have with each other. This full interaction network gives you a good idea whether a species might be a \"keystone\" species \n",
    "\n",
    "The networks create from all interacting species globally can be misleading, because not all members of the network live in one place. The next step is to filter the species in the network geographically, just to find the interactions that might occur in an area.\n",
    "\n",
    "I will harvest species interactions data from GLOBI (https://www.globalbioticinteractions.org/) to discover the species that interact with an invasive species.\n",
    "I will then harvest all the interactions for those species to create two tiers of interactions.\n",
    "I will then count all the occurences of these in species in GBIF for an area.\n",
    "I will then create a network diagram to visualize this.\n",
    "\n",
    "This notebook takes considerable insperation and code from Yikang Li's project on GLoBI (https://curiositydata.org/part1_globi_access/)."
   ]
  },
  {
   "cell_type": "code",
   "execution_count": 160,
   "metadata": {},
   "outputs": [
    {
     "name": "stdout",
     "output_type": "stream",
     "text": [
      "3.7.4 (default, Aug  9 2019, 18:34:13) [MSC v.1915 64 bit (AMD64)]\n"
     ]
    }
   ],
   "source": [
    "import sys\n",
    "print(sys.version)\n",
    "\n",
    "#Python 3.7.4 (default, Aug 9 2019, 18:34:13) [MSC v.1915 64 bit (AMD64)]\n",
    "#pygbif 0.3.0"
   ]
  },
  {
   "cell_type": "code",
   "execution_count": 72,
   "metadata": {},
   "outputs": [],
   "source": [
    "import pandas as pd\n",
    "import re\n",
    "import matplotlib.pyplot as plt\n",
    "from pygbif import species\n",
    "from pygbif import occurrences as occ"
   ]
  },
  {
   "cell_type": "markdown",
   "metadata": {},
   "source": [
    "## Load the GLoBI data\n",
    "\n",
    "The current snapshot of GLoBI was taken on 2019-11-05 from https://depot.globalbioticinteractions.org/snapshot/target/data/tsv/interactions.tsv.gz\n"
   ]
  },
  {
   "cell_type": "code",
   "execution_count": 73,
   "metadata": {},
   "outputs": [
    {
     "data": {
      "text/plain": [
       "3878740"
      ]
     },
     "execution_count": 73,
     "metadata": {},
     "output_type": "execute_result"
    }
   ],
   "source": [
    "# This takes a few minutes to load in.\n",
    "# the low_memory=False property will get rid of a warning, but will not help if there is really no memory left\n",
    "data = pd.read_csv('C://Users//quentin//Documents//interactias//interactias//data//interactions.tsv', delimiter='\\t', encoding='utf-8', low_memory=False)\n",
    "len(data)"
   ]
  },
  {
   "cell_type": "code",
   "execution_count": 74,
   "metadata": {},
   "outputs": [
    {
     "data": {
      "text/html": [
       "<div>\n",
       "<style scoped>\n",
       "    .dataframe tbody tr th:only-of-type {\n",
       "        vertical-align: middle;\n",
       "    }\n",
       "\n",
       "    .dataframe tbody tr th {\n",
       "        vertical-align: top;\n",
       "    }\n",
       "\n",
       "    .dataframe thead th {\n",
       "        text-align: right;\n",
       "    }\n",
       "</style>\n",
       "<table border=\"1\" class=\"dataframe\">\n",
       "  <thead>\n",
       "    <tr style=\"text-align: right;\">\n",
       "      <th></th>\n",
       "      <th>sourceTaxonId</th>\n",
       "      <th>sourceTaxonIds</th>\n",
       "      <th>sourceTaxonName</th>\n",
       "      <th>sourceTaxonRank</th>\n",
       "      <th>sourceTaxonPathNames</th>\n",
       "      <th>sourceTaxonPathIds</th>\n",
       "      <th>sourceTaxonPathRankNames</th>\n",
       "      <th>sourceTaxonSpeciesName</th>\n",
       "      <th>sourceTaxonSpeciesId</th>\n",
       "      <th>sourceTaxonGenusName</th>\n",
       "      <th>...</th>\n",
       "      <th>eventDateUnixEpoch</th>\n",
       "      <th>argumentTypeId</th>\n",
       "      <th>referenceCitation</th>\n",
       "      <th>referenceDoi</th>\n",
       "      <th>referenceUrl</th>\n",
       "      <th>sourceCitation</th>\n",
       "      <th>sourceNamespace</th>\n",
       "      <th>sourceArchiveURI</th>\n",
       "      <th>sourceDOI</th>\n",
       "      <th>sourceLastSeenAtUnixEpoch</th>\n",
       "    </tr>\n",
       "  </thead>\n",
       "  <tbody>\n",
       "    <tr>\n",
       "      <td>0</td>\n",
       "      <td>EOL:12001247</td>\n",
       "      <td>EOL:12001247 | OTT:133330 | IRMNG:11733708 | N...</td>\n",
       "      <td>Leptoconchus massini</td>\n",
       "      <td>species</td>\n",
       "      <td>Animalia | Mollusca | Gastropoda | Neogastropo...</td>\n",
       "      <td>EOL:1 | EOL:2195 | EOL:2366 | EOL:2447 | EOL:4...</td>\n",
       "      <td>kingdom | phylum | class | order | superfamily...</td>\n",
       "      <td>Leptoconchus massini</td>\n",
       "      <td>EOL:12001247</td>\n",
       "      <td>Leptoconchus</td>\n",
       "      <td>...</td>\n",
       "      <td>NaN</td>\n",
       "      <td>https://en.wiktionary.org/wiki/support</td>\n",
       "      <td>Gittenberger, A., Gittenberger, E. (2011). Cry...</td>\n",
       "      <td>10.1007/s13127-011-0039-1</td>\n",
       "      <td>NaN</td>\n",
       "      <td>Jorrit H. Poelen. 2014. Species associations m...</td>\n",
       "      <td>FloraVincent/template-dataset</td>\n",
       "      <td>https://github.com/FloraVincent/template-datas...</td>\n",
       "      <td>NaN</td>\n",
       "      <td>2019-03-30T23:08:44.205Z</td>\n",
       "    </tr>\n",
       "    <tr>\n",
       "      <td>1</td>\n",
       "      <td>EOL:12001247</td>\n",
       "      <td>EOL:12001247 | OTT:133330 | IRMNG:11733708 | N...</td>\n",
       "      <td>Leptoconchus massini</td>\n",
       "      <td>species</td>\n",
       "      <td>Animalia | Mollusca | Gastropoda | Neogastropo...</td>\n",
       "      <td>EOL:1 | EOL:2195 | EOL:2366 | EOL:2447 | EOL:4...</td>\n",
       "      <td>kingdom | phylum | class | order | superfamily...</td>\n",
       "      <td>Leptoconchus massini</td>\n",
       "      <td>EOL:12001247</td>\n",
       "      <td>Leptoconchus</td>\n",
       "      <td>...</td>\n",
       "      <td>NaN</td>\n",
       "      <td>https://en.wiktionary.org/wiki/support</td>\n",
       "      <td>Gittenberger, A., Gittenberger, E. (2011). Cry...</td>\n",
       "      <td>10.1007/s13127-011-0039-1</td>\n",
       "      <td>NaN</td>\n",
       "      <td>Jorrit H. Poelen. 2014. Species associations m...</td>\n",
       "      <td>FloraVincent/template-dataset</td>\n",
       "      <td>https://github.com/FloraVincent/template-datas...</td>\n",
       "      <td>NaN</td>\n",
       "      <td>2019-03-30T23:08:44.205Z</td>\n",
       "    </tr>\n",
       "    <tr>\n",
       "      <td>2</td>\n",
       "      <td>EOL:12001243</td>\n",
       "      <td>EOL:12001243 | WD:Q13393577 | OTT:550603 | WOR...</td>\n",
       "      <td>Leptoconchus inpleuractis</td>\n",
       "      <td>species</td>\n",
       "      <td>Animalia | Mollusca | Gastropoda | Neogastropo...</td>\n",
       "      <td>EOL:1 | EOL:2195 | EOL:2366 | EOL:2447 | EOL:4...</td>\n",
       "      <td>kingdom | phylum | class | order | superfamily...</td>\n",
       "      <td>Leptoconchus inpleuractis</td>\n",
       "      <td>EOL:12001243</td>\n",
       "      <td>Leptoconchus</td>\n",
       "      <td>...</td>\n",
       "      <td>NaN</td>\n",
       "      <td>https://en.wiktionary.org/wiki/support</td>\n",
       "      <td>Gittenberger, A., Gittenberger, E. (2011). Cry...</td>\n",
       "      <td>10.1007/s13127-011-0039-1</td>\n",
       "      <td>NaN</td>\n",
       "      <td>Jorrit H. Poelen. 2014. Species associations m...</td>\n",
       "      <td>FloraVincent/template-dataset</td>\n",
       "      <td>https://github.com/FloraVincent/template-datas...</td>\n",
       "      <td>NaN</td>\n",
       "      <td>2019-03-30T23:08:44.205Z</td>\n",
       "    </tr>\n",
       "    <tr>\n",
       "      <td>3</td>\n",
       "      <td>EOL:12001243</td>\n",
       "      <td>EOL:12001243 | WD:Q13393577 | OTT:550603 | WOR...</td>\n",
       "      <td>Leptoconchus inpleuractis</td>\n",
       "      <td>species</td>\n",
       "      <td>Animalia | Mollusca | Gastropoda | Neogastropo...</td>\n",
       "      <td>EOL:1 | EOL:2195 | EOL:2366 | EOL:2447 | EOL:4...</td>\n",
       "      <td>kingdom | phylum | class | order | superfamily...</td>\n",
       "      <td>Leptoconchus inpleuractis</td>\n",
       "      <td>EOL:12001243</td>\n",
       "      <td>Leptoconchus</td>\n",
       "      <td>...</td>\n",
       "      <td>NaN</td>\n",
       "      <td>https://en.wiktionary.org/wiki/support</td>\n",
       "      <td>Gittenberger, A., Gittenberger, E. (2011). Cry...</td>\n",
       "      <td>10.1007/s13127-011-0039-1</td>\n",
       "      <td>NaN</td>\n",
       "      <td>Jorrit H. Poelen. 2014. Species associations m...</td>\n",
       "      <td>FloraVincent/template-dataset</td>\n",
       "      <td>https://github.com/FloraVincent/template-datas...</td>\n",
       "      <td>NaN</td>\n",
       "      <td>2019-03-30T23:08:44.205Z</td>\n",
       "    </tr>\n",
       "    <tr>\n",
       "      <td>4</td>\n",
       "      <td>EOL:12001243</td>\n",
       "      <td>EOL:12001243 | WD:Q13393577 | OTT:550603 | WOR...</td>\n",
       "      <td>Leptoconchus inpleuractis</td>\n",
       "      <td>species</td>\n",
       "      <td>Animalia | Mollusca | Gastropoda | Neogastropo...</td>\n",
       "      <td>EOL:1 | EOL:2195 | EOL:2366 | EOL:2447 | EOL:4...</td>\n",
       "      <td>kingdom | phylum | class | order | superfamily...</td>\n",
       "      <td>Leptoconchus inpleuractis</td>\n",
       "      <td>EOL:12001243</td>\n",
       "      <td>Leptoconchus</td>\n",
       "      <td>...</td>\n",
       "      <td>NaN</td>\n",
       "      <td>https://en.wiktionary.org/wiki/support</td>\n",
       "      <td>Gittenberger, A., Gittenberger, E. (2011). Cry...</td>\n",
       "      <td>10.1007/s13127-011-0039-1</td>\n",
       "      <td>NaN</td>\n",
       "      <td>Jorrit H. Poelen. 2014. Species associations m...</td>\n",
       "      <td>FloraVincent/template-dataset</td>\n",
       "      <td>https://github.com/FloraVincent/template-datas...</td>\n",
       "      <td>NaN</td>\n",
       "      <td>2019-03-30T23:08:44.205Z</td>\n",
       "    </tr>\n",
       "  </tbody>\n",
       "</table>\n",
       "<p>5 rows × 80 columns</p>\n",
       "</div>"
      ],
      "text/plain": [
       "  sourceTaxonId                                     sourceTaxonIds  \\\n",
       "0  EOL:12001247  EOL:12001247 | OTT:133330 | IRMNG:11733708 | N...   \n",
       "1  EOL:12001247  EOL:12001247 | OTT:133330 | IRMNG:11733708 | N...   \n",
       "2  EOL:12001243  EOL:12001243 | WD:Q13393577 | OTT:550603 | WOR...   \n",
       "3  EOL:12001243  EOL:12001243 | WD:Q13393577 | OTT:550603 | WOR...   \n",
       "4  EOL:12001243  EOL:12001243 | WD:Q13393577 | OTT:550603 | WOR...   \n",
       "\n",
       "             sourceTaxonName sourceTaxonRank  \\\n",
       "0       Leptoconchus massini         species   \n",
       "1       Leptoconchus massini         species   \n",
       "2  Leptoconchus inpleuractis         species   \n",
       "3  Leptoconchus inpleuractis         species   \n",
       "4  Leptoconchus inpleuractis         species   \n",
       "\n",
       "                                sourceTaxonPathNames  \\\n",
       "0  Animalia | Mollusca | Gastropoda | Neogastropo...   \n",
       "1  Animalia | Mollusca | Gastropoda | Neogastropo...   \n",
       "2  Animalia | Mollusca | Gastropoda | Neogastropo...   \n",
       "3  Animalia | Mollusca | Gastropoda | Neogastropo...   \n",
       "4  Animalia | Mollusca | Gastropoda | Neogastropo...   \n",
       "\n",
       "                                  sourceTaxonPathIds  \\\n",
       "0  EOL:1 | EOL:2195 | EOL:2366 | EOL:2447 | EOL:4...   \n",
       "1  EOL:1 | EOL:2195 | EOL:2366 | EOL:2447 | EOL:4...   \n",
       "2  EOL:1 | EOL:2195 | EOL:2366 | EOL:2447 | EOL:4...   \n",
       "3  EOL:1 | EOL:2195 | EOL:2366 | EOL:2447 | EOL:4...   \n",
       "4  EOL:1 | EOL:2195 | EOL:2366 | EOL:2447 | EOL:4...   \n",
       "\n",
       "                            sourceTaxonPathRankNames  \\\n",
       "0  kingdom | phylum | class | order | superfamily...   \n",
       "1  kingdom | phylum | class | order | superfamily...   \n",
       "2  kingdom | phylum | class | order | superfamily...   \n",
       "3  kingdom | phylum | class | order | superfamily...   \n",
       "4  kingdom | phylum | class | order | superfamily...   \n",
       "\n",
       "      sourceTaxonSpeciesName sourceTaxonSpeciesId sourceTaxonGenusName  ...  \\\n",
       "0       Leptoconchus massini         EOL:12001247         Leptoconchus  ...   \n",
       "1       Leptoconchus massini         EOL:12001247         Leptoconchus  ...   \n",
       "2  Leptoconchus inpleuractis         EOL:12001243         Leptoconchus  ...   \n",
       "3  Leptoconchus inpleuractis         EOL:12001243         Leptoconchus  ...   \n",
       "4  Leptoconchus inpleuractis         EOL:12001243         Leptoconchus  ...   \n",
       "\n",
       "  eventDateUnixEpoch                          argumentTypeId  \\\n",
       "0                NaN  https://en.wiktionary.org/wiki/support   \n",
       "1                NaN  https://en.wiktionary.org/wiki/support   \n",
       "2                NaN  https://en.wiktionary.org/wiki/support   \n",
       "3                NaN  https://en.wiktionary.org/wiki/support   \n",
       "4                NaN  https://en.wiktionary.org/wiki/support   \n",
       "\n",
       "                                   referenceCitation  \\\n",
       "0  Gittenberger, A., Gittenberger, E. (2011). Cry...   \n",
       "1  Gittenberger, A., Gittenberger, E. (2011). Cry...   \n",
       "2  Gittenberger, A., Gittenberger, E. (2011). Cry...   \n",
       "3  Gittenberger, A., Gittenberger, E. (2011). Cry...   \n",
       "4  Gittenberger, A., Gittenberger, E. (2011). Cry...   \n",
       "\n",
       "                referenceDoi referenceUrl  \\\n",
       "0  10.1007/s13127-011-0039-1          NaN   \n",
       "1  10.1007/s13127-011-0039-1          NaN   \n",
       "2  10.1007/s13127-011-0039-1          NaN   \n",
       "3  10.1007/s13127-011-0039-1          NaN   \n",
       "4  10.1007/s13127-011-0039-1          NaN   \n",
       "\n",
       "                                      sourceCitation  \\\n",
       "0  Jorrit H. Poelen. 2014. Species associations m...   \n",
       "1  Jorrit H. Poelen. 2014. Species associations m...   \n",
       "2  Jorrit H. Poelen. 2014. Species associations m...   \n",
       "3  Jorrit H. Poelen. 2014. Species associations m...   \n",
       "4  Jorrit H. Poelen. 2014. Species associations m...   \n",
       "\n",
       "                 sourceNamespace  \\\n",
       "0  FloraVincent/template-dataset   \n",
       "1  FloraVincent/template-dataset   \n",
       "2  FloraVincent/template-dataset   \n",
       "3  FloraVincent/template-dataset   \n",
       "4  FloraVincent/template-dataset   \n",
       "\n",
       "                                    sourceArchiveURI sourceDOI  \\\n",
       "0  https://github.com/FloraVincent/template-datas...       NaN   \n",
       "1  https://github.com/FloraVincent/template-datas...       NaN   \n",
       "2  https://github.com/FloraVincent/template-datas...       NaN   \n",
       "3  https://github.com/FloraVincent/template-datas...       NaN   \n",
       "4  https://github.com/FloraVincent/template-datas...       NaN   \n",
       "\n",
       "  sourceLastSeenAtUnixEpoch  \n",
       "0  2019-03-30T23:08:44.205Z  \n",
       "1  2019-03-30T23:08:44.205Z  \n",
       "2  2019-03-30T23:08:44.205Z  \n",
       "3  2019-03-30T23:08:44.205Z  \n",
       "4  2019-03-30T23:08:44.205Z  \n",
       "\n",
       "[5 rows x 80 columns]"
      ]
     },
     "execution_count": 74,
     "metadata": {},
     "output_type": "execute_result"
    }
   ],
   "source": [
    "# Take a little look at the data to make sure it makes sense\n",
    "data.head()"
   ]
  },
  {
   "cell_type": "markdown",
   "metadata": {},
   "source": [
    "## Drop duplicates\n",
    "\n",
    "This line gets rid of duplicate interations. I currently can't see a reason to keep them, but this perhaps should be checked. \n",
    "Some more common interactions might have more support in the literature and therefore more records. Deduplicating them tends to equal out rare interactions with common ones."
   ]
  },
  {
   "cell_type": "code",
   "execution_count": 75,
   "metadata": {},
   "outputs": [],
   "source": [
    "data.drop_duplicates(['sourceTaxonName', 'interactionTypeName', 'targetTaxonName'], inplace = True)"
   ]
  },
  {
   "cell_type": "code",
   "execution_count": 76,
   "metadata": {},
   "outputs": [
    {
     "data": {
      "text/plain": [
       "1103723"
      ]
     },
     "execution_count": 76,
     "metadata": {},
     "output_type": "execute_result"
    }
   ],
   "source": [
    "## Check how many rows are left\n",
    "len(data)"
   ]
  },
  {
   "cell_type": "markdown",
   "metadata": {},
   "source": [
    "## Remove ranks that are not species\n",
    "Many entries in GLoBI are non-specific interations at a high taxonomic level. For example, roses are visited by bees.\n",
    "I have chossen to remove these interactions from the study, at least preliminarly"
   ]
  },
  {
   "cell_type": "code",
   "execution_count": 77,
   "metadata": {},
   "outputs": [],
   "source": [
    "data.drop(data[data['sourceTaxonRank'] != 'species'].index, inplace = True)\n",
    "data.drop(data[data['targetTaxonRank'] != 'species'].index, inplace = True)"
   ]
  },
  {
   "cell_type": "code",
   "execution_count": 78,
   "metadata": {},
   "outputs": [
    {
     "data": {
      "text/plain": [
       "536018"
      ]
     },
     "execution_count": 78,
     "metadata": {},
     "output_type": "execute_result"
    }
   ],
   "source": [
    "## Check how many rows are left\n",
    "len(data)"
   ]
  },
  {
   "cell_type": "markdown",
   "metadata": {},
   "source": [
    "## Remove \"interactsWith\"\n",
    "There are many vague interactions with the term interactsWith. These aren't really that useful, because it could be any kind of interaction, positive or negative, direct or indirect."
   ]
  },
  {
   "cell_type": "code",
   "execution_count": 79,
   "metadata": {},
   "outputs": [
    {
     "data": {
      "text/plain": [
       "394573"
      ]
     },
     "execution_count": 79,
     "metadata": {},
     "output_type": "execute_result"
    }
   ],
   "source": [
    "data = data[data.interactionTypeName != 'interactsWith']\n",
    "\n",
    "len(data)"
   ]
  },
  {
   "cell_type": "markdown",
   "metadata": {},
   "source": [
    "## Define the key taxon for the notebook for which to find all interactions\n"
   ]
  },
  {
   "cell_type": "code",
   "execution_count": 157,
   "metadata": {},
   "outputs": [],
   "source": [
    "taxon = \"Oxalis corniculata\"\n",
    "#taxon = \"Oxalis pes-caprae\"\n",
    "#taxon = \"Lantanophaga pusillidactyla\"\n",
    "#taxon = \"Lantana camara\"\n",
    "#taxon = \"Cirsium vulgare\"\n",
    "#taxon = \"Procyon lotor\" # raccoon\n",
    "#taxon = \"not exist\"\n",
    "#taxon = \"Sciurus carolinensis\" # Eastern grey squirrel"
   ]
  },
  {
   "cell_type": "code",
   "execution_count": 245,
   "metadata": {},
   "outputs": [],
   "source": [
    "## Define the country of interest"
   ]
  },
  {
   "cell_type": "code",
   "execution_count": 246,
   "metadata": {},
   "outputs": [],
   "source": [
    "country  = 'BE' #Belgium"
   ]
  },
  {
   "cell_type": "markdown",
   "metadata": {},
   "source": [
    "## Check to see if the taxon exits in GBIF"
   ]
  },
  {
   "cell_type": "code",
   "execution_count": 158,
   "metadata": {},
   "outputs": [
    {
     "name": "stdout",
     "output_type": "stream",
     "text": [
      "Taxon not found on GBIF\n"
     ]
    }
   ],
   "source": [
    "try:\n",
    "    key = species.name_suggest(q=taxon, limit = 1)\n",
    "    #print(key)\n",
    "    \n",
    "    if len(key) == 0:\n",
    "        raise ValueError(\"Taxon not found on GBIF\")\n",
    "except ValueError as ve:\n",
    "    print(ve)\n",
    "    exit(1)\n",
    "\n",
    "\n"
   ]
  },
  {
   "cell_type": "code",
   "execution_count": 82,
   "metadata": {},
   "outputs": [
    {
     "name": "stdout",
     "output_type": "stream",
     "text": [
      "The taxon to be studied is Lantana camara L.\n"
     ]
    }
   ],
   "source": [
    "print('The taxon to be studied is ' + key[0]['scientificName'])"
   ]
  },
  {
   "cell_type": "code",
   "execution_count": 17,
   "metadata": {},
   "outputs": [
    {
     "data": {
      "text/plain": [
       "array(['visitsFlowersOf', 'pollinates', 'hasDispersalVector'],\n",
       "      dtype=object)"
      ]
     },
     "execution_count": 17,
     "metadata": {},
     "output_type": "execute_result"
    }
   ],
   "source": [
    "# What are all the types of interactions involving taxon as source taxon?\n",
    "data[data['sourceTaxonName'] == taxon]['interactionTypeName'].unique()"
   ]
  },
  {
   "cell_type": "code",
   "execution_count": 83,
   "metadata": {},
   "outputs": [
    {
     "data": {
      "text/plain": [
       "array(['eats', 'visitsFlowersOf', 'dispersalVectorOf', 'hasHost',\n",
       "       'parasiteOf', 'mutualistOf', 'pollinates'], dtype=object)"
      ]
     },
     "execution_count": 83,
     "metadata": {},
     "output_type": "execute_result"
    }
   ],
   "source": [
    "# What are all the types of interactions involving taxon as target taxon?\n",
    "data[data['targetTaxonName'] == taxon]['interactionTypeName'].unique()"
   ]
  },
  {
   "cell_type": "markdown",
   "metadata": {},
   "source": [
    "How many taxon sources do I have?"
   ]
  },
  {
   "cell_type": "code",
   "execution_count": 84,
   "metadata": {},
   "outputs": [
    {
     "data": {
      "text/plain": [
       "49"
      ]
     },
     "execution_count": 84,
     "metadata": {},
     "output_type": "execute_result"
    }
   ],
   "source": [
    "len(data[data['sourceTaxonName'] == taxon])"
   ]
  },
  {
   "cell_type": "markdown",
   "metadata": {},
   "source": [
    "How many taxon targets do I have?"
   ]
  },
  {
   "cell_type": "code",
   "execution_count": 85,
   "metadata": {},
   "outputs": [
    {
     "data": {
      "text/plain": [
       "272"
      ]
     },
     "execution_count": 85,
     "metadata": {},
     "output_type": "execute_result"
    }
   ],
   "source": [
    "len(data[data['targetTaxonName'] == taxon])"
   ]
  },
  {
   "cell_type": "markdown",
   "metadata": {},
   "source": [
    "Gather together all the data where the target is the taxon in question."
   ]
  },
  {
   "cell_type": "code",
   "execution_count": 86,
   "metadata": {},
   "outputs": [
    {
     "data": {
      "text/plain": [
       "Index(['sourceTaxonId', 'sourceTaxonIds', 'sourceTaxonName', 'sourceTaxonRank',\n",
       "       'sourceTaxonPathNames', 'sourceTaxonPathIds',\n",
       "       'sourceTaxonPathRankNames', 'sourceTaxonSpeciesName',\n",
       "       'sourceTaxonSpeciesId', 'sourceTaxonGenusName', 'sourceTaxonGenusId',\n",
       "       'sourceTaxonFamilyName', 'sourceTaxonFamilyId', 'sourceTaxonOrderName',\n",
       "       'sourceTaxonOrderId', 'sourceTaxonClassName', 'sourceTaxonClassId',\n",
       "       'sourceTaxonPhylumName', 'sourceTaxonPhylumId',\n",
       "       'sourceTaxonKingdomName', 'sourceTaxonKingdomId', 'sourceId',\n",
       "       'sourceOccurrenceId', 'sourceCatalogNumber', 'sourceBasisOfRecordId',\n",
       "       'sourceBasisOfRecordName', 'sourceLifeStageId', 'sourceLifeStageName',\n",
       "       'sourceBodyPartId', 'sourceBodyPartName', 'sourcePhysiologicalStateId',\n",
       "       'sourcePhysiologicalStateName', 'interactionTypeName',\n",
       "       'interactionTypeId', 'targetTaxonId', 'targetTaxonIds',\n",
       "       'targetTaxonName', 'targetTaxonRank', 'targetTaxonPathNames',\n",
       "       'targetTaxonPathIds', 'targetTaxonPathRankNames',\n",
       "       'targetTaxonSpeciesName', 'targetTaxonSpeciesId',\n",
       "       'targetTaxonGenusName', 'targetTaxonGenusId', 'targetTaxonFamilyName',\n",
       "       'targetTaxonFamilyId', 'targetTaxonOrderName', 'targetTaxonOrderId',\n",
       "       'targetTaxonClassName', 'targetTaxonClassId', 'targetTaxonPhylumName',\n",
       "       'targetTaxonPhylumId', 'targetTaxonKingdomName', 'targetTaxonKingdomId',\n",
       "       'targetId', 'targetOccurrenceId', 'targetCatalogNumber',\n",
       "       'targetBasisOfRecordId', 'targetBasisOfRecordName', 'targetLifeStageId',\n",
       "       'targetLifeStageName', 'targetBodyPartId', 'targetBodyPartName',\n",
       "       'targetPhysiologicalStateId', 'targetPhysiologicalStateName',\n",
       "       'decimalLatitude', 'decimalLongitude', 'localityId', 'localityName',\n",
       "       'eventDateUnixEpoch', 'argumentTypeId', 'referenceCitation',\n",
       "       'referenceDoi', 'referenceUrl', 'sourceCitation', 'sourceNamespace',\n",
       "       'sourceArchiveURI', 'sourceDOI', 'sourceLastSeenAtUnixEpoch'],\n",
       "      dtype='object')"
      ]
     },
     "execution_count": 86,
     "metadata": {},
     "output_type": "execute_result"
    }
   ],
   "source": [
    "# What are the columns of this dataset?\n",
    "data.columns"
   ]
  },
  {
   "cell_type": "markdown",
   "metadata": {},
   "source": [
    "## Simplify the table to make it readable"
   ]
  },
  {
   "cell_type": "markdown",
   "metadata": {},
   "source": [
    "## Get the primary interation data for the species in question"
   ]
  },
  {
   "cell_type": "code",
   "execution_count": 87,
   "metadata": {},
   "outputs": [],
   "source": [
    "    interactDataTaxon = data[data['targetTaxonName'] == taxon]\n",
    "    interactDataTaxon = interactDataTaxon.append(data[data['sourceTaxonName'] == taxon])"
   ]
  },
  {
   "cell_type": "markdown",
   "metadata": {},
   "source": [
    "## Get a list of all the primary interacting species"
   ]
  },
  {
   "cell_type": "code",
   "execution_count": 90,
   "metadata": {},
   "outputs": [],
   "source": [
    "interactingTaxa = pd.DataFrame(interactDataTaxon['sourceTaxonName'].append(interactDataTaxon['targetTaxonName']).unique())"
   ]
  },
  {
   "cell_type": "markdown",
   "metadata": {},
   "source": [
    "## Get all the secondary interactions"
   ]
  },
  {
   "cell_type": "code",
   "execution_count": 91,
   "metadata": {},
   "outputs": [],
   "source": [
    "for name in interactingTaxa:\n",
    "    interactDataTaxon = interactDataTaxon.append(data[data['sourceTaxonName'] == name])"
   ]
  },
  {
   "cell_type": "code",
   "execution_count": 92,
   "metadata": {},
   "outputs": [],
   "source": [
    "    cleanInteractDataTaxon = interactDataTaxon[['sourceTaxonId', 'sourceTaxonName', 'sourceTaxonRank',\n",
    "       'sourceTaxonFamilyName', 'interactionTypeName',\n",
    "       'targetTaxonName','targetTaxonRank',\n",
    "        ]].dropna(subset=['targetTaxonName'])"
   ]
  },
  {
   "cell_type": "code",
   "execution_count": 93,
   "metadata": {},
   "outputs": [
    {
     "data": {
      "text/html": [
       "<div>\n",
       "<style scoped>\n",
       "    .dataframe tbody tr th:only-of-type {\n",
       "        vertical-align: middle;\n",
       "    }\n",
       "\n",
       "    .dataframe tbody tr th {\n",
       "        vertical-align: top;\n",
       "    }\n",
       "\n",
       "    .dataframe thead th {\n",
       "        text-align: right;\n",
       "    }\n",
       "</style>\n",
       "<table border=\"1\" class=\"dataframe\">\n",
       "  <thead>\n",
       "    <tr style=\"text-align: right;\">\n",
       "      <th></th>\n",
       "      <th>sourceTaxonId</th>\n",
       "      <th>sourceTaxonName</th>\n",
       "      <th>sourceTaxonRank</th>\n",
       "      <th>sourceTaxonFamilyName</th>\n",
       "      <th>interactionTypeName</th>\n",
       "      <th>targetTaxonName</th>\n",
       "      <th>targetTaxonRank</th>\n",
       "    </tr>\n",
       "  </thead>\n",
       "  <tbody>\n",
       "    <tr>\n",
       "      <td>206732</td>\n",
       "      <td>EOL_V2:1050136</td>\n",
       "      <td>Streptopelia chinensis</td>\n",
       "      <td>species</td>\n",
       "      <td>Columbidae</td>\n",
       "      <td>eats</td>\n",
       "      <td>Lantana camara</td>\n",
       "      <td>species</td>\n",
       "    </tr>\n",
       "    <tr>\n",
       "      <td>638690</td>\n",
       "      <td>EOL:2757005</td>\n",
       "      <td>Thyreus calceatus</td>\n",
       "      <td>species</td>\n",
       "      <td>Apidae</td>\n",
       "      <td>visitsFlowersOf</td>\n",
       "      <td>Lantana camara</td>\n",
       "      <td>species</td>\n",
       "    </tr>\n",
       "    <tr>\n",
       "      <td>639089</td>\n",
       "      <td>GBIF:1342584</td>\n",
       "      <td>Braunsapis bouyssoui</td>\n",
       "      <td>species</td>\n",
       "      <td>Apidae</td>\n",
       "      <td>visitsFlowersOf</td>\n",
       "      <td>Lantana camara</td>\n",
       "      <td>species</td>\n",
       "    </tr>\n",
       "    <tr>\n",
       "      <td>640953</td>\n",
       "      <td>EOL:2759914</td>\n",
       "      <td>Xylocopa fenestrata</td>\n",
       "      <td>species</td>\n",
       "      <td>Apidae</td>\n",
       "      <td>visitsFlowersOf</td>\n",
       "      <td>Lantana camara</td>\n",
       "      <td>species</td>\n",
       "    </tr>\n",
       "    <tr>\n",
       "      <td>1000508</td>\n",
       "      <td>EOL:326533</td>\n",
       "      <td>Lemur catta</td>\n",
       "      <td>species</td>\n",
       "      <td>Lemuridae</td>\n",
       "      <td>dispersalVectorOf</td>\n",
       "      <td>Lantana camara</td>\n",
       "      <td>species</td>\n",
       "    </tr>\n",
       "  </tbody>\n",
       "</table>\n",
       "</div>"
      ],
      "text/plain": [
       "          sourceTaxonId         sourceTaxonName sourceTaxonRank  \\\n",
       "206732   EOL_V2:1050136  Streptopelia chinensis         species   \n",
       "638690      EOL:2757005       Thyreus calceatus         species   \n",
       "639089     GBIF:1342584    Braunsapis bouyssoui         species   \n",
       "640953      EOL:2759914     Xylocopa fenestrata         species   \n",
       "1000508      EOL:326533             Lemur catta         species   \n",
       "\n",
       "        sourceTaxonFamilyName interactionTypeName targetTaxonName  \\\n",
       "206732             Columbidae                eats  Lantana camara   \n",
       "638690                 Apidae     visitsFlowersOf  Lantana camara   \n",
       "639089                 Apidae     visitsFlowersOf  Lantana camara   \n",
       "640953                 Apidae     visitsFlowersOf  Lantana camara   \n",
       "1000508             Lemuridae   dispersalVectorOf  Lantana camara   \n",
       "\n",
       "        targetTaxonRank  \n",
       "206732          species  \n",
       "638690          species  \n",
       "639089          species  \n",
       "640953          species  \n",
       "1000508         species  "
      ]
     },
     "execution_count": 93,
     "metadata": {},
     "output_type": "execute_result"
    }
   ],
   "source": [
    "cleanInteractDataTaxon.head()"
   ]
  },
  {
   "cell_type": "code",
   "execution_count": 94,
   "metadata": {},
   "outputs": [
    {
     "data": {
      "text/plain": [
       "array(['eats', 'visitsFlowersOf', 'dispersalVectorOf', 'hasHost',\n",
       "       'parasiteOf', 'mutualistOf', 'pollinates', 'hasDispersalVector'],\n",
       "      dtype=object)"
      ]
     },
     "execution_count": 94,
     "metadata": {},
     "output_type": "execute_result"
    }
   ],
   "source": [
    "# How many different sort of interaction do I have left?\n",
    "# Checking out all the interaction types\n",
    "cleanInteractDataTaxon['interactionTypeName'].unique()"
   ]
  },
  {
   "cell_type": "code",
   "execution_count": 95,
   "metadata": {},
   "outputs": [
    {
     "data": {
      "text/plain": [
       "interactionTypeName\n",
       "visitsFlowersOf       129\n",
       "eats                   81\n",
       "parasiteOf             42\n",
       "pollinates             25\n",
       "hasDispersalVector     16\n",
       "mutualistOf            15\n",
       "hasHost                12\n",
       "dispersalVectorOf       1\n",
       "dtype: int64"
      ]
     },
     "execution_count": 95,
     "metadata": {},
     "output_type": "execute_result"
    }
   ],
   "source": [
    "cleanInteractDataTaxon.groupby(cleanInteractDataTaxon['interactionTypeName']).size().sort_values(ascending = False)"
   ]
  },
  {
   "cell_type": "code",
   "execution_count": 96,
   "metadata": {},
   "outputs": [
    {
     "data": {
      "text/plain": [
       "321"
      ]
     },
     "execution_count": 96,
     "metadata": {},
     "output_type": "execute_result"
    }
   ],
   "source": [
    "len(cleanInteractDataTaxon)"
   ]
  },
  {
   "cell_type": "code",
   "execution_count": 97,
   "metadata": {},
   "outputs": [
    {
     "data": {
      "text/html": [
       "<div>\n",
       "<style scoped>\n",
       "    .dataframe tbody tr th:only-of-type {\n",
       "        vertical-align: middle;\n",
       "    }\n",
       "\n",
       "    .dataframe tbody tr th {\n",
       "        vertical-align: top;\n",
       "    }\n",
       "\n",
       "    .dataframe thead th {\n",
       "        text-align: right;\n",
       "    }\n",
       "</style>\n",
       "<table border=\"1\" class=\"dataframe\">\n",
       "  <thead>\n",
       "    <tr style=\"text-align: right;\">\n",
       "      <th></th>\n",
       "      <th>sourceTaxonId</th>\n",
       "      <th>sourceTaxonName</th>\n",
       "      <th>sourceTaxonRank</th>\n",
       "      <th>sourceTaxonFamilyName</th>\n",
       "      <th>interactionTypeName</th>\n",
       "      <th>targetTaxonName</th>\n",
       "      <th>targetTaxonRank</th>\n",
       "    </tr>\n",
       "  </thead>\n",
       "  <tbody>\n",
       "    <tr>\n",
       "      <td>206732</td>\n",
       "      <td>EOL_V2:1050136</td>\n",
       "      <td>Streptopelia chinensis</td>\n",
       "      <td>species</td>\n",
       "      <td>Columbidae</td>\n",
       "      <td>eats</td>\n",
       "      <td>Lantana camara</td>\n",
       "      <td>species</td>\n",
       "    </tr>\n",
       "    <tr>\n",
       "      <td>638690</td>\n",
       "      <td>EOL:2757005</td>\n",
       "      <td>Thyreus calceatus</td>\n",
       "      <td>species</td>\n",
       "      <td>Apidae</td>\n",
       "      <td>visitsFlowersOf</td>\n",
       "      <td>Lantana camara</td>\n",
       "      <td>species</td>\n",
       "    </tr>\n",
       "    <tr>\n",
       "      <td>639089</td>\n",
       "      <td>GBIF:1342584</td>\n",
       "      <td>Braunsapis bouyssoui</td>\n",
       "      <td>species</td>\n",
       "      <td>Apidae</td>\n",
       "      <td>visitsFlowersOf</td>\n",
       "      <td>Lantana camara</td>\n",
       "      <td>species</td>\n",
       "    </tr>\n",
       "    <tr>\n",
       "      <td>640953</td>\n",
       "      <td>EOL:2759914</td>\n",
       "      <td>Xylocopa fenestrata</td>\n",
       "      <td>species</td>\n",
       "      <td>Apidae</td>\n",
       "      <td>visitsFlowersOf</td>\n",
       "      <td>Lantana camara</td>\n",
       "      <td>species</td>\n",
       "    </tr>\n",
       "    <tr>\n",
       "      <td>1000508</td>\n",
       "      <td>EOL:326533</td>\n",
       "      <td>Lemur catta</td>\n",
       "      <td>species</td>\n",
       "      <td>Lemuridae</td>\n",
       "      <td>dispersalVectorOf</td>\n",
       "      <td>Lantana camara</td>\n",
       "      <td>species</td>\n",
       "    </tr>\n",
       "  </tbody>\n",
       "</table>\n",
       "</div>"
      ],
      "text/plain": [
       "          sourceTaxonId         sourceTaxonName sourceTaxonRank  \\\n",
       "206732   EOL_V2:1050136  Streptopelia chinensis         species   \n",
       "638690      EOL:2757005       Thyreus calceatus         species   \n",
       "639089     GBIF:1342584    Braunsapis bouyssoui         species   \n",
       "640953      EOL:2759914     Xylocopa fenestrata         species   \n",
       "1000508      EOL:326533             Lemur catta         species   \n",
       "\n",
       "        sourceTaxonFamilyName interactionTypeName targetTaxonName  \\\n",
       "206732             Columbidae                eats  Lantana camara   \n",
       "638690                 Apidae     visitsFlowersOf  Lantana camara   \n",
       "639089                 Apidae     visitsFlowersOf  Lantana camara   \n",
       "640953                 Apidae     visitsFlowersOf  Lantana camara   \n",
       "1000508             Lemuridae   dispersalVectorOf  Lantana camara   \n",
       "\n",
       "        targetTaxonRank  \n",
       "206732          species  \n",
       "638690          species  \n",
       "639089          species  \n",
       "640953          species  \n",
       "1000508         species  "
      ]
     },
     "execution_count": 97,
     "metadata": {},
     "output_type": "execute_result"
    }
   ],
   "source": [
    "cleanInteractDataTaxon.head()"
   ]
  },
  {
   "cell_type": "markdown",
   "metadata": {},
   "source": [
    "## Create a file with all the nodes and their attributes"
   ]
  },
  {
   "cell_type": "code",
   "execution_count": 98,
   "metadata": {},
   "outputs": [],
   "source": [
    "# Get the source nodes\n",
    "#nodes = cleanInteractDataTaxon[['sourceTaxonName']].unique().tolist()\n",
    "nodes = cleanInteractDataTaxon.drop_duplicates(subset=['sourceTaxonName'])"
   ]
  },
  {
   "cell_type": "code",
   "execution_count": 99,
   "metadata": {},
   "outputs": [],
   "source": [
    "# Get the target nodes\n",
    "nodes = nodes.append(cleanInteractDataTaxon.drop_duplicates(subset=['targetTaxonName']))"
   ]
  },
  {
   "cell_type": "code",
   "execution_count": 100,
   "metadata": {},
   "outputs": [
    {
     "data": {
      "text/html": [
       "<div>\n",
       "<style scoped>\n",
       "    .dataframe tbody tr th:only-of-type {\n",
       "        vertical-align: middle;\n",
       "    }\n",
       "\n",
       "    .dataframe tbody tr th {\n",
       "        vertical-align: top;\n",
       "    }\n",
       "\n",
       "    .dataframe thead th {\n",
       "        text-align: right;\n",
       "    }\n",
       "</style>\n",
       "<table border=\"1\" class=\"dataframe\">\n",
       "  <thead>\n",
       "    <tr style=\"text-align: right;\">\n",
       "      <th></th>\n",
       "      <th>sourceTaxonId</th>\n",
       "      <th>sourceTaxonName</th>\n",
       "      <th>sourceTaxonRank</th>\n",
       "      <th>sourceTaxonFamilyName</th>\n",
       "      <th>interactionTypeName</th>\n",
       "      <th>targetTaxonName</th>\n",
       "      <th>targetTaxonRank</th>\n",
       "    </tr>\n",
       "  </thead>\n",
       "  <tbody>\n",
       "    <tr>\n",
       "      <td>206732</td>\n",
       "      <td>EOL_V2:1050136</td>\n",
       "      <td>Streptopelia chinensis</td>\n",
       "      <td>species</td>\n",
       "      <td>Columbidae</td>\n",
       "      <td>eats</td>\n",
       "      <td>Lantana camara</td>\n",
       "      <td>species</td>\n",
       "    </tr>\n",
       "    <tr>\n",
       "      <td>638690</td>\n",
       "      <td>EOL:2757005</td>\n",
       "      <td>Thyreus calceatus</td>\n",
       "      <td>species</td>\n",
       "      <td>Apidae</td>\n",
       "      <td>visitsFlowersOf</td>\n",
       "      <td>Lantana camara</td>\n",
       "      <td>species</td>\n",
       "    </tr>\n",
       "    <tr>\n",
       "      <td>639089</td>\n",
       "      <td>GBIF:1342584</td>\n",
       "      <td>Braunsapis bouyssoui</td>\n",
       "      <td>species</td>\n",
       "      <td>Apidae</td>\n",
       "      <td>visitsFlowersOf</td>\n",
       "      <td>Lantana camara</td>\n",
       "      <td>species</td>\n",
       "    </tr>\n",
       "    <tr>\n",
       "      <td>640953</td>\n",
       "      <td>EOL:2759914</td>\n",
       "      <td>Xylocopa fenestrata</td>\n",
       "      <td>species</td>\n",
       "      <td>Apidae</td>\n",
       "      <td>visitsFlowersOf</td>\n",
       "      <td>Lantana camara</td>\n",
       "      <td>species</td>\n",
       "    </tr>\n",
       "    <tr>\n",
       "      <td>1000508</td>\n",
       "      <td>EOL:326533</td>\n",
       "      <td>Lemur catta</td>\n",
       "      <td>species</td>\n",
       "      <td>Lemuridae</td>\n",
       "      <td>dispersalVectorOf</td>\n",
       "      <td>Lantana camara</td>\n",
       "      <td>species</td>\n",
       "    </tr>\n",
       "  </tbody>\n",
       "</table>\n",
       "</div>"
      ],
      "text/plain": [
       "          sourceTaxonId         sourceTaxonName sourceTaxonRank  \\\n",
       "206732   EOL_V2:1050136  Streptopelia chinensis         species   \n",
       "638690      EOL:2757005       Thyreus calceatus         species   \n",
       "639089     GBIF:1342584    Braunsapis bouyssoui         species   \n",
       "640953      EOL:2759914     Xylocopa fenestrata         species   \n",
       "1000508      EOL:326533             Lemur catta         species   \n",
       "\n",
       "        sourceTaxonFamilyName interactionTypeName targetTaxonName  \\\n",
       "206732             Columbidae                eats  Lantana camara   \n",
       "638690                 Apidae     visitsFlowersOf  Lantana camara   \n",
       "639089                 Apidae     visitsFlowersOf  Lantana camara   \n",
       "640953                 Apidae     visitsFlowersOf  Lantana camara   \n",
       "1000508             Lemuridae   dispersalVectorOf  Lantana camara   \n",
       "\n",
       "        targetTaxonRank  \n",
       "206732          species  \n",
       "638690          species  \n",
       "639089          species  \n",
       "640953          species  \n",
       "1000508         species  "
      ]
     },
     "execution_count": 100,
     "metadata": {},
     "output_type": "execute_result"
    }
   ],
   "source": [
    "nodes.head()"
   ]
  },
  {
   "cell_type": "raw",
   "metadata": {},
   "source": [
    "# make sure the list of taxa is unique.\n",
    "interactingTaxa = interactingTaxa.unique()\n",
    "\n",
    "interactingTaxa.rename(columns={'O':'interactingTaxon'}, inplace=True)"
   ]
  },
  {
   "cell_type": "code",
   "execution_count": 123,
   "metadata": {},
   "outputs": [
    {
     "data": {
      "text/html": [
       "<div>\n",
       "<style scoped>\n",
       "    .dataframe tbody tr th:only-of-type {\n",
       "        vertical-align: middle;\n",
       "    }\n",
       "\n",
       "    .dataframe tbody tr th {\n",
       "        vertical-align: top;\n",
       "    }\n",
       "\n",
       "    .dataframe thead th {\n",
       "        text-align: right;\n",
       "    }\n",
       "</style>\n",
       "<table border=\"1\" class=\"dataframe\">\n",
       "  <thead>\n",
       "    <tr style=\"text-align: right;\">\n",
       "      <th></th>\n",
       "      <th>0</th>\n",
       "    </tr>\n",
       "  </thead>\n",
       "  <tbody>\n",
       "    <tr>\n",
       "      <td>0</td>\n",
       "      <td>Streptopelia chinensis</td>\n",
       "    </tr>\n",
       "    <tr>\n",
       "      <td>1</td>\n",
       "      <td>Thyreus calceatus</td>\n",
       "    </tr>\n",
       "    <tr>\n",
       "      <td>2</td>\n",
       "      <td>Braunsapis bouyssoui</td>\n",
       "    </tr>\n",
       "  </tbody>\n",
       "</table>\n",
       "</div>"
      ],
      "text/plain": [
       "                        0\n",
       "0  Streptopelia chinensis\n",
       "1       Thyreus calceatus\n",
       "2    Braunsapis bouyssoui"
      ]
     },
     "execution_count": 123,
     "metadata": {},
     "output_type": "execute_result"
    }
   ],
   "source": [
    "interactingTaxa.head(3)\n"
   ]
  },
  {
   "cell_type": "markdown",
   "metadata": {},
   "source": [
    "### This function takes a name string and checks on GBIF to see if the name exists there."
   ]
  },
  {
   "cell_type": "code",
   "execution_count": 175,
   "metadata": {},
   "outputs": [],
   "source": [
    "def speciesExistsInGBIF(name, rank):\n",
    "    try:\n",
    "        key = species.name_suggest(q=name, rank=rank, limit = 1)\n",
    "        #print(key)\n",
    "\n",
    "        if len(key) == 0:\n",
    "            return False\n",
    "        else:\n",
    "            return key\n",
    "    except ValueError as ve:\n",
    "        print(ve)\n",
    "        exit(1)"
   ]
  },
  {
   "cell_type": "markdown",
   "metadata": {},
   "source": [
    "### Check to see which taxa in the interaction network are found in GBIF and list those ones that are not"
   ]
  },
  {
   "cell_type": "code",
   "execution_count": 187,
   "metadata": {},
   "outputs": [
    {
     "name": "stdout",
     "output_type": "stream",
     "text": [
      "Taxa from GLoBI, but not found in GBIF\n",
      "Papilio polyxenes\n",
      "Parrhasius m-album\n",
      "Graphium choredon\n",
      "Aphelinus basilicus\n",
      "Lantanophaga pusillidactyla\n"
     ]
    }
   ],
   "source": [
    "taxaNotFound = []\n",
    "taxaFound = []\n",
    "\n",
    "print('Taxa from GLoBI, but not found in GBIF')\n",
    "for name in interactingTaxa.iterrows():\n",
    "    GBIFName = speciesExistsInGBIF(name[1], \"species\")\n",
    "    if GBIFName == False:\n",
    "        print(name[1][0])\n",
    "        taxaNotFound.append({'name': name[1][0]})\n",
    "    else:\n",
    "        taxaFound.append(GBIFName)\n",
    "    \n",
    "    #print(name[1])\n",
    "    \n",
    "taxaFound = pd.DataFrame(taxaFound)"
   ]
  },
  {
   "cell_type": "markdown",
   "metadata": {},
   "source": [
    "### This function takes a GBIF species key and counts how many occurences exist."
   ]
  },
  {
   "cell_type": "code",
   "execution_count": 234,
   "metadata": {},
   "outputs": [],
   "source": [
    "def speciesCountInGBIF(key, country):\n",
    "    try:\n",
    "        return occ.count(taxonKey=key, country = country)\n",
    "    except ValueError as ve:\n",
    "        print(ve)\n",
    "        exit(1)"
   ]
  },
  {
   "cell_type": "markdown",
   "metadata": {},
   "source": [
    "### Loop over all the taxa that are in the interaction network and are in GBIF to find the ones that have been found in the country"
   ]
  },
  {
   "cell_type": "code",
   "execution_count": 256,
   "metadata": {},
   "outputs": [
    {
     "ename": "TypeError",
     "evalue": "count() takes exactly one argument (0 given)",
     "output_type": "error",
     "traceback": [
      "\u001b[1;31m---------------------------------------------------------------------------\u001b[0m",
      "\u001b[1;31mTypeError\u001b[0m                                 Traceback (most recent call last)",
      "\u001b[1;32m<ipython-input-256-663afc2d42e7>\u001b[0m in \u001b[0;36m<module>\u001b[1;34m\u001b[0m\n\u001b[0;32m      7\u001b[0m         \u001b[0mtaxaFoundInCountry\u001b[0m\u001b[1;33m.\u001b[0m\u001b[0mappend\u001b[0m\u001b[1;33m(\u001b[0m\u001b[1;33m{\u001b[0m\u001b[1;34m'key'\u001b[0m\u001b[1;33m:\u001b[0m \u001b[0mGBIFtaxon\u001b[0m\u001b[1;33m[\u001b[0m\u001b[1;36m1\u001b[0m\u001b[1;33m]\u001b[0m\u001b[1;33m[\u001b[0m\u001b[1;36m0\u001b[0m\u001b[1;33m]\u001b[0m\u001b[1;33m[\u001b[0m\u001b[1;34m'key'\u001b[0m\u001b[1;33m]\u001b[0m\u001b[1;33m,\u001b[0m \u001b[1;34m'species'\u001b[0m\u001b[1;33m:\u001b[0m \u001b[0mGBIFtaxon\u001b[0m\u001b[1;33m[\u001b[0m\u001b[1;36m1\u001b[0m\u001b[1;33m]\u001b[0m\u001b[1;33m[\u001b[0m\u001b[1;36m0\u001b[0m\u001b[1;33m]\u001b[0m\u001b[1;33m[\u001b[0m\u001b[1;34m'species'\u001b[0m\u001b[1;33m]\u001b[0m\u001b[1;33m,\u001b[0m \u001b[1;34m'count'\u001b[0m\u001b[1;33m:\u001b[0m \u001b[0mGBIFOccCount\u001b[0m\u001b[1;33m}\u001b[0m\u001b[1;33m)\u001b[0m\u001b[1;33m\u001b[0m\u001b[1;33m\u001b[0m\u001b[0m\n\u001b[0;32m      8\u001b[0m \u001b[1;33m\u001b[0m\u001b[0m\n\u001b[1;32m----> 9\u001b[1;33m \u001b[0mtaxaFoundInCountry\u001b[0m\u001b[1;33m.\u001b[0m\u001b[0mcount\u001b[0m\u001b[1;33m(\u001b[0m\u001b[1;33m)\u001b[0m\u001b[1;33m\u001b[0m\u001b[1;33m\u001b[0m\u001b[0m\n\u001b[0m",
      "\u001b[1;31mTypeError\u001b[0m: count() takes exactly one argument (0 given)"
     ]
    }
   ],
   "source": [
    "taxaFoundInCountry = []\n",
    "\n",
    "for GBIFtaxon in taxaFound.iterrows():\n",
    "    #print('{0} found {1} time in Belgium.'.format(GBIFtaxon[1][0]['species'],speciesCountInGBIF(GBIFtaxon[1][0]['key'],country)))\n",
    "    GBIFOccCount = speciesCountInGBIF(GBIFtaxon[1][0]['key'],country)\n",
    "    if GBIFOccCount > 0:\n",
    "        taxaFoundInCountry.append({'key': GBIFtaxon[1][0]['key'], 'species': GBIFtaxon[1][0]['species'], 'count': GBIFOccCount})\n",
    "\n",
    "taxaFoundInCountry.count()"
   ]
  },
  {
   "cell_type": "code",
   "execution_count": 273,
   "metadata": {},
   "outputs": [
    {
     "name": "stdout",
     "output_type": "stream",
     "text": [
      "The number of species left in the network is 20\n"
     ]
    }
   ],
   "source": [
    "print(\"The number of species left in the network is {0}\".format(len(taxaFoundInCountry)))"
   ]
  },
  {
   "cell_type": "code",
   "execution_count": null,
   "metadata": {},
   "outputs": [],
   "source": []
  }
 ],
 "metadata": {
  "kernelspec": {
   "display_name": "Python 3",
   "language": "python",
   "name": "python3"
  },
  "language_info": {
   "codemirror_mode": {
    "name": "ipython",
    "version": 3
   },
   "file_extension": ".py",
   "mimetype": "text/x-python",
   "name": "python",
   "nbconvert_exporter": "python",
   "pygments_lexer": "ipython3",
   "version": "3.7.4"
  }
 },
 "nbformat": 4,
 "nbformat_minor": 2
}
