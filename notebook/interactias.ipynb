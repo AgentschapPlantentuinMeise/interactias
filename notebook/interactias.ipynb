{
 "cells": [
  {
   "cell_type": "markdown",
   "metadata": {},
   "source": [
    "# Interactias Geo Selected Network\n",
    "\n",
    "One way of examining the impact of invasive species is to look at all their interactions and the interations those organisms have with each other. This full interaction network gives you a good idea whether a species might be a \"keystone\" species \n",
    "\n",
    "In this step of the evolution of this script it will be adapted to quantify species by their occupancy.\n",
    "\n",
    "I will harvest species interactions data from GLOBI (https://www.globalbioticinteractions.org/) to discover the species that interact with an invasive species.\n",
    "I will then harvest all the interactions for those species to create two tiers of interactions.\n",
    "I will then count all the occurences of these in species in the Belgian datacube.\n",
    "I will then create a network diagram to visualize this.\n",
    "\n",
    "This notebook takes considerable insperation and code from Yikang Li's project on GLoBI (https://curiositydata.org/part1_globi_access/)."
   ]
  },
  {
   "cell_type": "code",
   "execution_count": 1,
   "metadata": {},
   "outputs": [
    {
     "name": "stdout",
     "output_type": "stream",
     "text": [
      "3.7.4 (default, Aug  9 2019, 18:34:13) [MSC v.1915 64 bit (AMD64)]\n"
     ]
    }
   ],
   "source": [
    "import sys\n",
    "print(sys.version)\n",
    "\n",
    "#Python 3.7.4 (default, Aug 9 2019, 18:34:13) [MSC v.1915 64 bit (AMD64)]\n",
    "#pygbif 0.3.0"
   ]
  },
  {
   "cell_type": "code",
   "execution_count": 2,
   "metadata": {},
   "outputs": [],
   "source": [
    "import pandas as pd\n",
    "import re\n",
    "import matplotlib.pyplot as plt\n",
    "from pygbif import species\n",
    "from pygbif import occurrences as occ"
   ]
  },
  {
   "cell_type": "markdown",
   "metadata": {},
   "source": [
    "### Setting up some parameters"
   ]
  },
  {
   "cell_type": "code",
   "execution_count": 102,
   "metadata": {},
   "outputs": [],
   "source": [
    "# There is no point accepting all the species that have more than one record.\n",
    "# There are too many casual records of plants and biirds\n",
    "thresholdForOccNum = 5"
   ]
  },
  {
   "cell_type": "code",
   "execution_count": 4,
   "metadata": {},
   "outputs": [],
   "source": [
    "## Define the country of interest\n",
    "country  = 'BE'\n",
    "\n",
    "## Define the year from where to consider records for the occupancy\n",
    "year = 2000"
   ]
  },
  {
   "cell_type": "markdown",
   "metadata": {},
   "source": [
    "### Define the key taxon for the notebook for which to find all interactions\n"
   ]
  },
  {
   "cell_type": "code",
   "execution_count": 43,
   "metadata": {},
   "outputs": [],
   "source": [
    "taxon = \"Oxalis corniculata\"\n",
    "#taxon = \"Oxalis pes-caprae\"\n",
    "#taxon = \"Abramis brama\"\n",
    "#taxon = \"Dikerogammarus villosus\" # killer shrimp\n",
    "#taxon = \"Lantanophaga pusillidactyla\"\n",
    "#taxon = \"Lantana camara\"\n",
    "#taxon = \"Cirsium vulgare\"\n",
    "#taxon = \"Solenopsis invicta\"\n",
    "#taxon = \"Linepithema humile\" #Argentine ant\n",
    "#taxon = \"Procyon lotor\" # raccoon\n",
    "#taxon = \"Carpobrotus edulis\"\n",
    "#taxon = \"not exist\"\n",
    "#taxon = \"Sciurus carolinensis\" # Eastern grey squirrel"
   ]
  },
  {
   "cell_type": "markdown",
   "metadata": {},
   "source": [
    "## Load the GLoBI data\n",
    "\n",
    "The current snapshot of GLoBI was taken on 2019-11-05 from https://depot.globalbioticinteractions.org/snapshot/target/data/tsv/interactions.tsv.gz\n"
   ]
  },
  {
   "cell_type": "code",
   "execution_count": 6,
   "metadata": {},
   "outputs": [
    {
     "data": {
      "text/plain": [
       "3878740"
      ]
     },
     "execution_count": 6,
     "metadata": {},
     "output_type": "execute_result"
    }
   ],
   "source": [
    "# This takes a few minutes to load in.\n",
    "# the low_memory=False property will get rid of a warning, but will not help if there is really no memory left\n",
    "data = pd.read_csv('C://Users//quentin//Documents//interactias//interactias//data//interactions.tsv', delimiter='\\t', encoding='utf-8', low_memory=False)\n",
    "len(data)"
   ]
  },
  {
   "cell_type": "code",
   "execution_count": 7,
   "metadata": {},
   "outputs": [
    {
     "data": {
      "text/html": [
       "<div>\n",
       "<style scoped>\n",
       "    .dataframe tbody tr th:only-of-type {\n",
       "        vertical-align: middle;\n",
       "    }\n",
       "\n",
       "    .dataframe tbody tr th {\n",
       "        vertical-align: top;\n",
       "    }\n",
       "\n",
       "    .dataframe thead th {\n",
       "        text-align: right;\n",
       "    }\n",
       "</style>\n",
       "<table border=\"1\" class=\"dataframe\">\n",
       "  <thead>\n",
       "    <tr style=\"text-align: right;\">\n",
       "      <th></th>\n",
       "      <th>sourceTaxonId</th>\n",
       "      <th>sourceTaxonIds</th>\n",
       "      <th>sourceTaxonName</th>\n",
       "      <th>sourceTaxonRank</th>\n",
       "      <th>sourceTaxonPathNames</th>\n",
       "      <th>sourceTaxonPathIds</th>\n",
       "      <th>sourceTaxonPathRankNames</th>\n",
       "      <th>sourceTaxonSpeciesName</th>\n",
       "      <th>sourceTaxonSpeciesId</th>\n",
       "      <th>sourceTaxonGenusName</th>\n",
       "      <th>...</th>\n",
       "      <th>eventDateUnixEpoch</th>\n",
       "      <th>argumentTypeId</th>\n",
       "      <th>referenceCitation</th>\n",
       "      <th>referenceDoi</th>\n",
       "      <th>referenceUrl</th>\n",
       "      <th>sourceCitation</th>\n",
       "      <th>sourceNamespace</th>\n",
       "      <th>sourceArchiveURI</th>\n",
       "      <th>sourceDOI</th>\n",
       "      <th>sourceLastSeenAtUnixEpoch</th>\n",
       "    </tr>\n",
       "  </thead>\n",
       "  <tbody>\n",
       "    <tr>\n",
       "      <td>0</td>\n",
       "      <td>EOL:12001247</td>\n",
       "      <td>EOL:12001247 | OTT:133330 | IRMNG:11733708 | N...</td>\n",
       "      <td>Leptoconchus massini</td>\n",
       "      <td>species</td>\n",
       "      <td>Animalia | Mollusca | Gastropoda | Neogastropo...</td>\n",
       "      <td>EOL:1 | EOL:2195 | EOL:2366 | EOL:2447 | EOL:4...</td>\n",
       "      <td>kingdom | phylum | class | order | superfamily...</td>\n",
       "      <td>Leptoconchus massini</td>\n",
       "      <td>EOL:12001247</td>\n",
       "      <td>Leptoconchus</td>\n",
       "      <td>...</td>\n",
       "      <td>NaN</td>\n",
       "      <td>https://en.wiktionary.org/wiki/support</td>\n",
       "      <td>Gittenberger, A., Gittenberger, E. (2011). Cry...</td>\n",
       "      <td>10.1007/s13127-011-0039-1</td>\n",
       "      <td>NaN</td>\n",
       "      <td>Jorrit H. Poelen. 2014. Species associations m...</td>\n",
       "      <td>FloraVincent/template-dataset</td>\n",
       "      <td>https://github.com/FloraVincent/template-datas...</td>\n",
       "      <td>NaN</td>\n",
       "      <td>2019-03-30T23:08:44.205Z</td>\n",
       "    </tr>\n",
       "    <tr>\n",
       "      <td>1</td>\n",
       "      <td>EOL:12001247</td>\n",
       "      <td>EOL:12001247 | OTT:133330 | IRMNG:11733708 | N...</td>\n",
       "      <td>Leptoconchus massini</td>\n",
       "      <td>species</td>\n",
       "      <td>Animalia | Mollusca | Gastropoda | Neogastropo...</td>\n",
       "      <td>EOL:1 | EOL:2195 | EOL:2366 | EOL:2447 | EOL:4...</td>\n",
       "      <td>kingdom | phylum | class | order | superfamily...</td>\n",
       "      <td>Leptoconchus massini</td>\n",
       "      <td>EOL:12001247</td>\n",
       "      <td>Leptoconchus</td>\n",
       "      <td>...</td>\n",
       "      <td>NaN</td>\n",
       "      <td>https://en.wiktionary.org/wiki/support</td>\n",
       "      <td>Gittenberger, A., Gittenberger, E. (2011). Cry...</td>\n",
       "      <td>10.1007/s13127-011-0039-1</td>\n",
       "      <td>NaN</td>\n",
       "      <td>Jorrit H. Poelen. 2014. Species associations m...</td>\n",
       "      <td>FloraVincent/template-dataset</td>\n",
       "      <td>https://github.com/FloraVincent/template-datas...</td>\n",
       "      <td>NaN</td>\n",
       "      <td>2019-03-30T23:08:44.205Z</td>\n",
       "    </tr>\n",
       "    <tr>\n",
       "      <td>2</td>\n",
       "      <td>EOL:12001243</td>\n",
       "      <td>EOL:12001243 | WD:Q13393577 | OTT:550603 | WOR...</td>\n",
       "      <td>Leptoconchus inpleuractis</td>\n",
       "      <td>species</td>\n",
       "      <td>Animalia | Mollusca | Gastropoda | Neogastropo...</td>\n",
       "      <td>EOL:1 | EOL:2195 | EOL:2366 | EOL:2447 | EOL:4...</td>\n",
       "      <td>kingdom | phylum | class | order | superfamily...</td>\n",
       "      <td>Leptoconchus inpleuractis</td>\n",
       "      <td>EOL:12001243</td>\n",
       "      <td>Leptoconchus</td>\n",
       "      <td>...</td>\n",
       "      <td>NaN</td>\n",
       "      <td>https://en.wiktionary.org/wiki/support</td>\n",
       "      <td>Gittenberger, A., Gittenberger, E. (2011). Cry...</td>\n",
       "      <td>10.1007/s13127-011-0039-1</td>\n",
       "      <td>NaN</td>\n",
       "      <td>Jorrit H. Poelen. 2014. Species associations m...</td>\n",
       "      <td>FloraVincent/template-dataset</td>\n",
       "      <td>https://github.com/FloraVincent/template-datas...</td>\n",
       "      <td>NaN</td>\n",
       "      <td>2019-03-30T23:08:44.205Z</td>\n",
       "    </tr>\n",
       "    <tr>\n",
       "      <td>3</td>\n",
       "      <td>EOL:12001243</td>\n",
       "      <td>EOL:12001243 | WD:Q13393577 | OTT:550603 | WOR...</td>\n",
       "      <td>Leptoconchus inpleuractis</td>\n",
       "      <td>species</td>\n",
       "      <td>Animalia | Mollusca | Gastropoda | Neogastropo...</td>\n",
       "      <td>EOL:1 | EOL:2195 | EOL:2366 | EOL:2447 | EOL:4...</td>\n",
       "      <td>kingdom | phylum | class | order | superfamily...</td>\n",
       "      <td>Leptoconchus inpleuractis</td>\n",
       "      <td>EOL:12001243</td>\n",
       "      <td>Leptoconchus</td>\n",
       "      <td>...</td>\n",
       "      <td>NaN</td>\n",
       "      <td>https://en.wiktionary.org/wiki/support</td>\n",
       "      <td>Gittenberger, A., Gittenberger, E. (2011). Cry...</td>\n",
       "      <td>10.1007/s13127-011-0039-1</td>\n",
       "      <td>NaN</td>\n",
       "      <td>Jorrit H. Poelen. 2014. Species associations m...</td>\n",
       "      <td>FloraVincent/template-dataset</td>\n",
       "      <td>https://github.com/FloraVincent/template-datas...</td>\n",
       "      <td>NaN</td>\n",
       "      <td>2019-03-30T23:08:44.205Z</td>\n",
       "    </tr>\n",
       "    <tr>\n",
       "      <td>4</td>\n",
       "      <td>EOL:12001243</td>\n",
       "      <td>EOL:12001243 | WD:Q13393577 | OTT:550603 | WOR...</td>\n",
       "      <td>Leptoconchus inpleuractis</td>\n",
       "      <td>species</td>\n",
       "      <td>Animalia | Mollusca | Gastropoda | Neogastropo...</td>\n",
       "      <td>EOL:1 | EOL:2195 | EOL:2366 | EOL:2447 | EOL:4...</td>\n",
       "      <td>kingdom | phylum | class | order | superfamily...</td>\n",
       "      <td>Leptoconchus inpleuractis</td>\n",
       "      <td>EOL:12001243</td>\n",
       "      <td>Leptoconchus</td>\n",
       "      <td>...</td>\n",
       "      <td>NaN</td>\n",
       "      <td>https://en.wiktionary.org/wiki/support</td>\n",
       "      <td>Gittenberger, A., Gittenberger, E. (2011). Cry...</td>\n",
       "      <td>10.1007/s13127-011-0039-1</td>\n",
       "      <td>NaN</td>\n",
       "      <td>Jorrit H. Poelen. 2014. Species associations m...</td>\n",
       "      <td>FloraVincent/template-dataset</td>\n",
       "      <td>https://github.com/FloraVincent/template-datas...</td>\n",
       "      <td>NaN</td>\n",
       "      <td>2019-03-30T23:08:44.205Z</td>\n",
       "    </tr>\n",
       "  </tbody>\n",
       "</table>\n",
       "<p>5 rows × 80 columns</p>\n",
       "</div>"
      ],
      "text/plain": [
       "  sourceTaxonId                                     sourceTaxonIds  \\\n",
       "0  EOL:12001247  EOL:12001247 | OTT:133330 | IRMNG:11733708 | N...   \n",
       "1  EOL:12001247  EOL:12001247 | OTT:133330 | IRMNG:11733708 | N...   \n",
       "2  EOL:12001243  EOL:12001243 | WD:Q13393577 | OTT:550603 | WOR...   \n",
       "3  EOL:12001243  EOL:12001243 | WD:Q13393577 | OTT:550603 | WOR...   \n",
       "4  EOL:12001243  EOL:12001243 | WD:Q13393577 | OTT:550603 | WOR...   \n",
       "\n",
       "             sourceTaxonName sourceTaxonRank  \\\n",
       "0       Leptoconchus massini         species   \n",
       "1       Leptoconchus massini         species   \n",
       "2  Leptoconchus inpleuractis         species   \n",
       "3  Leptoconchus inpleuractis         species   \n",
       "4  Leptoconchus inpleuractis         species   \n",
       "\n",
       "                                sourceTaxonPathNames  \\\n",
       "0  Animalia | Mollusca | Gastropoda | Neogastropo...   \n",
       "1  Animalia | Mollusca | Gastropoda | Neogastropo...   \n",
       "2  Animalia | Mollusca | Gastropoda | Neogastropo...   \n",
       "3  Animalia | Mollusca | Gastropoda | Neogastropo...   \n",
       "4  Animalia | Mollusca | Gastropoda | Neogastropo...   \n",
       "\n",
       "                                  sourceTaxonPathIds  \\\n",
       "0  EOL:1 | EOL:2195 | EOL:2366 | EOL:2447 | EOL:4...   \n",
       "1  EOL:1 | EOL:2195 | EOL:2366 | EOL:2447 | EOL:4...   \n",
       "2  EOL:1 | EOL:2195 | EOL:2366 | EOL:2447 | EOL:4...   \n",
       "3  EOL:1 | EOL:2195 | EOL:2366 | EOL:2447 | EOL:4...   \n",
       "4  EOL:1 | EOL:2195 | EOL:2366 | EOL:2447 | EOL:4...   \n",
       "\n",
       "                            sourceTaxonPathRankNames  \\\n",
       "0  kingdom | phylum | class | order | superfamily...   \n",
       "1  kingdom | phylum | class | order | superfamily...   \n",
       "2  kingdom | phylum | class | order | superfamily...   \n",
       "3  kingdom | phylum | class | order | superfamily...   \n",
       "4  kingdom | phylum | class | order | superfamily...   \n",
       "\n",
       "      sourceTaxonSpeciesName sourceTaxonSpeciesId sourceTaxonGenusName  ...  \\\n",
       "0       Leptoconchus massini         EOL:12001247         Leptoconchus  ...   \n",
       "1       Leptoconchus massini         EOL:12001247         Leptoconchus  ...   \n",
       "2  Leptoconchus inpleuractis         EOL:12001243         Leptoconchus  ...   \n",
       "3  Leptoconchus inpleuractis         EOL:12001243         Leptoconchus  ...   \n",
       "4  Leptoconchus inpleuractis         EOL:12001243         Leptoconchus  ...   \n",
       "\n",
       "  eventDateUnixEpoch                          argumentTypeId  \\\n",
       "0                NaN  https://en.wiktionary.org/wiki/support   \n",
       "1                NaN  https://en.wiktionary.org/wiki/support   \n",
       "2                NaN  https://en.wiktionary.org/wiki/support   \n",
       "3                NaN  https://en.wiktionary.org/wiki/support   \n",
       "4                NaN  https://en.wiktionary.org/wiki/support   \n",
       "\n",
       "                                   referenceCitation  \\\n",
       "0  Gittenberger, A., Gittenberger, E. (2011). Cry...   \n",
       "1  Gittenberger, A., Gittenberger, E. (2011). Cry...   \n",
       "2  Gittenberger, A., Gittenberger, E. (2011). Cry...   \n",
       "3  Gittenberger, A., Gittenberger, E. (2011). Cry...   \n",
       "4  Gittenberger, A., Gittenberger, E. (2011). Cry...   \n",
       "\n",
       "                referenceDoi referenceUrl  \\\n",
       "0  10.1007/s13127-011-0039-1          NaN   \n",
       "1  10.1007/s13127-011-0039-1          NaN   \n",
       "2  10.1007/s13127-011-0039-1          NaN   \n",
       "3  10.1007/s13127-011-0039-1          NaN   \n",
       "4  10.1007/s13127-011-0039-1          NaN   \n",
       "\n",
       "                                      sourceCitation  \\\n",
       "0  Jorrit H. Poelen. 2014. Species associations m...   \n",
       "1  Jorrit H. Poelen. 2014. Species associations m...   \n",
       "2  Jorrit H. Poelen. 2014. Species associations m...   \n",
       "3  Jorrit H. Poelen. 2014. Species associations m...   \n",
       "4  Jorrit H. Poelen. 2014. Species associations m...   \n",
       "\n",
       "                 sourceNamespace  \\\n",
       "0  FloraVincent/template-dataset   \n",
       "1  FloraVincent/template-dataset   \n",
       "2  FloraVincent/template-dataset   \n",
       "3  FloraVincent/template-dataset   \n",
       "4  FloraVincent/template-dataset   \n",
       "\n",
       "                                    sourceArchiveURI sourceDOI  \\\n",
       "0  https://github.com/FloraVincent/template-datas...       NaN   \n",
       "1  https://github.com/FloraVincent/template-datas...       NaN   \n",
       "2  https://github.com/FloraVincent/template-datas...       NaN   \n",
       "3  https://github.com/FloraVincent/template-datas...       NaN   \n",
       "4  https://github.com/FloraVincent/template-datas...       NaN   \n",
       "\n",
       "  sourceLastSeenAtUnixEpoch  \n",
       "0  2019-03-30T23:08:44.205Z  \n",
       "1  2019-03-30T23:08:44.205Z  \n",
       "2  2019-03-30T23:08:44.205Z  \n",
       "3  2019-03-30T23:08:44.205Z  \n",
       "4  2019-03-30T23:08:44.205Z  \n",
       "\n",
       "[5 rows x 80 columns]"
      ]
     },
     "execution_count": 7,
     "metadata": {},
     "output_type": "execute_result"
    }
   ],
   "source": [
    "# Take a little look at the data to make sure it makes sense\n",
    "data.head()"
   ]
  },
  {
   "cell_type": "markdown",
   "metadata": {},
   "source": [
    "## Drop duplicates\n",
    "\n",
    "This line gets rid of duplicate interations. I currently can't see a reason to keep them, but this perhaps should be checked. \n",
    "Some more common interactions might have more support in the literature and therefore more records. Deduplicating them tends to equal out rare interactions with common ones."
   ]
  },
  {
   "cell_type": "code",
   "execution_count": 8,
   "metadata": {},
   "outputs": [],
   "source": [
    "data.drop_duplicates(['sourceTaxonName', 'interactionTypeName', 'targetTaxonName'], inplace = True)"
   ]
  },
  {
   "cell_type": "code",
   "execution_count": 9,
   "metadata": {},
   "outputs": [
    {
     "data": {
      "text/plain": [
       "1103723"
      ]
     },
     "execution_count": 9,
     "metadata": {},
     "output_type": "execute_result"
    }
   ],
   "source": [
    "## Check how many rows are left\n",
    "len(data)"
   ]
  },
  {
   "cell_type": "markdown",
   "metadata": {},
   "source": [
    "## Remove ranks that are not species\n",
    "Many entries in GLoBI are non-specific interations at a high taxonomic level. For example, roses are visited by bees.\n",
    "I have chossen to remove these interactions from the study, at least preliminarly"
   ]
  },
  {
   "cell_type": "code",
   "execution_count": 10,
   "metadata": {},
   "outputs": [],
   "source": [
    "data.drop(data[data['sourceTaxonRank'] != 'species'].index, inplace = True)\n",
    "data.drop(data[data['targetTaxonRank'] != 'species'].index, inplace = True)"
   ]
  },
  {
   "cell_type": "code",
   "execution_count": 11,
   "metadata": {},
   "outputs": [
    {
     "data": {
      "text/plain": [
       "536018"
      ]
     },
     "execution_count": 11,
     "metadata": {},
     "output_type": "execute_result"
    }
   ],
   "source": [
    "## Check how many rows are left\n",
    "len(data)"
   ]
  },
  {
   "cell_type": "markdown",
   "metadata": {},
   "source": [
    "## Remove \"interactsWith\"\n",
    "There are many vague interactions with the term interactsWith. These aren't really that useful, because it could be any kind of interaction, positive or negative, direct or indirect.\n",
    "Unwanted interactions can be removed as an option by removing the commenting from these lines"
   ]
  },
  {
   "cell_type": "code",
   "execution_count": 12,
   "metadata": {},
   "outputs": [
    {
     "data": {
      "text/plain": [
       "394573"
      ]
     },
     "execution_count": 12,
     "metadata": {},
     "output_type": "execute_result"
    }
   ],
   "source": [
    "data = data[data.interactionTypeName != 'interactsWith']\n",
    "\n",
    "#data = data[data.interactionTypeName != 'visitsFlowersOf']\n",
    "\n",
    "#data = data[data.interactionTypeName != 'pollinates']\n",
    "\n",
    "len(data)"
   ]
  },
  {
   "cell_type": "markdown",
   "metadata": {},
   "source": [
    "## Check to see if the taxon exits in GBIF"
   ]
  },
  {
   "cell_type": "code",
   "execution_count": 44,
   "metadata": {},
   "outputs": [],
   "source": [
    "try:\n",
    "    #NOTE: The function method name_suggest has a different behavior with regards to the gender of Latin names to name_backbone\n",
    "    # If name_backbone is given a name in one gender it can still return the best match from the GBIF backbone if that\n",
    "    # name is spelled as if it was another gender.\n",
    "    #key = species.name_suggest(q=taxon, limit = 1)\n",
    "    match = species.name_backbone(name=taxon, limit = 1)\n",
    "    #print(key)\n",
    "    \n",
    "    # if there is no match this is returned form .name_backbone {'confidence': 100, 'matchType': 'NONE', 'synonym': False}\n",
    "    if match['matchType'] == 'NONE':\n",
    "        raise ValueError(\"TAXON NOT FOUND ON GBIF!\")\n",
    "    else:\n",
    "        key = match['usageKey']\n",
    "except ValueError as ve:\n",
    "    print(ve)\n",
    "    exit(1)\n",
    "\n",
    "\n"
   ]
  },
  {
   "cell_type": "code",
   "execution_count": 45,
   "metadata": {},
   "outputs": [
    {
     "name": "stdout",
     "output_type": "stream",
     "text": [
      "The taxon to be studied is Oxalis corniculata L.\n"
     ]
    }
   ],
   "source": [
    "\n",
    "print('The taxon to be studied is ' + match['scientificName'])"
   ]
  },
  {
   "cell_type": "code",
   "execution_count": 46,
   "metadata": {},
   "outputs": [
    {
     "data": {
      "text/plain": [
       "array([], dtype=object)"
      ]
     },
     "execution_count": 46,
     "metadata": {},
     "output_type": "execute_result"
    }
   ],
   "source": [
    "# What are all the types of interactions involving taxon as source taxon?\n",
    "data[data['sourceTaxonName'] == taxon]['interactionTypeName'].unique()"
   ]
  },
  {
   "cell_type": "code",
   "execution_count": 47,
   "metadata": {},
   "outputs": [
    {
     "data": {
      "text/plain": [
       "array(['eats', 'parasiteOf', 'visitsFlowersOf', 'hasHost', 'mutualistOf',\n",
       "       'pathogenOf', 'pollinates'], dtype=object)"
      ]
     },
     "execution_count": 47,
     "metadata": {},
     "output_type": "execute_result"
    }
   ],
   "source": [
    "# What are all the types of interactions involving taxon as target taxon?\n",
    "data[data['targetTaxonName'] == taxon]['interactionTypeName'].unique()"
   ]
  },
  {
   "cell_type": "markdown",
   "metadata": {},
   "source": [
    "How many taxon sources do I have?"
   ]
  },
  {
   "cell_type": "code",
   "execution_count": 48,
   "metadata": {},
   "outputs": [
    {
     "data": {
      "text/plain": [
       "0"
      ]
     },
     "execution_count": 48,
     "metadata": {},
     "output_type": "execute_result"
    }
   ],
   "source": [
    "len(data[data['sourceTaxonName'] == taxon])"
   ]
  },
  {
   "cell_type": "markdown",
   "metadata": {},
   "source": [
    "How many taxon targets do I have?"
   ]
  },
  {
   "cell_type": "code",
   "execution_count": 49,
   "metadata": {},
   "outputs": [
    {
     "data": {
      "text/plain": [
       "48"
      ]
     },
     "execution_count": 49,
     "metadata": {},
     "output_type": "execute_result"
    }
   ],
   "source": [
    "len(data[data['targetTaxonName'] == taxon])"
   ]
  },
  {
   "cell_type": "markdown",
   "metadata": {},
   "source": [
    "## Get the primary interation data for the species in question"
   ]
  },
  {
   "cell_type": "code",
   "execution_count": 50,
   "metadata": {},
   "outputs": [],
   "source": [
    "    interactDataTaxon = data[data['targetTaxonName'] == taxon]\n",
    "    interactDataTaxon = interactDataTaxon.append(data[data['sourceTaxonName'] == taxon])"
   ]
  },
  {
   "cell_type": "code",
   "execution_count": 51,
   "metadata": {},
   "outputs": [
    {
     "data": {
      "text/plain": [
       "sourceTaxonId                48\n",
       "sourceTaxonIds               48\n",
       "sourceTaxonName              47\n",
       "sourceTaxonRank              48\n",
       "sourceTaxonPathNames         48\n",
       "                             ..\n",
       "sourceCitation               48\n",
       "sourceNamespace              48\n",
       "sourceArchiveURI             48\n",
       "sourceDOI                    10\n",
       "sourceLastSeenAtUnixEpoch    48\n",
       "Length: 80, dtype: int64"
      ]
     },
     "execution_count": 51,
     "metadata": {},
     "output_type": "execute_result"
    }
   ],
   "source": [
    "interactDataTaxon.count()"
   ]
  },
  {
   "cell_type": "markdown",
   "metadata": {},
   "source": [
    "## Get a list of all the primary interacting species"
   ]
  },
  {
   "cell_type": "code",
   "execution_count": 52,
   "metadata": {},
   "outputs": [],
   "source": [
    "interactingTaxa = pd.DataFrame(interactDataTaxon['sourceTaxonName'].append(interactDataTaxon['targetTaxonName']).unique())"
   ]
  },
  {
   "cell_type": "code",
   "execution_count": 53,
   "metadata": {},
   "outputs": [
    {
     "data": {
      "text/html": [
       "<div>\n",
       "<style scoped>\n",
       "    .dataframe tbody tr th:only-of-type {\n",
       "        vertical-align: middle;\n",
       "    }\n",
       "\n",
       "    .dataframe tbody tr th {\n",
       "        vertical-align: top;\n",
       "    }\n",
       "\n",
       "    .dataframe thead th {\n",
       "        text-align: right;\n",
       "    }\n",
       "</style>\n",
       "<table border=\"1\" class=\"dataframe\">\n",
       "  <thead>\n",
       "    <tr style=\"text-align: right;\">\n",
       "      <th></th>\n",
       "      <th>0</th>\n",
       "    </tr>\n",
       "  </thead>\n",
       "  <tbody>\n",
       "    <tr>\n",
       "      <td>0</td>\n",
       "      <td>Anas aucklandica</td>\n",
       "    </tr>\n",
       "    <tr>\n",
       "      <td>1</td>\n",
       "      <td>Callipepla californica</td>\n",
       "    </tr>\n",
       "    <tr>\n",
       "      <td>2</td>\n",
       "      <td>Melozone crissalis</td>\n",
       "    </tr>\n",
       "    <tr>\n",
       "      <td>3</td>\n",
       "      <td>Haemorhous mexicanus</td>\n",
       "    </tr>\n",
       "    <tr>\n",
       "      <td>4</td>\n",
       "      <td>Puccinia sorghi</td>\n",
       "    </tr>\n",
       "    <tr>\n",
       "      <td>5</td>\n",
       "      <td>Erysiphe russellii</td>\n",
       "    </tr>\n",
       "    <tr>\n",
       "      <td>6</td>\n",
       "      <td>Zizula hylax</td>\n",
       "    </tr>\n",
       "    <tr>\n",
       "      <td>7</td>\n",
       "      <td>Pseudozizeeria maha</td>\n",
       "    </tr>\n",
       "    <tr>\n",
       "      <td>8</td>\n",
       "      <td>Lucia limbaria</td>\n",
       "    </tr>\n",
       "    <tr>\n",
       "      <td>9</td>\n",
       "      <td>Zizeeria knysna</td>\n",
       "    </tr>\n",
       "    <tr>\n",
       "      <td>10</td>\n",
       "      <td>Actizera stellata</td>\n",
       "    </tr>\n",
       "    <tr>\n",
       "      <td>11</td>\n",
       "      <td>Actizera lucida</td>\n",
       "    </tr>\n",
       "    <tr>\n",
       "      <td>12</td>\n",
       "      <td>Pieris rapae</td>\n",
       "    </tr>\n",
       "    <tr>\n",
       "      <td>13</td>\n",
       "      <td>Ichneumon ambulatorius</td>\n",
       "    </tr>\n",
       "    <tr>\n",
       "      <td>14</td>\n",
       "      <td>Bibio albipennis</td>\n",
       "    </tr>\n",
       "    <tr>\n",
       "      <td>15</td>\n",
       "      <td>Cylindromyia rufipes</td>\n",
       "    </tr>\n",
       "    <tr>\n",
       "      <td>16</td>\n",
       "      <td>Leptometopa latipes</td>\n",
       "    </tr>\n",
       "    <tr>\n",
       "      <td>17</td>\n",
       "      <td>Thorybes bathyllus</td>\n",
       "    </tr>\n",
       "    <tr>\n",
       "      <td>18</td>\n",
       "      <td>Epeolus pusillus</td>\n",
       "    </tr>\n",
       "    <tr>\n",
       "      <td>19</td>\n",
       "      <td>Photinus pyralis</td>\n",
       "    </tr>\n",
       "    <tr>\n",
       "      <td>20</td>\n",
       "      <td>Trichiotinus affinis</td>\n",
       "    </tr>\n",
       "    <tr>\n",
       "      <td>21</td>\n",
       "      <td>Mordellistena aspersa</td>\n",
       "    </tr>\n",
       "    <tr>\n",
       "      <td>22</td>\n",
       "      <td>Asclera puncticollis</td>\n",
       "    </tr>\n",
       "    <tr>\n",
       "      <td>23</td>\n",
       "      <td>Andrena pruni</td>\n",
       "    </tr>\n",
       "    <tr>\n",
       "      <td>24</td>\n",
       "      <td>Sapyga centrata</td>\n",
       "    </tr>\n",
       "    <tr>\n",
       "      <td>25</td>\n",
       "      <td>Ceratina dupla</td>\n",
       "    </tr>\n",
       "    <tr>\n",
       "      <td>26</td>\n",
       "      <td>Tomato leaf curl China virus - OX2</td>\n",
       "    </tr>\n",
       "    <tr>\n",
       "      <td>27</td>\n",
       "      <td>Ageratum Yellow vein China virus - OX1</td>\n",
       "    </tr>\n",
       "    <tr>\n",
       "      <td>28</td>\n",
       "      <td>Bombus pensylvanicus</td>\n",
       "    </tr>\n",
       "    <tr>\n",
       "      <td>29</td>\n",
       "      <td>Andrena carlini</td>\n",
       "    </tr>\n",
       "    <tr>\n",
       "      <td>30</td>\n",
       "      <td>NaN</td>\n",
       "    </tr>\n",
       "    <tr>\n",
       "      <td>31</td>\n",
       "      <td>Paragus haemorrhous</td>\n",
       "    </tr>\n",
       "    <tr>\n",
       "      <td>32</td>\n",
       "      <td>Petrobia harti</td>\n",
       "    </tr>\n",
       "    <tr>\n",
       "      <td>33</td>\n",
       "      <td>Oxalis corniculata</td>\n",
       "    </tr>\n",
       "  </tbody>\n",
       "</table>\n",
       "</div>"
      ],
      "text/plain": [
       "                                         0\n",
       "0                         Anas aucklandica\n",
       "1                   Callipepla californica\n",
       "2                       Melozone crissalis\n",
       "3                     Haemorhous mexicanus\n",
       "4                          Puccinia sorghi\n",
       "5                       Erysiphe russellii\n",
       "6                             Zizula hylax\n",
       "7                      Pseudozizeeria maha\n",
       "8                           Lucia limbaria\n",
       "9                          Zizeeria knysna\n",
       "10                       Actizera stellata\n",
       "11                         Actizera lucida\n",
       "12                            Pieris rapae\n",
       "13                  Ichneumon ambulatorius\n",
       "14                        Bibio albipennis\n",
       "15                    Cylindromyia rufipes\n",
       "16                     Leptometopa latipes\n",
       "17                      Thorybes bathyllus\n",
       "18                        Epeolus pusillus\n",
       "19                        Photinus pyralis\n",
       "20                    Trichiotinus affinis\n",
       "21                   Mordellistena aspersa\n",
       "22                    Asclera puncticollis\n",
       "23                           Andrena pruni\n",
       "24                         Sapyga centrata\n",
       "25                          Ceratina dupla\n",
       "26      Tomato leaf curl China virus - OX2\n",
       "27  Ageratum Yellow vein China virus - OX1\n",
       "28                    Bombus pensylvanicus\n",
       "29                         Andrena carlini\n",
       "30                                     NaN\n",
       "31                     Paragus haemorrhous\n",
       "32                          Petrobia harti\n",
       "33                      Oxalis corniculata"
      ]
     },
     "execution_count": 53,
     "metadata": {},
     "output_type": "execute_result"
    }
   ],
   "source": [
    "interactingTaxa"
   ]
  },
  {
   "cell_type": "markdown",
   "metadata": {},
   "source": [
    "## Get all the secondary interactions"
   ]
  },
  {
   "cell_type": "code",
   "execution_count": 54,
   "metadata": {},
   "outputs": [],
   "source": [
    "for name in interactingTaxa[0]:\n",
    "    interactDataTaxon = interactDataTaxon.append(data[data['targetTaxonName'] == name])\n",
    "    interactDataTaxon = interactDataTaxon.append(data[data['sourceTaxonName'] == name])"
   ]
  },
  {
   "cell_type": "code",
   "execution_count": 55,
   "metadata": {},
   "outputs": [
    {
     "data": {
      "text/html": [
       "<div>\n",
       "<style scoped>\n",
       "    .dataframe tbody tr th:only-of-type {\n",
       "        vertical-align: middle;\n",
       "    }\n",
       "\n",
       "    .dataframe tbody tr th {\n",
       "        vertical-align: top;\n",
       "    }\n",
       "\n",
       "    .dataframe thead th {\n",
       "        text-align: right;\n",
       "    }\n",
       "</style>\n",
       "<table border=\"1\" class=\"dataframe\">\n",
       "  <thead>\n",
       "    <tr style=\"text-align: right;\">\n",
       "      <th></th>\n",
       "      <th>sourceTaxonId</th>\n",
       "      <th>sourceTaxonIds</th>\n",
       "      <th>sourceTaxonName</th>\n",
       "      <th>sourceTaxonRank</th>\n",
       "      <th>sourceTaxonPathNames</th>\n",
       "      <th>sourceTaxonPathIds</th>\n",
       "      <th>sourceTaxonPathRankNames</th>\n",
       "      <th>sourceTaxonSpeciesName</th>\n",
       "      <th>sourceTaxonSpeciesId</th>\n",
       "      <th>sourceTaxonGenusName</th>\n",
       "      <th>...</th>\n",
       "      <th>eventDateUnixEpoch</th>\n",
       "      <th>argumentTypeId</th>\n",
       "      <th>referenceCitation</th>\n",
       "      <th>referenceDoi</th>\n",
       "      <th>referenceUrl</th>\n",
       "      <th>sourceCitation</th>\n",
       "      <th>sourceNamespace</th>\n",
       "      <th>sourceArchiveURI</th>\n",
       "      <th>sourceDOI</th>\n",
       "      <th>sourceLastSeenAtUnixEpoch</th>\n",
       "    </tr>\n",
       "  </thead>\n",
       "  <tbody>\n",
       "    <tr>\n",
       "      <td>193783</td>\n",
       "      <td>EOL:1048468</td>\n",
       "      <td>EOL:1048468 | WD:Q262071 | EOL:1048468</td>\n",
       "      <td>Anas aucklandica</td>\n",
       "      <td>species</td>\n",
       "      <td>Anas aucklandica</td>\n",
       "      <td>EOL:1048468</td>\n",
       "      <td>species</td>\n",
       "      <td>Anas aucklandica</td>\n",
       "      <td>EOL:1048468</td>\n",
       "      <td>NaN</td>\n",
       "      <td>...</td>\n",
       "      <td>1.136074e+12</td>\n",
       "      <td>https://en.wiktionary.org/wiki/support</td>\n",
       "      <td>Moore, S.J., P.F. Battley, I.M. Henderson, and...</td>\n",
       "      <td>NaN</td>\n",
       "      <td>NaN</td>\n",
       "      <td>Allen Hurlbert. 2017. Avian Diet Database.</td>\n",
       "      <td>Dryu0003/dietdatabase</td>\n",
       "      <td>https://github.com/Dryu0003/dietdatabase/archi...</td>\n",
       "      <td>NaN</td>\n",
       "      <td>2019-11-03T00:06:25.837Z</td>\n",
       "    </tr>\n",
       "    <tr>\n",
       "      <td>212212</td>\n",
       "      <td>EOL_V2:1049189</td>\n",
       "      <td>EOL_V2:1049189 | OTT:340882 | WD:Q830385 | NCB...</td>\n",
       "      <td>Callipepla californica</td>\n",
       "      <td>species</td>\n",
       "      <td>Animalia | Chordata | Aves | Galliformes | Odo...</td>\n",
       "      <td>EOL:1 | EOL:694 | EOL:695 | EOL:7589 | EOL:759...</td>\n",
       "      <td>kingdom | phylum | class | order | family | ge...</td>\n",
       "      <td>Callipepla californica</td>\n",
       "      <td>EOL_V2:1049189</td>\n",
       "      <td>Callipepla</td>\n",
       "      <td>...</td>\n",
       "      <td>-1.864598e+12</td>\n",
       "      <td>https://en.wiktionary.org/wiki/support</td>\n",
       "      <td>Beal, F. E. L. 1910. Birds of California in re...</td>\n",
       "      <td>NaN</td>\n",
       "      <td>NaN</td>\n",
       "      <td>Allen Hurlbert. 2017. Avian Diet Database.</td>\n",
       "      <td>Dryu0003/dietdatabase</td>\n",
       "      <td>https://github.com/Dryu0003/dietdatabase/archi...</td>\n",
       "      <td>NaN</td>\n",
       "      <td>2019-11-03T00:06:25.837Z</td>\n",
       "    </tr>\n",
       "    <tr>\n",
       "      <td>212652</td>\n",
       "      <td>GBIF:7341600</td>\n",
       "      <td>GBIF:7341600 | OTT:3597248 | INAT_TAXON:73044 ...</td>\n",
       "      <td>Melozone crissalis</td>\n",
       "      <td>species</td>\n",
       "      <td>Animalia | Chordata | Aves | Passeriformes | E...</td>\n",
       "      <td>GBIF:1 | GBIF:44 | GBIF:212 | GBIF:729 | GBIF:...</td>\n",
       "      <td>kingdom | phylum | class | order | family | ge...</td>\n",
       "      <td>Melozone crissalis</td>\n",
       "      <td>GBIF:7341600</td>\n",
       "      <td>Melozone</td>\n",
       "      <td>...</td>\n",
       "      <td>-1.864598e+12</td>\n",
       "      <td>https://en.wiktionary.org/wiki/support</td>\n",
       "      <td>Beal, F. E. L. 1910. Birds of California in re...</td>\n",
       "      <td>NaN</td>\n",
       "      <td>NaN</td>\n",
       "      <td>Allen Hurlbert. 2017. Avian Diet Database.</td>\n",
       "      <td>Dryu0003/dietdatabase</td>\n",
       "      <td>https://github.com/Dryu0003/dietdatabase/archi...</td>\n",
       "      <td>NaN</td>\n",
       "      <td>2019-11-03T00:06:25.837Z</td>\n",
       "    </tr>\n",
       "    <tr>\n",
       "      <td>213107</td>\n",
       "      <td>ITIS:997805</td>\n",
       "      <td>ITIS:997805 | OTT:711865 | GBIF:8323485 | WD:Q...</td>\n",
       "      <td>Haemorhous mexicanus</td>\n",
       "      <td>species</td>\n",
       "      <td>Animalia | Bilateria | Deuterostomia | Chordat...</td>\n",
       "      <td>ITIS:202423 | ITIS:914154 | ITIS:914156 | ITIS...</td>\n",
       "      <td>kingdom | subkingdom | infrakingdom | phylum |...</td>\n",
       "      <td>Haemorhous mexicanus</td>\n",
       "      <td>ITIS:997805</td>\n",
       "      <td>Haemorhous</td>\n",
       "      <td>...</td>\n",
       "      <td>-2.177453e+12</td>\n",
       "      <td>https://en.wiktionary.org/wiki/support</td>\n",
       "      <td>Beal, F. E. L. 1907. Birds of California in re...</td>\n",
       "      <td>NaN</td>\n",
       "      <td>NaN</td>\n",
       "      <td>Allen Hurlbert. 2017. Avian Diet Database.</td>\n",
       "      <td>Dryu0003/dietdatabase</td>\n",
       "      <td>https://github.com/Dryu0003/dietdatabase/archi...</td>\n",
       "      <td>NaN</td>\n",
       "      <td>2019-11-03T00:06:25.837Z</td>\n",
       "    </tr>\n",
       "    <tr>\n",
       "      <td>1131090</td>\n",
       "      <td>GBIF:2514966</td>\n",
       "      <td>GBIF:2514966 | OTT:42566 | EOL:1017401 | GBIF:...</td>\n",
       "      <td>Puccinia sorghi</td>\n",
       "      <td>species</td>\n",
       "      <td>Fungi | Basidiomycota | Pucciniomycetes | Pucc...</td>\n",
       "      <td>GBIF:5 | GBIF:34 | GBIF:270 | GBIF:1126 | GBIF...</td>\n",
       "      <td>kingdom | phylum | class | order | family | ge...</td>\n",
       "      <td>Puccinia sorghi</td>\n",
       "      <td>GBIF:2514966</td>\n",
       "      <td>Puccinia</td>\n",
       "      <td>...</td>\n",
       "      <td>NaN</td>\n",
       "      <td>https://en.wiktionary.org/wiki/support</td>\n",
       "      <td>Laundon, G.F. &amp; Waterston, J.M.. 1964. Puccini...</td>\n",
       "      <td>NaN</td>\n",
       "      <td>NaN</td>\n",
       "      <td>Food Webs and Species Interactions in the Biod...</td>\n",
       "      <td>globalbioticinteractions/bioinfo</td>\n",
       "      <td>https://zenodo.org/record/1419646/files/global...</td>\n",
       "      <td>10.5281/zenodo.1419646</td>\n",
       "      <td>2019-11-02T23:26:01.682Z</td>\n",
       "    </tr>\n",
       "  </tbody>\n",
       "</table>\n",
       "<p>5 rows × 80 columns</p>\n",
       "</div>"
      ],
      "text/plain": [
       "          sourceTaxonId                                     sourceTaxonIds  \\\n",
       "193783      EOL:1048468             EOL:1048468 | WD:Q262071 | EOL:1048468   \n",
       "212212   EOL_V2:1049189  EOL_V2:1049189 | OTT:340882 | WD:Q830385 | NCB...   \n",
       "212652     GBIF:7341600  GBIF:7341600 | OTT:3597248 | INAT_TAXON:73044 ...   \n",
       "213107      ITIS:997805  ITIS:997805 | OTT:711865 | GBIF:8323485 | WD:Q...   \n",
       "1131090    GBIF:2514966  GBIF:2514966 | OTT:42566 | EOL:1017401 | GBIF:...   \n",
       "\n",
       "                sourceTaxonName sourceTaxonRank  \\\n",
       "193783         Anas aucklandica         species   \n",
       "212212   Callipepla californica         species   \n",
       "212652       Melozone crissalis         species   \n",
       "213107     Haemorhous mexicanus         species   \n",
       "1131090         Puccinia sorghi         species   \n",
       "\n",
       "                                      sourceTaxonPathNames  \\\n",
       "193783                                    Anas aucklandica   \n",
       "212212   Animalia | Chordata | Aves | Galliformes | Odo...   \n",
       "212652   Animalia | Chordata | Aves | Passeriformes | E...   \n",
       "213107   Animalia | Bilateria | Deuterostomia | Chordat...   \n",
       "1131090  Fungi | Basidiomycota | Pucciniomycetes | Pucc...   \n",
       "\n",
       "                                        sourceTaxonPathIds  \\\n",
       "193783                                         EOL:1048468   \n",
       "212212   EOL:1 | EOL:694 | EOL:695 | EOL:7589 | EOL:759...   \n",
       "212652   GBIF:1 | GBIF:44 | GBIF:212 | GBIF:729 | GBIF:...   \n",
       "213107   ITIS:202423 | ITIS:914154 | ITIS:914156 | ITIS...   \n",
       "1131090  GBIF:5 | GBIF:34 | GBIF:270 | GBIF:1126 | GBIF...   \n",
       "\n",
       "                                  sourceTaxonPathRankNames  \\\n",
       "193783                                             species   \n",
       "212212   kingdom | phylum | class | order | family | ge...   \n",
       "212652   kingdom | phylum | class | order | family | ge...   \n",
       "213107   kingdom | subkingdom | infrakingdom | phylum |...   \n",
       "1131090  kingdom | phylum | class | order | family | ge...   \n",
       "\n",
       "         sourceTaxonSpeciesName sourceTaxonSpeciesId sourceTaxonGenusName  \\\n",
       "193783         Anas aucklandica          EOL:1048468                  NaN   \n",
       "212212   Callipepla californica       EOL_V2:1049189           Callipepla   \n",
       "212652       Melozone crissalis         GBIF:7341600             Melozone   \n",
       "213107     Haemorhous mexicanus          ITIS:997805           Haemorhous   \n",
       "1131090         Puccinia sorghi         GBIF:2514966             Puccinia   \n",
       "\n",
       "         ... eventDateUnixEpoch                          argumentTypeId  \\\n",
       "193783   ...       1.136074e+12  https://en.wiktionary.org/wiki/support   \n",
       "212212   ...      -1.864598e+12  https://en.wiktionary.org/wiki/support   \n",
       "212652   ...      -1.864598e+12  https://en.wiktionary.org/wiki/support   \n",
       "213107   ...      -2.177453e+12  https://en.wiktionary.org/wiki/support   \n",
       "1131090  ...                NaN  https://en.wiktionary.org/wiki/support   \n",
       "\n",
       "                                         referenceCitation referenceDoi  \\\n",
       "193783   Moore, S.J., P.F. Battley, I.M. Henderson, and...          NaN   \n",
       "212212   Beal, F. E. L. 1910. Birds of California in re...          NaN   \n",
       "212652   Beal, F. E. L. 1910. Birds of California in re...          NaN   \n",
       "213107   Beal, F. E. L. 1907. Birds of California in re...          NaN   \n",
       "1131090  Laundon, G.F. & Waterston, J.M.. 1964. Puccini...          NaN   \n",
       "\n",
       "        referenceUrl                                     sourceCitation  \\\n",
       "193783           NaN         Allen Hurlbert. 2017. Avian Diet Database.   \n",
       "212212           NaN         Allen Hurlbert. 2017. Avian Diet Database.   \n",
       "212652           NaN         Allen Hurlbert. 2017. Avian Diet Database.   \n",
       "213107           NaN         Allen Hurlbert. 2017. Avian Diet Database.   \n",
       "1131090          NaN  Food Webs and Species Interactions in the Biod...   \n",
       "\n",
       "                          sourceNamespace  \\\n",
       "193783              Dryu0003/dietdatabase   \n",
       "212212              Dryu0003/dietdatabase   \n",
       "212652              Dryu0003/dietdatabase   \n",
       "213107              Dryu0003/dietdatabase   \n",
       "1131090  globalbioticinteractions/bioinfo   \n",
       "\n",
       "                                          sourceArchiveURI  \\\n",
       "193783   https://github.com/Dryu0003/dietdatabase/archi...   \n",
       "212212   https://github.com/Dryu0003/dietdatabase/archi...   \n",
       "212652   https://github.com/Dryu0003/dietdatabase/archi...   \n",
       "213107   https://github.com/Dryu0003/dietdatabase/archi...   \n",
       "1131090  https://zenodo.org/record/1419646/files/global...   \n",
       "\n",
       "                      sourceDOI sourceLastSeenAtUnixEpoch  \n",
       "193783                      NaN  2019-11-03T00:06:25.837Z  \n",
       "212212                      NaN  2019-11-03T00:06:25.837Z  \n",
       "212652                      NaN  2019-11-03T00:06:25.837Z  \n",
       "213107                      NaN  2019-11-03T00:06:25.837Z  \n",
       "1131090  10.5281/zenodo.1419646  2019-11-02T23:26:01.682Z  \n",
       "\n",
       "[5 rows x 80 columns]"
      ]
     },
     "execution_count": 55,
     "metadata": {},
     "output_type": "execute_result"
    }
   ],
   "source": [
    "interactDataTaxon.head()"
   ]
  },
  {
   "cell_type": "code",
   "execution_count": 56,
   "metadata": {},
   "outputs": [],
   "source": [
    "interactingTaxa = pd.DataFrame(interactDataTaxon['sourceTaxonName'].append(interactDataTaxon['targetTaxonName']).unique())"
   ]
  },
  {
   "cell_type": "code",
   "execution_count": 57,
   "metadata": {},
   "outputs": [
    {
     "data": {
      "text/html": [
       "<div>\n",
       "<style scoped>\n",
       "    .dataframe tbody tr th:only-of-type {\n",
       "        vertical-align: middle;\n",
       "    }\n",
       "\n",
       "    .dataframe tbody tr th {\n",
       "        vertical-align: top;\n",
       "    }\n",
       "\n",
       "    .dataframe thead th {\n",
       "        text-align: right;\n",
       "    }\n",
       "</style>\n",
       "<table border=\"1\" class=\"dataframe\">\n",
       "  <thead>\n",
       "    <tr style=\"text-align: right;\">\n",
       "      <th></th>\n",
       "      <th>0</th>\n",
       "    </tr>\n",
       "  </thead>\n",
       "  <tbody>\n",
       "    <tr>\n",
       "      <td>0</td>\n",
       "      <td>Anas aucklandica</td>\n",
       "    </tr>\n",
       "    <tr>\n",
       "      <td>1</td>\n",
       "      <td>Callipepla californica</td>\n",
       "    </tr>\n",
       "    <tr>\n",
       "      <td>2</td>\n",
       "      <td>Melozone crissalis</td>\n",
       "    </tr>\n",
       "    <tr>\n",
       "      <td>3</td>\n",
       "      <td>Haemorhous mexicanus</td>\n",
       "    </tr>\n",
       "    <tr>\n",
       "      <td>4</td>\n",
       "      <td>Puccinia sorghi</td>\n",
       "    </tr>\n",
       "    <tr>\n",
       "      <td>...</td>\n",
       "      <td>...</td>\n",
       "    </tr>\n",
       "    <tr>\n",
       "      <td>826</td>\n",
       "      <td>Murdannia keisak</td>\n",
       "    </tr>\n",
       "    <tr>\n",
       "      <td>827</td>\n",
       "      <td>Aster hispidus</td>\n",
       "    </tr>\n",
       "    <tr>\n",
       "      <td>828</td>\n",
       "      <td>Solidago virgaurea</td>\n",
       "    </tr>\n",
       "    <tr>\n",
       "      <td>829</td>\n",
       "      <td>Helichrysum stoechas</td>\n",
       "    </tr>\n",
       "    <tr>\n",
       "      <td>830</td>\n",
       "      <td>Mosla dianthera</td>\n",
       "    </tr>\n",
       "  </tbody>\n",
       "</table>\n",
       "<p>831 rows × 1 columns</p>\n",
       "</div>"
      ],
      "text/plain": [
       "                          0\n",
       "0          Anas aucklandica\n",
       "1    Callipepla californica\n",
       "2        Melozone crissalis\n",
       "3      Haemorhous mexicanus\n",
       "4           Puccinia sorghi\n",
       "..                      ...\n",
       "826        Murdannia keisak\n",
       "827          Aster hispidus\n",
       "828      Solidago virgaurea\n",
       "829    Helichrysum stoechas\n",
       "830         Mosla dianthera\n",
       "\n",
       "[831 rows x 1 columns]"
      ]
     },
     "execution_count": 57,
     "metadata": {},
     "output_type": "execute_result"
    }
   ],
   "source": [
    "interactingTaxa"
   ]
  },
  {
   "cell_type": "code",
   "execution_count": 58,
   "metadata": {},
   "outputs": [],
   "source": [
    "    cleanInteractDataTaxon = interactDataTaxon[['sourceTaxonId', 'sourceTaxonName', 'sourceTaxonRank',\n",
    "       'sourceTaxonFamilyName', 'interactionTypeName',\n",
    "       'targetTaxonName','targetTaxonRank',\n",
    "        ]].dropna(subset=['targetTaxonName','sourceTaxonName'])"
   ]
  },
  {
   "cell_type": "code",
   "execution_count": 59,
   "metadata": {},
   "outputs": [
    {
     "data": {
      "text/html": [
       "<div>\n",
       "<style scoped>\n",
       "    .dataframe tbody tr th:only-of-type {\n",
       "        vertical-align: middle;\n",
       "    }\n",
       "\n",
       "    .dataframe tbody tr th {\n",
       "        vertical-align: top;\n",
       "    }\n",
       "\n",
       "    .dataframe thead th {\n",
       "        text-align: right;\n",
       "    }\n",
       "</style>\n",
       "<table border=\"1\" class=\"dataframe\">\n",
       "  <thead>\n",
       "    <tr style=\"text-align: right;\">\n",
       "      <th></th>\n",
       "      <th>sourceTaxonId</th>\n",
       "      <th>sourceTaxonName</th>\n",
       "      <th>sourceTaxonRank</th>\n",
       "      <th>sourceTaxonFamilyName</th>\n",
       "      <th>interactionTypeName</th>\n",
       "      <th>targetTaxonName</th>\n",
       "      <th>targetTaxonRank</th>\n",
       "    </tr>\n",
       "  </thead>\n",
       "  <tbody>\n",
       "    <tr>\n",
       "      <td>193783</td>\n",
       "      <td>EOL:1048468</td>\n",
       "      <td>Anas aucklandica</td>\n",
       "      <td>species</td>\n",
       "      <td>NaN</td>\n",
       "      <td>eats</td>\n",
       "      <td>Oxalis corniculata</td>\n",
       "      <td>species</td>\n",
       "    </tr>\n",
       "    <tr>\n",
       "      <td>212212</td>\n",
       "      <td>EOL_V2:1049189</td>\n",
       "      <td>Callipepla californica</td>\n",
       "      <td>species</td>\n",
       "      <td>Odontophoridae</td>\n",
       "      <td>eats</td>\n",
       "      <td>Oxalis corniculata</td>\n",
       "      <td>species</td>\n",
       "    </tr>\n",
       "    <tr>\n",
       "      <td>212652</td>\n",
       "      <td>GBIF:7341600</td>\n",
       "      <td>Melozone crissalis</td>\n",
       "      <td>species</td>\n",
       "      <td>Emberizidae</td>\n",
       "      <td>eats</td>\n",
       "      <td>Oxalis corniculata</td>\n",
       "      <td>species</td>\n",
       "    </tr>\n",
       "    <tr>\n",
       "      <td>213107</td>\n",
       "      <td>ITIS:997805</td>\n",
       "      <td>Haemorhous mexicanus</td>\n",
       "      <td>species</td>\n",
       "      <td>Fringillidae</td>\n",
       "      <td>eats</td>\n",
       "      <td>Oxalis corniculata</td>\n",
       "      <td>species</td>\n",
       "    </tr>\n",
       "    <tr>\n",
       "      <td>1131090</td>\n",
       "      <td>GBIF:2514966</td>\n",
       "      <td>Puccinia sorghi</td>\n",
       "      <td>species</td>\n",
       "      <td>Pucciniaceae</td>\n",
       "      <td>parasiteOf</td>\n",
       "      <td>Oxalis corniculata</td>\n",
       "      <td>species</td>\n",
       "    </tr>\n",
       "  </tbody>\n",
       "</table>\n",
       "</div>"
      ],
      "text/plain": [
       "          sourceTaxonId         sourceTaxonName sourceTaxonRank  \\\n",
       "193783      EOL:1048468        Anas aucklandica         species   \n",
       "212212   EOL_V2:1049189  Callipepla californica         species   \n",
       "212652     GBIF:7341600      Melozone crissalis         species   \n",
       "213107      ITIS:997805    Haemorhous mexicanus         species   \n",
       "1131090    GBIF:2514966         Puccinia sorghi         species   \n",
       "\n",
       "        sourceTaxonFamilyName interactionTypeName     targetTaxonName  \\\n",
       "193783                    NaN                eats  Oxalis corniculata   \n",
       "212212         Odontophoridae                eats  Oxalis corniculata   \n",
       "212652            Emberizidae                eats  Oxalis corniculata   \n",
       "213107           Fringillidae                eats  Oxalis corniculata   \n",
       "1131090          Pucciniaceae          parasiteOf  Oxalis corniculata   \n",
       "\n",
       "        targetTaxonRank  \n",
       "193783          species  \n",
       "212212          species  \n",
       "212652          species  \n",
       "213107          species  \n",
       "1131090         species  "
      ]
     },
     "execution_count": 59,
     "metadata": {},
     "output_type": "execute_result"
    }
   ],
   "source": [
    "cleanInteractDataTaxon.head()"
   ]
  },
  {
   "cell_type": "code",
   "execution_count": 60,
   "metadata": {},
   "outputs": [
    {
     "data": {
      "text/plain": [
       "array(['eats', 'parasiteOf', 'visitsFlowersOf', 'hasHost', 'mutualistOf',\n",
       "       'pathogenOf', 'pollinates', 'ectoParasiteOf', 'endoparasiteOf',\n",
       "       'endoparasitoidOf', 'preysOn'], dtype=object)"
      ]
     },
     "execution_count": 60,
     "metadata": {},
     "output_type": "execute_result"
    }
   ],
   "source": [
    "# How many different sort of interaction do I have left?\n",
    "# Checking out all the interaction types\n",
    "cleanInteractDataTaxon['interactionTypeName'].unique()"
   ]
  },
  {
   "cell_type": "code",
   "execution_count": 61,
   "metadata": {},
   "outputs": [
    {
     "data": {
      "text/plain": [
       "interactionTypeName\n",
       "pollinates          560\n",
       "mutualistOf         401\n",
       "eats                357\n",
       "visitsFlowersOf     284\n",
       "parasiteOf           75\n",
       "hasHost              33\n",
       "pathogenOf           29\n",
       "ectoParasiteOf        7\n",
       "preysOn               3\n",
       "endoparasitoidOf      2\n",
       "endoparasiteOf        2\n",
       "dtype: int64"
      ]
     },
     "execution_count": 61,
     "metadata": {},
     "output_type": "execute_result"
    }
   ],
   "source": [
    "cleanInteractDataTaxon.groupby(cleanInteractDataTaxon['interactionTypeName']).size().sort_values(ascending = False)"
   ]
  },
  {
   "cell_type": "code",
   "execution_count": 62,
   "metadata": {},
   "outputs": [
    {
     "data": {
      "text/plain": [
       "1753"
      ]
     },
     "execution_count": 62,
     "metadata": {},
     "output_type": "execute_result"
    }
   ],
   "source": [
    "len(cleanInteractDataTaxon)"
   ]
  },
  {
   "cell_type": "code",
   "execution_count": 63,
   "metadata": {},
   "outputs": [
    {
     "data": {
      "text/html": [
       "<div>\n",
       "<style scoped>\n",
       "    .dataframe tbody tr th:only-of-type {\n",
       "        vertical-align: middle;\n",
       "    }\n",
       "\n",
       "    .dataframe tbody tr th {\n",
       "        vertical-align: top;\n",
       "    }\n",
       "\n",
       "    .dataframe thead th {\n",
       "        text-align: right;\n",
       "    }\n",
       "</style>\n",
       "<table border=\"1\" class=\"dataframe\">\n",
       "  <thead>\n",
       "    <tr style=\"text-align: right;\">\n",
       "      <th></th>\n",
       "      <th>sourceTaxonId</th>\n",
       "      <th>sourceTaxonName</th>\n",
       "      <th>sourceTaxonRank</th>\n",
       "      <th>sourceTaxonFamilyName</th>\n",
       "      <th>interactionTypeName</th>\n",
       "      <th>targetTaxonName</th>\n",
       "      <th>targetTaxonRank</th>\n",
       "    </tr>\n",
       "  </thead>\n",
       "  <tbody>\n",
       "    <tr>\n",
       "      <td>193783</td>\n",
       "      <td>EOL:1048468</td>\n",
       "      <td>Anas aucklandica</td>\n",
       "      <td>species</td>\n",
       "      <td>NaN</td>\n",
       "      <td>eats</td>\n",
       "      <td>Oxalis corniculata</td>\n",
       "      <td>species</td>\n",
       "    </tr>\n",
       "    <tr>\n",
       "      <td>212212</td>\n",
       "      <td>EOL_V2:1049189</td>\n",
       "      <td>Callipepla californica</td>\n",
       "      <td>species</td>\n",
       "      <td>Odontophoridae</td>\n",
       "      <td>eats</td>\n",
       "      <td>Oxalis corniculata</td>\n",
       "      <td>species</td>\n",
       "    </tr>\n",
       "    <tr>\n",
       "      <td>212652</td>\n",
       "      <td>GBIF:7341600</td>\n",
       "      <td>Melozone crissalis</td>\n",
       "      <td>species</td>\n",
       "      <td>Emberizidae</td>\n",
       "      <td>eats</td>\n",
       "      <td>Oxalis corniculata</td>\n",
       "      <td>species</td>\n",
       "    </tr>\n",
       "    <tr>\n",
       "      <td>213107</td>\n",
       "      <td>ITIS:997805</td>\n",
       "      <td>Haemorhous mexicanus</td>\n",
       "      <td>species</td>\n",
       "      <td>Fringillidae</td>\n",
       "      <td>eats</td>\n",
       "      <td>Oxalis corniculata</td>\n",
       "      <td>species</td>\n",
       "    </tr>\n",
       "    <tr>\n",
       "      <td>1131090</td>\n",
       "      <td>GBIF:2514966</td>\n",
       "      <td>Puccinia sorghi</td>\n",
       "      <td>species</td>\n",
       "      <td>Pucciniaceae</td>\n",
       "      <td>parasiteOf</td>\n",
       "      <td>Oxalis corniculata</td>\n",
       "      <td>species</td>\n",
       "    </tr>\n",
       "  </tbody>\n",
       "</table>\n",
       "</div>"
      ],
      "text/plain": [
       "          sourceTaxonId         sourceTaxonName sourceTaxonRank  \\\n",
       "193783      EOL:1048468        Anas aucklandica         species   \n",
       "212212   EOL_V2:1049189  Callipepla californica         species   \n",
       "212652     GBIF:7341600      Melozone crissalis         species   \n",
       "213107      ITIS:997805    Haemorhous mexicanus         species   \n",
       "1131090    GBIF:2514966         Puccinia sorghi         species   \n",
       "\n",
       "        sourceTaxonFamilyName interactionTypeName     targetTaxonName  \\\n",
       "193783                    NaN                eats  Oxalis corniculata   \n",
       "212212         Odontophoridae                eats  Oxalis corniculata   \n",
       "212652            Emberizidae                eats  Oxalis corniculata   \n",
       "213107           Fringillidae                eats  Oxalis corniculata   \n",
       "1131090          Pucciniaceae          parasiteOf  Oxalis corniculata   \n",
       "\n",
       "        targetTaxonRank  \n",
       "193783          species  \n",
       "212212          species  \n",
       "212652          species  \n",
       "213107          species  \n",
       "1131090         species  "
      ]
     },
     "execution_count": 63,
     "metadata": {},
     "output_type": "execute_result"
    }
   ],
   "source": [
    "cleanInteractDataTaxon.head()"
   ]
  },
  {
   "cell_type": "markdown",
   "metadata": {},
   "source": [
    "## Create a file with all the nodes and their attributes"
   ]
  },
  {
   "cell_type": "code",
   "execution_count": 64,
   "metadata": {},
   "outputs": [],
   "source": [
    "# Get the source nodes\n",
    "nodes = cleanInteractDataTaxon.drop_duplicates(subset=['sourceTaxonName'])"
   ]
  },
  {
   "cell_type": "code",
   "execution_count": 65,
   "metadata": {},
   "outputs": [],
   "source": [
    "# Get the target nodes\n",
    "nodes = nodes.append(cleanInteractDataTaxon.drop_duplicates(subset=['targetTaxonName']))"
   ]
  },
  {
   "cell_type": "code",
   "execution_count": 66,
   "metadata": {},
   "outputs": [
    {
     "data": {
      "text/html": [
       "<div>\n",
       "<style scoped>\n",
       "    .dataframe tbody tr th:only-of-type {\n",
       "        vertical-align: middle;\n",
       "    }\n",
       "\n",
       "    .dataframe tbody tr th {\n",
       "        vertical-align: top;\n",
       "    }\n",
       "\n",
       "    .dataframe thead th {\n",
       "        text-align: right;\n",
       "    }\n",
       "</style>\n",
       "<table border=\"1\" class=\"dataframe\">\n",
       "  <thead>\n",
       "    <tr style=\"text-align: right;\">\n",
       "      <th></th>\n",
       "      <th>sourceTaxonId</th>\n",
       "      <th>sourceTaxonName</th>\n",
       "      <th>sourceTaxonRank</th>\n",
       "      <th>sourceTaxonFamilyName</th>\n",
       "      <th>interactionTypeName</th>\n",
       "      <th>targetTaxonName</th>\n",
       "      <th>targetTaxonRank</th>\n",
       "    </tr>\n",
       "  </thead>\n",
       "  <tbody>\n",
       "    <tr>\n",
       "      <td>193783</td>\n",
       "      <td>EOL:1048468</td>\n",
       "      <td>Anas aucklandica</td>\n",
       "      <td>species</td>\n",
       "      <td>NaN</td>\n",
       "      <td>eats</td>\n",
       "      <td>Oxalis corniculata</td>\n",
       "      <td>species</td>\n",
       "    </tr>\n",
       "    <tr>\n",
       "      <td>212212</td>\n",
       "      <td>EOL_V2:1049189</td>\n",
       "      <td>Callipepla californica</td>\n",
       "      <td>species</td>\n",
       "      <td>Odontophoridae</td>\n",
       "      <td>eats</td>\n",
       "      <td>Oxalis corniculata</td>\n",
       "      <td>species</td>\n",
       "    </tr>\n",
       "    <tr>\n",
       "      <td>212652</td>\n",
       "      <td>GBIF:7341600</td>\n",
       "      <td>Melozone crissalis</td>\n",
       "      <td>species</td>\n",
       "      <td>Emberizidae</td>\n",
       "      <td>eats</td>\n",
       "      <td>Oxalis corniculata</td>\n",
       "      <td>species</td>\n",
       "    </tr>\n",
       "    <tr>\n",
       "      <td>213107</td>\n",
       "      <td>ITIS:997805</td>\n",
       "      <td>Haemorhous mexicanus</td>\n",
       "      <td>species</td>\n",
       "      <td>Fringillidae</td>\n",
       "      <td>eats</td>\n",
       "      <td>Oxalis corniculata</td>\n",
       "      <td>species</td>\n",
       "    </tr>\n",
       "    <tr>\n",
       "      <td>1131090</td>\n",
       "      <td>GBIF:2514966</td>\n",
       "      <td>Puccinia sorghi</td>\n",
       "      <td>species</td>\n",
       "      <td>Pucciniaceae</td>\n",
       "      <td>parasiteOf</td>\n",
       "      <td>Oxalis corniculata</td>\n",
       "      <td>species</td>\n",
       "    </tr>\n",
       "  </tbody>\n",
       "</table>\n",
       "</div>"
      ],
      "text/plain": [
       "          sourceTaxonId         sourceTaxonName sourceTaxonRank  \\\n",
       "193783      EOL:1048468        Anas aucklandica         species   \n",
       "212212   EOL_V2:1049189  Callipepla californica         species   \n",
       "212652     GBIF:7341600      Melozone crissalis         species   \n",
       "213107      ITIS:997805    Haemorhous mexicanus         species   \n",
       "1131090    GBIF:2514966         Puccinia sorghi         species   \n",
       "\n",
       "        sourceTaxonFamilyName interactionTypeName     targetTaxonName  \\\n",
       "193783                    NaN                eats  Oxalis corniculata   \n",
       "212212         Odontophoridae                eats  Oxalis corniculata   \n",
       "212652            Emberizidae                eats  Oxalis corniculata   \n",
       "213107           Fringillidae                eats  Oxalis corniculata   \n",
       "1131090          Pucciniaceae          parasiteOf  Oxalis corniculata   \n",
       "\n",
       "        targetTaxonRank  \n",
       "193783          species  \n",
       "212212          species  \n",
       "212652          species  \n",
       "213107          species  \n",
       "1131090         species  "
      ]
     },
     "execution_count": 66,
     "metadata": {},
     "output_type": "execute_result"
    }
   ],
   "source": [
    "nodes.head()"
   ]
  },
  {
   "cell_type": "raw",
   "metadata": {},
   "source": [
    "# make sure the list of taxa is unique.\n",
    "interactingTaxa = interactingTaxa.unique()\n",
    "\n",
    "interactingTaxa.rename(columns={'O':'interactingTaxon'}, inplace=True)"
   ]
  },
  {
   "cell_type": "code",
   "execution_count": 67,
   "metadata": {},
   "outputs": [
    {
     "data": {
      "text/plain": [
       "0    830\n",
       "dtype: int64"
      ]
     },
     "execution_count": 67,
     "metadata": {},
     "output_type": "execute_result"
    }
   ],
   "source": [
    "interactingTaxa.count()\n"
   ]
  },
  {
   "cell_type": "markdown",
   "metadata": {},
   "source": [
    "### This function takes a name string and checks on GBIF to see if the name exists there."
   ]
  },
  {
   "cell_type": "code",
   "execution_count": 68,
   "metadata": {},
   "outputs": [],
   "source": [
    "def speciesExistsInGBIF(name, rank):\n",
    "    try:\n",
    "        match = species.name_backbone(name=name, rank=rank, limit = 1)\n",
    "\n",
    "        # if there is no match this is returned from .name_backbone {'confidence': 100, 'matchType': 'NONE', 'synonym': False}\n",
    "        if match['matchType'] == 'NONE':\n",
    "            return False\n",
    "        else:\n",
    "            return match\n",
    "    except ValueError as ve:\n",
    "        print(ve)\n",
    "        exit(1)"
   ]
  },
  {
   "cell_type": "markdown",
   "metadata": {},
   "source": [
    "### Check that the species in question is actually found on GBIF"
   ]
  },
  {
   "cell_type": "code",
   "execution_count": 69,
   "metadata": {},
   "outputs": [],
   "source": [
    "if(speciesExistsInGBIF(taxon, \"species\") == False):\n",
    "    print(\"##### {0} has not been found on GBIF #####\".format(taxon))"
   ]
  },
  {
   "cell_type": "markdown",
   "metadata": {},
   "source": [
    "### Check to see which taxa in the interaction network are found in GBIF and list those ones that are not"
   ]
  },
  {
   "cell_type": "code",
   "execution_count": 70,
   "metadata": {},
   "outputs": [
    {
     "name": "stdout",
     "output_type": "stream",
     "text": [
      "Taxa from GLoBI, but not found in GBIF\n",
      "Tomato leaf curl China virus - OX2\n",
      "Ageratum Yellow vein China virus - OX1\n",
      "nan\n",
      "Alphavirus\n",
      "NPV\n",
      "Cypovirus\n",
      "Ficus carica\n",
      "Digitalis purpurea\n",
      "Sida spinosa\n",
      "Salix ambigua\n",
      "Salix longifolia\n"
     ]
    }
   ],
   "source": [
    "taxaFound = {}\n",
    "\n",
    "print('Taxa from GLoBI, but not found in GBIF')\n",
    "for name in interactingTaxa.iterrows():\n",
    "    GBIFName = speciesExistsInGBIF(name[1], \"species\")\n",
    "    if GBIFName == False:\n",
    "        print(name[1][0])\n",
    "        taxaFound[name[1][0]] = False\n",
    "    else:\n",
    "        taxaFound[name[1][0]] = GBIFName['usageKey']\n",
    "    "
   ]
  },
  {
   "cell_type": "code",
   "execution_count": 71,
   "metadata": {},
   "outputs": [],
   "source": [
    "# Convert to a Pandas dataframe\n",
    "taxaFound = pd.DataFrame.from_dict(taxaFound, orient='index')"
   ]
  },
  {
   "cell_type": "code",
   "execution_count": 72,
   "metadata": {},
   "outputs": [
    {
     "data": {
      "text/plain": [
       "831"
      ]
     },
     "execution_count": 72,
     "metadata": {},
     "output_type": "execute_result"
    }
   ],
   "source": [
    "len(taxaFound)"
   ]
  },
  {
   "cell_type": "code",
   "execution_count": 73,
   "metadata": {},
   "outputs": [
    {
     "data": {
      "text/html": [
       "<div>\n",
       "<style scoped>\n",
       "    .dataframe tbody tr th:only-of-type {\n",
       "        vertical-align: middle;\n",
       "    }\n",
       "\n",
       "    .dataframe tbody tr th {\n",
       "        vertical-align: top;\n",
       "    }\n",
       "\n",
       "    .dataframe thead th {\n",
       "        text-align: right;\n",
       "    }\n",
       "</style>\n",
       "<table border=\"1\" class=\"dataframe\">\n",
       "  <thead>\n",
       "    <tr style=\"text-align: right;\">\n",
       "      <th></th>\n",
       "      <th>0</th>\n",
       "    </tr>\n",
       "  </thead>\n",
       "  <tbody>\n",
       "    <tr>\n",
       "      <td>Anas aucklandica</td>\n",
       "      <td>2498078</td>\n",
       "    </tr>\n",
       "    <tr>\n",
       "      <td>Callipepla californica</td>\n",
       "      <td>5228080</td>\n",
       "    </tr>\n",
       "  </tbody>\n",
       "</table>\n",
       "</div>"
      ],
      "text/plain": [
       "                              0\n",
       "Anas aucklandica        2498078\n",
       "Callipepla californica  5228080"
      ]
     },
     "execution_count": 73,
     "metadata": {},
     "output_type": "execute_result"
    }
   ],
   "source": [
    "taxaFound.head(2)"
   ]
  },
  {
   "cell_type": "markdown",
   "metadata": {},
   "source": [
    "## Create a SQLite database with APSW"
   ]
  },
  {
   "cell_type": "code",
   "execution_count": 74,
   "metadata": {},
   "outputs": [],
   "source": [
    "import sqlite3\n",
    "from sqlite3 import Error"
   ]
  },
  {
   "cell_type": "code",
   "execution_count": 75,
   "metadata": {},
   "outputs": [],
   "source": [
    "database = r\"C:\\Users\\quentin\\Documents\\interactiasOcc\\interactias\\data\\cube.db\"\n",
    "try:\n",
    "    conn = sqlite3.connect(database)\n",
    "except Error as e:\n",
    "    print(e)"
   ]
  },
  {
   "cell_type": "code",
   "execution_count": 76,
   "metadata": {},
   "outputs": [],
   "source": [
    "\n",
    " \n",
    "sql_create_cube_table = \"\"\" CREATE TABLE IF NOT EXISTS cube (\n",
    "                                        year integer,\n",
    "                                        eea_cell_code text NOT NULL,\n",
    "                                        taxonKey integer,\n",
    "                                        n integer,\n",
    "                                        min_coord_uncertainty float\n",
    "                                    ); \"\"\"\n",
    " "
   ]
  },
  {
   "cell_type": "code",
   "execution_count": 77,
   "metadata": {},
   "outputs": [],
   "source": [
    "# create table\n",
    "try:\n",
    "    conn.execute(sql_create_cube_table)\n",
    "except Error as e:\n",
    "    print(e)"
   ]
  },
  {
   "cell_type": "code",
   "execution_count": 78,
   "metadata": {},
   "outputs": [],
   "source": [
    "## Clear down the table before filling it up again"
   ]
  },
  {
   "cell_type": "code",
   "execution_count": 79,
   "metadata": {},
   "outputs": [
    {
     "data": {
      "text/plain": [
       "<sqlite3.Cursor at 0x1ec9dc516c0>"
      ]
     },
     "execution_count": 79,
     "metadata": {},
     "output_type": "execute_result"
    }
   ],
   "source": [
    "\n",
    "conn.execute('DELETE FROM cube')"
   ]
  },
  {
   "cell_type": "code",
   "execution_count": 80,
   "metadata": {
    "scrolled": true
   },
   "outputs": [],
   "source": [
    "with open(r\"C:\\Users\\quentin\\Documents\\occ-processing\\data\\processed\\cube_belgium.tsv\", \"r\") as f:\n",
    "    rows = f.readlines()\n",
    "    for row in rows:\n",
    "        fields = row.split('\\t')\n",
    "        conn.execute(f'INSERT INTO cube(year, eea_cell_code, taxonKey, n, min_coord_uncertainty)'\\\n",
    "                     f\"VALUES ('{fields[0]}','{fields[1]}','{fields[2]}','{fields[3]}','{fields[4]}')\") \n",
    "conn.commit()"
   ]
  },
  {
   "cell_type": "code",
   "execution_count": null,
   "metadata": {},
   "outputs": [],
   "source": []
  },
  {
   "cell_type": "code",
   "execution_count": 81,
   "metadata": {},
   "outputs": [
    {
     "name": "stdout",
     "output_type": "stream",
     "text": [
      "<sqlite3.Cursor object at 0x000001EC9DAF11F0>\n"
     ]
    }
   ],
   "source": [
    "print(conn.execute('SELECT count(year) FROM cube'))\n",
    "conn.close()"
   ]
  },
  {
   "cell_type": "markdown",
   "metadata": {},
   "source": [
    "### This function takes a GBIF species key and counts how many occurences exist in the data cube"
   ]
  },
  {
   "cell_type": "code",
   "execution_count": 82,
   "metadata": {},
   "outputs": [],
   "source": [
    "def speciesCountInCube(conn, key):\n",
    "    count = 0\n",
    "    cur = conn.cursor()\n",
    "    cur.execute(\"SELECT COUNT(taxonKey) from (SELECT taxonKey FROM cube WHERE year > ? and taxonKey = ? GROUP BY eea_cell_code)\", (year, key,))\n",
    "    return(cur.fetchall())"
   ]
  },
  {
   "cell_type": "markdown",
   "metadata": {},
   "source": [
    "### Loop over all the taxa that are in the interaction network and are in GBIF to find the ones that have been found in the country"
   ]
  },
  {
   "cell_type": "code",
   "execution_count": 103,
   "metadata": {},
   "outputs": [],
   "source": [
    "taxaFoundInCountry = []\n",
    "\n",
    "try:\n",
    "    conn = sqlite3.connect(database)\n",
    "except Error as e:\n",
    "    print(e)"
   ]
  },
  {
   "cell_type": "code",
   "execution_count": 104,
   "metadata": {},
   "outputs": [
    {
     "name": "stdout",
     "output_type": "stream",
     "text": [
      "Callipepla californica with key 5228080 occurs in 12 km squares.\n",
      "Haemorhous mexicanus with key 8323485 occurs in 22 km squares.\n",
      "Buteo jamaicensis with key 2480542 occurs in 10 km squares.\n",
      "Falco sparverius with key 9685907 occurs in 9 km squares.\n",
      "Verbena bonariensis with key 2925514 occurs in 631 km squares.\n",
      "Dittrichia graveolens with key 3101193 occurs in 95 km squares.\n",
      "Brassica napus with key 3042636 occurs in 1373 km squares.\n",
      "Foeniculum vulgare with key 3034922 occurs in 702 km squares.\n",
      "Lepidium latifolium with key 5376692 occurs in 77 km squares.\n",
      "Medicago polymorpha with key 2965531 occurs in 78 km squares.\n",
      "Coriandrum sativum with key 3034871 occurs in 68 km squares.\n",
      "Eschscholzia californica with key 2888380 occurs in 251 km squares.\n",
      "Lobularia maritima with key 5373358 occurs in 399 km squares.\n",
      "Malva parviflora with key 3152378 occurs in 45 km squares.\n",
      "Carduus pycnocephalus with key 3114667 occurs in 6 km squares.\n",
      "Oxalis corniculata with key 8427624 occurs in 2897 km squares.\n",
      "Milax gagates with key 2297108 occurs in 32 km squares.\n",
      "Potamopyrgus antipodarum with key 5192470 occurs in 826 km squares.\n",
      "Solanum tuberosum with key 2930262 occurs in 238 km squares.\n",
      "Phaseolus vulgaris with key 5350452 occurs in 7 km squares.\n",
      "Lens culinaris with key 5350010 occurs in 8 km squares.\n",
      "Panicum capillare with key 2705162 occurs in 174 km squares.\n",
      "Brassica rapa with key 7903057 occurs in 987 km squares.\n",
      "Centaurea melitensis with key 3128091 occurs in 6 km squares.\n",
      "Zea mays with key 5290052 occurs in 169 km squares.\n",
      "Avena sativa with key 2705290 occurs in 241 km squares.\n",
      "Amaranthus retroflexus with key 6109534 occurs in 1091 km squares.\n",
      "Raphanus sativus with key 7678610 occurs in 289 km squares.\n",
      "Sisymbrium altissimum with key 3046736 occurs in 567 km squares.\n",
      "Triticum aestivum with key 7795888 occurs in 379 km squares.\n",
      "Helianthus annuus with key 9206251 occurs in 449 km squares.\n",
      "Echinochloa crus-galli with key 2702808 occurs in 5007 km squares.\n",
      "Malva pusilla with key 3152372 occurs in 71 km squares.\n",
      "Melilotus albus with key 2971095 occurs in 3747 km squares.\n",
      "Verbena hastata with key 2925527 occurs in 36 km squares.\n",
      "Silybum marianum with key 3145214 occurs in 362 km squares.\n",
      "Dysphania botrys with key 5568428 occurs in 7 km squares.\n",
      "Digitaria sanguinalis with key 5289972 occurs in 2040 km squares.\n",
      "Ambrosia psilostachya with key 3110686 occurs in 18 km squares.\n",
      "Bidens pilosa with key 5391845 occurs in 7 km squares.\n",
      "Oxalis dillenii with key 2891677 occurs in 10 km squares.\n",
      "Medicago sativa with key 9151957 occurs in 2434 km squares.\n",
      "Spinacia oleracea with key 3083647 occurs in 22 km squares.\n",
      "Glycine max with key 5359660 occurs in 23 km squares.\n",
      "Amaranthus viridis with key 5384334 occurs in 6 km squares.\n",
      "Brassica oleracea with key 3042845 occurs in 202 km squares.\n",
      "Armoracia rusticana with key 3041022 occurs in 478 km squares.\n",
      "Tropaeolum majus with key 2889934 occurs in 134 km squares.\n",
      "Sisymbrium irio with key 3046851 occurs in 19 km squares.\n",
      "Lunaria annua with key 5373324 occurs in 1055 km squares.\n",
      "Hesperis matronalis with key 3042291 occurs in 543 km squares.\n",
      "Brassica juncea with key 3042751 occurs in 71 km squares.\n",
      "Barbarea verna with key 5374672 occurs in 54 km squares.\n",
      "Lepidium virginicum with key 5376648 occurs in 1109 km squares.\n",
      "Sinapis alba with key 3047621 occurs in 422 km squares.\n",
      "Nicotiana tabacum with key 2928774 occurs in 15 km squares.\n",
      "Lepidium densiflorum with key 5377064 occurs in 83 km squares.\n",
      "Aurinia saxatilis with key 5377778 occurs in 27 km squares.\n",
      "Symphyotrichum novae-angliae with key 3151618 occurs in 14 km squares.\n",
      "Dittrichia viscosa with key 3101184 occurs in 10 km squares.\n",
      "Pontederia cordata with key 2766030 occurs in 123 km squares.\n",
      "Centranthus ruber with key 2888740 occurs in 560 km squares.\n",
      "Coreopsis verticillata with key 3133887 occurs in 7 km squares.\n",
      "Lobelia erinus with key 5408087 occurs in 138 km squares.\n",
      "Asclepias syriaca with key 3170247 occurs in 17 km squares.\n",
      "Glebionis coronaria with key 7627205 occurs in 38 km squares.\n",
      "Calendula officinalis with key 5391480 occurs in 402 km squares.\n",
      "Lavandula angustifolia with key 2927305 occurs in 200 km squares.\n",
      "Cucumis sativus with key 2874569 occurs in 7 km squares.\n",
      "Lepidium didymum with key 5377060 occurs in 3682 km squares.\n",
      "Linaria purpurea with key 5415012 occurs in 110 km squares.\n",
      "Buddleja davidii with key 3173338 occurs in 3546 km squares.\n",
      "Carduus acanthoides with key 3114643 occurs in 105 km squares.\n",
      "Centaurea stoebe with key 3127727 occurs in 10 km squares.\n",
      "Lycium barbarum with key 2928835 occurs in 185 km squares.\n",
      "Tagetes erecta with key 3088488 occurs in 25 km squares.\n",
      "Rubus armeniacus with key 2996525 occurs in 211 km squares.\n",
      "Malva nicaeensis with key 3152367 occurs in 10 km squares.\n",
      "Allium schoenoprasum with key 2855860 occurs in 255 km squares.\n",
      "Solanum lycopersicum with key 2930137 occurs in 772 km squares.\n",
      "Nepeta racemosa with key 5341497 occurs in 47 km squares.\n",
      "Eutrochium maculatum with key 3138195 occurs in 9 km squares.\n",
      "Sonchus tenerrimus with key 3105768 occurs in 8 km squares.\n",
      "Rorippa austriaca with key 3053406 occurs in 27 km squares.\n",
      "Lactuca sativa with key 7403263 occurs in 57 km squares.\n",
      "Ipomoea hederacea with key 2928538 occurs in 13 km squares.\n",
      "Helianthus laetiflorus with key 3119181 occurs in 77 km squares.\n",
      "Helianthus tuberosus with key 3119175 occurs in 267 km squares.\n",
      "Panicum virgatum with key 2705081 occurs in 7 km squares.\n",
      "Lindernia dubia with key 3171888 occurs in 73 km squares.\n",
      "Parthenocissus quinquefolia with key 3039194 occurs in 119 km squares.\n",
      "Ipomoea purpurea with key 2928576 occurs in 25 km squares.\n",
      "Oenothera biennis with key 3188924 occurs in 1204 km squares.\n",
      "Bidens frondosa with key 5392174 occurs in 2208 km squares.\n",
      "Abutilon theophrasti with key 3152614 occurs in 226 km squares.\n",
      "Robinia pseudoacacia with key 5352251 occurs in 4194 km squares.\n",
      "Solidago canadensis with key 5389029 occurs in 1258 km squares.\n",
      "Erigeron canadensis with key 3146791 occurs in 6724 km squares.\n",
      "Populus deltoides with key 3040232 occurs in 10 km squares.\n",
      "Symphoricarpos orbiculatus with key 2888636 occurs in 10 km squares.\n",
      "Ambrosia trifida with key 3110588 occurs in 13 km squares.\n",
      "Veronica peregrina with key 3172104 occurs in 991 km squares.\n",
      "Tradescantia virginiana with key 2765272 occurs in 91 km squares.\n",
      "Saponaria officinalis with key 3085360 occurs in 1367 km squares.\n",
      "Lobelia siphilitica with key 5409120 occurs in 6 km squares.\n",
      "Rudbeckia laciniata with key 3114229 occurs in 36 km squares.\n",
      "Sambucus canadensis with key 6369819 occurs in 34 km squares.\n",
      "Acer saccharinum with key 3189837 occurs in 106 km squares.\n",
      "Physostegia virginiana with key 2926572 occurs in 23 km squares.\n",
      "Anoda cristata with key 3152493 occurs in 12 km squares.\n",
      "Oenothera speciosa with key 3188859 occurs in 6 km squares.\n",
      "Hibiscus syriacus with key 3152583 occurs in 85 km squares.\n",
      "Eriobotrya japonica with key 3024146 occurs in 21 km squares.\n"
     ]
    }
   ],
   "source": [
    "for GBIFtaxon in taxaFound.iterrows():\n",
    "    #print('{0} found {1} time in Belgium.'.format(GBIFtaxon,speciesCountInGBIF(GBIFtaxon,country)))\n",
    "    GBIFOccCount = speciesCountInCube(conn, GBIFtaxon[1][0])\n",
    "    if GBIFOccCount[0][0] > thresholdForOccNum: # The threshold for observations is not greater than one, due to all the casual records\n",
    "        taxaFoundInCountry.append({'key': GBIFtaxon[1][0], 'species': GBIFtaxon[0], 'count': GBIFOccCount[0][0]})\n",
    "        print('{0} with key {1} occurs in {2} km squares.'.format(GBIFtaxon[0],GBIFtaxon[1][0],GBIFOccCount[0][0]))"
   ]
  },
  {
   "cell_type": "code",
   "execution_count": 105,
   "metadata": {},
   "outputs": [],
   "source": [
    "# Convert to a Pandas dataframe\n",
    "taxaFoundInCountry = pd.DataFrame(taxaFoundInCountry)    "
   ]
  },
  {
   "cell_type": "code",
   "execution_count": 106,
   "metadata": {},
   "outputs": [
    {
     "name": "stdout",
     "output_type": "stream",
     "text": [
      "The number of species left in the network is 113\n"
     ]
    }
   ],
   "source": [
    "print(\"The number of species left in the network is {0}\".format(len(taxaFoundInCountry)))"
   ]
  },
  {
   "cell_type": "code",
   "execution_count": 107,
   "metadata": {},
   "outputs": [
    {
     "data": {
      "text/html": [
       "<div>\n",
       "<style scoped>\n",
       "    .dataframe tbody tr th:only-of-type {\n",
       "        vertical-align: middle;\n",
       "    }\n",
       "\n",
       "    .dataframe tbody tr th {\n",
       "        vertical-align: top;\n",
       "    }\n",
       "\n",
       "    .dataframe thead th {\n",
       "        text-align: right;\n",
       "    }\n",
       "</style>\n",
       "<table border=\"1\" class=\"dataframe\">\n",
       "  <thead>\n",
       "    <tr style=\"text-align: right;\">\n",
       "      <th></th>\n",
       "      <th>key</th>\n",
       "      <th>species</th>\n",
       "      <th>count</th>\n",
       "    </tr>\n",
       "  </thead>\n",
       "  <tbody>\n",
       "    <tr>\n",
       "      <td>0</td>\n",
       "      <td>5228080</td>\n",
       "      <td>Callipepla californica</td>\n",
       "      <td>12</td>\n",
       "    </tr>\n",
       "    <tr>\n",
       "      <td>1</td>\n",
       "      <td>8323485</td>\n",
       "      <td>Haemorhous mexicanus</td>\n",
       "      <td>22</td>\n",
       "    </tr>\n",
       "    <tr>\n",
       "      <td>2</td>\n",
       "      <td>2480542</td>\n",
       "      <td>Buteo jamaicensis</td>\n",
       "      <td>10</td>\n",
       "    </tr>\n",
       "    <tr>\n",
       "      <td>3</td>\n",
       "      <td>9685907</td>\n",
       "      <td>Falco sparverius</td>\n",
       "      <td>9</td>\n",
       "    </tr>\n",
       "    <tr>\n",
       "      <td>4</td>\n",
       "      <td>2925514</td>\n",
       "      <td>Verbena bonariensis</td>\n",
       "      <td>631</td>\n",
       "    </tr>\n",
       "    <tr>\n",
       "      <td>...</td>\n",
       "      <td>...</td>\n",
       "      <td>...</td>\n",
       "      <td>...</td>\n",
       "    </tr>\n",
       "    <tr>\n",
       "      <td>108</td>\n",
       "      <td>2926572</td>\n",
       "      <td>Physostegia virginiana</td>\n",
       "      <td>23</td>\n",
       "    </tr>\n",
       "    <tr>\n",
       "      <td>109</td>\n",
       "      <td>3152493</td>\n",
       "      <td>Anoda cristata</td>\n",
       "      <td>12</td>\n",
       "    </tr>\n",
       "    <tr>\n",
       "      <td>110</td>\n",
       "      <td>3188859</td>\n",
       "      <td>Oenothera speciosa</td>\n",
       "      <td>6</td>\n",
       "    </tr>\n",
       "    <tr>\n",
       "      <td>111</td>\n",
       "      <td>3152583</td>\n",
       "      <td>Hibiscus syriacus</td>\n",
       "      <td>85</td>\n",
       "    </tr>\n",
       "    <tr>\n",
       "      <td>112</td>\n",
       "      <td>3024146</td>\n",
       "      <td>Eriobotrya japonica</td>\n",
       "      <td>21</td>\n",
       "    </tr>\n",
       "  </tbody>\n",
       "</table>\n",
       "<p>113 rows × 3 columns</p>\n",
       "</div>"
      ],
      "text/plain": [
       "         key                 species  count\n",
       "0    5228080  Callipepla californica     12\n",
       "1    8323485    Haemorhous mexicanus     22\n",
       "2    2480542       Buteo jamaicensis     10\n",
       "3    9685907        Falco sparverius      9\n",
       "4    2925514     Verbena bonariensis    631\n",
       "..       ...                     ...    ...\n",
       "108  2926572  Physostegia virginiana     23\n",
       "109  3152493          Anoda cristata     12\n",
       "110  3188859      Oenothera speciosa      6\n",
       "111  3152583       Hibiscus syriacus     85\n",
       "112  3024146     Eriobotrya japonica     21\n",
       "\n",
       "[113 rows x 3 columns]"
      ]
     },
     "execution_count": 107,
     "metadata": {},
     "output_type": "execute_result"
    }
   ],
   "source": [
    "taxaFoundInCountry"
   ]
  },
  {
   "cell_type": "markdown",
   "metadata": {},
   "source": [
    "## Drawing a network of the interactions\n",
    "\n",
    "Now that I have a list of all the species in the country I can use this as my nodes list for the network diagram."
   ]
  },
  {
   "cell_type": "code",
   "execution_count": 108,
   "metadata": {},
   "outputs": [],
   "source": [
    "#networkx seems to be a leading network tool in Python\n",
    "import networkx as nx\n",
    "import matplotlib.pyplot as plt"
   ]
  },
  {
   "cell_type": "code",
   "execution_count": 109,
   "metadata": {},
   "outputs": [],
   "source": [
    "# Create graphic object\n",
    "G = nx.DiGraph()"
   ]
  },
  {
   "cell_type": "code",
   "execution_count": 110,
   "metadata": {},
   "outputs": [
    {
     "data": {
      "text/plain": [
       "0"
      ]
     },
     "execution_count": 110,
     "metadata": {},
     "output_type": "execute_result"
    }
   ],
   "source": [
    "# Match colours to interactions to distinguish them on the graph\n",
    "colorInteractions = {'interaction':['pollinates', 'mutualistOf', 'eats', 'visitsFlowersOf', 'hasHost', 'parasiteOf', 'pathogenOf'],\n",
    "        'colour':['r', 'g', 'b', 'y', 'm', 'w', 'c']}  \n",
    "\n",
    "colorInteractionsDf = pd.DataFrame(colorInteractions)\n",
    "\n",
    "len(list(G.nodes))"
   ]
  },
  {
   "cell_type": "code",
   "execution_count": 111,
   "metadata": {},
   "outputs": [
    {
     "data": {
      "text/html": [
       "<div>\n",
       "<style scoped>\n",
       "    .dataframe tbody tr th:only-of-type {\n",
       "        vertical-align: middle;\n",
       "    }\n",
       "\n",
       "    .dataframe tbody tr th {\n",
       "        vertical-align: top;\n",
       "    }\n",
       "\n",
       "    .dataframe thead th {\n",
       "        text-align: right;\n",
       "    }\n",
       "</style>\n",
       "<table border=\"1\" class=\"dataframe\">\n",
       "  <thead>\n",
       "    <tr style=\"text-align: right;\">\n",
       "      <th></th>\n",
       "      <th>sourceTaxonId</th>\n",
       "      <th>sourceTaxonName</th>\n",
       "      <th>sourceTaxonRank</th>\n",
       "      <th>sourceTaxonFamilyName</th>\n",
       "      <th>interactionTypeName</th>\n",
       "      <th>targetTaxonName</th>\n",
       "      <th>targetTaxonRank</th>\n",
       "    </tr>\n",
       "  </thead>\n",
       "  <tbody>\n",
       "    <tr>\n",
       "      <td>193783</td>\n",
       "      <td>EOL:1048468</td>\n",
       "      <td>Anas aucklandica</td>\n",
       "      <td>species</td>\n",
       "      <td>NaN</td>\n",
       "      <td>eats</td>\n",
       "      <td>Oxalis corniculata</td>\n",
       "      <td>species</td>\n",
       "    </tr>\n",
       "    <tr>\n",
       "      <td>212212</td>\n",
       "      <td>EOL_V2:1049189</td>\n",
       "      <td>Callipepla californica</td>\n",
       "      <td>species</td>\n",
       "      <td>Odontophoridae</td>\n",
       "      <td>eats</td>\n",
       "      <td>Oxalis corniculata</td>\n",
       "      <td>species</td>\n",
       "    </tr>\n",
       "    <tr>\n",
       "      <td>212652</td>\n",
       "      <td>GBIF:7341600</td>\n",
       "      <td>Melozone crissalis</td>\n",
       "      <td>species</td>\n",
       "      <td>Emberizidae</td>\n",
       "      <td>eats</td>\n",
       "      <td>Oxalis corniculata</td>\n",
       "      <td>species</td>\n",
       "    </tr>\n",
       "    <tr>\n",
       "      <td>213107</td>\n",
       "      <td>ITIS:997805</td>\n",
       "      <td>Haemorhous mexicanus</td>\n",
       "      <td>species</td>\n",
       "      <td>Fringillidae</td>\n",
       "      <td>eats</td>\n",
       "      <td>Oxalis corniculata</td>\n",
       "      <td>species</td>\n",
       "    </tr>\n",
       "    <tr>\n",
       "      <td>1131090</td>\n",
       "      <td>GBIF:2514966</td>\n",
       "      <td>Puccinia sorghi</td>\n",
       "      <td>species</td>\n",
       "      <td>Pucciniaceae</td>\n",
       "      <td>parasiteOf</td>\n",
       "      <td>Oxalis corniculata</td>\n",
       "      <td>species</td>\n",
       "    </tr>\n",
       "    <tr>\n",
       "      <td>...</td>\n",
       "      <td>...</td>\n",
       "      <td>...</td>\n",
       "      <td>...</td>\n",
       "      <td>...</td>\n",
       "      <td>...</td>\n",
       "      <td>...</td>\n",
       "      <td>...</td>\n",
       "    </tr>\n",
       "    <tr>\n",
       "      <td>2716283</td>\n",
       "      <td>EOL_V2:3816701</td>\n",
       "      <td>Sapyga centrata</td>\n",
       "      <td>species</td>\n",
       "      <td>Sapygidae</td>\n",
       "      <td>pollinates</td>\n",
       "      <td>Oxalis corniculata</td>\n",
       "      <td>species</td>\n",
       "    </tr>\n",
       "    <tr>\n",
       "      <td>2716287</td>\n",
       "      <td>EOL:1046464</td>\n",
       "      <td>Andrena pruni</td>\n",
       "      <td>species</td>\n",
       "      <td>Andrenidae</td>\n",
       "      <td>pollinates</td>\n",
       "      <td>Oxalis corniculata</td>\n",
       "      <td>species</td>\n",
       "    </tr>\n",
       "    <tr>\n",
       "      <td>2716288</td>\n",
       "      <td>EOL:1045322</td>\n",
       "      <td>Ceratina dupla</td>\n",
       "      <td>species</td>\n",
       "      <td>Apidae</td>\n",
       "      <td>pollinates</td>\n",
       "      <td>Oxalis corniculata</td>\n",
       "      <td>species</td>\n",
       "    </tr>\n",
       "    <tr>\n",
       "      <td>3491429</td>\n",
       "      <td>EOL:750934</td>\n",
       "      <td>Paragus haemorrhous</td>\n",
       "      <td>species</td>\n",
       "      <td>Syrphidae</td>\n",
       "      <td>visitsFlowersOf</td>\n",
       "      <td>Oxalis corniculata</td>\n",
       "      <td>species</td>\n",
       "    </tr>\n",
       "    <tr>\n",
       "      <td>3609409</td>\n",
       "      <td>EOL:3199170</td>\n",
       "      <td>Petrobia harti</td>\n",
       "      <td>species</td>\n",
       "      <td>Tetranychidae</td>\n",
       "      <td>hasHost</td>\n",
       "      <td>Oxalis corniculata</td>\n",
       "      <td>species</td>\n",
       "    </tr>\n",
       "  </tbody>\n",
       "</table>\n",
       "<p>1753 rows × 7 columns</p>\n",
       "</div>"
      ],
      "text/plain": [
       "          sourceTaxonId         sourceTaxonName sourceTaxonRank  \\\n",
       "193783      EOL:1048468        Anas aucklandica         species   \n",
       "212212   EOL_V2:1049189  Callipepla californica         species   \n",
       "212652     GBIF:7341600      Melozone crissalis         species   \n",
       "213107      ITIS:997805    Haemorhous mexicanus         species   \n",
       "1131090    GBIF:2514966         Puccinia sorghi         species   \n",
       "...                 ...                     ...             ...   \n",
       "2716283  EOL_V2:3816701         Sapyga centrata         species   \n",
       "2716287     EOL:1046464           Andrena pruni         species   \n",
       "2716288     EOL:1045322          Ceratina dupla         species   \n",
       "3491429      EOL:750934     Paragus haemorrhous         species   \n",
       "3609409     EOL:3199170          Petrobia harti         species   \n",
       "\n",
       "        sourceTaxonFamilyName interactionTypeName     targetTaxonName  \\\n",
       "193783                    NaN                eats  Oxalis corniculata   \n",
       "212212         Odontophoridae                eats  Oxalis corniculata   \n",
       "212652            Emberizidae                eats  Oxalis corniculata   \n",
       "213107           Fringillidae                eats  Oxalis corniculata   \n",
       "1131090          Pucciniaceae          parasiteOf  Oxalis corniculata   \n",
       "...                       ...                 ...                 ...   \n",
       "2716283             Sapygidae          pollinates  Oxalis corniculata   \n",
       "2716287            Andrenidae          pollinates  Oxalis corniculata   \n",
       "2716288                Apidae          pollinates  Oxalis corniculata   \n",
       "3491429             Syrphidae     visitsFlowersOf  Oxalis corniculata   \n",
       "3609409         Tetranychidae             hasHost  Oxalis corniculata   \n",
       "\n",
       "        targetTaxonRank  \n",
       "193783          species  \n",
       "212212          species  \n",
       "212652          species  \n",
       "213107          species  \n",
       "1131090         species  \n",
       "...                 ...  \n",
       "2716283         species  \n",
       "2716287         species  \n",
       "2716288         species  \n",
       "3491429         species  \n",
       "3609409         species  \n",
       "\n",
       "[1753 rows x 7 columns]"
      ]
     },
     "execution_count": 111,
     "metadata": {},
     "output_type": "execute_result"
    }
   ],
   "source": [
    "cleanInteractDataTaxon"
   ]
  },
  {
   "cell_type": "markdown",
   "metadata": {},
   "source": [
    "## Figure out which node has the most records"
   ]
  },
  {
   "cell_type": "code",
   "execution_count": 112,
   "metadata": {},
   "outputs": [
    {
     "name": "stdout",
     "output_type": "stream",
     "text": [
      "6724\n"
     ]
    }
   ],
   "source": [
    "maxRecords = taxaFoundInCountry.max()[\"count\"]\n",
    "print(maxRecords)"
   ]
  },
  {
   "cell_type": "markdown",
   "metadata": {},
   "source": [
    "## Add the nodes and the edges to the graph"
   ]
  },
  {
   "cell_type": "code",
   "execution_count": 113,
   "metadata": {},
   "outputs": [
    {
     "name": "stdout",
     "output_type": "stream",
     "text": [
      "A:  Callipepla californica 12 5228080\n",
      "B:  Callipepla californica Oxalis corniculata\n",
      "C:  Callipepla californica Oxalis corniculata\n",
      "B:  Callipepla californica Margyricarpus pinnatus\n",
      "B:  Callipepla californica Phaseolus vulgaris\n",
      "C:  Callipepla californica Phaseolus vulgaris\n",
      "B:  Callipepla californica Lens culinaris\n",
      "C:  Callipepla californica Lens culinaris\n",
      "B:  Callipepla californica Polygonum aviculare\n",
      "B:  Callipepla californica Panicum capillare\n",
      "C:  Callipepla californica Panicum capillare\n",
      "B:  Callipepla californica Convolvulus arvensis\n",
      "B:  Callipepla californica Chenopodium album\n",
      "B:  Callipepla californica Brassica rapa\n",
      "C:  Callipepla californica Brassica rapa\n",
      "B:  Callipepla californica Echium vulgare\n",
      "B:  Callipepla californica Madia sativa\n",
      "B:  Callipepla californica Centaurea melitensis\n",
      "C:  Callipepla californica Centaurea melitensis\n",
      "B:  Callipepla californica Gevuina avellana\n",
      "B:  Callipepla californica Zea mays\n",
      "C:  Callipepla californica Zea mays\n",
      "B:  Callipepla californica Avena sativa\n",
      "C:  Callipepla californica Avena sativa\n",
      "B:  Callipepla californica Amaranthus retroflexus\n",
      "C:  Callipepla californica Amaranthus retroflexus\n",
      "B:  Callipepla californica Raphanus sativus\n",
      "C:  Callipepla californica Raphanus sativus\n",
      "B:  Callipepla californica Medicago polymorpha\n",
      "C:  Callipepla californica Medicago polymorpha\n",
      "B:  Callipepla californica Vicia sativa\n",
      "B:  Callipepla californica Bromus hordeaceus\n",
      "B:  Callipepla californica Sisymbrium altissimum\n",
      "C:  Callipepla californica Sisymbrium altissimum\n",
      "B:  Callipepla californica Erodium cicutarium\n",
      "B:  Callipepla californica Triticum aestivum\n",
      "C:  Callipepla californica Triticum aestivum\n",
      "B:  Callipepla californica Holosteum umbellatum\n",
      "B:  Callipepla californica Lactuca serriola\n",
      "B:  Callipepla californica Helianthus annuus\n",
      "C:  Callipepla californica Helianthus annuus\n",
      "B:  Callipepla californica Pisum sativum\n",
      "B:  Callipepla californica Echinochloa crus-galli\n",
      "C:  Callipepla californica Echinochloa crus-galli\n",
      "B:  Callipepla californica Lupinus bicolor\n",
      "B:  Callipepla californica Croton setiger\n",
      "B:  Callipepla californica Acmispon americanus\n",
      "B:  Callipepla californica Phalaris caroliniana\n",
      "B:  Callipepla californica Stipa mucronata\n",
      "B:  Callipepla californica Phleum pratense\n",
      "B:  Callipepla californica Poa annua\n",
      "B:  Callipepla californica Bromus secalinus\n",
      "B:  Callipepla californica Lolium perenne\n",
      "B:  Callipepla californica Rumex acetosella\n",
      "B:  Callipepla californica Rumex crispus\n",
      "B:  Callipepla californica Persicaria lapathifolia\n",
      "B:  Callipepla californica Persicaria punctata\n",
      "B:  Callipepla californica Fallopia convolvulus\n",
      "B:  Callipepla californica Silene antirrhina\n",
      "B:  Callipepla californica Cerastium arvense\n",
      "B:  Callipepla californica Stellaria media\n",
      "B:  Callipepla californica Spergula arvensis\n",
      "B:  Callipepla californica Calandrinia ciliata\n",
      "B:  Callipepla californica Claytonia perfoliata\n",
      "B:  Callipepla californica Eschscholzia californica\n",
      "C:  Callipepla californica Eschscholzia californica\n",
      "B:  Callipepla californica Brassica nigra\n",
      "B:  Callipepla californica Malva pusilla\n",
      "C:  Callipepla californica Malva pusilla\n",
      "B:  Callipepla californica Oxalis corniculata\n",
      "C:  Callipepla californica Oxalis corniculata\n",
      "B:  Callipepla californica Toxicodendron diversilobum\n",
      "B:  Callipepla californica Malosma laurina\n",
      "B:  Callipepla californica Lotus tenuis\n",
      "B:  Callipepla californica Melilotus albus\n",
      "C:  Callipepla californica Melilotus albus\n",
      "B:  Callipepla californica Daucus carota\n",
      "B:  Callipepla californica Solanum ptychanthum\n",
      "B:  Callipepla californica Plantago major\n",
      "B:  Callipepla californica Plantago patagonica\n",
      "B:  Callipepla californica Plantago lanceolata\n",
      "B:  Callipepla californica Triumfetta semitriloba\n",
      "B:  Callipepla californica Verbena hastata\n",
      "C:  Callipepla californica Verbena hastata\n",
      "B:  Callipepla californica Sonchus oleraceus\n",
      "B:  Callipepla californica Sonchus asper\n",
      "B:  Callipepla californica Centaurea benedicta\n",
      "B:  Callipepla californica Silybum marianum\n",
      "C:  Callipepla californica Silybum marianum\n",
      "B:  Callipepla californica Anthemis cotula\n",
      "B:  Callipepla californica Grindelia squarrosa\n",
      "B:  Callipepla californica Olea europaea\n",
      "B:  Callipepla californica Malus pumila\n",
      "B:  Callipepla californica Amsinckia intermedia\n",
      "B:  Callipepla californica Dysphania botrys\n",
      "C:  Callipepla californica Dysphania botrys\n",
      "B:  Callipepla californica Vicia villosa\n",
      "B:  Callipepla californica Cirsium arvense\n",
      "B:  Callipepla californica Claytonia parviflora\n",
      "B:  Callipepla californica Capsella bursa-pastoris\n",
      "B:  Callipepla californica Solanum nigrum\n",
      "B:  Callipepla californica Crataegus douglasii\n",
      "B:  Callipepla californica Rhus glabra\n",
      "B:  Callipepla californica Avena fatua\n",
      "B:  Callipepla californica Bromus tectorum\n",
      "B:  Callipepla californica Verbena bracteata\n",
      "B:  Callipepla californica Calamovilfa longifolia\n",
      "B:  Callipepla californica Cytisus scoparius\n",
      "B:  Callipepla californica Brahea armata\n",
      "B:  Callipepla californica Zonotrichia leucophrys\n",
      "B:  Callipepla californica Sturnella neglecta\n",
      "B:  Callipepla californica Oxalis corniculata\n",
      "C:  Callipepla californica Oxalis corniculata\n",
      "A:  Haemorhous mexicanus 22 8323485\n",
      "B:  Haemorhous mexicanus Oxalis corniculata\n",
      "C:  Haemorhous mexicanus Oxalis corniculata\n",
      "B:  Haemorhous mexicanus Centaurea melitensis\n",
      "C:  Haemorhous mexicanus Centaurea melitensis\n",
      "B:  Haemorhous mexicanus Silybum marianum\n",
      "C:  Haemorhous mexicanus Silybum marianum\n",
      "B:  Haemorhous mexicanus Madia sativa\n",
      "B:  Haemorhous mexicanus Deinandra fasciculata\n",
      "B:  Haemorhous mexicanus Senecio vulgaris\n",
      "B:  Haemorhous mexicanus Anthemis cotula\n",
      "B:  Haemorhous mexicanus Ambrosia psilostachya\n",
      "C:  Haemorhous mexicanus Ambrosia psilostachya\n",
      "B:  Haemorhous mexicanus Solanum ptychanthum\n",
      "B:  Haemorhous mexicanus Amsinckia tessellata\n",
      "B:  Haemorhous mexicanus Toxicodendron diversilobum\n",
      "B:  Haemorhous mexicanus Croton setiger\n",
      "B:  Haemorhous mexicanus Oxalis corniculata\n",
      "C:  Haemorhous mexicanus Oxalis corniculata\n",
      "B:  Haemorhous mexicanus Geranium dissectum\n",
      "B:  Haemorhous mexicanus Raphanus sativus\n",
      "C:  Haemorhous mexicanus Raphanus sativus\n",
      "B:  Haemorhous mexicanus Brassica nigra\n",
      "B:  Haemorhous mexicanus Brassica rapa\n",
      "C:  Haemorhous mexicanus Brassica rapa\n",
      "B:  Haemorhous mexicanus Claytonia perfoliata\n",
      "B:  Haemorhous mexicanus Spergula arvensis\n",
      "B:  Haemorhous mexicanus Stellaria media\n",
      "B:  Haemorhous mexicanus Polygonum aviculare\n",
      "B:  Haemorhous mexicanus Rumex acetosella\n",
      "B:  Haemorhous mexicanus Pinus canariensis\n",
      "B:  Haemorhous mexicanus Encelia farinosa\n",
      "B:  Haemorhous mexicanus Punica granatum\n",
      "B:  Haemorhous mexicanus Opuntia engelmannii\n",
      "B:  Haemorhous mexicanus Ficus carica\n",
      "B:  Haemorhous mexicanus Heteromeles arbutifolia\n",
      "B:  Haemorhous mexicanus Acacia salicina\n",
      "B:  Haemorhous mexicanus Hirschfeldia incana\n",
      "B:  Haemorhous mexicanus Ligustrum lucidum\n",
      "B:  Haemorhous mexicanus Oxalis corniculata\n",
      "C:  Haemorhous mexicanus Oxalis corniculata\n",
      "A:  Buteo jamaicensis 10 2480542\n",
      "B:  Buteo jamaicensis Callipepla californica\n",
      "C:  Buteo jamaicensis Callipepla californica\n",
      "A:  Falco sparverius 9 9685907\n",
      "B:  Falco sparverius Haemorhous mexicanus\n",
      "C:  Falco sparverius Haemorhous mexicanus\n",
      "A:  Verbena bonariensis 631 2925514\n",
      "B:  Verbena bonariensis Pieris rapae\n",
      "A:  Dittrichia graveolens 95 3101193\n",
      "B:  Dittrichia graveolens Pieris rapae\n",
      "A:  Brassica napus 1373 3042636\n",
      "B:  Brassica napus Pieris rapae\n",
      "A:  Foeniculum vulgare 702 3034922\n",
      "B:  Foeniculum vulgare Ichneumon ambulatorius\n",
      "B:  Foeniculum vulgare Paragus haemorrhous\n",
      "A:  Lepidium latifolium 77 5376692\n",
      "B:  Lepidium latifolium Paragus haemorrhous\n",
      "A:  Medicago polymorpha 78 2965531\n",
      "B:  Medicago polymorpha Paragus haemorrhous\n",
      "A:  Coriandrum sativum 68 3034871\n",
      "B:  Coriandrum sativum Paragus haemorrhous\n",
      "A:  Eschscholzia californica 251 2888380\n",
      "B:  Eschscholzia californica Paragus haemorrhous\n",
      "A:  Lobularia maritima 399 5373358\n",
      "B:  Lobularia maritima Paragus haemorrhous\n",
      "A:  Malva parviflora 45 3152378\n",
      "B:  Malva parviflora Paragus haemorrhous\n",
      "A:  Carduus pycnocephalus 6 3114667\n",
      "B:  Carduus pycnocephalus Paragus haemorrhous\n",
      "A:  Oxalis corniculata 2897 8427624\n",
      "A:  Milax gagates 32 2297108\n",
      "A:  Potamopyrgus antipodarum 826 5192470\n",
      "A:  Solanum tuberosum 238 2930262\n",
      "A:  Phaseolus vulgaris 7 5350452\n",
      "A:  Lens culinaris 8 5350010\n",
      "A:  Panicum capillare 174 2705162\n",
      "A:  Brassica rapa 987 7903057\n"
     ]
    },
    {
     "name": "stdout",
     "output_type": "stream",
     "text": [
      "A:  Centaurea melitensis 6 3128091\n",
      "A:  Zea mays 169 5290052\n",
      "A:  Avena sativa 241 2705290\n",
      "A:  Amaranthus retroflexus 1091 6109534\n",
      "A:  Raphanus sativus 289 7678610\n",
      "A:  Sisymbrium altissimum 567 3046736\n",
      "A:  Triticum aestivum 379 7795888\n",
      "A:  Helianthus annuus 449 9206251\n",
      "A:  Echinochloa crus-galli 5007 2702808\n",
      "A:  Malva pusilla 71 3152372\n",
      "A:  Melilotus albus 3747 2971095\n",
      "A:  Verbena hastata 36 2925527\n",
      "A:  Silybum marianum 362 3145214\n",
      "A:  Dysphania botrys 7 5568428\n",
      "A:  Digitaria sanguinalis 2040 5289972\n",
      "A:  Ambrosia psilostachya 18 3110686\n",
      "A:  Bidens pilosa 7 5391845\n",
      "A:  Oxalis dillenii 10 2891677\n",
      "A:  Medicago sativa 2434 9151957\n",
      "A:  Spinacia oleracea 22 3083647\n",
      "A:  Glycine max 23 5359660\n",
      "A:  Amaranthus viridis 6 5384334\n",
      "A:  Brassica oleracea 202 3042845\n",
      "A:  Armoracia rusticana 478 3041022\n",
      "A:  Tropaeolum majus 134 2889934\n",
      "A:  Sisymbrium irio 19 3046851\n",
      "A:  Lunaria annua 1055 5373324\n",
      "A:  Hesperis matronalis 543 3042291\n",
      "A:  Brassica juncea 71 3042751\n",
      "A:  Barbarea verna 54 5374672\n",
      "A:  Lepidium virginicum 1109 5376648\n",
      "A:  Sinapis alba 422 3047621\n",
      "A:  Nicotiana tabacum 15 2928774\n",
      "A:  Lepidium densiflorum 83 5377064\n",
      "A:  Aurinia saxatilis 27 5377778\n",
      "A:  Symphyotrichum novae-angliae 14 3151618\n",
      "A:  Dittrichia viscosa 10 3101184\n",
      "A:  Pontederia cordata 123 2766030\n",
      "A:  Centranthus ruber 560 2888740\n",
      "A:  Coreopsis verticillata 7 3133887\n",
      "A:  Lobelia erinus 138 5408087\n",
      "A:  Asclepias syriaca 17 3170247\n",
      "A:  Glebionis coronaria 38 7627205\n",
      "A:  Calendula officinalis 402 5391480\n",
      "A:  Lavandula angustifolia 200 2927305\n",
      "A:  Cucumis sativus 7 2874569\n",
      "A:  Lepidium didymum 3682 5377060\n",
      "A:  Linaria purpurea 110 5415012\n",
      "A:  Buddleja davidii 3546 3173338\n",
      "A:  Carduus acanthoides 105 3114643\n",
      "A:  Centaurea stoebe 10 3127727\n",
      "A:  Lycium barbarum 185 2928835\n",
      "A:  Tagetes erecta 25 3088488\n",
      "A:  Rubus armeniacus 211 2996525\n",
      "A:  Malva nicaeensis 10 3152367\n",
      "A:  Allium schoenoprasum 255 2855860\n",
      "A:  Solanum lycopersicum 772 2930137\n",
      "A:  Nepeta racemosa 47 5341497\n",
      "A:  Eutrochium maculatum 9 3138195\n",
      "A:  Sonchus tenerrimus 8 3105768\n",
      "A:  Rorippa austriaca 27 3053406\n",
      "A:  Lactuca sativa 57 7403263\n",
      "A:  Ipomoea hederacea 13 2928538\n",
      "A:  Helianthus laetiflorus 77 3119181\n",
      "A:  Helianthus tuberosus 267 3119175\n",
      "A:  Panicum virgatum 7 2705081\n",
      "A:  Lindernia dubia 73 3171888\n",
      "A:  Parthenocissus quinquefolia 119 3039194\n",
      "A:  Ipomoea purpurea 25 2928576\n",
      "A:  Oenothera biennis 1204 3188924\n",
      "A:  Bidens frondosa 2208 5392174\n",
      "A:  Abutilon theophrasti 226 3152614\n",
      "A:  Robinia pseudoacacia 4194 5352251\n",
      "A:  Solidago canadensis 1258 5389029\n",
      "A:  Erigeron canadensis 6724 3146791\n",
      "A:  Populus deltoides 10 3040232\n",
      "A:  Symphoricarpos orbiculatus 10 2888636\n",
      "A:  Ambrosia trifida 13 3110588\n",
      "A:  Veronica peregrina 991 3172104\n",
      "A:  Tradescantia virginiana 91 2765272\n",
      "A:  Saponaria officinalis 1367 3085360\n",
      "A:  Lobelia siphilitica 6 5409120\n",
      "A:  Rudbeckia laciniata 36 3114229\n",
      "A:  Sambucus canadensis 34 6369819\n",
      "A:  Acer saccharinum 106 3189837\n",
      "A:  Physostegia virginiana 23 2926572\n",
      "A:  Anoda cristata 12 3152493\n",
      "A:  Oenothera speciosa 6 3188859\n",
      "A:  Hibiscus syriacus 85 3152583\n",
      "A:  Eriobotrya japonica 21 3024146\n"
     ]
    },
    {
     "data": {
      "text/plain": [
       "113"
      ]
     },
     "execution_count": 113,
     "metadata": {},
     "output_type": "execute_result"
    }
   ],
   "source": [
    "dictOfNodeSizes = {}\n",
    "\n",
    "# iterate over rows with iterrows()\n",
    "\n",
    "for index, row in taxaFoundInCountry.iterrows():\n",
    "     # access data using column names\n",
    "    print('A: ', row['species'], row['count'], row['key'])\n",
    "    G.add_node(row['species'])\n",
    "    dictOfNodeSizes[row['species']] = int(row['count']/maxRecords*5000)+10\n",
    "\n",
    "    for edge in cleanInteractDataTaxon.iterrows():\n",
    "        if row['species'] == edge[1]['sourceTaxonName']:\n",
    "            print('B: ', edge[1]['sourceTaxonName'], edge[1]['targetTaxonName'])\n",
    "            for index2, row2 in taxaFoundInCountry.iterrows():\n",
    "                #print(row2['species'])\n",
    "                if row2['species'] == edge[1]['targetTaxonName']: \n",
    "                    print('C: ', edge[1]['sourceTaxonName'],row2['species'])\n",
    "                    G.add_edge(edge[1]['sourceTaxonName'], row2['species'], label = edge[1]['interactionTypeName'])\n",
    "                    \n",
    "len(list(G.nodes))\n"
   ]
  },
  {
   "cell_type": "code",
   "execution_count": 114,
   "metadata": {},
   "outputs": [],
   "source": [
    "# iterate over rows with iterrows()\n",
    "for index, row in taxaFoundInCountry.iterrows():\n",
    "    for edge in cleanInteractDataTaxon.iterrows():\n",
    "        if row['species'] == edge[1]['targetTaxonName']:\n",
    "            #print(edge[1]['sourceTaxonName'], edge[1]['targetTaxonName'],row['species'])\n",
    "            for index2, row2 in taxaFoundInCountry.iterrows():\n",
    "                #print(row2['species'])\n",
    "                if row2['species'] == edge[1]['sourceTaxonName']: \n",
    "                    #print(edge[1]['targetTaxonName'],row2['species'])\n",
    "                    G.add_edge(row2['species'], edge[1]['targetTaxonName'], label = edge[1]['interactionTypeName'])"
   ]
  },
  {
   "cell_type": "code",
   "execution_count": 115,
   "metadata": {},
   "outputs": [
    {
     "name": "stdout",
     "output_type": "stream",
     "text": [
      "Number of nodes = 113\n",
      "Number of edges = 29\n"
     ]
    }
   ],
   "source": [
    "print(\"Number of nodes = {0}\".format(G.number_of_nodes()))\n",
    "print(\"Number of edges = {0}\".format(G.number_of_edges()))"
   ]
  },
  {
   "cell_type": "code",
   "execution_count": 116,
   "metadata": {},
   "outputs": [
    {
     "data": {
      "text/plain": [
       "113"
      ]
     },
     "execution_count": 116,
     "metadata": {},
     "output_type": "execute_result"
    }
   ],
   "source": [
    "len(dictOfNodeSizes)"
   ]
  },
  {
   "cell_type": "markdown",
   "metadata": {},
   "source": [
    "## Remove any nodes that have no edges.\n",
    "This happens because some of the linking nodes have few supporting observations and so have been weeded out\n"
   ]
  },
  {
   "cell_type": "code",
   "execution_count": 117,
   "metadata": {},
   "outputs": [],
   "source": [
    "for n in list(G.nodes):\n",
    "    if G.degree(n) == 0:\n",
    "        G.remove_node(n)"
   ]
  },
  {
   "cell_type": "code",
   "execution_count": 118,
   "metadata": {},
   "outputs": [
    {
     "data": {
      "text/plain": [
       "26"
      ]
     },
     "execution_count": 118,
     "metadata": {},
     "output_type": "execute_result"
    }
   ],
   "source": [
    "len(G.nodes)"
   ]
  },
  {
   "cell_type": "markdown",
   "metadata": {},
   "source": [
    "## Run through the list of nodes again and construct a list of the node sizes in the correct order"
   ]
  },
  {
   "cell_type": "code",
   "execution_count": 119,
   "metadata": {},
   "outputs": [],
   "source": [
    "listOfNodeSizes = []\n",
    "\n",
    "for node in list(G.nodes):\n",
    "    listOfNodeSizes.append(dictOfNodeSizes[node])"
   ]
  },
  {
   "cell_type": "markdown",
   "metadata": {},
   "source": [
    "## A network of all the interacting taxa"
   ]
  },
  {
   "cell_type": "code",
   "execution_count": 123,
   "metadata": {},
   "outputs": [
    {
     "data": {
      "image/png": "[encoded data removed]",
      "text/plain": [
       "<Figure size 1080x1080 with 1 Axes>"
      ]
     },
     "metadata": {},
     "output_type": "display_data"
    }
   ],
   "source": [
    "plt.figure(figsize=(15,15))\n",
    "edge_labels = nx.get_edge_attributes(G,'label')\n",
    "\n",
    "pos = nx.spring_layout(G, iterations=50, k=50) \n",
    "#pos = nx.spring_layout(G)\n",
    "#pos = nx.random_layout(G)\n",
    "#pos = nx.circular_layout(G)\n",
    "#pos = nx.spectral_layout(G)\n",
    "#pos = nx.shell_layout(G, scale=1)\n",
    "\n",
    "nodeColors = nx.get_node_attributes(G,'color')\n",
    "\n",
    "nx.draw_networkx_edge_labels(G,pos, edge_labels = edge_labels, font_size=10, font_color='blue')\n",
    "\n",
    "#nx.draw_networkx_nodes(G, pos, node_color=nodeColors.values())\n",
    "\n",
    "nx.draw_networkx(G, pos, with_labels=True, node_size = listOfNodeSizes, node_color='c', alpha= 1, arrows=True, \n",
    "                    linewidths=1, font_color=\"black\", font_size=10, style = 'dashed')\n",
    "\n",
    "plt.axis('off')\n",
    "plt.tight_layout()\n",
    "plt.show()"
   ]
  },
  {
   "cell_type": "code",
   "execution_count": 339,
   "metadata": {},
   "outputs": [],
   "source": [
    "with open(taxon+country+\".html\", \"w\") as file:\n",
    "    file.write(\" \\\n",
    "<!DOCTYPE html> \\\n",
    "<html> \\\n",
    "<head> \\\n",
    "<script src='cytoscape.min.js'></script> \\\n",
    "<script src='cytoscape-cose-bilkent.js'></script> \\\n",
    "</head> \\\n",
    "<style>#cy {width: 100%; height: 100%; position: absolute; top: 50px; left: 0px;}\\\n",
    "body {font-family: 'times; font-size: 8px;}\\\n",
    "</style> \\\n",
    "<body> \\\n",
    "<div id='cy'></div> \\\n",
    "<script> \\\n",
    "var cy = cytoscape({ \\\n",
    "  container: document.getElementById('cy'), \\n \\\n",
    "  elements: [ \\\n",
    "\")"
   ]
  },
  {
   "cell_type": "markdown",
   "metadata": {},
   "source": [
    "### Write nodes to file"
   ]
  },
  {
   "cell_type": "code",
   "execution_count": 340,
   "metadata": {},
   "outputs": [],
   "source": [
    "file = open(taxon+country+\".html\", \"a\")\n",
    "for n in list(G.nodes):\n",
    "    file.write(\"{ data: { id: '\"+n+\"' } },\\n\")\n",
    "file.close()"
   ]
  },
  {
   "cell_type": "markdown",
   "metadata": {},
   "source": [
    "## Write edges to file"
   ]
  },
  {
   "cell_type": "code",
   "execution_count": 341,
   "metadata": {},
   "outputs": [],
   "source": [
    "file = open(taxon+country+\".html\", \"a\")\n",
    "for edge in list(G.edges):\n",
    "    file.write(\"{data: {id: '\"+edge[0]+edge[1]+\"', source: '\"+edge[0]+\"', target: '\"+edge[1]+\"'}},\\n\")\n",
    "file.close()\n",
    "    "
   ]
  },
  {
   "cell_type": "code",
   "execution_count": 342,
   "metadata": {},
   "outputs": [],
   "source": [
    "with open(taxon+country+\".html\", \"a\") as file:\n",
    "    file.write(\"], \\\n",
    "style: [ \\n\\\n",
    "        { \\n\\\n",
    "            selector: 'node', \\n\\\n",
    "            style: { \\n\\\n",
    "                shape: 'circle', \\n\\\n",
    "                'background-color': 'green', \\n\\\n",
    "                label: 'data(id)', \\n\\\n",
    "                'font-family': 'helvetica', \\n\\\n",
    "                'font-size': '8px' \\n\\\n",
    "            } \\n\\\n",
    "        }], \\n\\\n",
    "layout:  { \\n\\\n",
    "            name: 'cose', padding: 10, animate: true, gravity: 30 \\n\\\n",
    "     } \\n\\\n",
    "}); \\n\\\n",
    "\\\n",
    "</script> \\\n",
    "<h1>\"+taxon+\" in \"+country+\"</h1> \\\n",
    "</body> \\\n",
    "</html>\")"
   ]
  },
  {
   "cell_type": "markdown",
   "metadata": {},
   "source": [
    "#### U. Dogrusoz, E. Giral, A. Cetintas, A. Civril, and E. Demir, \"A Layout Algorithm For Undirected Compound Graphs\", Information Sciences, 179, pp. 980-994, 2009."
   ]
  },
  {
   "cell_type": "code",
   "execution_count": null,
   "metadata": {},
   "outputs": [],
   "source": []
  },
  {
   "cell_type": "code",
   "execution_count": null,
   "metadata": {},
   "outputs": [],
   "source": []
  }
 ],
 "metadata": {
  "kernelspec": {
   "display_name": "Python 3",
   "language": "python",
   "name": "python3"
  },
  "language_info": {
   "codemirror_mode": {
    "name": "ipython",
    "version": 3
   },
   "file_extension": ".py",
   "mimetype": "text/x-python",
   "name": "python",
   "nbconvert_exporter": "python",
   "pygments_lexer": "ipython3",
   "version": "3.7.4"
  }
 },
 "nbformat": 4,
 "nbformat_minor": 2
}
