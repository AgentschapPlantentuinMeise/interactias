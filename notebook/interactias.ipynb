{
 "cells": [
  {
   "attachments": {},
   "cell_type": "markdown",
   "metadata": {},
   "source": [
    "# Interactias Geo Selected Network\n",
    "\n",
    "One way of examining the impact of invasive species is to look at all their interactions and the interations those organisms have with each other. This full interaction network gives you an indication of whether a species might be a \"keystone\" species and therefore have a disproportionatly large impact.\n",
    "\n",
    "In this step of the evolution of this script it will be adapted to quantify species by their occupancy.\n",
    "\n",
    "I will harvest species interactions data from GloBI (https://www.globalbioticinteractions.org/) to discover the species that interact with an invasive species.\n",
    "I will then harvest all the interactions for those species to create two tiers of interactions.\n",
    "I will then count all the occurences of these in species in the Belgian datacube.\n",
    "I will then visualize this.\n",
    "\n",
    "This notebook takes considerable insperation and code from Yikang Li's project on GloBI (https://curiositydata.org/part1_globi_access/).\n",
    "\n",
    "\n",
    "### For information: Invasive alien species of Union concern\n",
    "|A|H|O|\n",
    "|--|--|--|\n",
    "|Acacia saligna|Herpestes javanicus|Pacifastacus leniusculus|\n",
    "|Acridotheres tristis|Humulus scandens|Parthenium hysterophorus|\n",
    "|Ailanthus altissima|Hydrocotyle ranunculoides|Pennisetum setaceum|\n",
    "|Alopochen aegyptiaca|Impatiens glandulifera|Perccottus glenii|\n",
    "|Alternanthera philoxeroides|Lagarosiphon major|Persicaria perfoliata|\n",
    "|Andropogon virginicus|Lepomis gibbosus|Plotosus lineatus|\n",
    "|Arthurdendyus triangulatus|Lespedeza cuneata|Procambarus clarkii|\n",
    "|Asclepias syriaca|Lithobates catesbeianus|Procambarus fallax|\n",
    "|Baccharis halimifolia|Ludwigia peploides|Procyon lotor|\n",
    "|Cabomba caroliniana|Lygodium japonicum|Prosopis juliflora|\n",
    "|Callosciurus erythraeus|Lysichiton americanus|Pseudorasbora parva|\n",
    "|Cardiospermum grandiflorum|Microstegium vimineum|Pueraria montana|\n",
    "|Cortaderia jubata|Muntiacus reevesi|Salvinia molesta|\n",
    "|Corvus splendens|Myocastor coypus|Sciurus carolinensis|\n",
    "|Ehrharta calycina|Myriophyllum aquaticum|Sciurus niger|\n",
    "|Eichhornia crassipes|Myriophyllum heterophyllum|Tamias sibiricus|\n",
    "|Elodea nuttallii|Nasua nasua|Threskiornis aethiopicus|\n",
    "|Eriocheir sinensis|Nyctereutes procyonoides|Trachemys scripta|\n",
    "|Gunnera tinctoria|Ondatra zibethicus|Triadica sebifera|\n",
    "|Gymnocoronis spilanthoides|Orconectes limosus|Vespa velutina|\n",
    "|Heracleum mantegazzianum|Orconectes virilis||\n",
    "|Heracleum persicum|Oxyura jamaicensis||"
   ]
  },
  {
   "cell_type": "code",
   "execution_count": 1902,
   "metadata": {},
   "outputs": [
    {
     "name": "stdout",
     "output_type": "stream",
     "text": [
      "3.7.3 (default, Mar 27 2019, 17:13:21) [MSC v.1915 64 bit (AMD64)]\n"
     ]
    }
   ],
   "source": [
    "import sys\n",
    "print(sys.version)\n",
    "\n",
    "#Python 3.7.4 (default, Aug 9 2019, 18:34:13) [MSC v.1915 64 bit (AMD64)]\n",
    "#pygbif 0.3.0"
   ]
  },
  {
   "cell_type": "code",
   "execution_count": 1903,
   "metadata": {
    "scrolled": true
   },
   "outputs": [],
   "source": [
    "import pandas as pd\n",
    "import re\n",
    "import matplotlib.pyplot as plt\n",
    "from pygbif import species\n",
    "from pygbif import occurrences as occ\n",
    "import sqlite3\n",
    "from sqlite3 import Error\n",
    "import pydot\n",
    "import math"
   ]
  },
  {
   "cell_type": "markdown",
   "metadata": {},
   "source": [
    "### Setting up some parameters"
   ]
  },
  {
   "cell_type": "code",
   "execution_count": 1904,
   "metadata": {},
   "outputs": [],
   "source": [
    "# There is no point accepting all the species that have more than one record.\n",
    "# There are too many casual records of plants and birds\n",
    "thresholdForOccNum = 5\n",
    "# If you want to exclude an interaction add it here\n",
    "#interactionsToExclude = \"visitsFlowersOf\" #If you're not intersted in pollinators this will remove most of them\n",
    "#interactionsToExclude = \"interactsWith\"    #Many interactions in GloBI do not specify a specific interaction. You can get a cleaner netwot by excluding them\n",
    "interactionsToExclude = \"\""
   ]
  },
  {
   "cell_type": "code",
   "execution_count": 1905,
   "metadata": {},
   "outputs": [],
   "source": [
    "\n",
    "## Define the country of interest\n",
    "country  = 'Belgium'\n",
    "\n",
    "## The occurrence cube has data for each year, but here we aggreagate years to get a more complete measure of occupancy.\n",
    "## This parameter defines the year from where to consider records for the occupancy\n",
    "year = 2000\n",
    "\n",
    "## Define the place to find the data cube for occupancy data\n",
    "## Currently the cube contains only Belgian data so that is all that can be used#\n",
    "# A script to create cube.db is here https://github.com/AgentschapPlantentuinMeise/occcube\n",
    "database = r\"..\\..\\data\\cube.db\" \n",
    "\n",
    "## A script to create globi.db is here https://github.com/AgentschapPlantentuinMeise/createGlobiDB\n",
    "## Define the place to find the interaction data\n",
    "globiDB = r\"..\\..\\createGlobiDB\\globi.db\""
   ]
  },
  {
   "cell_type": "markdown",
   "metadata": {},
   "source": [
    "### Define the taxon for the notebook for which to find all interactions\n"
   ]
  },
  {
   "cell_type": "code",
   "execution_count": 1906,
   "metadata": {},
   "outputs": [
    {
     "name": "stdout",
     "output_type": "stream",
     "text": [
      "Pennisetum setaceum\n"
     ]
    }
   ],
   "source": [
    "taxon=input()"
   ]
  },
  {
   "cell_type": "code",
   "execution_count": 1907,
   "metadata": {},
   "outputs": [],
   "source": [
    "taxon = taxon.strip()"
   ]
  },
  {
   "cell_type": "markdown",
   "metadata": {},
   "source": [
    "## Check to see if the taxon exits in GBIF"
   ]
  },
  {
   "cell_type": "code",
   "execution_count": 1908,
   "metadata": {},
   "outputs": [],
   "source": [
    "try:\n",
    "    #NOTE: The function method name_suggest has a different behavior with regards to the gender of Latin names to name_backbone\n",
    "    # If name_backbone is given a name in one gender it can still return the best match from the GBIF backbone if that\n",
    "    # name is spelled as if it was another gender.\n",
    "    #key = species.name_suggest(q=taxon, limit = 1)\n",
    "    match = species.name_backbone(name=taxon, limit = 1)\n",
    "    #print(key)\n",
    "    \n",
    "    # if there is no match this is returned form .name_backbone {'confidence': 100, 'matchType': 'NONE', 'synonym': False}\n",
    "    if match['matchType'] == 'NONE':\n",
    "        raise ValueError(\"TAXON NOT FOUND ON GBIF!\")\n",
    "    else:\n",
    "        key = match['usageKey']\n",
    "except ValueError as ve:\n",
    "    print(ve)\n",
    "    exit(1)\n",
    "\n",
    "\n"
   ]
  },
  {
   "cell_type": "code",
   "execution_count": 1909,
   "metadata": {},
   "outputs": [
    {
     "name": "stdout",
     "output_type": "stream",
     "text": [
      "The taxon to be studied is Pennisetum setaceum (Forssk.) Chiov.\n"
     ]
    }
   ],
   "source": [
    "fullScientificName = match['scientificName']\n",
    "print('The taxon to be studied is ' + fullScientificName)\n"
   ]
  },
  {
   "cell_type": "markdown",
   "metadata": {},
   "source": [
    "### Just for information take a look at the interactions that the taxon has"
   ]
  },
  {
   "cell_type": "code",
   "execution_count": 1910,
   "metadata": {},
   "outputs": [],
   "source": [
    "# What are all the types of interactions involving taxon as source taxon?\n",
    "#data[data['sourceTaxonName'] == taxon]['interactionTypeName'].unique()\n",
    "try:\n",
    "    connGlobi = sqlite3.connect(globiDB)\n",
    "except Error as e:\n",
    "    print(e)"
   ]
  },
  {
   "cell_type": "code",
   "execution_count": 1911,
   "metadata": {},
   "outputs": [],
   "source": [
    "curGlobi = connGlobi.cursor()\n",
    "curGlobi.execute(\"SELECT interactionTypeName, COUNT(interactionTypeName) from globi  WHERE sourceTaxonSpeciesName = ? GROUP BY interactionTypeName;\", (taxon,))\n",
    "sourceInteractions = curGlobi.fetchall()"
   ]
  },
  {
   "cell_type": "code",
   "execution_count": 1912,
   "metadata": {},
   "outputs": [
    {
     "data": {
      "text/plain": [
       "[]"
      ]
     },
     "execution_count": 1912,
     "metadata": {},
     "output_type": "execute_result"
    }
   ],
   "source": [
    "sourceInteractions"
   ]
  },
  {
   "cell_type": "code",
   "execution_count": 1913,
   "metadata": {},
   "outputs": [
    {
     "data": {
      "text/plain": [
       "[('hasHost', 2), ('interactsWith', 8), ('parasiteOf', 1)]"
      ]
     },
     "execution_count": 1913,
     "metadata": {},
     "output_type": "execute_result"
    }
   ],
   "source": [
    "curGlobi = connGlobi.cursor()\n",
    "curGlobi.execute(\"SELECT interactionTypeName, COUNT(interactionTypeName) from globi  WHERE targetTaxonSpeciesName = ? GROUP BY interactionTypeName;\", (taxon,))\n",
    "targetInteractions = curGlobi.fetchall()\n",
    "targetInteractions"
   ]
  },
  {
   "cell_type": "markdown",
   "metadata": {},
   "source": [
    "## Get the primary interation data for the species in question\n",
    "\n",
    "This is limited to the rank of species because otherwise the network can get very large with rather irrelivent higher taxa.\n",
    "However, if no interactions are found at the species level it might be worth removing this restriction."
   ]
  },
  {
   "cell_type": "code",
   "execution_count": 1914,
   "metadata": {},
   "outputs": [],
   "source": [
    "curGlobi = connGlobi.cursor()\n",
    "#curGlobi.execute(\"SELECT * from globi  WHERE targetTaxonName = ? and interactionTypeName NOT IN (?);\", \\\n",
    "if interactionsToExclude == \"\":\n",
    "    curGlobi.execute(\"SELECT * from globi  WHERE targetTaxonSpeciesName = ?;\", \\\n",
    "                 (taxon,))\n",
    "else:\n",
    "    curGlobi.execute(\"SELECT * from globi  WHERE targetTaxonSpeciesName = ? and interactionTypeName NOT IN (?);\", \\\n",
    "                 (taxon,interactionsToExclude,))\n",
    "interactDataTaxon = curGlobi.fetchall()"
   ]
  },
  {
   "cell_type": "code",
   "execution_count": 1915,
   "metadata": {},
   "outputs": [],
   "source": [
    "curGlobi = connGlobi.cursor()\n",
    "#curGlobi.execute(\"SELECT * from globi  WHERE sourceTaxonName = ? and interactionTypeName NOT IN (?);\", \\\n",
    "if interactionsToExclude == \"\":\n",
    "    curGlobi.execute(\"SELECT * from globi  WHERE sourceTaxonSpeciesName = ?;\", \\\n",
    "                 (taxon,))\n",
    "else:\n",
    "    curGlobi.execute(\"SELECT * from globi  WHERE sourceTaxonSpeciesName = ? and interactionTypeName NOT IN (?);\", \\\n",
    "                 (taxon,interactionsToExclude,))\n",
    "sources = curGlobi.fetchall()"
   ]
  },
  {
   "cell_type": "code",
   "execution_count": 1916,
   "metadata": {},
   "outputs": [
    {
     "data": {
      "text/plain": [
       "11"
      ]
     },
     "execution_count": 1916,
     "metadata": {},
     "output_type": "execute_result"
    }
   ],
   "source": [
    "interactDataTaxon.extend(sources)\n",
    "len(interactDataTaxon)"
   ]
  },
  {
   "cell_type": "code",
   "execution_count": 1917,
   "metadata": {},
   "outputs": [],
   "source": [
    "# Convert to a Pandas dataframe\n",
    "interactDataTaxon = pd.DataFrame(interactDataTaxon)"
   ]
  },
  {
   "cell_type": "code",
   "execution_count": 1918,
   "metadata": {},
   "outputs": [],
   "source": [
    "# Add column names\n",
    "interactDataTaxon\n",
    "interactDataTaxon.columns = ['sourceTaxonId', \\\n",
    "                                'sourceTaxonIds','sourceTaxonName','sourceTaxonRank','sourceTaxonPathNames', \\\n",
    "                                'sourceTaxonPathIds','sourceTaxonPathRankNames','sourceTaxonSpeciesName','sourceTaxonSpeciesId',\\\n",
    "                                'sourceTaxonGenusName','sourceTaxonGenusId','sourceTaxonFamilyName','sourceTaxonFamilyId',\\\n",
    "                                'sourceTaxonOrderName','sourceTaxonOrderId','sourceTaxonClassName','sourceTaxonClassId',\\\n",
    "                                'sourceTaxonPhylumName','sourceTaxonPhylumId','sourceTaxonKingdomName','sourceTaxonKingdomId',\\\n",
    "                                'sourceId','sourceOccurrenceId','sourceCatalogNumber','sourceBasisOfRecordId',\\\n",
    "                                'sourceBasisOfRecordName','sourceLifeStageId','sourceLifeStageName','sourceBodyPartId',\\\n",
    "                                'sourceBodyPartName','sourcePhysiologicalStateId','sourcePhysiologicalStateName', \\\n",
    "                                'sourceSexId', 'sourceSexName','interactionTypeName',\\\n",
    "                                'interactionTypeId','targetTaxonId','targetTaxonIds','targetTaxonName',\\\n",
    "                                'targetTaxonRank','targetTaxonPathNames','targetTaxonPathIds','targetTaxonPathRankNames',\\\n",
    "                                'targetTaxonSpeciesName','targetTaxonSpeciesId','targetTaxonGenusName','targetTaxonGenusId',\\\n",
    "                                'targetTaxonFamilyName','targetTaxonFamilyId','targetTaxonOrderName','targetTaxonOrderId',\\\n",
    "                                'targetTaxonClassName','targetTaxonClassId','targetTaxonPhylumName','targetTaxonPhylumId',\\\n",
    "                                'targetTaxonKingdomName','targetTaxonKingdomId','targetId','targetOccurrenceId',\\\n",
    "                                'targetCatalogNumber','targetBasisOfRecordId','targetBasisOfRecordName','targetLifeStageId',\\\n",
    "                                'targetLifeStageName','targetBodyPartId','targetBodyPartName','targetPhysiologicalStateId',\\\n",
    "                                'targetPhysiologicalStateName', 'targetSexId', 'targetSexName',\\\n",
    "                                'decimalLatitude','decimalLongitude','localityId',\\\n",
    "                                'localityName','eventDateUnixEpoch','argumentTypeId','referenceCitation',\\\n",
    "                                'referenceDoi','referenceUrl','sourceCitation','sourceNamespace',\\\n",
    "                                'sourceArchiveURI','sourceDOI','sourceLastSeenAtUnixEpoch']"
   ]
  },
  {
   "cell_type": "markdown",
   "metadata": {},
   "source": [
    "## Get a list of all the primary interacting species"
   ]
  },
  {
   "cell_type": "code",
   "execution_count": 1919,
   "metadata": {},
   "outputs": [],
   "source": [
    "interactingTaxaData = interactDataTaxon.drop_duplicates()"
   ]
  },
  {
   "cell_type": "code",
   "execution_count": 1920,
   "metadata": {},
   "outputs": [
    {
     "data": {
      "text/plain": [
       "4"
      ]
     },
     "execution_count": 1920,
     "metadata": {},
     "output_type": "execute_result"
    }
   ],
   "source": [
    "primaryInteractingTaxa = interactingTaxaData['sourceTaxonName'].drop_duplicates()\n",
    "len(primaryInteractingTaxa)"
   ]
  },
  {
   "cell_type": "code",
   "execution_count": 1921,
   "metadata": {},
   "outputs": [
    {
     "data": {
      "text/plain": [
       "5"
      ]
     },
     "execution_count": 1921,
     "metadata": {},
     "output_type": "execute_result"
    }
   ],
   "source": [
    "primaryInteractingTaxa = (primaryInteractingTaxa.append(interactingTaxaData['targetTaxonName']).drop_duplicates())\n",
    "len(primaryInteractingTaxa)"
   ]
  },
  {
   "cell_type": "code",
   "execution_count": 1922,
   "metadata": {},
   "outputs": [
    {
     "data": {
      "text/plain": [
       "0    Aleurocybotus occiduus\n",
       "1           Nezara viridula\n",
       "8      Oligosita balcluthae\n",
       "9     Heterodera orientalis\n",
       "0       Pennisetum setaceum\n",
       "dtype: object"
      ]
     },
     "execution_count": 1922,
     "metadata": {},
     "output_type": "execute_result"
    }
   ],
   "source": [
    "primaryInteractingTaxa"
   ]
  },
  {
   "cell_type": "markdown",
   "metadata": {},
   "source": [
    "## A function to query the globi database"
   ]
  },
  {
   "cell_type": "code",
   "execution_count": 1923,
   "metadata": {},
   "outputs": [],
   "source": [
    "def secondaryDataInGlobi(conn, intaxon):\n",
    "    cur = conn.cursor()\n",
    "    if interactionsToExclude == \"\":\n",
    "        cur.execute(\"SELECT * from globi  WHERE (targetTaxonSpeciesName = ? OR sourceTaxonSpeciesName = ?);\", \\\n",
    "                 (intaxon,intaxon,))\n",
    "    else:\n",
    "        cur.execute(\"SELECT * from globi where (targetTaxonSpeciesName = ? OR sourceTaxonSpeciesName = ?) and interactionTypeName NOT IN (?);\", \\\n",
    "                (intaxon,intaxon,interactionsToExclude,))\n",
    "    return(cur.fetchall())"
   ]
  },
  {
   "cell_type": "markdown",
   "metadata": {},
   "source": [
    "## Get all the secondary interactions"
   ]
  },
  {
   "cell_type": "code",
   "execution_count": 1924,
   "metadata": {},
   "outputs": [],
   "source": [
    "try:\n",
    "    conn = sqlite3.connect(globiDB)\n",
    "except Error as e:\n",
    "    print(e)"
   ]
  },
  {
   "cell_type": "code",
   "execution_count": 1925,
   "metadata": {},
   "outputs": [],
   "source": [
    "secondarylist = []\n",
    "\n",
    "for name in primaryInteractingTaxa:\n",
    "    temp = secondaryDataInGlobi(conn, name)\n",
    "    secondarylist.extend(temp)"
   ]
  },
  {
   "cell_type": "code",
   "execution_count": 1926,
   "metadata": {},
   "outputs": [],
   "source": [
    "# Convert to a Pandas dataframe\n",
    "secondarylist = pd.DataFrame(secondarylist)"
   ]
  },
  {
   "cell_type": "code",
   "execution_count": 1927,
   "metadata": {},
   "outputs": [],
   "source": [
    "secondarylist.columns = ['sourceTaxonId', \\\n",
    "                                'sourceTaxonIds','sourceTaxonName','sourceTaxonRank','sourceTaxonPathNames', \\\n",
    "                                'sourceTaxonPathIds','sourceTaxonPathRankNames','sourceTaxonSpeciesName','sourceTaxonSpeciesId',\\\n",
    "                                'sourceTaxonGenusName','sourceTaxonGenusId','sourceTaxonFamilyName','sourceTaxonFamilyId',\\\n",
    "                                'sourceTaxonOrderName','sourceTaxonOrderId','sourceTaxonClassName','sourceTaxonClassId',\\\n",
    "                                'sourceTaxonPhylumName','sourceTaxonPhylumId','sourceTaxonKingdomName','sourceTaxonKingdomId',\\\n",
    "                                'sourceId','sourceOccurrenceId','sourceCatalogNumber','sourceBasisOfRecordId',\\\n",
    "                                'sourceBasisOfRecordName','sourceLifeStageId','sourceLifeStageName','sourceBodyPartId',\\\n",
    "                                'sourceBodyPartName','sourcePhysiologicalStateId','sourcePhysiologicalStateName',\\\n",
    "                                'sourceSexId', 'sourceSexName', 'interactionTypeName',\\\n",
    "                                'interactionTypeId','targetTaxonId','targetTaxonIds','targetTaxonName',\\\n",
    "                                'targetTaxonRank','targetTaxonPathNames','targetTaxonPathIds','targetTaxonPathRankNames',\\\n",
    "                                'targetTaxonSpeciesName','targetTaxonSpeciesId','targetTaxonGenusName','targetTaxonGenusId',\\\n",
    "                                'targetTaxonFamilyName','targetTaxonFamilyId','targetTaxonOrderName','targetTaxonOrderId',\\\n",
    "                                'targetTaxonClassName','targetTaxonClassId','targetTaxonPhylumName','targetTaxonPhylumId',\\\n",
    "                                'targetTaxonKingdomName','targetTaxonKingdomId','targetId','targetOccurrenceId',\\\n",
    "                                'targetCatalogNumber','targetBasisOfRecordId','targetBasisOfRecordName','targetLifeStageId',\\\n",
    "                                'targetLifeStageName','targetBodyPartId','targetBodyPartName','targetPhysiologicalStateId',\\\n",
    "                                'targetPhysiologicalStateName', 'targetSexId', 'targetSexName', \\\n",
    "                                'decimalLatitude','decimalLongitude','localityId',\\\n",
    "                                'localityName','eventDateUnixEpoch','argumentTypeId','referenceCitation',\\\n",
    "                                'referenceDoi','referenceUrl','sourceCitation','sourceNamespace',\\\n",
    "                                'sourceArchiveURI','sourceDOI','sourceLastSeenAtUnixEpoch']"
   ]
  },
  {
   "cell_type": "code",
   "execution_count": 1928,
   "metadata": {},
   "outputs": [],
   "source": [
    "allInteractionsData = interactingTaxaData.append(secondarylist)"
   ]
  },
  {
   "cell_type": "code",
   "execution_count": 1929,
   "metadata": {},
   "outputs": [],
   "source": [
    "allInteractionsData = allInteractionsData.drop_duplicates()\n"
   ]
  },
  {
   "cell_type": "code",
   "execution_count": 1930,
   "metadata": {},
   "outputs": [],
   "source": [
    "    cleanInteractDataTaxon = allInteractionsData[['sourceTaxonId', 'sourceTaxonName', 'sourceTaxonSpeciesName', 'sourceTaxonRank',\n",
    "        'sourceTaxonFamilyName', 'interactionTypeName',\n",
    "        'targetTaxonName','targetTaxonSpeciesName','targetTaxonRank', 'sourceCitation', 'sourceDOI',\n",
    "        'sourceTaxonKingdomName','sourceTaxonKingdomId', 'targetTaxonKingdomName','targetTaxonKingdomId'                                        \n",
    "        ]].dropna(subset=['targetTaxonSpeciesName','sourceTaxonSpeciesName'])"
   ]
  },
  {
   "cell_type": "code",
   "execution_count": 1931,
   "metadata": {},
   "outputs": [],
   "source": [
    "allSourceInteractingTaxa = cleanInteractDataTaxon['sourceTaxonSpeciesName'].drop_duplicates()\n",
    "allTargetInteractingTaxa = cleanInteractDataTaxon['targetTaxonSpeciesName'].drop_duplicates()"
   ]
  },
  {
   "cell_type": "code",
   "execution_count": 1932,
   "metadata": {},
   "outputs": [
    {
     "data": {
      "text/plain": [
       "93"
      ]
     },
     "execution_count": 1932,
     "metadata": {},
     "output_type": "execute_result"
    }
   ],
   "source": [
    "allInteractingTaxa = allSourceInteractingTaxa.append(allTargetInteractingTaxa).drop_duplicates()\n",
    "allInteractingTaxa.count()"
   ]
  },
  {
   "cell_type": "code",
   "execution_count": 1933,
   "metadata": {},
   "outputs": [
    {
     "data": {
      "text/plain": [
       "0    Aleurocybotus occiduus\n",
       "1           Nezara viridula\n",
       "8      Oligosita balcluthae\n",
       "9     Heterodera orientalis\n",
       "0                          \n",
       "dtype: object"
      ]
     },
     "execution_count": 1933,
     "metadata": {},
     "output_type": "execute_result"
    }
   ],
   "source": [
    "allInteractingTaxa.head()"
   ]
  },
  {
   "cell_type": "code",
   "execution_count": 1934,
   "metadata": {},
   "outputs": [
    {
     "data": {
      "text/plain": [
       "interactionTypeName\n",
       "interactsWith    208\n",
       "parasiteOf        98\n",
       "eats              81\n",
       "hasHost           13\n",
       "pathogenOf         6\n",
       "preysOn            1\n",
       "dtype: int64"
      ]
     },
     "execution_count": 1934,
     "metadata": {},
     "output_type": "execute_result"
    }
   ],
   "source": [
    "# How many different sort of interaction do I have left?\n",
    "# Checking out all the interaction types\n",
    "cleanInteractDataTaxon.groupby(cleanInteractDataTaxon['interactionTypeName']).size().sort_values(ascending = False)"
   ]
  },
  {
   "cell_type": "markdown",
   "metadata": {},
   "source": [
    "### This function takes a name string and checks on GBIF to see if the name exists there."
   ]
  },
  {
   "cell_type": "code",
   "execution_count": 1935,
   "metadata": {},
   "outputs": [],
   "source": [
    "def speciesExistsInGBIF(name, rank):\n",
    "    try:\n",
    "        match = species.name_backbone(name=name, rank=rank, limit = 1)\n",
    "\n",
    "        # if there is no match this is returned from .name_backbone {'confidence': 100, 'matchType': 'NONE', 'synonym': False}\n",
    "        if match['matchType'] == 'NONE':\n",
    "            return False\n",
    "        else:\n",
    "            return match\n",
    "    except ValueError as ve:\n",
    "        print(ve)\n",
    "        exit(1)"
   ]
  },
  {
   "cell_type": "markdown",
   "metadata": {},
   "source": [
    "### Check that the species in question is actually found on GBIF"
   ]
  },
  {
   "cell_type": "code",
   "execution_count": 1936,
   "metadata": {},
   "outputs": [],
   "source": [
    "if(speciesExistsInGBIF(taxon, \"species\") == False):\n",
    "    print(\"##### {0} has not been found on GBIF #####\".format(taxon))"
   ]
  },
  {
   "cell_type": "markdown",
   "metadata": {},
   "source": [
    "### Citation for the GBIF Backbone Taxonomy"
   ]
  },
  {
   "cell_type": "code",
   "execution_count": 1937,
   "metadata": {},
   "outputs": [
    {
     "name": "stdout",
     "output_type": "stream",
     "text": [
      "GBIF Secretariat (2019). GBIF Backbone Taxonomy. Checklist dataset https://doi.org/10.15468/39omei accessed via GBIF.org on  2020-07-24\n"
     ]
    }
   ],
   "source": [
    "from datetime import date\n",
    "print(\"GBIF Secretariat (2019). GBIF Backbone Taxonomy. Checklist dataset https://doi.org/10.15468/39omei accessed via GBIF.org on \", date.today())"
   ]
  },
  {
   "cell_type": "markdown",
   "metadata": {},
   "source": [
    "### Check to see which taxa in the interaction network are found in GBIF and list those ones that are not"
   ]
  },
  {
   "cell_type": "code",
   "execution_count": 1938,
   "metadata": {},
   "outputs": [
    {
     "name": "stdout",
     "output_type": "stream",
     "text": [
      "Taxa from GLoBI, but not found in GBIF\n",
      "\n",
      "Ficus carica\n"
     ]
    }
   ],
   "source": [
    "taxaFound = {}\n",
    "kingdom = {}\n",
    "\n",
    "print('Taxa from GLoBI, but not found in GBIF')\n",
    "for name in allInteractingTaxa.items():\n",
    "    GBIFName = speciesExistsInGBIF(name[1], \"species\")\n",
    "    if GBIFName == False:\n",
    "        taxaFound[name[1]] = False\n",
    "        print(name[1])\n",
    "    else:\n",
    "        taxaFound[name[1]] = GBIFName['usageKey']\n",
    "        kingdom[name[1]] = GBIFName['kingdom']\n",
    "\n",
    "    "
   ]
  },
  {
   "cell_type": "code",
   "execution_count": 1939,
   "metadata": {},
   "outputs": [],
   "source": [
    "# Convert to a Pandas dataframe\n",
    "taxaFound = pd.DataFrame.from_dict(taxaFound, orient='index')"
   ]
  },
  {
   "cell_type": "code",
   "execution_count": 1940,
   "metadata": {},
   "outputs": [
    {
     "data": {
      "text/plain": [
       "93"
      ]
     },
     "execution_count": 1940,
     "metadata": {},
     "output_type": "execute_result"
    }
   ],
   "source": [
    "len(taxaFound)"
   ]
  },
  {
   "cell_type": "code",
   "execution_count": 1941,
   "metadata": {},
   "outputs": [
    {
     "data": {
      "text/plain": [
       "{'Aleurocybotus occiduus': 'Animalia',\n",
       " 'Nezara viridula': 'Animalia',\n",
       " 'Oligosita balcluthae': 'Animalia',\n",
       " 'Heterodera orientalis': 'Animalia',\n",
       " 'Encarsia luteola': 'Animalia',\n",
       " 'Euderomphale hyalina': 'Animalia',\n",
       " 'Phaseolus coccineus': 'Plantae',\n",
       " 'Aridelus rufotestaceus': 'Animalia',\n",
       " 'Podarcis muralis': 'Animalia',\n",
       " 'Xenoencyrtus niger': 'Animalia',\n",
       " 'Xenoencyrtus rubricatus': 'Animalia',\n",
       " 'Ooencyrtus pityocampae': 'Animalia',\n",
       " 'Ooencyrtus submetallicus': 'Animalia',\n",
       " 'Anastatus japonicus': 'Animalia',\n",
       " 'Ooencyrtus nezarae': 'Animalia',\n",
       " 'Ooencyrtus johnsoni': 'Animalia',\n",
       " 'Ooencyrtus californicus': 'Animalia',\n",
       " 'Ooencyrtus anasae': 'Animalia',\n",
       " 'Emersonella niveipes': 'Animalia',\n",
       " 'Ooencyrtus papilionis': 'Animalia',\n",
       " 'Ooencyrtus fecundus': 'Animalia',\n",
       " 'Hexacladia hilaris': 'Animalia',\n",
       " 'Anastatus dasyni': 'Animalia',\n",
       " 'Anastatus bifasciatus': 'Animalia',\n",
       " 'Ooencyrtus nigerrimus': 'Animalia',\n",
       " 'Ooencyrtus telenomicida': 'Animalia',\n",
       " 'Ooencyrtus utetheisae': 'Animalia',\n",
       " 'Trichopoda lanipes': 'Animalia',\n",
       " 'Trichopoda pennipes': 'Animalia',\n",
       " 'Beauveria bassiana': 'Fungi',\n",
       " 'Metarhizium anisopliae': 'Fungi',\n",
       " 'Klebsiella pneumoniae': 'Bacteria',\n",
       " 'Pennisetum setaceum': 'Plantae',\n",
       " 'Cynodon dactylon': 'Plantae',\n",
       " 'Distichlis spicata': 'Plantae',\n",
       " 'Stenotaphrum secundatum': 'Plantae',\n",
       " 'Hordeum vulgare': 'Plantae',\n",
       " 'Solanum lycopersicum': 'Plantae',\n",
       " 'Ricinus communis': 'Plantae',\n",
       " 'Citrus sinensis': 'Plantae',\n",
       " 'Brassica rapa': 'Plantae',\n",
       " 'Metrosideros collina': 'Plantae',\n",
       " 'Sophora chrysophylla': 'Plantae',\n",
       " 'Penstemon grinnellii': 'Plantae',\n",
       " 'Rubus idaeus': 'Plantae',\n",
       " 'Cucurbita pepo': 'Plantae',\n",
       " 'Lactuca serriola': 'Plantae',\n",
       " 'Malva parviflora': 'Plantae',\n",
       " 'Ligustrum sinense': 'Plantae',\n",
       " 'Capparis spinosa': 'Plantae',\n",
       " 'Datura stramonium': 'Plantae',\n",
       " 'Tamarix nilotica': 'Plantae',\n",
       " 'Diabrotica undecimpunctata': 'Animalia',\n",
       " 'Hedera helix': 'Plantae',\n",
       " 'Tarenaya spinosa': 'Plantae',\n",
       " 'Ocimum basilicum': 'Plantae',\n",
       " 'Ecballium elaterium': 'Plantae',\n",
       " 'Heliotropium europaeum': 'Plantae',\n",
       " 'Astrantia major': 'Plantae',\n",
       " 'Rumex obtusifolius': 'Plantae',\n",
       " 'Podocarpus totara': 'Plantae',\n",
       " 'Calendula officinalis': 'Plantae',\n",
       " 'Polygonella gracilis': 'Plantae',\n",
       " 'Pristhesancus plagipennis': 'Animalia',\n",
       " 'Zea mays': 'Plantae',\n",
       " 'Vigna radiata': 'Plantae',\n",
       " 'Triticum aestivum': 'Plantae',\n",
       " 'Trifolium repens': 'Plantae',\n",
       " 'Sorghum bicolor': 'Plantae',\n",
       " 'Solanum tuberosum': 'Plantae',\n",
       " 'Silybum marianum': 'Plantae',\n",
       " 'Rapistrum rugosum': 'Plantae',\n",
       " 'Raphanus raphanistrum': 'Plantae',\n",
       " 'Phaseolus vulgaris': 'Plantae',\n",
       " 'Oryza sativa': 'Plantae',\n",
       " 'Nicotiana glauca': 'Plantae',\n",
       " 'Medicago sativa': 'Plantae',\n",
       " 'Medicago polymorpha': 'Plantae',\n",
       " 'Arachis hypogaea': 'Plantae',\n",
       " 'Beta vulgaris': 'Plantae',\n",
       " 'Chenopodium album': 'Plantae',\n",
       " 'Glycine max': 'Plantae',\n",
       " 'Helianthus annuus': 'Plantae',\n",
       " 'Lathyrus odoratus': 'Plantae',\n",
       " 'Ligustrum lucidum': 'Plantae',\n",
       " 'Macroptilium lathyroides': 'Plantae',\n",
       " 'Inga paterno': 'Plantae',\n",
       " 'Persea americana': 'Plantae',\n",
       " 'Passiflora edulis': 'Plantae',\n",
       " 'Balclutha brevis': 'Animalia',\n",
       " 'Miscanthus sinensis': 'Plantae'}"
      ]
     },
     "execution_count": 1941,
     "metadata": {},
     "output_type": "execute_result"
    }
   ],
   "source": [
    "kingdom"
   ]
  },
  {
   "cell_type": "markdown",
   "metadata": {},
   "source": [
    "### This function takes a GBIF species key and counts how many occurences exist in the data cube"
   ]
  },
  {
   "cell_type": "code",
   "execution_count": 1942,
   "metadata": {},
   "outputs": [],
   "source": [
    "def speciesCountInCube(conn, key):\n",
    "    cur = conn.cursor()\n",
    "    cur.execute(\"SELECT COUNT(taxonKey) from (SELECT taxonKey FROM cube WHERE year > ? and taxonKey = ? GROUP BY eea_cell_code)\", (year, key,))\n",
    "    return(cur.fetchall())"
   ]
  },
  {
   "cell_type": "markdown",
   "metadata": {},
   "source": [
    "### Loop over all the taxa that are in the interaction network and are in GBIF to find the ones that have been found in the country"
   ]
  },
  {
   "cell_type": "code",
   "execution_count": 1943,
   "metadata": {},
   "outputs": [],
   "source": [
    "taxaFoundInCountry = []\n",
    "\n",
    "try:\n",
    "    conn = sqlite3.connect(database)\n",
    "except Error as e:\n",
    "    print(e)"
   ]
  },
  {
   "cell_type": "code",
   "execution_count": 1944,
   "metadata": {},
   "outputs": [
    {
     "data": {
      "text/plain": [
       "2000"
      ]
     },
     "execution_count": 1944,
     "metadata": {},
     "output_type": "execute_result"
    }
   ],
   "source": [
    "year"
   ]
  },
  {
   "cell_type": "code",
   "execution_count": 1945,
   "metadata": {},
   "outputs": [
    {
     "name": "stdout",
     "output_type": "stream",
     "text": [
      "Aleurocybotus occiduus\n",
      "Nezara viridula\n",
      "Nezara viridula with key 2078852 occurs in 174 km squares.\n",
      "Oligosita balcluthae\n",
      "Heterodera orientalis\n",
      "\n",
      "Encarsia luteola\n",
      "Euderomphale hyalina\n",
      "Phaseolus coccineus\n",
      "Aridelus rufotestaceus\n",
      "Podarcis muralis\n",
      "Podarcis muralis with key 2469188 occurs in 457 km squares.\n",
      "Xenoencyrtus niger\n",
      "Xenoencyrtus rubricatus\n",
      "Ooencyrtus pityocampae\n",
      "Ooencyrtus submetallicus\n",
      "Anastatus japonicus\n",
      "Ooencyrtus nezarae\n",
      "Ooencyrtus johnsoni\n",
      "Ooencyrtus californicus\n",
      "Ooencyrtus anasae\n",
      "Emersonella niveipes\n",
      "Ooencyrtus papilionis\n",
      "Ooencyrtus fecundus\n",
      "Hexacladia hilaris\n",
      "Anastatus dasyni\n",
      "Anastatus bifasciatus\n",
      "Ooencyrtus nigerrimus\n",
      "Ooencyrtus telenomicida\n",
      "Ooencyrtus utetheisae\n",
      "Trichopoda lanipes\n",
      "Trichopoda pennipes\n",
      "Beauveria bassiana\n",
      "Metarhizium anisopliae\n",
      "Klebsiella pneumoniae\n",
      "Pennisetum setaceum\n",
      "Pennisetum setaceum with key 2706134 occurs in 0 km squares.\n",
      "Cynodon dactylon\n",
      "Cynodon dactylon with key 6109637 occurs in 180 km squares.\n",
      "Distichlis spicata\n",
      "Stenotaphrum secundatum\n",
      "Hordeum vulgare\n",
      "Hordeum vulgare with key 2706056 occurs in 222 km squares.\n",
      "Solanum lycopersicum\n",
      "Solanum lycopersicum with key 2930137 occurs in 785 km squares.\n",
      "Ricinus communis\n",
      "Ricinus communis with key 5380041 occurs in 10 km squares.\n",
      "Citrus sinensis\n",
      "Brassica rapa\n",
      "Brassica rapa with key 7903057 occurs in 973 km squares.\n",
      "Metrosideros collina\n",
      "Sophora chrysophylla\n",
      "Penstemon grinnellii\n",
      "Rubus idaeus\n",
      "Rubus idaeus with key 2993094 occurs in 1919 km squares.\n",
      "Cucurbita pepo\n",
      "Cucurbita pepo with key 2874508 occurs in 95 km squares.\n",
      "Lactuca serriola\n",
      "Lactuca serriola with key 3140490 occurs in 4803 km squares.\n",
      "Malva parviflora\n",
      "Malva parviflora with key 3152378 occurs in 47 km squares.\n",
      "Ligustrum sinense\n",
      "Ligustrum sinense with key 3172294 occurs in 11 km squares.\n",
      "Capparis spinosa\n",
      "Datura stramonium\n",
      "Datura stramonium with key 2928751 occurs in 2150 km squares.\n",
      "Tamarix nilotica\n",
      "Diabrotica undecimpunctata\n",
      "Hedera helix\n",
      "Hedera helix with key 8351737 occurs in 7040 km squares.\n",
      "Tarenaya spinosa\n",
      "Ocimum basilicum\n",
      "Ocimum basilicum with key 2927096 occurs in 6 km squares.\n",
      "Ecballium elaterium\n",
      "Heliotropium europaeum\n",
      "Heliotropium europaeum with key 2925767 occurs in 6 km squares.\n",
      "Astrantia major\n",
      "Astrantia major with key 3034915 occurs in 14 km squares.\n",
      "Ficus carica\n",
      "Rumex obtusifolius\n",
      "Rumex obtusifolius with key 2889011 occurs in 8136 km squares.\n",
      "Podocarpus totara\n",
      "Calendula officinalis\n",
      "Calendula officinalis with key 5391480 occurs in 411 km squares.\n",
      "Polygonella gracilis\n",
      "Pristhesancus plagipennis\n",
      "Zea mays\n",
      "Zea mays with key 5290052 occurs in 173 km squares.\n",
      "Vigna radiata\n",
      "Triticum aestivum\n",
      "Triticum aestivum with key 7795888 occurs in 376 km squares.\n",
      "Trifolium repens\n",
      "Trifolium repens with key 5358748 occurs in 8349 km squares.\n",
      "Sorghum bicolor\n",
      "Sorghum bicolor with key 2705181 occurs in 51 km squares.\n",
      "Solanum tuberosum\n",
      "Solanum tuberosum with key 2930262 occurs in 246 km squares.\n",
      "Silybum marianum\n",
      "Silybum marianum with key 3145214 occurs in 390 km squares.\n",
      "Rapistrum rugosum\n",
      "Rapistrum rugosum with key 5373368 occurs in 437 km squares.\n",
      "Raphanus raphanistrum\n",
      "Raphanus raphanistrum with key 3040983 occurs in 1817 km squares.\n",
      "Phaseolus vulgaris\n",
      "Phaseolus vulgaris with key 5350452 occurs in 6 km squares.\n",
      "Oryza sativa\n",
      "Nicotiana glauca\n",
      "Medicago sativa\n",
      "Medicago sativa with key 9151957 occurs in 2463 km squares.\n",
      "Medicago polymorpha\n",
      "Medicago polymorpha with key 2965531 occurs in 83 km squares.\n",
      "Arachis hypogaea\n",
      "Beta vulgaris\n",
      "Beta vulgaris with key 8971274 occurs in 174 km squares.\n",
      "Chenopodium album\n",
      "Chenopodium album with key 3083838 occurs in 5743 km squares.\n",
      "Glycine max\n",
      "Glycine max with key 5359660 occurs in 21 km squares.\n",
      "Helianthus annuus\n",
      "Helianthus annuus with key 9206251 occurs in 441 km squares.\n",
      "Lathyrus odoratus\n",
      "Lathyrus odoratus with key 5356514 occurs in 32 km squares.\n",
      "Ligustrum lucidum\n",
      "Macroptilium lathyroides\n",
      "Inga paterno\n",
      "Persea americana\n",
      "Passiflora edulis\n",
      "Balclutha brevis\n",
      "Miscanthus sinensis\n",
      "Miscanthus sinensis with key 2706026 occurs in 82 km squares.\n"
     ]
    }
   ],
   "source": [
    "for GBIFtaxon in taxaFound.iterrows():\n",
    "    GBIFOccCount = speciesCountInCube(conn, GBIFtaxon[1][0])\n",
    "    print(GBIFtaxon[0])\n",
    "    if GBIFOccCount[0][0] > thresholdForOccNum and GBIFtaxon[0] != taxon: # The threshold for observations is not greater than one, due to all the casual records\n",
    "        taxaFoundInCountry.append({'key': GBIFtaxon[1][0], 'species': GBIFtaxon[0], 'count': GBIFOccCount[0][0]})\n",
    "        print('{0} with key {1} occurs in {2} km squares.'.format(GBIFtaxon[0],GBIFtaxon[1][0],GBIFOccCount[0][0]))\n",
    "    elif GBIFtaxon[0] == taxon:\n",
    "        taxaFoundInCountry.append({'key': GBIFtaxon[1][0], 'species': GBIFtaxon[0], 'count': GBIFOccCount[0][0]})\n",
    "        print('{0} with key {1} occurs in {2} km squares.'.format(GBIFtaxon[0],GBIFtaxon[1][0],GBIFOccCount[0][0]))"
   ]
  },
  {
   "cell_type": "code",
   "execution_count": 1946,
   "metadata": {},
   "outputs": [],
   "source": [
    "# Convert to a Pandas dataframe\n",
    "taxaFoundInCountry = pd.DataFrame(taxaFoundInCountry)    "
   ]
  },
  {
   "cell_type": "code",
   "execution_count": 1947,
   "metadata": {},
   "outputs": [
    {
     "name": "stdout",
     "output_type": "stream",
     "text": [
      "The number of species left in the network is 37\n"
     ]
    }
   ],
   "source": [
    "print(\"The number of species left in the network is {0}\".format(len(taxaFoundInCountry)))"
   ]
  },
  {
   "cell_type": "code",
   "execution_count": 1948,
   "metadata": {
    "scrolled": true
   },
   "outputs": [
    {
     "data": {
      "text/html": [
       "<div>\n",
       "<style scoped>\n",
       "    .dataframe tbody tr th:only-of-type {\n",
       "        vertical-align: middle;\n",
       "    }\n",
       "\n",
       "    .dataframe tbody tr th {\n",
       "        vertical-align: top;\n",
       "    }\n",
       "\n",
       "    .dataframe thead th {\n",
       "        text-align: right;\n",
       "    }\n",
       "</style>\n",
       "<table border=\"1\" class=\"dataframe\">\n",
       "  <thead>\n",
       "    <tr style=\"text-align: right;\">\n",
       "      <th></th>\n",
       "      <th>count</th>\n",
       "      <th>key</th>\n",
       "      <th>species</th>\n",
       "    </tr>\n",
       "  </thead>\n",
       "  <tbody>\n",
       "    <tr>\n",
       "      <th>0</th>\n",
       "      <td>174</td>\n",
       "      <td>2078852</td>\n",
       "      <td>Nezara viridula</td>\n",
       "    </tr>\n",
       "    <tr>\n",
       "      <th>1</th>\n",
       "      <td>457</td>\n",
       "      <td>2469188</td>\n",
       "      <td>Podarcis muralis</td>\n",
       "    </tr>\n",
       "    <tr>\n",
       "      <th>2</th>\n",
       "      <td>0</td>\n",
       "      <td>2706134</td>\n",
       "      <td>Pennisetum setaceum</td>\n",
       "    </tr>\n",
       "    <tr>\n",
       "      <th>3</th>\n",
       "      <td>180</td>\n",
       "      <td>6109637</td>\n",
       "      <td>Cynodon dactylon</td>\n",
       "    </tr>\n",
       "    <tr>\n",
       "      <th>4</th>\n",
       "      <td>222</td>\n",
       "      <td>2706056</td>\n",
       "      <td>Hordeum vulgare</td>\n",
       "    </tr>\n",
       "    <tr>\n",
       "      <th>5</th>\n",
       "      <td>785</td>\n",
       "      <td>2930137</td>\n",
       "      <td>Solanum lycopersicum</td>\n",
       "    </tr>\n",
       "    <tr>\n",
       "      <th>6</th>\n",
       "      <td>10</td>\n",
       "      <td>5380041</td>\n",
       "      <td>Ricinus communis</td>\n",
       "    </tr>\n",
       "    <tr>\n",
       "      <th>7</th>\n",
       "      <td>973</td>\n",
       "      <td>7903057</td>\n",
       "      <td>Brassica rapa</td>\n",
       "    </tr>\n",
       "    <tr>\n",
       "      <th>8</th>\n",
       "      <td>1919</td>\n",
       "      <td>2993094</td>\n",
       "      <td>Rubus idaeus</td>\n",
       "    </tr>\n",
       "    <tr>\n",
       "      <th>9</th>\n",
       "      <td>95</td>\n",
       "      <td>2874508</td>\n",
       "      <td>Cucurbita pepo</td>\n",
       "    </tr>\n",
       "    <tr>\n",
       "      <th>10</th>\n",
       "      <td>4803</td>\n",
       "      <td>3140490</td>\n",
       "      <td>Lactuca serriola</td>\n",
       "    </tr>\n",
       "    <tr>\n",
       "      <th>11</th>\n",
       "      <td>47</td>\n",
       "      <td>3152378</td>\n",
       "      <td>Malva parviflora</td>\n",
       "    </tr>\n",
       "    <tr>\n",
       "      <th>12</th>\n",
       "      <td>11</td>\n",
       "      <td>3172294</td>\n",
       "      <td>Ligustrum sinense</td>\n",
       "    </tr>\n",
       "    <tr>\n",
       "      <th>13</th>\n",
       "      <td>2150</td>\n",
       "      <td>2928751</td>\n",
       "      <td>Datura stramonium</td>\n",
       "    </tr>\n",
       "    <tr>\n",
       "      <th>14</th>\n",
       "      <td>7040</td>\n",
       "      <td>8351737</td>\n",
       "      <td>Hedera helix</td>\n",
       "    </tr>\n",
       "    <tr>\n",
       "      <th>15</th>\n",
       "      <td>6</td>\n",
       "      <td>2927096</td>\n",
       "      <td>Ocimum basilicum</td>\n",
       "    </tr>\n",
       "    <tr>\n",
       "      <th>16</th>\n",
       "      <td>6</td>\n",
       "      <td>2925767</td>\n",
       "      <td>Heliotropium europaeum</td>\n",
       "    </tr>\n",
       "    <tr>\n",
       "      <th>17</th>\n",
       "      <td>14</td>\n",
       "      <td>3034915</td>\n",
       "      <td>Astrantia major</td>\n",
       "    </tr>\n",
       "    <tr>\n",
       "      <th>18</th>\n",
       "      <td>8136</td>\n",
       "      <td>2889011</td>\n",
       "      <td>Rumex obtusifolius</td>\n",
       "    </tr>\n",
       "    <tr>\n",
       "      <th>19</th>\n",
       "      <td>411</td>\n",
       "      <td>5391480</td>\n",
       "      <td>Calendula officinalis</td>\n",
       "    </tr>\n",
       "    <tr>\n",
       "      <th>20</th>\n",
       "      <td>173</td>\n",
       "      <td>5290052</td>\n",
       "      <td>Zea mays</td>\n",
       "    </tr>\n",
       "    <tr>\n",
       "      <th>21</th>\n",
       "      <td>376</td>\n",
       "      <td>7795888</td>\n",
       "      <td>Triticum aestivum</td>\n",
       "    </tr>\n",
       "    <tr>\n",
       "      <th>22</th>\n",
       "      <td>8349</td>\n",
       "      <td>5358748</td>\n",
       "      <td>Trifolium repens</td>\n",
       "    </tr>\n",
       "    <tr>\n",
       "      <th>23</th>\n",
       "      <td>51</td>\n",
       "      <td>2705181</td>\n",
       "      <td>Sorghum bicolor</td>\n",
       "    </tr>\n",
       "    <tr>\n",
       "      <th>24</th>\n",
       "      <td>246</td>\n",
       "      <td>2930262</td>\n",
       "      <td>Solanum tuberosum</td>\n",
       "    </tr>\n",
       "    <tr>\n",
       "      <th>25</th>\n",
       "      <td>390</td>\n",
       "      <td>3145214</td>\n",
       "      <td>Silybum marianum</td>\n",
       "    </tr>\n",
       "    <tr>\n",
       "      <th>26</th>\n",
       "      <td>437</td>\n",
       "      <td>5373368</td>\n",
       "      <td>Rapistrum rugosum</td>\n",
       "    </tr>\n",
       "    <tr>\n",
       "      <th>27</th>\n",
       "      <td>1817</td>\n",
       "      <td>3040983</td>\n",
       "      <td>Raphanus raphanistrum</td>\n",
       "    </tr>\n",
       "    <tr>\n",
       "      <th>28</th>\n",
       "      <td>6</td>\n",
       "      <td>5350452</td>\n",
       "      <td>Phaseolus vulgaris</td>\n",
       "    </tr>\n",
       "    <tr>\n",
       "      <th>29</th>\n",
       "      <td>2463</td>\n",
       "      <td>9151957</td>\n",
       "      <td>Medicago sativa</td>\n",
       "    </tr>\n",
       "    <tr>\n",
       "      <th>30</th>\n",
       "      <td>83</td>\n",
       "      <td>2965531</td>\n",
       "      <td>Medicago polymorpha</td>\n",
       "    </tr>\n",
       "    <tr>\n",
       "      <th>31</th>\n",
       "      <td>174</td>\n",
       "      <td>8971274</td>\n",
       "      <td>Beta vulgaris</td>\n",
       "    </tr>\n",
       "    <tr>\n",
       "      <th>32</th>\n",
       "      <td>5743</td>\n",
       "      <td>3083838</td>\n",
       "      <td>Chenopodium album</td>\n",
       "    </tr>\n",
       "    <tr>\n",
       "      <th>33</th>\n",
       "      <td>21</td>\n",
       "      <td>5359660</td>\n",
       "      <td>Glycine max</td>\n",
       "    </tr>\n",
       "    <tr>\n",
       "      <th>34</th>\n",
       "      <td>441</td>\n",
       "      <td>9206251</td>\n",
       "      <td>Helianthus annuus</td>\n",
       "    </tr>\n",
       "    <tr>\n",
       "      <th>35</th>\n",
       "      <td>32</td>\n",
       "      <td>5356514</td>\n",
       "      <td>Lathyrus odoratus</td>\n",
       "    </tr>\n",
       "    <tr>\n",
       "      <th>36</th>\n",
       "      <td>82</td>\n",
       "      <td>2706026</td>\n",
       "      <td>Miscanthus sinensis</td>\n",
       "    </tr>\n",
       "  </tbody>\n",
       "</table>\n",
       "</div>"
      ],
      "text/plain": [
       "    count      key                 species\n",
       "0     174  2078852         Nezara viridula\n",
       "1     457  2469188        Podarcis muralis\n",
       "2       0  2706134     Pennisetum setaceum\n",
       "3     180  6109637        Cynodon dactylon\n",
       "4     222  2706056         Hordeum vulgare\n",
       "5     785  2930137    Solanum lycopersicum\n",
       "6      10  5380041        Ricinus communis\n",
       "7     973  7903057           Brassica rapa\n",
       "8    1919  2993094            Rubus idaeus\n",
       "9      95  2874508          Cucurbita pepo\n",
       "10   4803  3140490        Lactuca serriola\n",
       "11     47  3152378        Malva parviflora\n",
       "12     11  3172294       Ligustrum sinense\n",
       "13   2150  2928751       Datura stramonium\n",
       "14   7040  8351737            Hedera helix\n",
       "15      6  2927096        Ocimum basilicum\n",
       "16      6  2925767  Heliotropium europaeum\n",
       "17     14  3034915         Astrantia major\n",
       "18   8136  2889011      Rumex obtusifolius\n",
       "19    411  5391480   Calendula officinalis\n",
       "20    173  5290052                Zea mays\n",
       "21    376  7795888       Triticum aestivum\n",
       "22   8349  5358748        Trifolium repens\n",
       "23     51  2705181         Sorghum bicolor\n",
       "24    246  2930262       Solanum tuberosum\n",
       "25    390  3145214        Silybum marianum\n",
       "26    437  5373368       Rapistrum rugosum\n",
       "27   1817  3040983   Raphanus raphanistrum\n",
       "28      6  5350452      Phaseolus vulgaris\n",
       "29   2463  9151957         Medicago sativa\n",
       "30     83  2965531     Medicago polymorpha\n",
       "31    174  8971274           Beta vulgaris\n",
       "32   5743  3083838       Chenopodium album\n",
       "33     21  5359660             Glycine max\n",
       "34    441  9206251       Helianthus annuus\n",
       "35     32  5356514       Lathyrus odoratus\n",
       "36     82  2706026     Miscanthus sinensis"
      ]
     },
     "execution_count": 1948,
     "metadata": {},
     "output_type": "execute_result"
    }
   ],
   "source": [
    "taxaFoundInCountry"
   ]
  },
  {
   "cell_type": "markdown",
   "metadata": {},
   "source": [
    "## Drawing a network of the interactions\n",
    "\n",
    "Now that I have a list of all the species in the country I can use this as my nodes list for the network diagram."
   ]
  },
  {
   "cell_type": "code",
   "execution_count": 1949,
   "metadata": {},
   "outputs": [
    {
     "name": "stdout",
     "output_type": "stream",
     "text": [
      "using package pydot\n"
     ]
    }
   ],
   "source": [
    "#networkx seems to be a leading network tool in Python\n",
    "import networkx as nx\n",
    "import matplotlib.pyplot as plt\n",
    "\n",
    "try:\n",
    "    import pygraphviz\n",
    "    from networkx.drawing.nx_agraph import write_dot\n",
    "    print(\"using package pygraphviz\")\n",
    "except ImportError:\n",
    "    try:\n",
    "        import pydot\n",
    "        from networkx.drawing.nx_pydot import write_dot\n",
    "        print(\"using package pydot\")\n",
    "    except ImportError:\n",
    "        print()\n",
    "        print(\"Both pygraphviz and pydot were not found \")\n",
    "        print(\"see  https://networkx.github.io/documentation/latest/reference/drawing.html\")\n",
    "        print()"
   ]
  },
  {
   "cell_type": "code",
   "execution_count": 1950,
   "metadata": {},
   "outputs": [],
   "source": [
    "# Create graphic object\n",
    "G = nx.DiGraph()"
   ]
  },
  {
   "cell_type": "code",
   "execution_count": 1951,
   "metadata": {},
   "outputs": [],
   "source": [
    "# Match colours to interactions to distinguish them on the graph\n",
    "colorInteractions = {'interaction':['pollinates', 'mutualistOf', 'eats', 'visitsFlowersOf', 'hasHost', 'parasiteOf', 'pathogenOf'],\n",
    "        'colour':['r', 'g', 'b', 'y', 'm', 'w', 'c']}  \n",
    "\n",
    "colorInteractionsDf = pd.DataFrame(colorInteractions)\n",
    "\n",
    "#len(list(G.nodes))"
   ]
  },
  {
   "cell_type": "markdown",
   "metadata": {},
   "source": [
    "## A quick look at the interaction data to see if it is what is expected"
   ]
  },
  {
   "cell_type": "code",
   "execution_count": 1952,
   "metadata": {},
   "outputs": [
    {
     "data": {
      "text/html": [
       "<div>\n",
       "<style scoped>\n",
       "    .dataframe tbody tr th:only-of-type {\n",
       "        vertical-align: middle;\n",
       "    }\n",
       "\n",
       "    .dataframe tbody tr th {\n",
       "        vertical-align: top;\n",
       "    }\n",
       "\n",
       "    .dataframe thead th {\n",
       "        text-align: right;\n",
       "    }\n",
       "</style>\n",
       "<table border=\"1\" class=\"dataframe\">\n",
       "  <thead>\n",
       "    <tr style=\"text-align: right;\">\n",
       "      <th></th>\n",
       "      <th>sourceTaxonId</th>\n",
       "      <th>sourceTaxonName</th>\n",
       "      <th>sourceTaxonSpeciesName</th>\n",
       "      <th>sourceTaxonRank</th>\n",
       "      <th>sourceTaxonFamilyName</th>\n",
       "      <th>interactionTypeName</th>\n",
       "      <th>targetTaxonName</th>\n",
       "      <th>targetTaxonSpeciesName</th>\n",
       "      <th>targetTaxonRank</th>\n",
       "      <th>sourceCitation</th>\n",
       "      <th>sourceDOI</th>\n",
       "      <th>sourceTaxonKingdomName</th>\n",
       "      <th>sourceTaxonKingdomId</th>\n",
       "      <th>targetTaxonKingdomName</th>\n",
       "      <th>targetTaxonKingdomId</th>\n",
       "    </tr>\n",
       "  </thead>\n",
       "  <tbody>\n",
       "  </tbody>\n",
       "</table>\n",
       "</div>"
      ],
      "text/plain": [
       "Empty DataFrame\n",
       "Columns: [sourceTaxonId, sourceTaxonName, sourceTaxonSpeciesName, sourceTaxonRank, sourceTaxonFamilyName, interactionTypeName, targetTaxonName, targetTaxonSpeciesName, targetTaxonRank, sourceCitation, sourceDOI, sourceTaxonKingdomName, sourceTaxonKingdomId, targetTaxonKingdomName, targetTaxonKingdomId]\n",
       "Index: []"
      ]
     },
     "execution_count": 1952,
     "metadata": {},
     "output_type": "execute_result"
    }
   ],
   "source": [
    "#cleanInteractDataTaxon.loc[(cleanInteractDataTaxon[\"sourceTaxonName\"] == 'Apis mellifera') & (cleanInteractDataTaxon[\"targetTaxonName\"] == 'Procyon lotor')]\n",
    "cleanInteractDataTaxon.loc[(cleanInteractDataTaxon[\"sourceTaxonSpeciesName\"] == 'Bombus hortorum')]"
   ]
  },
  {
   "cell_type": "markdown",
   "metadata": {},
   "source": [
    "## Figure out which node has the most records. This is so that the graphic can be scaled."
   ]
  },
  {
   "cell_type": "code",
   "execution_count": 1953,
   "metadata": {},
   "outputs": [
    {
     "name": "stdout",
     "output_type": "stream",
     "text": [
      "8349\n"
     ]
    }
   ],
   "source": [
    "if len(taxaFoundInCountry) > 0:\n",
    "    maxRecords = taxaFoundInCountry.max()[\"count\"]\n",
    "    print(maxRecords)"
   ]
  },
  {
   "cell_type": "markdown",
   "metadata": {},
   "source": [
    "### Add the nodes to the graph"
   ]
  },
  {
   "cell_type": "code",
   "execution_count": 1954,
   "metadata": {},
   "outputs": [],
   "source": [
    "dictOfNodeSizes = {}\n",
    "\n",
    "for index, row in taxaFoundInCountry.iterrows():\n",
    "     # access data using column names\n",
    "    #print('A: ', row['species'], row['count'], row['key'])\n",
    "    G.add_node(row['species'], gbifkey=row['key'], occupancy = row['count'])\n",
    "    #create a list of node sizes scaled for the network visulization\n",
    "    #The square root ensures that the node area is proportional to the occupancy, rather than the radius\n",
    "    dictOfNodeSizes[row['species']] = math.sqrt(int(row['count']/maxRecords*100))*10"
   ]
  },
  {
   "cell_type": "markdown",
   "metadata": {},
   "source": [
    "### Add edges to the graph"
   ]
  },
  {
   "cell_type": "code",
   "execution_count": 1955,
   "metadata": {},
   "outputs": [
    {
     "name": "stdout",
     "output_type": "stream",
     "text": [
      "C:  Pennisetum setaceum Nezara viridula interactsWith\n",
      "C:  Pennisetum setaceum Nezara viridula interactsWith\n",
      "C:  Pennisetum setaceum Nezara viridula interactsWith\n",
      "C:  Pennisetum setaceum Nezara viridula interactsWith\n",
      "C:  Pennisetum setaceum Nezara viridula interactsWith\n",
      "C:  Pennisetum setaceum Nezara viridula interactsWith\n",
      "C:  Solanum lycopersicum Nezara viridula interactsWith\n",
      "C:  Ricinus communis Nezara viridula interactsWith\n",
      "C:  Ricinus communis Nezara viridula interactsWith\n",
      "C:  Ricinus communis Nezara viridula interactsWith\n",
      "C:  Ricinus communis Nezara viridula interactsWith\n",
      "C:  Ricinus communis Nezara viridula interactsWith\n",
      "C:  Ricinus communis Nezara viridula interactsWith\n",
      "C:  Ricinus communis Nezara viridula interactsWith\n",
      "C:  Brassica rapa Nezara viridula interactsWith\n",
      "C:  Solanum lycopersicum Nezara viridula interactsWith\n",
      "C:  Ricinus communis Nezara viridula interactsWith\n",
      "C:  Ricinus communis Nezara viridula interactsWith\n",
      "C:  Ricinus communis Nezara viridula interactsWith\n",
      "C:  Ricinus communis Nezara viridula interactsWith\n",
      "C:  Ricinus communis Nezara viridula interactsWith\n",
      "C:  Ricinus communis Nezara viridula interactsWith\n",
      "C:  Ricinus communis Nezara viridula interactsWith\n",
      "C:  Brassica rapa Nezara viridula interactsWith\n",
      "C:  Rubus idaeus Nezara viridula interactsWith\n",
      "C:  Cucurbita pepo Nezara viridula eats\n",
      "C:  Solanum lycopersicum Nezara viridula interactsWith\n",
      "C:  Lactuca serriola Nezara viridula interactsWith\n",
      "C:  Malva parviflora Nezara viridula eats\n",
      "C:  Ligustrum sinense Nezara viridula interactsWith\n",
      "C:  Solanum lycopersicum Nezara viridula interactsWith\n",
      "C:  Solanum lycopersicum Nezara viridula interactsWith\n",
      "C:  Solanum lycopersicum Nezara viridula interactsWith\n",
      "C:  Datura stramonium Nezara viridula interactsWith\n",
      "C:  Hedera helix Nezara viridula eats\n",
      "C:  Ocimum basilicum Nezara viridula interactsWith\n",
      "C:  Heliotropium europaeum Nezara viridula interactsWith\n",
      "C:  Astrantia major Nezara viridula eats\n",
      "C:  Rumex obtusifolius Nezara viridula interactsWith\n",
      "C:  Calendula officinalis Nezara viridula interactsWith\n",
      "C:  Zea mays Nezara viridula eats\n",
      "C:  Triticum aestivum Nezara viridula eats\n",
      "C:  Trifolium repens Nezara viridula eats\n",
      "C:  Sorghum bicolor Nezara viridula eats\n",
      "C:  Solanum tuberosum Nezara viridula eats\n",
      "C:  Silybum marianum Nezara viridula eats\n",
      "C:  Ricinus communis Nezara viridula eats\n",
      "C:  Rapistrum rugosum Nezara viridula eats\n",
      "C:  Raphanus raphanistrum Nezara viridula eats\n",
      "C:  Phaseolus vulgaris Nezara viridula eats\n",
      "C:  Medicago sativa Nezara viridula eats\n",
      "C:  Medicago polymorpha Nezara viridula eats\n",
      "C:  Beta vulgaris Nezara viridula eats\n",
      "C:  Chenopodium album Nezara viridula eats\n",
      "C:  Datura stramonium Nezara viridula eats\n",
      "C:  Glycine max Nezara viridula eats\n",
      "C:  Helianthus annuus Nezara viridula eats\n",
      "C:  Lathyrus odoratus Nezara viridula eats\n",
      "C:  Solanum lycopersicum Nezara viridula eats\n",
      "C:  Glycine max Nezara viridula eats\n",
      "C:  Medicago sativa Nezara viridula eats\n",
      "C:  Glycine max Nezara viridula eats\n",
      "C:  Medicago sativa Nezara viridula eats\n",
      "C:  Glycine max Nezara viridula eats\n",
      "C:  Glycine max Nezara viridula eats\n",
      "C:  Medicago sativa Nezara viridula eats\n",
      "C:  Medicago sativa Nezara viridula eats\n",
      "C:  Nezara viridula Podarcis muralis eats\n"
     ]
    }
   ],
   "source": [
    "# iterate over the interacting species that are in GBIF and in the country with iterrows()\n",
    "# Find the taxa found in the country that are in the source taxon name of the interation data,\n",
    "# then add the edge if the target species is in the country too.\n",
    "\n",
    "taxaFoundInCountry_copy = taxaFoundInCountry.copy()\n",
    "\n",
    "for index, row in taxaFoundInCountry.iterrows():\n",
    "    # loop over all the taxa finding if any of them are mentioned in the sourceTaxonName field\n",
    "    for edge in cleanInteractDataTaxon.iterrows():\n",
    "        if row['species'] == edge[1]['sourceTaxonSpeciesName']:\n",
    "            #print('B: ', edge[1]['sourceTaxonName'], edge[1]['targetTaxonName'])\n",
    "            # Some of the target species will not be in GBIF of in the country, so only add an edge where they are.\n",
    "            for index2, row2 in taxaFoundInCountry_copy.iterrows():\n",
    "                #print('E: ', row2['species'], edge[1]['targetTaxonName'])\n",
    "                if row2['species'] == edge[1]['targetTaxonSpeciesName']: \n",
    "                    print('C: ', edge[1]['targetTaxonSpeciesName'], row['species'], edge[1]['interactionTypeName'])\n",
    "                    G.add_edge(row['species'], edge[1]['targetTaxonSpeciesName'], label = edge[1]['interactionTypeName'])\n",
    "                    \n",
    "#len(list(G.nodes))\n"
   ]
  },
  {
   "cell_type": "code",
   "execution_count": 1956,
   "metadata": {},
   "outputs": [
    {
     "name": "stdout",
     "output_type": "stream",
     "text": [
      "F:  Podarcis muralis Nezara viridula eats\n",
      "F:  Nezara viridula Pennisetum setaceum interactsWith\n",
      "F:  Nezara viridula Pennisetum setaceum interactsWith\n",
      "F:  Nezara viridula Pennisetum setaceum interactsWith\n",
      "F:  Nezara viridula Pennisetum setaceum interactsWith\n",
      "F:  Nezara viridula Pennisetum setaceum interactsWith\n",
      "F:  Nezara viridula Pennisetum setaceum interactsWith\n",
      "F:  Nezara viridula Solanum lycopersicum interactsWith\n",
      "F:  Nezara viridula Solanum lycopersicum interactsWith\n",
      "F:  Nezara viridula Solanum lycopersicum interactsWith\n",
      "F:  Nezara viridula Solanum lycopersicum interactsWith\n",
      "F:  Nezara viridula Solanum lycopersicum interactsWith\n",
      "F:  Nezara viridula Solanum lycopersicum interactsWith\n",
      "F:  Nezara viridula Solanum lycopersicum eats\n",
      "F:  Nezara viridula Ricinus communis interactsWith\n",
      "F:  Nezara viridula Ricinus communis interactsWith\n",
      "F:  Nezara viridula Ricinus communis interactsWith\n",
      "F:  Nezara viridula Ricinus communis interactsWith\n",
      "F:  Nezara viridula Ricinus communis interactsWith\n",
      "F:  Nezara viridula Ricinus communis interactsWith\n",
      "F:  Nezara viridula Ricinus communis interactsWith\n",
      "F:  Nezara viridula Ricinus communis interactsWith\n",
      "F:  Nezara viridula Ricinus communis interactsWith\n",
      "F:  Nezara viridula Ricinus communis interactsWith\n",
      "F:  Nezara viridula Ricinus communis interactsWith\n",
      "F:  Nezara viridula Ricinus communis interactsWith\n",
      "F:  Nezara viridula Ricinus communis interactsWith\n",
      "F:  Nezara viridula Ricinus communis interactsWith\n",
      "F:  Nezara viridula Ricinus communis eats\n",
      "F:  Nezara viridula Brassica rapa interactsWith\n",
      "F:  Nezara viridula Brassica rapa interactsWith\n",
      "F:  Nezara viridula Rubus idaeus interactsWith\n",
      "F:  Nezara viridula Cucurbita pepo eats\n",
      "F:  Nezara viridula Lactuca serriola interactsWith\n",
      "F:  Nezara viridula Malva parviflora eats\n",
      "F:  Nezara viridula Ligustrum sinense interactsWith\n",
      "F:  Nezara viridula Datura stramonium interactsWith\n",
      "F:  Nezara viridula Datura stramonium eats\n",
      "F:  Nezara viridula Hedera helix eats\n",
      "F:  Nezara viridula Ocimum basilicum interactsWith\n",
      "F:  Nezara viridula Heliotropium europaeum interactsWith\n",
      "F:  Nezara viridula Astrantia major eats\n",
      "F:  Nezara viridula Rumex obtusifolius interactsWith\n",
      "F:  Nezara viridula Calendula officinalis interactsWith\n",
      "F:  Nezara viridula Zea mays eats\n",
      "F:  Nezara viridula Triticum aestivum eats\n",
      "F:  Nezara viridula Trifolium repens eats\n",
      "F:  Nezara viridula Sorghum bicolor eats\n",
      "F:  Nezara viridula Solanum tuberosum eats\n",
      "F:  Nezara viridula Silybum marianum eats\n",
      "F:  Nezara viridula Rapistrum rugosum eats\n",
      "F:  Nezara viridula Raphanus raphanistrum eats\n",
      "F:  Nezara viridula Phaseolus vulgaris eats\n",
      "F:  Nezara viridula Medicago sativa eats\n",
      "F:  Nezara viridula Medicago sativa eats\n",
      "F:  Nezara viridula Medicago sativa eats\n",
      "F:  Nezara viridula Medicago sativa eats\n",
      "F:  Nezara viridula Medicago sativa eats\n",
      "F:  Nezara viridula Medicago polymorpha eats\n",
      "F:  Nezara viridula Beta vulgaris eats\n",
      "F:  Nezara viridula Chenopodium album eats\n",
      "F:  Nezara viridula Glycine max eats\n",
      "F:  Nezara viridula Glycine max eats\n",
      "F:  Nezara viridula Glycine max eats\n",
      "F:  Nezara viridula Glycine max eats\n",
      "F:  Nezara viridula Glycine max eats\n",
      "F:  Nezara viridula Helianthus annuus eats\n",
      "F:  Nezara viridula Lathyrus odoratus eats\n"
     ]
    }
   ],
   "source": [
    "# iterate over rows with iterrows()\n",
    "\n",
    "# Find the taxa found in the country that are in the target taxon name of the interation data,\n",
    "# then add the edge if the source species is in the country too.\n",
    "\n",
    "for index, row in taxaFoundInCountry.iterrows():\n",
    "    for edge in cleanInteractDataTaxon.iterrows():\n",
    "        if row['species'] == edge[1]['targetTaxonName']:\n",
    "            #print('D: ', edge[1]['sourceTaxonName'], edge[1]['targetTaxonName'])\n",
    "            #G.add_node(edge[1]['sourceTaxonName'], gbifkey=row['key'])\n",
    "            #dictOfNodeSizes[edge[1]['sourceTaxonName']] = int(row['count']/maxRecords*100)\n",
    "            for index2, row2 in taxaFoundInCountry.iterrows():\n",
    "                #print('E: ', row2['species'])\n",
    "                if row2['species'] == edge[1]['sourceTaxonSpeciesName']: \n",
    "                    print('F: ', edge[1]['sourceTaxonSpeciesName'],edge[1]['targetTaxonSpeciesName'],edge[1]['interactionTypeName'])\n",
    "                    G.add_edge(edge[1]['sourceTaxonSpeciesName'], row2['species'], label = edge[1]['interactionTypeName'])"
   ]
  },
  {
   "cell_type": "code",
   "execution_count": 1957,
   "metadata": {},
   "outputs": [
    {
     "name": "stdout",
     "output_type": "stream",
     "text": [
      "Number of nodes = 37\n",
      "Number of edges = 35\n"
     ]
    }
   ],
   "source": [
    "print(\"Number of nodes = {0}\".format(G.number_of_nodes()))\n",
    "print(\"Number of edges = {0}\".format(G.number_of_edges()))"
   ]
  },
  {
   "cell_type": "code",
   "execution_count": 1958,
   "metadata": {},
   "outputs": [
    {
     "data": {
      "text/plain": [
       "37"
      ]
     },
     "execution_count": 1958,
     "metadata": {},
     "output_type": "execute_result"
    }
   ],
   "source": [
    "len(dictOfNodeSizes)"
   ]
  },
  {
   "cell_type": "markdown",
   "metadata": {},
   "source": [
    "## Remove any nodes that have no edges.\n",
    "This happens because some of the linking nodes have few supporting observations and so have been weeded out\n"
   ]
  },
  {
   "cell_type": "code",
   "execution_count": 1959,
   "metadata": {},
   "outputs": [],
   "source": [
    "#for n in G.nodes:\n",
    "#    if G.degree(n) == 0:\n",
    "#        G.remove_node(n)\n",
    "        \n",
    "G.remove_nodes_from(list(nx.isolates(G)))"
   ]
  },
  {
   "cell_type": "code",
   "execution_count": 1960,
   "metadata": {},
   "outputs": [
    {
     "data": {
      "text/plain": [
       "34"
      ]
     },
     "execution_count": 1960,
     "metadata": {},
     "output_type": "execute_result"
    }
   ],
   "source": [
    "len(G.nodes)"
   ]
  },
  {
   "cell_type": "markdown",
   "metadata": {},
   "source": [
    "## Remove any selfloop edges"
   ]
  },
  {
   "cell_type": "code",
   "execution_count": 1961,
   "metadata": {},
   "outputs": [],
   "source": [
    "for e in G.selfloop_edges(data=False):\n",
    "    G.remove_edge(e[0],e[1])"
   ]
  },
  {
   "cell_type": "markdown",
   "metadata": {},
   "source": [
    "## Run through the list of nodes again and construct a list of the node sizes in the correct order"
   ]
  },
  {
   "cell_type": "code",
   "execution_count": 1962,
   "metadata": {},
   "outputs": [],
   "source": [
    "listOfNodeSizes = []\n",
    "\n",
    "for node in G.nodes:\n",
    "    listOfNodeSizes.append(dictOfNodeSizes[node])"
   ]
  },
  {
   "cell_type": "markdown",
   "metadata": {},
   "source": [
    "## A network of all the interacting taxa"
   ]
  },
  {
   "cell_type": "code",
   "execution_count": 1963,
   "metadata": {},
   "outputs": [
    {
     "data": {
      "image/png": "[encoded data removed]",
      "text/plain": [
       "<Figure size 1080x1080 with 1 Axes>"
      ]
     },
     "metadata": {
      "needs_background": "light"
     },
     "output_type": "display_data"
    }
   ],
   "source": [
    "plt.figure(figsize=(15,15))\n",
    "edge_labels = nx.get_edge_attributes(G,'label')\n",
    "\n",
    "#pos = nx.spring_layout(G, iterations=50, k=50) \n",
    "#pos = nx.spring_layout(G)\n",
    "#pos = nx.random_layout(G)\n",
    "pos = nx.circular_layout(G)\n",
    "#pos = nx.spectral_layout(G)\n",
    "#pos = nx.shell_layout(G, scale=1)\n",
    "\n",
    "nodeColors = nx.get_node_attributes(G,'color')\n",
    "\n",
    "nx.draw_networkx_edge_labels(G,pos, edge_labels = edge_labels, font_size=10, font_color='blue')\n",
    "\n",
    "#nx.draw_networkx_nodes(G, pos, node_color=nodeColors.values())\n",
    "\n",
    "nx.draw_networkx(G, pos, with_labels=True, node_size = listOfNodeSizes, node_color='c', alpha= 1, arrows=True, \n",
    "                    linewidths=1, font_color=\"black\", font_size=10, style = 'dashed')\n",
    "\n",
    "plt.axis('off')\n",
    "plt.tight_layout()\n",
    "plt.show()"
   ]
  },
  {
   "cell_type": "code",
   "execution_count": 1964,
   "metadata": {},
   "outputs": [],
   "source": [
    "filename = \"..\\\\docs\\\\\"+taxon+country+\".html\"\n",
    "with open(filename, \"w\") as file:\n",
    "    file.write(\" \\\n",
    "<!DOCTYPE html> \\\n",
    "<html> \\\n",
    "<head> \\\n",
    "<script src='cytoscape.min.js'></script> \\\n",
    "<script src='https://unpkg.com/layout-base/layout-base.js'></script> \\\n",
    "<script src='https://unpkg.com/cose-base/cose-base.js'></script> \\\n",
    "<script src='cytoscape-cose-bilkent.js'></script> \\\n",
    "</head> \\\n",
    "<style>#cy {width: 90%; height: 90%; position: absolute; top: 50px; left: 150px;}\\\n",
    ".red {color: red; font-style: bold;} \\\n",
    ".green {color: green; font-style: bold;} \\\n",
    ".blue {color: red; font-style: bold;} \\\n",
    "body {font-family: 'times; font-size: 6px;}\\\n",
    "</style> \\\n",
    "<body> \\\n",
    "<h1><em font-style: italic;>\"+taxon+\"</em> in \"+country+\"</h1>\")"
   ]
  },
  {
   "cell_type": "markdown",
   "metadata": {},
   "source": [
    "### Write out the details of the species"
   ]
  },
  {
   "cell_type": "code",
   "execution_count": 1965,
   "metadata": {},
   "outputs": [],
   "source": [
    "with open(filename, \"a\") as file:\n",
    "    if len(G.nodes)==0:\n",
    "        file.write(\"<p>No interacting species have been found for \"+taxon+\" in \"+country+\".<br />\") \n",
    "    else:\n",
    "        file.write(\"<p>Nodes can be moved and if clicked on open a tab with species details<br />\") \n",
    "        file.write(\"<p>The target species is the <SPAN CLASS='red'>red node</SPAN>. <em>Plantae</em> are <SPAN CLASS='green'>green</SPAN>, <em>Animalia</em> are <SPAN CLASS='blue'>blue</SPAN> and everything else is brown<br />\") \n",
    "        file.write(\"<p>Node area is proportional to the 1 km<sup>2</sup> occupancy<br />\") \n",
    "    file.write(\"<p>All <a href='https://www.globalbioticinteractions.org/'>GloBI</a> interaction records that <em>\"+taxon+\"</em> has with other taxa</p>\")\n",
    "    "
   ]
  },
  {
   "cell_type": "code",
   "execution_count": 1966,
   "metadata": {},
   "outputs": [],
   "source": [
    "species = G.nodes\n",
    "#with open(filename, \"a\") as file:\n",
    "#    for n in species:\n",
    "#        file.write(\"<tr><td><a target='_blank' href=https://www.gbif.org/species/\"+str(nx.get_node_attributes(G, 'gbifkey')[n])+\">\"+n+\"</a></td><td>\"+str(dictOfNodeSizes[n])+\"</td>\\n\")"
   ]
  },
  {
   "cell_type": "code",
   "execution_count": 1967,
   "metadata": {},
   "outputs": [],
   "source": [
    "with open(filename, \"a\") as file: \n",
    "    if len(sourceInteractions) != 0:\n",
    "        file.write(\"<table><th>Interaction</th><th>number</th>\")\n",
    "        for n in sourceInteractions:\n",
    "            file.write(\"<tr><td><a target='_blank' href=https://www.globalbioticinteractions.org/?interactionType=\"+str(n[0])+\"&sourceTaxon=\"+taxon.replace(\" \", \"%20\")+\">\"+str(n[0])+\"</a></td><td>\"+str(n[1])+\"</td>\\n\")\n",
    "        file.write(\"</table>\") \n",
    "    if len(targetInteractions) != 0:\n",
    "        file.write(\"<p>All <a href='https://www.globalbioticinteractions.org/'>GloBI</a> interaction records that other taxa have with <em>\"+taxon+\"</em></p>\")\n",
    "        file.write(\"<table><th>Interaction</th><th>number</th>\")\n",
    "        for n in targetInteractions:\n",
    "            file.write(\"<tr><td><a target='_blank' href=https://www.globalbioticinteractions.org/?interactionType=\"+str(n[0])+\"&targetTaxon=\"+taxon.replace(\" \", \"%20\")+\">\"+str(n[0])+\"</a></td><td>\"+str(n[1])+\"</td>\\n\") \n",
    "        file.write(\"</table>\")\n",
    "    file.write(\"<a href='https://github.com/AgentschapPlantentuinMeise/interactias'><img src='Octocat.jpg' alt='GitHub logo' width='160' height='133'><p>Find the code on GitHub</p></a>\")"
   ]
  },
  {
   "cell_type": "code",
   "execution_count": 1968,
   "metadata": {},
   "outputs": [],
   "source": [
    "file.close()"
   ]
  },
  {
   "cell_type": "code",
   "execution_count": 1969,
   "metadata": {},
   "outputs": [],
   "source": [
    "with open(filename, \"a\") as file:\n",
    "    file.write(\" \\\n",
    "<div id='cy'></div> \\\n",
    "<script> \\\n",
    "var cy = cytoscape({ \\\n",
    "  container: document.getElementById('cy'), \\n \\\n",
    "  elements: [ \\\n",
    "\")"
   ]
  },
  {
   "cell_type": "markdown",
   "metadata": {},
   "source": [
    "### Write nodes to file"
   ]
  },
  {
   "cell_type": "code",
   "execution_count": 1970,
   "metadata": {},
   "outputs": [],
   "source": [
    "file = open(filename, \"a\")\n",
    "for n in species:\n",
    "    if n == taxon:\n",
    "        file.write(\"{ data: { id: '\"+n+\"', href: 'https://www.gbif.org/species/\"+str(nx.get_node_attributes(G, 'gbifkey')[n])+\"', occnum: \"+str(dictOfNodeSizes[n])+\" }, selectable: true,},\\n\")\n",
    "    else:\n",
    "        file.write(\"{ data: { id: '\"+n+\"', kingdom: '\"+kingdom[n]+\"', href: 'https://www.gbif.org/species/\"+str(nx.get_node_attributes(G, 'gbifkey')[n])+\"', occnum: \"+str(dictOfNodeSizes[n])+\" }, selectable: false,},\\n\")\n",
    "file.close()"
   ]
  },
  {
   "cell_type": "markdown",
   "metadata": {},
   "source": [
    "### Write edges to file"
   ]
  },
  {
   "cell_type": "code",
   "execution_count": 1971,
   "metadata": {},
   "outputs": [],
   "source": [
    "file = open(filename, \"a\")\n",
    "for edge in G.edges:\n",
    "    file.write(\"{data: {id: '\"+edge[0]+edge[1]+\"', source: '\"+edge[0]+\"', target: '\"+edge[1]+\"', href: 'https://www.globalbioticinteractions.org/?interactionType=\"+str(nx.get_edge_attributes(G, 'label')[edge])+\"&sourceTaxon=\"+edge[0]+\"&targetTaxon=\"+edge[1]+\"', label: '\"+nx.get_edge_attributes(G, 'label')[edge]+\"'}},\\n\")\n",
    "file.close()\n",
    "    "
   ]
  },
  {
   "cell_type": "code",
   "execution_count": 1972,
   "metadata": {},
   "outputs": [],
   "source": [
    "with open(filename, \"a\") as file:\n",
    "    file.write(\"], \\\n",
    "style: [ \\n\\\n",
    "        { \\n\\\n",
    "            selector: 'node', \\n\\\n",
    "            style: { \\n\\\n",
    "                shape: 'circle', \\n\\\n",
    "                'background-color': 'yellow', \\n\\\n",
    "                label: 'data(id)', \\n\\\n",
    "                'text-valign': 'center', \\n\\\n",
    "                'font-family': 'helvetica', \\n\\\n",
    "                'font-style': 'italic', \\n\\\n",
    "                'font-size': '8px', \\n\\\n",
    "                'border-width': '0.5', \\n\\\n",
    "                'border-color': 'black', \\n\\\n",
    "                'width': 'mapData(occnum, 0, 400, 3, 200)', \\n\\\n",
    "                'height': 'mapData(occnum, 0, 400, 3, 200)' \\n\\\n",
    "            } \\n\\\n",
    "        },  \\n\\\n",
    "        {  \\n\\\n",
    "            selector: 'edge',  \\n\\\n",
    "            style: {  \\n\\\n",
    "                label: 'data(label)', \\n\\\n",
    "                'font-family': 'helvetica', \\n\\\n",
    "                'font-size': '6px', \\n\\\n",
    "                'color': 'blue', \\n\\\n",
    "                'curve-style': 'bezier', \\n\\\n",
    "                'target-arrow-shape': 'triangle',  \\n\\\n",
    "                'width': '1' \\n\\\n",
    "                } \\n\\\n",
    "         },  \\n\\\n",
    "         {  \\n\\\n",
    "              selector: '[kingdom = \\\"Plantae\\\"]',   \\n\\\n",
    "              css: {  \\n\\\n",
    "                'background-color': 'lightgreen'  \\n\\\n",
    "                 }  \\n\\\n",
    "        }, \\n\\\n",
    "        {  \\n\\\n",
    "              selector: '[kingdom = \\\"Animalia\\\"]',   \\n\\\n",
    "              css: {  \\n\\\n",
    "                'background-color': 'lightblue'  \\n\\\n",
    "                 }  \\n\\\n",
    "        }, \\n\\\n",
    "        {  \\n\\\n",
    "              selector: ':selected',   \\n\\\n",
    "              css: {  \\n\\\n",
    "                'line-color': 'red',  \\n\\\n",
    "                'shape': 'square',  \\n\\\n",
    "                'background-color': 'red'  \\n\\\n",
    "                 }  \\n\\\n",
    "        }], \\n\\\n",
    "layout:  { \\n\\\n",
    "            name: 'cose-bilkent', padding: 1, animate: true, gravity: 30, animationDuration: 3000 \\n\\\n",
    "     } \\n\\\n",
    "} \\n\\\n",
    "); \\n\\\n",
    "\")"
   ]
  },
  {
   "cell_type": "code",
   "execution_count": 1973,
   "metadata": {},
   "outputs": [],
   "source": [
    "with open(filename, \"a\") as file:\n",
    "    file.write(\"cy.userZoomingEnabled( true ); \\n\\\n",
    "    cy.getElementById('\"+taxon+\"').select(); \\n\\\n",
    "    document.write('<br />Degree of node <em>\"+fullScientificName+\"</em> = '+cy.getElementById('\"+taxon+\"').degree()); \\n\\\n",
    "    cy.on('tap', 'node', function(){ \\n\\\n",
    "        try { // your browser may block popups \\n\\\n",
    "              window.open( this.data('href') ); \\n\\\n",
    "            } catch(e){ // fall back on url change \\n\\\n",
    "        window.location.href = this.data('href'); \\n\\\n",
    "    } \\n\\\n",
    "}); \\n\\\n",
    "    cy.on('tap', 'edge', function(){  \\n\\\n",
    "        try { // your browser may block popups  \\n\\\n",
    "              window.open( this.data('href') );  \\n\\\n",
    "            } catch(e){ // fall back on url change  \\n\\\n",
    "        window.location.href = this.data('href'); \\n\\\n",
    "    } \\n\\\n",
    "}); \\n\\\n",
    "</script> \\n\\\n",
    "\")"
   ]
  },
  {
   "cell_type": "code",
   "execution_count": 1974,
   "metadata": {},
   "outputs": [],
   "source": [
    "with open(filename, \"a\") as file:\n",
    "    file.write(\"</ul> \\\n",
    "        </body> \\\n",
    "        </html>\")"
   ]
  },
  {
   "cell_type": "code",
   "execution_count": 1975,
   "metadata": {},
   "outputs": [],
   "source": [
    "file.close()"
   ]
  },
  {
   "cell_type": "code",
   "execution_count": 1976,
   "metadata": {},
   "outputs": [],
   "source": [
    "#with open(filename, \"a\") as file:\n",
    "#    file.write(\"<h2>References</h2><ul>\\n\")"
   ]
  },
  {
   "cell_type": "code",
   "execution_count": 1977,
   "metadata": {},
   "outputs": [
    {
     "name": "stdout",
     "output_type": "stream",
     "text": [
      "*  Digital Bee Collections Network, 2014 (and updates). Version: 2015-03-18. National Science Foundation grant DBI 0956388; PBI: Phytophagous Insects as a Model Group for Documenting Planetary Biodiversity (Insecta: Heteroptera: Miridae: Orthotylinae, Phylinae). Version: 08 Mar 2016. National Science Foundation grant DBI#0316495; Tri-Trophic Thematic Collection Network, 2014 (and updates). Version: 08 Mar 2016. http://tcn.amnh.org/. National Science Foundation grant(s) EF#1115081, EF#1115103, EF#1115080, EF#1115144, EF#1115191, EF#1115104, EF#1115115\n",
      "*  Ed Baker; Ian J. Kitching; George W. Beccaloni; Amoret Whitaker et al. (2016). Dataset: NHM Interactions Bank. Natural History Museum Data Portal (data.nhm.ac.uk). https://doi.org/10.5519/0060767\n",
      "*  Sarah E Miller. 4/18/2016. Species associations from Wardeh, M. et al. Database of host-pathogen and related species interactions, and their global distribution. Sci. Data 2:150049 doi: 10.1038/sdata.2015.49 (2015)\n",
      "*  A. Thessen. 2014. Species associations extracted from EOL text data objects via text mining.\n",
      "*  http://iNaturalist.org is a place where you can record what you see in nature, meet other nature lovers, and learn about the natural world.\n",
      "*  Sarah E Miller. 5/28/2015. Arnaud, Paul Henri. A Host-parasite Catalog of North American Tachinidae (Diptera). Washington, D.C.: U.S. Dept. of Agriculture, Science and Education Administration, 1978.\n",
      "*  Sarah E Miller. 12/13/2016. Species associations manually extracted from Onstad, D.W. EDWIP: Ecological Database of the World's Insect Pathogens. Champaign, Illinois: Illinois Natural History Survey, [23/11/2016]. http://insectweb.inhs.uiuc.edu/Pathogens/EDWIP.\n",
      "*  Food Webs and Species Interactions in the Biodiversity of UK and Ireland (Online). 2017. Data provided by Malcolm Storey. Also available from http://bioinfo.org.uk.\n",
      "*  Symbiota Collections of Arthropods Network (SCAN)\n",
      "*  Species Interactions of Australia Database (SIAD): Helping us to understand species interactions in Australia and beyond. http://www.discoverlife.org/siad/ .\n",
      "*  University of Hawaii Insect Museum\n"
     ]
    }
   ],
   "source": [
    "citations = cleanInteractDataTaxon['sourceCitation'].unique()\n",
    "#file = open(filename, \"a\")\n",
    "for ref in citations:\n",
    "    print(\"* \",str(ref))\n",
    "#    file.write(\"<li>\"+str(ref)+\"</li>\\n\")\n",
    "#file.close()"
   ]
  },
  {
   "cell_type": "markdown",
   "metadata": {},
   "source": [
    "### For import into Gephi: A nodes and edges file has been replace by the .dot file format"
   ]
  },
  {
   "cell_type": "code",
   "execution_count": 1978,
   "metadata": {},
   "outputs": [],
   "source": [
    "write_dot(G, \"..\\\\docs\\\\\"+taxon+\".dot\")"
   ]
  },
  {
   "cell_type": "code",
   "execution_count": null,
   "metadata": {},
   "outputs": [],
   "source": []
  }
 ],
 "metadata": {
  "kernelspec": {
   "display_name": "Python 3",
   "language": "python",
   "name": "python3"
  },
  "language_info": {
   "codemirror_mode": {
    "name": "ipython",
    "version": 3
   },
   "file_extension": ".py",
   "mimetype": "text/x-python",
   "name": "python",
   "nbconvert_exporter": "python",
   "pygments_lexer": "ipython3",
   "version": "3.7.3"
  }
 },
 "nbformat": 4,
 "nbformat_minor": 2
}
