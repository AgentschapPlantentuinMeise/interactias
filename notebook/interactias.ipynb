{
 "cells": [
  {
   "cell_type": "markdown",
   "metadata": {},
   "source": [
    "# Interactias Geo Selected Network\n",
    "\n",
    "One way of examining the impact of invasive species is to look at all their interactions and the interations those organisms have with each other. This full interaction network gives you an indication of whether a species might be a \"keystone\" species and therefore have a disproportionatly large impact.\n",
    "\n",
    "In this step of the evolution of this script it will be adapted to quantify species by their occupancy.\n",
    "\n",
    "I will harvest species interactions data from GloBI (https://www.globalbioticinteractions.org/) to discover the species that interact with an invasive species.\n",
    "I will then harvest all the interactions for those species to create two tiers of interactions.\n",
    "I will then count all the occurences of these in species in the Belgian datacube.\n",
    "I will then visualize this.\n",
    "\n",
    "This notebook takes considerable insperation and code from Yikang Li's project on GloBI (https://curiositydata.org/part1_globi_access/).\n",
    "\n",
    "\n",
    "### For information: This is the list of invasive alien species of Union concern\n",
    "|A|H|O|\n",
    "|--|--|--|\n",
    "|Acacia saligna|Heracleum sosnowskyi|Orconectes virilis|\n",
    "|Acridotheres tristis|Herpestes javanicus|Oxyura jamaicensis|\n",
    "|Ailanthus altissima|Humulus scandens|Pacifastacus leniusculus|\n",
    "|Alopochen aegyptiaca|Hydrocotyle ranunculoides|Parthenium hysterophorus|\n",
    "|Alternanthera philoxeroides|Impatiens glandulifera|Pennisetum setaceum|\n",
    "|Andropogon virginicus|Lagarosiphon major|Perccottus glenii|\n",
    "|Arthurdendyus triangulatus|Lepomis gibbosus|Persicaria perfoliata|\n",
    "|Asclepias syriaca|Lespedeza cuneata|Plotosus lineatus|\n",
    "|Baccharis halimifolia|Lithobates catesbeianus|Procambarus clarkii|\n",
    "|Cabomba caroliniana|Ludwigia grandiflora|Procambarus fallax|\n",
    "|Callosciurus erythraeus|Ludwigia peploides|Procyon lotor|\n",
    "|Cardiospermum grandiflorum|Lygodium japonicum|Prosopis juliflora|\n",
    "|Cortaderia jubata|Lysichiton americanus|Pseudorasbora parva|\n",
    "|Corvus splendens|Microstegium vimineum|Pueraria montana|\n",
    "|Ehrharta calycina|Muntiacus reevesi|Salvinia molesta|\n",
    "|Eichhornia crassipes|Myocastor coypus|Sciurus carolinensis|\n",
    "|Elodea nuttallii|Myriophyllum aquaticum|Sciurus niger|\n",
    "|Eriocheir sinensis|Myriophyllum heterophyllum|Tamias sibiricus|\n",
    "|Gunnera tinctoria|Nasua nasua|Threskiornis aethiopicus|\n",
    "|Gymnocoronis spilanthoides|Nyctereutes procyonoides|Trachemys scripta|\n",
    "|Heracleum mantegazzianum|Ondatra zibethicus|Triadica sebifera|\n",
    "|Heracleum persicum|Orconectes limosus|Vespa velutina|"
   ]
  },
  {
   "cell_type": "code",
   "execution_count": 232,
   "metadata": {},
   "outputs": [
    {
     "name": "stdout",
     "output_type": "stream",
     "text": [
      "3.7.3 (default, Mar 27 2019, 17:13:21) [MSC v.1915 64 bit (AMD64)]\n"
     ]
    }
   ],
   "source": [
    "import sys\n",
    "print(sys.version)\n",
    "\n",
    "#Python 3.7.4 (default, Aug 9 2019, 18:34:13) [MSC v.1915 64 bit (AMD64)]\n",
    "#pygbif 0.3.0"
   ]
  },
  {
   "cell_type": "code",
   "execution_count": 233,
   "metadata": {
    "scrolled": true
   },
   "outputs": [],
   "source": [
    "import pandas as pd\n",
    "import re\n",
    "import matplotlib.pyplot as plt\n",
    "from pygbif import species\n",
    "from pygbif import occurrences as occ\n",
    "import sqlite3\n",
    "from sqlite3 import Error\n",
    "import pydot\n",
    "import math"
   ]
  },
  {
   "cell_type": "markdown",
   "metadata": {},
   "source": [
    "### Setting up some parameters"
   ]
  },
  {
   "cell_type": "code",
   "execution_count": 234,
   "metadata": {},
   "outputs": [],
   "source": [
    "# There is no point accepting all the species that have more than one record.\n",
    "# There are too many casual records of plants and birds\n",
    "thresholdForOccNum = 5\n",
    "# If you want to exclude an interaction add it here\n",
    "#interactionsToExclude = \"visitsFlowersOf\" #If you're not intersted in pollinators this will remove most of them\n",
    "interactionsToExclude = \"interactsWith\"    #Many interactions in GloBI do not specify a specific interaction. You can get a cleaner netwot by excluding them\n",
    "#interactionsToExclude = \"\""
   ]
  },
  {
   "cell_type": "code",
   "execution_count": 235,
   "metadata": {},
   "outputs": [],
   "source": [
    "\n",
    "## Define the country of interest\n",
    "country  = 'Belgium'\n",
    "\n",
    "## The occurrence cube has data for each year, but here we aggreagate years to get a more complete measure of occupancy.\n",
    "## This parameter defines the year from where to consider records for the occupancy\n",
    "year = 2000\n",
    "\n",
    "## Define the place to find the data cube for occupancy data\n",
    "## Currently the cube contains only Belgian data so that is all that can be used\n",
    "database = r\"..\\..\\data\\cube.db\" \n",
    "\n",
    "## Define the place to find the interaction data\n",
    "globiDB = r\"..\\..\\createGlobiDB\\globi.db\""
   ]
  },
  {
   "cell_type": "markdown",
   "metadata": {},
   "source": [
    "### Define the taxon for the notebook for which to find all interactions\n"
   ]
  },
  {
   "cell_type": "code",
   "execution_count": 236,
   "metadata": {},
   "outputs": [
    {
     "name": "stdout",
     "output_type": "stream",
     "text": [
      "Muntiacus reevesi\n"
     ]
    }
   ],
   "source": [
    "taxon=input()"
   ]
  },
  {
   "cell_type": "code",
   "execution_count": 237,
   "metadata": {},
   "outputs": [],
   "source": [
    "taxon = taxon.strip()"
   ]
  },
  {
   "cell_type": "markdown",
   "metadata": {},
   "source": [
    "## Check to see if the taxon exits in GBIF"
   ]
  },
  {
   "cell_type": "code",
   "execution_count": 238,
   "metadata": {},
   "outputs": [],
   "source": [
    "try:\n",
    "    #NOTE: The function method name_suggest has a different behavior with regards to the gender of Latin names to name_backbone\n",
    "    # If name_backbone is given a name in one gender it can still return the best match from the GBIF backbone if that\n",
    "    # name is spelled as if it was another gender.\n",
    "    #key = species.name_suggest(q=taxon, limit = 1)\n",
    "    match = species.name_backbone(name=taxon, limit = 1)\n",
    "    #print(key)\n",
    "    \n",
    "    # if there is no match this is returned form .name_backbone {'confidence': 100, 'matchType': 'NONE', 'synonym': False}\n",
    "    if match['matchType'] == 'NONE':\n",
    "        raise ValueError(\"TAXON NOT FOUND ON GBIF!\")\n",
    "    else:\n",
    "        key = match['usageKey']\n",
    "except ValueError as ve:\n",
    "    print(ve)\n",
    "    exit(1)\n",
    "\n",
    "\n"
   ]
  },
  {
   "cell_type": "code",
   "execution_count": 239,
   "metadata": {},
   "outputs": [
    {
     "name": "stdout",
     "output_type": "stream",
     "text": [
      "The taxon to be studied is Muntiacus reevesi (Ogilby, 1839)\n"
     ]
    }
   ],
   "source": [
    "fullScientificName = match['scientificName']\n",
    "print('The taxon to be studied is ' + fullScientificName)\n"
   ]
  },
  {
   "cell_type": "markdown",
   "metadata": {},
   "source": [
    "### Just for information take a look at the interactions that the taxon has"
   ]
  },
  {
   "cell_type": "code",
   "execution_count": 240,
   "metadata": {},
   "outputs": [],
   "source": [
    "# What are all the types of interactions involving taxon as source taxon?\n",
    "#data[data['sourceTaxonName'] == taxon]['interactionTypeName'].unique()\n",
    "try:\n",
    "    connGlobi = sqlite3.connect(globiDB)\n",
    "except Error as e:\n",
    "    print(e)"
   ]
  },
  {
   "cell_type": "code",
   "execution_count": 241,
   "metadata": {},
   "outputs": [],
   "source": [
    "curGlobi = connGlobi.cursor()\n",
    "curGlobi.execute(\"SELECT interactionTypeName, COUNT(interactionTypeName) from globi  WHERE sourceTaxonSpeciesName = ? GROUP BY interactionTypeName;\", (taxon,))\n",
    "sourceInteractions = curGlobi.fetchall()"
   ]
  },
  {
   "cell_type": "code",
   "execution_count": 242,
   "metadata": {},
   "outputs": [
    {
     "data": {
      "text/plain": [
       "[('eats', 7), ('interactsWith', 81)]"
      ]
     },
     "execution_count": 242,
     "metadata": {},
     "output_type": "execute_result"
    }
   ],
   "source": [
    "sourceInteractions"
   ]
  },
  {
   "cell_type": "code",
   "execution_count": 243,
   "metadata": {},
   "outputs": [
    {
     "data": {
      "text/plain": [
       "[('ectoparasiteOf', 6),\n",
       " ('hasHost', 1),\n",
       " ('interactsWith', 27),\n",
       " ('parasiteOf', 18)]"
      ]
     },
     "execution_count": 243,
     "metadata": {},
     "output_type": "execute_result"
    }
   ],
   "source": [
    "curGlobi = connGlobi.cursor()\n",
    "curGlobi.execute(\"SELECT interactionTypeName, COUNT(interactionTypeName) from globi  WHERE targetTaxonSpeciesName = ? GROUP BY interactionTypeName;\", (taxon,))\n",
    "targetInteractions = curGlobi.fetchall()\n",
    "targetInteractions"
   ]
  },
  {
   "cell_type": "markdown",
   "metadata": {},
   "source": [
    "## Get the primary interation data for the species in question\n",
    "\n",
    "This is limited to the rank of species because otherwise the network can get very large with rather irrelivent higher taxa.\n",
    "However, if no interactions are found at the species level it might be worth removing this restriction."
   ]
  },
  {
   "cell_type": "code",
   "execution_count": 244,
   "metadata": {},
   "outputs": [],
   "source": [
    "curGlobi = connGlobi.cursor()\n",
    "#curGlobi.execute(\"SELECT * from globi  WHERE targetTaxonName = ? and interactionTypeName NOT IN (?);\", \\\n",
    "if interactionsToExclude == \"\":\n",
    "    curGlobi.execute(\"SELECT * from globi  WHERE targetTaxonSpeciesName = ?;\", \\\n",
    "                 (taxon,))\n",
    "else:\n",
    "    curGlobi.execute(\"SELECT * from globi  WHERE targetTaxonSpeciesName = ? and interactionTypeName NOT IN (?);\", \\\n",
    "                 (taxon,interactionsToExclude,))\n",
    "interactDataTaxon = curGlobi.fetchall()"
   ]
  },
  {
   "cell_type": "code",
   "execution_count": 245,
   "metadata": {},
   "outputs": [],
   "source": [
    "curGlobi = connGlobi.cursor()\n",
    "#curGlobi.execute(\"SELECT * from globi  WHERE sourceTaxonName = ? and interactionTypeName NOT IN (?);\", \\\n",
    "if interactionsToExclude == \"\":\n",
    "    curGlobi.execute(\"SELECT * from globi  WHERE sourceTaxonSpeciesName = ?;\", \\\n",
    "                 (taxon,))\n",
    "else:\n",
    "    curGlobi.execute(\"SELECT * from globi  WHERE sourceTaxonSpeciesName = ? and interactionTypeName NOT IN (?);\", \\\n",
    "                 (taxon,interactionsToExclude,))\n",
    "sources = curGlobi.fetchall()"
   ]
  },
  {
   "cell_type": "code",
   "execution_count": 246,
   "metadata": {},
   "outputs": [
    {
     "data": {
      "text/plain": [
       "32"
      ]
     },
     "execution_count": 246,
     "metadata": {},
     "output_type": "execute_result"
    }
   ],
   "source": [
    "interactDataTaxon.extend(sources)\n",
    "len(interactDataTaxon)"
   ]
  },
  {
   "cell_type": "code",
   "execution_count": 247,
   "metadata": {},
   "outputs": [],
   "source": [
    "# Convert to a Pandas dataframe\n",
    "interactDataTaxon = pd.DataFrame(interactDataTaxon)"
   ]
  },
  {
   "cell_type": "code",
   "execution_count": 248,
   "metadata": {},
   "outputs": [],
   "source": [
    "# Add column names\n",
    "interactDataTaxon\n",
    "interactDataTaxon.columns = ['sourceTaxonId', \\\n",
    "                                'sourceTaxonIds','sourceTaxonName','sourceTaxonRank','sourceTaxonPathNames', \\\n",
    "                                'sourceTaxonPathIds','sourceTaxonPathRankNames','sourceTaxonSpeciesName','sourceTaxonSpeciesId',\\\n",
    "                                'sourceTaxonGenusName','sourceTaxonGenusId','sourceTaxonFamilyName','sourceTaxonFamilyId',\\\n",
    "                                'sourceTaxonOrderName','sourceTaxonOrderId','sourceTaxonClassName','sourceTaxonClassId',\\\n",
    "                                'sourceTaxonPhylumName','sourceTaxonPhylumId','sourceTaxonKingdomName','sourceTaxonKingdomId',\\\n",
    "                                'sourceId','sourceOccurrenceId','sourceCatalogNumber','sourceBasisOfRecordId',\\\n",
    "                                'sourceBasisOfRecordName','sourceLifeStageId','sourceLifeStageName','sourceBodyPartId',\\\n",
    "                                'sourceBodyPartName','sourcePhysiologicalStateId','sourcePhysiologicalStateName', \\\n",
    "                                'sourceSexId', 'sourceSexName','interactionTypeName',\\\n",
    "                                'interactionTypeId','targetTaxonId','targetTaxonIds','targetTaxonName',\\\n",
    "                                'targetTaxonRank','targetTaxonPathNames','targetTaxonPathIds','targetTaxonPathRankNames',\\\n",
    "                                'targetTaxonSpeciesName','targetTaxonSpeciesId','targetTaxonGenusName','targetTaxonGenusId',\\\n",
    "                                'targetTaxonFamilyName','targetTaxonFamilyId','targetTaxonOrderName','targetTaxonOrderId',\\\n",
    "                                'targetTaxonClassName','targetTaxonClassId','targetTaxonPhylumName','targetTaxonPhylumId',\\\n",
    "                                'targetTaxonKingdomName','targetTaxonKingdomId','targetId','targetOccurrenceId',\\\n",
    "                                'targetCatalogNumber','targetBasisOfRecordId','targetBasisOfRecordName','targetLifeStageId',\\\n",
    "                                'targetLifeStageName','targetBodyPartId','targetBodyPartName','targetPhysiologicalStateId',\\\n",
    "                                'targetPhysiologicalStateName', 'targetSexId', 'targetSexName',\\\n",
    "                                'decimalLatitude','decimalLongitude','localityId',\\\n",
    "                                'localityName','eventDateUnixEpoch','argumentTypeId','referenceCitation',\\\n",
    "                                'referenceDoi','referenceUrl','sourceCitation','sourceNamespace',\\\n",
    "                                'sourceArchiveURI','sourceDOI','sourceLastSeenAtUnixEpoch']"
   ]
  },
  {
   "cell_type": "markdown",
   "metadata": {},
   "source": [
    "## Get a list of all the primary interacting species"
   ]
  },
  {
   "cell_type": "code",
   "execution_count": 249,
   "metadata": {},
   "outputs": [],
   "source": [
    "interactingTaxaData = interactDataTaxon.drop_duplicates()"
   ]
  },
  {
   "cell_type": "code",
   "execution_count": 250,
   "metadata": {},
   "outputs": [
    {
     "data": {
      "text/plain": [
       "9"
      ]
     },
     "execution_count": 250,
     "metadata": {},
     "output_type": "execute_result"
    }
   ],
   "source": [
    "primaryInteractingTaxa = interactingTaxaData['sourceTaxonName'].drop_duplicates()\n",
    "len(primaryInteractingTaxa)"
   ]
  },
  {
   "cell_type": "code",
   "execution_count": 251,
   "metadata": {},
   "outputs": [
    {
     "data": {
      "text/plain": [
       "16"
      ]
     },
     "execution_count": 251,
     "metadata": {},
     "output_type": "execute_result"
    }
   ],
   "source": [
    "primaryInteractingTaxa = (primaryInteractingTaxa.append(interactingTaxaData['targetTaxonName']).drop_duplicates())\n",
    "len(primaryInteractingTaxa)"
   ]
  },
  {
   "cell_type": "code",
   "execution_count": 252,
   "metadata": {},
   "outputs": [
    {
     "data": {
      "text/plain": [
       "0         Solenopotes muntiacus\n",
       "1                     Damalinia\n",
       "2                 Ixodes ovatus\n",
       "3            Haemaphysalis yeni\n",
       "4        Cryptosporidium parvum\n",
       "5           Mycobacterium bovis\n",
       "8        Tricholipeurus indicus\n",
       "24         Gongylonema pulchrum\n",
       "25            Muntiacus reevesi\n",
       "25               Arum maculatum\n",
       "26          Cardamine pratensis\n",
       "27             Anemone nemorosa\n",
       "28         Dactylorhiza fuchsii\n",
       "29               Orchis mascula\n",
       "30         Mercurialis perennis\n",
       "31    Hyacinthoides non-scripta\n",
       "dtype: object"
      ]
     },
     "execution_count": 252,
     "metadata": {},
     "output_type": "execute_result"
    }
   ],
   "source": [
    "primaryInteractingTaxa"
   ]
  },
  {
   "cell_type": "markdown",
   "metadata": {},
   "source": [
    "## A function to query the globi database"
   ]
  },
  {
   "cell_type": "code",
   "execution_count": 253,
   "metadata": {},
   "outputs": [],
   "source": [
    "def secondaryDataInGlobi(conn, intaxon):\n",
    "    cur = conn.cursor()\n",
    "    if interactionsToExclude == \"\":\n",
    "        cur.execute(\"SELECT * from globi  WHERE (targetTaxonSpeciesName = ? OR sourceTaxonSpeciesName = ?);\", \\\n",
    "                 (intaxon,intaxon,))\n",
    "    else:\n",
    "        cur.execute(\"SELECT * from globi where (targetTaxonSpeciesName = ? OR sourceTaxonSpeciesName = ?) and interactionTypeName NOT IN (?);\", \\\n",
    "                (intaxon,intaxon,interactionsToExclude,))\n",
    "    return(cur.fetchall())"
   ]
  },
  {
   "cell_type": "markdown",
   "metadata": {},
   "source": [
    "## Get all the secondary interactions"
   ]
  },
  {
   "cell_type": "code",
   "execution_count": 254,
   "metadata": {},
   "outputs": [],
   "source": [
    "try:\n",
    "    conn = sqlite3.connect(globiDB)\n",
    "except Error as e:\n",
    "    print(e)"
   ]
  },
  {
   "cell_type": "code",
   "execution_count": 255,
   "metadata": {},
   "outputs": [],
   "source": [
    "secondarylist = []\n",
    "\n",
    "for name in primaryInteractingTaxa:\n",
    "    temp = secondaryDataInGlobi(conn, name)\n",
    "    secondarylist.extend(temp)"
   ]
  },
  {
   "cell_type": "code",
   "execution_count": 256,
   "metadata": {},
   "outputs": [],
   "source": [
    "# Convert to a Pandas dataframe\n",
    "secondarylist = pd.DataFrame(secondarylist)"
   ]
  },
  {
   "cell_type": "code",
   "execution_count": 257,
   "metadata": {},
   "outputs": [],
   "source": [
    "secondarylist.columns = ['sourceTaxonId', \\\n",
    "                                'sourceTaxonIds','sourceTaxonName','sourceTaxonRank','sourceTaxonPathNames', \\\n",
    "                                'sourceTaxonPathIds','sourceTaxonPathRankNames','sourceTaxonSpeciesName','sourceTaxonSpeciesId',\\\n",
    "                                'sourceTaxonGenusName','sourceTaxonGenusId','sourceTaxonFamilyName','sourceTaxonFamilyId',\\\n",
    "                                'sourceTaxonOrderName','sourceTaxonOrderId','sourceTaxonClassName','sourceTaxonClassId',\\\n",
    "                                'sourceTaxonPhylumName','sourceTaxonPhylumId','sourceTaxonKingdomName','sourceTaxonKingdomId',\\\n",
    "                                'sourceId','sourceOccurrenceId','sourceCatalogNumber','sourceBasisOfRecordId',\\\n",
    "                                'sourceBasisOfRecordName','sourceLifeStageId','sourceLifeStageName','sourceBodyPartId',\\\n",
    "                                'sourceBodyPartName','sourcePhysiologicalStateId','sourcePhysiologicalStateName',\\\n",
    "                                'sourceSexId', 'sourceSexName', 'interactionTypeName',\\\n",
    "                                'interactionTypeId','targetTaxonId','targetTaxonIds','targetTaxonName',\\\n",
    "                                'targetTaxonRank','targetTaxonPathNames','targetTaxonPathIds','targetTaxonPathRankNames',\\\n",
    "                                'targetTaxonSpeciesName','targetTaxonSpeciesId','targetTaxonGenusName','targetTaxonGenusId',\\\n",
    "                                'targetTaxonFamilyName','targetTaxonFamilyId','targetTaxonOrderName','targetTaxonOrderId',\\\n",
    "                                'targetTaxonClassName','targetTaxonClassId','targetTaxonPhylumName','targetTaxonPhylumId',\\\n",
    "                                'targetTaxonKingdomName','targetTaxonKingdomId','targetId','targetOccurrenceId',\\\n",
    "                                'targetCatalogNumber','targetBasisOfRecordId','targetBasisOfRecordName','targetLifeStageId',\\\n",
    "                                'targetLifeStageName','targetBodyPartId','targetBodyPartName','targetPhysiologicalStateId',\\\n",
    "                                'targetPhysiologicalStateName', 'targetSexId', 'targetSexName', \\\n",
    "                                'decimalLatitude','decimalLongitude','localityId',\\\n",
    "                                'localityName','eventDateUnixEpoch','argumentTypeId','referenceCitation',\\\n",
    "                                'referenceDoi','referenceUrl','sourceCitation','sourceNamespace',\\\n",
    "                                'sourceArchiveURI','sourceDOI','sourceLastSeenAtUnixEpoch']"
   ]
  },
  {
   "cell_type": "code",
   "execution_count": 258,
   "metadata": {},
   "outputs": [],
   "source": [
    "allInteractionsData = interactingTaxaData.append(secondarylist)"
   ]
  },
  {
   "cell_type": "code",
   "execution_count": 259,
   "metadata": {},
   "outputs": [],
   "source": [
    "allInteractionsData = allInteractionsData.drop_duplicates()\n"
   ]
  },
  {
   "cell_type": "code",
   "execution_count": 260,
   "metadata": {},
   "outputs": [],
   "source": [
    "    cleanInteractDataTaxon = allInteractionsData[['sourceTaxonId', 'sourceTaxonName', 'sourceTaxonSpeciesName', 'sourceTaxonRank',\n",
    "        'sourceTaxonFamilyName', 'interactionTypeName',\n",
    "        'targetTaxonName','targetTaxonSpeciesName','targetTaxonRank', 'sourceCitation', 'sourceDOI',\n",
    "        'sourceTaxonKingdomName','sourceTaxonKingdomId', 'targetTaxonKingdomName','targetTaxonKingdomId'                                        \n",
    "        ]].dropna(subset=['targetTaxonSpeciesName','sourceTaxonSpeciesName'])"
   ]
  },
  {
   "cell_type": "code",
   "execution_count": 261,
   "metadata": {},
   "outputs": [],
   "source": [
    "allSourceInteractingTaxa = cleanInteractDataTaxon['sourceTaxonSpeciesName'].drop_duplicates()\n",
    "allTargetInteractingTaxa = cleanInteractDataTaxon['targetTaxonSpeciesName'].drop_duplicates()"
   ]
  },
  {
   "cell_type": "code",
   "execution_count": 262,
   "metadata": {},
   "outputs": [
    {
     "data": {
      "text/plain": [
       "258"
      ]
     },
     "execution_count": 262,
     "metadata": {},
     "output_type": "execute_result"
    }
   ],
   "source": [
    "allInteractingTaxa = allSourceInteractingTaxa.append(allTargetInteractingTaxa).drop_duplicates()\n",
    "allInteractingTaxa.count()"
   ]
  },
  {
   "cell_type": "code",
   "execution_count": 263,
   "metadata": {},
   "outputs": [
    {
     "data": {
      "text/plain": [
       "0     Solenopotes muntiacus\n",
       "1                          \n",
       "2             Ixodes ovatus\n",
       "3        Haemaphysalis yeni\n",
       "4    Cryptosporidium parvum\n",
       "dtype: object"
      ]
     },
     "execution_count": 263,
     "metadata": {},
     "output_type": "execute_result"
    }
   ],
   "source": [
    "allInteractingTaxa.head()"
   ]
  },
  {
   "cell_type": "code",
   "execution_count": 264,
   "metadata": {},
   "outputs": [
    {
     "data": {
      "text/plain": [
       "interactionTypeName\n",
       "hasHost            2108\n",
       "parasiteOf          438\n",
       "eats                103\n",
       "endoparasiteOf       36\n",
       "visitsFlowersOf      11\n",
       "pollinates            8\n",
       "preysOn               6\n",
       "ectoparasiteOf        6\n",
       "livesOn               4\n",
       "pathogenOf            1\n",
       "dtype: int64"
      ]
     },
     "execution_count": 264,
     "metadata": {},
     "output_type": "execute_result"
    }
   ],
   "source": [
    "# How many different sort of interaction do I have left?\n",
    "# Checking out all the interaction types\n",
    "cleanInteractDataTaxon.groupby(cleanInteractDataTaxon['interactionTypeName']).size().sort_values(ascending = False)"
   ]
  },
  {
   "cell_type": "markdown",
   "metadata": {},
   "source": [
    "### This function takes a name string and checks on GBIF to see if the name exists there."
   ]
  },
  {
   "cell_type": "code",
   "execution_count": 265,
   "metadata": {},
   "outputs": [],
   "source": [
    "def speciesExistsInGBIF(name, rank):\n",
    "    try:\n",
    "        match = species.name_backbone(name=name, rank=rank, limit = 1)\n",
    "\n",
    "        # if there is no match this is returned from .name_backbone {'confidence': 100, 'matchType': 'NONE', 'synonym': False}\n",
    "        if match['matchType'] == 'NONE':\n",
    "            return False\n",
    "        else:\n",
    "            return match\n",
    "    except ValueError as ve:\n",
    "        print(ve)\n",
    "        exit(1)"
   ]
  },
  {
   "cell_type": "markdown",
   "metadata": {},
   "source": [
    "### Check that the species in question is actually found on GBIF"
   ]
  },
  {
   "cell_type": "code",
   "execution_count": 266,
   "metadata": {},
   "outputs": [],
   "source": [
    "if(speciesExistsInGBIF(taxon, \"species\") == False):\n",
    "    print(\"##### {0} has not been found on GBIF #####\".format(taxon))"
   ]
  },
  {
   "cell_type": "markdown",
   "metadata": {},
   "source": [
    "### Citation for the GBIF Backbone Taxonomy"
   ]
  },
  {
   "cell_type": "code",
   "execution_count": 267,
   "metadata": {},
   "outputs": [
    {
     "name": "stdout",
     "output_type": "stream",
     "text": [
      "GBIF Secretariat (2019). GBIF Backbone Taxonomy. Checklist dataset https://doi.org/10.15468/39omei accessed via GBIF.org on  2020-07-23\n"
     ]
    }
   ],
   "source": [
    "from datetime import date\n",
    "print(\"GBIF Secretariat (2019). GBIF Backbone Taxonomy. Checklist dataset https://doi.org/10.15468/39omei accessed via GBIF.org on \", date.today())"
   ]
  },
  {
   "cell_type": "markdown",
   "metadata": {},
   "source": [
    "### Check to see which taxa in the interaction network are found in GBIF and list those ones that are not"
   ]
  },
  {
   "cell_type": "code",
   "execution_count": 268,
   "metadata": {},
   "outputs": [
    {
     "name": "stdout",
     "output_type": "stream",
     "text": [
      "Taxa from GLoBI, but not found in GBIF\n",
      "\n",
      "PIG, GUINEA\n",
      "Hyobates mulleri\n"
     ]
    }
   ],
   "source": [
    "taxaFound = {}\n",
    "kingdom = {}\n",
    "\n",
    "print('Taxa from GLoBI, but not found in GBIF')\n",
    "for name in allInteractingTaxa.items():\n",
    "    GBIFName = speciesExistsInGBIF(name[1], \"species\")\n",
    "    if GBIFName == False:\n",
    "        taxaFound[name[1]] = False\n",
    "        print(name[1])\n",
    "    else:\n",
    "        taxaFound[name[1]] = GBIFName['usageKey']\n",
    "        kingdom[name[1]] = GBIFName['kingdom']\n",
    "\n",
    "    "
   ]
  },
  {
   "cell_type": "code",
   "execution_count": 269,
   "metadata": {},
   "outputs": [],
   "source": [
    "# Convert to a Pandas dataframe\n",
    "taxaFound = pd.DataFrame.from_dict(taxaFound, orient='index')"
   ]
  },
  {
   "cell_type": "code",
   "execution_count": 270,
   "metadata": {},
   "outputs": [
    {
     "data": {
      "text/plain": [
       "258"
      ]
     },
     "execution_count": 270,
     "metadata": {},
     "output_type": "execute_result"
    }
   ],
   "source": [
    "len(taxaFound)"
   ]
  },
  {
   "cell_type": "code",
   "execution_count": 271,
   "metadata": {},
   "outputs": [
    {
     "data": {
      "text/plain": [
       "{'Solenopotes muntiacus': 'Animalia',\n",
       " 'Ixodes ovatus': 'Animalia',\n",
       " 'Haemaphysalis yeni': 'Animalia',\n",
       " 'Cryptosporidium parvum': 'Chromista',\n",
       " 'Mycobacterium bovis': 'Bacteria',\n",
       " 'Tricholipeurus indicus': 'Animalia',\n",
       " 'Gongylonema pulchrum': 'Animalia',\n",
       " 'Muntiacus reevesi': 'Animalia',\n",
       " 'Anaplasma phagocytophilum': 'Bacteria',\n",
       " 'Borrelia sinica': 'Bacteria',\n",
       " 'Cryptosporidium parvum virus 1': 'Viruses',\n",
       " 'Psychoda phalaenoides': 'Animalia',\n",
       " 'Psychoda grisescens': 'Animalia',\n",
       " 'Melampsora allii-populina': 'Fungi',\n",
       " 'Ascochyta ari': 'Fungi',\n",
       " 'Puccinia sessilis': 'Fungi',\n",
       " 'Lilioceris lilii': 'Animalia',\n",
       " 'Melanustilospora ari': 'Fungi',\n",
       " 'Arum maculatum': 'Plantae',\n",
       " 'Ramularia cardamines': 'Fungi',\n",
       " 'Peronospora parasitica': 'Chromista',\n",
       " 'Erysiphe cruciferarum': 'Fungi',\n",
       " 'Ceutorhynchus pervicax': 'Animalia',\n",
       " 'Ceutorhynchus cochleariae': 'Animalia',\n",
       " 'Eurydema dominulus': 'Animalia',\n",
       " 'Bruchus loti': 'Animalia',\n",
       " 'Pieris rapae': 'Animalia',\n",
       " 'Pieris napi': 'Animalia',\n",
       " 'Anthocharis cardamines': 'Animalia',\n",
       " 'Bombylius major': 'Animalia',\n",
       " 'Adela rufimitrella': 'Animalia',\n",
       " 'Cantharis fusca': 'Animalia',\n",
       " 'Amara lunicollis': 'Animalia',\n",
       " 'Adrastus rachifer': 'Animalia',\n",
       " 'Poecilus cupreus': 'Animalia',\n",
       " 'Amara similata': 'Animalia',\n",
       " 'Hemicrepidius hirtus': 'Animalia',\n",
       " 'Elathous bicolor': 'Animalia',\n",
       " 'Stygnocoris rusticus': 'Animalia',\n",
       " 'Anisodactylus binotatus': 'Animalia',\n",
       " 'Megalonotus chiragra': 'Animalia',\n",
       " 'Drymus sylvaticus': 'Animalia',\n",
       " 'Raglius vulgaris': 'Animalia',\n",
       " 'Rhyparochromus pini': 'Animalia',\n",
       " 'Agrypnus murinus': 'Animalia',\n",
       " 'Cantharis lateralis': 'Animalia',\n",
       " 'Harpalus affinis': 'Animalia',\n",
       " 'Amara bifrons': 'Animalia',\n",
       " 'Helophorus griseus': 'Animalia',\n",
       " 'Amara communis': 'Animalia',\n",
       " 'Neocrepidodera ferruginea': 'Animalia',\n",
       " 'Ceutorhynchus floralis': 'Animalia',\n",
       " 'Ceutorhynchus erysimi': 'Animalia',\n",
       " 'Anthicus antherinus': 'Animalia',\n",
       " 'Ophonus schaubergerianus': 'Animalia',\n",
       " 'Pterostichus commutabilis': 'Animalia',\n",
       " 'Sphragisticus nebulosus': 'Animalia',\n",
       " 'Phyllotreta vittula': 'Animalia',\n",
       " 'Phyllotreta nigripes': 'Animalia',\n",
       " 'Phyllotreta atra': 'Animalia',\n",
       " 'Longitarsus luridus': 'Animalia',\n",
       " 'Epitrix pubescens': 'Animalia',\n",
       " 'Megalonotus emarginatus': 'Animalia',\n",
       " 'Scolopostethus affinis': 'Animalia',\n",
       " 'Diachromus germanus': 'Animalia',\n",
       " 'Amara plebeja': 'Animalia',\n",
       " 'Chaetocnema picipes': 'Animalia',\n",
       " 'Trechus quadristriatus': 'Animalia',\n",
       " 'Ophonus puncticeps': 'Animalia',\n",
       " 'Amara familiaris': 'Animalia',\n",
       " 'Lygus rugulipennis': 'Animalia',\n",
       " 'Lygus pratensis': 'Animalia',\n",
       " 'Amara consularis': 'Animalia',\n",
       " 'Cantharis rufa': 'Animalia',\n",
       " 'Harpalus rubripes': 'Animalia',\n",
       " 'Harpalus rufipes': 'Animalia',\n",
       " 'Exomias trichopterus': 'Animalia',\n",
       " 'Barypeithes pellucidus': 'Animalia',\n",
       " 'Harpalus distinguendus': 'Animalia',\n",
       " 'Lagopus lagopus': 'Animalia',\n",
       " 'Myocastor coypus': 'Animalia',\n",
       " 'Plasmopara pygmaea': 'Chromista',\n",
       " 'Peronospora anemones': 'Chromista',\n",
       " 'Phytomyza nigripennis': 'Animalia',\n",
       " 'Phytomyza hendeli': 'Animalia',\n",
       " 'Phytomyza anemones': 'Animalia',\n",
       " 'Leiosoma deflexum': 'Animalia',\n",
       " 'Ochropsora ariae': 'Fungi',\n",
       " 'Leiosoma oblongulum': 'Animalia',\n",
       " 'Peronospora ficariae': 'Chromista',\n",
       " 'Dumontinia tuberosa': 'Fungi',\n",
       " 'Tranzschelia anemones': 'Fungi',\n",
       " 'Urocystis anemones': 'Fungi',\n",
       " 'Episyrphus balteatus': 'Animalia',\n",
       " 'Hemiptarsenus fulvicollis': 'Animalia',\n",
       " 'Endophytus anemones': 'Animalia',\n",
       " 'Anemone nemorosa': 'Plantae',\n",
       " 'Carduelis chloris': 'Animalia',\n",
       " 'Melampsora populnea': 'Fungi',\n",
       " 'Barynotus moerens': 'Animalia',\n",
       " 'Kalcapion pallipes': 'Animalia',\n",
       " 'Hermaeophaga mercurialis': 'Animalia',\n",
       " 'Typhula uncialis': 'Fungi',\n",
       " 'Mycena acicula': 'Fungi',\n",
       " 'Helicobasidium purpureum': 'Fungi',\n",
       " 'Conocybe dumetorum': 'Fungi',\n",
       " 'Spilopodia melanogramma': 'Fungi',\n",
       " 'Sarcopodium circinatum': 'Fungi',\n",
       " 'Pyrenopeziza mercurialis': 'Fungi',\n",
       " 'Pyrenopeziza mercurialidis': 'Fungi',\n",
       " 'Phoma macrocapsa': 'Fungi',\n",
       " 'Thrips fulvipes': 'Animalia',\n",
       " 'Melampsora aecidioides': 'Fungi',\n",
       " 'Mercurialis perennis': 'Plantae',\n",
       " 'Colletotrichum liliacearum': 'Fungi',\n",
       " 'Colletotrichum dematium': 'Fungi',\n",
       " 'Papilio machaon': 'Animalia',\n",
       " 'Aglais io': 'Animalia',\n",
       " 'Hysterophora maculosana': 'Animalia',\n",
       " 'Uromyces muscari': 'Fungi',\n",
       " 'Cardamine pratensis': 'Plantae',\n",
       " 'Dactylorhiza fuchsii': 'Plantae',\n",
       " 'Orchis mascula': 'Plantae',\n",
       " 'Hyacinthoides non-scripta': 'Plantae',\n",
       " 'Vulpes vulpes': 'Animalia',\n",
       " 'Procyon lotor': 'Animalia',\n",
       " 'Cervus nippon': 'Animalia',\n",
       " 'Chrotogale owstoni': 'Animalia',\n",
       " 'Pan troglodytes': 'Animalia',\n",
       " 'Presbytis vetulus': 'Animalia',\n",
       " 'Alouatta pigra': 'Animalia',\n",
       " 'Gorilla gorilla': 'Animalia',\n",
       " 'Ursus americanus': 'Animalia',\n",
       " 'Sus scrofa': 'Animalia',\n",
       " 'Zalophus californianus': 'Animalia',\n",
       " 'Nyctereutes procyonoides': 'Animalia',\n",
       " 'Odocoileus virginianus': 'Animalia',\n",
       " 'Mephitis mephitis': 'Animalia',\n",
       " 'Trachypithecus vetulus': 'Animalia',\n",
       " 'Gorilla beringei': 'Animalia',\n",
       " 'Dama dama': 'Animalia',\n",
       " 'Canis lupus': 'Animalia',\n",
       " 'Bison bonasus': 'Animalia',\n",
       " 'Cervus elaphus': 'Animalia',\n",
       " 'Capreolus capreolus': 'Animalia',\n",
       " 'Alces alces': 'Animalia',\n",
       " 'Sillago vittata': 'Animalia',\n",
       " 'Pseudechis porphyriacus': 'Animalia',\n",
       " 'Phascolarctos cinereus': 'Animalia',\n",
       " 'Mus musculus': 'Animalia',\n",
       " 'Macropus rufus': 'Animalia',\n",
       " 'Dugong dugon': 'Animalia',\n",
       " 'Bos taurus': 'Animalia',\n",
       " 'Aspidites ramsayi': 'Animalia',\n",
       " 'Homo sapiens': 'Animalia',\n",
       " 'Ovis aries': 'Animalia',\n",
       " 'Capra hircus': 'Animalia',\n",
       " 'Erinaceus europaeus': 'Animalia',\n",
       " 'Oryctolagus cuniculus': 'Animalia',\n",
       " 'Felis catus': 'Animalia',\n",
       " 'Gallus gallus': 'Animalia',\n",
       " 'Equus caballus': 'Animalia',\n",
       " 'Mytilus edulis': 'Animalia',\n",
       " 'Macaca sinica': 'Animalia',\n",
       " 'Coturnix japonica': 'Animalia',\n",
       " 'Meleagris gallopavo': 'Animalia',\n",
       " 'Macaca mulatta': 'Animalia',\n",
       " 'Mustela putorius': 'Animalia',\n",
       " 'Pterocnemia pennata': 'Animalia',\n",
       " 'Eublepharis macularius': 'Animalia',\n",
       " 'Semnopithecus entellus': 'Animalia',\n",
       " 'Anas platyrhynchos': 'Animalia',\n",
       " 'Bubalus bubalis': 'Animalia',\n",
       " 'Chamelea gallina': 'Animalia',\n",
       " 'Dolichotis patagonum': 'Animalia',\n",
       " 'Hippotragus niger': 'Animalia',\n",
       " 'Apodemus sylvaticus': 'Animalia',\n",
       " 'Pantherophis guttatus': 'Animalia',\n",
       " 'Iguana iguana': 'Animalia',\n",
       " 'Lama pacos': 'Animalia',\n",
       " 'Lama glama': 'Animalia',\n",
       " 'Equus asinus': 'Animalia',\n",
       " 'Cebus apella': 'Animalia',\n",
       " 'Papio hamadryas': 'Animalia',\n",
       " 'Lagothrix lagotricha': 'Animalia',\n",
       " 'Galictis cuja': 'Animalia',\n",
       " 'Panthera tigris': 'Animalia',\n",
       " 'Cheilodactylus variegatus': 'Animalia',\n",
       " 'Larus dominicanus': 'Animalia',\n",
       " 'Phasianus colchicus': 'Animalia',\n",
       " 'Nymphicus hollandicus': 'Animalia',\n",
       " 'Fulica atra': 'Animalia',\n",
       " 'Microtus arvalis': 'Animalia',\n",
       " 'Apodemus flavicollis': 'Animalia',\n",
       " 'Clethrionomys glareolus': 'Animalia',\n",
       " 'Papio anubis': 'Animalia',\n",
       " 'Papio ursinus': 'Animalia',\n",
       " 'Tragelaphus strepsiceros': 'Animalia',\n",
       " 'Syncerus caffer': 'Animalia',\n",
       " 'Suricata suricatta': 'Animalia',\n",
       " 'Odocoileus hemionus': 'Animalia',\n",
       " 'Mustela erminea': 'Animalia',\n",
       " 'Urocyon cinereoargenteus': 'Animalia',\n",
       " 'Meles meles': 'Animalia',\n",
       " 'Lynx pardinus': 'Animalia',\n",
       " 'Herpestes ichneumon': 'Animalia',\n",
       " 'Panthera leo': 'Animalia',\n",
       " 'Damaliscus lunatus': 'Animalia',\n",
       " 'Connochaetes taurinus': 'Animalia',\n",
       " 'Taxidea taxus': 'Animalia',\n",
       " 'Lynx rufus': 'Animalia',\n",
       " 'Canis latrans': 'Animalia',\n",
       " 'Bison bison': 'Animalia',\n",
       " 'Otaria flavescens': 'Animalia',\n",
       " 'Arctocephalus australis': 'Animalia',\n",
       " 'Acinonyx jubatus': 'Animalia',\n",
       " 'Cervus unicolor': 'Animalia',\n",
       " 'Onthophagus pennsylvanicus': 'Animalia',\n",
       " 'Liatongus phanaeoides': 'Animalia',\n",
       " 'Copris ochus': 'Animalia',\n",
       " 'Blaps bifurcata': 'Animalia',\n",
       " 'Blaps appendiculata': 'Animalia',\n",
       " 'Chilothorax lineolatus': 'Animalia',\n",
       " 'Teuchestes fossor': 'Animalia',\n",
       " 'Aphodius coloradensis': 'Animalia',\n",
       " 'Aphodius fimetarius': 'Animalia',\n",
       " 'Onthophagus hecate': 'Animalia',\n",
       " 'Otophorus haemorrhoidalis': 'Animalia',\n",
       " 'Bodiloides ictericus': 'Animalia',\n",
       " 'Aphodius rectus': 'Animalia',\n",
       " 'Onthophagus taurus': 'Animalia',\n",
       " 'Onthophagus transcaspicus': 'Animalia',\n",
       " 'Oniticellus fulvus': 'Animalia',\n",
       " 'Blaps emondi': 'Animalia',\n",
       " 'Acrossus luridus': 'Animalia',\n",
       " 'Chilothorax distinctus': 'Animalia',\n",
       " 'Caccobius schreberi': 'Animalia',\n",
       " 'Cavia porcellus': 'Animalia',\n",
       " 'Dermestes maculatus': 'Animalia',\n",
       " 'Blattella germanica': 'Animalia',\n",
       " 'Macaca fuscata': 'Animalia',\n",
       " 'Rusa unicolor': 'Animalia',\n",
       " 'Axis axis': 'Animalia',\n",
       " 'Pecari tajacu': 'Animalia',\n",
       " 'Rattus norvegicus': 'Animalia',\n",
       " 'Hylobates mulleri': 'Animalia',\n",
       " 'Castor canadensis': 'Animalia',\n",
       " 'Aphodius lividus': 'Animalia',\n",
       " 'Sciurus carolinensis': 'Animalia',\n",
       " 'Sylvilagus floridanus': 'Animalia',\n",
       " 'Sciurus niger': 'Animalia',\n",
       " 'Dermestis vulpinus': 'Animalia',\n",
       " 'Gerres oyena': 'Animalia',\n",
       " 'Odocoileus hemonis': 'Animalia',\n",
       " 'Funisciurus substriatus': 'Animalia'}"
      ]
     },
     "execution_count": 271,
     "metadata": {},
     "output_type": "execute_result"
    }
   ],
   "source": [
    "kingdom"
   ]
  },
  {
   "cell_type": "markdown",
   "metadata": {},
   "source": [
    "### This function takes a GBIF species key and counts how many occurences exist in the data cube"
   ]
  },
  {
   "cell_type": "code",
   "execution_count": 272,
   "metadata": {},
   "outputs": [],
   "source": [
    "def speciesCountInCube(conn, key):\n",
    "    cur = conn.cursor()\n",
    "    cur.execute(\"SELECT COUNT(taxonKey) from (SELECT taxonKey FROM cube WHERE year > ? and taxonKey = ? GROUP BY eea_cell_code)\", (year, key,))\n",
    "    return(cur.fetchall())"
   ]
  },
  {
   "cell_type": "markdown",
   "metadata": {},
   "source": [
    "### Loop over all the taxa that are in the interaction network and are in GBIF to find the ones that have been found in the country"
   ]
  },
  {
   "cell_type": "code",
   "execution_count": 273,
   "metadata": {},
   "outputs": [],
   "source": [
    "taxaFoundInCountry = []\n",
    "\n",
    "try:\n",
    "    conn = sqlite3.connect(database)\n",
    "except Error as e:\n",
    "    print(e)"
   ]
  },
  {
   "cell_type": "code",
   "execution_count": 274,
   "metadata": {},
   "outputs": [
    {
     "data": {
      "text/plain": [
       "2000"
      ]
     },
     "execution_count": 274,
     "metadata": {},
     "output_type": "execute_result"
    }
   ],
   "source": [
    "year"
   ]
  },
  {
   "cell_type": "code",
   "execution_count": 275,
   "metadata": {},
   "outputs": [
    {
     "name": "stdout",
     "output_type": "stream",
     "text": [
      "Solenopotes muntiacus\n",
      "\n",
      "Ixodes ovatus\n",
      "Haemaphysalis yeni\n",
      "Cryptosporidium parvum\n",
      "Mycobacterium bovis\n",
      "Tricholipeurus indicus\n",
      "Gongylonema pulchrum\n",
      "Muntiacus reevesi\n",
      "Muntiacus reevesi with key 2440946 occurs in 152 km squares.\n",
      "Anaplasma phagocytophilum\n",
      "Borrelia sinica\n",
      "Cryptosporidium parvum virus 1\n",
      "Psychoda phalaenoides\n",
      "Psychoda grisescens\n",
      "Melampsora allii-populina\n",
      "Ascochyta ari\n",
      "Puccinia sessilis\n",
      "Lilioceris lilii\n",
      "Melanustilospora ari\n",
      "Arum maculatum\n",
      "Arum maculatum with key 5330580 occurs in 3662 km squares.\n",
      "Ramularia cardamines\n",
      "Peronospora parasitica\n",
      "Erysiphe cruciferarum\n",
      "Ceutorhynchus pervicax\n",
      "Ceutorhynchus cochleariae\n",
      "Eurydema dominulus\n",
      "Eurydema dominulus with key 4485896 occurs in 13 km squares.\n",
      "Bruchus loti\n",
      "Pieris rapae\n",
      "Pieris rapae with key 1920496 occurs in 14956 km squares.\n",
      "Pieris napi\n",
      "Pieris napi with key 1920494 occurs in 13279 km squares.\n",
      "Anthocharis cardamines\n",
      "Anthocharis cardamines with key 1919712 occurs in 11011 km squares.\n",
      "Bombylius major\n",
      "Adela rufimitrella\n",
      "Cantharis fusca\n",
      "Cantharis fusca with key 5743995 occurs in 21 km squares.\n",
      "Amara lunicollis\n",
      "Amara lunicollis with key 1035167 occurs in 6 km squares.\n",
      "Adrastus rachifer\n",
      "Poecilus cupreus\n",
      "Amara similata\n",
      "Hemicrepidius hirtus\n",
      "Elathous bicolor\n",
      "Stygnocoris rusticus\n",
      "Stygnocoris rusticus with key 2008074 occurs in 8 km squares.\n",
      "Anisodactylus binotatus\n",
      "Anisodactylus binotatus with key 1036917 occurs in 6 km squares.\n",
      "Megalonotus chiragra\n",
      "Megalonotus chiragra with key 9785239 occurs in 18 km squares.\n",
      "Drymus sylvaticus\n",
      "Drymus sylvaticus with key 4486544 occurs in 32 km squares.\n",
      "Raglius vulgaris\n",
      "Raglius vulgaris with key 8994559 occurs in 696 km squares.\n",
      "Rhyparochromus pini\n",
      "Rhyparochromus pini with key 5758859 occurs in 6 km squares.\n",
      "Agrypnus murinus\n",
      "Agrypnus murinus with key 4428942 occurs in 10 km squares.\n",
      "Cantharis lateralis\n",
      "Harpalus affinis\n",
      "Amara bifrons\n",
      "Helophorus griseus\n",
      "Amara communis\n",
      "Neocrepidodera ferruginea\n",
      "Ceutorhynchus floralis\n",
      "Ceutorhynchus erysimi\n",
      "Anthicus antherinus\n",
      "Ophonus schaubergerianus\n",
      "Pterostichus commutabilis\n",
      "Sphragisticus nebulosus\n",
      "Sphragisticus nebulosus with key 2008248 occurs in 35 km squares.\n",
      "Phyllotreta vittula\n",
      "Phyllotreta nigripes\n",
      "Phyllotreta atra\n",
      "Longitarsus luridus\n",
      "Epitrix pubescens\n",
      "Megalonotus emarginatus\n",
      "Scolopostethus affinis\n",
      "Scolopostethus affinis with key 4486578 occurs in 115 km squares.\n",
      "Diachromus germanus\n",
      "Amara plebeja\n",
      "Chaetocnema picipes\n",
      "Trechus quadristriatus\n",
      "Ophonus puncticeps\n",
      "Amara familiaris\n",
      "Amara familiaris with key 1035195 occurs in 8 km squares.\n",
      "Lygus rugulipennis\n",
      "Lygus rugulipennis with key 2010575 occurs in 297 km squares.\n",
      "Lygus pratensis\n",
      "Lygus pratensis with key 8380159 occurs in 823 km squares.\n",
      "Amara consularis\n",
      "Cantharis rufa\n",
      "Harpalus rubripes\n",
      "Harpalus rufipes\n",
      "Exomias trichopterus\n",
      "Barypeithes pellucidus\n",
      "Harpalus distinguendus\n",
      "Lagopus lagopus\n",
      "Myocastor coypus\n",
      "Myocastor coypus with key 4264680 occurs in 212 km squares.\n",
      "Plasmopara pygmaea\n",
      "Peronospora anemones\n",
      "Phytomyza nigripennis\n",
      "Phytomyza hendeli\n",
      "Phytomyza anemones\n",
      "Leiosoma deflexum\n",
      "Ochropsora ariae\n",
      "Leiosoma oblongulum\n",
      "Peronospora ficariae\n",
      "Dumontinia tuberosa\n",
      "Tranzschelia anemones\n",
      "Urocystis anemones\n",
      "Episyrphus balteatus\n",
      "Episyrphus balteatus with key 1536449 occurs in 40 km squares.\n",
      "Hemiptarsenus fulvicollis\n",
      "Endophytus anemones\n",
      "Anemone nemorosa\n",
      "Anemone nemorosa with key 3033263 occurs in 5269 km squares.\n",
      "Carduelis chloris\n",
      "Melampsora populnea\n",
      "Barynotus moerens\n",
      "Kalcapion pallipes\n",
      "Hermaeophaga mercurialis\n",
      "Typhula uncialis\n",
      "Mycena acicula\n",
      "Helicobasidium purpureum\n",
      "Conocybe dumetorum\n",
      "Spilopodia melanogramma\n",
      "Sarcopodium circinatum\n",
      "Pyrenopeziza mercurialis\n",
      "Pyrenopeziza mercurialidis\n",
      "Phoma macrocapsa\n",
      "Thrips fulvipes\n",
      "Melampsora aecidioides\n",
      "Mercurialis perennis\n",
      "Mercurialis perennis with key 3063016 occurs in 723 km squares.\n",
      "Colletotrichum liliacearum\n",
      "Colletotrichum dematium\n",
      "Papilio machaon\n",
      "Papilio machaon with key 8225376 occurs in 8975 km squares.\n",
      "Aglais io\n",
      "Aglais io with key 4535827 occurs in 14775 km squares.\n",
      "Hysterophora maculosana\n",
      "Uromyces muscari\n",
      "Cardamine pratensis\n",
      "Cardamine pratensis with key 7972010 occurs in 8244 km squares.\n",
      "Dactylorhiza fuchsii\n",
      "Dactylorhiza fuchsii with key 2810677 occurs in 1406 km squares.\n",
      "Orchis mascula\n",
      "Orchis mascula with key 2849427 occurs in 44 km squares.\n",
      "Hyacinthoides non-scripta\n",
      "Hyacinthoides non-scripta with key 5304283 occurs in 1952 km squares.\n",
      "Vulpes vulpes\n",
      "Vulpes vulpes with key 5219243 occurs in 43 km squares.\n",
      "Procyon lotor\n",
      "Procyon lotor with key 5218786 occurs in 1541 km squares.\n",
      "Cervus nippon\n",
      "Cervus nippon with key 2440954 occurs in 21 km squares.\n",
      "Chrotogale owstoni\n",
      "Pan troglodytes\n",
      "Presbytis vetulus\n",
      "Alouatta pigra\n",
      "Gorilla gorilla\n",
      "Ursus americanus\n",
      "Sus scrofa\n",
      "Sus scrofa with key 7705930 occurs in 35 km squares.\n",
      "Zalophus californianus\n",
      "Nyctereutes procyonoides\n",
      "Nyctereutes procyonoides with key 2434552 occurs in 31 km squares.\n",
      "Odocoileus virginianus\n",
      "Mephitis mephitis\n",
      "Trachypithecus vetulus\n",
      "Gorilla beringei\n",
      "Dama dama\n",
      "Dama dama with key 5220136 occurs in 771 km squares.\n",
      "Canis lupus\n",
      "Canis lupus with key 5219173 occurs in 14 km squares.\n",
      "Bison bonasus\n",
      "Cervus elaphus\n",
      "Cervus elaphus with key 2440958 occurs in 11 km squares.\n",
      "Capreolus capreolus\n",
      "Capreolus capreolus with key 5220126 occurs in 72 km squares.\n",
      "Alces alces\n",
      "Sillago vittata\n",
      "Pseudechis porphyriacus\n",
      "Phascolarctos cinereus\n",
      "Mus musculus\n",
      "Mus musculus with key 7429082 occurs in 6 km squares.\n",
      "Macropus rufus\n",
      "Dugong dugon\n",
      "Bos taurus\n",
      "Aspidites ramsayi\n",
      "Homo sapiens\n",
      "Ovis aries\n",
      "Capra hircus\n",
      "Erinaceus europaeus\n",
      "Erinaceus europaeus with key 5219616 occurs in 28 km squares.\n",
      "Oryctolagus cuniculus\n",
      "Oryctolagus cuniculus with key 2436940 occurs in 7643 km squares.\n",
      "Felis catus\n",
      "Felis catus with key 2435035 occurs in 2370 km squares.\n",
      "Gallus gallus\n",
      "Gallus gallus with key 9326020 occurs in 346 km squares.\n",
      "Equus caballus\n",
      "Mytilus edulis\n",
      "Mytilus edulis with key 8288896 occurs in 249 km squares.\n",
      "Macaca sinica\n",
      "Coturnix japonica\n",
      "Meleagris gallopavo\n",
      "Meleagris gallopavo with key 9606290 occurs in 17 km squares.\n",
      "Macaca mulatta\n",
      "Mustela putorius\n",
      "Mustela putorius with key 5218911 occurs in 61 km squares.\n",
      "Pterocnemia pennata\n",
      "Eublepharis macularius\n",
      "Semnopithecus entellus\n",
      "Anas platyrhynchos\n",
      "Anas platyrhynchos with key 9761484 occurs in 14221 km squares.\n",
      "Bubalus bubalis\n",
      "Chamelea gallina\n",
      "Dolichotis patagonum\n",
      "Dolichotis patagonum with key 2437619 occurs in 7 km squares.\n",
      "Hippotragus niger\n",
      "Apodemus sylvaticus\n",
      "Apodemus sylvaticus with key 2437760 occurs in 13 km squares.\n",
      "Pantherophis guttatus\n",
      "Pantherophis guttatus with key 2455615 occurs in 16 km squares.\n",
      "Iguana iguana\n",
      "Lama pacos\n",
      "Lama glama\n",
      "Equus asinus\n",
      "Cebus apella\n",
      "Papio hamadryas\n",
      "Lagothrix lagotricha\n",
      "Galictis cuja\n",
      "Panthera tigris\n",
      "Cheilodactylus variegatus\n",
      "Larus dominicanus\n",
      "Phasianus colchicus\n",
      "Phasianus colchicus with key 9752149 occurs in 12513 km squares.\n",
      "Nymphicus hollandicus\n",
      "Nymphicus hollandicus with key 2479977 occurs in 423 km squares.\n",
      "Fulica atra\n",
      "Fulica atra with key 2474377 occurs in 12040 km squares.\n",
      "Microtus arvalis\n",
      "Apodemus flavicollis\n",
      "Clethrionomys glareolus\n",
      "Papio anubis\n",
      "Papio ursinus\n",
      "Tragelaphus strepsiceros\n",
      "Syncerus caffer\n",
      "Suricata suricatta\n",
      "Odocoileus hemionus\n",
      "Mustela erminea\n",
      "Urocyon cinereoargenteus\n",
      "Meles meles\n",
      "Meles meles with key 2433875 occurs in 20 km squares.\n",
      "Lynx pardinus\n",
      "Herpestes ichneumon\n",
      "Panthera leo\n",
      "Damaliscus lunatus\n",
      "Connochaetes taurinus\n",
      "Taxidea taxus\n",
      "Lynx rufus\n",
      "Canis latrans\n",
      "Bison bison\n",
      "Otaria flavescens\n",
      "Arctocephalus australis\n",
      "Acinonyx jubatus\n",
      "Cervus unicolor\n",
      "Onthophagus pennsylvanicus\n",
      "Liatongus phanaeoides\n",
      "Copris ochus\n",
      "Blaps bifurcata\n",
      "Blaps appendiculata\n",
      "Chilothorax lineolatus\n",
      "Teuchestes fossor\n",
      "Aphodius coloradensis\n",
      "Aphodius fimetarius\n",
      "Onthophagus hecate\n",
      "Otophorus haemorrhoidalis\n",
      "Bodiloides ictericus\n",
      "Aphodius rectus\n",
      "Onthophagus taurus\n",
      "Onthophagus transcaspicus\n",
      "Oniticellus fulvus\n",
      "Blaps emondi\n",
      "Acrossus luridus\n",
      "Chilothorax distinctus\n",
      "Caccobius schreberi\n",
      "Cavia porcellus\n",
      "Cavia porcellus with key 5219702 occurs in 8 km squares.\n",
      "Dermestes maculatus\n",
      "Blattella germanica\n",
      "Blattella germanica with key 1997215 occurs in 16 km squares.\n",
      "Macaca fuscata\n",
      "Rusa unicolor\n",
      "Axis axis\n",
      "Pecari tajacu\n",
      "Rattus norvegicus\n",
      "Rattus norvegicus with key 2439261 occurs in 3819 km squares.\n",
      "Hylobates mulleri\n",
      "Castor canadensis\n",
      "Aphodius lividus\n",
      "Sciurus carolinensis\n",
      "Sciurus carolinensis with key 5219681 occurs in 18 km squares.\n",
      "Sylvilagus floridanus\n",
      "Sciurus niger\n",
      "Dermestis vulpinus\n",
      "Gerres oyena\n",
      "PIG, GUINEA\n",
      "Odocoileus hemonis\n",
      "Hyobates mulleri\n",
      "Funisciurus substriatus\n"
     ]
    }
   ],
   "source": [
    "for GBIFtaxon in taxaFound.iterrows():\n",
    "    GBIFOccCount = speciesCountInCube(conn, GBIFtaxon[1][0])\n",
    "    print(GBIFtaxon[0])\n",
    "    if GBIFOccCount[0][0] > thresholdForOccNum and GBIFtaxon[0] != taxon: # The threshold for observations is not greater than one, due to all the casual records\n",
    "        taxaFoundInCountry.append({'key': GBIFtaxon[1][0], 'species': GBIFtaxon[0], 'count': GBIFOccCount[0][0]})\n",
    "        print('{0} with key {1} occurs in {2} km squares.'.format(GBIFtaxon[0],GBIFtaxon[1][0],GBIFOccCount[0][0]))\n",
    "    elif GBIFtaxon[0] == taxon:\n",
    "        taxaFoundInCountry.append({'key': GBIFtaxon[1][0], 'species': GBIFtaxon[0], 'count': GBIFOccCount[0][0]})\n",
    "        print('{0} with key {1} occurs in {2} km squares.'.format(GBIFtaxon[0],GBIFtaxon[1][0],GBIFOccCount[0][0]))"
   ]
  },
  {
   "cell_type": "code",
   "execution_count": 276,
   "metadata": {},
   "outputs": [],
   "source": [
    "# Convert to a Pandas dataframe\n",
    "taxaFoundInCountry = pd.DataFrame(taxaFoundInCountry)    "
   ]
  },
  {
   "cell_type": "code",
   "execution_count": 277,
   "metadata": {},
   "outputs": [
    {
     "name": "stdout",
     "output_type": "stream",
     "text": [
      "The number of species left in the network is 59\n"
     ]
    }
   ],
   "source": [
    "print(\"The number of species left in the network is {0}\".format(len(taxaFoundInCountry)))"
   ]
  },
  {
   "cell_type": "code",
   "execution_count": 278,
   "metadata": {
    "scrolled": true
   },
   "outputs": [
    {
     "data": {
      "text/html": [
       "<div>\n",
       "<style scoped>\n",
       "    .dataframe tbody tr th:only-of-type {\n",
       "        vertical-align: middle;\n",
       "    }\n",
       "\n",
       "    .dataframe tbody tr th {\n",
       "        vertical-align: top;\n",
       "    }\n",
       "\n",
       "    .dataframe thead th {\n",
       "        text-align: right;\n",
       "    }\n",
       "</style>\n",
       "<table border=\"1\" class=\"dataframe\">\n",
       "  <thead>\n",
       "    <tr style=\"text-align: right;\">\n",
       "      <th></th>\n",
       "      <th>count</th>\n",
       "      <th>key</th>\n",
       "      <th>species</th>\n",
       "    </tr>\n",
       "  </thead>\n",
       "  <tbody>\n",
       "    <tr>\n",
       "      <th>0</th>\n",
       "      <td>152</td>\n",
       "      <td>2440946</td>\n",
       "      <td>Muntiacus reevesi</td>\n",
       "    </tr>\n",
       "    <tr>\n",
       "      <th>1</th>\n",
       "      <td>3662</td>\n",
       "      <td>5330580</td>\n",
       "      <td>Arum maculatum</td>\n",
       "    </tr>\n",
       "    <tr>\n",
       "      <th>2</th>\n",
       "      <td>13</td>\n",
       "      <td>4485896</td>\n",
       "      <td>Eurydema dominulus</td>\n",
       "    </tr>\n",
       "    <tr>\n",
       "      <th>3</th>\n",
       "      <td>14956</td>\n",
       "      <td>1920496</td>\n",
       "      <td>Pieris rapae</td>\n",
       "    </tr>\n",
       "    <tr>\n",
       "      <th>4</th>\n",
       "      <td>13279</td>\n",
       "      <td>1920494</td>\n",
       "      <td>Pieris napi</td>\n",
       "    </tr>\n",
       "    <tr>\n",
       "      <th>5</th>\n",
       "      <td>11011</td>\n",
       "      <td>1919712</td>\n",
       "      <td>Anthocharis cardamines</td>\n",
       "    </tr>\n",
       "    <tr>\n",
       "      <th>6</th>\n",
       "      <td>21</td>\n",
       "      <td>5743995</td>\n",
       "      <td>Cantharis fusca</td>\n",
       "    </tr>\n",
       "    <tr>\n",
       "      <th>7</th>\n",
       "      <td>6</td>\n",
       "      <td>1035167</td>\n",
       "      <td>Amara lunicollis</td>\n",
       "    </tr>\n",
       "    <tr>\n",
       "      <th>8</th>\n",
       "      <td>8</td>\n",
       "      <td>2008074</td>\n",
       "      <td>Stygnocoris rusticus</td>\n",
       "    </tr>\n",
       "    <tr>\n",
       "      <th>9</th>\n",
       "      <td>6</td>\n",
       "      <td>1036917</td>\n",
       "      <td>Anisodactylus binotatus</td>\n",
       "    </tr>\n",
       "    <tr>\n",
       "      <th>10</th>\n",
       "      <td>18</td>\n",
       "      <td>9785239</td>\n",
       "      <td>Megalonotus chiragra</td>\n",
       "    </tr>\n",
       "    <tr>\n",
       "      <th>11</th>\n",
       "      <td>32</td>\n",
       "      <td>4486544</td>\n",
       "      <td>Drymus sylvaticus</td>\n",
       "    </tr>\n",
       "    <tr>\n",
       "      <th>12</th>\n",
       "      <td>696</td>\n",
       "      <td>8994559</td>\n",
       "      <td>Raglius vulgaris</td>\n",
       "    </tr>\n",
       "    <tr>\n",
       "      <th>13</th>\n",
       "      <td>6</td>\n",
       "      <td>5758859</td>\n",
       "      <td>Rhyparochromus pini</td>\n",
       "    </tr>\n",
       "    <tr>\n",
       "      <th>14</th>\n",
       "      <td>10</td>\n",
       "      <td>4428942</td>\n",
       "      <td>Agrypnus murinus</td>\n",
       "    </tr>\n",
       "    <tr>\n",
       "      <th>15</th>\n",
       "      <td>35</td>\n",
       "      <td>2008248</td>\n",
       "      <td>Sphragisticus nebulosus</td>\n",
       "    </tr>\n",
       "    <tr>\n",
       "      <th>16</th>\n",
       "      <td>115</td>\n",
       "      <td>4486578</td>\n",
       "      <td>Scolopostethus affinis</td>\n",
       "    </tr>\n",
       "    <tr>\n",
       "      <th>17</th>\n",
       "      <td>8</td>\n",
       "      <td>1035195</td>\n",
       "      <td>Amara familiaris</td>\n",
       "    </tr>\n",
       "    <tr>\n",
       "      <th>18</th>\n",
       "      <td>297</td>\n",
       "      <td>2010575</td>\n",
       "      <td>Lygus rugulipennis</td>\n",
       "    </tr>\n",
       "    <tr>\n",
       "      <th>19</th>\n",
       "      <td>823</td>\n",
       "      <td>8380159</td>\n",
       "      <td>Lygus pratensis</td>\n",
       "    </tr>\n",
       "    <tr>\n",
       "      <th>20</th>\n",
       "      <td>212</td>\n",
       "      <td>4264680</td>\n",
       "      <td>Myocastor coypus</td>\n",
       "    </tr>\n",
       "    <tr>\n",
       "      <th>21</th>\n",
       "      <td>40</td>\n",
       "      <td>1536449</td>\n",
       "      <td>Episyrphus balteatus</td>\n",
       "    </tr>\n",
       "    <tr>\n",
       "      <th>22</th>\n",
       "      <td>5269</td>\n",
       "      <td>3033263</td>\n",
       "      <td>Anemone nemorosa</td>\n",
       "    </tr>\n",
       "    <tr>\n",
       "      <th>23</th>\n",
       "      <td>723</td>\n",
       "      <td>3063016</td>\n",
       "      <td>Mercurialis perennis</td>\n",
       "    </tr>\n",
       "    <tr>\n",
       "      <th>24</th>\n",
       "      <td>8975</td>\n",
       "      <td>8225376</td>\n",
       "      <td>Papilio machaon</td>\n",
       "    </tr>\n",
       "    <tr>\n",
       "      <th>25</th>\n",
       "      <td>14775</td>\n",
       "      <td>4535827</td>\n",
       "      <td>Aglais io</td>\n",
       "    </tr>\n",
       "    <tr>\n",
       "      <th>26</th>\n",
       "      <td>8244</td>\n",
       "      <td>7972010</td>\n",
       "      <td>Cardamine pratensis</td>\n",
       "    </tr>\n",
       "    <tr>\n",
       "      <th>27</th>\n",
       "      <td>1406</td>\n",
       "      <td>2810677</td>\n",
       "      <td>Dactylorhiza fuchsii</td>\n",
       "    </tr>\n",
       "    <tr>\n",
       "      <th>28</th>\n",
       "      <td>44</td>\n",
       "      <td>2849427</td>\n",
       "      <td>Orchis mascula</td>\n",
       "    </tr>\n",
       "    <tr>\n",
       "      <th>29</th>\n",
       "      <td>1952</td>\n",
       "      <td>5304283</td>\n",
       "      <td>Hyacinthoides non-scripta</td>\n",
       "    </tr>\n",
       "    <tr>\n",
       "      <th>30</th>\n",
       "      <td>43</td>\n",
       "      <td>5219243</td>\n",
       "      <td>Vulpes vulpes</td>\n",
       "    </tr>\n",
       "    <tr>\n",
       "      <th>31</th>\n",
       "      <td>1541</td>\n",
       "      <td>5218786</td>\n",
       "      <td>Procyon lotor</td>\n",
       "    </tr>\n",
       "    <tr>\n",
       "      <th>32</th>\n",
       "      <td>21</td>\n",
       "      <td>2440954</td>\n",
       "      <td>Cervus nippon</td>\n",
       "    </tr>\n",
       "    <tr>\n",
       "      <th>33</th>\n",
       "      <td>35</td>\n",
       "      <td>7705930</td>\n",
       "      <td>Sus scrofa</td>\n",
       "    </tr>\n",
       "    <tr>\n",
       "      <th>34</th>\n",
       "      <td>31</td>\n",
       "      <td>2434552</td>\n",
       "      <td>Nyctereutes procyonoides</td>\n",
       "    </tr>\n",
       "    <tr>\n",
       "      <th>35</th>\n",
       "      <td>771</td>\n",
       "      <td>5220136</td>\n",
       "      <td>Dama dama</td>\n",
       "    </tr>\n",
       "    <tr>\n",
       "      <th>36</th>\n",
       "      <td>14</td>\n",
       "      <td>5219173</td>\n",
       "      <td>Canis lupus</td>\n",
       "    </tr>\n",
       "    <tr>\n",
       "      <th>37</th>\n",
       "      <td>11</td>\n",
       "      <td>2440958</td>\n",
       "      <td>Cervus elaphus</td>\n",
       "    </tr>\n",
       "    <tr>\n",
       "      <th>38</th>\n",
       "      <td>72</td>\n",
       "      <td>5220126</td>\n",
       "      <td>Capreolus capreolus</td>\n",
       "    </tr>\n",
       "    <tr>\n",
       "      <th>39</th>\n",
       "      <td>6</td>\n",
       "      <td>7429082</td>\n",
       "      <td>Mus musculus</td>\n",
       "    </tr>\n",
       "    <tr>\n",
       "      <th>40</th>\n",
       "      <td>28</td>\n",
       "      <td>5219616</td>\n",
       "      <td>Erinaceus europaeus</td>\n",
       "    </tr>\n",
       "    <tr>\n",
       "      <th>41</th>\n",
       "      <td>7643</td>\n",
       "      <td>2436940</td>\n",
       "      <td>Oryctolagus cuniculus</td>\n",
       "    </tr>\n",
       "    <tr>\n",
       "      <th>42</th>\n",
       "      <td>2370</td>\n",
       "      <td>2435035</td>\n",
       "      <td>Felis catus</td>\n",
       "    </tr>\n",
       "    <tr>\n",
       "      <th>43</th>\n",
       "      <td>346</td>\n",
       "      <td>9326020</td>\n",
       "      <td>Gallus gallus</td>\n",
       "    </tr>\n",
       "    <tr>\n",
       "      <th>44</th>\n",
       "      <td>249</td>\n",
       "      <td>8288896</td>\n",
       "      <td>Mytilus edulis</td>\n",
       "    </tr>\n",
       "    <tr>\n",
       "      <th>45</th>\n",
       "      <td>17</td>\n",
       "      <td>9606290</td>\n",
       "      <td>Meleagris gallopavo</td>\n",
       "    </tr>\n",
       "    <tr>\n",
       "      <th>46</th>\n",
       "      <td>61</td>\n",
       "      <td>5218911</td>\n",
       "      <td>Mustela putorius</td>\n",
       "    </tr>\n",
       "    <tr>\n",
       "      <th>47</th>\n",
       "      <td>14221</td>\n",
       "      <td>9761484</td>\n",
       "      <td>Anas platyrhynchos</td>\n",
       "    </tr>\n",
       "    <tr>\n",
       "      <th>48</th>\n",
       "      <td>7</td>\n",
       "      <td>2437619</td>\n",
       "      <td>Dolichotis patagonum</td>\n",
       "    </tr>\n",
       "    <tr>\n",
       "      <th>49</th>\n",
       "      <td>13</td>\n",
       "      <td>2437760</td>\n",
       "      <td>Apodemus sylvaticus</td>\n",
       "    </tr>\n",
       "    <tr>\n",
       "      <th>50</th>\n",
       "      <td>16</td>\n",
       "      <td>2455615</td>\n",
       "      <td>Pantherophis guttatus</td>\n",
       "    </tr>\n",
       "    <tr>\n",
       "      <th>51</th>\n",
       "      <td>12513</td>\n",
       "      <td>9752149</td>\n",
       "      <td>Phasianus colchicus</td>\n",
       "    </tr>\n",
       "    <tr>\n",
       "      <th>52</th>\n",
       "      <td>423</td>\n",
       "      <td>2479977</td>\n",
       "      <td>Nymphicus hollandicus</td>\n",
       "    </tr>\n",
       "    <tr>\n",
       "      <th>53</th>\n",
       "      <td>12040</td>\n",
       "      <td>2474377</td>\n",
       "      <td>Fulica atra</td>\n",
       "    </tr>\n",
       "    <tr>\n",
       "      <th>54</th>\n",
       "      <td>20</td>\n",
       "      <td>2433875</td>\n",
       "      <td>Meles meles</td>\n",
       "    </tr>\n",
       "    <tr>\n",
       "      <th>55</th>\n",
       "      <td>8</td>\n",
       "      <td>5219702</td>\n",
       "      <td>Cavia porcellus</td>\n",
       "    </tr>\n",
       "    <tr>\n",
       "      <th>56</th>\n",
       "      <td>16</td>\n",
       "      <td>1997215</td>\n",
       "      <td>Blattella germanica</td>\n",
       "    </tr>\n",
       "    <tr>\n",
       "      <th>57</th>\n",
       "      <td>3819</td>\n",
       "      <td>2439261</td>\n",
       "      <td>Rattus norvegicus</td>\n",
       "    </tr>\n",
       "    <tr>\n",
       "      <th>58</th>\n",
       "      <td>18</td>\n",
       "      <td>5219681</td>\n",
       "      <td>Sciurus carolinensis</td>\n",
       "    </tr>\n",
       "  </tbody>\n",
       "</table>\n",
       "</div>"
      ],
      "text/plain": [
       "    count      key                    species\n",
       "0     152  2440946          Muntiacus reevesi\n",
       "1    3662  5330580             Arum maculatum\n",
       "2      13  4485896         Eurydema dominulus\n",
       "3   14956  1920496               Pieris rapae\n",
       "4   13279  1920494                Pieris napi\n",
       "5   11011  1919712     Anthocharis cardamines\n",
       "6      21  5743995            Cantharis fusca\n",
       "7       6  1035167           Amara lunicollis\n",
       "8       8  2008074       Stygnocoris rusticus\n",
       "9       6  1036917    Anisodactylus binotatus\n",
       "10     18  9785239       Megalonotus chiragra\n",
       "11     32  4486544          Drymus sylvaticus\n",
       "12    696  8994559           Raglius vulgaris\n",
       "13      6  5758859        Rhyparochromus pini\n",
       "14     10  4428942           Agrypnus murinus\n",
       "15     35  2008248    Sphragisticus nebulosus\n",
       "16    115  4486578     Scolopostethus affinis\n",
       "17      8  1035195           Amara familiaris\n",
       "18    297  2010575         Lygus rugulipennis\n",
       "19    823  8380159            Lygus pratensis\n",
       "20    212  4264680           Myocastor coypus\n",
       "21     40  1536449       Episyrphus balteatus\n",
       "22   5269  3033263           Anemone nemorosa\n",
       "23    723  3063016       Mercurialis perennis\n",
       "24   8975  8225376            Papilio machaon\n",
       "25  14775  4535827                  Aglais io\n",
       "26   8244  7972010        Cardamine pratensis\n",
       "27   1406  2810677       Dactylorhiza fuchsii\n",
       "28     44  2849427             Orchis mascula\n",
       "29   1952  5304283  Hyacinthoides non-scripta\n",
       "30     43  5219243              Vulpes vulpes\n",
       "31   1541  5218786              Procyon lotor\n",
       "32     21  2440954              Cervus nippon\n",
       "33     35  7705930                 Sus scrofa\n",
       "34     31  2434552   Nyctereutes procyonoides\n",
       "35    771  5220136                  Dama dama\n",
       "36     14  5219173                Canis lupus\n",
       "37     11  2440958             Cervus elaphus\n",
       "38     72  5220126        Capreolus capreolus\n",
       "39      6  7429082               Mus musculus\n",
       "40     28  5219616        Erinaceus europaeus\n",
       "41   7643  2436940      Oryctolagus cuniculus\n",
       "42   2370  2435035                Felis catus\n",
       "43    346  9326020              Gallus gallus\n",
       "44    249  8288896             Mytilus edulis\n",
       "45     17  9606290        Meleagris gallopavo\n",
       "46     61  5218911           Mustela putorius\n",
       "47  14221  9761484         Anas platyrhynchos\n",
       "48      7  2437619       Dolichotis patagonum\n",
       "49     13  2437760        Apodemus sylvaticus\n",
       "50     16  2455615      Pantherophis guttatus\n",
       "51  12513  9752149        Phasianus colchicus\n",
       "52    423  2479977      Nymphicus hollandicus\n",
       "53  12040  2474377                Fulica atra\n",
       "54     20  2433875                Meles meles\n",
       "55      8  5219702            Cavia porcellus\n",
       "56     16  1997215        Blattella germanica\n",
       "57   3819  2439261          Rattus norvegicus\n",
       "58     18  5219681       Sciurus carolinensis"
      ]
     },
     "execution_count": 278,
     "metadata": {},
     "output_type": "execute_result"
    }
   ],
   "source": [
    "taxaFoundInCountry"
   ]
  },
  {
   "cell_type": "markdown",
   "metadata": {},
   "source": [
    "## Drawing a network of the interactions\n",
    "\n",
    "Now that I have a list of all the species in the country I can use this as my nodes list for the network diagram."
   ]
  },
  {
   "cell_type": "code",
   "execution_count": 279,
   "metadata": {},
   "outputs": [
    {
     "name": "stdout",
     "output_type": "stream",
     "text": [
      "using package pydot\n"
     ]
    }
   ],
   "source": [
    "#networkx seems to be a leading network tool in Python\n",
    "import networkx as nx\n",
    "import matplotlib.pyplot as plt\n",
    "\n",
    "try:\n",
    "    import pygraphviz\n",
    "    from networkx.drawing.nx_agraph import write_dot\n",
    "    print(\"using package pygraphviz\")\n",
    "except ImportError:\n",
    "    try:\n",
    "        import pydot\n",
    "        from networkx.drawing.nx_pydot import write_dot\n",
    "        print(\"using package pydot\")\n",
    "    except ImportError:\n",
    "        print()\n",
    "        print(\"Both pygraphviz and pydot were not found \")\n",
    "        print(\"see  https://networkx.github.io/documentation/latest/reference/drawing.html\")\n",
    "        print()"
   ]
  },
  {
   "cell_type": "code",
   "execution_count": 280,
   "metadata": {},
   "outputs": [],
   "source": [
    "# Create graphic object\n",
    "G = nx.DiGraph()"
   ]
  },
  {
   "cell_type": "code",
   "execution_count": 281,
   "metadata": {},
   "outputs": [],
   "source": [
    "# Match colours to interactions to distinguish them on the graph\n",
    "colorInteractions = {'interaction':['pollinates', 'mutualistOf', 'eats', 'visitsFlowersOf', 'hasHost', 'parasiteOf', 'pathogenOf'],\n",
    "        'colour':['r', 'g', 'b', 'y', 'm', 'w', 'c']}  \n",
    "\n",
    "colorInteractionsDf = pd.DataFrame(colorInteractions)\n",
    "\n",
    "#len(list(G.nodes))"
   ]
  },
  {
   "cell_type": "markdown",
   "metadata": {},
   "source": [
    "## A quick look at the interaction data to see if it is what is expected"
   ]
  },
  {
   "cell_type": "code",
   "execution_count": 282,
   "metadata": {},
   "outputs": [
    {
     "data": {
      "text/html": [
       "<div>\n",
       "<style scoped>\n",
       "    .dataframe tbody tr th:only-of-type {\n",
       "        vertical-align: middle;\n",
       "    }\n",
       "\n",
       "    .dataframe tbody tr th {\n",
       "        vertical-align: top;\n",
       "    }\n",
       "\n",
       "    .dataframe thead th {\n",
       "        text-align: right;\n",
       "    }\n",
       "</style>\n",
       "<table border=\"1\" class=\"dataframe\">\n",
       "  <thead>\n",
       "    <tr style=\"text-align: right;\">\n",
       "      <th></th>\n",
       "      <th>sourceTaxonId</th>\n",
       "      <th>sourceTaxonName</th>\n",
       "      <th>sourceTaxonSpeciesName</th>\n",
       "      <th>sourceTaxonRank</th>\n",
       "      <th>sourceTaxonFamilyName</th>\n",
       "      <th>interactionTypeName</th>\n",
       "      <th>targetTaxonName</th>\n",
       "      <th>targetTaxonSpeciesName</th>\n",
       "      <th>targetTaxonRank</th>\n",
       "      <th>sourceCitation</th>\n",
       "      <th>sourceDOI</th>\n",
       "      <th>sourceTaxonKingdomName</th>\n",
       "      <th>sourceTaxonKingdomId</th>\n",
       "      <th>targetTaxonKingdomName</th>\n",
       "      <th>targetTaxonKingdomId</th>\n",
       "    </tr>\n",
       "  </thead>\n",
       "  <tbody>\n",
       "  </tbody>\n",
       "</table>\n",
       "</div>"
      ],
      "text/plain": [
       "Empty DataFrame\n",
       "Columns: [sourceTaxonId, sourceTaxonName, sourceTaxonSpeciesName, sourceTaxonRank, sourceTaxonFamilyName, interactionTypeName, targetTaxonName, targetTaxonSpeciesName, targetTaxonRank, sourceCitation, sourceDOI, sourceTaxonKingdomName, sourceTaxonKingdomId, targetTaxonKingdomName, targetTaxonKingdomId]\n",
       "Index: []"
      ]
     },
     "execution_count": 282,
     "metadata": {},
     "output_type": "execute_result"
    }
   ],
   "source": [
    "#cleanInteractDataTaxon.loc[(cleanInteractDataTaxon[\"sourceTaxonName\"] == 'Apis mellifera') & (cleanInteractDataTaxon[\"targetTaxonName\"] == 'Procyon lotor')]\n",
    "cleanInteractDataTaxon.loc[(cleanInteractDataTaxon[\"sourceTaxonSpeciesName\"] == 'Bombus hortorum')]"
   ]
  },
  {
   "cell_type": "markdown",
   "metadata": {},
   "source": [
    "## Figure out which node has the most records. This is so that the graphic can be scaled."
   ]
  },
  {
   "cell_type": "code",
   "execution_count": 283,
   "metadata": {},
   "outputs": [
    {
     "name": "stdout",
     "output_type": "stream",
     "text": [
      "14956\n"
     ]
    }
   ],
   "source": [
    "if len(taxaFoundInCountry) > 0:\n",
    "    maxRecords = taxaFoundInCountry.max()[\"count\"]\n",
    "    print(maxRecords)"
   ]
  },
  {
   "cell_type": "markdown",
   "metadata": {},
   "source": [
    "### Add the nodes to the graph"
   ]
  },
  {
   "cell_type": "code",
   "execution_count": 284,
   "metadata": {},
   "outputs": [],
   "source": [
    "dictOfNodeSizes = {}\n",
    "\n",
    "for index, row in taxaFoundInCountry.iterrows():\n",
    "     # access data using column names\n",
    "    #print('A: ', row['species'], row['count'], row['key'])\n",
    "    G.add_node(row['species'], gbifkey=row['key'], occupancy = row['count'])\n",
    "    #create a list of node sizes scaled for the network visulization\n",
    "    #The square root ensures that the node area is proportional to the occupancy, rather than the radius\n",
    "    dictOfNodeSizes[row['species']] = math.sqrt(int(row['count']/maxRecords*100))*10"
   ]
  },
  {
   "cell_type": "markdown",
   "metadata": {},
   "source": [
    "### Add edges to the graph"
   ]
  },
  {
   "cell_type": "code",
   "execution_count": 285,
   "metadata": {},
   "outputs": [
    {
     "name": "stdout",
     "output_type": "stream",
     "text": [
      "C:  Arum maculatum Muntiacus reevesi eats\n",
      "C:  Cardamine pratensis Muntiacus reevesi eats\n",
      "C:  Anemone nemorosa Muntiacus reevesi eats\n",
      "C:  Dactylorhiza fuchsii Muntiacus reevesi eats\n",
      "C:  Orchis mascula Muntiacus reevesi eats\n",
      "C:  Mercurialis perennis Muntiacus reevesi eats\n",
      "C:  Hyacinthoides non-scripta Muntiacus reevesi eats\n",
      "C:  Cardamine pratensis Eurydema dominulus eats\n",
      "C:  Cardamine pratensis Eurydema dominulus eats\n",
      "C:  Cardamine pratensis Pieris rapae eats\n",
      "C:  Cardamine pratensis Pieris rapae eats\n",
      "C:  Cardamine pratensis Pieris napi eats\n",
      "C:  Cardamine pratensis Pieris napi visitsFlowersOf\n",
      "C:  Cardamine pratensis Pieris napi eats\n",
      "C:  Cardamine pratensis Anthocharis cardamines eats\n",
      "C:  Cardamine pratensis Anthocharis cardamines visitsFlowersOf\n",
      "C:  Cardamine pratensis Anthocharis cardamines visitsFlowersOf\n",
      "C:  Cardamine pratensis Anthocharis cardamines visitsFlowersOf\n",
      "C:  Cardamine pratensis Anthocharis cardamines visitsFlowersOf\n",
      "C:  Cardamine pratensis Anthocharis cardamines visitsFlowersOf\n",
      "C:  Cardamine pratensis Anthocharis cardamines visitsFlowersOf\n",
      "C:  Cardamine pratensis Cantharis fusca preysOn\n",
      "C:  Cardamine pratensis Amara lunicollis eats\n",
      "C:  Cardamine pratensis Stygnocoris rusticus eats\n",
      "C:  Cardamine pratensis Anisodactylus binotatus eats\n",
      "C:  Cardamine pratensis Megalonotus chiragra eats\n",
      "C:  Cardamine pratensis Drymus sylvaticus eats\n",
      "C:  Cardamine pratensis Raglius vulgaris eats\n",
      "C:  Cardamine pratensis Rhyparochromus pini eats\n",
      "C:  Cardamine pratensis Agrypnus murinus eats\n",
      "C:  Cardamine pratensis Sphragisticus nebulosus eats\n",
      "C:  Cardamine pratensis Scolopostethus affinis eats\n",
      "C:  Cardamine pratensis Amara familiaris eats\n",
      "C:  Cardamine pratensis Lygus rugulipennis eats\n",
      "C:  Cardamine pratensis Lygus pratensis eats\n",
      "C:  Cardamine pratensis Myocastor coypus eats\n",
      "C:  Anemone nemorosa Episyrphus balteatus visitsFlowersOf\n",
      "C:  Hyacinthoides non-scripta Papilio machaon visitsFlowersOf\n",
      "C:  Hyacinthoides non-scripta Aglais io visitsFlowersOf\n"
     ]
    }
   ],
   "source": [
    "# iterate over the interacting species that are in GBIF and in the country with iterrows()\n",
    "# Find the taxa found in the country that are in the source taxon name of the interation data,\n",
    "# then add the edge if the target species is in the country too.\n",
    "\n",
    "taxaFoundInCountry_copy = taxaFoundInCountry.copy()\n",
    "\n",
    "for index, row in taxaFoundInCountry.iterrows():\n",
    "    # loop over all the taxa finding if any of them are mentioned in the sourceTaxonName field\n",
    "    for edge in cleanInteractDataTaxon.iterrows():\n",
    "        if row['species'] == edge[1]['sourceTaxonSpeciesName']:\n",
    "            #print('B: ', edge[1]['sourceTaxonName'], edge[1]['targetTaxonName'])\n",
    "            # Some of the target species will not be in GBIF of in the country, so only add an edge where they are.\n",
    "            for index2, row2 in taxaFoundInCountry_copy.iterrows():\n",
    "                #print('E: ', row2['species'], edge[1]['targetTaxonName'])\n",
    "                if row2['species'] == edge[1]['targetTaxonSpeciesName']: \n",
    "                    print('C: ', edge[1]['targetTaxonSpeciesName'], row['species'], edge[1]['interactionTypeName'])\n",
    "                    G.add_edge(row['species'], edge[1]['targetTaxonSpeciesName'], label = edge[1]['interactionTypeName'])\n",
    "                    \n",
    "#len(list(G.nodes))\n"
   ]
  },
  {
   "cell_type": "code",
   "execution_count": 286,
   "metadata": {},
   "outputs": [
    {
     "name": "stdout",
     "output_type": "stream",
     "text": [
      "F:  Muntiacus reevesi Arum maculatum eats\n",
      "F:  Muntiacus reevesi Anemone nemorosa eats\n",
      "F:  Episyrphus balteatus Anemone nemorosa visitsFlowersOf\n",
      "F:  Muntiacus reevesi Mercurialis perennis eats\n",
      "F:  Muntiacus reevesi Cardamine pratensis eats\n",
      "F:  Eurydema dominulus Cardamine pratensis eats\n",
      "F:  Eurydema dominulus Cardamine pratensis eats\n",
      "F:  Pieris rapae Cardamine pratensis eats\n",
      "F:  Pieris napi Cardamine pratensis eats\n",
      "F:  Anthocharis cardamines Cardamine pratensis eats\n",
      "F:  Anthocharis cardamines Cardamine pratensis visitsFlowersOf\n",
      "F:  Anthocharis cardamines Cardamine pratensis visitsFlowersOf\n",
      "F:  Pieris napi Cardamine pratensis visitsFlowersOf\n",
      "F:  Anthocharis cardamines Cardamine pratensis visitsFlowersOf\n",
      "F:  Anthocharis cardamines Cardamine pratensis visitsFlowersOf\n",
      "F:  Anthocharis cardamines Cardamine pratensis visitsFlowersOf\n",
      "F:  Anthocharis cardamines Cardamine pratensis visitsFlowersOf\n",
      "F:  Pieris napi Cardamine pratensis eats\n",
      "F:  Pieris rapae Cardamine pratensis eats\n",
      "F:  Cantharis fusca Cardamine pratensis preysOn\n",
      "F:  Amara lunicollis Cardamine pratensis eats\n",
      "F:  Stygnocoris rusticus Cardamine pratensis eats\n",
      "F:  Anisodactylus binotatus Cardamine pratensis eats\n",
      "F:  Megalonotus chiragra Cardamine pratensis eats\n",
      "F:  Drymus sylvaticus Cardamine pratensis eats\n",
      "F:  Raglius vulgaris Cardamine pratensis eats\n",
      "F:  Rhyparochromus pini Cardamine pratensis eats\n",
      "F:  Agrypnus murinus Cardamine pratensis eats\n",
      "F:  Sphragisticus nebulosus Cardamine pratensis eats\n",
      "F:  Scolopostethus affinis Cardamine pratensis eats\n",
      "F:  Amara familiaris Cardamine pratensis eats\n",
      "F:  Lygus rugulipennis Cardamine pratensis eats\n",
      "F:  Lygus pratensis Cardamine pratensis eats\n",
      "F:  Myocastor coypus Cardamine pratensis eats\n",
      "F:  Muntiacus reevesi Dactylorhiza fuchsii eats\n",
      "F:  Muntiacus reevesi Orchis mascula eats\n",
      "F:  Muntiacus reevesi Hyacinthoides non-scripta eats\n",
      "F:  Papilio machaon Hyacinthoides non-scripta visitsFlowersOf\n",
      "F:  Aglais io Hyacinthoides non-scripta visitsFlowersOf\n"
     ]
    }
   ],
   "source": [
    "# iterate over rows with iterrows()\n",
    "\n",
    "# Find the taxa found in the country that are in the target taxon name of the interation data,\n",
    "# then add the edge if the source species is in the country too.\n",
    "\n",
    "for index, row in taxaFoundInCountry.iterrows():\n",
    "    for edge in cleanInteractDataTaxon.iterrows():\n",
    "        if row['species'] == edge[1]['targetTaxonName']:\n",
    "            #print('D: ', edge[1]['sourceTaxonName'], edge[1]['targetTaxonName'])\n",
    "            #G.add_node(edge[1]['sourceTaxonName'], gbifkey=row['key'])\n",
    "            #dictOfNodeSizes[edge[1]['sourceTaxonName']] = int(row['count']/maxRecords*100)\n",
    "            for index2, row2 in taxaFoundInCountry.iterrows():\n",
    "                #print('E: ', row2['species'])\n",
    "                if row2['species'] == edge[1]['sourceTaxonSpeciesName']: \n",
    "                    print('F: ', edge[1]['sourceTaxonSpeciesName'],edge[1]['targetTaxonSpeciesName'],edge[1]['interactionTypeName'])\n",
    "                    G.add_edge(edge[1]['sourceTaxonSpeciesName'], row2['species'], label = edge[1]['interactionTypeName'])"
   ]
  },
  {
   "cell_type": "code",
   "execution_count": 287,
   "metadata": {},
   "outputs": [
    {
     "name": "stdout",
     "output_type": "stream",
     "text": [
      "Number of nodes = 59\n",
      "Number of edges = 52\n"
     ]
    }
   ],
   "source": [
    "print(\"Number of nodes = {0}\".format(G.number_of_nodes()))\n",
    "print(\"Number of edges = {0}\".format(G.number_of_edges()))"
   ]
  },
  {
   "cell_type": "code",
   "execution_count": 288,
   "metadata": {},
   "outputs": [
    {
     "data": {
      "text/plain": [
       "59"
      ]
     },
     "execution_count": 288,
     "metadata": {},
     "output_type": "execute_result"
    }
   ],
   "source": [
    "len(dictOfNodeSizes)"
   ]
  },
  {
   "cell_type": "markdown",
   "metadata": {},
   "source": [
    "## Remove any nodes that have no edges.\n",
    "This happens because some of the linking nodes have few supporting observations and so have been weeded out\n"
   ]
  },
  {
   "cell_type": "code",
   "execution_count": 289,
   "metadata": {},
   "outputs": [],
   "source": [
    "#for n in G.nodes:\n",
    "#    if G.degree(n) == 0:\n",
    "#        G.remove_node(n)\n",
    "        \n",
    "G.remove_nodes_from(list(nx.isolates(G)))"
   ]
  },
  {
   "cell_type": "code",
   "execution_count": 290,
   "metadata": {},
   "outputs": [
    {
     "data": {
      "text/plain": [
       "30"
      ]
     },
     "execution_count": 290,
     "metadata": {},
     "output_type": "execute_result"
    }
   ],
   "source": [
    "len(G.nodes)"
   ]
  },
  {
   "cell_type": "markdown",
   "metadata": {},
   "source": [
    "## Remove any selfloop edges"
   ]
  },
  {
   "cell_type": "code",
   "execution_count": 291,
   "metadata": {},
   "outputs": [],
   "source": [
    "for e in G.selfloop_edges(data=False):\n",
    "    G.remove_edge(e[0],e[1])"
   ]
  },
  {
   "cell_type": "markdown",
   "metadata": {},
   "source": [
    "## Run through the list of nodes again and construct a list of the node sizes in the correct order"
   ]
  },
  {
   "cell_type": "code",
   "execution_count": 292,
   "metadata": {},
   "outputs": [],
   "source": [
    "listOfNodeSizes = []\n",
    "\n",
    "for node in G.nodes:\n",
    "    listOfNodeSizes.append(dictOfNodeSizes[node])"
   ]
  },
  {
   "cell_type": "markdown",
   "metadata": {},
   "source": [
    "## A network of all the interacting taxa"
   ]
  },
  {
   "cell_type": "code",
   "execution_count": 293,
   "metadata": {},
   "outputs": [
    {
     "data": {
      "image/png": "[encoded data removed]",
      "text/plain": [
       "<Figure size 1080x1080 with 1 Axes>"
      ]
     },
     "metadata": {
      "needs_background": "light"
     },
     "output_type": "display_data"
    }
   ],
   "source": [
    "plt.figure(figsize=(15,15))\n",
    "edge_labels = nx.get_edge_attributes(G,'label')\n",
    "\n",
    "#pos = nx.spring_layout(G, iterations=50, k=50) \n",
    "#pos = nx.spring_layout(G)\n",
    "#pos = nx.random_layout(G)\n",
    "pos = nx.circular_layout(G)\n",
    "#pos = nx.spectral_layout(G)\n",
    "#pos = nx.shell_layout(G, scale=1)\n",
    "\n",
    "nodeColors = nx.get_node_attributes(G,'color')\n",
    "\n",
    "nx.draw_networkx_edge_labels(G,pos, edge_labels = edge_labels, font_size=10, font_color='blue')\n",
    "\n",
    "#nx.draw_networkx_nodes(G, pos, node_color=nodeColors.values())\n",
    "\n",
    "nx.draw_networkx(G, pos, with_labels=True, node_size = listOfNodeSizes, node_color='c', alpha= 1, arrows=True, \n",
    "                    linewidths=1, font_color=\"black\", font_size=10, style = 'dashed')\n",
    "\n",
    "plt.axis('off')\n",
    "plt.tight_layout()\n",
    "plt.show()"
   ]
  },
  {
   "cell_type": "code",
   "execution_count": 294,
   "metadata": {},
   "outputs": [],
   "source": [
    "filename = \"..\\\\docs\\\\\"+taxon+country+\".html\"\n",
    "with open(filename, \"w\") as file:\n",
    "    file.write(\" \\\n",
    "<!DOCTYPE html> \\\n",
    "<html> \\\n",
    "<head> \\\n",
    "<script src='../../../GitHub\\cytoscape.js\\dist\\cytoscape.min.js'></script> \\\n",
    "<script src='https://unpkg.com/layout-base/layout-base.js'></script> \\\n",
    "<script src='https://unpkg.com/cose-base/cose-base.js'></script> \\\n",
    "<script src='../../../GitHub\\cytoscape.js-cose-bilkent\\cytoscape-cose-bilkent.js'></script> \\\n",
    "</head> \\\n",
    "<style>#cy {width: 90%; height: 90%; position: absolute; top: 50px; left: 150px;}\\\n",
    "body {font-family: 'times; font-size: 6px;}\\\n",
    "</style> \\\n",
    "<body> \\\n",
    "<h1><em font-style: italic;>\"+taxon+\"</em> in \"+country+\"</h1>\")"
   ]
  },
  {
   "cell_type": "markdown",
   "metadata": {},
   "source": [
    "### Write out the details of the species"
   ]
  },
  {
   "cell_type": "code",
   "execution_count": 295,
   "metadata": {},
   "outputs": [],
   "source": [
    "with open(filename, \"a\") as file:\n",
    "    if len(G.nodes)==0:\n",
    "        file.write(\"<p>No interacting species have been found for \"+taxon+\" in \"+country+\".<br />\") \n",
    "    else:\n",
    "        file.write(\"<p>Nodes can be moved and if clicked on open a tab with species details<br />\") \n",
    "        file.write(\"<p>The target species is red node. <em>Plantae</em> are green, <em>Animalia</em> are blue and everything else is brown<br />\") \n",
    "        file.write(\"<p>Node area is proportional to the 1 km<sup>2</sup> occupancy<br />\") \n",
    "    file.write(\"<p>All <a href='https://www.globalbioticinteractions.org/'>GloBI</a> interaction records that <em>\"+taxon+\"</em> has with other taxa</p>\")\n",
    "    "
   ]
  },
  {
   "cell_type": "code",
   "execution_count": 296,
   "metadata": {},
   "outputs": [],
   "source": [
    "species = G.nodes\n",
    "#with open(filename, \"a\") as file:\n",
    "#    for n in species:\n",
    "#        file.write(\"<tr><td><a target='_blank' href=https://www.gbif.org/species/\"+str(nx.get_node_attributes(G, 'gbifkey')[n])+\">\"+n+\"</a></td><td>\"+str(dictOfNodeSizes[n])+\"</td>\\n\")"
   ]
  },
  {
   "cell_type": "code",
   "execution_count": 297,
   "metadata": {},
   "outputs": [],
   "source": [
    "with open(filename, \"a\") as file: \n",
    "    if len(sourceInteractions) != 0:\n",
    "        file.write(\"<table><th>Interaction</th><th>number</th>\")\n",
    "        for n in sourceInteractions:\n",
    "            file.write(\"<tr><td><a target='_blank' href=https://www.globalbioticinteractions.org/?interactionType=\"+str(n[0])+\"&sourceTaxon=\"+taxon.replace(\" \", \"%20\")+\">\"+str(n[0])+\"</a></td><td>\"+str(n[1])+\"</td>\\n\")\n",
    "        file.write(\"</table>\") \n",
    "    if len(targetInteractions) != 0:\n",
    "        file.write(\"<p>All <a href='https://www.globalbioticinteractions.org/'>GloBI</a> interaction records that other taxa have with <em>\"+taxon+\"</em></p>\")\n",
    "        file.write(\"<table><th>Interaction</th><th>number</th>\")\n",
    "        for n in targetInteractions:\n",
    "            file.write(\"<tr><td><a target='_blank' href=https://www.globalbioticinteractions.org/?interactionType=\"+str(n[0])+\"&targetTaxon=\"+taxon.replace(\" \", \"%20\")+\">\"+str(n[0])+\"</a></td><td>\"+str(n[1])+\"</td>\\n\") \n",
    "        file.write(\"</table>\")  "
   ]
  },
  {
   "cell_type": "code",
   "execution_count": 298,
   "metadata": {},
   "outputs": [],
   "source": [
    "file.close()"
   ]
  },
  {
   "cell_type": "code",
   "execution_count": 299,
   "metadata": {},
   "outputs": [],
   "source": [
    "with open(filename, \"a\") as file:\n",
    "    file.write(\" \\\n",
    "<div id='cy'></div> \\\n",
    "<script> \\\n",
    "var cy = cytoscape({ \\\n",
    "  container: document.getElementById('cy'), \\n \\\n",
    "  elements: [ \\\n",
    "\")"
   ]
  },
  {
   "cell_type": "markdown",
   "metadata": {},
   "source": [
    "### Write nodes to file"
   ]
  },
  {
   "cell_type": "code",
   "execution_count": 300,
   "metadata": {},
   "outputs": [],
   "source": [
    "file = open(filename, \"a\")\n",
    "for n in species:\n",
    "    if n == taxon:\n",
    "        file.write(\"{ data: { id: '\"+n+\"', href: 'https://www.gbif.org/species/\"+str(nx.get_node_attributes(G, 'gbifkey')[n])+\"', occnum: \"+str(dictOfNodeSizes[n])+\" }, selectable: true,},\\n\")\n",
    "    else:\n",
    "        file.write(\"{ data: { id: '\"+n+\"', kingdom: '\"+kingdom[n]+\"', href: 'https://www.gbif.org/species/\"+str(nx.get_node_attributes(G, 'gbifkey')[n])+\"', occnum: \"+str(dictOfNodeSizes[n])+\" }, selectable: false,},\\n\")\n",
    "file.close()"
   ]
  },
  {
   "cell_type": "markdown",
   "metadata": {},
   "source": [
    "### Write edges to file"
   ]
  },
  {
   "cell_type": "code",
   "execution_count": 301,
   "metadata": {},
   "outputs": [],
   "source": [
    "file = open(filename, \"a\")\n",
    "for edge in G.edges:\n",
    "    file.write(\"{data: {id: '\"+edge[0]+edge[1]+\"', source: '\"+edge[0]+\"', target: '\"+edge[1]+\"', href: 'https://www.globalbioticinteractions.org/?interactionType=\"+str(nx.get_edge_attributes(G, 'label')[edge])+\"&sourceTaxon=\"+edge[0]+\"&targetTaxon=\"+edge[1]+\"', label: '\"+nx.get_edge_attributes(G, 'label')[edge]+\"'}},\\n\")\n",
    "file.close()\n",
    "    "
   ]
  },
  {
   "cell_type": "code",
   "execution_count": 302,
   "metadata": {},
   "outputs": [],
   "source": [
    "with open(filename, \"a\") as file:\n",
    "    file.write(\"], \\\n",
    "style: [ \\n\\\n",
    "        { \\n\\\n",
    "            selector: 'node', \\n\\\n",
    "            style: { \\n\\\n",
    "                shape: 'circle', \\n\\\n",
    "                'background-color': 'yellow', \\n\\\n",
    "                label: 'data(id)', \\n\\\n",
    "                'text-valign': 'center', \\n\\\n",
    "                'font-family': 'helvetica', \\n\\\n",
    "                'font-style': 'italic', \\n\\\n",
    "                'font-size': '8px', \\n\\\n",
    "                'border-width': '0.5', \\n\\\n",
    "                'border-color': 'black', \\n\\\n",
    "                'width': 'mapData(occnum, 0, 400, 3, 200)', \\n\\\n",
    "                'height': 'mapData(occnum, 0, 400, 3, 200)' \\n\\\n",
    "            } \\n\\\n",
    "        },  \\n\\\n",
    "        {  \\n\\\n",
    "            selector: 'edge',  \\n\\\n",
    "            style: {  \\n\\\n",
    "                label: 'data(label)', \\n\\\n",
    "                'font-family': 'helvetica', \\n\\\n",
    "                'font-size': '6px', \\n\\\n",
    "                'color': 'blue', \\n\\\n",
    "                'curve-style': 'bezier', \\n\\\n",
    "                'target-arrow-shape': 'triangle',  \\n\\\n",
    "                'width': '1' \\n\\\n",
    "                } \\n\\\n",
    "         },  \\n\\\n",
    "         {  \\n\\\n",
    "              selector: '[kingdom = \\\"Plantae\\\"]',   \\n\\\n",
    "              css: {  \\n\\\n",
    "                'background-color': 'lightgreen'  \\n\\\n",
    "                 }  \\n\\\n",
    "        }, \\n\\\n",
    "        {  \\n\\\n",
    "              selector: '[kingdom = \\\"Animalia\\\"]',   \\n\\\n",
    "              css: {  \\n\\\n",
    "                'background-color': 'lightblue'  \\n\\\n",
    "                 }  \\n\\\n",
    "        }, \\n\\\n",
    "        {  \\n\\\n",
    "              selector: ':selected',   \\n\\\n",
    "              css: {  \\n\\\n",
    "                'line-color': 'red',  \\n\\\n",
    "                'shape': 'square',  \\n\\\n",
    "                'background-color': 'red'  \\n\\\n",
    "                 }  \\n\\\n",
    "        }], \\n\\\n",
    "layout:  { \\n\\\n",
    "            name: 'cose-bilkent', padding: 1, animate: true, gravity: 30, animationDuration: 3000 \\n\\\n",
    "     } \\n\\\n",
    "} \\n\\\n",
    "); \\n\\\n",
    "\")"
   ]
  },
  {
   "cell_type": "code",
   "execution_count": 303,
   "metadata": {},
   "outputs": [],
   "source": [
    "with open(filename, \"a\") as file:\n",
    "    file.write(\"cy.userZoomingEnabled( true ); \\n\\\n",
    "    cy.getElementById('\"+taxon+\"').select(); \\n\\\n",
    "    document.write('<br />Degree of node <em>\"+fullScientificName+\"</em> = '+cy.getElementById('\"+taxon+\"').degree()); \\n\\\n",
    "    cy.on('tap', 'node', function(){ \\n\\\n",
    "        try { // your browser may block popups \\n\\\n",
    "              window.open( this.data('href') ); \\n\\\n",
    "            } catch(e){ // fall back on url change \\n\\\n",
    "        window.location.href = this.data('href'); \\n\\\n",
    "    } \\n\\\n",
    "}); \\n\\\n",
    "    cy.on('tap', 'edge', function(){  \\n\\\n",
    "        try { // your browser may block popups  \\n\\\n",
    "              window.open( this.data('href') );  \\n\\\n",
    "            } catch(e){ // fall back on url change  \\n\\\n",
    "        window.location.href = this.data('href'); \\n\\\n",
    "    } \\n\\\n",
    "}); \\n\\\n",
    "</script> \\n\\\n",
    "\")"
   ]
  },
  {
   "cell_type": "code",
   "execution_count": 304,
   "metadata": {},
   "outputs": [],
   "source": [
    "with open(filename, \"a\") as file:\n",
    "    file.write(\"</ul> \\\n",
    "        </body> \\\n",
    "        </html>\")"
   ]
  },
  {
   "cell_type": "code",
   "execution_count": 305,
   "metadata": {},
   "outputs": [],
   "source": [
    "file.close()"
   ]
  },
  {
   "cell_type": "code",
   "execution_count": 306,
   "metadata": {},
   "outputs": [],
   "source": [
    "#with open(filename, \"a\") as file:\n",
    "#    file.write(\"<h2>References</h2><ul>\\n\")"
   ]
  },
  {
   "cell_type": "code",
   "execution_count": 307,
   "metadata": {},
   "outputs": [
    {
     "name": "stdout",
     "output_type": "stream",
     "text": [
      "*  Food Webs and Species Interactions in the Biodiversity of UK and Ireland (Online). 2017. Data provided by Malcolm Storey. Also available from http://bioinfo.org.uk.\n",
      "*  Stephens, P. R., Pappalardo, P. , Huang, S. , Byers, J. E., Farrell, M. J., Gehman, A. , Ghai, R. R., Haas, S. E., Han, B. , Park, A. W., Schmidt, J. P., Altizer, S. , Ezenwa, V. O. and Nunn, C. L. (2017), Global Mammal Parasite Database version 2.0. Ecology, 98: 1476-1476. doi:10.1002/ecy.1799\n",
      "*  Ed Baker; Ian J. Kitching; George W. Beccaloni; Amoret Whitaker et al. (2016). Dataset: NHM Interactions Bank. Natural History Museum Data Portal (data.nhm.ac.uk). https://doi.org/10.5519/0060767\n",
      "*  Sarah E Miller. 06/17/2015. Durden, Lance A., and Guy A. Musser. The Sucking Lice (Insecta, Anoplura) of the World : A Taxonomic Checklist with Records of Mammalian Hosts and Geographical Distributions. Bulletin of the AMNH ; No. 218. New York: American Museum of Natural History, 1994. Web.\n",
      "*  Sarah E Miller. 4/18/2016. Species associations from Wardeh, M. et al. Database of host-pathogen and related species interactions, and their global distribution. Sci. Data 2:150049 doi: 10.1038/sdata.2015.49 (2015)\n",
      "*  Mihara, T., Nishimura, Y., Shimizu, Y., Nishiyama, H., Yoshikawa, G., Uehara, H., Hingamp, P., Goto, S., and Ogata, H.; Linking virus genomes with host taxonomy. Viruses 8, 66 doi:10.3390/v8030066 (2016).\n",
      "*  Species Interactions of Australia Database (SIAD): Helping us to understand species interactions in Australia and beyond. http://www.discoverlife.org/siad/ .\n",
      "*  Sarah E Miller. 9/19/2017. Species associations manually extracted from Benesh, D. P., Lafferty, K. D. and Kuris, A. (2017), A life cycle database for parasitic acanthocephalans, cestodes, and nematodes. Ecology, 98: 882. doi:10.1002/ecy.1680\n",
      "*  National Museum of Natural History, Smithsonian Institution IPT RSS Feed\n",
      "*  http://invertebrates.si.edu/parasites.htm\n",
      "*  http://iNaturalist.org is a place where you can record what you see in nature, meet other nature lovers, and learn about the natural world.\n",
      "*  Vanderweyen, A., & Fraiture, A. (2009). Catalogue des Uredinales de Belgique, 1re partie, Chaconiaceae, Coleosporiaceae, Cronartiaceae, Melampsoraceae, Phragmidiaceae, Pucciniastraceae, Raveneliaceae et Uropyxidaceae. Lejeunia, Revue de Botanique|Vanderweyen, A., & Fraiture, A. (2009). Catalogue des Uredinales de Belgique, 2ème partie, Pucciniaceae (sauf Puccinia)(suite 2). Lejeunia, Revue de Botanique.|Vanderweyen, A., & Fraiture, A. (2012). CATALOGUE DES UREDINALES DE Belgique 3ème partie Pucciniaceae (genre Puccinia). Lejeunia, Revue de Botanique.\n",
      "*  Vanderweyen A, Fraiture A, Groom Q, Desmet P, Reyserhove L (2019). Catalogue of the Rust Fungi of Belgium. Botanic Garden Meise.\n",
      "*  Ferrer-Paris, José R.; Sánchez-Mercado, Ada Y.; Lozano, Cecilia; Zambrano, Liset; Soto, José; Baettig, Jessica; Leal, María (2014): A compilation of larval host-plant records for six families of butterflies (Lepidoptera: Papilionoidea) from available electronic resources. figshare. http://dx.doi.org/10.6084/m9.figshare.1168861\n",
      "*  https://mangal.io - the ecological interaction database.\n",
      "*  Allen Hurlbert. 2017. Avian Diet Database.\n",
      "*  Quentin J. Groom. 2020. Species interactions of species on the List of invasive alien species of Union concern\n"
     ]
    }
   ],
   "source": [
    "citations = cleanInteractDataTaxon['sourceCitation'].unique()\n",
    "#file = open(filename, \"a\")\n",
    "for ref in citations:\n",
    "    print(\"* \",str(ref))\n",
    "#    file.write(\"<li>\"+str(ref)+\"</li>\\n\")\n",
    "#file.close()"
   ]
  },
  {
   "cell_type": "markdown",
   "metadata": {},
   "source": [
    "### For import into Gephi: A nodes and edges file has been replace by the .dot file format"
   ]
  },
  {
   "cell_type": "code",
   "execution_count": 308,
   "metadata": {},
   "outputs": [],
   "source": [
    "write_dot(G, \"..\\\\docs\\\\\"+taxon+\".dot\")"
   ]
  },
  {
   "cell_type": "code",
   "execution_count": null,
   "metadata": {},
   "outputs": [],
   "source": []
  }
 ],
 "metadata": {
  "kernelspec": {
   "display_name": "Python 3",
   "language": "python",
   "name": "python3"
  },
  "language_info": {
   "codemirror_mode": {
    "name": "ipython",
    "version": 3
   },
   "file_extension": ".py",
   "mimetype": "text/x-python",
   "name": "python",
   "nbconvert_exporter": "python",
   "pygments_lexer": "ipython3",
   "version": "3.7.3"
  }
 },
 "nbformat": 4,
 "nbformat_minor": 2
}
