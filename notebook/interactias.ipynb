{
 "cells": [
  {
   "cell_type": "markdown",
   "metadata": {},
   "source": [
    "# Interactias Geo Selected Network\n",
    "\n",
    "One way of examining the impact of invasive species is to look at all their interactions and the interations those organisms have with each other. This full interaction network gives you an indication of whether a species might be a \"keystone\" species and therefore have a disproportionatly large impact.\n",
    "\n",
    "In this step of the evolution of this script it will be adapted to quantify species by their occupancy.\n",
    "\n",
    "I will harvest species interactions data from GloBI (https://www.globalbioticinteractions.org/) to discover the species that interact with an invasive species.\n",
    "I will then harvest all the interactions for those species to create two tiers of interactions.\n",
    "I will then count all the occurences of these in species in the Belgian datacube.\n",
    "I will then visualize this.\n",
    "\n",
    "This notebook takes considerable insperation and code from Yikang Li's project on GloBI (https://curiositydata.org/part1_globi_access/).\n",
    "\n",
    "\n",
    "### For information: This is the list of invasive alien species of Union concern\n",
    "|A|H|O|\n",
    "|--|--|--|\n",
    "|Acacia saligna|Heracleum sosnowskyi|Orconectes virilis|\n",
    "|Acridotheres tristis|Herpestes javanicus|Oxyura jamaicensis|\n",
    "|Ailanthus altissima|Humulus scandens|Pacifastacus leniusculus|\n",
    "|Alopochen aegyptiaca|Hydrocotyle ranunculoides|Parthenium hysterophorus|\n",
    "|Alternanthera philoxeroides|Impatiens glandulifera|Pennisetum setaceum|\n",
    "|Andropogon virginicus|Lagarosiphon major|Perccottus glenii|\n",
    "|Arthurdendyus triangulatus|Lepomis gibbosus|Persicaria perfoliata|\n",
    "|Asclepias syriaca|Lespedeza cuneata|Plotosus lineatus|\n",
    "|Baccharis halimifolia|Lithobates catesbeianus|Procambarus clarkii|\n",
    "|Cabomba caroliniana|Ludwigia grandiflora|Procambarus fallax|\n",
    "|Callosciurus erythraeus|Ludwigia peploides|Procyon lotor|\n",
    "|Cardiospermum grandiflorum|Lygodium japonicum|Prosopis juliflora|\n",
    "|Cortaderia jubata|Lysichiton americanus|Pseudorasbora parva|\n",
    "|Corvus splendens|Microstegium vimineum|Pueraria montana|\n",
    "|Ehrharta calycina|Muntiacus reevesi|Salvinia molesta|\n",
    "|Eichhornia crassipes|Myocastor coypus|Sciurus carolinensis|\n",
    "|Elodea nuttallii|Myriophyllum aquaticum|Sciurus niger|\n",
    "|Eriocheir sinensis|Myriophyllum heterophyllum|Tamias sibiricus|\n",
    "|Gunnera tinctoria|Nasua nasua|Threskiornis aethiopicus|\n",
    "|Gymnocoronis spilanthoides|Nyctereutes procyonoides|Trachemys scripta|\n",
    "|Heracleum mantegazzianum|Ondatra zibethicus|Triadica sebifera|\n",
    "|Heracleum persicum|Orconectes limosus|Vespa velutina|"
   ]
  },
  {
   "cell_type": "code",
   "execution_count": 309,
   "metadata": {},
   "outputs": [
    {
     "name": "stdout",
     "output_type": "stream",
     "text": [
      "3.7.3 (default, Mar 27 2019, 17:13:21) [MSC v.1915 64 bit (AMD64)]\n"
     ]
    }
   ],
   "source": [
    "import sys\n",
    "print(sys.version)\n",
    "\n",
    "#Python 3.7.4 (default, Aug 9 2019, 18:34:13) [MSC v.1915 64 bit (AMD64)]\n",
    "#pygbif 0.3.0"
   ]
  },
  {
   "cell_type": "code",
   "execution_count": 310,
   "metadata": {
    "scrolled": true
   },
   "outputs": [],
   "source": [
    "import pandas as pd\n",
    "import re\n",
    "import matplotlib.pyplot as plt\n",
    "from pygbif import species\n",
    "from pygbif import occurrences as occ\n",
    "import sqlite3\n",
    "from sqlite3 import Error\n",
    "import pydot\n",
    "import math"
   ]
  },
  {
   "cell_type": "markdown",
   "metadata": {},
   "source": [
    "### Setting up some parameters"
   ]
  },
  {
   "cell_type": "code",
   "execution_count": 311,
   "metadata": {},
   "outputs": [],
   "source": [
    "# There is no point accepting all the species that have more than one record.\n",
    "# There are too many casual records of plants and birds\n",
    "thresholdForOccNum = 5\n",
    "# If you want to exclude an interaction add it here\n",
    "#interactionsToExclude = \"visitsFlowersOf\" #If you're not intersted in pollinators this will remove most of them\n",
    "interactionsToExclude = \"interactsWith\"    #Many interactions in GloBI do not specify a specific interaction. You can get a cleaner netwot by excluding them\n",
    "#interactionsToExclude = \"\""
   ]
  },
  {
   "cell_type": "code",
   "execution_count": 312,
   "metadata": {},
   "outputs": [],
   "source": [
    "\n",
    "## Define the country of interest\n",
    "country  = 'Belgium'\n",
    "\n",
    "## The occurrence cube has data for each year, but here we aggreagate years to get a more complete measure of occupancy.\n",
    "## This parameter defines the year from where to consider records for the occupancy\n",
    "year = 2000\n",
    "\n",
    "## Define the place to find the data cube for occupancy data\n",
    "## Currently the cube contains only Belgian data so that is all that can be used\n",
    "database = r\"..\\..\\data\\cube.db\" \n",
    "\n",
    "## Define the place to find the interaction data\n",
    "globiDB = r\"..\\..\\createGlobiDB\\globi.db\""
   ]
  },
  {
   "cell_type": "markdown",
   "metadata": {},
   "source": [
    "### Define the taxon for the notebook for which to find all interactions\n"
   ]
  },
  {
   "cell_type": "code",
   "execution_count": 313,
   "metadata": {},
   "outputs": [
    {
     "name": "stdout",
     "output_type": "stream",
     "text": [
      "Callosciurus erythraeus\n"
     ]
    }
   ],
   "source": [
    "taxon=input()"
   ]
  },
  {
   "cell_type": "code",
   "execution_count": 314,
   "metadata": {},
   "outputs": [],
   "source": [
    "taxon = taxon.strip()"
   ]
  },
  {
   "cell_type": "markdown",
   "metadata": {},
   "source": [
    "## Check to see if the taxon exits in GBIF"
   ]
  },
  {
   "cell_type": "code",
   "execution_count": 315,
   "metadata": {},
   "outputs": [],
   "source": [
    "try:\n",
    "    #NOTE: The function method name_suggest has a different behavior with regards to the gender of Latin names to name_backbone\n",
    "    # If name_backbone is given a name in one gender it can still return the best match from the GBIF backbone if that\n",
    "    # name is spelled as if it was another gender.\n",
    "    #key = species.name_suggest(q=taxon, limit = 1)\n",
    "    match = species.name_backbone(name=taxon, limit = 1)\n",
    "    #print(key)\n",
    "    \n",
    "    # if there is no match this is returned form .name_backbone {'confidence': 100, 'matchType': 'NONE', 'synonym': False}\n",
    "    if match['matchType'] == 'NONE':\n",
    "        raise ValueError(\"TAXON NOT FOUND ON GBIF!\")\n",
    "    else:\n",
    "        key = match['usageKey']\n",
    "except ValueError as ve:\n",
    "    print(ve)\n",
    "    exit(1)\n",
    "\n",
    "\n"
   ]
  },
  {
   "cell_type": "code",
   "execution_count": 316,
   "metadata": {},
   "outputs": [
    {
     "name": "stdout",
     "output_type": "stream",
     "text": [
      "The taxon to be studied is Callosciurus erythraeus (Pallas, 1779)\n"
     ]
    }
   ],
   "source": [
    "fullScientificName = match['scientificName']\n",
    "print('The taxon to be studied is ' + fullScientificName)\n"
   ]
  },
  {
   "cell_type": "markdown",
   "metadata": {},
   "source": [
    "### Just for information take a look at the interactions that the taxon has"
   ]
  },
  {
   "cell_type": "code",
   "execution_count": 317,
   "metadata": {},
   "outputs": [],
   "source": [
    "# What are all the types of interactions involving taxon as source taxon?\n",
    "#data[data['sourceTaxonName'] == taxon]['interactionTypeName'].unique()\n",
    "try:\n",
    "    connGlobi = sqlite3.connect(globiDB)\n",
    "except Error as e:\n",
    "    print(e)"
   ]
  },
  {
   "cell_type": "code",
   "execution_count": 318,
   "metadata": {},
   "outputs": [],
   "source": [
    "curGlobi = connGlobi.cursor()\n",
    "curGlobi.execute(\"SELECT interactionTypeName, COUNT(interactionTypeName) from globi  WHERE sourceTaxonSpeciesName = ? GROUP BY interactionTypeName;\", (taxon,))\n",
    "sourceInteractions = curGlobi.fetchall()"
   ]
  },
  {
   "cell_type": "code",
   "execution_count": 319,
   "metadata": {},
   "outputs": [
    {
     "data": {
      "text/plain": [
       "[('eats', 3), ('interactsWith', 3)]"
      ]
     },
     "execution_count": 319,
     "metadata": {},
     "output_type": "execute_result"
    }
   ],
   "source": [
    "sourceInteractions"
   ]
  },
  {
   "cell_type": "code",
   "execution_count": 320,
   "metadata": {},
   "outputs": [
    {
     "data": {
      "text/plain": [
       "[('ectoparasiteOf', 4),\n",
       " ('hasHost', 115),\n",
       " ('parasiteOf', 35),\n",
       " ('pathogenOf', 1),\n",
       " ('preysOn', 1)]"
      ]
     },
     "execution_count": 320,
     "metadata": {},
     "output_type": "execute_result"
    }
   ],
   "source": [
    "curGlobi = connGlobi.cursor()\n",
    "curGlobi.execute(\"SELECT interactionTypeName, COUNT(interactionTypeName) from globi  WHERE targetTaxonSpeciesName = ? GROUP BY interactionTypeName;\", (taxon,))\n",
    "targetInteractions = curGlobi.fetchall()\n",
    "targetInteractions"
   ]
  },
  {
   "cell_type": "markdown",
   "metadata": {},
   "source": [
    "## Get the primary interation data for the species in question\n",
    "\n",
    "This is limited to the rank of species because otherwise the network can get very large with rather irrelivent higher taxa.\n",
    "However, if no interactions are found at the species level it might be worth removing this restriction."
   ]
  },
  {
   "cell_type": "code",
   "execution_count": 321,
   "metadata": {},
   "outputs": [],
   "source": [
    "curGlobi = connGlobi.cursor()\n",
    "#curGlobi.execute(\"SELECT * from globi  WHERE targetTaxonName = ? and interactionTypeName NOT IN (?);\", \\\n",
    "if interactionsToExclude == \"\":\n",
    "    curGlobi.execute(\"SELECT * from globi  WHERE targetTaxonSpeciesName = ?;\", \\\n",
    "                 (taxon,))\n",
    "else:\n",
    "    curGlobi.execute(\"SELECT * from globi  WHERE targetTaxonSpeciesName = ? and interactionTypeName NOT IN (?);\", \\\n",
    "                 (taxon,interactionsToExclude,))\n",
    "interactDataTaxon = curGlobi.fetchall()"
   ]
  },
  {
   "cell_type": "code",
   "execution_count": 322,
   "metadata": {},
   "outputs": [],
   "source": [
    "curGlobi = connGlobi.cursor()\n",
    "#curGlobi.execute(\"SELECT * from globi  WHERE sourceTaxonName = ? and interactionTypeName NOT IN (?);\", \\\n",
    "if interactionsToExclude == \"\":\n",
    "    curGlobi.execute(\"SELECT * from globi  WHERE sourceTaxonSpeciesName = ?;\", \\\n",
    "                 (taxon,))\n",
    "else:\n",
    "    curGlobi.execute(\"SELECT * from globi  WHERE sourceTaxonSpeciesName = ? and interactionTypeName NOT IN (?);\", \\\n",
    "                 (taxon,interactionsToExclude,))\n",
    "sources = curGlobi.fetchall()"
   ]
  },
  {
   "cell_type": "code",
   "execution_count": 323,
   "metadata": {},
   "outputs": [
    {
     "data": {
      "text/plain": [
       "159"
      ]
     },
     "execution_count": 323,
     "metadata": {},
     "output_type": "execute_result"
    }
   ],
   "source": [
    "interactDataTaxon.extend(sources)\n",
    "len(interactDataTaxon)"
   ]
  },
  {
   "cell_type": "code",
   "execution_count": 324,
   "metadata": {},
   "outputs": [],
   "source": [
    "# Convert to a Pandas dataframe\n",
    "interactDataTaxon = pd.DataFrame(interactDataTaxon)"
   ]
  },
  {
   "cell_type": "code",
   "execution_count": 325,
   "metadata": {},
   "outputs": [],
   "source": [
    "# Add column names\n",
    "interactDataTaxon\n",
    "interactDataTaxon.columns = ['sourceTaxonId', \\\n",
    "                                'sourceTaxonIds','sourceTaxonName','sourceTaxonRank','sourceTaxonPathNames', \\\n",
    "                                'sourceTaxonPathIds','sourceTaxonPathRankNames','sourceTaxonSpeciesName','sourceTaxonSpeciesId',\\\n",
    "                                'sourceTaxonGenusName','sourceTaxonGenusId','sourceTaxonFamilyName','sourceTaxonFamilyId',\\\n",
    "                                'sourceTaxonOrderName','sourceTaxonOrderId','sourceTaxonClassName','sourceTaxonClassId',\\\n",
    "                                'sourceTaxonPhylumName','sourceTaxonPhylumId','sourceTaxonKingdomName','sourceTaxonKingdomId',\\\n",
    "                                'sourceId','sourceOccurrenceId','sourceCatalogNumber','sourceBasisOfRecordId',\\\n",
    "                                'sourceBasisOfRecordName','sourceLifeStageId','sourceLifeStageName','sourceBodyPartId',\\\n",
    "                                'sourceBodyPartName','sourcePhysiologicalStateId','sourcePhysiologicalStateName', \\\n",
    "                                'sourceSexId', 'sourceSexName','interactionTypeName',\\\n",
    "                                'interactionTypeId','targetTaxonId','targetTaxonIds','targetTaxonName',\\\n",
    "                                'targetTaxonRank','targetTaxonPathNames','targetTaxonPathIds','targetTaxonPathRankNames',\\\n",
    "                                'targetTaxonSpeciesName','targetTaxonSpeciesId','targetTaxonGenusName','targetTaxonGenusId',\\\n",
    "                                'targetTaxonFamilyName','targetTaxonFamilyId','targetTaxonOrderName','targetTaxonOrderId',\\\n",
    "                                'targetTaxonClassName','targetTaxonClassId','targetTaxonPhylumName','targetTaxonPhylumId',\\\n",
    "                                'targetTaxonKingdomName','targetTaxonKingdomId','targetId','targetOccurrenceId',\\\n",
    "                                'targetCatalogNumber','targetBasisOfRecordId','targetBasisOfRecordName','targetLifeStageId',\\\n",
    "                                'targetLifeStageName','targetBodyPartId','targetBodyPartName','targetPhysiologicalStateId',\\\n",
    "                                'targetPhysiologicalStateName', 'targetSexId', 'targetSexName',\\\n",
    "                                'decimalLatitude','decimalLongitude','localityId',\\\n",
    "                                'localityName','eventDateUnixEpoch','argumentTypeId','referenceCitation',\\\n",
    "                                'referenceDoi','referenceUrl','sourceCitation','sourceNamespace',\\\n",
    "                                'sourceArchiveURI','sourceDOI','sourceLastSeenAtUnixEpoch']"
   ]
  },
  {
   "cell_type": "markdown",
   "metadata": {},
   "source": [
    "## Get a list of all the primary interacting species"
   ]
  },
  {
   "cell_type": "code",
   "execution_count": 326,
   "metadata": {},
   "outputs": [],
   "source": [
    "interactingTaxaData = interactDataTaxon.drop_duplicates()"
   ]
  },
  {
   "cell_type": "code",
   "execution_count": 327,
   "metadata": {},
   "outputs": [
    {
     "data": {
      "text/plain": [
       "38"
      ]
     },
     "execution_count": 327,
     "metadata": {},
     "output_type": "execute_result"
    }
   ],
   "source": [
    "primaryInteractingTaxa = interactingTaxaData['sourceTaxonName'].drop_duplicates()\n",
    "len(primaryInteractingTaxa)"
   ]
  },
  {
   "cell_type": "code",
   "execution_count": 328,
   "metadata": {},
   "outputs": [
    {
     "data": {
      "text/plain": [
       "41"
      ]
     },
     "execution_count": 328,
     "metadata": {},
     "output_type": "execute_result"
    }
   ],
   "source": [
    "primaryInteractingTaxa = (primaryInteractingTaxa.append(interactingTaxaData['targetTaxonName']).drop_duplicates())\n",
    "len(primaryInteractingTaxa)"
   ]
  },
  {
   "cell_type": "code",
   "execution_count": 329,
   "metadata": {},
   "outputs": [
    {
     "data": {
      "text/plain": [
       "0                        Cyclovirus TsCyV-1_JP-NUBS-2014\n",
       "1                                           10257_CE475D\n",
       "4                                           10276_CE566D\n",
       "5                                           10239_CE449D\n",
       "8                                        Neohaematopinus\n",
       "9                                            Hoplopleura\n",
       "10                                        Enderleinellus\n",
       "12                                   Elaphe climacophora\n",
       "13                                                 Acari\n",
       "17                                          Protospirura\n",
       "19                                Brevistriata skrjabini\n",
       "21                              Calypsostrongylus ogdeni\n",
       "23     USNM | Invertebrate Zoology | 1365317.12019619...\n",
       "24     USNM | Invertebrate Zoology | 1365317 | http:/...\n",
       "25                                             Zonorchis\n",
       "31     USNM | Invertebrate Zoology | 1363213.12017515...\n",
       "32     USNM | Invertebrate Zoology | 1363213 | http:/...\n",
       "61     USNM | Invertebrate Zoology | 1358125.12012427...\n",
       "62     USNM | Invertebrate Zoology | 1358125 | http:/...\n",
       "73                                      Longistriata sp.\n",
       "75     USNM | Invertebrate Zoology | 1363212.12017514...\n",
       "76     USNM | Invertebrate Zoology | 1363212 | http:/...\n",
       "79     USNM | Invertebrate Zoology | 1358323.12012625...\n",
       "80     USNM | Invertebrate Zoology | 1358323 | http:/...\n",
       "81                                      Brevistriata sp.\n",
       "89                               Paragonimus westermanii\n",
       "97     USNM | Invertebrate Zoology | 1363173.12017475...\n",
       "98     USNM | Invertebrate Zoology | 1363173 | http:/...\n",
       "99     USNM | Invertebrate Zoology | 1363172.12017474...\n",
       "100    USNM | Invertebrate Zoology | 1363172 | http:/...\n",
       "103                                 Hymenolepis diminuta\n",
       "105                                         Longistriata\n",
       "109    USNM | Invertebrate Zoology | 1363256.12017558...\n",
       "110    USNM | Invertebrate Zoology | 1363256 | http:/...\n",
       "111    USNM | Invertebrate Zoology | 1363171.12017473...\n",
       "112    USNM | Invertebrate Zoology | 1363171 | http:/...\n",
       "156                 Callosciurus erythraeus thaiwanensis\n",
       "157                              Callosciurus erythraeus\n",
       "156                                Syzygium samarangense\n",
       "157                                          Pinus pinea\n",
       "158                                              Insecta\n",
       "dtype: object"
      ]
     },
     "execution_count": 329,
     "metadata": {},
     "output_type": "execute_result"
    }
   ],
   "source": [
    "primaryInteractingTaxa"
   ]
  },
  {
   "cell_type": "markdown",
   "metadata": {},
   "source": [
    "## A function to query the globi database"
   ]
  },
  {
   "cell_type": "code",
   "execution_count": 330,
   "metadata": {},
   "outputs": [],
   "source": [
    "def secondaryDataInGlobi(conn, intaxon):\n",
    "    cur = conn.cursor()\n",
    "    if interactionsToExclude == \"\":\n",
    "        cur.execute(\"SELECT * from globi  WHERE (targetTaxonSpeciesName = ? OR sourceTaxonSpeciesName = ?);\", \\\n",
    "                 (intaxon,intaxon,))\n",
    "    else:\n",
    "        cur.execute(\"SELECT * from globi where (targetTaxonSpeciesName = ? OR sourceTaxonSpeciesName = ?) and interactionTypeName NOT IN (?);\", \\\n",
    "                (intaxon,intaxon,interactionsToExclude,))\n",
    "    return(cur.fetchall())"
   ]
  },
  {
   "cell_type": "markdown",
   "metadata": {},
   "source": [
    "## Get all the secondary interactions"
   ]
  },
  {
   "cell_type": "code",
   "execution_count": 331,
   "metadata": {},
   "outputs": [],
   "source": [
    "try:\n",
    "    conn = sqlite3.connect(globiDB)\n",
    "except Error as e:\n",
    "    print(e)"
   ]
  },
  {
   "cell_type": "code",
   "execution_count": 332,
   "metadata": {},
   "outputs": [],
   "source": [
    "secondarylist = []\n",
    "\n",
    "for name in primaryInteractingTaxa:\n",
    "    temp = secondaryDataInGlobi(conn, name)\n",
    "    secondarylist.extend(temp)"
   ]
  },
  {
   "cell_type": "code",
   "execution_count": 333,
   "metadata": {},
   "outputs": [],
   "source": [
    "# Convert to a Pandas dataframe\n",
    "secondarylist = pd.DataFrame(secondarylist)"
   ]
  },
  {
   "cell_type": "code",
   "execution_count": 334,
   "metadata": {},
   "outputs": [],
   "source": [
    "secondarylist.columns = ['sourceTaxonId', \\\n",
    "                                'sourceTaxonIds','sourceTaxonName','sourceTaxonRank','sourceTaxonPathNames', \\\n",
    "                                'sourceTaxonPathIds','sourceTaxonPathRankNames','sourceTaxonSpeciesName','sourceTaxonSpeciesId',\\\n",
    "                                'sourceTaxonGenusName','sourceTaxonGenusId','sourceTaxonFamilyName','sourceTaxonFamilyId',\\\n",
    "                                'sourceTaxonOrderName','sourceTaxonOrderId','sourceTaxonClassName','sourceTaxonClassId',\\\n",
    "                                'sourceTaxonPhylumName','sourceTaxonPhylumId','sourceTaxonKingdomName','sourceTaxonKingdomId',\\\n",
    "                                'sourceId','sourceOccurrenceId','sourceCatalogNumber','sourceBasisOfRecordId',\\\n",
    "                                'sourceBasisOfRecordName','sourceLifeStageId','sourceLifeStageName','sourceBodyPartId',\\\n",
    "                                'sourceBodyPartName','sourcePhysiologicalStateId','sourcePhysiologicalStateName',\\\n",
    "                                'sourceSexId', 'sourceSexName', 'interactionTypeName',\\\n",
    "                                'interactionTypeId','targetTaxonId','targetTaxonIds','targetTaxonName',\\\n",
    "                                'targetTaxonRank','targetTaxonPathNames','targetTaxonPathIds','targetTaxonPathRankNames',\\\n",
    "                                'targetTaxonSpeciesName','targetTaxonSpeciesId','targetTaxonGenusName','targetTaxonGenusId',\\\n",
    "                                'targetTaxonFamilyName','targetTaxonFamilyId','targetTaxonOrderName','targetTaxonOrderId',\\\n",
    "                                'targetTaxonClassName','targetTaxonClassId','targetTaxonPhylumName','targetTaxonPhylumId',\\\n",
    "                                'targetTaxonKingdomName','targetTaxonKingdomId','targetId','targetOccurrenceId',\\\n",
    "                                'targetCatalogNumber','targetBasisOfRecordId','targetBasisOfRecordName','targetLifeStageId',\\\n",
    "                                'targetLifeStageName','targetBodyPartId','targetBodyPartName','targetPhysiologicalStateId',\\\n",
    "                                'targetPhysiologicalStateName', 'targetSexId', 'targetSexName', \\\n",
    "                                'decimalLatitude','decimalLongitude','localityId',\\\n",
    "                                'localityName','eventDateUnixEpoch','argumentTypeId','referenceCitation',\\\n",
    "                                'referenceDoi','referenceUrl','sourceCitation','sourceNamespace',\\\n",
    "                                'sourceArchiveURI','sourceDOI','sourceLastSeenAtUnixEpoch']"
   ]
  },
  {
   "cell_type": "code",
   "execution_count": 335,
   "metadata": {},
   "outputs": [],
   "source": [
    "allInteractionsData = interactingTaxaData.append(secondarylist)"
   ]
  },
  {
   "cell_type": "code",
   "execution_count": 336,
   "metadata": {},
   "outputs": [],
   "source": [
    "allInteractionsData = allInteractionsData.drop_duplicates()\n"
   ]
  },
  {
   "cell_type": "code",
   "execution_count": 337,
   "metadata": {},
   "outputs": [],
   "source": [
    "    cleanInteractDataTaxon = allInteractionsData[['sourceTaxonId', 'sourceTaxonName', 'sourceTaxonSpeciesName', 'sourceTaxonRank',\n",
    "        'sourceTaxonFamilyName', 'interactionTypeName',\n",
    "        'targetTaxonName','targetTaxonSpeciesName','targetTaxonRank', 'sourceCitation', 'sourceDOI',\n",
    "        'sourceTaxonKingdomName','sourceTaxonKingdomId', 'targetTaxonKingdomName','targetTaxonKingdomId'                                        \n",
    "        ]].dropna(subset=['targetTaxonSpeciesName','sourceTaxonSpeciesName'])"
   ]
  },
  {
   "cell_type": "code",
   "execution_count": 338,
   "metadata": {},
   "outputs": [],
   "source": [
    "allSourceInteractingTaxa = cleanInteractDataTaxon['sourceTaxonSpeciesName'].drop_duplicates()\n",
    "allTargetInteractingTaxa = cleanInteractDataTaxon['targetTaxonSpeciesName'].drop_duplicates()"
   ]
  },
  {
   "cell_type": "code",
   "execution_count": 339,
   "metadata": {},
   "outputs": [
    {
     "data": {
      "text/plain": [
       "110"
      ]
     },
     "execution_count": 339,
     "metadata": {},
     "output_type": "execute_result"
    }
   ],
   "source": [
    "allInteractingTaxa = allSourceInteractingTaxa.append(allTargetInteractingTaxa).drop_duplicates()\n",
    "allInteractingTaxa.count()"
   ]
  },
  {
   "cell_type": "code",
   "execution_count": 340,
   "metadata": {},
   "outputs": [
    {
     "data": {
      "text/plain": [
       "0              Squirrel associated cyclovirus 1\n",
       "1     Callosciurus erythraeus betaherpesvirus 1\n",
       "4    Callosciurus erythraeus gammaherpesvirus 1\n",
       "5        Callosciurus erythraeus polyomavirus 1\n",
       "8                                              \n",
       "dtype: object"
      ]
     },
     "execution_count": 340,
     "metadata": {},
     "output_type": "execute_result"
    }
   ],
   "source": [
    "allInteractingTaxa.head()"
   ]
  },
  {
   "cell_type": "code",
   "execution_count": 341,
   "metadata": {},
   "outputs": [
    {
     "data": {
      "text/plain": [
       "interactionTypeName\n",
       "hasHost           748\n",
       "parasiteOf        188\n",
       "eats               31\n",
       "endoparasiteOf     19\n",
       "preysOn             9\n",
       "ectoparasiteOf      3\n",
       "visits              2\n",
       "hasVector           2\n",
       "pathogenOf          1\n",
       "dtype: int64"
      ]
     },
     "execution_count": 341,
     "metadata": {},
     "output_type": "execute_result"
    }
   ],
   "source": [
    "# How many different sort of interaction do I have left?\n",
    "# Checking out all the interaction types\n",
    "cleanInteractDataTaxon.groupby(cleanInteractDataTaxon['interactionTypeName']).size().sort_values(ascending = False)"
   ]
  },
  {
   "cell_type": "markdown",
   "metadata": {},
   "source": [
    "### This function takes a name string and checks on GBIF to see if the name exists there."
   ]
  },
  {
   "cell_type": "code",
   "execution_count": 342,
   "metadata": {},
   "outputs": [],
   "source": [
    "def speciesExistsInGBIF(name, rank):\n",
    "    try:\n",
    "        match = species.name_backbone(name=name, rank=rank, limit = 1)\n",
    "\n",
    "        # if there is no match this is returned from .name_backbone {'confidence': 100, 'matchType': 'NONE', 'synonym': False}\n",
    "        if match['matchType'] == 'NONE':\n",
    "            return False\n",
    "        else:\n",
    "            return match\n",
    "    except ValueError as ve:\n",
    "        print(ve)\n",
    "        exit(1)"
   ]
  },
  {
   "cell_type": "markdown",
   "metadata": {},
   "source": [
    "### Check that the species in question is actually found on GBIF"
   ]
  },
  {
   "cell_type": "code",
   "execution_count": 343,
   "metadata": {},
   "outputs": [],
   "source": [
    "if(speciesExistsInGBIF(taxon, \"species\") == False):\n",
    "    print(\"##### {0} has not been found on GBIF #####\".format(taxon))"
   ]
  },
  {
   "cell_type": "markdown",
   "metadata": {},
   "source": [
    "### Citation for the GBIF Backbone Taxonomy"
   ]
  },
  {
   "cell_type": "code",
   "execution_count": 344,
   "metadata": {},
   "outputs": [
    {
     "name": "stdout",
     "output_type": "stream",
     "text": [
      "GBIF Secretariat (2019). GBIF Backbone Taxonomy. Checklist dataset https://doi.org/10.15468/39omei accessed via GBIF.org on  2020-07-23\n"
     ]
    }
   ],
   "source": [
    "from datetime import date\n",
    "print(\"GBIF Secretariat (2019). GBIF Backbone Taxonomy. Checklist dataset https://doi.org/10.15468/39omei accessed via GBIF.org on \", date.today())"
   ]
  },
  {
   "cell_type": "markdown",
   "metadata": {},
   "source": [
    "### Check to see which taxa in the interaction network are found in GBIF and list those ones that are not"
   ]
  },
  {
   "cell_type": "code",
   "execution_count": 345,
   "metadata": {},
   "outputs": [
    {
     "name": "stdout",
     "output_type": "stream",
     "text": [
      "Taxa from GLoBI, but not found in GBIF\n",
      "Callosciurus erythraeus betaherpesvirus 1\n",
      "Callosciurus erythraeus gammaherpesvirus 1\n",
      "Callosciurus erythraeus polyomavirus 1\n",
      "\n",
      "IN VITRO\n"
     ]
    }
   ],
   "source": [
    "taxaFound = {}\n",
    "kingdom = {}\n",
    "\n",
    "print('Taxa from GLoBI, but not found in GBIF')\n",
    "for name in allInteractingTaxa.items():\n",
    "    GBIFName = speciesExistsInGBIF(name[1], \"species\")\n",
    "    if GBIFName == False:\n",
    "        taxaFound[name[1]] = False\n",
    "        print(name[1])\n",
    "    else:\n",
    "        taxaFound[name[1]] = GBIFName['usageKey']\n",
    "        kingdom[name[1]] = GBIFName['kingdom']\n",
    "\n",
    "    "
   ]
  },
  {
   "cell_type": "code",
   "execution_count": 346,
   "metadata": {},
   "outputs": [],
   "source": [
    "# Convert to a Pandas dataframe\n",
    "taxaFound = pd.DataFrame.from_dict(taxaFound, orient='index')"
   ]
  },
  {
   "cell_type": "code",
   "execution_count": 347,
   "metadata": {},
   "outputs": [
    {
     "data": {
      "text/plain": [
       "110"
      ]
     },
     "execution_count": 347,
     "metadata": {},
     "output_type": "execute_result"
    }
   ],
   "source": [
    "len(taxaFound)"
   ]
  },
  {
   "cell_type": "code",
   "execution_count": 348,
   "metadata": {},
   "outputs": [
    {
     "data": {
      "text/plain": [
       "{'Squirrel associated cyclovirus 1': 'Viruses',\n",
       " 'Elaphe climacophora': 'Animalia',\n",
       " 'Brevistriata skrjabini': 'Animalia',\n",
       " 'Calypsostrongylus ogdeni': 'Animalia',\n",
       " 'Longistriata sp.': 'Animalia',\n",
       " 'Brevistriata sp.': 'Animalia',\n",
       " 'Paragonimus westermanii': 'Animalia',\n",
       " 'Hymenolepis diminuta': 'Animalia',\n",
       " 'Callosciurus erythraeus': 'Animalia',\n",
       " 'Elaphe quadrivirgata': 'Animalia',\n",
       " 'Kalicephalus sinensis': 'Animalia',\n",
       " 'Amblyomma testudinarium': 'Animalia',\n",
       " 'Pteropus lylei': 'Animalia',\n",
       " 'Eonycteris spelaea': 'Animalia',\n",
       " 'Pteropus dasymallus': 'Animalia',\n",
       " 'Anselmella malacia': 'Animalia',\n",
       " 'Acrocercops eugeniella': 'Animalia',\n",
       " 'Colletotrichum': 'Fungi',\n",
       " 'Lasiodiplodia theobromae': 'Fungi',\n",
       " 'Fusarium proliferatum': 'Fungi',\n",
       " 'Syzygium samarangense': 'Plantae',\n",
       " 'Lophodermium conigenum': 'Fungi',\n",
       " 'Cronartium flaccidum': 'Fungi',\n",
       " 'Nectria fuckeliana': 'Fungi',\n",
       " 'Thaumetopoea pityocampa': 'Animalia',\n",
       " 'Ooencyrtus pityocampae': 'Animalia',\n",
       " 'Trychnosoma punctipleura': 'Animalia',\n",
       " 'Chrysonotomyia phenacapsia': 'Animalia',\n",
       " 'Clavigesta sylvestrana': 'Animalia',\n",
       " 'Cydia illutana': 'Animalia',\n",
       " 'Zeiraphera rufimitrana': 'Animalia',\n",
       " 'Zeiraphera ratzeburgiana': 'Animalia',\n",
       " 'Sparganothis pilleriana': 'Animalia',\n",
       " 'Lindingaspis rossi': 'Animalia',\n",
       " 'Tomicus destruens': 'Animalia',\n",
       " 'Pinus pinea': 'Plantae',\n",
       " 'Apodemus speciosus': 'Animalia',\n",
       " 'Callosciurus notatus': 'Animalia',\n",
       " 'Callosciurus erythracas centralis': 'Animalia',\n",
       " 'Rattus rattus': 'Animalia',\n",
       " 'Peromyscus maniculatus': 'Animalia',\n",
       " 'Octodon degus': 'Animalia',\n",
       " 'Blarina brevicauda': 'Animalia',\n",
       " 'Didelphis virginiana': 'Animalia',\n",
       " 'Bandicota indica': 'Animalia',\n",
       " 'Sigmodon hispidus': 'Animalia',\n",
       " 'Thomomys talpoides': 'Animalia',\n",
       " 'Peromyscus nuttali nuttali': 'Animalia',\n",
       " 'Petaurista alborufus': 'Animalia',\n",
       " 'Peromyscus gossypinus': 'Animalia',\n",
       " 'Abrocoma benetti': 'Animalia',\n",
       " 'Microtus pennsylvanicus': 'Animalia',\n",
       " 'Peromyscus leucopus': 'Animalia',\n",
       " 'Rattus losea': 'Animalia',\n",
       " 'Prionailurus bengalensis': 'Animalia',\n",
       " 'Felis catus': 'Animalia',\n",
       " 'Canis lupus': 'Animalia',\n",
       " 'Homo sapiens': 'Animalia',\n",
       " 'Vulpes vulpes': 'Animalia',\n",
       " 'Chiromantes dehaani': 'Animalia',\n",
       " 'Neofelis nebulosa': 'Animalia',\n",
       " 'Capra hircus': 'Animalia',\n",
       " 'Eriocheir japonica': 'Animalia',\n",
       " 'Panthera tigris': 'Animalia',\n",
       " 'Macaca cyclopis': 'Animalia',\n",
       " 'Sus scrofa': 'Animalia',\n",
       " 'Ampullaria lateostoma': 'Animalia',\n",
       " 'Tenebrio obscurus': 'Animalia',\n",
       " 'Nosopsyllus fasciatus': 'Animalia',\n",
       " 'Tribolium confusum': 'Animalia',\n",
       " 'Mesocricetus auratus': 'Animalia',\n",
       " 'Apodemus agrarius': 'Animalia',\n",
       " 'Rattus norvegicus': 'Animalia',\n",
       " 'Tenebrio molitor': 'Animalia',\n",
       " 'Xenopsylla cheopis': 'Animalia',\n",
       " 'Mus musculus': 'Animalia',\n",
       " 'Mus spretus': 'Animalia',\n",
       " 'Pyralis farinalis': 'Animalia',\n",
       " 'Microcebus rufus': 'Animalia',\n",
       " 'Saimiri sciureus': 'Animalia',\n",
       " 'Saimiri boliviensis': 'Animalia',\n",
       " 'Saguinus mystax': 'Animalia',\n",
       " 'Saguinus labiatus': 'Animalia',\n",
       " 'Aotus trivirgatus': 'Animalia',\n",
       " 'Aotus azarae': 'Animalia',\n",
       " 'Cebus capucinus': 'Animalia',\n",
       " 'Aotus nancymaae': 'Animalia',\n",
       " 'Aotus vociferans': 'Animalia',\n",
       " 'Rattus fuscipes': 'Animalia',\n",
       " 'Hydromys chrysogaster': 'Animalia',\n",
       " 'Spermophilus tridecemlineatus': 'Animalia',\n",
       " 'Sciurus carolinensis': 'Animalia',\n",
       " 'Colaptes auratus': 'Animalia',\n",
       " 'Rattus leucopus': 'Animalia',\n",
       " 'Spermophilus townsendii': 'Animalia',\n",
       " 'Acomys cahirinus': 'Animalia',\n",
       " 'Mus sp.': 'Animalia',\n",
       " 'Acomys russatus': 'Animalia',\n",
       " 'Jaculus jaculus': 'Animalia',\n",
       " 'Julus sp.': 'Animalia',\n",
       " 'Onthophagus hecate': 'Animalia',\n",
       " 'Hylobates lar': 'Animalia',\n",
       " 'Ondatra zibethicus': 'Animalia',\n",
       " 'Tupaia glis': 'Animalia',\n",
       " 'Tamias striatus': 'Animalia'}"
      ]
     },
     "execution_count": 348,
     "metadata": {},
     "output_type": "execute_result"
    }
   ],
   "source": [
    "kingdom"
   ]
  },
  {
   "cell_type": "markdown",
   "metadata": {},
   "source": [
    "### This function takes a GBIF species key and counts how many occurences exist in the data cube"
   ]
  },
  {
   "cell_type": "code",
   "execution_count": 349,
   "metadata": {},
   "outputs": [],
   "source": [
    "def speciesCountInCube(conn, key):\n",
    "    cur = conn.cursor()\n",
    "    cur.execute(\"SELECT COUNT(taxonKey) from (SELECT taxonKey FROM cube WHERE year > ? and taxonKey = ? GROUP BY eea_cell_code)\", (year, key,))\n",
    "    return(cur.fetchall())"
   ]
  },
  {
   "cell_type": "markdown",
   "metadata": {},
   "source": [
    "### Loop over all the taxa that are in the interaction network and are in GBIF to find the ones that have been found in the country"
   ]
  },
  {
   "cell_type": "code",
   "execution_count": 350,
   "metadata": {},
   "outputs": [],
   "source": [
    "taxaFoundInCountry = []\n",
    "\n",
    "try:\n",
    "    conn = sqlite3.connect(database)\n",
    "except Error as e:\n",
    "    print(e)"
   ]
  },
  {
   "cell_type": "code",
   "execution_count": 351,
   "metadata": {},
   "outputs": [
    {
     "data": {
      "text/plain": [
       "2000"
      ]
     },
     "execution_count": 351,
     "metadata": {},
     "output_type": "execute_result"
    }
   ],
   "source": [
    "year"
   ]
  },
  {
   "cell_type": "code",
   "execution_count": 352,
   "metadata": {},
   "outputs": [
    {
     "name": "stdout",
     "output_type": "stream",
     "text": [
      "Squirrel associated cyclovirus 1\n",
      "Callosciurus erythraeus betaherpesvirus 1\n",
      "Callosciurus erythraeus gammaherpesvirus 1\n",
      "Callosciurus erythraeus polyomavirus 1\n",
      "\n",
      "Elaphe climacophora\n",
      "Brevistriata skrjabini\n",
      "Calypsostrongylus ogdeni\n",
      "Longistriata sp.\n",
      "Brevistriata sp.\n",
      "Paragonimus westermanii\n",
      "Hymenolepis diminuta\n",
      "Callosciurus erythraeus\n",
      "Callosciurus erythraeus with key 2437394 occurs in 9 km squares.\n",
      "Elaphe quadrivirgata\n",
      "Kalicephalus sinensis\n",
      "Amblyomma testudinarium\n",
      "Pteropus lylei\n",
      "Eonycteris spelaea\n",
      "Pteropus dasymallus\n",
      "Anselmella malacia\n",
      "Acrocercops eugeniella\n",
      "Colletotrichum\n",
      "Lasiodiplodia theobromae\n",
      "Fusarium proliferatum\n",
      "Syzygium samarangense\n",
      "Lophodermium conigenum\n",
      "Cronartium flaccidum\n",
      "Nectria fuckeliana\n",
      "Thaumetopoea pityocampa\n",
      "Ooencyrtus pityocampae\n",
      "Trychnosoma punctipleura\n",
      "Chrysonotomyia phenacapsia\n",
      "Clavigesta sylvestrana\n",
      "Cydia illutana\n",
      "Zeiraphera rufimitrana\n",
      "Zeiraphera ratzeburgiana\n",
      "Sparganothis pilleriana\n",
      "Lindingaspis rossi\n",
      "Tomicus destruens\n",
      "Pinus pinea\n",
      "Apodemus speciosus\n",
      "Callosciurus notatus\n",
      "Callosciurus erythracas centralis\n",
      "Callosciurus erythracas centralis with key 2437394 occurs in 9 km squares.\n",
      "Rattus rattus\n",
      "Rattus rattus with key 2439270 occurs in 158 km squares.\n",
      "Peromyscus maniculatus\n",
      "Octodon degus\n",
      "Blarina brevicauda\n",
      "Didelphis virginiana\n",
      "Bandicota indica\n",
      "Sigmodon hispidus\n",
      "Thomomys talpoides\n",
      "Peromyscus nuttali nuttali\n",
      "Petaurista alborufus\n",
      "Peromyscus gossypinus\n",
      "Abrocoma benetti\n",
      "Microtus pennsylvanicus\n",
      "Peromyscus leucopus\n",
      "Rattus losea\n",
      "Prionailurus bengalensis\n",
      "Felis catus\n",
      "Felis catus with key 2435035 occurs in 2370 km squares.\n",
      "Canis lupus\n",
      "Canis lupus with key 5219173 occurs in 14 km squares.\n",
      "Homo sapiens\n",
      "Vulpes vulpes\n",
      "Vulpes vulpes with key 5219243 occurs in 43 km squares.\n",
      "Chiromantes dehaani\n",
      "Neofelis nebulosa\n",
      "Capra hircus\n",
      "Eriocheir japonica\n",
      "Panthera tigris\n",
      "Macaca cyclopis\n",
      "Sus scrofa\n",
      "Sus scrofa with key 7705930 occurs in 35 km squares.\n",
      "Ampullaria lateostoma\n",
      "Tenebrio obscurus\n",
      "Nosopsyllus fasciatus\n",
      "Tribolium confusum\n",
      "Mesocricetus auratus\n",
      "Apodemus agrarius\n",
      "Rattus norvegicus\n",
      "Rattus norvegicus with key 2439261 occurs in 3819 km squares.\n",
      "Tenebrio molitor\n",
      "Xenopsylla cheopis\n",
      "Mus musculus\n",
      "Mus musculus with key 7429082 occurs in 6 km squares.\n",
      "Mus spretus\n",
      "Pyralis farinalis\n",
      "Microcebus rufus\n",
      "Saimiri sciureus\n",
      "Saimiri boliviensis\n",
      "Saguinus mystax\n",
      "Saguinus labiatus\n",
      "Aotus trivirgatus\n",
      "Aotus azarae\n",
      "Cebus capucinus\n",
      "Aotus nancymaae\n",
      "Aotus vociferans\n",
      "Rattus fuscipes\n",
      "Hydromys chrysogaster\n",
      "Spermophilus tridecemlineatus\n",
      "Sciurus carolinensis\n",
      "Sciurus carolinensis with key 5219681 occurs in 18 km squares.\n",
      "Colaptes auratus\n",
      "Rattus leucopus\n",
      "Spermophilus townsendii\n",
      "Acomys cahirinus\n",
      "Mus sp.\n",
      "Acomys russatus\n",
      "Jaculus jaculus\n",
      "Julus sp.\n",
      "Onthophagus hecate\n",
      "Hylobates lar\n",
      "Ondatra zibethicus\n",
      "Ondatra zibethicus with key 5219858 occurs in 1066 km squares.\n",
      "Tupaia glis\n",
      "Tamias striatus\n",
      "IN VITRO\n"
     ]
    }
   ],
   "source": [
    "for GBIFtaxon in taxaFound.iterrows():\n",
    "    GBIFOccCount = speciesCountInCube(conn, GBIFtaxon[1][0])\n",
    "    print(GBIFtaxon[0])\n",
    "    if GBIFOccCount[0][0] > thresholdForOccNum and GBIFtaxon[0] != taxon: # The threshold for observations is not greater than one, due to all the casual records\n",
    "        taxaFoundInCountry.append({'key': GBIFtaxon[1][0], 'species': GBIFtaxon[0], 'count': GBIFOccCount[0][0]})\n",
    "        print('{0} with key {1} occurs in {2} km squares.'.format(GBIFtaxon[0],GBIFtaxon[1][0],GBIFOccCount[0][0]))\n",
    "    elif GBIFtaxon[0] == taxon:\n",
    "        taxaFoundInCountry.append({'key': GBIFtaxon[1][0], 'species': GBIFtaxon[0], 'count': GBIFOccCount[0][0]})\n",
    "        print('{0} with key {1} occurs in {2} km squares.'.format(GBIFtaxon[0],GBIFtaxon[1][0],GBIFOccCount[0][0]))"
   ]
  },
  {
   "cell_type": "code",
   "execution_count": 353,
   "metadata": {},
   "outputs": [],
   "source": [
    "# Convert to a Pandas dataframe\n",
    "taxaFoundInCountry = pd.DataFrame(taxaFoundInCountry)    "
   ]
  },
  {
   "cell_type": "code",
   "execution_count": 354,
   "metadata": {},
   "outputs": [
    {
     "name": "stdout",
     "output_type": "stream",
     "text": [
      "The number of species left in the network is 11\n"
     ]
    }
   ],
   "source": [
    "print(\"The number of species left in the network is {0}\".format(len(taxaFoundInCountry)))"
   ]
  },
  {
   "cell_type": "code",
   "execution_count": 355,
   "metadata": {
    "scrolled": true
   },
   "outputs": [
    {
     "data": {
      "text/html": [
       "<div>\n",
       "<style scoped>\n",
       "    .dataframe tbody tr th:only-of-type {\n",
       "        vertical-align: middle;\n",
       "    }\n",
       "\n",
       "    .dataframe tbody tr th {\n",
       "        vertical-align: top;\n",
       "    }\n",
       "\n",
       "    .dataframe thead th {\n",
       "        text-align: right;\n",
       "    }\n",
       "</style>\n",
       "<table border=\"1\" class=\"dataframe\">\n",
       "  <thead>\n",
       "    <tr style=\"text-align: right;\">\n",
       "      <th></th>\n",
       "      <th>count</th>\n",
       "      <th>key</th>\n",
       "      <th>species</th>\n",
       "    </tr>\n",
       "  </thead>\n",
       "  <tbody>\n",
       "    <tr>\n",
       "      <th>0</th>\n",
       "      <td>9</td>\n",
       "      <td>2437394</td>\n",
       "      <td>Callosciurus erythraeus</td>\n",
       "    </tr>\n",
       "    <tr>\n",
       "      <th>1</th>\n",
       "      <td>9</td>\n",
       "      <td>2437394</td>\n",
       "      <td>Callosciurus erythracas centralis</td>\n",
       "    </tr>\n",
       "    <tr>\n",
       "      <th>2</th>\n",
       "      <td>158</td>\n",
       "      <td>2439270</td>\n",
       "      <td>Rattus rattus</td>\n",
       "    </tr>\n",
       "    <tr>\n",
       "      <th>3</th>\n",
       "      <td>2370</td>\n",
       "      <td>2435035</td>\n",
       "      <td>Felis catus</td>\n",
       "    </tr>\n",
       "    <tr>\n",
       "      <th>4</th>\n",
       "      <td>14</td>\n",
       "      <td>5219173</td>\n",
       "      <td>Canis lupus</td>\n",
       "    </tr>\n",
       "    <tr>\n",
       "      <th>5</th>\n",
       "      <td>43</td>\n",
       "      <td>5219243</td>\n",
       "      <td>Vulpes vulpes</td>\n",
       "    </tr>\n",
       "    <tr>\n",
       "      <th>6</th>\n",
       "      <td>35</td>\n",
       "      <td>7705930</td>\n",
       "      <td>Sus scrofa</td>\n",
       "    </tr>\n",
       "    <tr>\n",
       "      <th>7</th>\n",
       "      <td>3819</td>\n",
       "      <td>2439261</td>\n",
       "      <td>Rattus norvegicus</td>\n",
       "    </tr>\n",
       "    <tr>\n",
       "      <th>8</th>\n",
       "      <td>6</td>\n",
       "      <td>7429082</td>\n",
       "      <td>Mus musculus</td>\n",
       "    </tr>\n",
       "    <tr>\n",
       "      <th>9</th>\n",
       "      <td>18</td>\n",
       "      <td>5219681</td>\n",
       "      <td>Sciurus carolinensis</td>\n",
       "    </tr>\n",
       "    <tr>\n",
       "      <th>10</th>\n",
       "      <td>1066</td>\n",
       "      <td>5219858</td>\n",
       "      <td>Ondatra zibethicus</td>\n",
       "    </tr>\n",
       "  </tbody>\n",
       "</table>\n",
       "</div>"
      ],
      "text/plain": [
       "    count      key                            species\n",
       "0       9  2437394            Callosciurus erythraeus\n",
       "1       9  2437394  Callosciurus erythracas centralis\n",
       "2     158  2439270                      Rattus rattus\n",
       "3    2370  2435035                        Felis catus\n",
       "4      14  5219173                        Canis lupus\n",
       "5      43  5219243                      Vulpes vulpes\n",
       "6      35  7705930                         Sus scrofa\n",
       "7    3819  2439261                  Rattus norvegicus\n",
       "8       6  7429082                       Mus musculus\n",
       "9      18  5219681               Sciurus carolinensis\n",
       "10   1066  5219858                 Ondatra zibethicus"
      ]
     },
     "execution_count": 355,
     "metadata": {},
     "output_type": "execute_result"
    }
   ],
   "source": [
    "taxaFoundInCountry"
   ]
  },
  {
   "cell_type": "markdown",
   "metadata": {},
   "source": [
    "## Drawing a network of the interactions\n",
    "\n",
    "Now that I have a list of all the species in the country I can use this as my nodes list for the network diagram."
   ]
  },
  {
   "cell_type": "code",
   "execution_count": 356,
   "metadata": {},
   "outputs": [
    {
     "name": "stdout",
     "output_type": "stream",
     "text": [
      "using package pydot\n"
     ]
    }
   ],
   "source": [
    "#networkx seems to be a leading network tool in Python\n",
    "import networkx as nx\n",
    "import matplotlib.pyplot as plt\n",
    "\n",
    "try:\n",
    "    import pygraphviz\n",
    "    from networkx.drawing.nx_agraph import write_dot\n",
    "    print(\"using package pygraphviz\")\n",
    "except ImportError:\n",
    "    try:\n",
    "        import pydot\n",
    "        from networkx.drawing.nx_pydot import write_dot\n",
    "        print(\"using package pydot\")\n",
    "    except ImportError:\n",
    "        print()\n",
    "        print(\"Both pygraphviz and pydot were not found \")\n",
    "        print(\"see  https://networkx.github.io/documentation/latest/reference/drawing.html\")\n",
    "        print()"
   ]
  },
  {
   "cell_type": "code",
   "execution_count": 357,
   "metadata": {},
   "outputs": [],
   "source": [
    "# Create graphic object\n",
    "G = nx.DiGraph()"
   ]
  },
  {
   "cell_type": "code",
   "execution_count": 358,
   "metadata": {},
   "outputs": [],
   "source": [
    "# Match colours to interactions to distinguish them on the graph\n",
    "colorInteractions = {'interaction':['pollinates', 'mutualistOf', 'eats', 'visitsFlowersOf', 'hasHost', 'parasiteOf', 'pathogenOf'],\n",
    "        'colour':['r', 'g', 'b', 'y', 'm', 'w', 'c']}  \n",
    "\n",
    "colorInteractionsDf = pd.DataFrame(colorInteractions)\n",
    "\n",
    "#len(list(G.nodes))"
   ]
  },
  {
   "cell_type": "markdown",
   "metadata": {},
   "source": [
    "## A quick look at the interaction data to see if it is what is expected"
   ]
  },
  {
   "cell_type": "code",
   "execution_count": 359,
   "metadata": {},
   "outputs": [
    {
     "data": {
      "text/html": [
       "<div>\n",
       "<style scoped>\n",
       "    .dataframe tbody tr th:only-of-type {\n",
       "        vertical-align: middle;\n",
       "    }\n",
       "\n",
       "    .dataframe tbody tr th {\n",
       "        vertical-align: top;\n",
       "    }\n",
       "\n",
       "    .dataframe thead th {\n",
       "        text-align: right;\n",
       "    }\n",
       "</style>\n",
       "<table border=\"1\" class=\"dataframe\">\n",
       "  <thead>\n",
       "    <tr style=\"text-align: right;\">\n",
       "      <th></th>\n",
       "      <th>sourceTaxonId</th>\n",
       "      <th>sourceTaxonName</th>\n",
       "      <th>sourceTaxonSpeciesName</th>\n",
       "      <th>sourceTaxonRank</th>\n",
       "      <th>sourceTaxonFamilyName</th>\n",
       "      <th>interactionTypeName</th>\n",
       "      <th>targetTaxonName</th>\n",
       "      <th>targetTaxonSpeciesName</th>\n",
       "      <th>targetTaxonRank</th>\n",
       "      <th>sourceCitation</th>\n",
       "      <th>sourceDOI</th>\n",
       "      <th>sourceTaxonKingdomName</th>\n",
       "      <th>sourceTaxonKingdomId</th>\n",
       "      <th>targetTaxonKingdomName</th>\n",
       "      <th>targetTaxonKingdomId</th>\n",
       "    </tr>\n",
       "  </thead>\n",
       "  <tbody>\n",
       "  </tbody>\n",
       "</table>\n",
       "</div>"
      ],
      "text/plain": [
       "Empty DataFrame\n",
       "Columns: [sourceTaxonId, sourceTaxonName, sourceTaxonSpeciesName, sourceTaxonRank, sourceTaxonFamilyName, interactionTypeName, targetTaxonName, targetTaxonSpeciesName, targetTaxonRank, sourceCitation, sourceDOI, sourceTaxonKingdomName, sourceTaxonKingdomId, targetTaxonKingdomName, targetTaxonKingdomId]\n",
       "Index: []"
      ]
     },
     "execution_count": 359,
     "metadata": {},
     "output_type": "execute_result"
    }
   ],
   "source": [
    "#cleanInteractDataTaxon.loc[(cleanInteractDataTaxon[\"sourceTaxonName\"] == 'Apis mellifera') & (cleanInteractDataTaxon[\"targetTaxonName\"] == 'Procyon lotor')]\n",
    "cleanInteractDataTaxon.loc[(cleanInteractDataTaxon[\"sourceTaxonSpeciesName\"] == 'Bombus hortorum')]"
   ]
  },
  {
   "cell_type": "markdown",
   "metadata": {},
   "source": [
    "## Figure out which node has the most records. This is so that the graphic can be scaled."
   ]
  },
  {
   "cell_type": "code",
   "execution_count": 360,
   "metadata": {},
   "outputs": [
    {
     "name": "stdout",
     "output_type": "stream",
     "text": [
      "3819\n"
     ]
    }
   ],
   "source": [
    "if len(taxaFoundInCountry) > 0:\n",
    "    maxRecords = taxaFoundInCountry.max()[\"count\"]\n",
    "    print(maxRecords)"
   ]
  },
  {
   "cell_type": "markdown",
   "metadata": {},
   "source": [
    "### Add the nodes to the graph"
   ]
  },
  {
   "cell_type": "code",
   "execution_count": 361,
   "metadata": {},
   "outputs": [],
   "source": [
    "dictOfNodeSizes = {}\n",
    "\n",
    "for index, row in taxaFoundInCountry.iterrows():\n",
    "     # access data using column names\n",
    "    #print('A: ', row['species'], row['count'], row['key'])\n",
    "    G.add_node(row['species'], gbifkey=row['key'], occupancy = row['count'])\n",
    "    #create a list of node sizes scaled for the network visulization\n",
    "    #The square root ensures that the node area is proportional to the occupancy, rather than the radius\n",
    "    dictOfNodeSizes[row['species']] = math.sqrt(int(row['count']/maxRecords*100))*10"
   ]
  },
  {
   "cell_type": "markdown",
   "metadata": {},
   "source": [
    "### Add edges to the graph"
   ]
  },
  {
   "cell_type": "code",
   "execution_count": 362,
   "metadata": {},
   "outputs": [],
   "source": [
    "# iterate over the interacting species that are in GBIF and in the country with iterrows()\n",
    "# Find the taxa found in the country that are in the source taxon name of the interation data,\n",
    "# then add the edge if the target species is in the country too.\n",
    "\n",
    "taxaFoundInCountry_copy = taxaFoundInCountry.copy()\n",
    "\n",
    "for index, row in taxaFoundInCountry.iterrows():\n",
    "    # loop over all the taxa finding if any of them are mentioned in the sourceTaxonName field\n",
    "    for edge in cleanInteractDataTaxon.iterrows():\n",
    "        if row['species'] == edge[1]['sourceTaxonSpeciesName']:\n",
    "            #print('B: ', edge[1]['sourceTaxonName'], edge[1]['targetTaxonName'])\n",
    "            # Some of the target species will not be in GBIF of in the country, so only add an edge where they are.\n",
    "            for index2, row2 in taxaFoundInCountry_copy.iterrows():\n",
    "                #print('E: ', row2['species'], edge[1]['targetTaxonName'])\n",
    "                if row2['species'] == edge[1]['targetTaxonSpeciesName']: \n",
    "                    print('C: ', edge[1]['targetTaxonSpeciesName'], row['species'], edge[1]['interactionTypeName'])\n",
    "                    G.add_edge(row['species'], edge[1]['targetTaxonSpeciesName'], label = edge[1]['interactionTypeName'])\n",
    "                    \n",
    "#len(list(G.nodes))\n"
   ]
  },
  {
   "cell_type": "code",
   "execution_count": 363,
   "metadata": {},
   "outputs": [],
   "source": [
    "# iterate over rows with iterrows()\n",
    "\n",
    "# Find the taxa found in the country that are in the target taxon name of the interation data,\n",
    "# then add the edge if the source species is in the country too.\n",
    "\n",
    "for index, row in taxaFoundInCountry.iterrows():\n",
    "    for edge in cleanInteractDataTaxon.iterrows():\n",
    "        if row['species'] == edge[1]['targetTaxonName']:\n",
    "            #print('D: ', edge[1]['sourceTaxonName'], edge[1]['targetTaxonName'])\n",
    "            #G.add_node(edge[1]['sourceTaxonName'], gbifkey=row['key'])\n",
    "            #dictOfNodeSizes[edge[1]['sourceTaxonName']] = int(row['count']/maxRecords*100)\n",
    "            for index2, row2 in taxaFoundInCountry.iterrows():\n",
    "                #print('E: ', row2['species'])\n",
    "                if row2['species'] == edge[1]['sourceTaxonSpeciesName']: \n",
    "                    print('F: ', edge[1]['sourceTaxonSpeciesName'],edge[1]['targetTaxonSpeciesName'],edge[1]['interactionTypeName'])\n",
    "                    G.add_edge(edge[1]['sourceTaxonSpeciesName'], row2['species'], label = edge[1]['interactionTypeName'])"
   ]
  },
  {
   "cell_type": "code",
   "execution_count": 364,
   "metadata": {},
   "outputs": [
    {
     "name": "stdout",
     "output_type": "stream",
     "text": [
      "Number of nodes = 11\n",
      "Number of edges = 0\n"
     ]
    }
   ],
   "source": [
    "print(\"Number of nodes = {0}\".format(G.number_of_nodes()))\n",
    "print(\"Number of edges = {0}\".format(G.number_of_edges()))"
   ]
  },
  {
   "cell_type": "code",
   "execution_count": 365,
   "metadata": {},
   "outputs": [
    {
     "data": {
      "text/plain": [
       "11"
      ]
     },
     "execution_count": 365,
     "metadata": {},
     "output_type": "execute_result"
    }
   ],
   "source": [
    "len(dictOfNodeSizes)"
   ]
  },
  {
   "cell_type": "markdown",
   "metadata": {},
   "source": [
    "## Remove any nodes that have no edges.\n",
    "This happens because some of the linking nodes have few supporting observations and so have been weeded out\n"
   ]
  },
  {
   "cell_type": "code",
   "execution_count": 366,
   "metadata": {},
   "outputs": [],
   "source": [
    "#for n in G.nodes:\n",
    "#    if G.degree(n) == 0:\n",
    "#        G.remove_node(n)\n",
    "        \n",
    "G.remove_nodes_from(list(nx.isolates(G)))"
   ]
  },
  {
   "cell_type": "code",
   "execution_count": 367,
   "metadata": {},
   "outputs": [
    {
     "data": {
      "text/plain": [
       "0"
      ]
     },
     "execution_count": 367,
     "metadata": {},
     "output_type": "execute_result"
    }
   ],
   "source": [
    "len(G.nodes)"
   ]
  },
  {
   "cell_type": "markdown",
   "metadata": {},
   "source": [
    "## Remove any selfloop edges"
   ]
  },
  {
   "cell_type": "code",
   "execution_count": 368,
   "metadata": {},
   "outputs": [],
   "source": [
    "for e in G.selfloop_edges(data=False):\n",
    "    G.remove_edge(e[0],e[1])"
   ]
  },
  {
   "cell_type": "markdown",
   "metadata": {},
   "source": [
    "## Run through the list of nodes again and construct a list of the node sizes in the correct order"
   ]
  },
  {
   "cell_type": "code",
   "execution_count": 369,
   "metadata": {},
   "outputs": [],
   "source": [
    "listOfNodeSizes = []\n",
    "\n",
    "for node in G.nodes:\n",
    "    listOfNodeSizes.append(dictOfNodeSizes[node])"
   ]
  },
  {
   "cell_type": "markdown",
   "metadata": {},
   "source": [
    "## A network of all the interacting taxa"
   ]
  },
  {
   "cell_type": "code",
   "execution_count": 370,
   "metadata": {},
   "outputs": [
    {
     "data": {
      "image/png": "[encoded data removed]",
      "text/plain": [
       "<Figure size 1080x1080 with 1 Axes>"
      ]
     },
     "metadata": {
      "needs_background": "light"
     },
     "output_type": "display_data"
    }
   ],
   "source": [
    "plt.figure(figsize=(15,15))\n",
    "edge_labels = nx.get_edge_attributes(G,'label')\n",
    "\n",
    "#pos = nx.spring_layout(G, iterations=50, k=50) \n",
    "#pos = nx.spring_layout(G)\n",
    "#pos = nx.random_layout(G)\n",
    "pos = nx.circular_layout(G)\n",
    "#pos = nx.spectral_layout(G)\n",
    "#pos = nx.shell_layout(G, scale=1)\n",
    "\n",
    "nodeColors = nx.get_node_attributes(G,'color')\n",
    "\n",
    "nx.draw_networkx_edge_labels(G,pos, edge_labels = edge_labels, font_size=10, font_color='blue')\n",
    "\n",
    "#nx.draw_networkx_nodes(G, pos, node_color=nodeColors.values())\n",
    "\n",
    "nx.draw_networkx(G, pos, with_labels=True, node_size = listOfNodeSizes, node_color='c', alpha= 1, arrows=True, \n",
    "                    linewidths=1, font_color=\"black\", font_size=10, style = 'dashed')\n",
    "\n",
    "plt.axis('off')\n",
    "plt.tight_layout()\n",
    "plt.show()"
   ]
  },
  {
   "cell_type": "code",
   "execution_count": 371,
   "metadata": {},
   "outputs": [],
   "source": [
    "filename = \"..\\\\docs\\\\\"+taxon+country+\".html\"\n",
    "with open(filename, \"w\") as file:\n",
    "    file.write(\" \\\n",
    "<!DOCTYPE html> \\\n",
    "<html> \\\n",
    "<head> \\\n",
    "<script src='../../../GitHub\\cytoscape.js\\dist\\cytoscape.min.js'></script> \\\n",
    "<script src='https://unpkg.com/layout-base/layout-base.js'></script> \\\n",
    "<script src='https://unpkg.com/cose-base/cose-base.js'></script> \\\n",
    "<script src='../../../GitHub\\cytoscape.js-cose-bilkent\\cytoscape-cose-bilkent.js'></script> \\\n",
    "</head> \\\n",
    "<style>#cy {width: 90%; height: 90%; position: absolute; top: 50px; left: 150px;}\\\n",
    "body {font-family: 'times; font-size: 6px;}\\\n",
    "</style> \\\n",
    "<body> \\\n",
    "<h1><em font-style: italic;>\"+taxon+\"</em> in \"+country+\"</h1>\")"
   ]
  },
  {
   "cell_type": "markdown",
   "metadata": {},
   "source": [
    "### Write out the details of the species"
   ]
  },
  {
   "cell_type": "code",
   "execution_count": 372,
   "metadata": {},
   "outputs": [],
   "source": [
    "with open(filename, \"a\") as file:\n",
    "    if len(G.nodes)==0:\n",
    "        file.write(\"<p>No interacting species have been found for \"+taxon+\" in \"+country+\".<br />\") \n",
    "    else:\n",
    "        file.write(\"<p>Nodes can be moved and if clicked on open a tab with species details<br />\") \n",
    "        file.write(\"<p>The target species is red node. <em>Plantae</em> are green, <em>Animalia</em> are blue and everything else is brown<br />\") \n",
    "        file.write(\"<p>Node area is proportional to the 1 km<sup>2</sup> occupancy<br />\") \n",
    "    file.write(\"<p>All <a href='https://www.globalbioticinteractions.org/'>GloBI</a> interaction records that <em>\"+taxon+\"</em> has with other taxa</p>\")\n",
    "    "
   ]
  },
  {
   "cell_type": "code",
   "execution_count": 373,
   "metadata": {},
   "outputs": [],
   "source": [
    "species = G.nodes\n",
    "#with open(filename, \"a\") as file:\n",
    "#    for n in species:\n",
    "#        file.write(\"<tr><td><a target='_blank' href=https://www.gbif.org/species/\"+str(nx.get_node_attributes(G, 'gbifkey')[n])+\">\"+n+\"</a></td><td>\"+str(dictOfNodeSizes[n])+\"</td>\\n\")"
   ]
  },
  {
   "cell_type": "code",
   "execution_count": 374,
   "metadata": {},
   "outputs": [],
   "source": [
    "with open(filename, \"a\") as file: \n",
    "    if len(sourceInteractions) != 0:\n",
    "        file.write(\"<table><th>Interaction</th><th>number</th>\")\n",
    "        for n in sourceInteractions:\n",
    "            file.write(\"<tr><td><a target='_blank' href=https://www.globalbioticinteractions.org/?interactionType=\"+str(n[0])+\"&sourceTaxon=\"+taxon.replace(\" \", \"%20\")+\">\"+str(n[0])+\"</a></td><td>\"+str(n[1])+\"</td>\\n\")\n",
    "        file.write(\"</table>\") \n",
    "    if len(targetInteractions) != 0:\n",
    "        file.write(\"<p>All <a href='https://www.globalbioticinteractions.org/'>GloBI</a> interaction records that other taxa have with <em>\"+taxon+\"</em></p>\")\n",
    "        file.write(\"<table><th>Interaction</th><th>number</th>\")\n",
    "        for n in targetInteractions:\n",
    "            file.write(\"<tr><td><a target='_blank' href=https://www.globalbioticinteractions.org/?interactionType=\"+str(n[0])+\"&targetTaxon=\"+taxon.replace(\" \", \"%20\")+\">\"+str(n[0])+\"</a></td><td>\"+str(n[1])+\"</td>\\n\") \n",
    "        file.write(\"</table>\")  "
   ]
  },
  {
   "cell_type": "code",
   "execution_count": 375,
   "metadata": {},
   "outputs": [],
   "source": [
    "file.close()"
   ]
  },
  {
   "cell_type": "code",
   "execution_count": 376,
   "metadata": {},
   "outputs": [],
   "source": [
    "with open(filename, \"a\") as file:\n",
    "    file.write(\" \\\n",
    "<div id='cy'></div> \\\n",
    "<script> \\\n",
    "var cy = cytoscape({ \\\n",
    "  container: document.getElementById('cy'), \\n \\\n",
    "  elements: [ \\\n",
    "\")"
   ]
  },
  {
   "cell_type": "markdown",
   "metadata": {},
   "source": [
    "### Write nodes to file"
   ]
  },
  {
   "cell_type": "code",
   "execution_count": 377,
   "metadata": {},
   "outputs": [],
   "source": [
    "file = open(filename, \"a\")\n",
    "for n in species:\n",
    "    if n == taxon:\n",
    "        file.write(\"{ data: { id: '\"+n+\"', href: 'https://www.gbif.org/species/\"+str(nx.get_node_attributes(G, 'gbifkey')[n])+\"', occnum: \"+str(dictOfNodeSizes[n])+\" }, selectable: true,},\\n\")\n",
    "    else:\n",
    "        file.write(\"{ data: { id: '\"+n+\"', kingdom: '\"+kingdom[n]+\"', href: 'https://www.gbif.org/species/\"+str(nx.get_node_attributes(G, 'gbifkey')[n])+\"', occnum: \"+str(dictOfNodeSizes[n])+\" }, selectable: false,},\\n\")\n",
    "file.close()"
   ]
  },
  {
   "cell_type": "markdown",
   "metadata": {},
   "source": [
    "### Write edges to file"
   ]
  },
  {
   "cell_type": "code",
   "execution_count": 378,
   "metadata": {},
   "outputs": [],
   "source": [
    "file = open(filename, \"a\")\n",
    "for edge in G.edges:\n",
    "    file.write(\"{data: {id: '\"+edge[0]+edge[1]+\"', source: '\"+edge[0]+\"', target: '\"+edge[1]+\"', href: 'https://www.globalbioticinteractions.org/?interactionType=\"+str(nx.get_edge_attributes(G, 'label')[edge])+\"&sourceTaxon=\"+edge[0]+\"&targetTaxon=\"+edge[1]+\"', label: '\"+nx.get_edge_attributes(G, 'label')[edge]+\"'}},\\n\")\n",
    "file.close()\n",
    "    "
   ]
  },
  {
   "cell_type": "code",
   "execution_count": 379,
   "metadata": {},
   "outputs": [],
   "source": [
    "with open(filename, \"a\") as file:\n",
    "    file.write(\"], \\\n",
    "style: [ \\n\\\n",
    "        { \\n\\\n",
    "            selector: 'node', \\n\\\n",
    "            style: { \\n\\\n",
    "                shape: 'circle', \\n\\\n",
    "                'background-color': 'yellow', \\n\\\n",
    "                label: 'data(id)', \\n\\\n",
    "                'text-valign': 'center', \\n\\\n",
    "                'font-family': 'helvetica', \\n\\\n",
    "                'font-style': 'italic', \\n\\\n",
    "                'font-size': '8px', \\n\\\n",
    "                'border-width': '0.5', \\n\\\n",
    "                'border-color': 'black', \\n\\\n",
    "                'width': 'mapData(occnum, 0, 400, 3, 200)', \\n\\\n",
    "                'height': 'mapData(occnum, 0, 400, 3, 200)' \\n\\\n",
    "            } \\n\\\n",
    "        },  \\n\\\n",
    "        {  \\n\\\n",
    "            selector: 'edge',  \\n\\\n",
    "            style: {  \\n\\\n",
    "                label: 'data(label)', \\n\\\n",
    "                'font-family': 'helvetica', \\n\\\n",
    "                'font-size': '6px', \\n\\\n",
    "                'color': 'blue', \\n\\\n",
    "                'curve-style': 'bezier', \\n\\\n",
    "                'target-arrow-shape': 'triangle',  \\n\\\n",
    "                'width': '1' \\n\\\n",
    "                } \\n\\\n",
    "         },  \\n\\\n",
    "         {  \\n\\\n",
    "              selector: '[kingdom = \\\"Plantae\\\"]',   \\n\\\n",
    "              css: {  \\n\\\n",
    "                'background-color': 'lightgreen'  \\n\\\n",
    "                 }  \\n\\\n",
    "        }, \\n\\\n",
    "        {  \\n\\\n",
    "              selector: '[kingdom = \\\"Animalia\\\"]',   \\n\\\n",
    "              css: {  \\n\\\n",
    "                'background-color': 'lightblue'  \\n\\\n",
    "                 }  \\n\\\n",
    "        }, \\n\\\n",
    "        {  \\n\\\n",
    "              selector: ':selected',   \\n\\\n",
    "              css: {  \\n\\\n",
    "                'line-color': 'red',  \\n\\\n",
    "                'shape': 'square',  \\n\\\n",
    "                'background-color': 'red'  \\n\\\n",
    "                 }  \\n\\\n",
    "        }], \\n\\\n",
    "layout:  { \\n\\\n",
    "            name: 'cose-bilkent', padding: 1, animate: true, gravity: 30, animationDuration: 3000 \\n\\\n",
    "     } \\n\\\n",
    "} \\n\\\n",
    "); \\n\\\n",
    "\")"
   ]
  },
  {
   "cell_type": "code",
   "execution_count": 380,
   "metadata": {},
   "outputs": [],
   "source": [
    "with open(filename, \"a\") as file:\n",
    "    file.write(\"cy.userZoomingEnabled( true ); \\n\\\n",
    "    cy.getElementById('\"+taxon+\"').select(); \\n\\\n",
    "    document.write('<br />Degree of node <em>\"+fullScientificName+\"</em> = '+cy.getElementById('\"+taxon+\"').degree()); \\n\\\n",
    "    cy.on('tap', 'node', function(){ \\n\\\n",
    "        try { // your browser may block popups \\n\\\n",
    "              window.open( this.data('href') ); \\n\\\n",
    "            } catch(e){ // fall back on url change \\n\\\n",
    "        window.location.href = this.data('href'); \\n\\\n",
    "    } \\n\\\n",
    "}); \\n\\\n",
    "    cy.on('tap', 'edge', function(){  \\n\\\n",
    "        try { // your browser may block popups  \\n\\\n",
    "              window.open( this.data('href') );  \\n\\\n",
    "            } catch(e){ // fall back on url change  \\n\\\n",
    "        window.location.href = this.data('href'); \\n\\\n",
    "    } \\n\\\n",
    "}); \\n\\\n",
    "</script> \\n\\\n",
    "\")"
   ]
  },
  {
   "cell_type": "code",
   "execution_count": 381,
   "metadata": {},
   "outputs": [],
   "source": [
    "with open(filename, \"a\") as file:\n",
    "    file.write(\"</ul> \\\n",
    "        </body> \\\n",
    "        </html>\")"
   ]
  },
  {
   "cell_type": "code",
   "execution_count": 382,
   "metadata": {},
   "outputs": [],
   "source": [
    "file.close()"
   ]
  },
  {
   "cell_type": "code",
   "execution_count": 383,
   "metadata": {},
   "outputs": [],
   "source": [
    "#with open(filename, \"a\") as file:\n",
    "#    file.write(\"<h2>References</h2><ul>\\n\")"
   ]
  },
  {
   "cell_type": "code",
   "execution_count": 384,
   "metadata": {},
   "outputs": [
    {
     "name": "stdout",
     "output_type": "stream",
     "text": [
      "*  Chen L, Liu B, Wu Z, Jin Q, Yang J, 2017. DRodVir: A resource for exploring the virome diversity in rodents. J Genet Genomics. 44(5):259-264.\n",
      "*  Ed Baker; Ian J. Kitching; George W. Beccaloni; Amoret Whitaker et al. (2016). Dataset: NHM Interactions Bank. Natural History Museum Data Portal (data.nhm.ac.uk). https://doi.org/10.5519/0060767\n",
      "*  Grundler MC (2020) SquamataBase: a natural history database and R package for comparative biology of snake feeding habits. Biodiversity Data Journal 8: e49943. https://doi.org/10.3897/BDJ.8.e49943\n",
      "*  University of Michigan Museum of Zoology Insect Division. Full Database Export 2020-01-27 provided by Erika Tucker and Barry Oconner.\n",
      "*  Mihara, T., Nishimura, Y., Shimizu, Y., Nishiyama, H., Yoshikawa, G., Uehara, H., Hingamp, P., Goto, S., and Ogata, H.; Linking virus genomes with host taxonomy. Viruses 8, 66 doi:10.3390/v8030066 (2016).\n",
      "*  National Museum of Natural History, Smithsonian Institution IPT RSS Feed\n",
      "*  http://invertebrates.si.edu/parasites.htm\n",
      "*  http://iNaturalist.org is a place where you can record what you see in nature, meet other nature lovers, and learn about the natural world.\n",
      "*  Semantic Prototypes in Research Ecoinformatics (SPIRE). Data provided by Joel Sachs. See also http://ebiquity.umbc.edu/get/a/publication/297.pdf .\n",
      "*  The MSB Division of Parasitology Collection\n",
      "*  https://vertnet.org\n",
      "*  Sarah E Miller. 7/6/2016. Arctos collection.\n",
      "*  Sarah E Miller. 4/18/2016. Species associations from Wardeh, M. et al. Database of host-pathogen and related species interactions, and their global distribution. Sci. Data 2:150049 doi: 10.1038/sdata.2015.49 (2015)\n",
      "*  Sarah E Miller. 9/19/2017. Species associations manually extracted from Benesh, D. P., Lafferty, K. D. and Kuris, A. (2017), A life cycle database for parasitic acanthocephalans, cestodes, and nematodes. Ecology, 98: 882. doi:10.1002/ecy.1680\n",
      "*  Food Webs and Species Interactions in the Biodiversity of UK and Ireland (Online). 2017. Data provided by Malcolm Storey. Also available from http://bioinfo.org.uk.\n",
      "*  Stephens, P. R., Pappalardo, P. , Huang, S. , Byers, J. E., Farrell, M. J., Gehman, A. , Ghai, R. R., Haas, S. E., Han, B. , Park, A. W., Schmidt, J. P., Altizer, S. , Ezenwa, V. O. and Nunn, C. L. (2017), Global Mammal Parasite Database version 2.0. Ecology, 98: 1476-1476. doi:10.1002/ecy.1799\n",
      "*  Species Interactions of Australia Database (SIAD): Helping us to understand species interactions in Australia and beyond. http://www.discoverlife.org/siad/ .\n",
      "*  Geiselman, Cullen K. and Tuli I. Defex. 2015. Bat Eco-Interactions Database. www.batplant.org\n",
      "*  Geiselman, Cullen K. & Sarah Younger. 2020. Bat Eco-Interactions Database. www.batbase.org\n",
      "*  Ferrer-Paris, José R.; Sánchez-Mercado, Ada Y.; Lozano, Cecilia; Zambrano, Liset; Soto, José; Baettig, Jessica; Leal, María (2014): A compilation of larval host-plant records for six families of butterflies (Lepidoptera: Papilionoidea) from available electronic resources. figshare. http://dx.doi.org/10.6084/m9.figshare.1168861\n",
      "*  Chaudhary, V. B., Rúa, M. A., Antoninka, A., Bever, J. D., Cannon, J., Craig, A., … Hoeksema, J. D. (2016). MycoDB, a global database of plant response to mycorrhizal fungi. Scientific Data, 3, 160028. doi:10.1038/sdata.2016.28\n"
     ]
    }
   ],
   "source": [
    "citations = cleanInteractDataTaxon['sourceCitation'].unique()\n",
    "#file = open(filename, \"a\")\n",
    "for ref in citations:\n",
    "    print(\"* \",str(ref))\n",
    "#    file.write(\"<li>\"+str(ref)+\"</li>\\n\")\n",
    "#file.close()"
   ]
  },
  {
   "cell_type": "markdown",
   "metadata": {},
   "source": [
    "### For import into Gephi: A nodes and edges file has been replace by the .dot file format"
   ]
  },
  {
   "cell_type": "code",
   "execution_count": 385,
   "metadata": {},
   "outputs": [],
   "source": [
    "write_dot(G, \"..\\\\docs\\\\\"+taxon+\".dot\")"
   ]
  },
  {
   "cell_type": "code",
   "execution_count": null,
   "metadata": {},
   "outputs": [],
   "source": []
  }
 ],
 "metadata": {
  "kernelspec": {
   "display_name": "Python 3",
   "language": "python",
   "name": "python3"
  },
  "language_info": {
   "codemirror_mode": {
    "name": "ipython",
    "version": 3
   },
   "file_extension": ".py",
   "mimetype": "text/x-python",
   "name": "python",
   "nbconvert_exporter": "python",
   "pygments_lexer": "ipython3",
   "version": "3.7.3"
  }
 },
 "nbformat": 4,
 "nbformat_minor": 2
}
