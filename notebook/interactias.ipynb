{
 "cells": [
  {
   "cell_type": "markdown",
   "metadata": {},
   "source": [
    "# Interactias Geo Selected Network\n",
    "\n",
    "One way of examining the impact of invasive species is to look at all their interactions and the interations those organisms have with each other. This full interaction network gives you an indication of whether a species might be a \"keystone\" species and therefore have a disproportionatly large impact.\n",
    "\n",
    "In this step of the evolution of this script it will be adapted to quantify species by their occupancy.\n",
    "\n",
    "I will harvest species interactions data from GloBI (https://www.globalbioticinteractions.org/) to discover the species that interact with an invasive species.\n",
    "I will then harvest all the interactions for those species to create two tiers of interactions.\n",
    "I will then count all the occurences of these in species in the Belgian datacube.\n",
    "I will then visualize this.\n",
    "\n",
    "This notebook takes considerable insperation and code from Yikang Li's project on GloBI (https://curiositydata.org/part1_globi_access/).\n",
    "\n",
    "\n",
    "### For information: This is the list of invasive alien species of Union concern\n",
    "|A|H|O|\n",
    "|--|--|--|\n",
    "|Acacia saligna|Heracleum sosnowskyi|Orconectes virilis|\n",
    "|Acridotheres tristis|Herpestes javanicus|Oxyura jamaicensis|\n",
    "|Ailanthus altissima|Humulus scandens|Pacifastacus leniusculus|\n",
    "|Alopochen aegyptiaca|Hydrocotyle ranunculoides|Parthenium hysterophorus|\n",
    "|Alternanthera philoxeroides|Impatiens glandulifera|Pennisetum setaceum|\n",
    "|Andropogon virginicus|Lagarosiphon major|Perccottus glenii|\n",
    "|Arthurdendyus triangulatus|Lepomis gibbosus|Persicaria perfoliata|\n",
    "|Asclepias syriaca|Lespedeza cuneata|Plotosus lineatus|\n",
    "|Baccharis halimifolia|Lithobates catesbeianus|Procambarus clarkii|\n",
    "|Cabomba caroliniana|Ludwigia grandiflora|Procambarus fallax|\n",
    "|Callosciurus erythraeus|Ludwigia peploides|Procyon lotor|\n",
    "|Cardiospermum grandiflorum|Lygodium japonicum|Prosopis juliflora|\n",
    "|Cortaderia jubata|Lysichiton americanus|Pseudorasbora parva|\n",
    "|Corvus splendens|Microstegium vimineum|Pueraria montana|\n",
    "|Ehrharta calycina|Muntiacus reevesi|Salvinia molesta|\n",
    "|Eichhornia crassipes|Myocastor coypus|Sciurus carolinensis|\n",
    "|Elodea nuttallii|Myriophyllum aquaticum|Sciurus niger|\n",
    "|Eriocheir sinensis|Myriophyllum heterophyllum|Tamias sibiricus|\n",
    "|Gunnera tinctoria|Nasua nasua|Threskiornis aethiopicus|\n",
    "|Gymnocoronis spilanthoides|Nyctereutes procyonoides|Trachemys scripta|\n",
    "|Heracleum mantegazzianum|Ondatra zibethicus|Triadica sebifera|\n",
    "|Heracleum persicum|Orconectes limosus|Vespa velutina|"
   ]
  },
  {
   "cell_type": "code",
   "execution_count": 935,
   "metadata": {},
   "outputs": [
    {
     "name": "stdout",
     "output_type": "stream",
     "text": [
      "3.7.3 (default, Mar 27 2019, 17:13:21) [MSC v.1915 64 bit (AMD64)]\n"
     ]
    }
   ],
   "source": [
    "import sys\n",
    "print(sys.version)\n",
    "\n",
    "#Python 3.7.4 (default, Aug 9 2019, 18:34:13) [MSC v.1915 64 bit (AMD64)]\n",
    "#pygbif 0.3.0"
   ]
  },
  {
   "cell_type": "code",
   "execution_count": 936,
   "metadata": {
    "scrolled": true
   },
   "outputs": [],
   "source": [
    "import pandas as pd\n",
    "import re\n",
    "import matplotlib.pyplot as plt\n",
    "from pygbif import species\n",
    "from pygbif import occurrences as occ\n",
    "import sqlite3\n",
    "from sqlite3 import Error\n",
    "import pydot"
   ]
  },
  {
   "cell_type": "markdown",
   "metadata": {},
   "source": [
    "### Setting up some parameters"
   ]
  },
  {
   "cell_type": "code",
   "execution_count": 937,
   "metadata": {},
   "outputs": [],
   "source": [
    "# There is no point accepting all the species that have more than one record.\n",
    "# There are too many casual records of plants and birds\n",
    "thresholdForOccNum = 5\n",
    "# If you want to exclude an interaction add it here\n",
    "#interactionsToExclude = \"visitsFlowersOf\" #If you're not intersted in pollinators this will remove most of them\n",
    "interactionsToExclude = \"interactsWith\"    #Many interactions in GloBI do not specify a specific interaction. You can get a cleaner netwot by excluding them\n",
    "#interactionsToExclude = \"\""
   ]
  },
  {
   "cell_type": "code",
   "execution_count": 938,
   "metadata": {},
   "outputs": [],
   "source": [
    "\n",
    "## Define the country of interest\n",
    "country  = 'Belgium'\n",
    "\n",
    "## The occurrence cube has data for each year, but here we aggreagate years to get a more complete measure of occupancy.\n",
    "## This parameter defines the year from where to consider records for the occupancy\n",
    "year = 2000\n",
    "\n",
    "## Define the place to find the data cube for occupancy data\n",
    "## Currently the cube contains only Belgian data so that is all that can be used\n",
    "database = r\"..\\..\\data\\cube.db\" \n",
    "\n",
    "## Define the place to find the interaction data\n",
    "globiDB = r\"..\\..\\createGlobiDB\\globi.db\""
   ]
  },
  {
   "cell_type": "markdown",
   "metadata": {},
   "source": [
    "### Define the taxon for the notebook for which to find all interactions\n"
   ]
  },
  {
   "cell_type": "code",
   "execution_count": 939,
   "metadata": {},
   "outputs": [
    {
     "name": "stdout",
     "output_type": "stream",
     "text": [
      "Corvus splendens\n"
     ]
    }
   ],
   "source": [
    "taxon=input()"
   ]
  },
  {
   "cell_type": "code",
   "execution_count": 940,
   "metadata": {},
   "outputs": [],
   "source": [
    "taxon = taxon.strip()"
   ]
  },
  {
   "cell_type": "markdown",
   "metadata": {},
   "source": [
    "## Check to see if the taxon exits in GBIF"
   ]
  },
  {
   "cell_type": "code",
   "execution_count": 941,
   "metadata": {},
   "outputs": [],
   "source": [
    "try:\n",
    "    #NOTE: The function method name_suggest has a different behavior with regards to the gender of Latin names to name_backbone\n",
    "    # If name_backbone is given a name in one gender it can still return the best match from the GBIF backbone if that\n",
    "    # name is spelled as if it was another gender.\n",
    "    #key = species.name_suggest(q=taxon, limit = 1)\n",
    "    match = species.name_backbone(name=taxon, limit = 1)\n",
    "    #print(key)\n",
    "    \n",
    "    # if there is no match this is returned form .name_backbone {'confidence': 100, 'matchType': 'NONE', 'synonym': False}\n",
    "    if match['matchType'] == 'NONE':\n",
    "        raise ValueError(\"TAXON NOT FOUND ON GBIF!\")\n",
    "    else:\n",
    "        key = match['usageKey']\n",
    "except ValueError as ve:\n",
    "    print(ve)\n",
    "    exit(1)\n",
    "\n",
    "\n"
   ]
  },
  {
   "cell_type": "code",
   "execution_count": 942,
   "metadata": {},
   "outputs": [
    {
     "name": "stdout",
     "output_type": "stream",
     "text": [
      "The taxon to be studied is Corvus splendens Vieillot, 1817\n"
     ]
    }
   ],
   "source": [
    "fullScientificName = match['scientificName']\n",
    "print('The taxon to be studied is ' + fullScientificName)\n"
   ]
  },
  {
   "cell_type": "markdown",
   "metadata": {},
   "source": [
    "### Just for information take a look at the interactions that the taxon has"
   ]
  },
  {
   "cell_type": "code",
   "execution_count": 943,
   "metadata": {},
   "outputs": [],
   "source": [
    "# What are all the types of interactions involving taxon as source taxon?\n",
    "#data[data['sourceTaxonName'] == taxon]['interactionTypeName'].unique()\n",
    "try:\n",
    "    connGlobi = sqlite3.connect(globiDB)\n",
    "except Error as e:\n",
    "    print(e)"
   ]
  },
  {
   "cell_type": "code",
   "execution_count": 944,
   "metadata": {},
   "outputs": [],
   "source": [
    "curGlobi = connGlobi.cursor()\n",
    "curGlobi.execute(\"SELECT interactionTypeName, COUNT(interactionTypeName) from globi  WHERE sourceTaxonSpeciesName = ? GROUP BY interactionTypeName;\", (taxon,))\n",
    "sourceInteractions = curGlobi.fetchall()"
   ]
  },
  {
   "cell_type": "code",
   "execution_count": 945,
   "metadata": {},
   "outputs": [
    {
     "data": {
      "text/plain": [
       "[('eats', 6)]"
      ]
     },
     "execution_count": 945,
     "metadata": {},
     "output_type": "execute_result"
    }
   ],
   "source": [
    "sourceInteractions"
   ]
  },
  {
   "cell_type": "code",
   "execution_count": 946,
   "metadata": {},
   "outputs": [
    {
     "data": {
      "text/plain": [
       "[('ectoparasiteOf', 12),\n",
       " ('hasHost', 34),\n",
       " ('interactsWith', 3),\n",
       " ('parasiteOf', 1)]"
      ]
     },
     "execution_count": 946,
     "metadata": {},
     "output_type": "execute_result"
    }
   ],
   "source": [
    "curGlobi = connGlobi.cursor()\n",
    "curGlobi.execute(\"SELECT interactionTypeName, COUNT(interactionTypeName) from globi  WHERE targetTaxonSpeciesName = ? GROUP BY interactionTypeName;\", (taxon,))\n",
    "targetInteractions = curGlobi.fetchall()\n",
    "targetInteractions"
   ]
  },
  {
   "cell_type": "markdown",
   "metadata": {},
   "source": [
    "## Get the primary interation data for the species in question\n",
    "\n",
    "This is limited to the rank of species because otherwise the network can get very large with rather irrelivent higher taxa.\n",
    "However, if no interactions are found at the species level it might be worth removing this restriction."
   ]
  },
  {
   "cell_type": "code",
   "execution_count": 947,
   "metadata": {},
   "outputs": [],
   "source": [
    "curGlobi = connGlobi.cursor()\n",
    "#curGlobi.execute(\"SELECT * from globi  WHERE targetTaxonName = ? and interactionTypeName NOT IN (?);\", \\\n",
    "if interactionsToExclude == \"\":\n",
    "    curGlobi.execute(\"SELECT * from globi  WHERE targetTaxonSpeciesName = ?;\", \\\n",
    "                 (taxon,))\n",
    "else:\n",
    "    curGlobi.execute(\"SELECT * from globi  WHERE targetTaxonSpeciesName = ? and interactionTypeName NOT IN (?);\", \\\n",
    "                 (taxon,interactionsToExclude,))\n",
    "interactDataTaxon = curGlobi.fetchall()"
   ]
  },
  {
   "cell_type": "code",
   "execution_count": 948,
   "metadata": {},
   "outputs": [],
   "source": [
    "curGlobi = connGlobi.cursor()\n",
    "#curGlobi.execute(\"SELECT * from globi  WHERE sourceTaxonName = ? and interactionTypeName NOT IN (?);\", \\\n",
    "if interactionsToExclude == \"\":\n",
    "    curGlobi.execute(\"SELECT * from globi  WHERE sourceTaxonSpeciesName = ?;\", \\\n",
    "                 (taxon,))\n",
    "else:\n",
    "    curGlobi.execute(\"SELECT * from globi  WHERE sourceTaxonSpeciesName = ? and interactionTypeName NOT IN (?);\", \\\n",
    "                 (taxon,interactionsToExclude,))\n",
    "sources = curGlobi.fetchall()"
   ]
  },
  {
   "cell_type": "code",
   "execution_count": 949,
   "metadata": {},
   "outputs": [
    {
     "data": {
      "text/plain": [
       "53"
      ]
     },
     "execution_count": 949,
     "metadata": {},
     "output_type": "execute_result"
    }
   ],
   "source": [
    "interactDataTaxon.extend(sources)\n",
    "len(interactDataTaxon)"
   ]
  },
  {
   "cell_type": "code",
   "execution_count": 950,
   "metadata": {},
   "outputs": [],
   "source": [
    "# Convert to a Pandas dataframe\n",
    "interactDataTaxon = pd.DataFrame(interactDataTaxon)"
   ]
  },
  {
   "cell_type": "code",
   "execution_count": 951,
   "metadata": {},
   "outputs": [],
   "source": [
    "# Add column names\n",
    "interactDataTaxon\n",
    "interactDataTaxon.columns = ['sourceTaxonId', \\\n",
    "                                'sourceTaxonIds','sourceTaxonName','sourceTaxonRank','sourceTaxonPathNames', \\\n",
    "                                'sourceTaxonPathIds','sourceTaxonPathRankNames','sourceTaxonSpeciesName','sourceTaxonSpeciesId',\\\n",
    "                                'sourceTaxonGenusName','sourceTaxonGenusId','sourceTaxonFamilyName','sourceTaxonFamilyId',\\\n",
    "                                'sourceTaxonOrderName','sourceTaxonOrderId','sourceTaxonClassName','sourceTaxonClassId',\\\n",
    "                                'sourceTaxonPhylumName','sourceTaxonPhylumId','sourceTaxonKingdomName','sourceTaxonKingdomId',\\\n",
    "                                'sourceId','sourceOccurrenceId','sourceCatalogNumber','sourceBasisOfRecordId',\\\n",
    "                                'sourceBasisOfRecordName','sourceLifeStageId','sourceLifeStageName','sourceBodyPartId',\\\n",
    "                                'sourceBodyPartName','sourcePhysiologicalStateId','sourcePhysiologicalStateName', \\\n",
    "                                'sourceSexId', 'sourceSexName','interactionTypeName',\\\n",
    "                                'interactionTypeId','targetTaxonId','targetTaxonIds','targetTaxonName',\\\n",
    "                                'targetTaxonRank','targetTaxonPathNames','targetTaxonPathIds','targetTaxonPathRankNames',\\\n",
    "                                'targetTaxonSpeciesName','targetTaxonSpeciesId','targetTaxonGenusName','targetTaxonGenusId',\\\n",
    "                                'targetTaxonFamilyName','targetTaxonFamilyId','targetTaxonOrderName','targetTaxonOrderId',\\\n",
    "                                'targetTaxonClassName','targetTaxonClassId','targetTaxonPhylumName','targetTaxonPhylumId',\\\n",
    "                                'targetTaxonKingdomName','targetTaxonKingdomId','targetId','targetOccurrenceId',\\\n",
    "                                'targetCatalogNumber','targetBasisOfRecordId','targetBasisOfRecordName','targetLifeStageId',\\\n",
    "                                'targetLifeStageName','targetBodyPartId','targetBodyPartName','targetPhysiologicalStateId',\\\n",
    "                                'targetPhysiologicalStateName', 'targetSexId', 'targetSexName',\\\n",
    "                                'decimalLatitude','decimalLongitude','localityId',\\\n",
    "                                'localityName','eventDateUnixEpoch','argumentTypeId','referenceCitation',\\\n",
    "                                'referenceDoi','referenceUrl','sourceCitation','sourceNamespace',\\\n",
    "                                'sourceArchiveURI','sourceDOI','sourceLastSeenAtUnixEpoch']"
   ]
  },
  {
   "cell_type": "markdown",
   "metadata": {},
   "source": [
    "## Get a list of all the primary interacting species"
   ]
  },
  {
   "cell_type": "code",
   "execution_count": 952,
   "metadata": {},
   "outputs": [],
   "source": [
    "interactingTaxaData = interactDataTaxon.drop_duplicates()"
   ]
  },
  {
   "cell_type": "code",
   "execution_count": 953,
   "metadata": {},
   "outputs": [
    {
     "data": {
      "text/plain": [
       "15"
      ]
     },
     "execution_count": 953,
     "metadata": {},
     "output_type": "execute_result"
    }
   ],
   "source": [
    "primaryInteractingTaxa = interactingTaxaData['sourceTaxonName'].drop_duplicates()\n",
    "len(primaryInteractingTaxa)"
   ]
  },
  {
   "cell_type": "code",
   "execution_count": 954,
   "metadata": {},
   "outputs": [
    {
     "data": {
      "text/plain": [
       "22"
      ]
     },
     "execution_count": 954,
     "metadata": {},
     "output_type": "execute_result"
    }
   ],
   "source": [
    "primaryInteractingTaxa = (primaryInteractingTaxa.append(interactingTaxaData['targetTaxonName']).drop_duplicates())\n",
    "len(primaryInteractingTaxa)"
   ]
  },
  {
   "cell_type": "code",
   "execution_count": 955,
   "metadata": {},
   "outputs": [
    {
     "data": {
      "text/plain": [
       "0         Menacanthus gonophaeus\n",
       "1           Menacanthus merisuoi\n",
       "2               Brueelia saliemi\n",
       "3         Philopterus lahorensis\n",
       "4             Myrsidea bakttitar\n",
       "5              Myrsidea insolita\n",
       "7          Colpocephalum fregili\n",
       "8        Myrsidea splendenticola\n",
       "10                 Colpocephalum\n",
       "11                   Menacanthus\n",
       "12             Avian coronavirus\n",
       "15                         Acari\n",
       "20                   Raillietina\n",
       "22               Influenza virus\n",
       "47              Corvus splendens\n",
       "5      Corvus splendens insolens\n",
       "15    Corvus splendens splendens\n",
       "47                    Securinega\n",
       "48           Manilkara henxandra\n",
       "49         Lannaea coramandelica\n",
       "50            Ficus benghalensis\n",
       "51              Vespa orientalis\n",
       "dtype: object"
      ]
     },
     "execution_count": 955,
     "metadata": {},
     "output_type": "execute_result"
    }
   ],
   "source": [
    "primaryInteractingTaxa"
   ]
  },
  {
   "cell_type": "markdown",
   "metadata": {},
   "source": [
    "## A function to query the globi database"
   ]
  },
  {
   "cell_type": "code",
   "execution_count": 956,
   "metadata": {},
   "outputs": [],
   "source": [
    "def secondaryDataInGlobi(conn, intaxon):\n",
    "    cur = conn.cursor()\n",
    "    if interactionsToExclude == \"\":\n",
    "        cur.execute(\"SELECT * from globi  WHERE (targetTaxonSpeciesName = ? OR sourceTaxonSpeciesName = ?);\", \\\n",
    "                 (intaxon,intaxon,))\n",
    "    else:\n",
    "        cur.execute(\"SELECT * from globi where (targetTaxonSpeciesName = ? OR sourceTaxonSpeciesName = ?) and interactionTypeName NOT IN (?);\", \\\n",
    "                (intaxon,intaxon,interactionsToExclude,))\n",
    "    return(cur.fetchall())"
   ]
  },
  {
   "cell_type": "markdown",
   "metadata": {},
   "source": [
    "## Get all the secondary interactions"
   ]
  },
  {
   "cell_type": "code",
   "execution_count": 957,
   "metadata": {},
   "outputs": [],
   "source": [
    "try:\n",
    "    conn = sqlite3.connect(globiDB)\n",
    "except Error as e:\n",
    "    print(e)"
   ]
  },
  {
   "cell_type": "code",
   "execution_count": 958,
   "metadata": {},
   "outputs": [],
   "source": [
    "secondarylist = []\n",
    "\n",
    "for name in primaryInteractingTaxa:\n",
    "    temp = secondaryDataInGlobi(conn, name)\n",
    "    secondarylist.extend(temp)"
   ]
  },
  {
   "cell_type": "code",
   "execution_count": 959,
   "metadata": {},
   "outputs": [],
   "source": [
    "# Convert to a Pandas dataframe\n",
    "secondarylist = pd.DataFrame(secondarylist)"
   ]
  },
  {
   "cell_type": "code",
   "execution_count": 960,
   "metadata": {},
   "outputs": [],
   "source": [
    "secondarylist.columns = ['sourceTaxonId', \\\n",
    "                                'sourceTaxonIds','sourceTaxonName','sourceTaxonRank','sourceTaxonPathNames', \\\n",
    "                                'sourceTaxonPathIds','sourceTaxonPathRankNames','sourceTaxonSpeciesName','sourceTaxonSpeciesId',\\\n",
    "                                'sourceTaxonGenusName','sourceTaxonGenusId','sourceTaxonFamilyName','sourceTaxonFamilyId',\\\n",
    "                                'sourceTaxonOrderName','sourceTaxonOrderId','sourceTaxonClassName','sourceTaxonClassId',\\\n",
    "                                'sourceTaxonPhylumName','sourceTaxonPhylumId','sourceTaxonKingdomName','sourceTaxonKingdomId',\\\n",
    "                                'sourceId','sourceOccurrenceId','sourceCatalogNumber','sourceBasisOfRecordId',\\\n",
    "                                'sourceBasisOfRecordName','sourceLifeStageId','sourceLifeStageName','sourceBodyPartId',\\\n",
    "                                'sourceBodyPartName','sourcePhysiologicalStateId','sourcePhysiologicalStateName',\\\n",
    "                                'sourceSexId', 'sourceSexName', 'interactionTypeName',\\\n",
    "                                'interactionTypeId','targetTaxonId','targetTaxonIds','targetTaxonName',\\\n",
    "                                'targetTaxonRank','targetTaxonPathNames','targetTaxonPathIds','targetTaxonPathRankNames',\\\n",
    "                                'targetTaxonSpeciesName','targetTaxonSpeciesId','targetTaxonGenusName','targetTaxonGenusId',\\\n",
    "                                'targetTaxonFamilyName','targetTaxonFamilyId','targetTaxonOrderName','targetTaxonOrderId',\\\n",
    "                                'targetTaxonClassName','targetTaxonClassId','targetTaxonPhylumName','targetTaxonPhylumId',\\\n",
    "                                'targetTaxonKingdomName','targetTaxonKingdomId','targetId','targetOccurrenceId',\\\n",
    "                                'targetCatalogNumber','targetBasisOfRecordId','targetBasisOfRecordName','targetLifeStageId',\\\n",
    "                                'targetLifeStageName','targetBodyPartId','targetBodyPartName','targetPhysiologicalStateId',\\\n",
    "                                'targetPhysiologicalStateName', 'targetSexId', 'targetSexName', \\\n",
    "                                'decimalLatitude','decimalLongitude','localityId',\\\n",
    "                                'localityName','eventDateUnixEpoch','argumentTypeId','referenceCitation',\\\n",
    "                                'referenceDoi','referenceUrl','sourceCitation','sourceNamespace',\\\n",
    "                                'sourceArchiveURI','sourceDOI','sourceLastSeenAtUnixEpoch']"
   ]
  },
  {
   "cell_type": "code",
   "execution_count": 961,
   "metadata": {},
   "outputs": [],
   "source": [
    "allInteractionsData = interactingTaxaData.append(secondarylist)"
   ]
  },
  {
   "cell_type": "code",
   "execution_count": 962,
   "metadata": {},
   "outputs": [],
   "source": [
    "allInteractionsData = allInteractionsData.drop_duplicates()\n"
   ]
  },
  {
   "cell_type": "code",
   "execution_count": 963,
   "metadata": {},
   "outputs": [],
   "source": [
    "    cleanInteractDataTaxon = allInteractionsData[['sourceTaxonId', 'sourceTaxonName', 'sourceTaxonSpeciesName', 'sourceTaxonRank',\n",
    "       'sourceTaxonFamilyName', 'interactionTypeName',\n",
    "       'targetTaxonName','targetTaxonSpeciesName','targetTaxonRank', 'sourceCitation', 'sourceDOI'\n",
    "        ]].dropna(subset=['targetTaxonSpeciesName','sourceTaxonSpeciesName'])"
   ]
  },
  {
   "cell_type": "code",
   "execution_count": 964,
   "metadata": {},
   "outputs": [],
   "source": [
    "allSourceInteractingTaxa = cleanInteractDataTaxon['sourceTaxonSpeciesName'].drop_duplicates()\n",
    "allTargetInteractingTaxa = cleanInteractDataTaxon['targetTaxonSpeciesName'].drop_duplicates()"
   ]
  },
  {
   "cell_type": "code",
   "execution_count": 965,
   "metadata": {},
   "outputs": [
    {
     "data": {
      "text/plain": [
       "144"
      ]
     },
     "execution_count": 965,
     "metadata": {},
     "output_type": "execute_result"
    }
   ],
   "source": [
    "allInteractingTaxa = allSourceInteractingTaxa.append(allTargetInteractingTaxa).drop_duplicates()\n",
    "allInteractingTaxa.count()"
   ]
  },
  {
   "cell_type": "code",
   "execution_count": 966,
   "metadata": {},
   "outputs": [
    {
     "data": {
      "text/plain": [
       "0    Menacanthus gonophaeus\n",
       "1      Menacanthus merisuoi\n",
       "2          Brueelia saliemi\n",
       "3    Philopterus lahorensis\n",
       "4        Myrsidea bakttitar\n",
       "dtype: object"
      ]
     },
     "execution_count": 966,
     "metadata": {},
     "output_type": "execute_result"
    }
   ],
   "source": [
    "allInteractingTaxa.head()"
   ]
  },
  {
   "cell_type": "code",
   "execution_count": 967,
   "metadata": {},
   "outputs": [
    {
     "data": {
      "text/plain": [
       "interactionTypeName\n",
       "hasHost           8650\n",
       "parasiteOf          80\n",
       "eats                44\n",
       "ectoparasiteOf      25\n",
       "pathogenOf           7\n",
       "hasVector            6\n",
       "coOccursWith         4\n",
       "dtype: int64"
      ]
     },
     "execution_count": 967,
     "metadata": {},
     "output_type": "execute_result"
    }
   ],
   "source": [
    "# How many different sort of interaction do I have left?\n",
    "# Checking out all the interaction types\n",
    "cleanInteractDataTaxon.groupby(cleanInteractDataTaxon['interactionTypeName']).size().sort_values(ascending = False)"
   ]
  },
  {
   "cell_type": "markdown",
   "metadata": {},
   "source": [
    "### This function takes a name string and checks on GBIF to see if the name exists there."
   ]
  },
  {
   "cell_type": "code",
   "execution_count": 968,
   "metadata": {},
   "outputs": [],
   "source": [
    "def speciesExistsInGBIF(name, rank):\n",
    "    try:\n",
    "        match = species.name_backbone(name=name, rank=rank, limit = 1)\n",
    "\n",
    "        # if there is no match this is returned from .name_backbone {'confidence': 100, 'matchType': 'NONE', 'synonym': False}\n",
    "        if match['matchType'] == 'NONE':\n",
    "            return False\n",
    "        else:\n",
    "            return match\n",
    "    except ValueError as ve:\n",
    "        print(ve)\n",
    "        exit(1)"
   ]
  },
  {
   "cell_type": "markdown",
   "metadata": {},
   "source": [
    "### Check that the species in question is actually found on GBIF"
   ]
  },
  {
   "cell_type": "code",
   "execution_count": 969,
   "metadata": {},
   "outputs": [],
   "source": [
    "if(speciesExistsInGBIF(taxon, \"species\") == False):\n",
    "    print(\"##### {0} has not been found on GBIF #####\".format(taxon))"
   ]
  },
  {
   "cell_type": "markdown",
   "metadata": {},
   "source": [
    "### Citation for the GBIF Backbone Taxonomy"
   ]
  },
  {
   "cell_type": "code",
   "execution_count": null,
   "metadata": {},
   "outputs": [
    {
     "name": "stdout",
     "output_type": "stream",
     "text": [
      "GBIF Secretariat (2019). GBIF Backbone Taxonomy. Checklist dataset https://doi.org/10.15468/39omei accessed via GBIF.org on  2020-06-21\n"
     ]
    }
   ],
   "source": [
    "from datetime import date\n",
    "print(\"GBIF Secretariat (2019). GBIF Backbone Taxonomy. Checklist dataset https://doi.org/10.15468/39omei accessed via GBIF.org on \", date.today())"
   ]
  },
  {
   "cell_type": "markdown",
   "metadata": {},
   "source": [
    "### Check to see which taxa in the interaction network are found in GBIF and list those ones that are not"
   ]
  },
  {
   "cell_type": "code",
   "execution_count": null,
   "metadata": {},
   "outputs": [
    {
     "name": "stdout",
     "output_type": "stream",
     "text": [
      "Taxa from GLoBI, but not found in GBIF\n",
      "\n"
     ]
    }
   ],
   "source": [
    "taxaFound = {}\n",
    "\n",
    "print('Taxa from GLoBI, but not found in GBIF')\n",
    "for name in allInteractingTaxa.items():\n",
    "    GBIFName = speciesExistsInGBIF(name[1], \"species\")\n",
    "    if GBIFName == False:\n",
    "        taxaFound[name[1]] = False\n",
    "        print(name[1])\n",
    "    else:\n",
    "        taxaFound[name[1]] = GBIFName['usageKey']\n",
    "    "
   ]
  },
  {
   "cell_type": "code",
   "execution_count": null,
   "metadata": {},
   "outputs": [],
   "source": [
    "# Convert to a Pandas dataframe\n",
    "taxaFound = pd.DataFrame.from_dict(taxaFound, orient='index')"
   ]
  },
  {
   "cell_type": "code",
   "execution_count": null,
   "metadata": {},
   "outputs": [
    {
     "data": {
      "text/plain": [
       "144"
      ]
     },
     "execution_count": 973,
     "metadata": {},
     "output_type": "execute_result"
    }
   ],
   "source": [
    "len(taxaFound)"
   ]
  },
  {
   "cell_type": "code",
   "execution_count": null,
   "metadata": {},
   "outputs": [
    {
     "data": {
      "text/html": [
       "<div>\n",
       "<style scoped>\n",
       "    .dataframe tbody tr th:only-of-type {\n",
       "        vertical-align: middle;\n",
       "    }\n",
       "\n",
       "    .dataframe tbody tr th {\n",
       "        vertical-align: top;\n",
       "    }\n",
       "\n",
       "    .dataframe thead th {\n",
       "        text-align: right;\n",
       "    }\n",
       "</style>\n",
       "<table border=\"1\" class=\"dataframe\">\n",
       "  <thead>\n",
       "    <tr style=\"text-align: right;\">\n",
       "      <th></th>\n",
       "      <th>0</th>\n",
       "    </tr>\n",
       "  </thead>\n",
       "  <tbody>\n",
       "    <tr>\n",
       "      <th>Menacanthus gonophaeus</th>\n",
       "      <td>4422889</td>\n",
       "    </tr>\n",
       "    <tr>\n",
       "      <th>Menacanthus merisuoi</th>\n",
       "      <td>6935015</td>\n",
       "    </tr>\n",
       "    <tr>\n",
       "      <th>Brueelia saliemi</th>\n",
       "      <td>6937594</td>\n",
       "    </tr>\n",
       "    <tr>\n",
       "      <th>Philopterus lahorensis</th>\n",
       "      <td>6937027</td>\n",
       "    </tr>\n",
       "    <tr>\n",
       "      <th>Myrsidea bakttitar</th>\n",
       "      <td>6935599</td>\n",
       "    </tr>\n",
       "    <tr>\n",
       "      <th>Myrsidea insolita</th>\n",
       "      <td>6935452</td>\n",
       "    </tr>\n",
       "    <tr>\n",
       "      <th>Colpocephalum fregili</th>\n",
       "      <td>1032763</td>\n",
       "    </tr>\n",
       "    <tr>\n",
       "      <th>Myrsidea splendenticola</th>\n",
       "      <td>6935405</td>\n",
       "    </tr>\n",
       "    <tr>\n",
       "      <th></th>\n",
       "      <td>False</td>\n",
       "    </tr>\n",
       "    <tr>\n",
       "      <th>Avian coronavirus</th>\n",
       "      <td>9917490</td>\n",
       "    </tr>\n",
       "    <tr>\n",
       "      <th>Influenza A virus</th>\n",
       "      <td>10308782</td>\n",
       "    </tr>\n",
       "    <tr>\n",
       "      <th>Corvus splendens</th>\n",
       "      <td>2482499</td>\n",
       "    </tr>\n",
       "    <tr>\n",
       "      <th>Canis aureus</th>\n",
       "      <td>5219219</td>\n",
       "    </tr>\n",
       "    <tr>\n",
       "      <th>Macaca radiata</th>\n",
       "      <td>2436612</td>\n",
       "    </tr>\n",
       "    <tr>\n",
       "      <th>Megalaima haemacephala</th>\n",
       "      <td>2478661</td>\n",
       "    </tr>\n",
       "    <tr>\n",
       "      <th>Oriolus oriolus</th>\n",
       "      <td>2488949</td>\n",
       "    </tr>\n",
       "    <tr>\n",
       "      <th>Pteropus giganteus</th>\n",
       "      <td>5218642</td>\n",
       "    </tr>\n",
       "    <tr>\n",
       "      <th>Cynopterus sphinx</th>\n",
       "      <td>2432836</td>\n",
       "    </tr>\n",
       "    <tr>\n",
       "      <th>Pteropus niger</th>\n",
       "      <td>5218652</td>\n",
       "    </tr>\n",
       "    <tr>\n",
       "      <th>Rousettus aegyptiacus</th>\n",
       "      <td>2432953</td>\n",
       "    </tr>\n",
       "    <tr>\n",
       "      <th>Rousettus leschenaultii</th>\n",
       "      <td>7261759</td>\n",
       "    </tr>\n",
       "    <tr>\n",
       "      <th>Pteropus dasymallus</th>\n",
       "      <td>5218670</td>\n",
       "    </tr>\n",
       "    <tr>\n",
       "      <th>Euploea core</th>\n",
       "      <td>5136713</td>\n",
       "    </tr>\n",
       "    <tr>\n",
       "      <th>Cyrestis thyodamas</th>\n",
       "      <td>1904948</td>\n",
       "    </tr>\n",
       "    <tr>\n",
       "      <th>Leucophaeus atricilla</th>\n",
       "      <td>6065844</td>\n",
       "    </tr>\n",
       "    <tr>\n",
       "      <th>Philiris innotata</th>\n",
       "      <td>1931189</td>\n",
       "    </tr>\n",
       "    <tr>\n",
       "      <th>Eupristina masoni</th>\n",
       "      <td>1359524</td>\n",
       "    </tr>\n",
       "    <tr>\n",
       "      <th>Bruchophagus rexus</th>\n",
       "      <td>1370779</td>\n",
       "    </tr>\n",
       "    <tr>\n",
       "      <th>Chrysocharis echinata</th>\n",
       "      <td>1384865</td>\n",
       "    </tr>\n",
       "    <tr>\n",
       "      <th>Tetrastichus bellus</th>\n",
       "      <td>1381835</td>\n",
       "    </tr>\n",
       "    <tr>\n",
       "      <th>...</th>\n",
       "      <td>...</td>\n",
       "    </tr>\n",
       "    <tr>\n",
       "      <th>Calidris alba</th>\n",
       "      <td>2481748</td>\n",
       "    </tr>\n",
       "    <tr>\n",
       "      <th>Sterna hirundo</th>\n",
       "      <td>9367409</td>\n",
       "    </tr>\n",
       "    <tr>\n",
       "      <th>Anas strepera</th>\n",
       "      <td>2498151</td>\n",
       "    </tr>\n",
       "    <tr>\n",
       "      <th>Sturnus vulgaris</th>\n",
       "      <td>9809229</td>\n",
       "    </tr>\n",
       "    <tr>\n",
       "      <th>Megascops choliba</th>\n",
       "      <td>2497365</td>\n",
       "    </tr>\n",
       "    <tr>\n",
       "      <th>Pitangus sulphuratus</th>\n",
       "      <td>2482755</td>\n",
       "    </tr>\n",
       "    <tr>\n",
       "      <th>Caracara plancus</th>\n",
       "      <td>2480989</td>\n",
       "    </tr>\n",
       "    <tr>\n",
       "      <th>Rupornis magnirostris</th>\n",
       "      <td>5844398</td>\n",
       "    </tr>\n",
       "    <tr>\n",
       "      <th>Colaptes campestris</th>\n",
       "      <td>2478233</td>\n",
       "    </tr>\n",
       "    <tr>\n",
       "      <th>Pseudoscops clamator</th>\n",
       "      <td>2497774</td>\n",
       "    </tr>\n",
       "    <tr>\n",
       "      <th>Pyroderus scutatus</th>\n",
       "      <td>2486243</td>\n",
       "    </tr>\n",
       "    <tr>\n",
       "      <th>Porphyrio martinica</th>\n",
       "      <td>5228136</td>\n",
       "    </tr>\n",
       "    <tr>\n",
       "      <th>Penelope superciliaris</th>\n",
       "      <td>2482204</td>\n",
       "    </tr>\n",
       "    <tr>\n",
       "      <th>Pavo cristatus</th>\n",
       "      <td>9451184</td>\n",
       "    </tr>\n",
       "    <tr>\n",
       "      <th>Aptenodytes patagonicus</th>\n",
       "      <td>2481660</td>\n",
       "    </tr>\n",
       "    <tr>\n",
       "      <th>Agamia agami</th>\n",
       "      <td>2480836</td>\n",
       "    </tr>\n",
       "    <tr>\n",
       "      <th>Ardeola bacchus</th>\n",
       "      <td>2480907</td>\n",
       "    </tr>\n",
       "    <tr>\n",
       "      <th>Dendrocygna javanica</th>\n",
       "      <td>2498404</td>\n",
       "    </tr>\n",
       "    <tr>\n",
       "      <th>Aythya marila</th>\n",
       "      <td>2498265</td>\n",
       "    </tr>\n",
       "    <tr>\n",
       "      <th>Anser caerulescens</th>\n",
       "      <td>2498167</td>\n",
       "    </tr>\n",
       "    <tr>\n",
       "      <th>Calidris ptilocnemis</th>\n",
       "      <td>5229395</td>\n",
       "    </tr>\n",
       "    <tr>\n",
       "      <th>Larus glaucescens</th>\n",
       "      <td>2481196</td>\n",
       "    </tr>\n",
       "    <tr>\n",
       "      <th>Calidris mauri</th>\n",
       "      <td>2481742</td>\n",
       "    </tr>\n",
       "    <tr>\n",
       "      <th>Larus hyperboreus</th>\n",
       "      <td>2481127</td>\n",
       "    </tr>\n",
       "    <tr>\n",
       "      <th>Sus scrofa</th>\n",
       "      <td>7705930</td>\n",
       "    </tr>\n",
       "    <tr>\n",
       "      <th>Lonchura striata</th>\n",
       "      <td>2493618</td>\n",
       "    </tr>\n",
       "    <tr>\n",
       "      <th>Turdus hortulorum</th>\n",
       "      <td>2490733</td>\n",
       "    </tr>\n",
       "    <tr>\n",
       "      <th>Lama pacos</th>\n",
       "      <td>5220189</td>\n",
       "    </tr>\n",
       "    <tr>\n",
       "      <th>Anas americana</th>\n",
       "      <td>2498154</td>\n",
       "    </tr>\n",
       "    <tr>\n",
       "      <th>Chen caerulescens</th>\n",
       "      <td>2498165</td>\n",
       "    </tr>\n",
       "  </tbody>\n",
       "</table>\n",
       "<p>144 rows × 1 columns</p>\n",
       "</div>"
      ],
      "text/plain": [
       "                                0\n",
       "Menacanthus gonophaeus    4422889\n",
       "Menacanthus merisuoi      6935015\n",
       "Brueelia saliemi          6937594\n",
       "Philopterus lahorensis    6937027\n",
       "Myrsidea bakttitar        6935599\n",
       "Myrsidea insolita         6935452\n",
       "Colpocephalum fregili     1032763\n",
       "Myrsidea splendenticola   6935405\n",
       "                            False\n",
       "Avian coronavirus         9917490\n",
       "Influenza A virus        10308782\n",
       "Corvus splendens          2482499\n",
       "Canis aureus              5219219\n",
       "Macaca radiata            2436612\n",
       "Megalaima haemacephala    2478661\n",
       "Oriolus oriolus           2488949\n",
       "Pteropus giganteus        5218642\n",
       "Cynopterus sphinx         2432836\n",
       "Pteropus niger            5218652\n",
       "Rousettus aegyptiacus     2432953\n",
       "Rousettus leschenaultii   7261759\n",
       "Pteropus dasymallus       5218670\n",
       "Euploea core              5136713\n",
       "Cyrestis thyodamas        1904948\n",
       "Leucophaeus atricilla     6065844\n",
       "Philiris innotata         1931189\n",
       "Eupristina masoni         1359524\n",
       "Bruchophagus rexus        1370779\n",
       "Chrysocharis echinata     1384865\n",
       "Tetrastichus bellus       1381835\n",
       "...                           ...\n",
       "Calidris alba             2481748\n",
       "Sterna hirundo            9367409\n",
       "Anas strepera             2498151\n",
       "Sturnus vulgaris          9809229\n",
       "Megascops choliba         2497365\n",
       "Pitangus sulphuratus      2482755\n",
       "Caracara plancus          2480989\n",
       "Rupornis magnirostris     5844398\n",
       "Colaptes campestris       2478233\n",
       "Pseudoscops clamator      2497774\n",
       "Pyroderus scutatus        2486243\n",
       "Porphyrio martinica       5228136\n",
       "Penelope superciliaris    2482204\n",
       "Pavo cristatus            9451184\n",
       "Aptenodytes patagonicus   2481660\n",
       "Agamia agami              2480836\n",
       "Ardeola bacchus           2480907\n",
       "Dendrocygna javanica      2498404\n",
       "Aythya marila             2498265\n",
       "Anser caerulescens        2498167\n",
       "Calidris ptilocnemis      5229395\n",
       "Larus glaucescens         2481196\n",
       "Calidris mauri            2481742\n",
       "Larus hyperboreus         2481127\n",
       "Sus scrofa                7705930\n",
       "Lonchura striata          2493618\n",
       "Turdus hortulorum         2490733\n",
       "Lama pacos                5220189\n",
       "Anas americana            2498154\n",
       "Chen caerulescens         2498165\n",
       "\n",
       "[144 rows x 1 columns]"
      ]
     },
     "execution_count": 974,
     "metadata": {},
     "output_type": "execute_result"
    }
   ],
   "source": [
    "taxaFound"
   ]
  },
  {
   "cell_type": "markdown",
   "metadata": {},
   "source": [
    "### This function takes a GBIF species key and counts how many occurences exist in the data cube"
   ]
  },
  {
   "cell_type": "code",
   "execution_count": null,
   "metadata": {},
   "outputs": [],
   "source": [
    "def speciesCountInCube(conn, key):\n",
    "    cur = conn.cursor()\n",
    "    cur.execute(\"SELECT COUNT(taxonKey) from (SELECT taxonKey FROM cube WHERE year > ? and taxonKey = ? GROUP BY eea_cell_code)\", (year, key,))\n",
    "    return(cur.fetchall())"
   ]
  },
  {
   "cell_type": "markdown",
   "metadata": {},
   "source": [
    "### Loop over all the taxa that are in the interaction network and are in GBIF to find the ones that have been found in the country"
   ]
  },
  {
   "cell_type": "code",
   "execution_count": null,
   "metadata": {},
   "outputs": [],
   "source": [
    "taxaFoundInCountry = []\n",
    "\n",
    "try:\n",
    "    conn = sqlite3.connect(database)\n",
    "except Error as e:\n",
    "    print(e)"
   ]
  },
  {
   "cell_type": "code",
   "execution_count": null,
   "metadata": {},
   "outputs": [
    {
     "data": {
      "text/plain": [
       "2000"
      ]
     },
     "execution_count": 977,
     "metadata": {},
     "output_type": "execute_result"
    }
   ],
   "source": [
    "year"
   ]
  },
  {
   "cell_type": "code",
   "execution_count": null,
   "metadata": {},
   "outputs": [
    {
     "name": "stdout",
     "output_type": "stream",
     "text": [
      "Menacanthus gonophaeus\n",
      "Menacanthus merisuoi\n",
      "Brueelia saliemi\n",
      "Philopterus lahorensis\n",
      "Myrsidea bakttitar\n",
      "Myrsidea insolita\n",
      "Colpocephalum fregili\n",
      "Myrsidea splendenticola\n",
      "\n",
      "Avian coronavirus\n",
      "Influenza A virus\n",
      "Corvus splendens\n",
      "Corvus splendens with key 2482499 occurs in 0 km squares.\n",
      "Canis aureus\n",
      "Macaca radiata\n",
      "Megalaima haemacephala\n",
      "Oriolus oriolus\n",
      "Oriolus oriolus with key 2488949 occurs in 5389 km squares.\n",
      "Pteropus giganteus\n",
      "Cynopterus sphinx\n",
      "Pteropus niger\n",
      "Rousettus aegyptiacus\n",
      "Rousettus leschenaultii\n",
      "Pteropus dasymallus\n",
      "Euploea core\n",
      "Cyrestis thyodamas\n",
      "Leucophaeus atricilla\n",
      "Philiris innotata\n",
      "Eupristina masoni\n",
      "Bruchophagus rexus\n",
      "Chrysocharis echinata\n",
      "Tetrastichus bellus\n",
      "Sycoscapter guruti\n",
      "Sycophilomorpha saptapurensis\n",
      "Sycophilodes moniliformis\n",
      "Sycophila dharwarensis\n",
      "Josephiella malabarensis\n",
      "Walkerella temeraria\n",
      "Micranisa pteromaloides\n",
      "Philotrypesis affinis\n",
      "Sycoscapter stabilis\n",
      "Anastatus colemani\n",
      "Acroclisoides indicus\n",
      "Balcha elegans\n",
      "Rhopus aligarhensis\n",
      "Closterocerus pulcherrimus\n",
      "Philotrypesis anguliceps\n",
      "Sycophila benghalensis\n",
      "Ormyrus sheelae\n",
      "Ormyrus zamoorini\n",
      "Sycophila karnatakensis\n",
      "Sycophila decatomoides\n",
      "Sycophila pilosa\n",
      "Sycobia bethyloides\n",
      "Sycophila robusta\n",
      "Sycoscapter monilifer\n",
      "Philotrypesis transiens\n",
      "Erencyrtus dewitzii\n",
      "Ficus benghalensis\n",
      "Vespa orientalis\n",
      "Corvus frugilegus\n",
      "Corvus frugilegus with key 2482513 occurs in 8944 km squares.\n",
      "Corvus albus\n",
      "Corvus albus with key 2482519 occurs in 6 km squares.\n",
      "Corvus tasmanicus\n",
      "Corvus mellori\n",
      "Corvus coronoides\n",
      "Urocissa flavirostris\n",
      "Nucifraga caryocatactes\n",
      "Nucifraga caryocatactes with key 2482613 occurs in 60 km squares.\n",
      "Dendrocitta formosae\n",
      "Pterocles exustus\n",
      "Pyrrhocorax graculus\n",
      "Corvus corax\n",
      "Corvus corax with key 2482492 occurs in 466 km squares.\n",
      "Gallus gallus\n",
      "Gallus gallus with key 9326020 occurs in 346 km squares.\n",
      "Cygnus cygnus\n",
      "Cygnus cygnus with key 2498347 occurs in 2281 km squares.\n",
      "Meleagris gallopavo\n",
      "Meleagris gallopavo with key 9606290 occurs in 17 km squares.\n",
      "Vicugna pacos\n",
      "Anas platyrhynchos\n",
      "Anas platyrhynchos with key 9761484 occurs in 14221 km squares.\n",
      "Columba livia\n",
      "Columba livia with key 2495414 occurs in 5170 km squares.\n",
      "Anser anser\n",
      "Anser anser with key 2498036 occurs in 10795 km squares.\n",
      "Anas bahamensis\n",
      "Anas bahamensis with key 2498090 occurs in 252 km squares.\n",
      "Calidris fuscicollis\n",
      "Calidris fuscicollis with key 2481756 occurs in 58 km squares.\n",
      "Chroicocephalus ridibundus\n",
      "Chroicocephalus ridibundus with key 6065824 occurs in 12774 km squares.\n",
      "Cygnus olor\n",
      "Cygnus olor with key 2498343 occurs in 9240 km squares.\n",
      "Larus canus\n",
      "Larus canus with key 7982160 occurs in 9729 km squares.\n",
      "Calidris ruficollis\n",
      "Tadorna tadornoides\n",
      "Tadorna tadornoides with key 2498007 occurs in 7 km squares.\n",
      "Anas gracilis\n",
      "Calidris ferruginea\n",
      "Calidris ferruginea with key 2481741 occurs in 1305 km squares.\n",
      "Anas superciliosa\n",
      "Arenaria interpres\n",
      "Arenaria interpres with key 2481776 occurs in 1201 km squares.\n",
      "Bubulcus ibis\n",
      "Bubulcus ibis with key 2480830 occurs in 1383 km squares.\n",
      "Anas crecca\n",
      "Anas crecca with key 8214667 occurs in 10156 km squares.\n",
      "Larus argentatus\n",
      "Larus argentatus with key 2481139 occurs in 11216 km squares.\n",
      "Egretta picata\n",
      "Passer domesticus\n",
      "Passer domesticus with key 5231190 occurs in 13882 km squares.\n",
      "Phalacrocorax brasilianus\n",
      "Anser cygnoides\n",
      "Anser cygnoides with key 2498034 occurs in 587 km squares.\n",
      "Phasianus colchicus\n",
      "Phasianus colchicus with key 9752149 occurs in 12513 km squares.\n",
      "Coturnix coturnix\n",
      "Coturnix coturnix with key 2474156 occurs in 4123 km squares.\n",
      "Gallinago gallinago\n",
      "Gallinago gallinago with key 2481819 occurs in 9923 km squares.\n"
     ]
    }
   ],
   "source": [
    "for GBIFtaxon in taxaFound.iterrows():\n",
    "    GBIFOccCount = speciesCountInCube(conn, GBIFtaxon[1][0])\n",
    "    print(GBIFtaxon[0])\n",
    "    if GBIFOccCount[0][0] > thresholdForOccNum and GBIFtaxon[0] != taxon: # The threshold for observations is not greater than one, due to all the casual records\n",
    "        taxaFoundInCountry.append({'key': GBIFtaxon[1][0], 'species': GBIFtaxon[0], 'count': GBIFOccCount[0][0]})\n",
    "        print('{0} with key {1} occurs in {2} km squares.'.format(GBIFtaxon[0],GBIFtaxon[1][0],GBIFOccCount[0][0]))\n",
    "    elif GBIFtaxon[0] == taxon:\n",
    "        taxaFoundInCountry.append({'key': GBIFtaxon[1][0], 'species': GBIFtaxon[0], 'count': GBIFOccCount[0][0]})\n",
    "        print('{0} with key {1} occurs in {2} km squares.'.format(GBIFtaxon[0],GBIFtaxon[1][0],GBIFOccCount[0][0]))"
   ]
  },
  {
   "cell_type": "code",
   "execution_count": null,
   "metadata": {},
   "outputs": [],
   "source": [
    "# Convert to a Pandas dataframe\n",
    "taxaFoundInCountry = pd.DataFrame(taxaFoundInCountry)    "
   ]
  },
  {
   "cell_type": "code",
   "execution_count": null,
   "metadata": {},
   "outputs": [],
   "source": [
    "print(\"The number of species left in the network is {0}\".format(len(taxaFoundInCountry)))"
   ]
  },
  {
   "cell_type": "code",
   "execution_count": null,
   "metadata": {
    "scrolled": true
   },
   "outputs": [],
   "source": [
    "taxaFoundInCountry"
   ]
  },
  {
   "cell_type": "markdown",
   "metadata": {},
   "source": [
    "## Drawing a network of the interactions\n",
    "\n",
    "Now that I have a list of all the species in the country I can use this as my nodes list for the network diagram."
   ]
  },
  {
   "cell_type": "code",
   "execution_count": null,
   "metadata": {},
   "outputs": [],
   "source": [
    "#networkx seems to be a leading network tool in Python\n",
    "import networkx as nx\n",
    "import matplotlib.pyplot as plt\n",
    "\n",
    "try:\n",
    "    import pygraphviz\n",
    "    from networkx.drawing.nx_agraph import write_dot\n",
    "    print(\"using package pygraphviz\")\n",
    "except ImportError:\n",
    "    try:\n",
    "        import pydot\n",
    "        from networkx.drawing.nx_pydot import write_dot\n",
    "        print(\"using package pydot\")\n",
    "    except ImportError:\n",
    "        print()\n",
    "        print(\"Both pygraphviz and pydot were not found \")\n",
    "        print(\"see  https://networkx.github.io/documentation/latest/reference/drawing.html\")\n",
    "        print()"
   ]
  },
  {
   "cell_type": "code",
   "execution_count": null,
   "metadata": {},
   "outputs": [],
   "source": [
    "# Create graphic object\n",
    "G = nx.DiGraph()"
   ]
  },
  {
   "cell_type": "code",
   "execution_count": null,
   "metadata": {},
   "outputs": [],
   "source": [
    "# Match colours to interactions to distinguish them on the graph\n",
    "colorInteractions = {'interaction':['pollinates', 'mutualistOf', 'eats', 'visitsFlowersOf', 'hasHost', 'parasiteOf', 'pathogenOf'],\n",
    "        'colour':['r', 'g', 'b', 'y', 'm', 'w', 'c']}  \n",
    "\n",
    "colorInteractionsDf = pd.DataFrame(colorInteractions)\n",
    "\n",
    "#len(list(G.nodes))"
   ]
  },
  {
   "cell_type": "markdown",
   "metadata": {},
   "source": [
    "## A quick look at the interaction data to see if it is what is expected"
   ]
  },
  {
   "cell_type": "code",
   "execution_count": null,
   "metadata": {},
   "outputs": [],
   "source": [
    "#cleanInteractDataTaxon.loc[(cleanInteractDataTaxon[\"sourceTaxonName\"] == 'Apis mellifera') & (cleanInteractDataTaxon[\"targetTaxonName\"] == 'Procyon lotor')]\n",
    "cleanInteractDataTaxon.loc[(cleanInteractDataTaxon[\"sourceTaxonSpeciesName\"] == 'Rousettus aegyptiacus')]"
   ]
  },
  {
   "cell_type": "markdown",
   "metadata": {},
   "source": [
    "## Figure out which node has the most records. This is so that the graphic can be scaled."
   ]
  },
  {
   "cell_type": "code",
   "execution_count": null,
   "metadata": {},
   "outputs": [],
   "source": [
    "if len(taxaFoundInCountry) > 0:\n",
    "    maxRecords = taxaFoundInCountry.max()[\"count\"]\n",
    "    print(maxRecords)"
   ]
  },
  {
   "cell_type": "markdown",
   "metadata": {},
   "source": [
    "### Add the nodes to the graph"
   ]
  },
  {
   "cell_type": "code",
   "execution_count": null,
   "metadata": {},
   "outputs": [],
   "source": [
    "dictOfNodeSizes = {}\n",
    "\n",
    "for index, row in taxaFoundInCountry.iterrows():\n",
    "     # access data using column names\n",
    "    #print('A: ', row['species'], row['count'], row['key'])\n",
    "    G.add_node(row['species'], gbifkey=row['key'], occupancy = row['count'])\n",
    "    #create a list of node sizes scaled for the network visulization\n",
    "    dictOfNodeSizes[row['species']] = int(row['count']/maxRecords*100)"
   ]
  },
  {
   "cell_type": "markdown",
   "metadata": {},
   "source": [
    "### Add edges to the graph"
   ]
  },
  {
   "cell_type": "code",
   "execution_count": null,
   "metadata": {},
   "outputs": [],
   "source": [
    "# iterate over the interacting species that are in GBIF and in the country with iterrows()\n",
    "# Find the taxa found in the country that are in the source taxon name of the interation data,\n",
    "# then add the edge if the target species is in the country too.\n",
    "\n",
    "taxaFoundInCountry_copy = taxaFoundInCountry.copy()\n",
    "\n",
    "for index, row in taxaFoundInCountry.iterrows():\n",
    "    # loop over all the taxa finding if any of them are mentioned in the sourceTaxonName field\n",
    "    for edge in cleanInteractDataTaxon.iterrows():\n",
    "        if row['species'] == edge[1]['sourceTaxonSpeciesName']:\n",
    "            #print('B: ', edge[1]['sourceTaxonName'], edge[1]['targetTaxonName'])\n",
    "            # Some of the target species will not be in GBIF of in the country, so only add an edge where they are.\n",
    "            for index2, row2 in taxaFoundInCountry_copy.iterrows():\n",
    "                #print('E: ', row2['species'], edge[1]['targetTaxonName'])\n",
    "                if row2['species'] == edge[1]['targetTaxonSpeciesName']: \n",
    "                    print('C: ', edge[1]['targetTaxonSpeciesName'], row['species'], edge[1]['interactionTypeName'])\n",
    "                    G.add_edge(row['species'], edge[1]['targetTaxonSpeciesName'], label = edge[1]['interactionTypeName'])\n",
    "                    \n",
    "#len(list(G.nodes))\n"
   ]
  },
  {
   "cell_type": "code",
   "execution_count": null,
   "metadata": {},
   "outputs": [],
   "source": [
    "# iterate over rows with iterrows()\n",
    "\n",
    "# Find the taxa found in the country that are in the target taxon name of the interation data,\n",
    "# then add the edge if the source species is in the country too.\n",
    "\n",
    "for index, row in taxaFoundInCountry.iterrows():\n",
    "    for edge in cleanInteractDataTaxon.iterrows():\n",
    "        if row['species'] == edge[1]['targetTaxonName']:\n",
    "            #print('D: ', edge[1]['sourceTaxonName'], edge[1]['targetTaxonName'])\n",
    "            #G.add_node(edge[1]['sourceTaxonName'], gbifkey=row['key'])\n",
    "            #dictOfNodeSizes[edge[1]['sourceTaxonName']] = int(row['count']/maxRecords*100)\n",
    "            for index2, row2 in taxaFoundInCountry.iterrows():\n",
    "                #print('E: ', row2['species'])\n",
    "                if row2['species'] == edge[1]['sourceTaxonSpeciesName']: \n",
    "                    print('F: ', edge[1]['sourceTaxonSpeciesName'],edge[1]['targetTaxonSpeciesName'],edge[1]['interactionTypeName'])\n",
    "                    G.add_edge(edge[1]['sourceTaxonSpeciesName'], row2['species'], label = edge[1]['interactionTypeName'])"
   ]
  },
  {
   "cell_type": "code",
   "execution_count": null,
   "metadata": {},
   "outputs": [],
   "source": [
    "print(\"Number of nodes = {0}\".format(G.number_of_nodes()))\n",
    "print(\"Number of edges = {0}\".format(G.number_of_edges()))"
   ]
  },
  {
   "cell_type": "code",
   "execution_count": null,
   "metadata": {},
   "outputs": [],
   "source": [
    "len(dictOfNodeSizes)"
   ]
  },
  {
   "cell_type": "markdown",
   "metadata": {},
   "source": [
    "## Remove any nodes that have no edges.\n",
    "This happens because some of the linking nodes have few supporting observations and so have been weeded out\n"
   ]
  },
  {
   "cell_type": "code",
   "execution_count": null,
   "metadata": {},
   "outputs": [],
   "source": [
    "#for n in G.nodes:\n",
    "#    if G.degree(n) == 0:\n",
    "#        G.remove_node(n)\n",
    "        \n",
    "G.remove_nodes_from(list(nx.isolates(G)))"
   ]
  },
  {
   "cell_type": "code",
   "execution_count": null,
   "metadata": {},
   "outputs": [],
   "source": [
    "len(G.nodes)"
   ]
  },
  {
   "cell_type": "markdown",
   "metadata": {},
   "source": [
    "## Remove any selfloop edges"
   ]
  },
  {
   "cell_type": "code",
   "execution_count": null,
   "metadata": {},
   "outputs": [],
   "source": [
    "for e in G.selfloop_edges(data=False):\n",
    "    G.remove_edge(e[0],e[1])"
   ]
  },
  {
   "cell_type": "markdown",
   "metadata": {},
   "source": [
    "## Run through the list of nodes again and construct a list of the node sizes in the correct order"
   ]
  },
  {
   "cell_type": "code",
   "execution_count": null,
   "metadata": {},
   "outputs": [],
   "source": [
    "listOfNodeSizes = []\n",
    "\n",
    "for node in G.nodes:\n",
    "    listOfNodeSizes.append(dictOfNodeSizes[node])"
   ]
  },
  {
   "cell_type": "markdown",
   "metadata": {},
   "source": [
    "## A network of all the interacting taxa"
   ]
  },
  {
   "cell_type": "code",
   "execution_count": null,
   "metadata": {},
   "outputs": [],
   "source": [
    "plt.figure(figsize=(15,15))\n",
    "edge_labels = nx.get_edge_attributes(G,'label')\n",
    "\n",
    "#pos = nx.spring_layout(G, iterations=50, k=50) \n",
    "#pos = nx.spring_layout(G)\n",
    "#pos = nx.random_layout(G)\n",
    "pos = nx.circular_layout(G)\n",
    "#pos = nx.spectral_layout(G)\n",
    "#pos = nx.shell_layout(G, scale=1)\n",
    "\n",
    "nodeColors = nx.get_node_attributes(G,'color')\n",
    "\n",
    "nx.draw_networkx_edge_labels(G,pos, edge_labels = edge_labels, font_size=10, font_color='blue')\n",
    "\n",
    "#nx.draw_networkx_nodes(G, pos, node_color=nodeColors.values())\n",
    "\n",
    "nx.draw_networkx(G, pos, with_labels=True, node_size = listOfNodeSizes, node_color='c', alpha= 1, arrows=True, \n",
    "                    linewidths=1, font_color=\"black\", font_size=10, style = 'dashed')\n",
    "\n",
    "plt.axis('off')\n",
    "plt.tight_layout()\n",
    "plt.show()"
   ]
  },
  {
   "cell_type": "code",
   "execution_count": null,
   "metadata": {},
   "outputs": [],
   "source": [
    "filename = \"..\\\\docs\\\\\"+taxon+country+\".html\"\n",
    "with open(filename, \"w\") as file:\n",
    "    file.write(\" \\\n",
    "<!DOCTYPE html> \\\n",
    "<html> \\\n",
    "<head> \\\n",
    "<script src='../../../GitHub\\cytoscape.js\\dist\\cytoscape.min.js'></script> \\\n",
    "<script src='https://unpkg.com/layout-base/layout-base.js'></script> \\\n",
    "<script src='https://unpkg.com/cose-base/cose-base.js'></script> \\\n",
    "<script src='../../../GitHub\\cytoscape.js-cose-bilkent\\cytoscape-cose-bilkent.js'></script> \\\n",
    "</head> \\\n",
    "<style>#cy {width: 90%; height: 90%; position: absolute; top: 50px; left: 150px;}\\\n",
    "body {font-family: 'times; font-size: 6px;}\\\n",
    "</style> \\\n",
    "<body> \\\n",
    "<h1><em font-style: italic;>\"+taxon+\"</em> in \"+country+\"</h1>\")"
   ]
  },
  {
   "cell_type": "markdown",
   "metadata": {},
   "source": [
    "### Write out the details of the species"
   ]
  },
  {
   "cell_type": "code",
   "execution_count": null,
   "metadata": {},
   "outputs": [],
   "source": [
    "with open(filename, \"a\") as file:\n",
    "    file.write(\"<table><th>Interaction</th><th>number</th>\")\n",
    "    "
   ]
  },
  {
   "cell_type": "code",
   "execution_count": null,
   "metadata": {},
   "outputs": [],
   "source": [
    "species = G.nodes\n",
    "#with open(filename, \"a\") as file:\n",
    "#    for n in species:\n",
    "#        file.write(\"<tr><td><a target='_blank' href=https://www.gbif.org/species/\"+str(nx.get_node_attributes(G, 'gbifkey')[n])+\">\"+n+\"</a></td><td>\"+str(dictOfNodeSizes[n])+\"</td>\\n\")"
   ]
  },
  {
   "cell_type": "code",
   "execution_count": null,
   "metadata": {},
   "outputs": [],
   "source": [
    "with open(filename, \"a\") as file:\n",
    "    file.write(\"GloBI claims the following interations for \" + taxon + \"<br />\") \n",
    "    for n in sourceInteractions:\n",
    "        file.write(\"<tr><td><a target='_blank' href=https://www.gbif.org/species/\"+str(n[0])+\">\"+str(n[0])+\"</a></td><td>\"+str(n[1])+\"</td>\\n\")\n"
   ]
  },
  {
   "cell_type": "code",
   "execution_count": null,
   "metadata": {},
   "outputs": [],
   "source": [
    "with open(filename, \"a\") as file:\n",
    "    file.write(\"</table>\")    \n",
    "file.close()"
   ]
  },
  {
   "cell_type": "code",
   "execution_count": null,
   "metadata": {},
   "outputs": [],
   "source": [
    "with open(filename, \"a\") as file:\n",
    "    file.write(\" \\\n",
    "<div id='cy'></div> \\\n",
    "<script> \\\n",
    "var cy = cytoscape({ \\\n",
    "  container: document.getElementById('cy'), \\n \\\n",
    "  elements: [ \\\n",
    "\")"
   ]
  },
  {
   "cell_type": "markdown",
   "metadata": {},
   "source": [
    "### Write nodes to file"
   ]
  },
  {
   "cell_type": "code",
   "execution_count": null,
   "metadata": {},
   "outputs": [],
   "source": [
    "file = open(filename, \"a\")\n",
    "for n in species:\n",
    "    if n == taxon:\n",
    "        file.write(\"{ data: { id: '\"+n+\"', href: 'https://www.gbif.org/species/\"+str(nx.get_node_attributes(G, 'gbifkey')[n])+\"', occnum: \"+str(dictOfNodeSizes[n])+\" }, selectable: true,},\\n\")\n",
    "    else:\n",
    "        file.write(\"{ data: { id: '\"+n+\"', href: 'https://www.gbif.org/species/\"+str(nx.get_node_attributes(G, 'gbifkey')[n])+\"', occnum: \"+str(dictOfNodeSizes[n])+\" }, selectable: false,},\\n\")\n",
    "file.close()"
   ]
  },
  {
   "cell_type": "markdown",
   "metadata": {},
   "source": [
    "### Write edges to file"
   ]
  },
  {
   "cell_type": "code",
   "execution_count": null,
   "metadata": {},
   "outputs": [],
   "source": [
    "file = open(filename, \"a\")\n",
    "for edge in G.edges:\n",
    "    file.write(\"{data: {id: '\"+edge[0]+edge[1]+\"', source: '\"+edge[0]+\"', target: '\"+edge[1]+\"', label: '\"+nx.get_edge_attributes(G, 'label')[edge]+\"'}},\\n\")\n",
    "file.close()\n",
    "    "
   ]
  },
  {
   "cell_type": "code",
   "execution_count": null,
   "metadata": {},
   "outputs": [],
   "source": [
    "with open(filename, \"a\") as file:\n",
    "    file.write(\"], \\\n",
    "style: [ \\n\\\n",
    "        { \\n\\\n",
    "            selector: 'node', \\n\\\n",
    "            style: { \\n\\\n",
    "                shape: 'circle', \\n\\\n",
    "                'background-color': 'darkgreen', \\n\\\n",
    "                label: 'data(id)', \\n\\\n",
    "                'font-family': 'helvetica', \\n\\\n",
    "                'font-style': 'italic', \\n\\\n",
    "                'font-size': '8px', \\n\\\n",
    "                'border-width': '1', \\n\\\n",
    "                'border-color': 'black', \\n\\\n",
    "                'width': 'mapData(occnum, 0, 400, 3, 200)', \\n\\\n",
    "                'height': 'mapData(occnum, 0, 400, 3, 200)' \\n\\\n",
    "            } \\n\\\n",
    "        },  \\n\\\n",
    "        {  \\n\\\n",
    "            selector: 'edge',  \\n\\\n",
    "            style: {  \\n\\\n",
    "                label: 'data(label)', \\n\\\n",
    "                'font-family': 'helvetica', \\n\\\n",
    "                'font-size': '6px', \\n\\\n",
    "                'color': 'blue', \\n\\\n",
    "                'curve-style': 'bezier', \\n\\\n",
    "                'target-arrow-shape': 'triangle',  \\n\\\n",
    "                'width': '1' \\n\\\n",
    "                } \\n\\\n",
    "            },  \\n\\\n",
    "            {  \\n\\\n",
    "              selector: ':selected',   \\n\\\n",
    "              css: {  \\n\\\n",
    "                'line-color': 'red',  \\n\\\n",
    "                'background-color': 'red'  \\n\\\n",
    "            }  \\n\\\n",
    "        }], \\n\\\n",
    "layout:  { \\n\\\n",
    "            name: 'cose-bilkent', padding: 1, animate: true, gravity: 30, animationDuration: 3000 \\n\\\n",
    "     } \\n\\\n",
    "} \\n\\\n",
    "); \\n\\\n",
    "\")"
   ]
  },
  {
   "cell_type": "code",
   "execution_count": null,
   "metadata": {},
   "outputs": [],
   "source": [
    "with open(filename, \"a\") as file:\n",
    "    file.write(\"cy.userZoomingEnabled( true ); \\n\\\n",
    "    cy.getElementById('\"+taxon+\"').select(); \\n\\\n",
    "    document.write('Degree of node <em>\"+fullScientificName+\"</em> = '+cy.getElementById('\"+taxon+\"').degree()); \\n\\\n",
    "    cy.on('tap', 'node', function(){ \\n\\\n",
    "        try { // your browser may block popups \\n\\\n",
    "              window.open( this.data('href') ); \\n\\\n",
    "            } catch(e){ // fall back on url change \\n\\\n",
    "        window.location.href = this.data('href'); \\n\\\n",
    "    } \\n\\\n",
    "}); \\n\\\n",
    "</script> \\n\\\n",
    "\")"
   ]
  },
  {
   "cell_type": "code",
   "execution_count": null,
   "metadata": {},
   "outputs": [],
   "source": []
  },
  {
   "cell_type": "code",
   "execution_count": null,
   "metadata": {},
   "outputs": [],
   "source": [
    "with open(filename, \"a\") as file:\n",
    "    file.write(\"</ul> \\\n",
    "        </body> \\\n",
    "        </html>\")"
   ]
  },
  {
   "cell_type": "code",
   "execution_count": null,
   "metadata": {},
   "outputs": [],
   "source": [
    "file.close()"
   ]
  },
  {
   "cell_type": "code",
   "execution_count": null,
   "metadata": {},
   "outputs": [],
   "source": [
    "#with open(filename, \"a\") as file:\n",
    "#    file.write(\"<h2>References</h2><ul>\\n\")"
   ]
  },
  {
   "cell_type": "code",
   "execution_count": null,
   "metadata": {},
   "outputs": [],
   "source": [
    "citations = cleanInteractDataTaxon['sourceCitation'].unique()\n",
    "#file = open(filename, \"a\")\n",
    "for ref in citations:\n",
    "    print(\"* \",str(ref))\n",
    "#    file.write(\"<li>\"+str(ref)+\"</li>\\n\")\n",
    "#file.close()"
   ]
  },
  {
   "cell_type": "markdown",
   "metadata": {},
   "source": [
    "### For import into Gephi: A nodes and edges file has been replace by the .dot file format"
   ]
  },
  {
   "cell_type": "code",
   "execution_count": null,
   "metadata": {},
   "outputs": [],
   "source": [
    "write_dot(G, taxon+\".dot\")"
   ]
  },
  {
   "cell_type": "code",
   "execution_count": null,
   "metadata": {},
   "outputs": [],
   "source": []
  }
 ],
 "metadata": {
  "kernelspec": {
   "display_name": "Python 3",
   "language": "python",
   "name": "python3"
  },
  "language_info": {
   "codemirror_mode": {
    "name": "ipython",
    "version": 3
   },
   "file_extension": ".py",
   "mimetype": "text/x-python",
   "name": "python",
   "nbconvert_exporter": "python",
   "pygments_lexer": "ipython3",
   "version": "3.7.3"
  }
 },
 "nbformat": 4,
 "nbformat_minor": 2
}
